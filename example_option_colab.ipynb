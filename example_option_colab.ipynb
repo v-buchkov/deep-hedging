{
 "cells": [
  {
   "cell_type": "markdown",
   "metadata": {
    "id": "41VE08_pyFuR"
   },
   "source": [
    "# **Deep Hedging**\n",
    "# Buchkov Viacheslav"
   ]
  },
  {
   "cell_type": "code",
   "execution_count": null,
   "metadata": {
    "colab": {
     "base_uri": "https://localhost:8080/"
    },
    "id": "MEJF8RF3WZU6",
    "outputId": "a0c10f66-61d0-4805-e320-15e416f7a4de"
   },
   "source": [
    "!git clone https://github.com/v-buchkov/deep-hedging.git"
   ],
   "outputs": []
  },
  {
   "cell_type": "code",
   "execution_count": null,
   "metadata": {
    "id": "EE_kb6jfWasf"
   },
   "source": [
    "import sys\n",
    "\n",
    "sys.path.insert(0, \"/content/deep-hedging\")"
   ],
   "outputs": []
  },
  {
   "cell_type": "code",
   "execution_count": null,
   "metadata": {
    "collapsed": true,
    "id": "LKcSNj4tlRVK"
   },
   "source": [
    "from pathlib import Path\n",
    "\n",
    "from deep_hedging import ExperimentConfig, EuropeanCall, seed_everything\n",
    "from deep_hedging.dl import SpotDataset, Trainer, Assessor\n",
    "from deep_hedging.dl.models import LSTMHedger\n",
    "from deep_hedging.dl.baselines import BaselineEuropeanCall\n",
    "\n",
    "RANDOM_SEED = 12"
   ],
   "outputs": []
  },
  {
   "cell_type": "code",
   "execution_count": null,
   "metadata": {
    "colab": {
     "background_save": true
    },
    "id": "WkBxvL8xWxh-",
    "outputId": "9327e384-d67e-4807-e136-6cbbd117ca1f"
   },
   "source": [
    "from google.colab import drive\n",
    "\n",
    "drive.mount(\"/content/gdrive\", force_remount=True)\n",
    "\n",
    "PATH = Path(\"/content/gdrive/MyDrive/\")"
   ],
   "outputs": []
  },
  {
   "cell_type": "code",
   "execution_count": null,
   "metadata": {
    "colab": {
     "background_save": true
    },
    "id": "xXvLUa_KWVqR",
    "outputId": "7136e23a-9215-43b8-92e0-d398046924db"
   },
   "source": [
    "config = ExperimentConfig(\n",
    "    RANDOM_SEED=RANDOM_SEED, DATA_ROOT=PATH, OUTPUT_ROOT=Path(\".\"), DATA_FILENAME=\"2024\"\n",
    ")\n",
    "seed_everything(RANDOM_SEED)\n",
    "\n",
    "config.DEVICE"
   ],
   "outputs": []
  },
  {
   "cell_type": "code",
   "execution_count": null,
   "metadata": {
    "colab": {
     "background_save": true
    },
    "id": "5efXmCMgWVqS",
    "outputId": "fb4ac1c7-2995-4cfd-e161-b7982fed3365"
   },
   "source": [
    "print(config)"
   ],
   "outputs": []
  },
  {
   "cell_type": "markdown",
   "metadata": {
    "id": "cty5h8mOOnas"
   },
   "source": [
    "## Dataset."
   ]
  },
  {
   "cell_type": "code",
   "execution_count": null,
   "metadata": {
    "colab": {
     "background_save": true
    },
    "id": "uARQpAIhOnat",
    "outputId": "52ec2e84-6ddc-4cec-f29d-686c5fa355e4"
   },
   "source": [
    "spot_dataset = SpotDataset(\n",
    "    n_days=config.N_DAYS, instrument_cls=EuropeanCall, config=config\n",
    ")\n",
    "spot_dataset.df.head()"
   ],
   "outputs": []
  },
  {
   "cell_type": "markdown",
   "metadata": {
    "id": "Cqit4uPZWVqU"
   },
   "source": [
    "## Run."
   ]
  },
  {
   "cell_type": "code",
   "execution_count": null,
   "metadata": {
    "colab": {
     "background_save": true,
     "base_uri": "https://localhost:8080/",
     "height": 405
    },
    "id": "JgXZNW9cWVqU",
    "outputId": "61054f49-f6b2-46e8-c0cb-2b04052935e4"
   },
   "source": [
    "N_EPOCHS = 10\n",
    "config.REBAL_FREQ = \"30 min\"\n",
    "\n",
    "trainer = Trainer(model_cls=LSTMHedger, instrument_cls=EuropeanCall, config=config)\n",
    "trainer.run(N_EPOCHS)"
   ],
   "outputs": []
  },
  {
   "cell_type": "markdown",
   "metadata": {
    "id": "hvfAlvWfWVqU"
   },
   "source": [
    "## Baseline check."
   ]
  },
  {
   "cell_type": "code",
   "execution_count": null,
   "metadata": {
    "colab": {
     "background_save": true
    },
    "id": "08hBz4JNWSsB"
   },
   "source": [
    "%load_ext autoreload\n",
    "%autoreload 2"
   ],
   "outputs": []
  },
  {
   "cell_type": "code",
   "execution_count": null,
   "metadata": {
    "colab": {
     "background_save": true
    },
    "id": "Owu7Rk9xWVqV",
    "outputId": "20d8e4b2-829f-449b-c5de-172d78d3d31f"
   },
   "source": [
    "from deep_hedging.dl import Assessor\n",
    "\n",
    "assessor = Assessor(\n",
    "    model=trainer.hedger,\n",
    "    baseline=BaselineEuropeanCall(dt=trainer.dt).to(config.DEVICE),\n",
    "    test_loader=trainer.test_loader,\n",
    ")\n",
    "assessor.run()"
   ],
   "outputs": []
  },
  {
   "cell_type": "code",
   "execution_count": null,
   "metadata": {
    "colab": {
     "background_save": true
    },
    "id": "u-XpwChzWVqV"
   },
   "source": [
    "trainer.save(config.OUTPUT_ROOT)"
   ],
   "outputs": []
  }
 ],
 "metadata": {
  "accelerator": "GPU",
  "colab": {
   "gpuType": "T4",
   "machine_shape": "hm",
   "provenance": []
  },
  "kernelspec": {
   "display_name": "Python 3 (ipykernel)",
   "language": "python",
   "name": "python3"
  },
  "language_info": {
   "codemirror_mode": {
    "name": "ipython",
    "version": 3
   },
   "file_extension": ".py",
   "mimetype": "text/x-python",
   "name": "python",
   "nbconvert_exporter": "python",
   "pygments_lexer": "ipython3",
   "version": "3.8.5"
  },
  "max_cell_id": 35
 },
 "nbformat": 4,
 "nbformat_minor": 0
}
