{
 "cells": [
  {
   "metadata": {
    "ExecuteTime": {
     "end_time": "2024-07-10T13:08:40.460562Z",
     "start_time": "2024-07-10T13:08:40.449227Z"
    }
   },
   "cell_type": "code",
   "source": [
    "%load_ext autoreload\n",
    "%autoreload 2"
   ],
   "id": "e421301afe52a50e",
   "outputs": [],
   "execution_count": 1
  },
  {
   "metadata": {
    "ExecuteTime": {
     "end_time": "2024-07-10T13:08:42.033737Z",
     "start_time": "2024-07-10T13:08:40.461722Z"
    }
   },
   "cell_type": "code",
   "source": [
    "from pathlib import Path\n",
    "import datetime as dt\n",
    "\n",
    "import numpy as np\n",
    "import pandas as pd\n",
    "\n",
    "from deep_hedging import Ticker, Underlyings, NelsonSiegelCurve\n",
    "from deep_hedging.monte_carlo import GBMPricer\n",
    "from deep_hedging.non_linear.exotic.basket.worst_of_digital import WorstOfDigitalCall\n",
    "\n",
    "RANDOM_SEED = 12\n",
    "PATH = Path(\"../../data/\")"
   ],
   "id": "initial_id",
   "outputs": [],
   "execution_count": 2
  },
  {
   "metadata": {
    "ExecuteTime": {
     "end_time": "2024-07-10T13:08:42.049508Z",
     "start_time": "2024-07-10T13:08:42.035325Z"
    }
   },
   "cell_type": "code",
   "source": [
    "N_YEARS = 5\n",
    "N_PATHS = 1_000\n",
    "\n",
    "FIXING = dt.datetime(2021, 4, 19)\n",
    "FINAL_FIXING = dt.datetime(2024, 4, 17)"
   ],
   "id": "9e4cd491f931fbc0",
   "outputs": [],
   "execution_count": 3
  },
  {
   "metadata": {
    "ExecuteTime": {
     "end_time": "2024-07-10T13:08:43.639028Z",
     "start_time": "2024-07-10T13:08:42.050237Z"
    }
   },
   "cell_type": "code",
   "source": [
    "underlyings = Underlyings(\n",
    "    tickers=[\n",
    "        Ticker(\"Sanofi\", \"SAN.PA\"),\n",
    "        Ticker(\"GlaxoSmithKline PLC\", \"GSK.L\"),\n",
    "        Ticker(\"Bayer AG\", \"BAYN.DE\"),\n",
    "    ],\n",
    "    start=N_YEARS,\n",
    "    end=FIXING,\n",
    ")"
   ],
   "id": "44941e33b24bd4c0",
   "outputs": [
    {
     "name": "stderr",
     "output_type": "stream",
     "text": [
      "[*********************100%%**********************]  3 of 3 completed\n"
     ]
    }
   ],
   "execution_count": 4
  },
  {
   "metadata": {
    "ExecuteTime": {
     "end_time": "2024-07-10T13:08:43.670187Z",
     "start_time": "2024-07-10T13:08:43.640707Z"
    }
   },
   "cell_type": "code",
   "source": [
    "nss_params = pd.read_csv(PATH / \"rub_nss.csv\", sep=\";\")\n",
    "rub_params = nss_params[\n",
    "    nss_params[\"tradedate\"] == f\"{FIXING.strftime('%d.%m.%Y')}\"\n",
    "].loc[:, [\"B1\", \"B2\", \"B3\", \"T1\"]]\n",
    "rub_params = rub_params.replace(\",\", \".\", regex=True).astype(float)\n",
    "rub_params"
   ],
   "id": "22022c2785fd3da2",
   "outputs": [
    {
     "data": {
      "text/plain": [
       "              B1          B2          B3        T1\n",
       "1833  744.953996 -273.365215 -271.811557  0.905105"
      ],
      "text/html": [
       "<div>\n",
       "<style scoped>\n",
       "    .dataframe tbody tr th:only-of-type {\n",
       "        vertical-align: middle;\n",
       "    }\n",
       "\n",
       "    .dataframe tbody tr th {\n",
       "        vertical-align: top;\n",
       "    }\n",
       "\n",
       "    .dataframe thead th {\n",
       "        text-align: right;\n",
       "    }\n",
       "</style>\n",
       "<table border=\"1\" class=\"dataframe\">\n",
       "  <thead>\n",
       "    <tr style=\"text-align: right;\">\n",
       "      <th></th>\n",
       "      <th>B1</th>\n",
       "      <th>B2</th>\n",
       "      <th>B3</th>\n",
       "      <th>T1</th>\n",
       "    </tr>\n",
       "  </thead>\n",
       "  <tbody>\n",
       "    <tr>\n",
       "      <th>1833</th>\n",
       "      <td>744.953996</td>\n",
       "      <td>-273.365215</td>\n",
       "      <td>-271.811557</td>\n",
       "      <td>0.905105</td>\n",
       "    </tr>\n",
       "  </tbody>\n",
       "</table>\n",
       "</div>"
      ]
     },
     "execution_count": 5,
     "metadata": {},
     "output_type": "execute_result"
    }
   ],
   "execution_count": 5
  },
  {
   "metadata": {
    "ExecuteTime": {
     "end_time": "2024-07-10T13:08:43.692197Z",
     "start_time": "2024-07-10T13:08:43.671925Z"
    }
   },
   "cell_type": "code",
   "source": [
    "curve = NelsonSiegelCurve(\n",
    "    b0=rub_params.B1.values[0] / 100,\n",
    "    b1=rub_params.B2.values[0] / 100,\n",
    "    b2=rub_params.B3.values[0] / 100,\n",
    "    tau=rub_params.T1.values[0] / 100,\n",
    ")\n",
    "curve.get_rate(1.0)"
   ],
   "id": "dd9f59860f14109c",
   "outputs": [
    {
     "data": {
      "text/plain": [
       "0.07400815995797354"
      ]
     },
     "execution_count": 6,
     "metadata": {},
     "output_type": "execute_result"
    }
   ],
   "execution_count": 6
  },
  {
   "metadata": {
    "ExecuteTime": {
     "end_time": "2024-07-10T13:08:46.322494Z",
     "start_time": "2024-07-10T13:08:43.693271Z"
    }
   },
   "cell_type": "code",
   "source": [
    "worst_of_digital = WorstOfDigitalCall(\n",
    "    underlyings=underlyings,\n",
    "    yield_curve=curve,\n",
    "    strike_level=1.0,\n",
    "    frequency=0.5,\n",
    "    start_date=FIXING,\n",
    "    end_date=FINAL_FIXING,\n",
    "    digital_coupon=0.05,\n",
    ")\n",
    "price = worst_of_digital.price(spot=[1.0, 1.0, 1.0])\n",
    "print(f\"{price:,.4f}\")"
   ],
   "id": "f97fee087747168b",
   "outputs": [
    {
     "name": "stdout",
     "output_type": "stream",
     "text": [
      "0.0433\n"
     ]
    }
   ],
   "execution_count": 7
  }
 ],
 "metadata": {
  "kernelspec": {
   "display_name": "Python 3",
   "language": "python",
   "name": "python3"
  },
  "language_info": {
   "codemirror_mode": {
    "name": "ipython",
    "version": 2
   },
   "file_extension": ".py",
   "mimetype": "text/x-python",
   "name": "python",
   "nbconvert_exporter": "python",
   "pygments_lexer": "ipython2",
   "version": "2.7.6"
  }
 },
 "nbformat": 4,
 "nbformat_minor": 5
}
