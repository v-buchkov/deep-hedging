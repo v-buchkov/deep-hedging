{
 "cells": [
  {
   "metadata": {
    "ExecuteTime": {
     "end_time": "2024-07-11T12:09:56.273622Z",
     "start_time": "2024-07-11T12:09:56.261627Z"
    }
   },
   "cell_type": "code",
   "source": [
    "%load_ext autoreload\n",
    "%autoreload 2"
   ],
   "id": "e421301afe52a50e",
   "outputs": [],
   "execution_count": 1
  },
  {
   "metadata": {
    "ExecuteTime": {
     "end_time": "2024-07-11T12:09:57.733485Z",
     "start_time": "2024-07-11T12:09:56.274867Z"
    }
   },
   "cell_type": "code",
   "source": [
    "from pathlib import Path\n",
    "import datetime as dt\n",
    "\n",
    "import numpy as np\n",
    "import pandas as pd\n",
    "\n",
    "from deep_hedging import Ticker, Underlyings, NelsonSiegelCurve\n",
    "from deep_hedging.non_linear.exotic.basket import WorstOfDigitalCall\n",
    "from deep_hedging.non_linear.exotic.quanto import QuantoOption\n",
    "\n",
    "RANDOM_SEED = 12\n",
    "PATH = Path(\"../../data/\")"
   ],
   "id": "initial_id",
   "outputs": [],
   "execution_count": 2
  },
  {
   "metadata": {
    "ExecuteTime": {
     "end_time": "2024-07-11T12:09:57.746935Z",
     "start_time": "2024-07-11T12:09:57.734193Z"
    }
   },
   "cell_type": "code",
   "source": [
    "N_YEARS = 5\n",
    "N_PATHS = 1_000\n",
    "\n",
    "FIXING = dt.datetime(2021, 4, 19)\n",
    "FINAL_FIXING = dt.datetime(2024, 4, 17)"
   ],
   "id": "9e4cd491f931fbc0",
   "outputs": [],
   "execution_count": 3
  },
  {
   "metadata": {
    "ExecuteTime": {
     "end_time": "2024-07-11T12:09:58.852828Z",
     "start_time": "2024-07-11T12:09:57.747563Z"
    }
   },
   "cell_type": "code",
   "source": [
    "underlyings = Underlyings(\n",
    "    tickers=[\n",
    "        Ticker(\"Sanofi\", \"SAN.PA\"),\n",
    "        Ticker(\"GlaxoSmithKline PLC\", \"GSK.L\"),\n",
    "        Ticker(\"Bayer AG\", \"BAYN.DE\"),\n",
    "    ],\n",
    "    start=N_YEARS,\n",
    "    end=FIXING,\n",
    ")"
   ],
   "id": "44941e33b24bd4c0",
   "outputs": [
    {
     "name": "stderr",
     "output_type": "stream",
     "text": [
      "[*********************100%%**********************]  3 of 3 completed\n"
     ]
    }
   ],
   "execution_count": 4
  },
  {
   "metadata": {
    "ExecuteTime": {
     "end_time": "2024-07-11T12:09:59.388204Z",
     "start_time": "2024-07-11T12:09:58.854408Z"
    }
   },
   "cell_type": "code",
   "source": [
    "fx = Underlyings(\n",
    "    tickers=[\n",
    "        Ticker(\"EURRUB\", \"EURRUB=X\"),\n",
    "        Ticker(\"GBPRUB\", \"GBPRUB=X\"),\n",
    "        Ticker(\"EURRUB\", \"EURRUB=X\"),\n",
    "    ],\n",
    "    start=N_YEARS,\n",
    "    end=FIXING,\n",
    ")\n",
    "fx.data"
   ],
   "id": "12fc61d647c566ee",
   "outputs": [
    {
     "name": "stderr",
     "output_type": "stream",
     "text": [
      "[*********************100%%**********************]  2 of 2 completed\n"
     ]
    },
    {
     "data": {
      "text/plain": [
       "Ticker       EURRUB=X    GBPRUB=X  EURRUB=X_2\n",
       "Date                                         \n",
       "2004-02-13  36.470001   53.591999   36.470001\n",
       "2004-04-01  34.990002   52.884998   34.990002\n",
       "2004-07-27  35.070000   52.995998   35.070000\n",
       "2005-01-17  36.619999   52.074001   36.619999\n",
       "2005-02-22  36.689999   53.369999   36.689999\n",
       "...               ...         ...         ...\n",
       "2021-04-12  92.128601  106.120071   92.128601\n",
       "2021-04-13  92.092499  106.289673   92.092499\n",
       "2021-04-14  90.795601  104.455833   90.795601\n",
       "2021-04-15  91.128502  104.730888   91.128502\n",
       "2021-04-16  91.099602  104.870773   91.099602\n",
       "\n",
       "[3957 rows x 3 columns]"
      ],
      "text/html": [
       "<div>\n",
       "<style scoped>\n",
       "    .dataframe tbody tr th:only-of-type {\n",
       "        vertical-align: middle;\n",
       "    }\n",
       "\n",
       "    .dataframe tbody tr th {\n",
       "        vertical-align: top;\n",
       "    }\n",
       "\n",
       "    .dataframe thead th {\n",
       "        text-align: right;\n",
       "    }\n",
       "</style>\n",
       "<table border=\"1\" class=\"dataframe\">\n",
       "  <thead>\n",
       "    <tr style=\"text-align: right;\">\n",
       "      <th>Ticker</th>\n",
       "      <th>EURRUB=X</th>\n",
       "      <th>GBPRUB=X</th>\n",
       "      <th>EURRUB=X_2</th>\n",
       "    </tr>\n",
       "    <tr>\n",
       "      <th>Date</th>\n",
       "      <th></th>\n",
       "      <th></th>\n",
       "      <th></th>\n",
       "    </tr>\n",
       "  </thead>\n",
       "  <tbody>\n",
       "    <tr>\n",
       "      <th>2004-02-13</th>\n",
       "      <td>36.470001</td>\n",
       "      <td>53.591999</td>\n",
       "      <td>36.470001</td>\n",
       "    </tr>\n",
       "    <tr>\n",
       "      <th>2004-04-01</th>\n",
       "      <td>34.990002</td>\n",
       "      <td>52.884998</td>\n",
       "      <td>34.990002</td>\n",
       "    </tr>\n",
       "    <tr>\n",
       "      <th>2004-07-27</th>\n",
       "      <td>35.070000</td>\n",
       "      <td>52.995998</td>\n",
       "      <td>35.070000</td>\n",
       "    </tr>\n",
       "    <tr>\n",
       "      <th>2005-01-17</th>\n",
       "      <td>36.619999</td>\n",
       "      <td>52.074001</td>\n",
       "      <td>36.619999</td>\n",
       "    </tr>\n",
       "    <tr>\n",
       "      <th>2005-02-22</th>\n",
       "      <td>36.689999</td>\n",
       "      <td>53.369999</td>\n",
       "      <td>36.689999</td>\n",
       "    </tr>\n",
       "    <tr>\n",
       "      <th>...</th>\n",
       "      <td>...</td>\n",
       "      <td>...</td>\n",
       "      <td>...</td>\n",
       "    </tr>\n",
       "    <tr>\n",
       "      <th>2021-04-12</th>\n",
       "      <td>92.128601</td>\n",
       "      <td>106.120071</td>\n",
       "      <td>92.128601</td>\n",
       "    </tr>\n",
       "    <tr>\n",
       "      <th>2021-04-13</th>\n",
       "      <td>92.092499</td>\n",
       "      <td>106.289673</td>\n",
       "      <td>92.092499</td>\n",
       "    </tr>\n",
       "    <tr>\n",
       "      <th>2021-04-14</th>\n",
       "      <td>90.795601</td>\n",
       "      <td>104.455833</td>\n",
       "      <td>90.795601</td>\n",
       "    </tr>\n",
       "    <tr>\n",
       "      <th>2021-04-15</th>\n",
       "      <td>91.128502</td>\n",
       "      <td>104.730888</td>\n",
       "      <td>91.128502</td>\n",
       "    </tr>\n",
       "    <tr>\n",
       "      <th>2021-04-16</th>\n",
       "      <td>91.099602</td>\n",
       "      <td>104.870773</td>\n",
       "      <td>91.099602</td>\n",
       "    </tr>\n",
       "  </tbody>\n",
       "</table>\n",
       "<p>3957 rows × 3 columns</p>\n",
       "</div>"
      ]
     },
     "execution_count": 5,
     "metadata": {},
     "output_type": "execute_result"
    }
   ],
   "execution_count": 5
  },
  {
   "metadata": {
    "ExecuteTime": {
     "end_time": "2024-07-11T12:09:59.416256Z",
     "start_time": "2024-07-11T12:09:59.389125Z"
    }
   },
   "cell_type": "code",
   "source": [
    "nss_params = pd.read_csv(PATH / \"rub_nss.csv\", sep=\";\")\n",
    "rub_params = nss_params[\n",
    "    nss_params[\"tradedate\"] == f\"{FIXING.strftime('%d.%m.%Y')}\"\n",
    "].loc[:, [\"B1\", \"B2\", \"B3\", \"T1\"]]\n",
    "rub_params = rub_params.replace(\",\", \".\", regex=True).astype(float)\n",
    "rub_params"
   ],
   "id": "22022c2785fd3da2",
   "outputs": [
    {
     "data": {
      "text/plain": [
       "              B1          B2          B3        T1\n",
       "1833  744.953996 -273.365215 -271.811557  0.905105"
      ],
      "text/html": [
       "<div>\n",
       "<style scoped>\n",
       "    .dataframe tbody tr th:only-of-type {\n",
       "        vertical-align: middle;\n",
       "    }\n",
       "\n",
       "    .dataframe tbody tr th {\n",
       "        vertical-align: top;\n",
       "    }\n",
       "\n",
       "    .dataframe thead th {\n",
       "        text-align: right;\n",
       "    }\n",
       "</style>\n",
       "<table border=\"1\" class=\"dataframe\">\n",
       "  <thead>\n",
       "    <tr style=\"text-align: right;\">\n",
       "      <th></th>\n",
       "      <th>B1</th>\n",
       "      <th>B2</th>\n",
       "      <th>B3</th>\n",
       "      <th>T1</th>\n",
       "    </tr>\n",
       "  </thead>\n",
       "  <tbody>\n",
       "    <tr>\n",
       "      <th>1833</th>\n",
       "      <td>744.953996</td>\n",
       "      <td>-273.365215</td>\n",
       "      <td>-271.811557</td>\n",
       "      <td>0.905105</td>\n",
       "    </tr>\n",
       "  </tbody>\n",
       "</table>\n",
       "</div>"
      ]
     },
     "execution_count": 6,
     "metadata": {},
     "output_type": "execute_result"
    }
   ],
   "execution_count": 6
  },
  {
   "metadata": {
    "ExecuteTime": {
     "end_time": "2024-07-11T12:09:59.434020Z",
     "start_time": "2024-07-11T12:09:59.417110Z"
    }
   },
   "cell_type": "code",
   "source": [
    "curve = NelsonSiegelCurve(\n",
    "    b0=rub_params.B1.values[0] / 100,\n",
    "    b1=rub_params.B2.values[0] / 100,\n",
    "    b2=rub_params.B3.values[0] / 100,\n",
    "    tau=rub_params.T1.values[0] / 100,\n",
    ")\n",
    "curve.get_rate(1.0)"
   ],
   "id": "dd9f59860f14109c",
   "outputs": [
    {
     "data": {
      "text/plain": [
       "0.07400815995797354"
      ]
     },
     "execution_count": 7,
     "metadata": {},
     "output_type": "execute_result"
    }
   ],
   "execution_count": 7
  },
  {
   "metadata": {
    "ExecuteTime": {
     "end_time": "2024-07-11T12:10:02.047909Z",
     "start_time": "2024-07-11T12:09:59.434976Z"
    }
   },
   "cell_type": "code",
   "source": [
    "worst_of_digital = WorstOfDigitalCall(\n",
    "    underlyings=underlyings,\n",
    "    yield_curve=curve,\n",
    "    strike_level=1.0,\n",
    "    frequency=0.5,\n",
    "    start_date=FIXING,\n",
    "    end_date=FINAL_FIXING,\n",
    "    digital_coupon=0.05,\n",
    ")\n",
    "price = worst_of_digital.price(spot=[1.0, 1.0, 1.0])\n",
    "print(f\"{price:,.4f}\")"
   ],
   "id": "f97fee087747168b",
   "outputs": [
    {
     "name": "stdout",
     "output_type": "stream",
     "text": [
      "0.0428\n"
     ]
    }
   ],
   "execution_count": 8
  },
  {
   "metadata": {
    "ExecuteTime": {
     "end_time": "2024-07-11T12:10:02.264861Z",
     "start_time": "2024-07-11T12:10:02.048716Z"
    }
   },
   "cell_type": "code",
   "source": [
    "quanto = QuantoOption(\n",
    "    option=worst_of_digital,\n",
    "    modifying_underlyings=fx,\n",
    "    yield_curve=curve\n",
    ")\n",
    "price = quanto.price(spot=[1., 1., 1.] * (2 * len(underlyings)))\n",
    "print(f\"{price:,.4f}\")"
   ],
   "id": "297c9242f87609ae",
   "outputs": [
    {
     "name": "stdout",
     "output_type": "stream",
     "text": [
      "[[ 1.01313416e-01  3.04218061e-02  4.88425480e-02 -2.43082912e-03\n",
      "  -1.79177466e-01 -2.43082912e-03]\n",
      " [ 3.04218061e-02  4.70272809e-02  3.32845528e-02 -1.62026082e-03\n",
      "  -1.84145310e-01 -1.62026082e-03]\n",
      " [ 4.88425480e-02  3.32845528e-02  6.73972958e-02 -2.94003179e-03\n",
      "  -7.91663418e-02 -2.94003179e-03]\n",
      " [-2.43082912e-03 -1.62026082e-03 -2.94003179e-03  4.07846115e-02\n",
      "   1.53112736e-01  4.07846115e-02]\n",
      " [-1.79177466e-01 -1.84145310e-01 -7.91663418e-02  1.53112736e-01\n",
      "   7.02653377e+02  1.53112736e-01]\n",
      " [-2.43082912e-03 -1.62026082e-03 -2.94003179e-03  4.07846115e-02\n",
      "   1.53112736e-01  4.07846115e-02]]\n",
      "() (6,) (6,)\n"
     ]
    },
    {
     "ename": "LinAlgError",
     "evalue": "Matrix is not positive definite",
     "output_type": "error",
     "traceback": [
      "\u001B[0;31m---------------------------------------------------------------------------\u001B[0m",
      "\u001B[0;31mLinAlgError\u001B[0m                               Traceback (most recent call last)",
      "Cell \u001B[0;32mIn[9], line 6\u001B[0m\n\u001B[1;32m      1\u001B[0m quanto \u001B[38;5;241m=\u001B[39m QuantoOption(\n\u001B[1;32m      2\u001B[0m     option\u001B[38;5;241m=\u001B[39mworst_of_digital,\n\u001B[1;32m      3\u001B[0m     modifying_underlyings\u001B[38;5;241m=\u001B[39mfx,\n\u001B[1;32m      4\u001B[0m     yield_curve\u001B[38;5;241m=\u001B[39mcurve\n\u001B[1;32m      5\u001B[0m )\n\u001B[0;32m----> 6\u001B[0m price \u001B[38;5;241m=\u001B[39m \u001B[43mquanto\u001B[49m\u001B[38;5;241;43m.\u001B[39;49m\u001B[43mprice\u001B[49m\u001B[43m(\u001B[49m\u001B[43mspot\u001B[49m\u001B[38;5;241;43m=\u001B[39;49m\u001B[43m[\u001B[49m\u001B[38;5;241;43m1.\u001B[39;49m\u001B[43m,\u001B[49m\u001B[43m \u001B[49m\u001B[38;5;241;43m1.\u001B[39;49m\u001B[43m,\u001B[49m\u001B[43m \u001B[49m\u001B[38;5;241;43m1.\u001B[39;49m\u001B[43m]\u001B[49m\u001B[43m \u001B[49m\u001B[38;5;241;43m*\u001B[39;49m\u001B[43m \u001B[49m\u001B[43m(\u001B[49m\u001B[38;5;241;43m2\u001B[39;49m\u001B[43m \u001B[49m\u001B[38;5;241;43m*\u001B[39;49m\u001B[43m \u001B[49m\u001B[38;5;28;43mlen\u001B[39;49m\u001B[43m(\u001B[49m\u001B[43munderlyings\u001B[49m\u001B[43m)\u001B[49m\u001B[43m)\u001B[49m\u001B[43m)\u001B[49m\n\u001B[1;32m      7\u001B[0m \u001B[38;5;28mprint\u001B[39m(\u001B[38;5;124mf\u001B[39m\u001B[38;5;124m\"\u001B[39m\u001B[38;5;132;01m{\u001B[39;00mprice\u001B[38;5;132;01m:\u001B[39;00m\u001B[38;5;124m,.4f\u001B[39m\u001B[38;5;132;01m}\u001B[39;00m\u001B[38;5;124m\"\u001B[39m)\n",
      "File \u001B[0;32m~/deep-hedging/deep_hedging/non_linear/exotic/quanto.py:46\u001B[0m, in \u001B[0;36mQuantoOption.price\u001B[0;34m(self, spot)\u001B[0m\n\u001B[1;32m     45\u001B[0m \u001B[38;5;28;01mdef\u001B[39;00m \u001B[38;5;21mprice\u001B[39m(\u001B[38;5;28mself\u001B[39m, spot: [\u001B[38;5;28mfloat\u001B[39m, np\u001B[38;5;241m.\u001B[39marray, \u001B[38;5;28;01mNone\u001B[39;00m] \u001B[38;5;241m=\u001B[39m \u001B[38;5;28;01mNone\u001B[39;00m) \u001B[38;5;241m-\u001B[39m\u001B[38;5;241m>\u001B[39m \u001B[38;5;28mfloat\u001B[39m:\n\u001B[0;32m---> 46\u001B[0m     \u001B[38;5;28;01mreturn\u001B[39;00m \u001B[38;5;28;43mself\u001B[39;49m\u001B[38;5;241;43m.\u001B[39;49m\u001B[43m_quanto_pricer\u001B[49m\u001B[38;5;241;43m.\u001B[39;49m\u001B[43mprice\u001B[49m\u001B[43m(\u001B[49m\n\u001B[1;32m     47\u001B[0m \u001B[43m        \u001B[49m\u001B[43mspot\u001B[49m\u001B[38;5;241;43m=\u001B[39;49m\u001B[43mspot\u001B[49m\u001B[43m \u001B[49m\u001B[38;5;28;43;01mif\u001B[39;49;00m\u001B[43m \u001B[49m\u001B[43mspot\u001B[49m\u001B[43m \u001B[49m\u001B[38;5;129;43;01mis\u001B[39;49;00m\u001B[43m \u001B[49m\u001B[38;5;129;43;01mnot\u001B[39;49;00m\u001B[43m \u001B[49m\u001B[38;5;28;43;01mNone\u001B[39;49;00m\u001B[43m \u001B[49m\u001B[38;5;28;43;01melse\u001B[39;49;00m\u001B[43m \u001B[49m\u001B[43m[\u001B[49m\u001B[38;5;241;43m1.0\u001B[39;49m\u001B[43m]\u001B[49m\u001B[43m \u001B[49m\u001B[38;5;241;43m*\u001B[39;49m\u001B[43m \u001B[49m\u001B[38;5;28;43mlen\u001B[39;49m\u001B[43m(\u001B[49m\u001B[38;5;28;43mself\u001B[39;49m\u001B[38;5;241;43m.\u001B[39;49m\u001B[43munderlyings\u001B[49m\u001B[43m)\u001B[49m\u001B[43m,\u001B[49m\n\u001B[1;32m     48\u001B[0m \u001B[43m        \u001B[49m\u001B[43mtime_till_maturity\u001B[49m\u001B[38;5;241;43m=\u001B[39;49m\u001B[38;5;28;43mself\u001B[39;49m\u001B[38;5;241;43m.\u001B[39;49m\u001B[43moption\u001B[49m\u001B[38;5;241;43m.\u001B[39;49m\u001B[43mtime_till_maturity\u001B[49m\u001B[43m,\u001B[49m\n\u001B[1;32m     49\u001B[0m \u001B[43m        \u001B[49m\u001B[43mrisk_free_rate_fn\u001B[49m\u001B[38;5;241;43m=\u001B[39;49m\u001B[38;5;28;43mself\u001B[39;49m\u001B[38;5;241;43m.\u001B[39;49m\u001B[43myield_curve\u001B[49m\u001B[38;5;241;43m.\u001B[39;49m\u001B[43mget_instant_fwd_rate\u001B[49m\u001B[43m,\u001B[49m\n\u001B[1;32m     50\u001B[0m \u001B[43m        \u001B[49m\u001B[43mdividends_fn\u001B[49m\u001B[38;5;241;43m=\u001B[39;49m\u001B[38;5;28;43mself\u001B[39;49m\u001B[38;5;241;43m.\u001B[39;49m\u001B[43moption\u001B[49m\u001B[38;5;241;43m.\u001B[39;49m\u001B[43mdividends\u001B[49m\u001B[43m,\u001B[49m\n\u001B[1;32m     51\u001B[0m \u001B[43m        \u001B[49m\u001B[43mvar_covar_fn\u001B[49m\u001B[38;5;241;43m=\u001B[39;49m\u001B[38;5;28;43mself\u001B[39;49m\u001B[38;5;241;43m.\u001B[39;49m\u001B[43mvolatility_surface\u001B[49m\u001B[43m,\u001B[49m\n\u001B[1;32m     52\u001B[0m \u001B[43m    \u001B[49m\u001B[43m)\u001B[49m\n",
      "File \u001B[0;32m~/deep-hedging/deep_hedging/monte_carlo/monte_carlo_pricer.py:58\u001B[0m, in \u001B[0;36mMonteCarloPricer.price\u001B[0;34m(self, spot, time_till_maturity, risk_free_rate_fn, dividends_fn, var_covar_fn, n_paths)\u001B[0m\n\u001B[1;32m     49\u001B[0m \u001B[38;5;28;01mdef\u001B[39;00m \u001B[38;5;21mprice\u001B[39m(\n\u001B[1;32m     50\u001B[0m     \u001B[38;5;28mself\u001B[39m,\n\u001B[1;32m     51\u001B[0m     spot: \u001B[38;5;28mlist\u001B[39m[\u001B[38;5;28mfloat\u001B[39m],\n\u001B[0;32m   (...)\u001B[0m\n\u001B[1;32m     56\u001B[0m     n_paths: [\u001B[38;5;28mint\u001B[39m, \u001B[38;5;28;01mNone\u001B[39;00m] \u001B[38;5;241m=\u001B[39m \u001B[38;5;28;01mNone\u001B[39;00m,\n\u001B[1;32m     57\u001B[0m ):\n\u001B[0;32m---> 58\u001B[0m     fv \u001B[38;5;241m=\u001B[39m \u001B[38;5;28;43mself\u001B[39;49m\u001B[38;5;241;43m.\u001B[39;49m\u001B[43m_future_value\u001B[49m\u001B[43m(\u001B[49m\n\u001B[1;32m     59\u001B[0m \u001B[43m        \u001B[49m\u001B[43mspot\u001B[49m\u001B[38;5;241;43m=\u001B[39;49m\u001B[43mspot\u001B[49m\u001B[43m,\u001B[49m\n\u001B[1;32m     60\u001B[0m \u001B[43m        \u001B[49m\u001B[43mtime_till_maturity\u001B[49m\u001B[38;5;241;43m=\u001B[39;49m\u001B[43mtime_till_maturity\u001B[49m\u001B[43m,\u001B[49m\n\u001B[1;32m     61\u001B[0m \u001B[43m        \u001B[49m\u001B[43mrisk_free_rate_fn\u001B[49m\u001B[38;5;241;43m=\u001B[39;49m\u001B[43mrisk_free_rate_fn\u001B[49m\u001B[43m,\u001B[49m\n\u001B[1;32m     62\u001B[0m \u001B[43m        \u001B[49m\u001B[43mdividends_fn\u001B[49m\u001B[38;5;241;43m=\u001B[39;49m\u001B[43mdividends_fn\u001B[49m\u001B[43m,\u001B[49m\n\u001B[1;32m     63\u001B[0m \u001B[43m        \u001B[49m\u001B[43mvar_covar_fn\u001B[49m\u001B[38;5;241;43m=\u001B[39;49m\u001B[43mvar_covar_fn\u001B[49m\u001B[43m,\u001B[49m\n\u001B[1;32m     64\u001B[0m \u001B[43m        \u001B[49m\u001B[43mn_paths\u001B[49m\u001B[38;5;241;43m=\u001B[39;49m\u001B[43mn_paths\u001B[49m\u001B[43m,\u001B[49m\n\u001B[1;32m     65\u001B[0m \u001B[43m    \u001B[49m\u001B[43m)\u001B[49m\n\u001B[1;32m     66\u001B[0m     \u001B[38;5;28;01mreturn\u001B[39;00m fv \u001B[38;5;241m*\u001B[39m np\u001B[38;5;241m.\u001B[39mexp(\u001B[38;5;241m-\u001B[39mtime_till_maturity \u001B[38;5;241m*\u001B[39m risk_free_rate_fn(time_till_maturity))\n",
      "File \u001B[0;32m~/deep-hedging/deep_hedging/monte_carlo/monte_carlo_pricer.py:37\u001B[0m, in \u001B[0;36mMonteCarloPricer._future_value\u001B[0;34m(self, spot, time_till_maturity, risk_free_rate_fn, dividends_fn, var_covar_fn, n_paths)\u001B[0m\n\u001B[1;32m     28\u001B[0m \u001B[38;5;28;01mdef\u001B[39;00m \u001B[38;5;21m_future_value\u001B[39m(\n\u001B[1;32m     29\u001B[0m     \u001B[38;5;28mself\u001B[39m,\n\u001B[1;32m     30\u001B[0m     spot: \u001B[38;5;28mlist\u001B[39m[\u001B[38;5;28mfloat\u001B[39m],\n\u001B[0;32m   (...)\u001B[0m\n\u001B[1;32m     35\u001B[0m     n_paths: [\u001B[38;5;28mint\u001B[39m, \u001B[38;5;28;01mNone\u001B[39;00m] \u001B[38;5;241m=\u001B[39m \u001B[38;5;28;01mNone\u001B[39;00m,\n\u001B[1;32m     36\u001B[0m ) \u001B[38;5;241m-\u001B[39m\u001B[38;5;241m>\u001B[39m \u001B[38;5;28mfloat\u001B[39m:\n\u001B[0;32m---> 37\u001B[0m     random_paths \u001B[38;5;241m=\u001B[39m \u001B[38;5;28;43mself\u001B[39;49m\u001B[38;5;241;43m.\u001B[39;49m\u001B[43mget_paths\u001B[49m\u001B[43m(\u001B[49m\n\u001B[1;32m     38\u001B[0m \u001B[43m        \u001B[49m\u001B[43mspot\u001B[49m\u001B[38;5;241;43m=\u001B[39;49m\u001B[43mspot\u001B[49m\u001B[43m,\u001B[49m\n\u001B[1;32m     39\u001B[0m \u001B[43m        \u001B[49m\u001B[43mtime_till_maturity\u001B[49m\u001B[38;5;241;43m=\u001B[39;49m\u001B[43mtime_till_maturity\u001B[49m\u001B[43m,\u001B[49m\n\u001B[1;32m     40\u001B[0m \u001B[43m        \u001B[49m\u001B[43mrisk_free_rate_fn\u001B[49m\u001B[38;5;241;43m=\u001B[39;49m\u001B[43mrisk_free_rate_fn\u001B[49m\u001B[43m,\u001B[49m\n\u001B[1;32m     41\u001B[0m \u001B[43m        \u001B[49m\u001B[43mdividends_fn\u001B[49m\u001B[38;5;241;43m=\u001B[39;49m\u001B[43mdividends_fn\u001B[49m\u001B[43m,\u001B[49m\n\u001B[1;32m     42\u001B[0m \u001B[43m        \u001B[49m\u001B[43mvar_covar_fn\u001B[49m\u001B[38;5;241;43m=\u001B[39;49m\u001B[43mvar_covar_fn\u001B[49m\u001B[43m,\u001B[49m\n\u001B[1;32m     43\u001B[0m \u001B[43m        \u001B[49m\u001B[43mn_paths\u001B[49m\u001B[38;5;241;43m=\u001B[39;49m\u001B[43mn_paths\u001B[49m\u001B[43m,\u001B[49m\n\u001B[1;32m     44\u001B[0m \u001B[43m    \u001B[49m\u001B[43m)\u001B[49m\n\u001B[1;32m     46\u001B[0m     instrument_payoffs \u001B[38;5;241m=\u001B[39m \u001B[38;5;28mself\u001B[39m\u001B[38;5;241m.\u001B[39mpayoff_function(random_paths)\n\u001B[1;32m     47\u001B[0m     \u001B[38;5;28;01mreturn\u001B[39;00m np\u001B[38;5;241m.\u001B[39mmean(instrument_payoffs)\n",
      "File \u001B[0;32m~/deep-hedging/deep_hedging/monte_carlo/gbm_quanto_pricer.py:52\u001B[0m, in \u001B[0;36mGBMQuantoPricer.get_paths\u001B[0;34m(self, spot, time_till_maturity, risk_free_rate_fn, dividends_fn, var_covar_fn, n_paths)\u001B[0m\n\u001B[1;32m     50\u001B[0m         vol_scaling\u001B[38;5;241m.\u001B[39mappend(np\u001B[38;5;241m.\u001B[39msqrt(np\u001B[38;5;241m.\u001B[39mdiag(var_covar)))\n\u001B[1;32m     51\u001B[0m     \u001B[38;5;28;01melse\u001B[39;00m:\n\u001B[0;32m---> 52\u001B[0m         vol_scaling\u001B[38;5;241m.\u001B[39mappend(\u001B[43mnp\u001B[49m\u001B[38;5;241;43m.\u001B[39;49m\u001B[43mlinalg\u001B[49m\u001B[38;5;241;43m.\u001B[39;49m\u001B[43mcholesky\u001B[49m\u001B[43m(\u001B[49m\u001B[43mvar_covar\u001B[49m\u001B[43m)\u001B[49m)\n\u001B[1;32m     54\u001B[0m drift \u001B[38;5;241m=\u001B[39m np\u001B[38;5;241m.\u001B[39marray(drift)\u001B[38;5;241m.\u001B[39mreshape(\u001B[38;5;241m1\u001B[39m, \u001B[38;5;28mlen\u001B[39m(time), n_stocks, \u001B[38;5;241m1\u001B[39m)\n\u001B[1;32m     55\u001B[0m vol_scaling \u001B[38;5;241m=\u001B[39m np\u001B[38;5;241m.\u001B[39marray(vol_scaling)\u001B[38;5;241m.\u001B[39mreshape(\u001B[38;5;241m1\u001B[39m, \u001B[38;5;28mlen\u001B[39m(time), n_stocks, n_stocks)\n",
      "File \u001B[0;32m~/lib/python3.10/site-packages/numpy/linalg/linalg.py:779\u001B[0m, in \u001B[0;36mcholesky\u001B[0;34m(a)\u001B[0m\n\u001B[1;32m    777\u001B[0m t, result_t \u001B[38;5;241m=\u001B[39m _commonType(a)\n\u001B[1;32m    778\u001B[0m signature \u001B[38;5;241m=\u001B[39m \u001B[38;5;124m'\u001B[39m\u001B[38;5;124mD->D\u001B[39m\u001B[38;5;124m'\u001B[39m \u001B[38;5;28;01mif\u001B[39;00m isComplexType(t) \u001B[38;5;28;01melse\u001B[39;00m \u001B[38;5;124m'\u001B[39m\u001B[38;5;124md->d\u001B[39m\u001B[38;5;124m'\u001B[39m\n\u001B[0;32m--> 779\u001B[0m r \u001B[38;5;241m=\u001B[39m \u001B[43mgufunc\u001B[49m\u001B[43m(\u001B[49m\u001B[43ma\u001B[49m\u001B[43m,\u001B[49m\u001B[43m \u001B[49m\u001B[43msignature\u001B[49m\u001B[38;5;241;43m=\u001B[39;49m\u001B[43msignature\u001B[49m\u001B[43m,\u001B[49m\u001B[43m \u001B[49m\u001B[43mextobj\u001B[49m\u001B[38;5;241;43m=\u001B[39;49m\u001B[43mextobj\u001B[49m\u001B[43m)\u001B[49m\n\u001B[1;32m    780\u001B[0m \u001B[38;5;28;01mreturn\u001B[39;00m wrap(r\u001B[38;5;241m.\u001B[39mastype(result_t, copy\u001B[38;5;241m=\u001B[39m\u001B[38;5;28;01mFalse\u001B[39;00m))\n",
      "File \u001B[0;32m~/lib/python3.10/site-packages/numpy/linalg/linalg.py:115\u001B[0m, in \u001B[0;36m_raise_linalgerror_nonposdef\u001B[0;34m(err, flag)\u001B[0m\n\u001B[1;32m    114\u001B[0m \u001B[38;5;28;01mdef\u001B[39;00m \u001B[38;5;21m_raise_linalgerror_nonposdef\u001B[39m(err, flag):\n\u001B[0;32m--> 115\u001B[0m     \u001B[38;5;28;01mraise\u001B[39;00m LinAlgError(\u001B[38;5;124m\"\u001B[39m\u001B[38;5;124mMatrix is not positive definite\u001B[39m\u001B[38;5;124m\"\u001B[39m)\n",
      "\u001B[0;31mLinAlgError\u001B[0m: Matrix is not positive definite"
     ]
    }
   ],
   "execution_count": 9
  },
  {
   "metadata": {
    "ExecuteTime": {
     "end_time": "2024-07-11T12:10:02.265863Z",
     "start_time": "2024-07-11T12:10:02.265787Z"
    }
   },
   "cell_type": "code",
   "source": "underlyings.data",
   "id": "5f44fd4ec6775466",
   "outputs": [],
   "execution_count": null
  },
  {
   "metadata": {},
   "cell_type": "code",
   "source": "",
   "id": "628441dfdf8e1b3e",
   "outputs": [],
   "execution_count": null
  }
 ],
 "metadata": {
  "kernelspec": {
   "display_name": "Python 3",
   "language": "python",
   "name": "python3"
  },
  "language_info": {
   "codemirror_mode": {
    "name": "ipython",
    "version": 2
   },
   "file_extension": ".py",
   "mimetype": "text/x-python",
   "name": "python",
   "nbconvert_exporter": "python",
   "pygments_lexer": "ipython2",
   "version": "2.7.6"
  }
 },
 "nbformat": 4,
 "nbformat_minor": 5
}
