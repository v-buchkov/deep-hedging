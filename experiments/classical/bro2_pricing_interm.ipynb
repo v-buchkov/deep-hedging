{
 "cells": [
  {
   "metadata": {
    "ExecuteTime": {
     "end_time": "2024-07-12T14:29:42.068126Z",
     "start_time": "2024-07-12T14:29:42.058733Z"
    }
   },
   "cell_type": "code",
   "source": [
    "%load_ext autoreload\n",
    "%autoreload 2"
   ],
   "id": "e421301afe52a50e",
   "outputs": [],
   "execution_count": 1
  },
  {
   "metadata": {
    "ExecuteTime": {
     "end_time": "2024-07-12T14:29:43.663859Z",
     "start_time": "2024-07-12T14:29:42.069302Z"
    }
   },
   "cell_type": "code",
   "source": [
    "from pathlib import Path\n",
    "import datetime as dt\n",
    "\n",
    "import numpy as np\n",
    "import pandas as pd\n",
    "\n",
    "from deep_hedging import (\n",
    "    Ticker,\n",
    "    Underlyings,\n",
    "    Frequency,\n",
    "    NelsonSiegelCurve,\n",
    "    ZeroCouponBond,\n",
    "    FixedCouponBond,\n",
    ")\n",
    "from deep_hedging.non_linear.exotic.basket import WorstOfDigitalCall\n",
    "from deep_hedging.non_linear.exotic.quanto import QuantoOption\n",
    "\n",
    "RANDOM_SEED = 12\n",
    "PATH = Path(\"../../data/\")"
   ],
   "id": "initial_id",
   "outputs": [],
   "execution_count": 2
  },
  {
   "metadata": {
    "ExecuteTime": {
     "end_time": "2024-07-12T14:29:43.677357Z",
     "start_time": "2024-07-12T14:29:43.664696Z"
    }
   },
   "cell_type": "code",
   "source": [
    "FIXED_PAYMENT = 0.005\n",
    "DIGITAL_COUPON = 5.0\n",
    "PAYMENT_BARRIER = 1.0\n",
    "PAYMENT_FREQUENCY = Frequency.SEMIANNUALLY\n",
    "\n",
    "FIXED_FINAL_PAYMENT = 1.0\n",
    "\n",
    "N_YEARS_LOOKBACK = 5\n",
    "FIXING = dt.datetime(2021, 4, 19)\n",
    "FINAL_FIXING = dt.datetime(2024, 4, 17)"
   ],
   "id": "9e4cd491f931fbc0",
   "outputs": [],
   "execution_count": 3
  },
  {
   "metadata": {
    "ExecuteTime": {
     "end_time": "2024-07-12T14:29:45.261286Z",
     "start_time": "2024-07-12T14:29:43.677996Z"
    }
   },
   "cell_type": "code",
   "source": [
    "underlyings = Underlyings(\n",
    "    tickers=[\n",
    "        Ticker(\"Sanofi\", \"SAN.PA\", currency=\"EUR\"),\n",
    "        Ticker(\"GlaxoSmithKline PLC\", \"GSK.L\", currency=\"GBP\"),\n",
    "        Ticker(\"Bayer AG\", \"BAYN.DE\", currency=\"EUR\"),\n",
    "    ],\n",
    "    start=N_YEARS_LOOKBACK,\n",
    "    end=FIXING,\n",
    ")"
   ],
   "id": "44941e33b24bd4c0",
   "outputs": [
    {
     "name": "stderr",
     "output_type": "stream",
     "text": [
      "[*********************100%%**********************]  3 of 3 completed\n"
     ]
    }
   ],
   "execution_count": 4
  },
  {
   "metadata": {
    "ExecuteTime": {
     "end_time": "2024-07-12T14:29:45.625123Z",
     "start_time": "2024-07-12T14:29:45.262774Z"
    }
   },
   "cell_type": "code",
   "source": [
    "fx = Underlyings(\n",
    "    tickers=[\n",
    "        Ticker(\"EURRUB\", \"EURRUB=X\", currency=\"EUR\"),\n",
    "        Ticker(\"GBPRUB\", \"GBPRUB=X\", currency=\"GBP\"),\n",
    "    ],\n",
    "    start=N_YEARS_LOOKBACK,\n",
    "    end=FIXING,\n",
    ")\n",
    "\n",
    "# Issue with yahoo finance data - strange GBPRUB quote\n",
    "fx.data = fx.data[fx[\"GBPRUB=X\"] > 1.2]\n",
    "fx.data"
   ],
   "id": "12fc61d647c566ee",
   "outputs": [
    {
     "name": "stderr",
     "output_type": "stream",
     "text": [
      "[*********************100%%**********************]  2 of 2 completed\n"
     ]
    },
    {
     "data": {
      "text/plain": [
       "Ticker       EURRUB=X    GBPRUB=X\n",
       "Date                             \n",
       "2004-02-13  36.470001   53.591999\n",
       "2004-04-01  34.990002   52.884998\n",
       "2004-07-27  35.070000   52.995998\n",
       "2005-01-17  36.619999   52.074001\n",
       "2005-02-22  36.689999   53.369999\n",
       "...               ...         ...\n",
       "2021-04-12  92.128601  106.120071\n",
       "2021-04-13  92.092499  106.289673\n",
       "2021-04-14  90.795601  104.455833\n",
       "2021-04-15  91.128502  104.730888\n",
       "2021-04-16  91.099602  104.870773\n",
       "\n",
       "[3956 rows x 2 columns]"
      ],
      "text/html": [
       "<div>\n",
       "<style scoped>\n",
       "    .dataframe tbody tr th:only-of-type {\n",
       "        vertical-align: middle;\n",
       "    }\n",
       "\n",
       "    .dataframe tbody tr th {\n",
       "        vertical-align: top;\n",
       "    }\n",
       "\n",
       "    .dataframe thead th {\n",
       "        text-align: right;\n",
       "    }\n",
       "</style>\n",
       "<table border=\"1\" class=\"dataframe\">\n",
       "  <thead>\n",
       "    <tr style=\"text-align: right;\">\n",
       "      <th>Ticker</th>\n",
       "      <th>EURRUB=X</th>\n",
       "      <th>GBPRUB=X</th>\n",
       "    </tr>\n",
       "    <tr>\n",
       "      <th>Date</th>\n",
       "      <th></th>\n",
       "      <th></th>\n",
       "    </tr>\n",
       "  </thead>\n",
       "  <tbody>\n",
       "    <tr>\n",
       "      <th>2004-02-13</th>\n",
       "      <td>36.470001</td>\n",
       "      <td>53.591999</td>\n",
       "    </tr>\n",
       "    <tr>\n",
       "      <th>2004-04-01</th>\n",
       "      <td>34.990002</td>\n",
       "      <td>52.884998</td>\n",
       "    </tr>\n",
       "    <tr>\n",
       "      <th>2004-07-27</th>\n",
       "      <td>35.070000</td>\n",
       "      <td>52.995998</td>\n",
       "    </tr>\n",
       "    <tr>\n",
       "      <th>2005-01-17</th>\n",
       "      <td>36.619999</td>\n",
       "      <td>52.074001</td>\n",
       "    </tr>\n",
       "    <tr>\n",
       "      <th>2005-02-22</th>\n",
       "      <td>36.689999</td>\n",
       "      <td>53.369999</td>\n",
       "    </tr>\n",
       "    <tr>\n",
       "      <th>...</th>\n",
       "      <td>...</td>\n",
       "      <td>...</td>\n",
       "    </tr>\n",
       "    <tr>\n",
       "      <th>2021-04-12</th>\n",
       "      <td>92.128601</td>\n",
       "      <td>106.120071</td>\n",
       "    </tr>\n",
       "    <tr>\n",
       "      <th>2021-04-13</th>\n",
       "      <td>92.092499</td>\n",
       "      <td>106.289673</td>\n",
       "    </tr>\n",
       "    <tr>\n",
       "      <th>2021-04-14</th>\n",
       "      <td>90.795601</td>\n",
       "      <td>104.455833</td>\n",
       "    </tr>\n",
       "    <tr>\n",
       "      <th>2021-04-15</th>\n",
       "      <td>91.128502</td>\n",
       "      <td>104.730888</td>\n",
       "    </tr>\n",
       "    <tr>\n",
       "      <th>2021-04-16</th>\n",
       "      <td>91.099602</td>\n",
       "      <td>104.870773</td>\n",
       "    </tr>\n",
       "  </tbody>\n",
       "</table>\n",
       "<p>3956 rows × 2 columns</p>\n",
       "</div>"
      ]
     },
     "execution_count": 5,
     "metadata": {},
     "output_type": "execute_result"
    }
   ],
   "execution_count": 5
  },
  {
   "metadata": {
    "ExecuteTime": {
     "end_time": "2024-07-12T14:29:45.653738Z",
     "start_time": "2024-07-12T14:29:45.625928Z"
    }
   },
   "cell_type": "code",
   "source": [
    "nss_params = pd.read_csv(PATH / \"rub_nss.csv\", sep=\";\")\n",
    "rub_params = nss_params[\n",
    "    nss_params[\"tradedate\"] == f\"{FIXING.strftime('%d.%m.%Y')}\"\n",
    "].loc[:, [\"B1\", \"B2\", \"B3\", \"T1\"]]\n",
    "rub_params = rub_params.replace(\",\", \".\", regex=True).astype(float)\n",
    "rub_params"
   ],
   "id": "22022c2785fd3da2",
   "outputs": [
    {
     "data": {
      "text/plain": [
       "              B1          B2          B3        T1\n",
       "1833  744.953996 -273.365215 -271.811557  0.905105"
      ],
      "text/html": [
       "<div>\n",
       "<style scoped>\n",
       "    .dataframe tbody tr th:only-of-type {\n",
       "        vertical-align: middle;\n",
       "    }\n",
       "\n",
       "    .dataframe tbody tr th {\n",
       "        vertical-align: top;\n",
       "    }\n",
       "\n",
       "    .dataframe thead th {\n",
       "        text-align: right;\n",
       "    }\n",
       "</style>\n",
       "<table border=\"1\" class=\"dataframe\">\n",
       "  <thead>\n",
       "    <tr style=\"text-align: right;\">\n",
       "      <th></th>\n",
       "      <th>B1</th>\n",
       "      <th>B2</th>\n",
       "      <th>B3</th>\n",
       "      <th>T1</th>\n",
       "    </tr>\n",
       "  </thead>\n",
       "  <tbody>\n",
       "    <tr>\n",
       "      <th>1833</th>\n",
       "      <td>744.953996</td>\n",
       "      <td>-273.365215</td>\n",
       "      <td>-271.811557</td>\n",
       "      <td>0.905105</td>\n",
       "    </tr>\n",
       "  </tbody>\n",
       "</table>\n",
       "</div>"
      ]
     },
     "execution_count": 6,
     "metadata": {},
     "output_type": "execute_result"
    }
   ],
   "execution_count": 6
  },
  {
   "metadata": {
    "ExecuteTime": {
     "end_time": "2024-07-12T14:29:45.672309Z",
     "start_time": "2024-07-12T14:29:45.654712Z"
    }
   },
   "cell_type": "code",
   "source": [
    "curve = NelsonSiegelCurve(\n",
    "    b0=rub_params.B1.values[0] / 100,\n",
    "    b1=rub_params.B2.values[0] / 100,\n",
    "    b2=rub_params.B3.values[0] / 100,\n",
    "    tau=rub_params.T1.values[0] / 100,\n",
    ")"
   ],
   "id": "dd9f59860f14109c",
   "outputs": [],
   "execution_count": 7
  },
  {
   "metadata": {
    "ExecuteTime": {
     "end_time": "2024-07-12T14:31:20.951884Z",
     "start_time": "2024-07-12T14:31:19.844810Z"
    }
   },
   "cell_type": "code",
   "source": [
    "fixed_final_payment = (\n",
    "    ZeroCouponBond(\n",
    "        yield_curve=curve,\n",
    "        start_date=FIXING,\n",
    "        end_date=FINAL_FIXING,\n",
    "    )\n",
    "    * FIXED_FINAL_PAYMENT\n",
    ")\n",
    "\n",
    "worst_of_digital = WorstOfDigitalCall(\n",
    "    underlyings=underlyings,\n",
    "    yield_curve=curve,\n",
    "    strike_level=PAYMENT_BARRIER,\n",
    "    frequency=PAYMENT_FREQUENCY,\n",
    "    start_date=FIXING,\n",
    "    end_date=FINAL_FIXING,\n",
    "    digital_coupon=DIGITAL_COUPON,\n",
    "    random_seed=RANDOM_SEED,\n",
    ")\n",
    "\n",
    "warrant = worst_of_digital + fixed_final_payment\n",
    "print(f\"{warrant.price():,.4f}\")"
   ],
   "id": "f97fee087747168b",
   "outputs": [
    {
     "name": "stdout",
     "output_type": "stream",
     "text": [
      "5.1744\n"
     ]
    }
   ],
   "execution_count": 15
  },
  {
   "metadata": {
    "ExecuteTime": {
     "end_time": "2024-07-12T14:31:21.931597Z",
     "start_time": "2024-07-12T14:31:20.952940Z"
    }
   },
   "cell_type": "code",
   "source": [
    "fixed_bond = FixedCouponBond(\n",
    "    yield_curve=curve,\n",
    "    start_date=FIXING,\n",
    "    end_date=FINAL_FIXING,\n",
    "    fixed_coupon=FIXED_PAYMENT,\n",
    "    frequency=PAYMENT_FREQUENCY,\n",
    ")\n",
    "\n",
    "worst_of_digital = WorstOfDigitalCall(\n",
    "    underlyings=underlyings,\n",
    "    yield_curve=curve,\n",
    "    strike_level=PAYMENT_BARRIER,\n",
    "    frequency=PAYMENT_FREQUENCY,\n",
    "    start_date=FIXING,\n",
    "    end_date=FINAL_FIXING,\n",
    "    digital_coupon=DIGITAL_COUPON,\n",
    "    random_seed=RANDOM_SEED,\n",
    ")\n",
    "\n",
    "warrant = fixed_bond + worst_of_digital\n",
    "print(f\"{warrant.price():,.4f}\")"
   ],
   "id": "c38fd7618ee8ed15",
   "outputs": [
    {
     "name": "stdout",
     "output_type": "stream",
     "text": [
      "5.2008\n"
     ]
    }
   ],
   "execution_count": 16
  },
  {
   "metadata": {
    "ExecuteTime": {
     "end_time": "2024-07-12T14:30:27.727146Z",
     "start_time": "2024-07-12T14:30:26.985305Z"
    }
   },
   "cell_type": "code",
   "source": [
    "fixed_bond = FixedCouponBond(\n",
    "    yield_curve=curve,\n",
    "    start_date=FIXING,\n",
    "    end_date=FINAL_FIXING,\n",
    "    fixed_coupon=FIXED_PAYMENT,\n",
    "    frequency=PAYMENT_FREQUENCY,\n",
    ")\n",
    "fixed_bond"
   ],
   "id": "e8b96d6b348159f8",
   "outputs": [
    {
     "data": {
      "text/plain": [
       "StructuredNote of:\n",
       "* LONG 1.0 units of RiskFreeBond:\n",
       "* Term = 3.0 years\n",
       "* YTM = 7.43%\n",
       "* Start Date = 2021-04-19 00:00:00\n",
       "* End Date = 2024-04-17 00:00:00\n",
       "\n",
       "* LONG 1.0 units of StructuredNote of:\n",
       "* LONG 0.005 units of RiskFreeBond:\n",
       "* Term = 0.5 years\n",
       "* YTM = 7.35%\n",
       "* Start Date = 2021-04-19 00:00:00\n",
       "* End Date = 2021-10-18 00:00:00\n",
       "\n",
       "\n",
       "* LONG 1.0 units of StructuredNote of:\n",
       "* LONG 0.005 units of RiskFreeBond:\n",
       "* Term = 1.0 years\n",
       "* YTM = 7.4%\n",
       "* Start Date = 2021-04-19 00:00:00\n",
       "* End Date = 2022-04-19 00:00:00\n",
       "\n",
       "\n",
       "* LONG 1.0 units of StructuredNote of:\n",
       "* LONG 0.005 units of RiskFreeBond:\n",
       "* Term = 1.5 years\n",
       "* YTM = 7.42%\n",
       "* Start Date = 2021-04-19 00:00:00\n",
       "* End Date = 2022-10-19 00:00:00\n",
       "\n",
       "\n",
       "* LONG 1.0 units of StructuredNote of:\n",
       "* LONG 0.005 units of RiskFreeBond:\n",
       "* Term = 2.0 years\n",
       "* YTM = 7.43%\n",
       "* Start Date = 2021-04-19 00:00:00\n",
       "* End Date = 2023-04-19 00:00:00\n",
       "\n",
       "\n",
       "* LONG 1.0 units of StructuredNote of:\n",
       "* LONG 0.005 units of RiskFreeBond:\n",
       "* Term = 2.5 years\n",
       "* YTM = 7.43%\n",
       "* Start Date = 2021-04-19 00:00:00\n",
       "* End Date = 2023-10-18 00:00:00\n",
       "\n",
       "\n",
       "* LONG 1.0 units of StructuredNote of:\n",
       "* LONG 0.005 units of RiskFreeBond:\n",
       "* Term = 3.0 years\n",
       "* YTM = 7.43%\n",
       "* Start Date = 2021-04-19 00:00:00\n",
       "* End Date = 2024-04-18 00:00:00\n",
       "\n"
      ]
     },
     "execution_count": 12,
     "metadata": {},
     "output_type": "execute_result"
    }
   ],
   "execution_count": 12
  },
  {
   "metadata": {
    "ExecuteTime": {
     "end_time": "2024-07-12T14:30:30.599040Z",
     "start_time": "2024-07-12T14:30:30.573290Z"
    }
   },
   "cell_type": "code",
   "source": "fixed_bond.price()",
   "id": "e34a53ff0c042cf6",
   "outputs": [
    {
     "data": {
      "text/plain": [
       "0.8245341502202985"
      ]
     },
     "execution_count": 13,
     "metadata": {},
     "output_type": "execute_result"
    }
   ],
   "execution_count": 13
  },
  {
   "metadata": {
    "ExecuteTime": {
     "end_time": "2024-07-12T14:29:48.325894Z",
     "start_time": "2024-07-12T14:29:48.146925Z"
    }
   },
   "cell_type": "code",
   "source": [
    "quanto = QuantoOption(\n",
    "    option=worst_of_digital,\n",
    "    modifying_underlyings=fx,\n",
    "    yield_curve=curve,\n",
    "    random_seed=RANDOM_SEED,\n",
    ")\n",
    "price = quanto.price(spot=[1.0] * (2 * len(underlyings)))\n",
    "print(f\"{100 * price:,.4f} RUB\")"
   ],
   "id": "297c9242f87609ae",
   "outputs": [
    {
     "ename": "AssertionError",
     "evalue": "",
     "output_type": "error",
     "traceback": [
      "\u001b[0;31m---------------------------------------------------------------------------\u001b[0m",
      "\u001b[0;31mAssertionError\u001b[0m                            Traceback (most recent call last)",
      "Cell \u001b[0;32mIn[11], line 1\u001b[0m\n\u001b[0;32m----> 1\u001b[0m quanto \u001b[38;5;241m=\u001b[39m \u001b[43mQuantoOption\u001b[49m\u001b[43m(\u001b[49m\n\u001b[1;32m      2\u001b[0m \u001b[43m    \u001b[49m\u001b[43moption\u001b[49m\u001b[38;5;241;43m=\u001b[39;49m\u001b[43mworst_of_digital\u001b[49m\u001b[43m,\u001b[49m\n\u001b[1;32m      3\u001b[0m \u001b[43m    \u001b[49m\u001b[43mmodifying_underlyings\u001b[49m\u001b[38;5;241;43m=\u001b[39;49m\u001b[43mfx\u001b[49m\u001b[43m,\u001b[49m\n\u001b[1;32m      4\u001b[0m \u001b[43m    \u001b[49m\u001b[43myield_curve\u001b[49m\u001b[38;5;241;43m=\u001b[39;49m\u001b[43mcurve\u001b[49m\u001b[43m,\u001b[49m\n\u001b[1;32m      5\u001b[0m \u001b[43m    \u001b[49m\u001b[43mrandom_seed\u001b[49m\u001b[38;5;241;43m=\u001b[39;49m\u001b[43mRANDOM_SEED\u001b[49m\u001b[43m,\u001b[49m\n\u001b[1;32m      6\u001b[0m \u001b[43m)\u001b[49m\n\u001b[1;32m      7\u001b[0m price \u001b[38;5;241m=\u001b[39m quanto\u001b[38;5;241m.\u001b[39mprice(spot\u001b[38;5;241m=\u001b[39m[\u001b[38;5;241m1.\u001b[39m] \u001b[38;5;241m*\u001b[39m (\u001b[38;5;241m2\u001b[39m \u001b[38;5;241m*\u001b[39m \u001b[38;5;28mlen\u001b[39m(underlyings)))\n\u001b[1;32m      8\u001b[0m \u001b[38;5;28mprint\u001b[39m(\u001b[38;5;124mf\u001b[39m\u001b[38;5;124m\"\u001b[39m\u001b[38;5;132;01m{\u001b[39;00m\u001b[38;5;241m100\u001b[39m\u001b[38;5;250m \u001b[39m\u001b[38;5;241m*\u001b[39m\u001b[38;5;250m \u001b[39mprice\u001b[38;5;132;01m:\u001b[39;00m\u001b[38;5;124m,.4f\u001b[39m\u001b[38;5;132;01m}\u001b[39;00m\u001b[38;5;124m RUB\u001b[39m\u001b[38;5;124m\"\u001b[39m)\n",
      "File \u001b[0;32m~/deep-hedging/deep_hedging/non_linear/exotic/quanto.py:21\u001b[0m, in \u001b[0;36mQuantoOption.__init__\u001b[0;34m(self, option, modifying_underlyings, yield_curve, random_seed)\u001b[0m\n\u001b[1;32m     18\u001b[0m \u001b[38;5;28mself\u001b[39m\u001b[38;5;241m.\u001b[39moption \u001b[38;5;241m=\u001b[39m option\n\u001b[1;32m     19\u001b[0m \u001b[38;5;28mself\u001b[39m\u001b[38;5;241m.\u001b[39myield_curve \u001b[38;5;241m=\u001b[39m yield_curve\n\u001b[0;32m---> 21\u001b[0m \u001b[38;5;28;01massert\u001b[39;00m \u001b[38;5;28mlen\u001b[39m(modifying_underlyings) \u001b[38;5;241m==\u001b[39m \u001b[38;5;28mlen\u001b[39m(option\u001b[38;5;241m.\u001b[39munderlyings)\n\u001b[1;32m     22\u001b[0m data \u001b[38;5;241m=\u001b[39m pd\u001b[38;5;241m.\u001b[39mmerge_asof(\n\u001b[1;32m     23\u001b[0m     left\u001b[38;5;241m=\u001b[39moption\u001b[38;5;241m.\u001b[39munderlyings\u001b[38;5;241m.\u001b[39mdata,\n\u001b[1;32m     24\u001b[0m     right\u001b[38;5;241m=\u001b[39mmodifying_underlyings\u001b[38;5;241m.\u001b[39mdata,\n\u001b[0;32m   (...)\u001b[0m\n\u001b[1;32m     28\u001b[0m     tolerance\u001b[38;5;241m=\u001b[39mpd\u001b[38;5;241m.\u001b[39mTimedelta(\u001b[38;5;124m\"\u001b[39m\u001b[38;5;124m1 min\u001b[39m\u001b[38;5;124m\"\u001b[39m),\n\u001b[1;32m     29\u001b[0m )\n\u001b[1;32m     30\u001b[0m \u001b[38;5;28mself\u001b[39m\u001b[38;5;241m.\u001b[39munderlyings \u001b[38;5;241m=\u001b[39m Underlyings(\n\u001b[1;32m     31\u001b[0m     tickers\u001b[38;5;241m=\u001b[39m\u001b[38;5;28mself\u001b[39m\u001b[38;5;241m.\u001b[39moption\u001b[38;5;241m.\u001b[39munderlyings\u001b[38;5;241m.\u001b[39mtickers \u001b[38;5;241m+\u001b[39m modifying_underlyings\u001b[38;5;241m.\u001b[39mtickers,\n\u001b[1;32m     32\u001b[0m     start\u001b[38;5;241m=\u001b[39m\u001b[38;5;28mself\u001b[39m\u001b[38;5;241m.\u001b[39moption\u001b[38;5;241m.\u001b[39munderlyings\u001b[38;5;241m.\u001b[39mstart,\n\u001b[1;32m     33\u001b[0m     end\u001b[38;5;241m=\u001b[39m\u001b[38;5;28mself\u001b[39m\u001b[38;5;241m.\u001b[39moption\u001b[38;5;241m.\u001b[39munderlyings\u001b[38;5;241m.\u001b[39mend,\n\u001b[1;32m     34\u001b[0m     data\u001b[38;5;241m=\u001b[39mdata\n\u001b[1;32m     35\u001b[0m )\n",
      "\u001b[0;31mAssertionError\u001b[0m: "
     ]
    }
   ],
   "execution_count": 11
  },
  {
   "metadata": {},
   "cell_type": "code",
   "source": "",
   "id": "aeafa13743bf7942",
   "outputs": [],
   "execution_count": null
  }
 ],
 "metadata": {
  "kernelspec": {
   "display_name": "Python 3",
   "language": "python",
   "name": "python3"
  },
  "language_info": {
   "codemirror_mode": {
    "name": "ipython",
    "version": 2
   },
   "file_extension": ".py",
   "mimetype": "text/x-python",
   "name": "python",
   "nbconvert_exporter": "python",
   "pygments_lexer": "ipython2",
   "version": "2.7.6"
  }
 },
 "nbformat": 4,
 "nbformat_minor": 5
}
