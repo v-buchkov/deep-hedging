{
 "cells": [
  {
   "metadata": {
    "ExecuteTime": {
     "end_time": "2024-07-22T16:58:59.176651Z",
     "start_time": "2024-07-22T16:58:59.166459Z"
    }
   },
   "cell_type": "code",
   "source": [
    "%load_ext autoreload\n",
    "%autoreload 2"
   ],
   "id": "e421301afe52a50e",
   "outputs": [],
   "execution_count": 1
  },
  {
   "metadata": {
    "ExecuteTime": {
     "end_time": "2024-07-22T16:59:00.522744Z",
     "start_time": "2024-07-22T16:58:59.177887Z"
    }
   },
   "cell_type": "code",
   "source": [
    "from pathlib import Path\n",
    "import datetime as dt\n",
    "\n",
    "import pandas as pd\n",
    "\n",
    "from deep_hedging import (\n",
    "    Ticker,\n",
    "    Underlyings,\n",
    "    Frequency,\n",
    "    YieldCurves,\n",
    "    NelsonSiegelCurve,\n",
    "    ConstantRateCurve,\n",
    "    FixedCouponBond,\n",
    ")\n",
    "from deep_hedging.non_linear.exotic.basket import WorstOfDigitalMemoryCall\n",
    "from deep_hedging.non_linear.exotic.quanto import QuantoOption\n",
    "\n",
    "RANDOM_SEED = 12\n",
    "PATH = Path(\"../../../data/\")"
   ],
   "id": "initial_id",
   "outputs": [],
   "execution_count": 2
  },
  {
   "metadata": {},
   "cell_type": "markdown",
   "source": "## Define product parameters.",
   "id": "3be1f4a5bdb228c0"
  },
  {
   "metadata": {
    "ExecuteTime": {
     "end_time": "2024-07-22T16:59:00.536811Z",
     "start_time": "2024-07-22T16:59:00.523590Z"
    }
   },
   "cell_type": "code",
   "source": [
    "FIXED_PAYMENT = 0.005\n",
    "DIGITAL_COUPON = 5.0\n",
    "PAYMENT_BARRIER = 1.0\n",
    "PAYMENT_FREQUENCY = Frequency.SEMIANNUALLY\n",
    "\n",
    "FIXED_FINAL_PAYMENT = 1.0\n",
    "\n",
    "N_YEARS_LOOKBACK = 3\n",
    "FIXING = dt.datetime(2021, 4, 19)\n",
    "FINAL_FIXING = dt.datetime(2024, 4, 17)\n",
    "\n",
    "EUR_RATE = -0.197 / 100\n",
    "GBP_RATE = 0.6045 / 100"
   ],
   "id": "9e4cd491f931fbc0",
   "outputs": [],
   "execution_count": 3
  },
  {
   "metadata": {},
   "cell_type": "markdown",
   "source": "## Get market data.",
   "id": "cb1830381026dc82"
  },
  {
   "metadata": {
    "ExecuteTime": {
     "end_time": "2024-07-22T16:59:01.818592Z",
     "start_time": "2024-07-22T16:59:00.537631Z"
    }
   },
   "cell_type": "code",
   "source": [
    "underlyings = Underlyings(\n",
    "    tickers=[\n",
    "        Ticker(\"Sanofi\", \"SAN.PA\", currency=\"EUR\"),\n",
    "        Ticker(\"GlaxoSmithKline PLC\", \"GSK.L\", currency=\"GBP\"),\n",
    "        Ticker(\"Bayer AG\", \"BAYN.DE\", currency=\"EUR\"),\n",
    "    ],\n",
    "    start=N_YEARS_LOOKBACK,\n",
    "    end=FIXING,\n",
    ")"
   ],
   "id": "44941e33b24bd4c0",
   "outputs": [
    {
     "name": "stderr",
     "output_type": "stream",
     "text": [
      "[*********************100%%**********************]  3 of 3 completed\n"
     ]
    }
   ],
   "execution_count": 4
  },
  {
   "metadata": {
    "ExecuteTime": {
     "end_time": "2024-07-22T16:59:02.172574Z",
     "start_time": "2024-07-22T16:59:01.820177Z"
    }
   },
   "cell_type": "code",
   "source": [
    "fx = Underlyings(\n",
    "    tickers=[\n",
    "        Ticker(\"EURRUB\", \"EURRUB=X\", currency=\"EUR\"),\n",
    "        Ticker(\"GBPRUB\", \"GBPRUB=X\", currency=\"GBP\"),\n",
    "    ],\n",
    "    start=N_YEARS_LOOKBACK,\n",
    "    end=FIXING,\n",
    ")\n",
    "\n",
    "# Issue with yahoo finance data - strange GBPRUB quote\n",
    "fx.data = fx.data[fx[\"GBPRUB=X\"] > 1.2]\n",
    "fx.data"
   ],
   "id": "12fc61d647c566ee",
   "outputs": [
    {
     "name": "stderr",
     "output_type": "stream",
     "text": [
      "[*********************100%%**********************]  2 of 2 completed\n"
     ]
    },
    {
     "data": {
      "text/plain": [
       "Ticker       EURRUB=X    GBPRUB=X\n",
       "Date                             \n",
       "2004-02-13  36.470001   53.591999\n",
       "2004-04-01  34.990002   52.884998\n",
       "2004-07-27  35.070000   52.995998\n",
       "2005-01-17  36.619999   52.074001\n",
       "2005-02-22  36.689999   53.369999\n",
       "...               ...         ...\n",
       "2021-04-12  92.128601  106.120071\n",
       "2021-04-13  92.092499  106.289673\n",
       "2021-04-14  90.795601  104.455833\n",
       "2021-04-15  91.128502  104.730888\n",
       "2021-04-16  91.099602  104.870773\n",
       "\n",
       "[3956 rows x 2 columns]"
      ],
      "text/html": [
       "<div>\n",
       "<style scoped>\n",
       "    .dataframe tbody tr th:only-of-type {\n",
       "        vertical-align: middle;\n",
       "    }\n",
       "\n",
       "    .dataframe tbody tr th {\n",
       "        vertical-align: top;\n",
       "    }\n",
       "\n",
       "    .dataframe thead th {\n",
       "        text-align: right;\n",
       "    }\n",
       "</style>\n",
       "<table border=\"1\" class=\"dataframe\">\n",
       "  <thead>\n",
       "    <tr style=\"text-align: right;\">\n",
       "      <th>Ticker</th>\n",
       "      <th>EURRUB=X</th>\n",
       "      <th>GBPRUB=X</th>\n",
       "    </tr>\n",
       "    <tr>\n",
       "      <th>Date</th>\n",
       "      <th></th>\n",
       "      <th></th>\n",
       "    </tr>\n",
       "  </thead>\n",
       "  <tbody>\n",
       "    <tr>\n",
       "      <th>2004-02-13</th>\n",
       "      <td>36.470001</td>\n",
       "      <td>53.591999</td>\n",
       "    </tr>\n",
       "    <tr>\n",
       "      <th>2004-04-01</th>\n",
       "      <td>34.990002</td>\n",
       "      <td>52.884998</td>\n",
       "    </tr>\n",
       "    <tr>\n",
       "      <th>2004-07-27</th>\n",
       "      <td>35.070000</td>\n",
       "      <td>52.995998</td>\n",
       "    </tr>\n",
       "    <tr>\n",
       "      <th>2005-01-17</th>\n",
       "      <td>36.619999</td>\n",
       "      <td>52.074001</td>\n",
       "    </tr>\n",
       "    <tr>\n",
       "      <th>2005-02-22</th>\n",
       "      <td>36.689999</td>\n",
       "      <td>53.369999</td>\n",
       "    </tr>\n",
       "    <tr>\n",
       "      <th>...</th>\n",
       "      <td>...</td>\n",
       "      <td>...</td>\n",
       "    </tr>\n",
       "    <tr>\n",
       "      <th>2021-04-12</th>\n",
       "      <td>92.128601</td>\n",
       "      <td>106.120071</td>\n",
       "    </tr>\n",
       "    <tr>\n",
       "      <th>2021-04-13</th>\n",
       "      <td>92.092499</td>\n",
       "      <td>106.289673</td>\n",
       "    </tr>\n",
       "    <tr>\n",
       "      <th>2021-04-14</th>\n",
       "      <td>90.795601</td>\n",
       "      <td>104.455833</td>\n",
       "    </tr>\n",
       "    <tr>\n",
       "      <th>2021-04-15</th>\n",
       "      <td>91.128502</td>\n",
       "      <td>104.730888</td>\n",
       "    </tr>\n",
       "    <tr>\n",
       "      <th>2021-04-16</th>\n",
       "      <td>91.099602</td>\n",
       "      <td>104.870773</td>\n",
       "    </tr>\n",
       "  </tbody>\n",
       "</table>\n",
       "<p>3956 rows × 2 columns</p>\n",
       "</div>"
      ]
     },
     "execution_count": 5,
     "metadata": {},
     "output_type": "execute_result"
    }
   ],
   "execution_count": 5
  },
  {
   "metadata": {
    "ExecuteTime": {
     "end_time": "2024-07-22T16:59:02.201693Z",
     "start_time": "2024-07-22T16:59:02.173295Z"
    }
   },
   "cell_type": "code",
   "source": [
    "nss_params = pd.read_csv(PATH / \"rub_nss.csv\", sep=\";\")\n",
    "rub_params = nss_params[\n",
    "    nss_params[\"tradedate\"] == f\"{FIXING.strftime('%d.%m.%Y')}\"\n",
    "].loc[:, [\"B1\", \"B2\", \"B3\", \"T1\"]]\n",
    "rub_params = rub_params.replace(\",\", \".\", regex=True).astype(float)\n",
    "\n",
    "rub_curve = NelsonSiegelCurve(\n",
    "    currency=\"RUB\",\n",
    "    b0=rub_params.B1.values[0] / 100,\n",
    "    b1=rub_params.B2.values[0] / 100,\n",
    "    b2=rub_params.B3.values[0] / 100,\n",
    "    tau=rub_params.T1.values[0] / 100,\n",
    ")"
   ],
   "id": "22022c2785fd3da2",
   "outputs": [],
   "execution_count": 6
  },
  {
   "metadata": {
    "ExecuteTime": {
     "end_time": "2024-07-22T16:59:02.220721Z",
     "start_time": "2024-07-22T16:59:02.203189Z"
    }
   },
   "cell_type": "code",
   "source": [
    "curves = YieldCurves(\n",
    "    [\n",
    "        rub_curve,\n",
    "        ConstantRateCurve(\n",
    "            currency=\"EUR\",\n",
    "            constant_rate=EUR_RATE,  # as no NSS params are available, using flat curve\n",
    "        ),\n",
    "        ConstantRateCurve(\n",
    "            currency=\"GBP\",\n",
    "            constant_rate=GBP_RATE,  # as no NSS params are available, using flat curve\n",
    "        ),\n",
    "    ]\n",
    ")"
   ],
   "id": "2f53c89addd7c6bf",
   "outputs": [],
   "execution_count": 7
  },
  {
   "metadata": {},
   "cell_type": "markdown",
   "source": "## Run pricing.",
   "id": "65bc3eb3842d07fe"
  },
  {
   "metadata": {
    "ExecuteTime": {
     "end_time": "2024-07-22T16:59:02.237548Z",
     "start_time": "2024-07-22T16:59:02.221482Z"
    }
   },
   "cell_type": "code",
   "source": [
    "fixed_bond = FixedCouponBond(\n",
    "    yield_curve=rub_curve,\n",
    "    start_date=FIXING,\n",
    "    end_date=FINAL_FIXING,\n",
    "    fixed_coupon=FIXED_PAYMENT,\n",
    "    frequency=PAYMENT_FREQUENCY,\n",
    ")"
   ],
   "id": "655f5e04aaa902d2",
   "outputs": [],
   "execution_count": 8
  },
  {
   "metadata": {
    "ExecuteTime": {
     "end_time": "2024-07-22T17:00:04.216058Z",
     "start_time": "2024-07-22T16:59:02.238824Z"
    }
   },
   "cell_type": "code",
   "source": [
    "worst_of_digital = WorstOfDigitalMemoryCall(\n",
    "    underlyings=underlyings,\n",
    "    yield_curve=rub_curve,\n",
    "    strike_level=PAYMENT_BARRIER,\n",
    "    frequency=PAYMENT_FREQUENCY,\n",
    "    start_date=FIXING,\n",
    "    end_date=FINAL_FIXING,\n",
    "    digital_coupon=DIGITAL_COUPON,\n",
    "    random_seed=RANDOM_SEED,\n",
    ")\n",
    "\n",
    "quanto = QuantoOption(\n",
    "    option=worst_of_digital,\n",
    "    modifying_underlyings=fx,\n",
    "    yield_curves=curves,\n",
    "    random_seed=RANDOM_SEED,\n",
    ")\n",
    "\n",
    "warrant = fixed_bond + quanto\n",
    "print(f\"{warrant.price():,.4f} RUB\")"
   ],
   "id": "c38fd7618ee8ed15",
   "outputs": [
    {
     "name": "stdout",
     "output_type": "stream",
     "text": [
      "9.5099 RUB\n"
     ]
    }
   ],
   "execution_count": 9
  }
 ],
 "metadata": {
  "kernelspec": {
   "display_name": "Python 3",
   "language": "python",
   "name": "python3"
  },
  "language_info": {
   "codemirror_mode": {
    "name": "ipython",
    "version": 2
   },
   "file_extension": ".py",
   "mimetype": "text/x-python",
   "name": "python",
   "nbconvert_exporter": "python",
   "pygments_lexer": "ipython2",
   "version": "2.7.6"
  }
 },
 "nbformat": 4,
 "nbformat_minor": 5
}
