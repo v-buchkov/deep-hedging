{
 "cells": [
  {
   "metadata": {
    "ExecuteTime": {
     "end_time": "2024-07-23T19:10:20.190552Z",
     "start_time": "2024-07-23T19:10:20.155619Z"
    }
   },
   "cell_type": "code",
   "source": [
    "%load_ext autoreload\n",
    "%autoreload 2"
   ],
   "id": "e546b46bae2170df",
   "outputs": [],
   "execution_count": 1
  },
  {
   "cell_type": "code",
   "id": "initial_id",
   "metadata": {
    "collapsed": true,
    "ExecuteTime": {
     "end_time": "2024-07-23T19:10:21.710459Z",
     "start_time": "2024-07-23T19:10:20.193733Z"
    }
   },
   "source": [
    "import datetime as dt\n",
    "\n",
    "import numpy as np\n",
    "\n",
    "from deep_hedging import Underlyings, Ticker, ConstantRateCurve\n",
    "from deep_hedging.non_linear import (\n",
    "    WorstOfCall,\n",
    "    WorstOfPut,\n",
    "    WorstOfCallTwoAssets,\n",
    "    WorstOfPutTwoAssets,\n",
    ")\n",
    "from deep_hedging.monte_carlo import GBMPricer\n",
    "\n",
    "RANDOM_SEED = 12"
   ],
   "outputs": [],
   "execution_count": 2
  },
  {
   "metadata": {
    "ExecuteTime": {
     "end_time": "2024-07-23T19:10:21.724463Z",
     "start_time": "2024-07-23T19:10:21.711132Z"
    }
   },
   "cell_type": "code",
   "source": [
    "N_PATHS = 100_000\n",
    "N_STOCKS = 2\n",
    "TILL_MATURITY = 3.0\n",
    "N_DAYS = 365 * TILL_MATURITY\n",
    "RF_RATE = 0.03\n",
    "VOL1, VOL2 = 0.2, 0.3\n",
    "CORR = 0.4"
   ],
   "id": "c8fa6851e24330e",
   "outputs": [],
   "execution_count": 3
  },
  {
   "metadata": {
    "ExecuteTime": {
     "end_time": "2024-07-23T19:10:21.739887Z",
     "start_time": "2024-07-23T19:10:21.725167Z"
    }
   },
   "cell_type": "code",
   "source": "N_DAYS",
   "id": "3da7cf713d42420b",
   "outputs": [
    {
     "data": {
      "text/plain": [
       "1095.0"
      ]
     },
     "execution_count": 4,
     "metadata": {},
     "output_type": "execute_result"
    }
   ],
   "execution_count": 4
  },
  {
   "metadata": {
    "ExecuteTime": {
     "end_time": "2024-07-23T19:10:21.757721Z",
     "start_time": "2024-07-23T19:10:21.742311Z"
    }
   },
   "cell_type": "code",
   "source": [
    "np.random.seed(RANDOM_SEED)\n",
    "\n",
    "start = dt.datetime(2019, 1, 1)\n",
    "end = start + dt.timedelta(days=N_DAYS)\n",
    "\n",
    "var_covar = np.array([[VOL1**2, CORR * VOL1 * VOL2], [CORR * VOL1 * VOL2, VOL2**2]])\n",
    "\n",
    "underlyings = Underlyings(\n",
    "    tickers=[Ticker(f\"Stock {i + 1}\", f\"{i + 1}\") for i in range(N_STOCKS)],\n",
    "    start=start,\n",
    "    end=end,\n",
    "    dividends=np.array([0.0] * N_STOCKS),\n",
    "    means=np.array([RF_RATE] * N_STOCKS),\n",
    "    var_covar=var_covar,\n",
    ")\n",
    "underlyings.data"
   ],
   "id": "b9a8df03adcd4db7",
   "outputs": [],
   "execution_count": 5
  },
  {
   "metadata": {
    "ExecuteTime": {
     "end_time": "2024-07-23T19:10:21.773232Z",
     "start_time": "2024-07-23T19:10:21.758436Z"
    }
   },
   "cell_type": "code",
   "source": "np.sqrt(np.diag(underlyings.get_var_covar()))",
   "id": "b571cc548b81b9a8",
   "outputs": [
    {
     "data": {
      "text/plain": [
       "array([0.2, 0.3])"
      ]
     },
     "execution_count": 6,
     "metadata": {},
     "output_type": "execute_result"
    }
   ],
   "execution_count": 6
  },
  {
   "metadata": {
    "ExecuteTime": {
     "end_time": "2024-07-23T19:10:21.787727Z",
     "start_time": "2024-07-23T19:10:21.774240Z"
    }
   },
   "cell_type": "code",
   "source": "var_covar",
   "id": "ca787e69a5668f36",
   "outputs": [
    {
     "data": {
      "text/plain": [
       "array([[0.04 , 0.024],\n",
       "       [0.024, 0.09 ]])"
      ]
     },
     "execution_count": 7,
     "metadata": {},
     "output_type": "execute_result"
    }
   ],
   "execution_count": 7
  },
  {
   "metadata": {
    "ExecuteTime": {
     "end_time": "2024-07-23T19:10:21.804025Z",
     "start_time": "2024-07-23T19:10:21.788443Z"
    }
   },
   "cell_type": "code",
   "source": "curve = ConstantRateCurve(constant_rate=RF_RATE)",
   "id": "3edcf795959a8653",
   "outputs": [],
   "execution_count": 8
  },
  {
   "metadata": {},
   "cell_type": "markdown",
   "source": "## Exchange Option.",
   "id": "dc02fea374f5c32e"
  },
  {
   "metadata": {
    "ExecuteTime": {
     "end_time": "2024-07-23T19:10:21.819355Z",
     "start_time": "2024-07-23T19:10:21.804803Z"
    }
   },
   "cell_type": "code",
   "source": [
    "worst_of_call = WorstOfCallTwoAssets(\n",
    "    underlyings=underlyings,\n",
    "    yield_curve=curve,\n",
    "    strike_level=0.0,\n",
    "    start_date=start,\n",
    "    end_date=end,\n",
    ")"
   ],
   "id": "2bf204be1dfb1a84",
   "outputs": [],
   "execution_count": 9
  },
  {
   "metadata": {
    "ExecuteTime": {
     "end_time": "2024-07-23T19:10:21.832348Z",
     "start_time": "2024-07-23T19:10:21.820068Z"
    }
   },
   "cell_type": "code",
   "source": "pricer = GBMPricer(payoff_function=worst_of_call.payoff, random_seed=RANDOM_SEED)",
   "id": "8a341c4b3033fdb8",
   "outputs": [],
   "execution_count": 10
  },
  {
   "metadata": {
    "ExecuteTime": {
     "end_time": "2024-07-23T19:10:28.786978Z",
     "start_time": "2024-07-23T19:10:21.833051Z"
    }
   },
   "cell_type": "code",
   "source": [
    "worst_of_call.yield_curve.to_present_value(\n",
    "    pricer.future_value(\n",
    "        spot=[1.0, 1.0],\n",
    "        time_till_maturity=TILL_MATURITY,\n",
    "        risk_free_rate_fn=curve.get_instant_fwd_rate,\n",
    "        dividends_fn=lambda t: 0.0,\n",
    "        var_covar_fn=lambda t: np.array([var_covar] * len(t)),\n",
    "        n_paths=N_PATHS,\n",
    "    ),\n",
    "    worst_of_call.days_till_maturity,\n",
    ")"
   ],
   "id": "5e863039694672b8",
   "outputs": [
    {
     "data": {
      "text/plain": [
       "0.8035274260802041"
      ]
     },
     "execution_count": 11,
     "metadata": {},
     "output_type": "execute_result"
    }
   ],
   "execution_count": 11
  },
  {
   "metadata": {
    "ExecuteTime": {
     "end_time": "2024-07-23T19:10:28.809009Z",
     "start_time": "2024-07-23T19:10:28.788230Z"
    }
   },
   "cell_type": "code",
   "source": "worst_of_call.price()",
   "id": "48aa911b89c53538",
   "outputs": [
    {
     "data": {
      "text/plain": [
       "0.804140646599248"
      ]
     },
     "execution_count": 12,
     "metadata": {},
     "output_type": "execute_result"
    }
   ],
   "execution_count": 12
  },
  {
   "metadata": {
    "ExecuteTime": {
     "end_time": "2024-07-23T19:10:28.825663Z",
     "start_time": "2024-07-23T19:10:28.809780Z"
    }
   },
   "cell_type": "code",
   "source": [
    "worst_of_call._closed_out_price(spot_start=[1.0, 1.0])"
   ],
   "id": "f248ba6418228b9f",
   "outputs": [
    {
     "data": {
      "text/plain": [
       "0.8041406465983341"
      ]
     },
     "execution_count": 13,
     "metadata": {},
     "output_type": "execute_result"
    }
   ],
   "execution_count": 13
  },
  {
   "metadata": {},
   "cell_type": "markdown",
   "source": "## Worst-Of Call.",
   "id": "bc029cba85d574f5"
  },
  {
   "metadata": {
    "ExecuteTime": {
     "end_time": "2024-07-23T19:10:28.841723Z",
     "start_time": "2024-07-23T19:10:28.828431Z"
    }
   },
   "cell_type": "code",
   "source": [
    "worst_of_call = WorstOfCallTwoAssets(\n",
    "    underlyings=underlyings,\n",
    "    yield_curve=curve,\n",
    "    strike_level=1.0,\n",
    "    start_date=start,\n",
    "    end_date=end,\n",
    ")"
   ],
   "id": "4e50fb9badfb7f25",
   "outputs": [],
   "execution_count": 14
  },
  {
   "metadata": {
    "ExecuteTime": {
     "end_time": "2024-07-23T19:10:35.636833Z",
     "start_time": "2024-07-23T19:10:28.842342Z"
    }
   },
   "cell_type": "code",
   "source": [
    "pricer = GBMPricer(payoff_function=worst_of_call.payoff, random_seed=RANDOM_SEED)\n",
    "worst_of_call.yield_curve.to_present_value(\n",
    "    pricer.future_value(\n",
    "        spot=[1.0, 1.0],\n",
    "        time_till_maturity=TILL_MATURITY,\n",
    "        risk_free_rate_fn=curve.get_instant_fwd_rate,\n",
    "        dividends_fn=lambda t: 0.0,\n",
    "        var_covar_fn=lambda t: np.array([var_covar] * len(t)),\n",
    "        n_paths=N_PATHS,\n",
    "    ),\n",
    "    worst_of_call.days_till_maturity,\n",
    ")"
   ],
   "id": "eda3e37172899d9a",
   "outputs": [
    {
     "data": {
      "text/plain": [
       "0.08348976798244326"
      ]
     },
     "execution_count": 15,
     "metadata": {},
     "output_type": "execute_result"
    }
   ],
   "execution_count": 15
  },
  {
   "metadata": {
    "ExecuteTime": {
     "end_time": "2024-07-23T19:10:35.656183Z",
     "start_time": "2024-07-23T19:10:35.637800Z"
    }
   },
   "cell_type": "code",
   "source": "worst_of_call.price()",
   "id": "4fb2957235b1c435",
   "outputs": [
    {
     "data": {
      "text/plain": [
       "0.08383147759977133"
      ]
     },
     "execution_count": 16,
     "metadata": {},
     "output_type": "execute_result"
    }
   ],
   "execution_count": 16
  },
  {
   "metadata": {},
   "cell_type": "markdown",
   "source": "## Worst-Of Put.",
   "id": "d3ac9a317b7c7fa6"
  },
  {
   "metadata": {
    "ExecuteTime": {
     "end_time": "2024-07-23T19:10:35.672002Z",
     "start_time": "2024-07-23T19:10:35.656942Z"
    }
   },
   "cell_type": "code",
   "source": [
    "worst_of_put = WorstOfPutTwoAssets(\n",
    "    underlyings=underlyings,\n",
    "    yield_curve=curve,\n",
    "    strike_level=1.0,\n",
    "    start_date=start,\n",
    "    end_date=end,\n",
    ")"
   ],
   "id": "c8350e116ee0fbe9",
   "outputs": [],
   "execution_count": 17
  },
  {
   "metadata": {
    "ExecuteTime": {
     "end_time": "2024-07-23T19:10:42.496568Z",
     "start_time": "2024-07-23T19:10:35.673256Z"
    }
   },
   "cell_type": "code",
   "source": [
    "pricer = GBMPricer(payoff_function=worst_of_put.payoff, random_seed=RANDOM_SEED)\n",
    "worst_of_call.yield_curve.to_present_value(\n",
    "    pricer.future_value(\n",
    "        spot=[1.0, 1.0],\n",
    "        time_till_maturity=TILL_MATURITY,\n",
    "        risk_free_rate_fn=curve.get_instant_fwd_rate,\n",
    "        dividends_fn=lambda t: 0.0,\n",
    "        var_covar_fn=lambda t: np.array([var_covar] * len(t)),\n",
    "        n_paths=N_PATHS,\n",
    "    ),\n",
    "    worst_of_call.days_till_maturity,\n",
    ")"
   ],
   "id": "a56a18dfeeaff4b1",
   "outputs": [
    {
     "data": {
      "text/plain": [
       "0.19389352717346717"
      ]
     },
     "execution_count": 18,
     "metadata": {},
     "output_type": "execute_result"
    }
   ],
   "execution_count": 18
  },
  {
   "metadata": {
    "ExecuteTime": {
     "end_time": "2024-07-23T19:10:42.512587Z",
     "start_time": "2024-07-23T19:10:42.497316Z"
    }
   },
   "cell_type": "code",
   "source": "worst_of_put.price()",
   "id": "7f5472755a2d8ddb",
   "outputs": [
    {
     "data": {
      "text/plain": [
       "0.19362201627175152"
      ]
     },
     "execution_count": 19,
     "metadata": {},
     "output_type": "execute_result"
    }
   ],
   "execution_count": 19
  }
 ],
 "metadata": {
  "kernelspec": {
   "display_name": "Python 3",
   "language": "python",
   "name": "python3"
  },
  "language_info": {
   "codemirror_mode": {
    "name": "ipython",
    "version": 2
   },
   "file_extension": ".py",
   "mimetype": "text/x-python",
   "name": "python",
   "nbconvert_exporter": "python",
   "pygments_lexer": "ipython2",
   "version": "2.7.6"
  }
 },
 "nbformat": 4,
 "nbformat_minor": 5
}
