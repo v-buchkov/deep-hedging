{
 "cells": [
  {
   "metadata": {
    "ExecuteTime": {
     "end_time": "2024-07-24T15:28:10.897336Z",
     "start_time": "2024-07-24T15:28:10.872403Z"
    }
   },
   "cell_type": "code",
   "source": [
    "%load_ext autoreload\n",
    "%autoreload 2"
   ],
   "id": "e546b46bae2170df",
   "outputs": [],
   "execution_count": 1
  },
  {
   "cell_type": "code",
   "id": "initial_id",
   "metadata": {
    "collapsed": true,
    "ExecuteTime": {
     "end_time": "2024-07-24T15:28:12.465137Z",
     "start_time": "2024-07-24T15:28:10.898651Z"
    }
   },
   "source": [
    "import datetime as dt\n",
    "\n",
    "import numpy as np\n",
    "\n",
    "from deep_hedging import Underlyings, Ticker, ConstantRateCurve\n",
    "from deep_hedging.non_linear import (\n",
    "    WorstOfCall,\n",
    "    WorstOfPut,\n",
    "    WorstOfCallTwoAssets,\n",
    "    WorstOfPutTwoAssets,\n",
    ")\n",
    "from deep_hedging.monte_carlo import GBMSimulator\n",
    "\n",
    "RANDOM_SEED = 12"
   ],
   "outputs": [],
   "execution_count": 2
  },
  {
   "metadata": {
    "ExecuteTime": {
     "end_time": "2024-07-24T15:28:12.479352Z",
     "start_time": "2024-07-24T15:28:12.465988Z"
    }
   },
   "cell_type": "code",
   "source": [
    "N_PATHS = 100_000\n",
    "N_STOCKS = 2\n",
    "TILL_MATURITY = 3.0\n",
    "N_DAYS = 365 * TILL_MATURITY\n",
    "RF_RATE = 0.03\n",
    "VOL1, VOL2 = 0.2, 0.3\n",
    "CORR = 0.4"
   ],
   "id": "c8fa6851e24330e",
   "outputs": [],
   "execution_count": 3
  },
  {
   "metadata": {
    "ExecuteTime": {
     "end_time": "2024-07-24T15:28:12.494846Z",
     "start_time": "2024-07-24T15:28:12.480129Z"
    }
   },
   "cell_type": "code",
   "source": "N_DAYS",
   "id": "3da7cf713d42420b",
   "outputs": [
    {
     "data": {
      "text/plain": [
       "1095.0"
      ]
     },
     "execution_count": 4,
     "metadata": {},
     "output_type": "execute_result"
    }
   ],
   "execution_count": 4
  },
  {
   "metadata": {
    "ExecuteTime": {
     "end_time": "2024-07-24T15:28:12.510993Z",
     "start_time": "2024-07-24T15:28:12.496848Z"
    }
   },
   "cell_type": "code",
   "source": [
    "np.random.seed(RANDOM_SEED)\n",
    "\n",
    "start = dt.datetime(2019, 1, 1)\n",
    "end = start + dt.timedelta(days=N_DAYS)\n",
    "\n",
    "var_covar = np.array([[VOL1**2, CORR * VOL1 * VOL2], [CORR * VOL1 * VOL2, VOL2**2]])\n",
    "\n",
    "underlyings = Underlyings(\n",
    "    tickers=[Ticker(f\"Stock {i + 1}\", f\"{i + 1}\") for i in range(N_STOCKS)],\n",
    "    start=start,\n",
    "    end=end,\n",
    "    dividends=np.array([0.0] * N_STOCKS),\n",
    "    means=np.array([RF_RATE] * N_STOCKS),\n",
    "    var_covar=var_covar,\n",
    ")\n",
    "underlyings.data"
   ],
   "id": "b9a8df03adcd4db7",
   "outputs": [],
   "execution_count": 5
  },
  {
   "metadata": {
    "ExecuteTime": {
     "end_time": "2024-07-24T15:28:12.525270Z",
     "start_time": "2024-07-24T15:28:12.511722Z"
    }
   },
   "cell_type": "code",
   "source": "np.sqrt(np.diag(underlyings.get_var_covar()))",
   "id": "b571cc548b81b9a8",
   "outputs": [
    {
     "data": {
      "text/plain": [
       "array([0.2, 0.3])"
      ]
     },
     "execution_count": 6,
     "metadata": {},
     "output_type": "execute_result"
    }
   ],
   "execution_count": 6
  },
  {
   "metadata": {
    "ExecuteTime": {
     "end_time": "2024-07-24T15:28:12.540264Z",
     "start_time": "2024-07-24T15:28:12.526017Z"
    }
   },
   "cell_type": "code",
   "source": "var_covar",
   "id": "ca787e69a5668f36",
   "outputs": [
    {
     "data": {
      "text/plain": [
       "array([[0.04 , 0.024],\n",
       "       [0.024, 0.09 ]])"
      ]
     },
     "execution_count": 7,
     "metadata": {},
     "output_type": "execute_result"
    }
   ],
   "execution_count": 7
  },
  {
   "metadata": {
    "ExecuteTime": {
     "end_time": "2024-07-24T15:28:12.555745Z",
     "start_time": "2024-07-24T15:28:12.540986Z"
    }
   },
   "cell_type": "code",
   "source": "curve = ConstantRateCurve(constant_rate=RF_RATE)",
   "id": "3edcf795959a8653",
   "outputs": [],
   "execution_count": 8
  },
  {
   "metadata": {},
   "cell_type": "markdown",
   "source": "## Exchange Option.",
   "id": "dc02fea374f5c32e"
  },
  {
   "metadata": {
    "ExecuteTime": {
     "end_time": "2024-07-24T15:28:12.570249Z",
     "start_time": "2024-07-24T15:28:12.556773Z"
    }
   },
   "cell_type": "code",
   "source": [
    "worst_of_call = WorstOfCallTwoAssets(\n",
    "    underlyings=underlyings,\n",
    "    yield_curve=curve,\n",
    "    strike_level=0.0,\n",
    "    start_date=start,\n",
    "    end_date=end,\n",
    ")"
   ],
   "id": "2bf204be1dfb1a84",
   "outputs": [],
   "execution_count": 9
  },
  {
   "metadata": {
    "ExecuteTime": {
     "end_time": "2024-07-24T15:28:12.584825Z",
     "start_time": "2024-07-24T15:28:12.571492Z"
    }
   },
   "cell_type": "code",
   "source": "pricer = GBMSimulator(payoff_function=worst_of_call.payoff, random_seed=RANDOM_SEED)",
   "id": "8a341c4b3033fdb8",
   "outputs": [],
   "execution_count": 10
  },
  {
   "metadata": {
    "ExecuteTime": {
     "end_time": "2024-08-06T09:08:27.921607Z",
     "start_time": "2024-08-06T09:08:27.824839Z"
    }
   },
   "cell_type": "code",
   "source": [
    "worst_of_call.yield_curve.to_present_value(\n",
    "    pricer.future_value(\n",
    "        spot=[1.0, 1.0],\n",
    "        time_till_maturity=TILL_MATURITY,\n",
    "        risk_free_rate_fn=curve.get_instant_fwd_rate,\n",
    "        dividends_fn=lambda t: 0.0,\n",
    "        var_covar_fn=lambda t: np.array([var_covar] * len(t)),\n",
    "        n_paths=N_PATHS,\n",
    "    ),\n",
    "    worst_of_call.days_till_maturity,\n",
    ")"
   ],
   "id": "5e863039694672b8",
   "outputs": [
    {
     "ename": "NameError",
     "evalue": "name 'worst_of_call' is not defined",
     "output_type": "error",
     "traceback": [
      "\u001B[0;31m---------------------------------------------------------------------------\u001B[0m",
      "\u001B[0;31mNameError\u001B[0m                                 Traceback (most recent call last)",
      "Cell \u001B[0;32mIn[1], line 1\u001B[0m\n\u001B[0;32m----> 1\u001B[0m \u001B[43mworst_of_call\u001B[49m\u001B[38;5;241m.\u001B[39myield_curve\u001B[38;5;241m.\u001B[39mto_present_value(\n\u001B[1;32m      2\u001B[0m     pricer\u001B[38;5;241m.\u001B[39mfuture_value(\n\u001B[1;32m      3\u001B[0m         spot\u001B[38;5;241m=\u001B[39m[\u001B[38;5;241m1.0\u001B[39m, \u001B[38;5;241m1.0\u001B[39m],\n\u001B[1;32m      4\u001B[0m         time_till_maturity\u001B[38;5;241m=\u001B[39mTILL_MATURITY,\n\u001B[1;32m      5\u001B[0m         risk_free_rate_fn\u001B[38;5;241m=\u001B[39mcurve\u001B[38;5;241m.\u001B[39mget_instant_fwd_rate,\n\u001B[1;32m      6\u001B[0m         dividends_fn\u001B[38;5;241m=\u001B[39m\u001B[38;5;28;01mlambda\u001B[39;00m t: \u001B[38;5;241m0.0\u001B[39m,\n\u001B[1;32m      7\u001B[0m         var_covar_fn\u001B[38;5;241m=\u001B[39m\u001B[38;5;28;01mlambda\u001B[39;00m t: np\u001B[38;5;241m.\u001B[39marray([var_covar] \u001B[38;5;241m*\u001B[39m \u001B[38;5;28mlen\u001B[39m(t)),\n\u001B[1;32m      8\u001B[0m         n_paths\u001B[38;5;241m=\u001B[39mN_PATHS,\n\u001B[1;32m      9\u001B[0m     ),\n\u001B[1;32m     10\u001B[0m     worst_of_call\u001B[38;5;241m.\u001B[39mdays_till_maturity,\n\u001B[1;32m     11\u001B[0m )\n",
      "\u001B[0;31mNameError\u001B[0m: name 'worst_of_call' is not defined"
     ]
    }
   ],
   "execution_count": 1
  },
  {
   "metadata": {
    "ExecuteTime": {
     "end_time": "2024-07-24T15:28:20.271623Z",
     "start_time": "2024-07-24T15:28:20.249951Z"
    }
   },
   "cell_type": "code",
   "source": "worst_of_call.price()",
   "id": "48aa911b89c53538",
   "outputs": [
    {
     "data": {
      "text/plain": [
       "0.804140646599248"
      ]
     },
     "execution_count": 12,
     "metadata": {},
     "output_type": "execute_result"
    }
   ],
   "execution_count": 12
  },
  {
   "metadata": {
    "ExecuteTime": {
     "end_time": "2024-07-24T15:28:20.287431Z",
     "start_time": "2024-07-24T15:28:20.272411Z"
    }
   },
   "cell_type": "code",
   "source": [
    "worst_of_call._closed_out_price(spot_start=[1.0, 1.0])"
   ],
   "id": "f248ba6418228b9f",
   "outputs": [
    {
     "data": {
      "text/plain": [
       "0.8041406465983341"
      ]
     },
     "execution_count": 13,
     "metadata": {},
     "output_type": "execute_result"
    }
   ],
   "execution_count": 13
  },
  {
   "metadata": {},
   "cell_type": "markdown",
   "source": "## Worst-Of Call.",
   "id": "bc029cba85d574f5"
  },
  {
   "metadata": {
    "ExecuteTime": {
     "end_time": "2024-07-24T15:28:20.302192Z",
     "start_time": "2024-07-24T15:28:20.289937Z"
    }
   },
   "cell_type": "code",
   "source": [
    "worst_of_call = WorstOfCallTwoAssets(\n",
    "    underlyings=underlyings,\n",
    "    yield_curve=curve,\n",
    "    strike_level=1.0,\n",
    "    start_date=start,\n",
    "    end_date=end,\n",
    ")"
   ],
   "id": "4e50fb9badfb7f25",
   "outputs": [],
   "execution_count": 14
  },
  {
   "metadata": {
    "ExecuteTime": {
     "end_time": "2024-07-24T15:28:27.960222Z",
     "start_time": "2024-07-24T15:28:20.303013Z"
    }
   },
   "cell_type": "code",
   "source": [
    "pricer = GBMSimulator(payoff_function=worst_of_call.payoff, random_seed=RANDOM_SEED)\n",
    "worst_of_call.yield_curve.to_present_value(\n",
    "    pricer.future_value(\n",
    "        spot=[1.0, 1.0],\n",
    "        time_till_maturity=TILL_MATURITY,\n",
    "        risk_free_rate_fn=curve.get_instant_fwd_rate,\n",
    "        dividends_fn=lambda t: 0.0,\n",
    "        var_covar_fn=lambda t: np.array([var_covar] * len(t)),\n",
    "        n_paths=N_PATHS,\n",
    "    ),\n",
    "    worst_of_call.days_till_maturity,\n",
    ")"
   ],
   "id": "eda3e37172899d9a",
   "outputs": [
    {
     "data": {
      "text/plain": [
       "0.08348976798244326"
      ]
     },
     "execution_count": 15,
     "metadata": {},
     "output_type": "execute_result"
    }
   ],
   "execution_count": 15
  },
  {
   "metadata": {
    "ExecuteTime": {
     "end_time": "2024-07-24T15:28:27.983056Z",
     "start_time": "2024-07-24T15:28:27.961432Z"
    }
   },
   "cell_type": "code",
   "source": "worst_of_call.price()",
   "id": "4fb2957235b1c435",
   "outputs": [
    {
     "data": {
      "text/plain": [
       "0.08383147759977133"
      ]
     },
     "execution_count": 16,
     "metadata": {},
     "output_type": "execute_result"
    }
   ],
   "execution_count": 16
  },
  {
   "metadata": {},
   "cell_type": "markdown",
   "source": "## Worst-Of Put.",
   "id": "d3ac9a317b7c7fa6"
  },
  {
   "metadata": {
    "ExecuteTime": {
     "end_time": "2024-07-24T15:28:27.997626Z",
     "start_time": "2024-07-24T15:28:27.983736Z"
    }
   },
   "cell_type": "code",
   "source": [
    "worst_of_put = WorstOfPutTwoAssets(\n",
    "    underlyings=underlyings,\n",
    "    yield_curve=curve,\n",
    "    strike_level=1.0,\n",
    "    start_date=start,\n",
    "    end_date=end,\n",
    ")"
   ],
   "id": "c8350e116ee0fbe9",
   "outputs": [],
   "execution_count": 17
  },
  {
   "metadata": {
    "ExecuteTime": {
     "end_time": "2024-07-24T15:28:34.244842Z",
     "start_time": "2024-07-24T15:28:27.998492Z"
    }
   },
   "cell_type": "code",
   "source": [
    "pricer = GBMSimulator(payoff_function=worst_of_put.payoff, random_seed=RANDOM_SEED)\n",
    "worst_of_call.yield_curve.to_present_value(\n",
    "    pricer.future_value(\n",
    "        spot=[1.0, 1.0],\n",
    "        time_till_maturity=TILL_MATURITY,\n",
    "        risk_free_rate_fn=curve.get_instant_fwd_rate,\n",
    "        dividends_fn=lambda t: 0.0,\n",
    "        var_covar_fn=lambda t: np.array([var_covar] * len(t)),\n",
    "        n_paths=N_PATHS,\n",
    "    ),\n",
    "    worst_of_call.days_till_maturity,\n",
    ")"
   ],
   "id": "a56a18dfeeaff4b1",
   "outputs": [
    {
     "data": {
      "text/plain": [
       "0.19389352717346717"
      ]
     },
     "execution_count": 18,
     "metadata": {},
     "output_type": "execute_result"
    }
   ],
   "execution_count": 18
  },
  {
   "metadata": {
    "ExecuteTime": {
     "end_time": "2024-07-24T15:28:34.260747Z",
     "start_time": "2024-07-24T15:28:34.245661Z"
    }
   },
   "cell_type": "code",
   "source": "worst_of_put.price()",
   "id": "7f5472755a2d8ddb",
   "outputs": [
    {
     "data": {
      "text/plain": [
       "0.19362201627175152"
      ]
     },
     "execution_count": 19,
     "metadata": {},
     "output_type": "execute_result"
    }
   ],
   "execution_count": 19
  }
 ],
 "metadata": {
  "kernelspec": {
   "display_name": "Python 3",
   "language": "python",
   "name": "python3"
  },
  "language_info": {
   "codemirror_mode": {
    "name": "ipython",
    "version": 2
   },
   "file_extension": ".py",
   "mimetype": "text/x-python",
   "name": "python",
   "nbconvert_exporter": "python",
   "pygments_lexer": "ipython2",
   "version": "2.7.6"
  }
 },
 "nbformat": 4,
 "nbformat_minor": 5
}
