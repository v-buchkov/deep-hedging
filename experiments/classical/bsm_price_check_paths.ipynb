{
 "cells": [
  {
   "metadata": {
    "ExecuteTime": {
     "end_time": "2024-07-02T18:49:55.067709Z",
     "start_time": "2024-07-02T18:49:55.055205Z"
    }
   },
   "cell_type": "code",
   "source": [
    "%load_ext autoreload\n",
    "%autoreload 2"
   ],
   "id": "e546b46bae2170df",
   "outputs": [],
   "execution_count": 1
  },
  {
   "cell_type": "code",
   "id": "initial_id",
   "metadata": {
    "collapsed": true,
    "ExecuteTime": {
     "end_time": "2024-07-02T18:49:57.981154Z",
     "start_time": "2024-07-02T18:49:55.071036Z"
    }
   },
   "source": [
    "import datetime as dt\n",
    "\n",
    "import numpy as np\n",
    "import pandas as pd\n",
    "\n",
    "from deep_hedging import (\n",
    "    Underlyings,\n",
    "    Ticker,\n",
    "    ConstantRateCurve,\n",
    "    EuropeanCall,\n",
    "    EuropeanPut,\n",
    ")\n",
    "from deep_hedging.monte_carlo import GBMPricer\n",
    "\n",
    "RANDOM_SEED = 12"
   ],
   "outputs": [],
   "execution_count": 2
  },
  {
   "metadata": {
    "ExecuteTime": {
     "end_time": "2024-07-02T18:49:57.996097Z",
     "start_time": "2024-07-02T18:49:57.981849Z"
    }
   },
   "cell_type": "code",
   "source": [
    "N_PATHS = 100_000\n",
    "N_STOCKS = 1\n",
    "TILL_MATURITY = 3.0\n",
    "N_DAYS = 365 * TILL_MATURITY\n",
    "RF_RATE = 0.03\n",
    "VOL = 0.2"
   ],
   "id": "c8fa6851e24330e",
   "outputs": [],
   "execution_count": 3
  },
  {
   "metadata": {
    "ExecuteTime": {
     "end_time": "2024-07-02T18:49:58.013771Z",
     "start_time": "2024-07-02T18:49:57.996794Z"
    }
   },
   "cell_type": "code",
   "source": "N_DAYS",
   "id": "3da7cf713d42420b",
   "outputs": [
    {
     "data": {
      "text/plain": [
       "1095.0"
      ]
     },
     "execution_count": 4,
     "metadata": {},
     "output_type": "execute_result"
    }
   ],
   "execution_count": 4
  },
  {
   "metadata": {
    "ExecuteTime": {
     "end_time": "2024-07-02T19:12:05.469950Z",
     "start_time": "2024-07-02T19:12:05.432898Z"
    }
   },
   "cell_type": "code",
   "source": [
    "np.random.seed(RANDOM_SEED)\n",
    "\n",
    "start = dt.datetime(2019, 1, 1)\n",
    "end = start + dt.timedelta(days=N_DAYS)\n",
    "\n",
    "random_returns = np.concatenate(\n",
    "    [\n",
    "        np.expand_dims(np.array([1.0]), 1),\n",
    "        np.exp(\n",
    "            (RF_RATE - VOL**2 / 2) / 252\n",
    "            + VOL / np.sqrt(252) * np.random.randn((end - start).days, N_STOCKS)\n",
    "        ),\n",
    "    ],\n",
    "    axis=0,\n",
    ")\n",
    "data = pd.DataFrame(\n",
    "    random_returns,\n",
    "    columns=[\"price\"],\n",
    ")\n",
    "initial = data.copy()\n",
    "data[\"price\"] = data[\"price\"].cumprod()\n",
    "data[\"index\"] = pd.date_range(start=start, end=end, freq=\"1D\")\n",
    "data.set_index(\"index\", inplace=True)\n",
    "\n",
    "underlyings = Underlyings(\n",
    "    tickers=[Ticker(f\"Stock {i + 1}\", f\"{i + 1}\") for i in range(N_STOCKS)],\n",
    "    start=start,\n",
    "    end=end,\n",
    "    data=data,\n",
    "    dividends=np.array([0.0] * N_STOCKS),\n",
    ")\n",
    "underlyings.data"
   ],
   "id": "b9a8df03adcd4db7",
   "outputs": [
    {
     "data": {
      "text/plain": [
       "               price\n",
       "index               \n",
       "2019-01-01  1.000000\n",
       "2019-01-02  1.006017\n",
       "2019-01-03  0.997457\n",
       "2019-01-04  1.000548\n",
       "2019-01-05  0.979375\n",
       "...              ...\n",
       "2021-12-27  0.979848\n",
       "2021-12-28  0.990444\n",
       "2021-12-29  0.984784\n",
       "2021-12-30  1.000918\n",
       "2021-12-31  0.976183\n",
       "\n",
       "[1096 rows x 1 columns]"
      ],
      "text/html": [
       "<div>\n",
       "<style scoped>\n",
       "    .dataframe tbody tr th:only-of-type {\n",
       "        vertical-align: middle;\n",
       "    }\n",
       "\n",
       "    .dataframe tbody tr th {\n",
       "        vertical-align: top;\n",
       "    }\n",
       "\n",
       "    .dataframe thead th {\n",
       "        text-align: right;\n",
       "    }\n",
       "</style>\n",
       "<table border=\"1\" class=\"dataframe\">\n",
       "  <thead>\n",
       "    <tr style=\"text-align: right;\">\n",
       "      <th></th>\n",
       "      <th>price</th>\n",
       "    </tr>\n",
       "    <tr>\n",
       "      <th>index</th>\n",
       "      <th></th>\n",
       "    </tr>\n",
       "  </thead>\n",
       "  <tbody>\n",
       "    <tr>\n",
       "      <th>2019-01-01</th>\n",
       "      <td>1.000000</td>\n",
       "    </tr>\n",
       "    <tr>\n",
       "      <th>2019-01-02</th>\n",
       "      <td>1.006017</td>\n",
       "    </tr>\n",
       "    <tr>\n",
       "      <th>2019-01-03</th>\n",
       "      <td>0.997457</td>\n",
       "    </tr>\n",
       "    <tr>\n",
       "      <th>2019-01-04</th>\n",
       "      <td>1.000548</td>\n",
       "    </tr>\n",
       "    <tr>\n",
       "      <th>2019-01-05</th>\n",
       "      <td>0.979375</td>\n",
       "    </tr>\n",
       "    <tr>\n",
       "      <th>...</th>\n",
       "      <td>...</td>\n",
       "    </tr>\n",
       "    <tr>\n",
       "      <th>2021-12-27</th>\n",
       "      <td>0.979848</td>\n",
       "    </tr>\n",
       "    <tr>\n",
       "      <th>2021-12-28</th>\n",
       "      <td>0.990444</td>\n",
       "    </tr>\n",
       "    <tr>\n",
       "      <th>2021-12-29</th>\n",
       "      <td>0.984784</td>\n",
       "    </tr>\n",
       "    <tr>\n",
       "      <th>2021-12-30</th>\n",
       "      <td>1.000918</td>\n",
       "    </tr>\n",
       "    <tr>\n",
       "      <th>2021-12-31</th>\n",
       "      <td>0.976183</td>\n",
       "    </tr>\n",
       "  </tbody>\n",
       "</table>\n",
       "<p>1096 rows × 1 columns</p>\n",
       "</div>"
      ]
     },
     "execution_count": 56,
     "metadata": {},
     "output_type": "execute_result"
    }
   ],
   "execution_count": 56
  },
  {
   "metadata": {
    "ExecuteTime": {
     "end_time": "2024-07-02T19:29:18.914243Z",
     "start_time": "2024-07-02T19:29:18.890756Z"
    }
   },
   "cell_type": "code",
   "source": [
    "np.random.seed(RANDOM_SEED)\n",
    "(VOL / np.sqrt(252) * np.random.randn(100_000, N_STOCKS)).std(ddof=0) * np.sqrt(252)"
   ],
   "id": "a35780f3ab7b58a2",
   "outputs": [
    {
     "data": {
      "text/plain": [
       "0.1994663037488388"
      ]
     },
     "execution_count": 110,
     "metadata": {},
     "output_type": "execute_result"
    }
   ],
   "execution_count": 110
  },
  {
   "metadata": {
    "ExecuteTime": {
     "end_time": "2024-07-02T19:26:49.500534Z",
     "start_time": "2024-07-02T19:26:49.441354Z"
    }
   },
   "cell_type": "code",
   "source": [
    "np.random.seed(RANDOM_SEED)\n",
    "r = np.random.randn((end - start).days, N_STOCKS)\n",
    "r"
   ],
   "id": "b98afd5370e5277b",
   "outputs": [
    {
     "data": {
      "text/plain": [
       "array([[ 0.47298583],\n",
       "       [-0.68142588],\n",
       "       [ 0.2424395 ],\n",
       "       ...,\n",
       "       [-0.45801124],\n",
       "       [ 1.28664739],\n",
       "       [-1.98921027]])"
      ]
     },
     "execution_count": 100,
     "metadata": {},
     "output_type": "execute_result"
    }
   ],
   "execution_count": 100
  },
  {
   "metadata": {
    "ExecuteTime": {
     "end_time": "2024-07-02T19:27:32.698572Z",
     "start_time": "2024-07-02T19:27:32.648412Z"
    }
   },
   "cell_type": "code",
   "source": "r.mean()",
   "id": "d6f1cc679bf979a0",
   "outputs": [
    {
     "data": {
      "text/plain": [
       "-0.0048969702011397685"
      ]
     },
     "execution_count": 104,
     "metadata": {},
     "output_type": "execute_result"
    }
   ],
   "execution_count": 104
  },
  {
   "metadata": {
    "ExecuteTime": {
     "end_time": "2024-07-02T19:28:10.171809Z",
     "start_time": "2024-07-02T19:28:10.104073Z"
    }
   },
   "cell_type": "code",
   "source": "np.mean((r - r.mean()) ** 2) / d((end - start).days)",
   "id": "557fd8834fcd4af",
   "outputs": [
    {
     "data": {
      "text/plain": [
       "1.0514899320057765"
      ]
     },
     "execution_count": 106,
     "metadata": {},
     "output_type": "execute_result"
    }
   ],
   "execution_count": 106
  },
  {
   "metadata": {
    "ExecuteTime": {
     "end_time": "2024-07-02T19:26:14.716422Z",
     "start_time": "2024-07-02T19:26:14.676802Z"
    }
   },
   "cell_type": "code",
   "source": "d((end - start).days)",
   "id": "e8ccb5291f3dc659",
   "outputs": [
    {
     "data": {
      "text/plain": [
       "0.9997715069447598"
      ]
     },
     "execution_count": 99,
     "metadata": {},
     "output_type": "execute_result"
    }
   ],
   "execution_count": 99
  },
  {
   "metadata": {
    "ExecuteTime": {
     "end_time": "2024-07-02T19:15:47.653727Z",
     "start_time": "2024-07-02T19:15:47.631372Z"
    }
   },
   "cell_type": "code",
   "source": "np.log(random_returns[1:]).std() * np.sqrt(252)",
   "id": "3053e734f5a998e9",
   "outputs": [
    {
     "data": {
      "text/plain": [
       "0.20506093473488884"
      ]
     },
     "execution_count": 72,
     "metadata": {},
     "output_type": "execute_result"
    }
   ],
   "execution_count": 72
  },
  {
   "metadata": {
    "ExecuteTime": {
     "end_time": "2024-07-02T19:14:08.217573Z",
     "start_time": "2024-07-02T19:14:08.193653Z"
    }
   },
   "cell_type": "code",
   "source": "data / data.shift(1)",
   "id": "336548b48c66778c",
   "outputs": [
    {
     "data": {
      "text/plain": [
       "               price\n",
       "index               \n",
       "2019-01-01       NaN\n",
       "2019-01-02  1.006017\n",
       "2019-01-03  0.991491\n",
       "2019-01-04  1.003099\n",
       "2019-01-05  0.978840\n",
       "...              ...\n",
       "2021-12-27  1.015071\n",
       "2021-12-28  1.010814\n",
       "2021-12-29  0.994286\n",
       "2021-12-30  1.016383\n",
       "2021-12-31  0.975288\n",
       "\n",
       "[1096 rows x 1 columns]"
      ],
      "text/html": [
       "<div>\n",
       "<style scoped>\n",
       "    .dataframe tbody tr th:only-of-type {\n",
       "        vertical-align: middle;\n",
       "    }\n",
       "\n",
       "    .dataframe tbody tr th {\n",
       "        vertical-align: top;\n",
       "    }\n",
       "\n",
       "    .dataframe thead th {\n",
       "        text-align: right;\n",
       "    }\n",
       "</style>\n",
       "<table border=\"1\" class=\"dataframe\">\n",
       "  <thead>\n",
       "    <tr style=\"text-align: right;\">\n",
       "      <th></th>\n",
       "      <th>price</th>\n",
       "    </tr>\n",
       "    <tr>\n",
       "      <th>index</th>\n",
       "      <th></th>\n",
       "    </tr>\n",
       "  </thead>\n",
       "  <tbody>\n",
       "    <tr>\n",
       "      <th>2019-01-01</th>\n",
       "      <td>NaN</td>\n",
       "    </tr>\n",
       "    <tr>\n",
       "      <th>2019-01-02</th>\n",
       "      <td>1.006017</td>\n",
       "    </tr>\n",
       "    <tr>\n",
       "      <th>2019-01-03</th>\n",
       "      <td>0.991491</td>\n",
       "    </tr>\n",
       "    <tr>\n",
       "      <th>2019-01-04</th>\n",
       "      <td>1.003099</td>\n",
       "    </tr>\n",
       "    <tr>\n",
       "      <th>2019-01-05</th>\n",
       "      <td>0.978840</td>\n",
       "    </tr>\n",
       "    <tr>\n",
       "      <th>...</th>\n",
       "      <td>...</td>\n",
       "    </tr>\n",
       "    <tr>\n",
       "      <th>2021-12-27</th>\n",
       "      <td>1.015071</td>\n",
       "    </tr>\n",
       "    <tr>\n",
       "      <th>2021-12-28</th>\n",
       "      <td>1.010814</td>\n",
       "    </tr>\n",
       "    <tr>\n",
       "      <th>2021-12-29</th>\n",
       "      <td>0.994286</td>\n",
       "    </tr>\n",
       "    <tr>\n",
       "      <th>2021-12-30</th>\n",
       "      <td>1.016383</td>\n",
       "    </tr>\n",
       "    <tr>\n",
       "      <th>2021-12-31</th>\n",
       "      <td>0.975288</td>\n",
       "    </tr>\n",
       "  </tbody>\n",
       "</table>\n",
       "<p>1096 rows × 1 columns</p>\n",
       "</div>"
      ]
     },
     "execution_count": 66,
     "metadata": {},
     "output_type": "execute_result"
    }
   ],
   "execution_count": 66
  },
  {
   "metadata": {
    "ExecuteTime": {
     "end_time": "2024-07-02T19:16:57.296812Z",
     "start_time": "2024-07-02T19:16:57.278007Z"
    }
   },
   "cell_type": "code",
   "source": "np.log(data / data.shift(1)).std(ddof=0) * np.sqrt(252)",
   "id": "69c4395909c1faf4",
   "outputs": [
    {
     "data": {
      "text/plain": [
       "price    0.205061\n",
       "dtype: float64"
      ]
     },
     "execution_count": 78,
     "metadata": {},
     "output_type": "execute_result"
    }
   ],
   "execution_count": 78
  },
  {
   "metadata": {
    "ExecuteTime": {
     "end_time": "2024-07-02T19:13:39.246153Z",
     "start_time": "2024-07-02T19:13:39.198600Z"
    }
   },
   "cell_type": "code",
   "source": "np.log(random_returns[1:]).std()",
   "id": "49226320ab624017",
   "outputs": [
    {
     "data": {
      "text/plain": [
       "0.012917624688641965"
      ]
     },
     "execution_count": 64,
     "metadata": {},
     "output_type": "execute_result"
    }
   ],
   "execution_count": 64
  },
  {
   "metadata": {
    "ExecuteTime": {
     "end_time": "2024-07-02T19:12:07.840912Z",
     "start_time": "2024-07-02T19:12:07.814349Z"
    }
   },
   "cell_type": "code",
   "source": "np.sqrt(np.diag(underlyings.get_var_covar()))",
   "id": "b571cc548b81b9a8",
   "outputs": [
    {
     "data": {
      "text/plain": [
       "array([0.20508802])"
      ]
     },
     "execution_count": 58,
     "metadata": {},
     "output_type": "execute_result"
    }
   ],
   "execution_count": 58
  },
  {
   "metadata": {
    "ExecuteTime": {
     "end_time": "2024-07-02T18:49:58.084612Z",
     "start_time": "2024-07-02T18:49:58.068131Z"
    }
   },
   "cell_type": "code",
   "source": "curve = ConstantRateCurve(rate=RF_RATE)",
   "id": "3edcf795959a8653",
   "outputs": [],
   "execution_count": 7
  },
  {
   "metadata": {
    "ExecuteTime": {
     "end_time": "2024-07-02T18:49:58.100909Z",
     "start_time": "2024-07-02T18:49:58.085425Z"
    }
   },
   "cell_type": "code",
   "source": [
    "european_call = EuropeanCall(\n",
    "    underlyings=underlyings,\n",
    "    yield_curve=curve,\n",
    "    strike_level=1.0,\n",
    "    start_date=start,\n",
    "    end_date=end,\n",
    ")"
   ],
   "id": "2bf204be1dfb1a84",
   "outputs": [],
   "execution_count": 8
  },
  {
   "metadata": {
    "ExecuteTime": {
     "end_time": "2024-07-02T18:49:58.117371Z",
     "start_time": "2024-07-02T18:49:58.101951Z"
    }
   },
   "cell_type": "code",
   "source": [
    "pricer = GBMPricer(payoff_function=european_call.payoff, random_seed=RANDOM_SEED)"
   ],
   "id": "8a341c4b3033fdb8",
   "outputs": [],
   "execution_count": 9
  },
  {
   "metadata": {
    "ExecuteTime": {
     "end_time": "2024-07-02T18:50:01.181456Z",
     "start_time": "2024-07-02T18:49:58.118853Z"
    }
   },
   "cell_type": "code",
   "source": [
    "paths = pricer.get_paths(\n",
    "    current_spot=[1.0],\n",
    "    time_till_maturity=TILL_MATURITY,\n",
    "    risk_free_rate_fn=curve.get_rate,\n",
    "    dividends_fn=lambda t: 0.0,\n",
    "    var_covar_fn=lambda t: np.array([VOL**2]),\n",
    "    n_paths=N_PATHS,\n",
    ")\n",
    "paths.shape"
   ],
   "id": "ddd6349244ed6020",
   "outputs": [
    {
     "data": {
      "text/plain": [
       "(100000, 757, 1)"
      ]
     },
     "execution_count": 10,
     "metadata": {},
     "output_type": "execute_result"
    }
   ],
   "execution_count": 10
  },
  {
   "metadata": {
    "ExecuteTime": {
     "end_time": "2024-07-02T18:50:05.134798Z",
     "start_time": "2024-07-02T18:50:01.182285Z"
    }
   },
   "cell_type": "code",
   "source": [
    "pricer.price(\n",
    "    current_spot=[1.0],\n",
    "    time_till_maturity=TILL_MATURITY,\n",
    "    risk_free_rate_fn=curve.get_rate,\n",
    "    dividends_fn=lambda t: 0.0,\n",
    "    var_covar_fn=lambda t: np.array([VOL**2]),\n",
    "    n_paths=N_PATHS,\n",
    ")"
   ],
   "id": "5e863039694672b8",
   "outputs": [
    {
     "data": {
      "text/plain": [
       "0.17888212769640016"
      ]
     },
     "execution_count": 11,
     "metadata": {},
     "output_type": "execute_result"
    }
   ],
   "execution_count": 11
  },
  {
   "metadata": {
    "ExecuteTime": {
     "end_time": "2024-07-02T18:50:05.166779Z",
     "start_time": "2024-07-02T18:50:05.136119Z"
    }
   },
   "cell_type": "code",
   "source": "european_call.price()",
   "id": "48aa911b89c53538",
   "outputs": [
    {
     "name": "stdout",
     "output_type": "stream",
     "text": [
      "[0.43096749]\n",
      "[0.07571642]\n"
     ]
    },
    {
     "data": {
      "text/plain": [
       "array([0.18220811])"
      ]
     },
     "execution_count": 12,
     "metadata": {},
     "output_type": "execute_result"
    }
   ],
   "execution_count": 12
  },
  {
   "metadata": {
    "ExecuteTime": {
     "end_time": "2024-07-02T18:50:05.321514Z",
     "start_time": "2024-07-02T18:50:05.167707Z"
    }
   },
   "cell_type": "code",
   "source": [
    "final_points = np.log(paths[:, -1, :].squeeze(1))\n",
    "final_points.mean() / 3, final_points.std() / np.sqrt(3)"
   ],
   "id": "c2397dc1efc25194",
   "outputs": [
    {
     "data": {
      "text/plain": [
       "(0.010110012826833657, 0.19966178768086412)"
      ]
     },
     "execution_count": 13,
     "metadata": {},
     "output_type": "execute_result"
    }
   ],
   "execution_count": 13
  },
  {
   "metadata": {
    "ExecuteTime": {
     "end_time": "2024-07-02T18:50:05.350462Z",
     "start_time": "2024-07-02T18:50:05.328629Z"
    }
   },
   "cell_type": "code",
   "source": "underlyings.get_dividends()",
   "id": "2bf941da41e83f3a",
   "outputs": [
    {
     "data": {
      "text/plain": [
       "array([0.])"
      ]
     },
     "execution_count": 14,
     "metadata": {},
     "output_type": "execute_result"
    }
   ],
   "execution_count": 14
  },
  {
   "metadata": {
    "ExecuteTime": {
     "end_time": "2024-07-02T18:50:05.376358Z",
     "start_time": "2024-07-02T18:50:05.353505Z"
    }
   },
   "cell_type": "code",
   "source": [
    "np.maximum(paths[:, -1] - 1.0, 0).mean()"
   ],
   "id": "12e0069f753119b5",
   "outputs": [
    {
     "data": {
      "text/plain": [
       "0.19572822393987263"
      ]
     },
     "execution_count": 15,
     "metadata": {},
     "output_type": "execute_result"
    }
   ],
   "execution_count": 15
  },
  {
   "metadata": {
    "ExecuteTime": {
     "end_time": "2024-07-02T18:50:05.414438Z",
     "start_time": "2024-07-02T18:50:05.378483Z"
    }
   },
   "cell_type": "code",
   "source": [
    "curve.get_rate(3.0)"
   ],
   "id": "bc138dca1513a2a0",
   "outputs": [
    {
     "data": {
      "text/plain": [
       "0.03"
      ]
     },
     "execution_count": 16,
     "metadata": {},
     "output_type": "execute_result"
    }
   ],
   "execution_count": 16
  }
 ],
 "metadata": {
  "kernelspec": {
   "display_name": "Python 3",
   "language": "python",
   "name": "python3"
  },
  "language_info": {
   "codemirror_mode": {
    "name": "ipython",
    "version": 2
   },
   "file_extension": ".py",
   "mimetype": "text/x-python",
   "name": "python",
   "nbconvert_exporter": "python",
   "pygments_lexer": "ipython2",
   "version": "2.7.6"
  }
 },
 "nbformat": 4,
 "nbformat_minor": 5
}
