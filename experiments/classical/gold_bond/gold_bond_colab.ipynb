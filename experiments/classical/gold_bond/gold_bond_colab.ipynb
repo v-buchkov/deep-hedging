{
  "cells": [
    {
      "cell_type": "code",
      "id": "initial_id",
      "metadata": {
        "collapsed": true,
        "ExecuteTime": {
          "end_time": "2024-07-23T14:44:02.552177Z",
          "start_time": "2024-07-23T14:44:02.471158Z"
        },
        "colab": {
          "base_uri": "https://localhost:8080/"
        },
        "id": "initial_id",
        "outputId": "43d283aa-0192-4b40-a63e-cc7bbaf692d3"
      },
      "source": [
        "!pip install deep_hedging"
      ],
      "outputs": [
        {
          "output_type": "stream",
          "name": "stdout",
          "text": [
            "Collecting deep_hedging\n",
            "  Downloading deep_hedging-1.4.tar.gz (33 kB)\n",
            "  Preparing metadata (setup.py) ... \u001b[?25l\u001b[?25hdone\n",
            "Requirement already satisfied: numpy in /usr/local/lib/python3.10/dist-packages (from deep_hedging) (1.25.2)\n",
            "Collecting numpy-financial (from deep_hedging)\n",
            "  Downloading numpy_financial-1.0.0-py3-none-any.whl (14 kB)\n",
            "Requirement already satisfied: pandas in /usr/local/lib/python3.10/dist-packages (from deep_hedging) (2.0.3)\n",
            "Requirement already satisfied: torch in /usr/local/lib/python3.10/dist-packages (from deep_hedging) (2.3.1+cu121)\n",
            "Requirement already satisfied: matplotlib in /usr/local/lib/python3.10/dist-packages (from deep_hedging) (3.7.1)\n",
            "Requirement already satisfied: tqdm in /usr/local/lib/python3.10/dist-packages (from deep_hedging) (4.66.4)\n",
            "Requirement already satisfied: IPython in /usr/local/lib/python3.10/dist-packages (from deep_hedging) (7.34.0)\n",
            "Requirement already satisfied: yfinance in /usr/local/lib/python3.10/dist-packages (from deep_hedging) (0.2.40)\n",
            "Requirement already satisfied: gym in /usr/local/lib/python3.10/dist-packages (from deep_hedging) (0.25.2)\n",
            "Requirement already satisfied: scipy in /usr/local/lib/python3.10/dist-packages (from deep_hedging) (1.11.4)\n",
            "Requirement already satisfied: cloudpickle>=1.2.0 in /usr/local/lib/python3.10/dist-packages (from gym->deep_hedging) (2.2.1)\n",
            "Requirement already satisfied: gym-notices>=0.0.4 in /usr/local/lib/python3.10/dist-packages (from gym->deep_hedging) (0.0.8)\n",
            "Requirement already satisfied: setuptools>=18.5 in /usr/local/lib/python3.10/dist-packages (from IPython->deep_hedging) (67.7.2)\n",
            "Collecting jedi>=0.16 (from IPython->deep_hedging)\n",
            "  Downloading jedi-0.19.1-py2.py3-none-any.whl (1.6 MB)\n",
            "\u001b[2K     \u001b[90m━━━━━━━━━━━━━━━━━━━━━━━━━━━━━━━━━━━━━━━━\u001b[0m \u001b[32m1.6/1.6 MB\u001b[0m \u001b[31m7.1 MB/s\u001b[0m eta \u001b[36m0:00:00\u001b[0m\n",
            "\u001b[?25hRequirement already satisfied: decorator in /usr/local/lib/python3.10/dist-packages (from IPython->deep_hedging) (4.4.2)\n",
            "Requirement already satisfied: pickleshare in /usr/local/lib/python3.10/dist-packages (from IPython->deep_hedging) (0.7.5)\n",
            "Requirement already satisfied: traitlets>=4.2 in /usr/local/lib/python3.10/dist-packages (from IPython->deep_hedging) (5.7.1)\n",
            "Requirement already satisfied: prompt-toolkit!=3.0.0,!=3.0.1,<3.1.0,>=2.0.0 in /usr/local/lib/python3.10/dist-packages (from IPython->deep_hedging) (3.0.47)\n",
            "Requirement already satisfied: pygments in /usr/local/lib/python3.10/dist-packages (from IPython->deep_hedging) (2.16.1)\n",
            "Requirement already satisfied: backcall in /usr/local/lib/python3.10/dist-packages (from IPython->deep_hedging) (0.2.0)\n",
            "Requirement already satisfied: matplotlib-inline in /usr/local/lib/python3.10/dist-packages (from IPython->deep_hedging) (0.1.7)\n",
            "Requirement already satisfied: pexpect>4.3 in /usr/local/lib/python3.10/dist-packages (from IPython->deep_hedging) (4.9.0)\n",
            "Requirement already satisfied: contourpy>=1.0.1 in /usr/local/lib/python3.10/dist-packages (from matplotlib->deep_hedging) (1.2.1)\n",
            "Requirement already satisfied: cycler>=0.10 in /usr/local/lib/python3.10/dist-packages (from matplotlib->deep_hedging) (0.12.1)\n",
            "Requirement already satisfied: fonttools>=4.22.0 in /usr/local/lib/python3.10/dist-packages (from matplotlib->deep_hedging) (4.53.1)\n",
            "Requirement already satisfied: kiwisolver>=1.0.1 in /usr/local/lib/python3.10/dist-packages (from matplotlib->deep_hedging) (1.4.5)\n",
            "Requirement already satisfied: packaging>=20.0 in /usr/local/lib/python3.10/dist-packages (from matplotlib->deep_hedging) (24.1)\n",
            "Requirement already satisfied: pillow>=6.2.0 in /usr/local/lib/python3.10/dist-packages (from matplotlib->deep_hedging) (9.4.0)\n",
            "Requirement already satisfied: pyparsing>=2.3.1 in /usr/local/lib/python3.10/dist-packages (from matplotlib->deep_hedging) (3.1.2)\n",
            "Requirement already satisfied: python-dateutil>=2.7 in /usr/local/lib/python3.10/dist-packages (from matplotlib->deep_hedging) (2.8.2)\n",
            "Requirement already satisfied: pytz>=2020.1 in /usr/local/lib/python3.10/dist-packages (from pandas->deep_hedging) (2023.4)\n",
            "Requirement already satisfied: tzdata>=2022.1 in /usr/local/lib/python3.10/dist-packages (from pandas->deep_hedging) (2024.1)\n",
            "Requirement already satisfied: filelock in /usr/local/lib/python3.10/dist-packages (from torch->deep_hedging) (3.15.4)\n",
            "Requirement already satisfied: typing-extensions>=4.8.0 in /usr/local/lib/python3.10/dist-packages (from torch->deep_hedging) (4.12.2)\n",
            "Requirement already satisfied: sympy in /usr/local/lib/python3.10/dist-packages (from torch->deep_hedging) (1.13.0)\n",
            "Requirement already satisfied: networkx in /usr/local/lib/python3.10/dist-packages (from torch->deep_hedging) (3.3)\n",
            "Requirement already satisfied: jinja2 in /usr/local/lib/python3.10/dist-packages (from torch->deep_hedging) (3.1.4)\n",
            "Requirement already satisfied: fsspec in /usr/local/lib/python3.10/dist-packages (from torch->deep_hedging) (2023.6.0)\n",
            "Collecting nvidia-cuda-nvrtc-cu12==12.1.105 (from torch->deep_hedging)\n",
            "  Using cached nvidia_cuda_nvrtc_cu12-12.1.105-py3-none-manylinux1_x86_64.whl (23.7 MB)\n",
            "Collecting nvidia-cuda-runtime-cu12==12.1.105 (from torch->deep_hedging)\n",
            "  Using cached nvidia_cuda_runtime_cu12-12.1.105-py3-none-manylinux1_x86_64.whl (823 kB)\n",
            "Collecting nvidia-cuda-cupti-cu12==12.1.105 (from torch->deep_hedging)\n",
            "  Using cached nvidia_cuda_cupti_cu12-12.1.105-py3-none-manylinux1_x86_64.whl (14.1 MB)\n",
            "Collecting nvidia-cudnn-cu12==8.9.2.26 (from torch->deep_hedging)\n",
            "  Using cached nvidia_cudnn_cu12-8.9.2.26-py3-none-manylinux1_x86_64.whl (731.7 MB)\n",
            "Collecting nvidia-cublas-cu12==12.1.3.1 (from torch->deep_hedging)\n",
            "  Using cached nvidia_cublas_cu12-12.1.3.1-py3-none-manylinux1_x86_64.whl (410.6 MB)\n",
            "Collecting nvidia-cufft-cu12==11.0.2.54 (from torch->deep_hedging)\n",
            "  Using cached nvidia_cufft_cu12-11.0.2.54-py3-none-manylinux1_x86_64.whl (121.6 MB)\n",
            "Collecting nvidia-curand-cu12==10.3.2.106 (from torch->deep_hedging)\n",
            "  Using cached nvidia_curand_cu12-10.3.2.106-py3-none-manylinux1_x86_64.whl (56.5 MB)\n",
            "Collecting nvidia-cusolver-cu12==11.4.5.107 (from torch->deep_hedging)\n",
            "  Using cached nvidia_cusolver_cu12-11.4.5.107-py3-none-manylinux1_x86_64.whl (124.2 MB)\n",
            "Collecting nvidia-cusparse-cu12==12.1.0.106 (from torch->deep_hedging)\n",
            "  Using cached nvidia_cusparse_cu12-12.1.0.106-py3-none-manylinux1_x86_64.whl (196.0 MB)\n",
            "Collecting nvidia-nccl-cu12==2.20.5 (from torch->deep_hedging)\n",
            "  Using cached nvidia_nccl_cu12-2.20.5-py3-none-manylinux2014_x86_64.whl (176.2 MB)\n",
            "Collecting nvidia-nvtx-cu12==12.1.105 (from torch->deep_hedging)\n",
            "  Using cached nvidia_nvtx_cu12-12.1.105-py3-none-manylinux1_x86_64.whl (99 kB)\n",
            "Requirement already satisfied: triton==2.3.1 in /usr/local/lib/python3.10/dist-packages (from torch->deep_hedging) (2.3.1)\n",
            "Collecting nvidia-nvjitlink-cu12 (from nvidia-cusolver-cu12==11.4.5.107->torch->deep_hedging)\n",
            "  Downloading nvidia_nvjitlink_cu12-12.5.82-py3-none-manylinux2014_x86_64.whl (21.3 MB)\n",
            "\u001b[2K     \u001b[90m━━━━━━━━━━━━━━━━━━━━━━━━━━━━━━━━━━━━━━━━\u001b[0m \u001b[32m21.3/21.3 MB\u001b[0m \u001b[31m41.5 MB/s\u001b[0m eta \u001b[36m0:00:00\u001b[0m\n",
            "\u001b[?25hRequirement already satisfied: requests>=2.31 in /usr/local/lib/python3.10/dist-packages (from yfinance->deep_hedging) (2.31.0)\n",
            "Requirement already satisfied: multitasking>=0.0.7 in /usr/local/lib/python3.10/dist-packages (from yfinance->deep_hedging) (0.0.11)\n",
            "Requirement already satisfied: lxml>=4.9.1 in /usr/local/lib/python3.10/dist-packages (from yfinance->deep_hedging) (4.9.4)\n",
            "Requirement already satisfied: platformdirs>=2.0.0 in /usr/local/lib/python3.10/dist-packages (from yfinance->deep_hedging) (4.2.2)\n",
            "Requirement already satisfied: frozendict>=2.3.4 in /usr/local/lib/python3.10/dist-packages (from yfinance->deep_hedging) (2.4.4)\n",
            "Requirement already satisfied: peewee>=3.16.2 in /usr/local/lib/python3.10/dist-packages (from yfinance->deep_hedging) (3.17.6)\n",
            "Requirement already satisfied: beautifulsoup4>=4.11.1 in /usr/local/lib/python3.10/dist-packages (from yfinance->deep_hedging) (4.12.3)\n",
            "Requirement already satisfied: html5lib>=1.1 in /usr/local/lib/python3.10/dist-packages (from yfinance->deep_hedging) (1.1)\n",
            "Requirement already satisfied: soupsieve>1.2 in /usr/local/lib/python3.10/dist-packages (from beautifulsoup4>=4.11.1->yfinance->deep_hedging) (2.5)\n",
            "Requirement already satisfied: six>=1.9 in /usr/local/lib/python3.10/dist-packages (from html5lib>=1.1->yfinance->deep_hedging) (1.16.0)\n",
            "Requirement already satisfied: webencodings in /usr/local/lib/python3.10/dist-packages (from html5lib>=1.1->yfinance->deep_hedging) (0.5.1)\n",
            "Requirement already satisfied: parso<0.9.0,>=0.8.3 in /usr/local/lib/python3.10/dist-packages (from jedi>=0.16->IPython->deep_hedging) (0.8.4)\n",
            "Requirement already satisfied: ptyprocess>=0.5 in /usr/local/lib/python3.10/dist-packages (from pexpect>4.3->IPython->deep_hedging) (0.7.0)\n",
            "Requirement already satisfied: wcwidth in /usr/local/lib/python3.10/dist-packages (from prompt-toolkit!=3.0.0,!=3.0.1,<3.1.0,>=2.0.0->IPython->deep_hedging) (0.2.13)\n",
            "Requirement already satisfied: charset-normalizer<4,>=2 in /usr/local/lib/python3.10/dist-packages (from requests>=2.31->yfinance->deep_hedging) (3.3.2)\n",
            "Requirement already satisfied: idna<4,>=2.5 in /usr/local/lib/python3.10/dist-packages (from requests>=2.31->yfinance->deep_hedging) (3.7)\n",
            "Requirement already satisfied: urllib3<3,>=1.21.1 in /usr/local/lib/python3.10/dist-packages (from requests>=2.31->yfinance->deep_hedging) (2.0.7)\n",
            "Requirement already satisfied: certifi>=2017.4.17 in /usr/local/lib/python3.10/dist-packages (from requests>=2.31->yfinance->deep_hedging) (2024.7.4)\n",
            "Requirement already satisfied: MarkupSafe>=2.0 in /usr/local/lib/python3.10/dist-packages (from jinja2->torch->deep_hedging) (2.1.5)\n",
            "Requirement already satisfied: mpmath<1.4,>=1.1.0 in /usr/local/lib/python3.10/dist-packages (from sympy->torch->deep_hedging) (1.3.0)\n",
            "Building wheels for collected packages: deep_hedging\n",
            "  Building wheel for deep_hedging (setup.py) ... \u001b[?25l\u001b[?25hdone\n",
            "  Created wheel for deep_hedging: filename=deep_hedging-1.4-py3-none-any.whl size=59913 sha256=80db63e8e68aeaf3576731f0bbc5385d13aaaea532adc1706772fe5b090f942d\n",
            "  Stored in directory: /root/.cache/pip/wheels/ab/b5/0d/8fd1a44a21b35b8e1678e63b2da913a48775d1f302e93ab291\n",
            "Successfully built deep_hedging\n",
            "Installing collected packages: nvidia-nvtx-cu12, nvidia-nvjitlink-cu12, nvidia-nccl-cu12, nvidia-curand-cu12, nvidia-cufft-cu12, nvidia-cuda-runtime-cu12, nvidia-cuda-nvrtc-cu12, nvidia-cuda-cupti-cu12, nvidia-cublas-cu12, numpy-financial, jedi, nvidia-cusparse-cu12, nvidia-cudnn-cu12, nvidia-cusolver-cu12, deep_hedging\n",
            "Successfully installed deep_hedging-1.4 jedi-0.19.1 numpy-financial-1.0.0 nvidia-cublas-cu12-12.1.3.1 nvidia-cuda-cupti-cu12-12.1.105 nvidia-cuda-nvrtc-cu12-12.1.105 nvidia-cuda-runtime-cu12-12.1.105 nvidia-cudnn-cu12-8.9.2.26 nvidia-cufft-cu12-11.0.2.54 nvidia-curand-cu12-10.3.2.106 nvidia-cusolver-cu12-11.4.5.107 nvidia-cusparse-cu12-12.1.0.106 nvidia-nccl-cu12-2.20.5 nvidia-nvjitlink-cu12-12.5.82 nvidia-nvtx-cu12-12.1.105\n"
          ]
        }
      ],
      "execution_count": 1
    },
    {
      "metadata": {
        "ExecuteTime": {
          "end_time": "2024-07-23T14:44:04.074898Z",
          "start_time": "2024-07-23T14:44:02.595503Z"
        },
        "colab": {
          "base_uri": "https://localhost:8080/"
        },
        "id": "d92357218fbceb8b",
        "outputId": "9bf6746b-9b17-477f-ce06-8649e8b8a7ca"
      },
      "cell_type": "code",
      "source": [
        "import datetime as dt\n",
        "\n",
        "import numpy as np\n",
        "\n",
        "from deep_hedging import Frequency, ConstantRateCurve\n",
        "from deep_hedging.linear.commodity_bond import CommodityBond"
      ],
      "id": "d92357218fbceb8b",
      "outputs": [
        {
          "output_type": "stream",
          "name": "stdout",
          "text": [
            "yfinance: pandas_datareader support is deprecated & semi-broken so will be removed in a future verison. Just use yfinance.\n"
          ]
        }
      ],
      "execution_count": 2
    },
    {
      "metadata": {
        "id": "97646a67c10e3392"
      },
      "cell_type": "markdown",
      "source": [
        "## Input parameters."
      ],
      "id": "97646a67c10e3392"
    },
    {
      "metadata": {
        "ExecuteTime": {
          "end_time": "2024-07-23T14:44:04.088332Z",
          "start_time": "2024-07-23T14:44:04.075647Z"
        },
        "id": "2b122e240f0a2f27"
      },
      "cell_type": "code",
      "source": [
        "RF_RATE = 0.15\n",
        "Z_SPREAD = 0.05\n",
        "CONVENIENCE_YIELD = 0.02\n",
        "\n",
        "TIME_TILL_MATURITY = 2.0\n",
        "FREQUENCY = Frequency.ANNUALLY\n",
        "\n",
        "NOTIONAL = 5_000"
      ],
      "id": "2b122e240f0a2f27",
      "outputs": [],
      "execution_count": 3
    },
    {
      "metadata": {
        "id": "7a315947103f9ccb"
      },
      "cell_type": "markdown",
      "source": [
        "## Create curves."
      ],
      "id": "7a315947103f9ccb"
    },
    {
      "metadata": {
        "ExecuteTime": {
          "end_time": "2024-07-23T14:44:04.105129Z",
          "start_time": "2024-07-23T14:44:04.089034Z"
        },
        "id": "ce8220a3f89001c7"
      },
      "cell_type": "code",
      "source": [
        "yield_curve = ConstantRateCurve(\n",
        "    currency=\"RUB\",\n",
        "    constant_rate=RF_RATE + Z_SPREAD,\n",
        "    compounding_frequency=Frequency.ANNUALLY,\n",
        ")\n",
        "forward_curve = ConstantRateCurve(\n",
        "    currency=\"RUB\",\n",
        "    constant_rate=RF_RATE - CONVENIENCE_YIELD,\n",
        "    compounding_frequency=Frequency.ANNUALLY,\n",
        ")"
      ],
      "id": "ce8220a3f89001c7",
      "outputs": [],
      "execution_count": 4
    },
    {
      "metadata": {
        "id": "3f51805bf49045a0"
      },
      "cell_type": "markdown",
      "source": [
        "## Create bond."
      ],
      "id": "3f51805bf49045a0"
    },
    {
      "metadata": {
        "id": "1c952e222c10d5b8"
      },
      "cell_type": "markdown",
      "source": [
        "### Check the composition of the bond."
      ],
      "id": "1c952e222c10d5b8"
    },
    {
      "metadata": {
        "ExecuteTime": {
          "end_time": "2024-07-23T14:44:04.123187Z",
          "start_time": "2024-07-23T14:44:04.106837Z"
        },
        "colab": {
          "base_uri": "https://localhost:8080/"
        },
        "id": "12b483e038362b4f",
        "outputId": "b096808b-d751-4fae-d38b-cbb47fcc33eb"
      },
      "cell_type": "code",
      "source": [
        "start = dt.datetime.today()\n",
        "end = start + dt.timedelta(days=int(round(TIME_TILL_MATURITY * 365)))\n",
        "\n",
        "gold_bond = (\n",
        "    CommodityBond(\n",
        "        yield_curve=yield_curve,\n",
        "        start_date=start,\n",
        "        end_date=end,\n",
        "        frequency=FREQUENCY,\n",
        "        yield_curve_commodity=forward_curve,\n",
        "    )\n",
        "    * NOTIONAL\n",
        ")\n",
        "gold_bond"
      ],
      "id": "12b483e038362b4f",
      "outputs": [
        {
          "output_type": "execute_result",
          "data": {
            "text/plain": [
              "StructuredNote of:\n",
              "1. LONG 6780.0 units of ZeroCouponBond:\n",
              "* CCY = Currency.RUB\n",
              "* Term = 2.0 years\n",
              "* YTM = 20.0%\n",
              "* Start Date = 2024-07-23 19:42:29.885673\n",
              "* End Date = 2026-07-23 19:42:29.885673.\n",
              "\n",
              "2. LONG 5309.7345 units of Forward:\n",
              "* Term = 2.0 years\n",
              "* Strike = 127.69%\n",
              "* Start Date = 2024-07-23 19:42:29.885673\n",
              "* End Date = 2026-07-23 19:42:29.885673.\n",
              "\n",
              "3. LONG 350.0 units of ZeroCouponBond:\n",
              "* CCY = Currency.RUB\n",
              "* Term = 1.0 years\n",
              "* YTM = 20.0%\n",
              "* Start Date = 2024-07-23 19:42:29.885673\n",
              "* End Date = 2025-07-24 00:00:00.\n",
              "\n",
              "4. LONG 309.7345 units of Forward:\n",
              "* Term = 1.0 years\n",
              "* Strike = 113.0%\n",
              "* Start Date = 2024-07-23 19:42:29.885673\n",
              "* End Date = 2025-07-24 00:00:00.\n"
            ]
          },
          "metadata": {},
          "execution_count": 5
        }
      ],
      "execution_count": 5
    },
    {
      "metadata": {
        "id": "c335285d3a4c1a73"
      },
      "cell_type": "markdown",
      "source": [
        "### Check the payment schedule.\n",
        "The schedule accounts for business days and holidays."
      ],
      "id": "c335285d3a4c1a73"
    },
    {
      "metadata": {
        "ExecuteTime": {
          "end_time": "2024-07-23T14:44:04.137103Z",
          "start_time": "2024-07-23T14:44:04.123816Z"
        },
        "colab": {
          "base_uri": "https://localhost:8080/"
        },
        "id": "67831586ae425150",
        "outputId": "a9a7ffb4-eb10-4e41-b5fb-7d6a493f8e8a"
      },
      "cell_type": "code",
      "source": [
        "gold_bond.schedule"
      ],
      "id": "67831586ae425150",
      "outputs": [
        {
          "output_type": "execute_result",
          "data": {
            "text/plain": [
              "[Timestamp('2024-07-24 00:00:00'),\n",
              " Timestamp('2025-07-24 00:00:00'),\n",
              " Timestamp('2026-07-24 00:00:00')]"
            ]
          },
          "metadata": {},
          "execution_count": 6
        }
      ],
      "execution_count": 6
    },
    {
      "metadata": {
        "id": "2c217be1f640b78e"
      },
      "cell_type": "markdown",
      "source": [
        "### You can amend the schedule, if needed."
      ],
      "id": "2c217be1f640b78e"
    },
    {
      "metadata": {
        "ExecuteTime": {
          "end_time": "2024-07-23T14:44:04.153106Z",
          "start_time": "2024-07-23T14:44:04.137848Z"
        },
        "colab": {
          "base_uri": "https://localhost:8080/"
        },
        "id": "57b81f004ef88035",
        "outputId": "b84810f9-c35a-4cb7-8e68-9a918d20903c"
      },
      "cell_type": "code",
      "source": [
        "new_schedule = gold_bond.schedule\n",
        "new_schedule[1] = gold_bond.schedule[1] + dt.timedelta(days=5)\n",
        "gold_bond.substitute_schedule(new_schedule)\n",
        "gold_bond.schedule"
      ],
      "id": "57b81f004ef88035",
      "outputs": [
        {
          "output_type": "execute_result",
          "data": {
            "text/plain": [
              "[Timestamp('2024-07-24 00:00:00'),\n",
              " Timestamp('2025-07-29 00:00:00'),\n",
              " Timestamp('2026-07-24 00:00:00')]"
            ]
          },
          "metadata": {},
          "execution_count": 7
        }
      ],
      "execution_count": 7
    },
    {
      "metadata": {
        "id": "7cf6f590eddf04c1"
      },
      "cell_type": "markdown",
      "source": [
        "## Let's check the coupon that the client will receive."
      ],
      "id": "7cf6f590eddf04c1"
    },
    {
      "metadata": {
        "ExecuteTime": {
          "end_time": "2024-07-23T14:44:04.166536Z",
          "start_time": "2024-07-23T14:44:04.153829Z"
        },
        "colab": {
          "base_uri": "https://localhost:8080/"
        },
        "id": "94ae9069080501eb",
        "outputId": "01402e96-f7e8-4539-d7d5-a9b77d53ed56"
      },
      "cell_type": "code",
      "source": [
        "print(f\"Coupon, {gold_bond.fixed_coupon * 100:.4f}% of gold fixing.\")"
      ],
      "id": "94ae9069080501eb",
      "outputs": [
        {
          "output_type": "stream",
          "name": "stdout",
          "text": [
            "Coupon, 6.1973% of gold fixing.\n"
          ]
        }
      ],
      "execution_count": 8
    },
    {
      "metadata": {
        "ExecuteTime": {
          "end_time": "2024-07-23T14:44:04.180291Z",
          "start_time": "2024-07-23T14:44:04.167368Z"
        },
        "colab": {
          "base_uri": "https://localhost:8080/"
        },
        "id": "105999e451802994",
        "outputId": "408b8b1f-4948-4247-859a-6da6e3e6a5b9"
      },
      "cell_type": "code",
      "source": [
        "print(f\"Price at inception = {gold_bond.price() * 100 / NOTIONAL:.2f}%\")"
      ],
      "id": "105999e451802994",
      "outputs": [
        {
          "output_type": "stream",
          "name": "stdout",
          "text": [
            "Price at inception = 100.00%\n"
          ]
        }
      ],
      "execution_count": 9
    },
    {
      "metadata": {
        "id": "48df160e29f0c2b7"
      },
      "cell_type": "markdown",
      "source": [
        "## You can get the payments by passings the spot fixings."
      ],
      "id": "48df160e29f0c2b7"
    },
    {
      "metadata": {
        "ExecuteTime": {
          "end_time": "2024-07-23T14:44:04.194287Z",
          "start_time": "2024-07-23T14:44:04.181040Z"
        },
        "colab": {
          "base_uri": "https://localhost:8080/"
        },
        "id": "515ca912bd28fc15",
        "outputId": "ae86e73b-5008-4918-9779-e02b7eecf948"
      },
      "cell_type": "code",
      "source": [
        "SPOT_FIXINGS = np.array([NOTIONAL, 7_000, 7_500])\n",
        "payments = gold_bond.payments(SPOT_FIXINGS)\n",
        "payments"
      ],
      "id": "515ca912bd28fc15",
      "outputs": [
        {
          "output_type": "execute_result",
          "data": {
            "text/plain": [
              "array([ 433.81219595, 7964.79878138])"
            ]
          },
          "metadata": {},
          "execution_count": 10
        }
      ],
      "execution_count": 10
    },
    {
      "metadata": {
        "id": "bb378ce74c11f8dc"
      },
      "cell_type": "markdown",
      "source": [
        "## Check additionally that the final payment is equal to the structured portfolio's payoff."
      ],
      "id": "bb378ce74c11f8dc"
    },
    {
      "metadata": {
        "ExecuteTime": {
          "end_time": "2024-07-23T14:44:04.208528Z",
          "start_time": "2024-07-23T14:44:04.195015Z"
        },
        "id": "8521b4fb485736b5"
      },
      "cell_type": "code",
      "source": [
        "assert np.allclose(payments[-1], SPOT_FIXINGS[-1] * (1 + gold_bond.fixed_coupon), atol=1e-4)"
      ],
      "id": "8521b4fb485736b5",
      "outputs": [],
      "execution_count": 11
    }
  ],
  "metadata": {
    "kernelspec": {
      "display_name": "Python 3",
      "language": "python",
      "name": "python3"
    },
    "language_info": {
      "codemirror_mode": {
        "name": "ipython",
        "version": 2
      },
      "file_extension": ".py",
      "mimetype": "text/x-python",
      "name": "python",
      "nbconvert_exporter": "python",
      "pygments_lexer": "ipython2",
      "version": "2.7.6"
    },
    "colab": {
      "provenance": []
    }
  },
  "nbformat": 4,
  "nbformat_minor": 5
}