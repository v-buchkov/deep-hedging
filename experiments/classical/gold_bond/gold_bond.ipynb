{
 "cells": [
  {
   "cell_type": "code",
   "id": "initial_id",
   "metadata": {
    "collapsed": true,
    "ExecuteTime": {
     "end_time": "2024-07-23T14:24:46.396955Z",
     "start_time": "2024-07-23T14:24:46.330358Z"
    }
   },
   "source": [
    "import numpy as np\n",
    "\n",
    "%load_ext autoreload\n",
    "%autoreload 2"
   ],
   "outputs": [],
   "execution_count": 1
  },
  {
   "metadata": {
    "ExecuteTime": {
     "end_time": "2024-07-23T14:24:47.935220Z",
     "start_time": "2024-07-23T14:24:46.411573Z"
    }
   },
   "cell_type": "code",
   "source": [
    "import datetime as dt\n",
    "\n",
    "from deep_hedging import Frequency, ConstantRateCurve\n",
    "from deep_hedging.linear.commodity_bond import CommodityBond"
   ],
   "id": "d92357218fbceb8b",
   "outputs": [],
   "execution_count": 2
  },
  {
   "metadata": {},
   "cell_type": "markdown",
   "source": "## Input parameters.",
   "id": "97646a67c10e3392"
  },
  {
   "metadata": {
    "ExecuteTime": {
     "end_time": "2024-07-23T14:24:47.948967Z",
     "start_time": "2024-07-23T14:24:47.935944Z"
    }
   },
   "cell_type": "code",
   "source": [
    "RF_RATE = 0.15\n",
    "Z_SPREAD = 0.05\n",
    "CONVENIENCE_YIELD = 0.02\n",
    "\n",
    "TIME_TILL_MATURITY = 2.0\n",
    "FREQUENCY = Frequency.ANNUALLY\n",
    "\n",
    "NOTIONAL = 5_000"
   ],
   "id": "2b122e240f0a2f27",
   "outputs": [],
   "execution_count": 3
  },
  {
   "metadata": {},
   "cell_type": "markdown",
   "source": "## Create curves.",
   "id": "7a315947103f9ccb"
  },
  {
   "metadata": {
    "ExecuteTime": {
     "end_time": "2024-07-23T14:24:47.967181Z",
     "start_time": "2024-07-23T14:24:47.949624Z"
    }
   },
   "cell_type": "code",
   "source": [
    "yield_curve = ConstantRateCurve(\n",
    "    currency=\"RUB\",\n",
    "    constant_rate=RF_RATE + Z_SPREAD,\n",
    "    compounding_frequency=Frequency.ANNUALLY,\n",
    ")\n",
    "forward_curve = ConstantRateCurve(\n",
    "    currency=\"RUB\",\n",
    "    constant_rate=RF_RATE - CONVENIENCE_YIELD,\n",
    "    compounding_frequency=Frequency.ANNUALLY,\n",
    ")"
   ],
   "id": "ce8220a3f89001c7",
   "outputs": [],
   "execution_count": 4
  },
  {
   "metadata": {},
   "cell_type": "markdown",
   "source": "## Create bond.",
   "id": "3f51805bf49045a0"
  },
  {
   "metadata": {},
   "cell_type": "markdown",
   "source": "### Check the composition of the bond.",
   "id": "1c952e222c10d5b8"
  },
  {
   "metadata": {
    "ExecuteTime": {
     "end_time": "2024-07-23T14:24:47.985593Z",
     "start_time": "2024-07-23T14:24:47.968639Z"
    }
   },
   "cell_type": "code",
   "source": [
    "start = dt.datetime.today()\n",
    "end = start + dt.timedelta(days=int(round(TIME_TILL_MATURITY * 365)))\n",
    "\n",
    "gold_bond = (\n",
    "    CommodityBond(\n",
    "        yield_curve=yield_curve,\n",
    "        start_date=start,\n",
    "        end_date=end,\n",
    "        frequency=FREQUENCY,\n",
    "        yield_curve_commodity=forward_curve,\n",
    "    )\n",
    "    * NOTIONAL\n",
    ")\n",
    "gold_bond"
   ],
   "id": "12b483e038362b4f",
   "outputs": [
    {
     "data": {
      "text/plain": [
       "StructuredNote of:\n",
       "1. LONG 6780.0 units of ZeroCouponBond:\n",
       "* CCY = Currency.RUB\n",
       "* Term = 2.0 years\n",
       "* YTM = 20.0%\n",
       "* Start Date = 2024-07-23 17:24:47.980726\n",
       "* End Date = 2026-07-23 17:24:47.980726.\n",
       "\n",
       "2. LONG 5309.7345 units of Forward:\n",
       "* Term = 2.0 years\n",
       "* Strike = 127.69%\n",
       "* Start Date = 2024-07-23 17:24:47.980726\n",
       "* End Date = 2026-07-23 17:24:47.980726.\n",
       "\n",
       "3. LONG 350.0 units of ZeroCouponBond:\n",
       "* CCY = Currency.RUB\n",
       "* Term = 1.0 years\n",
       "* YTM = 20.0%\n",
       "* Start Date = 2024-07-23 17:24:47.980726\n",
       "* End Date = 2025-07-24 00:00:00.\n",
       "\n",
       "4. LONG 309.7345 units of Forward:\n",
       "* Term = 1.0 years\n",
       "* Strike = 113.0%\n",
       "* Start Date = 2024-07-23 17:24:47.980726\n",
       "* End Date = 2025-07-24 00:00:00.\n"
      ]
     },
     "execution_count": 5,
     "metadata": {},
     "output_type": "execute_result"
    }
   ],
   "execution_count": 5
  },
  {
   "metadata": {},
   "cell_type": "markdown",
   "source": [
    "### Check the payment schedule.\n",
    "The schedule accounts for business days and holidays."
   ],
   "id": "c335285d3a4c1a73"
  },
  {
   "metadata": {
    "ExecuteTime": {
     "end_time": "2024-07-23T14:24:47.999987Z",
     "start_time": "2024-07-23T14:24:47.986239Z"
    }
   },
   "cell_type": "code",
   "source": "gold_bond.schedule",
   "id": "67831586ae425150",
   "outputs": [
    {
     "data": {
      "text/plain": [
       "[Timestamp('2024-07-24 00:00:00'),\n",
       " Timestamp('2025-07-24 00:00:00'),\n",
       " Timestamp('2026-07-24 00:00:00')]"
      ]
     },
     "execution_count": 6,
     "metadata": {},
     "output_type": "execute_result"
    }
   ],
   "execution_count": 6
  },
  {
   "metadata": {},
   "cell_type": "markdown",
   "source": "### You can amend the schedule, if needed.",
   "id": "2c217be1f640b78e"
  },
  {
   "metadata": {
    "ExecuteTime": {
     "end_time": "2024-07-23T14:24:48.016103Z",
     "start_time": "2024-07-23T14:24:48.000900Z"
    }
   },
   "cell_type": "code",
   "source": [
    "new_schedule = gold_bond.schedule\n",
    "new_schedule[1] = gold_bond.schedule[1] + dt.timedelta(days=5)\n",
    "gold_bond.substitute_schedule(new_schedule)\n",
    "gold_bond.schedule"
   ],
   "id": "57b81f004ef88035",
   "outputs": [
    {
     "data": {
      "text/plain": [
       "[Timestamp('2024-07-24 00:00:00'),\n",
       " Timestamp('2025-07-29 00:00:00'),\n",
       " Timestamp('2026-07-24 00:00:00')]"
      ]
     },
     "execution_count": 7,
     "metadata": {},
     "output_type": "execute_result"
    }
   ],
   "execution_count": 7
  },
  {
   "metadata": {},
   "cell_type": "markdown",
   "source": "## Let's check the coupon that the client will receive.",
   "id": "7cf6f590eddf04c1"
  },
  {
   "metadata": {
    "ExecuteTime": {
     "end_time": "2024-07-23T14:24:48.030586Z",
     "start_time": "2024-07-23T14:24:48.017025Z"
    }
   },
   "cell_type": "code",
   "source": "print(f\"Coupon, {gold_bond.fixed_coupon * 100:.4f}% of gold fixing.\")",
   "id": "94ae9069080501eb",
   "outputs": [
    {
     "name": "stdout",
     "output_type": "stream",
     "text": [
      "Coupon, 6.1973% of gold fixing.\n"
     ]
    }
   ],
   "execution_count": 8
  },
  {
   "metadata": {
    "ExecuteTime": {
     "end_time": "2024-07-23T14:24:48.045114Z",
     "start_time": "2024-07-23T14:24:48.031256Z"
    }
   },
   "cell_type": "code",
   "source": "print(f\"Price at inception = {gold_bond.price() * 100 / NOTIONAL:.2f}%\")",
   "id": "105999e451802994",
   "outputs": [
    {
     "name": "stdout",
     "output_type": "stream",
     "text": [
      "Price at inception = 100.00%\n"
     ]
    }
   ],
   "execution_count": 9
  },
  {
   "metadata": {},
   "cell_type": "markdown",
   "source": "## You can get the payments by passings the spot fixings.",
   "id": "48df160e29f0c2b7"
  },
  {
   "metadata": {
    "ExecuteTime": {
     "end_time": "2024-07-23T14:24:48.059745Z",
     "start_time": "2024-07-23T14:24:48.045839Z"
    }
   },
   "cell_type": "code",
   "source": [
    "SPOT_FIXINGS = np.array([NOTIONAL, 7_000, 7_500])\n",
    "payments = gold_bond.payments(SPOT_FIXINGS)\n",
    "payments"
   ],
   "id": "515ca912bd28fc15",
   "outputs": [
    {
     "data": {
      "text/plain": [
       "array([ 433.81219595, 7964.79878138])"
      ]
     },
     "execution_count": 10,
     "metadata": {},
     "output_type": "execute_result"
    }
   ],
   "execution_count": 10
  },
  {
   "metadata": {},
   "cell_type": "markdown",
   "source": "## Check additionally that the final payment is equal to the structured portfolio's payoff.",
   "id": "bb378ce74c11f8dc"
  },
  {
   "metadata": {
    "ExecuteTime": {
     "end_time": "2024-07-23T14:24:48.074030Z",
     "start_time": "2024-07-23T14:24:48.060495Z"
    }
   },
   "cell_type": "code",
   "source": "assert np.allclose(payments[-1], SPOT_FIXINGS[-1] * (1 + gold_bond.fixed_coupon), atol=1e-4)",
   "id": "8521b4fb485736b5",
   "outputs": [],
   "execution_count": 11
  },
  {
   "metadata": {},
   "cell_type": "markdown",
   "source": [
    "### TODO:\n",
    "* Different CCY for Commodity and Bond"
   ],
   "id": "dd76eaa5a836e4"
  }
 ],
 "metadata": {
  "kernelspec": {
   "display_name": "Python 3",
   "language": "python",
   "name": "python3"
  },
  "language_info": {
   "codemirror_mode": {
    "name": "ipython",
    "version": 2
   },
   "file_extension": ".py",
   "mimetype": "text/x-python",
   "name": "python",
   "nbconvert_exporter": "python",
   "pygments_lexer": "ipython2",
   "version": "2.7.6"
  }
 },
 "nbformat": 4,
 "nbformat_minor": 5
}
