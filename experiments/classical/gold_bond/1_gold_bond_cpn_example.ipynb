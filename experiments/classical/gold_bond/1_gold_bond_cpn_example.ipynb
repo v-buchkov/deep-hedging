{
 "cells": [
  {
   "cell_type": "code",
   "id": "initial_id",
   "metadata": {
    "collapsed": true,
    "ExecuteTime": {
     "end_time": "2024-07-18T12:45:08.781795Z",
     "start_time": "2024-07-18T12:45:08.769758Z"
    }
   },
   "source": [
    "%load_ext autoreload\n",
    "%autoreload 2"
   ],
   "outputs": [],
   "execution_count": 1
  },
  {
   "metadata": {
    "ExecuteTime": {
     "end_time": "2024-07-18T13:05:07.237971Z",
     "start_time": "2024-07-18T13:05:07.213249Z"
    }
   },
   "cell_type": "code",
   "source": [
    "import pandas as pd\n",
    "import numpy as np\n",
    "\n",
    "from deep_hedging import (\n",
    "    Frequency,\n",
    "    ConstantRateCurve,\n",
    "    ZeroCouponBond,\n",
    "    FixedCouponBond,\n",
    ")\n",
    "\n",
    "RANDOM_SEED = 12"
   ],
   "id": "d92357218fbceb8b",
   "outputs": [],
   "execution_count": 6
  },
  {
   "metadata": {
    "ExecuteTime": {
     "end_time": "2024-07-18T12:50:12.108761Z",
     "start_time": "2024-07-18T12:50:12.086931Z"
    }
   },
   "cell_type": "code",
   "source": [
    "RF_RATE = 0.15\n",
    "Z_SPREAD = 0.05\n",
    "CONVENIENCE_YIELD = 0.02\n",
    "\n",
    "TIME_TILL_MATURITY = 2.\n",
    "FREQUENCY = Frequency.ANNUALLY"
   ],
   "id": "2b122e240f0a2f27",
   "outputs": [],
   "execution_count": 4
  },
  {
   "metadata": {},
   "cell_type": "markdown",
   "source": [
    "Equations:\n",
    "1) $x_1 + x_2 = 1$\n",
    "2) $x_2 \\cdot (1 + rf + z) - cpn \\cdot (1 + rf - cy) = 0$\n",
    "3) $x_1 \\cdot (1 + rf + z)^2 - (1 + cpn) \\cdot (1 + rf - cy)^2 = 0$"
   ],
   "id": "84c62d84877e86d8"
  },
  {
   "metadata": {},
   "cell_type": "markdown",
   "source": [
    "Equations:\n",
    "1) $x_1 + x_2 = 1$\n",
    "2) $x_2 \\cdot (1 + rf + z) - cpn \\cdot (1 + rf - cy) = 0$\n",
    "3) $x_1 \\cdot (1 + rf + z)^2 - cpn \\cdot (1 + rf - cy)^2 = (1 + rf - cy)^2$"
   ],
   "id": "9ba9c02a93ffc791"
  },
  {
   "metadata": {
    "ExecuteTime": {
     "end_time": "2024-07-18T13:05:09.953996Z",
     "start_time": "2024-07-18T13:05:09.925208Z"
    }
   },
   "cell_type": "code",
   "source": [
    "k = np.array([\n",
    "    [1, 1, 0],\n",
    "    [0, (1 + RF_RATE + Z_SPREAD), -(1 + RF_RATE - CONVENIENCE_YIELD)],\n",
    "    [(1 + RF_RATE + Z_SPREAD) ** 2, 0, -(1 + RF_RATE - CONVENIENCE_YIELD) ** 2]\n",
    "])\n",
    "y = np.array([1, 0, (1 + RF_RATE - CONVENIENCE_YIELD) ** 2])"
   ],
   "id": "630d6dc70560e003",
   "outputs": [],
   "execution_count": 7
  },
  {
   "metadata": {
    "ExecuteTime": {
     "end_time": "2024-07-18T13:05:11.952235Z",
     "start_time": "2024-07-18T13:05:11.919310Z"
    }
   },
   "cell_type": "code",
   "source": [
    "x = np.linalg.solve(k, y)\n",
    "x"
   ],
   "id": "a983bb7599cd5e83",
   "outputs": [
    {
     "data": {
      "text/plain": [
       "array([0.94166667, 0.05833333, 0.0619469 ])"
      ]
     },
     "execution_count": 8,
     "metadata": {},
     "output_type": "execute_result"
    }
   ],
   "execution_count": 8
  }
 ],
 "metadata": {
  "kernelspec": {
   "display_name": "Python 3",
   "language": "python",
   "name": "python3"
  },
  "language_info": {
   "codemirror_mode": {
    "name": "ipython",
    "version": 2
   },
   "file_extension": ".py",
   "mimetype": "text/x-python",
   "name": "python",
   "nbconvert_exporter": "python",
   "pygments_lexer": "ipython2",
   "version": "2.7.6"
  }
 },
 "nbformat": 4,
 "nbformat_minor": 5
}
