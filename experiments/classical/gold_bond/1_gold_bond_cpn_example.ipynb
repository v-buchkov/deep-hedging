{
 "cells": [
  {
   "cell_type": "code",
   "id": "initial_id",
   "metadata": {
    "collapsed": true,
    "ExecuteTime": {
     "end_time": "2024-07-22T15:55:33.644590Z",
     "start_time": "2024-07-22T15:55:33.632916Z"
    }
   },
   "source": [
    "%load_ext autoreload\n",
    "%autoreload 2"
   ],
   "outputs": [],
   "execution_count": 1
  },
  {
   "metadata": {
    "ExecuteTime": {
     "end_time": "2024-07-22T15:55:35.216724Z",
     "start_time": "2024-07-22T15:55:33.645665Z"
    }
   },
   "cell_type": "code",
   "source": [
    "import pandas as pd\n",
    "import numpy as np\n",
    "\n",
    "from deep_hedging import (\n",
    "    Frequency,\n",
    "    ConstantRateCurve,\n",
    "    ZeroCouponBond,\n",
    "    FixedCouponBond,\n",
    ")\n",
    "\n",
    "RANDOM_SEED = 12"
   ],
   "id": "d92357218fbceb8b",
   "outputs": [],
   "execution_count": 2
  },
  {
   "metadata": {
    "ExecuteTime": {
     "end_time": "2024-07-22T15:55:35.230518Z",
     "start_time": "2024-07-22T15:55:35.217679Z"
    }
   },
   "cell_type": "code",
   "source": [
    "RF_RATE = 0.15\n",
    "Z_SPREAD = 0.05\n",
    "CONVENIENCE_YIELD = 0.02\n",
    "\n",
    "TIME_TILL_MATURITY = 2.0\n",
    "FREQUENCY = Frequency.ANNUALLY"
   ],
   "id": "2b122e240f0a2f27",
   "outputs": [],
   "execution_count": 3
  },
  {
   "metadata": {},
   "cell_type": "markdown",
   "source": [
    "Equations:\n",
    "1) $x_1 + x_2 = 1$\n",
    "2) $x_2 \\cdot (1 + rf + z) - cpn \\cdot (1 + rf - cy) = 0$\n",
    "3) $x_1 \\cdot (1 + rf + z)^2 - (1 + cpn) \\cdot (1 + rf - cy)^2 = 0$"
   ],
   "id": "84c62d84877e86d8"
  },
  {
   "metadata": {},
   "cell_type": "markdown",
   "source": [
    "Equations:\n",
    "1) $x_1 + x_2 = 1$\n",
    "2) $x_2 \\cdot (1 + rf + z) - cpn \\cdot (1 + rf - cy) = 0$\n",
    "3) $x_1 \\cdot (1 + rf + z)^2 - cpn \\cdot (1 + rf - cy)^2 = (1 + rf - cy)^2$"
   ],
   "id": "9ba9c02a93ffc791"
  },
  {
   "metadata": {
    "ExecuteTime": {
     "end_time": "2024-07-22T15:55:35.245660Z",
     "start_time": "2024-07-22T15:55:35.231310Z"
    }
   },
   "cell_type": "code",
   "source": [
    "k = np.array(\n",
    "    [\n",
    "        [1, 1, 0],\n",
    "        [0, (1 + RF_RATE + Z_SPREAD), -(1 + RF_RATE - CONVENIENCE_YIELD)],\n",
    "        [(1 + RF_RATE + Z_SPREAD) ** 2, 0, -((1 + RF_RATE - CONVENIENCE_YIELD) ** 2)],\n",
    "    ]\n",
    ")\n",
    "y = np.array([1, 0, (1 + RF_RATE - CONVENIENCE_YIELD) ** 2])"
   ],
   "id": "630d6dc70560e003",
   "outputs": [],
   "execution_count": 4
  },
  {
   "metadata": {
    "ExecuteTime": {
     "end_time": "2024-07-22T15:55:35.263744Z",
     "start_time": "2024-07-22T15:55:35.247201Z"
    }
   },
   "cell_type": "code",
   "source": "k",
   "id": "e7ba041126683e45",
   "outputs": [
    {
     "data": {
      "text/plain": [
       "array([[ 1.    ,  1.    ,  0.    ],\n",
       "       [ 0.    ,  1.2   , -1.13  ],\n",
       "       [ 1.44  ,  0.    , -1.2769]])"
      ]
     },
     "execution_count": 5,
     "metadata": {},
     "output_type": "execute_result"
    }
   ],
   "execution_count": 5
  },
  {
   "metadata": {
    "ExecuteTime": {
     "end_time": "2024-07-22T15:55:35.279375Z",
     "start_time": "2024-07-22T15:55:35.264687Z"
    }
   },
   "cell_type": "code",
   "source": "y",
   "id": "fa4e301e0323af7b",
   "outputs": [
    {
     "data": {
      "text/plain": [
       "array([1.    , 0.    , 1.2769])"
      ]
     },
     "execution_count": 6,
     "metadata": {},
     "output_type": "execute_result"
    }
   ],
   "execution_count": 6
  },
  {
   "metadata": {
    "ExecuteTime": {
     "end_time": "2024-07-22T15:55:35.295577Z",
     "start_time": "2024-07-22T15:55:35.280453Z"
    }
   },
   "cell_type": "code",
   "source": [
    "x = np.linalg.solve(k, y)\n",
    "x"
   ],
   "id": "a983bb7599cd5e83",
   "outputs": [
    {
     "data": {
      "text/plain": [
       "array([0.94166667, 0.05833333, 0.0619469 ])"
      ]
     },
     "execution_count": 7,
     "metadata": {},
     "output_type": "execute_result"
    }
   ],
   "execution_count": 7
  }
 ],
 "metadata": {
  "kernelspec": {
   "display_name": "Python 3",
   "language": "python",
   "name": "python3"
  },
  "language_info": {
   "codemirror_mode": {
    "name": "ipython",
    "version": 2
   },
   "file_extension": ".py",
   "mimetype": "text/x-python",
   "name": "python",
   "nbconvert_exporter": "python",
   "pygments_lexer": "ipython2",
   "version": "2.7.6"
  }
 },
 "nbformat": 4,
 "nbformat_minor": 5
}
