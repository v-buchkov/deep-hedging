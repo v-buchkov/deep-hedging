{
 "cells": [
  {
   "cell_type": "code",
   "id": "initial_id",
   "metadata": {
    "collapsed": true,
    "ExecuteTime": {
     "end_time": "2024-07-23T12:32:28.597493Z",
     "start_time": "2024-07-23T12:32:28.516542Z"
    }
   },
   "source": [
    "import numpy as np\n",
    "\n",
    "%load_ext autoreload\n",
    "%autoreload 2"
   ],
   "outputs": [],
   "execution_count": 1
  },
  {
   "metadata": {
    "ExecuteTime": {
     "end_time": "2024-07-23T12:32:30.178892Z",
     "start_time": "2024-07-23T12:32:28.602635Z"
    }
   },
   "cell_type": "code",
   "source": [
    "import datetime as dt\n",
    "\n",
    "from deep_hedging import Frequency, ConstantRateCurve\n",
    "from deep_hedging.linear.commodity_bond import CommodityBond"
   ],
   "id": "d92357218fbceb8b",
   "outputs": [],
   "execution_count": 2
  },
  {
   "metadata": {},
   "cell_type": "markdown",
   "source": "## Input parameters.",
   "id": "97646a67c10e3392"
  },
  {
   "metadata": {
    "ExecuteTime": {
     "end_time": "2024-07-23T12:32:30.192983Z",
     "start_time": "2024-07-23T12:32:30.179774Z"
    }
   },
   "cell_type": "code",
   "source": [
    "RF_RATE = 0.15\n",
    "Z_SPREAD = 0.05\n",
    "CONVENIENCE_YIELD = 0.02\n",
    "\n",
    "TIME_TILL_MATURITY = 2.0\n",
    "FREQUENCY = Frequency.ANNUALLY"
   ],
   "id": "2b122e240f0a2f27",
   "outputs": [],
   "execution_count": 3
  },
  {
   "metadata": {},
   "cell_type": "markdown",
   "source": "## Create curves.",
   "id": "7a315947103f9ccb"
  },
  {
   "metadata": {
    "ExecuteTime": {
     "end_time": "2024-07-23T12:32:30.209844Z",
     "start_time": "2024-07-23T12:32:30.193711Z"
    }
   },
   "cell_type": "code",
   "source": [
    "yield_curve = ConstantRateCurve(\n",
    "    currency=\"RUB\",\n",
    "    constant_rate=RF_RATE + Z_SPREAD,\n",
    "    compounding_frequency=Frequency.ANNUALLY,\n",
    ")\n",
    "forward_curve = ConstantRateCurve(\n",
    "    currency=\"RUB\",\n",
    "    constant_rate=RF_RATE - CONVENIENCE_YIELD,\n",
    "    compounding_frequency=Frequency.ANNUALLY,\n",
    ")"
   ],
   "id": "ce8220a3f89001c7",
   "outputs": [],
   "execution_count": 4
  },
  {
   "metadata": {},
   "cell_type": "markdown",
   "source": "## Create bond.",
   "id": "3f51805bf49045a0"
  },
  {
   "metadata": {},
   "cell_type": "markdown",
   "source": "### Check the composition of the bond.",
   "id": "1c952e222c10d5b8"
  },
  {
   "metadata": {
    "ExecuteTime": {
     "end_time": "2024-07-23T12:32:30.227837Z",
     "start_time": "2024-07-23T12:32:30.211401Z"
    }
   },
   "cell_type": "code",
   "source": [
    "start = dt.datetime.today()\n",
    "end = start + dt.timedelta(days=int(round(TIME_TILL_MATURITY * 365)))\n",
    "\n",
    "gold_bond = CommodityBond(\n",
    "    yield_curve=yield_curve,\n",
    "    start_date=start,\n",
    "    end_date=end,\n",
    "    frequency=FREQUENCY,\n",
    "    yield_curve_commodity=forward_curve,\n",
    ")\n",
    "gold_bond"
   ],
   "id": "12b483e038362b4f",
   "outputs": [
    {
     "data": {
      "text/plain": [
       "StructuredNote of:\n",
       "1. LONG 1.356 units of ZeroCouponBond:\n",
       "* CCY = Currency.RUB\n",
       "* Term = 2.0 years\n",
       "* YTM = 20.0%\n",
       "* Start Date = 2024-07-23 15:32:30.223549\n",
       "* End Date = 2026-07-23 15:32:30.223549.\n",
       "\n",
       "2. LONG 1.0619 units of Forward:\n",
       "* Term = 2.0 years\n",
       "* Strike = 127.69%\n",
       "* Start Date = 2024-07-23 15:32:30.223549\n",
       "* End Date = 2026-07-23 15:32:30.223549.\n",
       "\n",
       "3. LONG 0.07 units of ZeroCouponBond:\n",
       "* CCY = Currency.RUB\n",
       "* Term = 1.0 years\n",
       "* YTM = 20.0%\n",
       "* Start Date = 2024-07-23 15:32:30.223549\n",
       "* End Date = 2025-07-24 00:00:00.\n",
       "\n",
       "4. LONG 0.0619 units of Forward:\n",
       "* Term = 1.0 years\n",
       "* Strike = 113.0%\n",
       "* Start Date = 2024-07-23 15:32:30.223549\n",
       "* End Date = 2025-07-24 00:00:00.\n"
      ]
     },
     "execution_count": 5,
     "metadata": {},
     "output_type": "execute_result"
    }
   ],
   "execution_count": 5
  },
  {
   "metadata": {},
   "cell_type": "markdown",
   "source": [
    "### Check the payment schedule.\n",
    "The schedule accounts for business days and holidays."
   ],
   "id": "c335285d3a4c1a73"
  },
  {
   "metadata": {
    "ExecuteTime": {
     "end_time": "2024-07-23T12:32:30.242720Z",
     "start_time": "2024-07-23T12:32:30.228535Z"
    }
   },
   "cell_type": "code",
   "source": "gold_bond.schedule",
   "id": "67831586ae425150",
   "outputs": [
    {
     "data": {
      "text/plain": [
       "[Timestamp('2024-07-24 00:00:00'),\n",
       " Timestamp('2025-07-24 00:00:00'),\n",
       " Timestamp('2026-07-24 00:00:00')]"
      ]
     },
     "execution_count": 6,
     "metadata": {},
     "output_type": "execute_result"
    }
   ],
   "execution_count": 6
  },
  {
   "metadata": {},
   "cell_type": "markdown",
   "source": "### You can amend the schedule, if needed.",
   "id": "2c217be1f640b78e"
  },
  {
   "metadata": {
    "ExecuteTime": {
     "end_time": "2024-07-23T12:32:30.257848Z",
     "start_time": "2024-07-23T12:32:30.243377Z"
    }
   },
   "cell_type": "code",
   "source": [
    "new_schedule = gold_bond.schedule\n",
    "new_schedule[1] = gold_bond.schedule[1] + dt.timedelta(days=5)\n",
    "gold_bond.substitute_schedule(new_schedule)\n",
    "gold_bond.schedule"
   ],
   "id": "57b81f004ef88035",
   "outputs": [
    {
     "data": {
      "text/plain": [
       "[Timestamp('2024-07-24 00:00:00'),\n",
       " Timestamp('2025-07-29 00:00:00'),\n",
       " Timestamp('2026-07-24 00:00:00')]"
      ]
     },
     "execution_count": 7,
     "metadata": {},
     "output_type": "execute_result"
    }
   ],
   "execution_count": 7
  },
  {
   "metadata": {
    "ExecuteTime": {
     "end_time": "2024-07-23T12:32:30.272586Z",
     "start_time": "2024-07-23T12:32:30.258743Z"
    }
   },
   "cell_type": "code",
   "source": "[5_000 * p.size * ins.payoff() for p, ins in gold_bond.instruments]",
   "id": "cf12ddc44acdd177",
   "outputs": [
    {
     "data": {
      "text/plain": [
       "[6780.167709292442,\n",
       " array([-1470.30185504]),\n",
       " 350.73512973922317,\n",
       " array([-40.86927549])]"
      ]
     },
     "execution_count": 8,
     "metadata": {},
     "output_type": "execute_result"
    }
   ],
   "execution_count": 8
  },
  {
   "metadata": {},
   "cell_type": "markdown",
   "source": "## Finally, let's check the coupon that the client will receive.",
   "id": "7cf6f590eddf04c1"
  },
  {
   "metadata": {
    "ExecuteTime": {
     "end_time": "2024-07-23T12:32:30.286928Z",
     "start_time": "2024-07-23T12:32:30.273345Z"
    }
   },
   "cell_type": "code",
   "source": "print(f\"{gold_bond.fixed_coupon * 100:.4f}% p.a.\")",
   "id": "94ae9069080501eb",
   "outputs": [
    {
     "name": "stdout",
     "output_type": "stream",
     "text": [
      "6.1973% p.a.\n"
     ]
    }
   ],
   "execution_count": 9
  },
  {
   "metadata": {
    "ExecuteTime": {
     "end_time": "2024-07-23T12:32:30.302309Z",
     "start_time": "2024-07-23T12:32:30.287883Z"
    }
   },
   "cell_type": "code",
   "source": "gold_bond.price()",
   "id": "105999e451802994",
   "outputs": [
    {
     "data": {
      "text/plain": [
       "1.0"
      ]
     },
     "execution_count": 10,
     "metadata": {},
     "output_type": "execute_result"
    }
   ],
   "execution_count": 10
  },
  {
   "metadata": {
    "ExecuteTime": {
     "end_time": "2024-07-23T12:32:30.316960Z",
     "start_time": "2024-07-23T12:32:30.303381Z"
    }
   },
   "cell_type": "code",
   "source": [
    "for p, i in gold_bond:\n",
    "    print(p, i.price())"
   ],
   "id": "5f7559b1006cb8bb",
   "outputs": [
    {
     "name": "stdout",
     "output_type": "stream",
     "text": [
      "Position(side=<PositionSide.LONG: 1>, size=1.3560335418584883) 0.6944444444444444\n",
      "Position(side=<PositionSide.LONG: 1>, size=1.0619731708500968) 0.0\n",
      "Position(side=<PositionSide.LONG: 1>, size=0.07014702594784464) 0.8312546339370701\n",
      "Position(side=<PositionSide.LONG: 1>, size=0.061973170850096876) 0.0\n"
     ]
    }
   ],
   "execution_count": 11
  },
  {
   "metadata": {
    "ExecuteTime": {
     "end_time": "2024-07-23T12:32:30.331546Z",
     "start_time": "2024-07-23T12:32:30.317683Z"
    }
   },
   "cell_type": "code",
   "source": "gold_bond.instruments",
   "id": "d424545c24714e1e",
   "outputs": [
    {
     "data": {
      "text/plain": [
       "[(Position(side=<PositionSide.LONG: 1>, size=1.3560335418584883),\n",
       "  ZeroCouponBond:\n",
       "  * CCY = Currency.RUB\n",
       "  * Term = 2.0 years\n",
       "  * YTM = 20.0%\n",
       "  * Start Date = 2024-07-23 15:32:30.223549\n",
       "  * End Date = 2026-07-23 15:32:30.223549),\n",
       " (Position(side=<PositionSide.LONG: 1>, size=1.0619731708500968),\n",
       "  Forward:\n",
       "  * Term = 2.0 years\n",
       "  * Strike = 127.69%\n",
       "  * Start Date = 2024-07-23 15:32:30.223549\n",
       "  * End Date = 2026-07-23 15:32:30.223549),\n",
       " (Position(side=<PositionSide.LONG: 1>, size=0.07014702594784464),\n",
       "  ZeroCouponBond:\n",
       "  * CCY = Currency.RUB\n",
       "  * Term = 1.01 years\n",
       "  * YTM = 20.0%\n",
       "  * Start Date = 2024-07-23 15:32:30.223549\n",
       "  * End Date = 2025-07-29 00:00:00),\n",
       " (Position(side=<PositionSide.LONG: 1>, size=0.061973170850096876),\n",
       "  Forward:\n",
       "  * Term = 1.01 years\n",
       "  * Strike = 113.1893%\n",
       "  * Start Date = 2024-07-23 15:32:30.223549\n",
       "  * End Date = 2025-07-29 00:00:00)]"
      ]
     },
     "execution_count": 12,
     "metadata": {},
     "output_type": "execute_result"
    }
   ],
   "execution_count": 12
  },
  {
   "metadata": {
    "ExecuteTime": {
     "end_time": "2024-07-23T12:32:30.346040Z",
     "start_time": "2024-07-23T12:32:30.332245Z"
    }
   },
   "cell_type": "code",
   "source": [
    "paths = np.linspace(2_000, 10_000, gold_bond.days_till_maturity).reshape(1, -1)\n",
    "paths.shape"
   ],
   "id": "5eb3585a3e3b0b5a",
   "outputs": [
    {
     "data": {
      "text/plain": [
       "(1, 730)"
      ]
     },
     "execution_count": 13,
     "metadata": {},
     "output_type": "execute_result"
    }
   ],
   "execution_count": 13
  },
  {
   "metadata": {
    "ExecuteTime": {
     "end_time": "2024-07-23T12:32:30.364471Z",
     "start_time": "2024-07-23T12:32:30.349022Z"
    }
   },
   "cell_type": "code",
   "source": [
    "p_0 = 5_000\n",
    "scale = p_0\n",
    "pay = gold_bond.payoff(paths / p_0) * scale\n",
    "pay[pay > 0]"
   ],
   "id": "210aad8e64519f79",
   "outputs": [
    {
     "data": {
      "text/plain": [
       "array([  374.8994286, 10619.7317085])"
      ]
     },
     "execution_count": 14,
     "metadata": {},
     "output_type": "execute_result"
    }
   ],
   "execution_count": 14
  },
  {
   "metadata": {
    "ExecuteTime": {
     "end_time": "2024-07-23T12:32:30.379796Z",
     "start_time": "2024-07-23T12:32:30.365290Z"
    }
   },
   "cell_type": "code",
   "source": [
    "b = gold_bond * scale\n",
    "b"
   ],
   "id": "c0a8c3b10a989b2b",
   "outputs": [
    {
     "data": {
      "text/plain": [
       "StructuredNote of:\n",
       "1. LONG 6780.1677 units of ZeroCouponBond:\n",
       "* CCY = Currency.RUB\n",
       "* Term = 2.0 years\n",
       "* YTM = 20.0%\n",
       "* Start Date = 2024-07-23 15:32:30.223549\n",
       "* End Date = 2026-07-23 15:32:30.223549.\n",
       "\n",
       "2. LONG 5309.8659 units of Forward:\n",
       "* Term = 2.0 years\n",
       "* Strike = 127.69%\n",
       "* Start Date = 2024-07-23 15:32:30.223549\n",
       "* End Date = 2026-07-23 15:32:30.223549.\n",
       "\n",
       "3. LONG 350.7351 units of ZeroCouponBond:\n",
       "* CCY = Currency.RUB\n",
       "* Term = 1.01 years\n",
       "* YTM = 20.0%\n",
       "* Start Date = 2024-07-23 15:32:30.223549\n",
       "* End Date = 2025-07-29 00:00:00.\n",
       "\n",
       "4. LONG 309.8659 units of Forward:\n",
       "* Term = 1.01 years\n",
       "* Strike = 113.1893%\n",
       "* Start Date = 2024-07-23 15:32:30.223549\n",
       "* End Date = 2025-07-29 00:00:00.\n"
      ]
     },
     "execution_count": 15,
     "metadata": {},
     "output_type": "execute_result"
    }
   ],
   "execution_count": 15
  },
  {
   "metadata": {
    "ExecuteTime": {
     "end_time": "2024-07-23T12:32:30.395141Z",
     "start_time": "2024-07-23T12:32:30.380636Z"
    }
   },
   "cell_type": "code",
   "source": "b.price()",
   "id": "abba43c3b6d95885",
   "outputs": [
    {
     "data": {
      "text/plain": [
       "5000.0"
      ]
     },
     "execution_count": 16,
     "metadata": {},
     "output_type": "execute_result"
    }
   ],
   "execution_count": 16
  },
  {
   "metadata": {
    "ExecuteTime": {
     "end_time": "2024-07-23T12:32:30.409169Z",
     "start_time": "2024-07-23T12:32:30.396022Z"
    }
   },
   "cell_type": "code",
   "source": "gold_bond",
   "id": "edfd5b235a4f5bdf",
   "outputs": [
    {
     "data": {
      "text/plain": [
       "StructuredNote of:\n",
       "1. LONG 6780.1677 units of ZeroCouponBond:\n",
       "* CCY = Currency.RUB\n",
       "* Term = 2.0 years\n",
       "* YTM = 20.0%\n",
       "* Start Date = 2024-07-23 15:32:30.223549\n",
       "* End Date = 2026-07-23 15:32:30.223549.\n",
       "\n",
       "2. LONG 5309.8659 units of Forward:\n",
       "* Term = 2.0 years\n",
       "* Strike = 127.69%\n",
       "* Start Date = 2024-07-23 15:32:30.223549\n",
       "* End Date = 2026-07-23 15:32:30.223549.\n",
       "\n",
       "3. LONG 350.7351 units of ZeroCouponBond:\n",
       "* CCY = Currency.RUB\n",
       "* Term = 1.01 years\n",
       "* YTM = 20.0%\n",
       "* Start Date = 2024-07-23 15:32:30.223549\n",
       "* End Date = 2025-07-29 00:00:00.\n",
       "\n",
       "4. LONG 309.8659 units of Forward:\n",
       "* Term = 1.01 years\n",
       "* Strike = 113.1893%\n",
       "* Start Date = 2024-07-23 15:32:30.223549\n",
       "* End Date = 2025-07-29 00:00:00.\n"
      ]
     },
     "execution_count": 17,
     "metadata": {},
     "output_type": "execute_result"
    }
   ],
   "execution_count": 17
  },
  {
   "metadata": {
    "ExecuteTime": {
     "end_time": "2024-07-23T12:32:30.424146Z",
     "start_time": "2024-07-23T12:32:30.409841Z"
    }
   },
   "cell_type": "code",
   "source": "gold_bond._cumsum_days",
   "id": "5c8dd2d6c7ef8618",
   "outputs": [
    {
     "data": {
      "text/plain": [
       "array([370, 730])"
      ]
     },
     "execution_count": 18,
     "metadata": {},
     "output_type": "execute_result"
    }
   ],
   "execution_count": 18
  },
  {
   "metadata": {
    "ExecuteTime": {
     "end_time": "2024-07-23T12:32:30.439814Z",
     "start_time": "2024-07-23T12:32:30.425033Z"
    }
   },
   "cell_type": "code",
   "source": [
    "s = paths[:, gold_bond._cumsum_days - 1].squeeze(0)\n",
    "s"
   ],
   "id": "659acdb28e59a64d",
   "outputs": [
    {
     "data": {
      "text/plain": [
       "array([ 6049.38271605, 10000.        ])"
      ]
     },
     "execution_count": 19,
     "metadata": {},
     "output_type": "execute_result"
    }
   ],
   "execution_count": 19
  },
  {
   "metadata": {
    "ExecuteTime": {
     "end_time": "2024-07-23T12:32:30.454267Z",
     "start_time": "2024-07-23T12:32:30.440652Z"
    }
   },
   "cell_type": "code",
   "source": "s[0] * gold_bond.fixed_coupon, s[1] * (1 + gold_bond.fixed_coupon)",
   "id": "5c8ef5d7bcd12376",
   "outputs": [
    {
     "data": {
      "text/plain": [
       "(374.8994285993515, 10619.731708500967)"
      ]
     },
     "execution_count": 20,
     "metadata": {},
     "output_type": "execute_result"
    }
   ],
   "execution_count": 20
  },
  {
   "metadata": {
    "ExecuteTime": {
     "end_time": "2024-07-23T12:32:30.469085Z",
     "start_time": "2024-07-23T12:32:30.454997Z"
    }
   },
   "cell_type": "code",
   "source": [
    "b = gold_bond\n",
    "for pos, inst in b:\n",
    "    print(inst.__class__.__name__, pos.size * inst.payoff(paths / p_0))"
   ],
   "id": "98e230ffc04946fd",
   "outputs": [
    {
     "name": "stdout",
     "output_type": "stream",
     "text": [
      "ZeroCouponBond 6780.167709292442\n",
      "Forward [3839.56399921]\n",
      "ZeroCouponBond 350.73512973922317\n",
      "Forward [268.99657876]\n"
     ]
    }
   ],
   "execution_count": 21
  },
  {
   "metadata": {
    "ExecuteTime": {
     "end_time": "2024-07-23T12:32:30.484386Z",
     "start_time": "2024-07-23T12:32:30.469787Z"
    }
   },
   "cell_type": "code",
   "source": [
    "for final in np.linspace(3_000, 12_000, 6):\n",
    "    paths = np.linspace(2_000, final, gold_bond.days_till_maturity).reshape(1, -1)\n",
    "    # print(paths[:, -1], [pv.size * v.payoff(paths / p_0) for pv, v in b], b.payoff(paths / p_0)[:, -1], final * (1 + gold_bond.fixed_coupon))\n",
    "    print(\n",
    "        paths[:, -1],\n",
    "        b.payoff(paths / p_0)[:, -1] - final * (1 + gold_bond.fixed_coupon),\n",
    "    )"
   ],
   "id": "da80b8e5702824a2",
   "outputs": [
    {
     "name": "stdout",
     "output_type": "stream",
     "text": [
      "[3000.] [9.09494702e-13]\n",
      "[4800.] [9.09494702e-13]\n",
      "[6600.] [0.]\n",
      "[8400.] [0.]\n",
      "[10200.] [1.8189894e-12]\n",
      "[12000.] [0.]\n"
     ]
    }
   ],
   "execution_count": 22
  },
  {
   "metadata": {
    "ExecuteTime": {
     "end_time": "2024-07-23T12:32:30.498943Z",
     "start_time": "2024-07-23T12:32:30.485124Z"
    }
   },
   "cell_type": "code",
   "source": "b[0][0].size * b[0][1].payoff(paths / p_0) + b[1][0].size * b[1][1].payoff(paths / p_0)",
   "id": "b55be749b3a56643",
   "outputs": [
    {
     "data": {
      "text/plain": [
       "array([12743.6780502])"
      ]
     },
     "execution_count": 23,
     "metadata": {},
     "output_type": "execute_result"
    }
   ],
   "execution_count": 23
  },
  {
   "metadata": {
    "ExecuteTime": {
     "end_time": "2024-07-23T12:32:30.513928Z",
     "start_time": "2024-07-23T12:32:30.499585Z"
    }
   },
   "cell_type": "code",
   "source": "final * (1 + gold_bond.fixed_coupon)",
   "id": "41c3cf74bd8f15ef",
   "outputs": [
    {
     "data": {
      "text/plain": [
       "12743.67805020116"
      ]
     },
     "execution_count": 24,
     "metadata": {},
     "output_type": "execute_result"
    }
   ],
   "execution_count": 24
  },
  {
   "metadata": {
    "ExecuteTime": {
     "end_time": "2024-07-23T12:32:30.528062Z",
     "start_time": "2024-07-23T12:32:30.514737Z"
    }
   },
   "cell_type": "code",
   "source": [
    "g = b.payoff(paths / p_0)\n",
    "g[g > 0]"
   ],
   "id": "9a4bb80284cf85f9",
   "outputs": [
    {
     "data": {
      "text/plain": [
       "array([  437.63770032, 12743.6780502 ])"
      ]
     },
     "execution_count": 25,
     "metadata": {},
     "output_type": "execute_result"
    }
   ],
   "execution_count": 25
  },
  {
   "metadata": {
    "ExecuteTime": {
     "end_time": "2024-07-23T12:32:30.544183Z",
     "start_time": "2024-07-23T12:32:30.528858Z"
    }
   },
   "cell_type": "code",
   "source": [
    "final = 10_200\n",
    "paths = np.linspace(2_000, final, gold_bond.days_till_maturity).reshape(1, -1)\n",
    "print(\n",
    "    paths[:, -1],\n",
    "    [pv.size * v.payoff(paths / p_0) for pv, v in b],\n",
    "    b.payoff(paths / p_0)[:, -1],\n",
    "    final * (1 + gold_bond.fixed_coupon),\n",
    ")"
   ],
   "id": "60374e357b6dcaf9",
   "outputs": [
    {
     "name": "stdout",
     "output_type": "stream",
     "text": [
      "[10200.] [6780.167709292442, array([4051.95863338]), 350.73512973922317, array([281.39121293])] [10832.12634267] 10832.126342670987\n"
     ]
    }
   ],
   "execution_count": 26
  },
  {
   "metadata": {
    "ExecuteTime": {
     "end_time": "2024-07-23T12:32:30.560551Z",
     "start_time": "2024-07-23T12:32:30.545974Z"
    }
   },
   "cell_type": "code",
   "source": "p_0 * b[1][1].strike",
   "id": "a61808c09c83349e",
   "outputs": [
    {
     "data": {
      "text/plain": [
       "6384.499999999998"
      ]
     },
     "execution_count": 27,
     "metadata": {},
     "output_type": "execute_result"
    }
   ],
   "execution_count": 27
  },
  {
   "metadata": {
    "ExecuteTime": {
     "end_time": "2024-07-23T12:32:30.576008Z",
     "start_time": "2024-07-23T12:32:30.561637Z"
    }
   },
   "cell_type": "code",
   "source": "b[1][1].payoff(paths / p_0) * p_0 * (1 + gold_bond.fixed_coupon)",
   "id": "1286b28b05c22ca3",
   "outputs": [
    {
     "data": {
      "text/plain": [
       "array([4051.95863338])"
      ]
     },
     "execution_count": 28,
     "metadata": {},
     "output_type": "execute_result"
    }
   ],
   "execution_count": 28
  },
  {
   "metadata": {
    "ExecuteTime": {
     "end_time": "2024-07-23T12:32:30.590203Z",
     "start_time": "2024-07-23T12:32:30.576663Z"
    }
   },
   "cell_type": "code",
   "source": "b[1][0].size, p_0 * (1 + gold_bond.fixed_coupon)",
   "id": "19928828a4b36f07",
   "outputs": [
    {
     "data": {
      "text/plain": [
       "(5309.865854250484, 5309.865854250484)"
      ]
     },
     "execution_count": 29,
     "metadata": {},
     "output_type": "execute_result"
    }
   ],
   "execution_count": 29
  },
  {
   "metadata": {
    "ExecuteTime": {
     "end_time": "2024-07-23T12:32:30.604418Z",
     "start_time": "2024-07-23T12:32:30.590933Z"
    }
   },
   "cell_type": "code",
   "source": "b[1][1].payoff(paths / p_0)",
   "id": "6fd28fa221e0db8a",
   "outputs": [
    {
     "data": {
      "text/plain": [
       "array([0.7631])"
      ]
     },
     "execution_count": 30,
     "metadata": {},
     "output_type": "execute_result"
    }
   ],
   "execution_count": 30
  },
  {
   "metadata": {
    "ExecuteTime": {
     "end_time": "2024-07-23T12:32:30.620185Z",
     "start_time": "2024-07-23T12:32:30.605305Z"
    }
   },
   "cell_type": "code",
   "source": "(paths / p_0)[:, -1] - b[1][1].strike",
   "id": "589ca2951cab5b33",
   "outputs": [
    {
     "data": {
      "text/plain": [
       "array([0.7631])"
      ]
     },
     "execution_count": 31,
     "metadata": {},
     "output_type": "execute_result"
    }
   ],
   "execution_count": 31
  },
  {
   "metadata": {
    "ExecuteTime": {
     "end_time": "2024-07-23T12:32:30.634531Z",
     "start_time": "2024-07-23T12:32:30.620900Z"
    }
   },
   "cell_type": "code",
   "source": "b[1][1].strike",
   "id": "28eca1d4bcd8fe6a",
   "outputs": [
    {
     "data": {
      "text/plain": [
       "1.2768999999999997"
      ]
     },
     "execution_count": 32,
     "metadata": {},
     "output_type": "execute_result"
    }
   ],
   "execution_count": 32
  },
  {
   "metadata": {},
   "cell_type": "markdown",
   "source": [
    "### TODO:\n",
    "* Effective yield\n",
    "* Different CCY for Commodity and Bond"
   ],
   "id": "dd76eaa5a836e4"
  }
 ],
 "metadata": {
  "kernelspec": {
   "display_name": "Python 3",
   "language": "python",
   "name": "python3"
  },
  "language_info": {
   "codemirror_mode": {
    "name": "ipython",
    "version": 2
   },
   "file_extension": ".py",
   "mimetype": "text/x-python",
   "name": "python",
   "nbconvert_exporter": "python",
   "pygments_lexer": "ipython2",
   "version": "2.7.6"
  }
 },
 "nbformat": 4,
 "nbformat_minor": 5
}
