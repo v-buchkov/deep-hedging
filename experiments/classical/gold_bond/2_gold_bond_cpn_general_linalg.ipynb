{
 "cells": [
  {
   "cell_type": "code",
   "id": "initial_id",
   "metadata": {
    "collapsed": true,
    "ExecuteTime": {
     "end_time": "2024-07-22T15:48:34.288414Z",
     "start_time": "2024-07-22T15:48:34.276646Z"
    }
   },
   "source": [
    "%load_ext autoreload\n",
    "%autoreload 2"
   ],
   "outputs": [],
   "execution_count": 1
  },
  {
   "metadata": {
    "ExecuteTime": {
     "end_time": "2024-07-22T15:48:35.760133Z",
     "start_time": "2024-07-22T15:48:34.289653Z"
    }
   },
   "cell_type": "code",
   "source": [
    "import pandas as pd\n",
    "import numpy as np\n",
    "\n",
    "from deep_hedging import (\n",
    "    Frequency,\n",
    "    ConstantRateCurve,\n",
    "    ZeroCouponBond,\n",
    "    FixedCouponBond,\n",
    ")\n",
    "from deep_hedging.utils.fixing_dates import get_annual_indices\n",
    "\n",
    "RANDOM_SEED = 12"
   ],
   "id": "d92357218fbceb8b",
   "outputs": [],
   "execution_count": 2
  },
  {
   "metadata": {
    "ExecuteTime": {
     "end_time": "2024-07-22T15:48:35.774968Z",
     "start_time": "2024-07-22T15:48:35.760876Z"
    }
   },
   "cell_type": "code",
   "source": [
    "RF_RATE = 0.15\n",
    "Z_SPREAD = 0.05\n",
    "CONVENIENCE_YIELD = 0.02\n",
    "\n",
    "TIME_TILL_MATURITY = 3.0\n",
    "FREQUENCY = Frequency.ANNUALLY"
   ],
   "id": "2b122e240f0a2f27",
   "outputs": [],
   "execution_count": 3
  },
  {
   "metadata": {},
   "cell_type": "markdown",
   "source": [
    "Equations:\n",
    "1) $x_1 + x_2 + x_3 = 1$\n",
    "2) $x_2 \\cdot (1 + rf + z) - cpn \\cdot (1 + rf - cy) = 0$\n",
    "3) $x_3 \\cdot (1 + rf + z)^2 - cpn \\cdot (1 + rf - cy)^2 = 0$\n",
    "4) $x_1 \\cdot (1 + rf + z)^3 - (1 + cpn) \\cdot (1 + rf - cy)^3 = 0$"
   ],
   "id": "84c62d84877e86d8"
  },
  {
   "metadata": {},
   "cell_type": "markdown",
   "source": [
    "Equations:\n",
    "1) $x_1 + x_2 + x_3 = 1$\n",
    "2) $x_2 \\cdot (1 + rf + z) - cpn \\cdot (1 + rf - cy) = 0$\n",
    "3) $x_3 \\cdot (1 + rf + z)^2 - cpn \\cdot (1 + rf - cy)^2 = 0$\n",
    "4) $x_1 \\cdot (1 + rf + z)^3 - cpn \\cdot (1 + rf - cy)^3 = (1 + rf - cy)^3$"
   ],
   "id": "9ba9c02a93ffc791"
  },
  {
   "metadata": {
    "ExecuteTime": {
     "end_time": "2024-07-22T15:48:35.789584Z",
     "start_time": "2024-07-22T15:48:35.775690Z"
    }
   },
   "cell_type": "code",
   "source": [
    "k = np.array(\n",
    "    [\n",
    "        [1, 1, 1, 0],\n",
    "        [0, (1 + RF_RATE + Z_SPREAD), 0, -(1 + RF_RATE - CONVENIENCE_YIELD)],\n",
    "        [\n",
    "            0,\n",
    "            0,\n",
    "            (1 + RF_RATE + Z_SPREAD) ** 2,\n",
    "            -((1 + RF_RATE - CONVENIENCE_YIELD) ** 2),\n",
    "        ],\n",
    "        [\n",
    "            (1 + RF_RATE + Z_SPREAD) ** 3,\n",
    "            0,\n",
    "            0,\n",
    "            -((1 + RF_RATE - CONVENIENCE_YIELD) ** 3),\n",
    "        ],\n",
    "    ]\n",
    ")\n",
    "y = np.array([1, 0, 0, (1 + RF_RATE - CONVENIENCE_YIELD) ** 3])"
   ],
   "id": "630d6dc70560e003",
   "outputs": [],
   "execution_count": 4
  },
  {
   "metadata": {
    "ExecuteTime": {
     "end_time": "2024-07-22T15:48:35.805913Z",
     "start_time": "2024-07-22T15:48:35.791147Z"
    }
   },
   "cell_type": "code",
   "source": [
    "x = np.linalg.solve(k, y)\n",
    "x"
   ],
   "id": "a983bb7599cd5e83",
   "outputs": [
    {
     "data": {
      "text/plain": [
       "array([0.88673611, 0.05833333, 0.05493056, 0.0619469 ])"
      ]
     },
     "execution_count": 5,
     "metadata": {},
     "output_type": "execute_result"
    }
   ],
   "execution_count": 5
  },
  {
   "metadata": {
    "ExecuteTime": {
     "end_time": "2024-07-22T15:48:35.820890Z",
     "start_time": "2024-07-22T15:48:35.806554Z"
    }
   },
   "cell_type": "code",
   "source": "print(f\"{x[-1] * 100:.4f}%\")",
   "id": "a4389b58cac9b7f9",
   "outputs": [
    {
     "name": "stdout",
     "output_type": "stream",
     "text": [
      "6.1947%\n"
     ]
    }
   ],
   "execution_count": 6
  },
  {
   "metadata": {},
   "cell_type": "markdown",
   "source": "## General Solution.",
   "id": "8fa62af76643d5f6"
  },
  {
   "metadata": {
    "ExecuteTime": {
     "end_time": "2024-07-22T15:48:35.835922Z",
     "start_time": "2024-07-22T15:48:35.821646Z"
    }
   },
   "cell_type": "code",
   "source": [
    "factors = get_annual_indices(\n",
    "    TIME_TILL_MATURITY,\n",
    "    FREQUENCY,\n",
    ")\n",
    "factors"
   ],
   "id": "89461133f2e8f8e5",
   "outputs": [
    {
     "data": {
      "text/plain": [
       "array([1., 2., 3.])"
      ]
     },
     "execution_count": 7,
     "metadata": {},
     "output_type": "execute_result"
    }
   ],
   "execution_count": 7
  },
  {
   "metadata": {
    "ExecuteTime": {
     "end_time": "2024-07-22T15:48:35.852256Z",
     "start_time": "2024-07-22T15:48:35.836607Z"
    }
   },
   "cell_type": "code",
   "source": [
    "k_0 = np.array([[1.0] * len(factors) + [0.0]])\n",
    "k_other = []\n",
    "for i, factor in enumerate(factors):\n",
    "    line = [0.0] * (len(factors) + 1)\n",
    "    line[i] = (1 + RF_RATE + Z_SPREAD) ** factor\n",
    "    line[-1] = -((1 + RF_RATE - CONVENIENCE_YIELD) ** factor)\n",
    "    k_other.append(line)\n",
    "\n",
    "k_other = np.array(k_other)\n",
    "k_general = np.concatenate([k_0, k_other], axis=0)\n",
    "k_general"
   ],
   "id": "fd30990832a4eaaf",
   "outputs": [
    {
     "data": {
      "text/plain": [
       "array([[ 1.      ,  1.      ,  1.      ,  0.      ],\n",
       "       [ 1.2     ,  0.      ,  0.      , -1.13    ],\n",
       "       [ 0.      ,  1.44    ,  0.      , -1.2769  ],\n",
       "       [ 0.      ,  0.      ,  1.728   , -1.442897]])"
      ]
     },
     "execution_count": 8,
     "metadata": {},
     "output_type": "execute_result"
    }
   ],
   "execution_count": 8
  },
  {
   "metadata": {
    "ExecuteTime": {
     "end_time": "2024-07-22T15:48:35.870619Z",
     "start_time": "2024-07-22T15:48:35.852974Z"
    }
   },
   "cell_type": "code",
   "source": "k",
   "id": "5e993a5c727d3f87",
   "outputs": [
    {
     "data": {
      "text/plain": [
       "array([[ 1.      ,  1.      ,  1.      ,  0.      ],\n",
       "       [ 0.      ,  1.2     ,  0.      , -1.13    ],\n",
       "       [ 0.      ,  0.      ,  1.44    , -1.2769  ],\n",
       "       [ 1.728   ,  0.      ,  0.      , -1.442897]])"
      ]
     },
     "execution_count": 9,
     "metadata": {},
     "output_type": "execute_result"
    }
   ],
   "execution_count": 9
  },
  {
   "metadata": {
    "ExecuteTime": {
     "end_time": "2024-07-22T15:48:35.886110Z",
     "start_time": "2024-07-22T15:48:35.871500Z"
    }
   },
   "cell_type": "code",
   "source": [
    "y_general = np.array(\n",
    "    [1.0]\n",
    "    + [0.0] * (len(factors) - 1)\n",
    "    + [(1 + RF_RATE - CONVENIENCE_YIELD) ** factors[-1]]\n",
    ")\n",
    "y_general"
   ],
   "id": "6fdadd0b80c11bdb",
   "outputs": [
    {
     "data": {
      "text/plain": [
       "array([1.      , 0.      , 0.      , 1.442897])"
      ]
     },
     "execution_count": 10,
     "metadata": {},
     "output_type": "execute_result"
    }
   ],
   "execution_count": 10
  },
  {
   "metadata": {
    "ExecuteTime": {
     "end_time": "2024-07-22T15:48:35.901169Z",
     "start_time": "2024-07-22T15:48:35.887171Z"
    }
   },
   "cell_type": "code",
   "source": "y",
   "id": "7b8066900ac4fe1f",
   "outputs": [
    {
     "data": {
      "text/plain": [
       "array([1.      , 0.      , 0.      , 1.442897])"
      ]
     },
     "execution_count": 11,
     "metadata": {},
     "output_type": "execute_result"
    }
   ],
   "execution_count": 11
  },
  {
   "metadata": {
    "ExecuteTime": {
     "end_time": "2024-07-22T15:48:35.903300Z",
     "start_time": "2024-07-22T15:48:35.901941Z"
    }
   },
   "cell_type": "code",
   "source": "",
   "id": "29dcf516a9a5770f",
   "outputs": [],
   "execution_count": 11
  }
 ],
 "metadata": {
  "kernelspec": {
   "display_name": "Python 3",
   "language": "python",
   "name": "python3"
  },
  "language_info": {
   "codemirror_mode": {
    "name": "ipython",
    "version": 2
   },
   "file_extension": ".py",
   "mimetype": "text/x-python",
   "name": "python",
   "nbconvert_exporter": "python",
   "pygments_lexer": "ipython2",
   "version": "2.7.6"
  }
 },
 "nbformat": 4,
 "nbformat_minor": 5
}
