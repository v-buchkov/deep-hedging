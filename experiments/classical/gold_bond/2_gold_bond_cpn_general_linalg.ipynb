{
 "cells": [
  {
   "cell_type": "code",
   "id": "initial_id",
   "metadata": {
    "collapsed": true,
    "ExecuteTime": {
     "end_time": "2024-07-18T13:17:50.743559Z",
     "start_time": "2024-07-18T13:17:50.731330Z"
    }
   },
   "source": [
    "%load_ext autoreload\n",
    "%autoreload 2"
   ],
   "outputs": [],
   "execution_count": 1
  },
  {
   "metadata": {
    "ExecuteTime": {
     "end_time": "2024-07-18T13:17:52.427509Z",
     "start_time": "2024-07-18T13:17:50.744666Z"
    }
   },
   "cell_type": "code",
   "source": [
    "import pandas as pd\n",
    "import numpy as np\n",
    "\n",
    "from deep_hedging import (\n",
    "    Frequency,\n",
    "    ConstantRateCurve,\n",
    "    ZeroCouponBond,\n",
    "    FixedCouponBond,\n",
    ")\n",
    "from deep_hedging.utils.fixing_dates import get_annual_indices\n",
    "\n",
    "RANDOM_SEED = 12"
   ],
   "id": "d92357218fbceb8b",
   "outputs": [],
   "execution_count": 2
  },
  {
   "metadata": {
    "ExecuteTime": {
     "end_time": "2024-07-18T13:17:52.442031Z",
     "start_time": "2024-07-18T13:17:52.428166Z"
    }
   },
   "cell_type": "code",
   "source": [
    "RF_RATE = 0.15\n",
    "Z_SPREAD = 0.05\n",
    "CONVENIENCE_YIELD = 0.02\n",
    "\n",
    "TIME_TILL_MATURITY = 3.\n",
    "FREQUENCY = Frequency.ANNUALLY"
   ],
   "id": "2b122e240f0a2f27",
   "outputs": [],
   "execution_count": 3
  },
  {
   "metadata": {},
   "cell_type": "markdown",
   "source": [
    "Equations:\n",
    "1) $x_1 + x_2 + x_3 = 1$\n",
    "2) $x_2 \\cdot (1 + rf + z) - cpn \\cdot (1 + rf - cy) = 0$\n",
    "3) $x_3 \\cdot (1 + rf + z)^2 - cpn \\cdot (1 + rf - cy)^2 = 0$\n",
    "4) $x_1 \\cdot (1 + rf + z)^3 - (1 + cpn) \\cdot (1 + rf - cy)^3 = 0$"
   ],
   "id": "84c62d84877e86d8"
  },
  {
   "metadata": {},
   "cell_type": "markdown",
   "source": [
    "Equations:\n",
    "1) $x_1 + x_2 + x_3 = 1$\n",
    "2) $x_2 \\cdot (1 + rf + z) - cpn \\cdot (1 + rf - cy) = 0$\n",
    "3) $x_3 \\cdot (1 + rf + z)^2 - cpn \\cdot (1 + rf - cy)^2 = 0$\n",
    "4) $x_1 \\cdot (1 + rf + z)^3 - cpn \\cdot (1 + rf - cy)^3 = (1 + rf - cy)^3$"
   ],
   "id": "9ba9c02a93ffc791"
  },
  {
   "metadata": {
    "ExecuteTime": {
     "end_time": "2024-07-18T13:27:32.201855Z",
     "start_time": "2024-07-18T13:27:32.173820Z"
    }
   },
   "cell_type": "code",
   "source": [
    "k = np.array([\n",
    "    [1, 1, 1, 0],\n",
    "    [0, (1 + RF_RATE + Z_SPREAD), 0, -(1 + RF_RATE - CONVENIENCE_YIELD)],\n",
    "    [0, 0, (1 + RF_RATE + Z_SPREAD) ** 2, -(1 + RF_RATE - CONVENIENCE_YIELD) ** 2],\n",
    "    [(1 + RF_RATE + Z_SPREAD) ** 3, 0, 0, -(1 + RF_RATE - CONVENIENCE_YIELD) ** 3]\n",
    "])\n",
    "y = np.array([1, 0, 0, (1 + RF_RATE - CONVENIENCE_YIELD) ** 3])"
   ],
   "id": "630d6dc70560e003",
   "outputs": [],
   "execution_count": 18
  },
  {
   "metadata": {
    "ExecuteTime": {
     "end_time": "2024-07-18T13:27:33.169352Z",
     "start_time": "2024-07-18T13:27:33.144950Z"
    }
   },
   "cell_type": "code",
   "source": [
    "x = np.linalg.solve(k, y)\n",
    "x"
   ],
   "id": "a983bb7599cd5e83",
   "outputs": [
    {
     "data": {
      "text/plain": [
       "array([0.88673611, 0.05833333, 0.05493056, 0.0619469 ])"
      ]
     },
     "execution_count": 19,
     "metadata": {},
     "output_type": "execute_result"
    }
   ],
   "execution_count": 19
  },
  {
   "metadata": {
    "ExecuteTime": {
     "end_time": "2024-07-18T13:27:33.821958Z",
     "start_time": "2024-07-18T13:27:33.799770Z"
    }
   },
   "cell_type": "code",
   "source": "print(f\"{x[-1] * 100:.4f}%\")",
   "id": "a4389b58cac9b7f9",
   "outputs": [
    {
     "name": "stdout",
     "output_type": "stream",
     "text": [
      "6.1947%\n"
     ]
    }
   ],
   "execution_count": 20
  },
  {
   "metadata": {},
   "cell_type": "markdown",
   "source": "## General Solution.",
   "id": "8fa62af76643d5f6"
  },
  {
   "metadata": {
    "ExecuteTime": {
     "end_time": "2024-07-18T13:27:34.582335Z",
     "start_time": "2024-07-18T13:27:34.566615Z"
    }
   },
   "cell_type": "code",
   "source": [
    "factors = get_annual_indices(\n",
    "    TIME_TILL_MATURITY,\n",
    "    FREQUENCY,\n",
    ")\n",
    "factors"
   ],
   "id": "89461133f2e8f8e5",
   "outputs": [
    {
     "data": {
      "text/plain": [
       "array([1., 2., 3.])"
      ]
     },
     "execution_count": 21,
     "metadata": {},
     "output_type": "execute_result"
    }
   ],
   "execution_count": 21
  },
  {
   "metadata": {
    "ExecuteTime": {
     "end_time": "2024-07-18T13:28:52.054229Z",
     "start_time": "2024-07-18T13:28:52.021805Z"
    }
   },
   "cell_type": "code",
   "source": [
    "k_0 = np.array([[1.] * len(factors) + [0.]])\n",
    "k_other = []\n",
    "for i, factor in enumerate(factors):\n",
    "    line = [0.] * (len(factors) + 1)\n",
    "    line[i] = (1 + RF_RATE + Z_SPREAD) ** factor\n",
    "    line[-1] = -(1 + RF_RATE - CONVENIENCE_YIELD) ** factor\n",
    "    k_other.append(line)\n",
    "\n",
    "k_other = np.array(k_other)\n",
    "k_general = np.concatenate([k_0, k_other], axis=0)\n",
    "k_general"
   ],
   "id": "fd30990832a4eaaf",
   "outputs": [
    {
     "data": {
      "text/plain": [
       "array([[ 1.      ,  1.      ,  1.      ,  0.      ],\n",
       "       [ 1.2     ,  0.      ,  0.      , -1.13    ],\n",
       "       [ 0.      ,  1.44    ,  0.      , -1.2769  ],\n",
       "       [ 0.      ,  0.      ,  1.728   , -1.442897]])"
      ]
     },
     "execution_count": 26,
     "metadata": {},
     "output_type": "execute_result"
    }
   ],
   "execution_count": 26
  },
  {
   "metadata": {
    "ExecuteTime": {
     "end_time": "2024-07-18T13:27:38.044273Z",
     "start_time": "2024-07-18T13:27:38.016721Z"
    }
   },
   "cell_type": "code",
   "source": "k",
   "id": "5e993a5c727d3f87",
   "outputs": [
    {
     "data": {
      "text/plain": [
       "array([[ 1.      ,  1.      ,  1.      ,  0.      ],\n",
       "       [ 0.      ,  1.2     ,  0.      , -1.13    ],\n",
       "       [ 0.      ,  0.      ,  1.44    , -1.2769  ],\n",
       "       [ 1.728   ,  0.      ,  0.      , -1.442897]])"
      ]
     },
     "execution_count": 23,
     "metadata": {},
     "output_type": "execute_result"
    }
   ],
   "execution_count": 23
  },
  {
   "metadata": {
    "ExecuteTime": {
     "end_time": "2024-07-18T13:31:09.922818Z",
     "start_time": "2024-07-18T13:31:09.887340Z"
    }
   },
   "cell_type": "code",
   "source": [
    "y_general = np.array([1.] + [0.] * (len(factors) - 1) + [(1 + RF_RATE - CONVENIENCE_YIELD) ** factors[-1]])\n",
    "y_general"
   ],
   "id": "6fdadd0b80c11bdb",
   "outputs": [
    {
     "data": {
      "text/plain": [
       "array([1.      , 0.      , 0.      , 1.442897])"
      ]
     },
     "execution_count": 27,
     "metadata": {},
     "output_type": "execute_result"
    }
   ],
   "execution_count": 27
  },
  {
   "metadata": {
    "ExecuteTime": {
     "end_time": "2024-07-18T13:31:11.760114Z",
     "start_time": "2024-07-18T13:31:11.737352Z"
    }
   },
   "cell_type": "code",
   "source": "y",
   "id": "7b8066900ac4fe1f",
   "outputs": [
    {
     "data": {
      "text/plain": [
       "array([1.      , 0.      , 0.      , 1.442897])"
      ]
     },
     "execution_count": 28,
     "metadata": {},
     "output_type": "execute_result"
    }
   ],
   "execution_count": 28
  },
  {
   "metadata": {},
   "cell_type": "code",
   "outputs": [],
   "execution_count": null,
   "source": "",
   "id": "29dcf516a9a5770f"
  }
 ],
 "metadata": {
  "kernelspec": {
   "display_name": "Python 3",
   "language": "python",
   "name": "python3"
  },
  "language_info": {
   "codemirror_mode": {
    "name": "ipython",
    "version": 2
   },
   "file_extension": ".py",
   "mimetype": "text/x-python",
   "name": "python",
   "nbconvert_exporter": "python",
   "pygments_lexer": "ipython2",
   "version": "2.7.6"
  }
 },
 "nbformat": 4,
 "nbformat_minor": 5
}
