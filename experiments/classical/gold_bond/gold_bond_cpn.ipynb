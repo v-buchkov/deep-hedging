{
 "cells": [
  {
   "cell_type": "code",
   "id": "initial_id",
   "metadata": {
    "collapsed": true,
    "ExecuteTime": {
     "end_time": "2024-07-22T16:44:13.004279Z",
     "start_time": "2024-07-22T16:44:12.993899Z"
    }
   },
   "source": [
    "%load_ext autoreload\n",
    "%autoreload 2"
   ],
   "outputs": [],
   "execution_count": 1
  },
  {
   "metadata": {
    "ExecuteTime": {
     "end_time": "2024-07-22T16:44:14.583484Z",
     "start_time": "2024-07-22T16:44:13.005402Z"
    }
   },
   "cell_type": "code",
   "source": [
    "import datetime as dt\n",
    "\n",
    "from deep_hedging import Currency, Frequency, ConstantRateCurve\n",
    "from deep_hedging.linear.commodity_bond import CommodityBond"
   ],
   "id": "d92357218fbceb8b",
   "outputs": [],
   "execution_count": 2
  },
  {
   "metadata": {},
   "cell_type": "markdown",
   "source": "## Input parameters.",
   "id": "97646a67c10e3392"
  },
  {
   "metadata": {
    "ExecuteTime": {
     "end_time": "2024-07-22T16:44:14.596607Z",
     "start_time": "2024-07-22T16:44:14.584357Z"
    }
   },
   "cell_type": "code",
   "source": [
    "RF_RATE = 0.15\n",
    "Z_SPREAD = 0.05\n",
    "CONVENIENCE_YIELD = 0.02\n",
    "\n",
    "TIME_TILL_MATURITY = 2.0\n",
    "FREQUENCY = Frequency.ANNUALLY"
   ],
   "id": "2b122e240f0a2f27",
   "outputs": [],
   "execution_count": 3
  },
  {
   "metadata": {},
   "cell_type": "markdown",
   "source": "## Create curves.",
   "id": "7a315947103f9ccb"
  },
  {
   "metadata": {
    "ExecuteTime": {
     "end_time": "2024-07-22T16:44:14.612738Z",
     "start_time": "2024-07-22T16:44:14.597307Z"
    }
   },
   "cell_type": "code",
   "source": [
    "yield_curve = ConstantRateCurve(\n",
    "    currency=\"RUB\",\n",
    "    constant_rate=RF_RATE + Z_SPREAD,\n",
    "    compounding_frequency=FREQUENCY,\n",
    ")\n",
    "forward_curve = ConstantRateCurve(\n",
    "    currency=\"RUB\",\n",
    "    constant_rate=RF_RATE - CONVENIENCE_YIELD,\n",
    "    compounding_frequency=Frequency.CONTINUOUS\n",
    ")"
   ],
   "id": "ce8220a3f89001c7",
   "outputs": [],
   "execution_count": 4
  },
  {
   "metadata": {},
   "cell_type": "markdown",
   "source": "## Create bond.",
   "id": "3f51805bf49045a0"
  },
  {
   "metadata": {
    "ExecuteTime": {
     "end_time": "2024-07-22T16:44:14.630119Z",
     "start_time": "2024-07-22T16:44:14.614071Z"
    }
   },
   "cell_type": "code",
   "source": [
    "start = dt.datetime.today()\n",
    "end = start + dt.timedelta(days=int(round(TIME_TILL_MATURITY * 365)))\n",
    "\n",
    "gold_bond = CommodityBond(\n",
    "    yield_curve=yield_curve,\n",
    "    start_date=start,\n",
    "    end_date=end,\n",
    "    frequency=FREQUENCY,\n",
    "    yield_curve_commodity=forward_curve,\n",
    ")\n",
    "gold_bond"
   ],
   "id": "12b483e038362b4f",
   "outputs": [
    {
     "data": {
      "text/plain": [
       "StructuredNote of:\n",
       "1. LONG 0.949 units of ZeroCouponBond:\n",
       "* CCY = Currency.RUB\n",
       "* Term = 2.0 years\n",
       "* YTM = 20.0%\n",
       "* Start Date = 2024-07-22 19:44:14.625424\n",
       "* End Date = 2026-07-22 19:44:14.625424.\n",
       "\n",
       "2. LONG 1.0537 units of Forward:\n",
       "* Term = 2.0 years\n",
       "* Strike = 100.0%\n",
       "* Start Date = 2024-07-22 19:44:14.625424\n",
       "* End Date = 2026-07-22 19:44:14.625424.\n",
       "\n",
       "3. LONG 0.051 units of ZeroCouponBond:\n",
       "* CCY = Currency.RUB\n",
       "* Term = 1.0 years\n",
       "* YTM = 20.0%\n",
       "* Start Date = 2024-07-22 19:44:14.625424\n",
       "* End Date = 2025-07-23 00:00:00.\n",
       "\n",
       "4. LONG 0.0537 units of Forward:\n",
       "* Term = 1.0 years\n",
       "* Strike = 100.0%\n",
       "* Start Date = 2024-07-22 19:44:14.625424\n",
       "* End Date = 2025-07-23 00:00:00.\n"
      ]
     },
     "execution_count": 5,
     "metadata": {},
     "output_type": "execute_result"
    }
   ],
   "execution_count": 5
  },
  {
   "metadata": {
    "ExecuteTime": {
     "end_time": "2024-07-22T16:44:14.644100Z",
     "start_time": "2024-07-22T16:44:14.630792Z"
    }
   },
   "cell_type": "code",
   "source": "gold_bond.schedule",
   "id": "67831586ae425150",
   "outputs": [
    {
     "data": {
      "text/plain": [
       "[Timestamp('2024-07-23 00:00:00'),\n",
       " Timestamp('2025-07-23 00:00:00'),\n",
       " Timestamp('2026-07-23 00:00:00')]"
      ]
     },
     "execution_count": 6,
     "metadata": {},
     "output_type": "execute_result"
    }
   ],
   "execution_count": 6
  },
  {
   "metadata": {
    "ExecuteTime": {
     "end_time": "2024-07-22T16:44:14.657671Z",
     "start_time": "2024-07-22T16:44:14.644835Z"
    }
   },
   "cell_type": "code",
   "source": "print(f\"{gold_bond.fixed_coupon * 100:.4f}% p.a.\")",
   "id": "94ae9069080501eb",
   "outputs": [
    {
     "name": "stdout",
     "output_type": "stream",
     "text": [
      "5.3715% p.a.\n"
     ]
    }
   ],
   "execution_count": 7
  },
  {
   "metadata": {},
   "cell_type": "markdown",
   "source": [
    "### TODO:\n",
    "* Compounding frequency\n",
    "* Effective yield\n",
    "* Different CCY for Commodity and Bond"
   ],
   "id": "dd76eaa5a836e4"
  }
 ],
 "metadata": {
  "kernelspec": {
   "display_name": "Python 3",
   "language": "python",
   "name": "python3"
  },
  "language_info": {
   "codemirror_mode": {
    "name": "ipython",
    "version": 2
   },
   "file_extension": ".py",
   "mimetype": "text/x-python",
   "name": "python",
   "nbconvert_exporter": "python",
   "pygments_lexer": "ipython2",
   "version": "2.7.6"
  }
 },
 "nbformat": 4,
 "nbformat_minor": 5
}
