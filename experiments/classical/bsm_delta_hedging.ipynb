{
 "cells": [
  {
   "cell_type": "code",
   "id": "initial_id",
   "metadata": {
    "collapsed": true,
    "ExecuteTime": {
     "end_time": "2024-07-01T09:30:32.255194Z",
     "start_time": "2024-07-01T09:30:32.251502Z"
    }
   },
   "source": [
    "from enum import Enum\n",
    "\n",
    "\n",
    "class FormulaType(Enum):\n",
    "    BLACK_SCHOLES_MERTON: list[str] = \"black_scholes_merton\""
   ],
   "outputs": [],
   "execution_count": 6
  },
  {
   "metadata": {
    "ExecuteTime": {
     "end_time": "2024-07-01T09:30:32.532791Z",
     "start_time": "2024-07-01T09:30:32.526457Z"
    }
   },
   "cell_type": "code",
   "source": "FormulaType(\"black_scholes_merton\") == FormulaType.BLACK_SCHOLES_MERTON",
   "id": "b30291b1750865b",
   "outputs": [
    {
     "data": {
      "text/plain": [
       "True"
      ]
     },
     "execution_count": 7,
     "metadata": {},
     "output_type": "execute_result"
    }
   ],
   "execution_count": 7
  },
  {
   "metadata": {
    "ExecuteTime": {
     "end_time": "2024-07-01T09:42:22.685904Z",
     "start_time": "2024-07-01T09:42:22.665953Z"
    }
   },
   "cell_type": "code",
   "source": "[i.value for i in FormulaType]",
   "id": "bc3c2c541309f23c",
   "outputs": [
    {
     "data": {
      "text/plain": [
       "['black_scholes_merton']"
      ]
     },
     "execution_count": 11,
     "metadata": {},
     "output_type": "execute_result"
    }
   ],
   "execution_count": 11
  },
  {
   "metadata": {},
   "cell_type": "code",
   "outputs": [],
   "execution_count": null,
   "source": "",
   "id": "b9a8df03adcd4db7"
  }
 ],
 "metadata": {
  "kernelspec": {
   "display_name": "Python 3",
   "language": "python",
   "name": "python3"
  },
  "language_info": {
   "codemirror_mode": {
    "name": "ipython",
    "version": 2
   },
   "file_extension": ".py",
   "mimetype": "text/x-python",
   "name": "python",
   "nbconvert_exporter": "python",
   "pygments_lexer": "ipython2",
   "version": "2.7.6"
  }
 },
 "nbformat": 4,
 "nbformat_minor": 5
}
