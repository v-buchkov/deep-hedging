{
 "cells": [
  {
   "metadata": {
    "ExecuteTime": {
     "end_time": "2024-07-16T13:19:01.944566Z",
     "start_time": "2024-07-16T13:19:01.933710Z"
    }
   },
   "cell_type": "code",
   "source": [
    "%load_ext autoreload\n",
    "%autoreload 2"
   ],
   "id": "e546b46bae2170df",
   "outputs": [],
   "execution_count": 1
  },
  {
   "cell_type": "code",
   "id": "initial_id",
   "metadata": {
    "collapsed": true,
    "ExecuteTime": {
     "end_time": "2024-07-16T13:19:03.423851Z",
     "start_time": "2024-07-16T13:19:01.945636Z"
    }
   },
   "source": [
    "import datetime as dt\n",
    "\n",
    "import numpy as np\n",
    "\n",
    "from deep_hedging import (\n",
    "    Underlyings,\n",
    "    Ticker,\n",
    "    ConstantRateCurve,\n",
    "    Forward\n",
    ")\n",
    "from deep_hedging.monte_carlo import GBMPricer\n",
    "\n",
    "RANDOM_SEED = 12"
   ],
   "outputs": [],
   "execution_count": 2
  },
  {
   "metadata": {
    "ExecuteTime": {
     "end_time": "2024-07-16T13:19:03.437734Z",
     "start_time": "2024-07-16T13:19:03.424610Z"
    }
   },
   "cell_type": "code",
   "source": [
    "N_PATHS = 100_000\n",
    "N_STOCKS = 1\n",
    "TILL_MATURITY = 3.0\n",
    "N_DAYS = 365 * TILL_MATURITY\n",
    "RF_RATE = 0.03\n",
    "VOL = 0.2"
   ],
   "id": "c8fa6851e24330e",
   "outputs": [],
   "execution_count": 3
  },
  {
   "metadata": {
    "ExecuteTime": {
     "end_time": "2024-07-16T13:19:03.452560Z",
     "start_time": "2024-07-16T13:19:03.438587Z"
    }
   },
   "cell_type": "code",
   "source": "N_DAYS",
   "id": "3da7cf713d42420b",
   "outputs": [
    {
     "data": {
      "text/plain": [
       "1095.0"
      ]
     },
     "execution_count": 4,
     "metadata": {},
     "output_type": "execute_result"
    }
   ],
   "execution_count": 4
  },
  {
   "metadata": {
    "ExecuteTime": {
     "end_time": "2024-07-16T13:19:03.468272Z",
     "start_time": "2024-07-16T13:19:03.454250Z"
    }
   },
   "cell_type": "code",
   "source": [
    "np.random.seed(RANDOM_SEED)\n",
    "\n",
    "start = dt.datetime(2019, 1, 1)\n",
    "end = start + dt.timedelta(days=N_DAYS)\n",
    "\n",
    "underlyings = Underlyings(\n",
    "    tickers=[Ticker(f\"Stock {i + 1}\", f\"{i + 1}\") for i in range(N_STOCKS)],\n",
    "    start=start,\n",
    "    end=end,\n",
    "    dividends=np.array([0.0] * N_STOCKS),\n",
    "    means=np.array([RF_RATE] * N_STOCKS),\n",
    "    var_covar=np.array([VOL**2] * N_STOCKS),\n",
    ")\n",
    "underlyings.data"
   ],
   "id": "b9a8df03adcd4db7",
   "outputs": [],
   "execution_count": 5
  },
  {
   "metadata": {
    "ExecuteTime": {
     "end_time": "2024-07-16T13:19:03.483569Z",
     "start_time": "2024-07-16T13:19:03.468931Z"
    }
   },
   "cell_type": "code",
   "source": "curve = ConstantRateCurve(currency=\"RUB\", rate=RF_RATE)",
   "id": "3edcf795959a8653",
   "outputs": [],
   "execution_count": 6
  },
  {
   "metadata": {
    "ExecuteTime": {
     "end_time": "2024-07-16T13:19:03.497042Z",
     "start_time": "2024-07-16T13:19:03.484518Z"
    }
   },
   "cell_type": "code",
   "source": [
    "forward = Forward(\n",
    "    rates_difference=RF_RATE,\n",
    "    spot_price=1.,\n",
    "    term=TILL_MATURITY,\n",
    ")"
   ],
   "id": "2bf204be1dfb1a84",
   "outputs": [],
   "execution_count": 7
  },
  {
   "metadata": {
    "ExecuteTime": {
     "end_time": "2024-07-16T13:19:03.510474Z",
     "start_time": "2024-07-16T13:19:03.497727Z"
    }
   },
   "cell_type": "code",
   "source": "pricer = GBMPricer(payoff_function=forward.payoff, random_seed=RANDOM_SEED)",
   "id": "8a341c4b3033fdb8",
   "outputs": [],
   "execution_count": 8
  },
  {
   "metadata": {
    "ExecuteTime": {
     "end_time": "2024-07-16T13:19:03.525346Z",
     "start_time": "2024-07-16T13:19:03.511453Z"
    }
   },
   "cell_type": "code",
   "source": "forward.strike, np.exp(TILL_MATURITY * curve.get_rate(3.))",
   "id": "8bd8f3dc3e9250e8",
   "outputs": [
    {
     "data": {
      "text/plain": [
       "(1.0941742837052104, 1.0941742837052104)"
      ]
     },
     "execution_count": 9,
     "metadata": {},
     "output_type": "execute_result"
    }
   ],
   "execution_count": 9
  },
  {
   "metadata": {
    "ExecuteTime": {
     "end_time": "2024-07-16T13:19:06.179080Z",
     "start_time": "2024-07-16T13:19:03.526062Z"
    }
   },
   "cell_type": "code",
   "source": [
    "pricer.price(\n",
    "    spot=[1.0],\n",
    "    time_till_maturity=TILL_MATURITY,\n",
    "    risk_free_rate_fn=curve.get_instant_fwd_rate,\n",
    "    dividends_fn=lambda t: 0.0,\n",
    "    var_covar_fn=lambda t: np.array([VOL**2]),\n",
    "    n_paths=N_PATHS,\n",
    ")"
   ],
   "id": "50d567e8b457f2c",
   "outputs": [
    {
     "data": {
      "text/plain": [
       "0.00010373860153460368"
      ]
     },
     "execution_count": 10,
     "metadata": {},
     "output_type": "execute_result"
    }
   ],
   "execution_count": 10
  },
  {
   "metadata": {
    "ExecuteTime": {
     "end_time": "2024-07-16T13:19:08.719763Z",
     "start_time": "2024-07-16T13:19:06.179963Z"
    }
   },
   "cell_type": "code",
   "source": [
    "paths = pricer.get_paths(\n",
    "    spot=[1.0],\n",
    "    time_till_maturity=TILL_MATURITY,\n",
    "    risk_free_rate_fn=curve.get_instant_fwd_rate,\n",
    "    dividends_fn=lambda t: 0.0,\n",
    "    var_covar_fn=lambda t: np.array([VOL**2]),\n",
    "    n_paths=N_PATHS,\n",
    ").squeeze(2)\n",
    "paths.shape"
   ],
   "id": "ddd6349244ed6020",
   "outputs": [
    {
     "data": {
      "text/plain": [
       "(100000, 757)"
      ]
     },
     "execution_count": 11,
     "metadata": {},
     "output_type": "execute_result"
    }
   ],
   "execution_count": 11
  },
  {
   "metadata": {
    "ExecuteTime": {
     "end_time": "2024-07-16T13:19:08.753737Z",
     "start_time": "2024-07-16T13:19:08.720548Z"
    }
   },
   "cell_type": "code",
   "source": "paths[:, -1].mean()",
   "id": "a41b7ce57ce988ff",
   "outputs": [
    {
     "data": {
      "text/plain": [
       "1.0942877918152374"
      ]
     },
     "execution_count": 12,
     "metadata": {},
     "output_type": "execute_result"
    }
   ],
   "execution_count": 12
  },
  {
   "metadata": {
    "ExecuteTime": {
     "end_time": "2024-07-16T13:19:08.769344Z",
     "start_time": "2024-07-16T13:19:08.754605Z"
    }
   },
   "cell_type": "code",
   "source": "(paths[:, -1] - forward.strike).mean()",
   "id": "74371723884e4c08",
   "outputs": [
    {
     "data": {
      "text/plain": [
       "0.00011350811002670527"
      ]
     },
     "execution_count": 13,
     "metadata": {},
     "output_type": "execute_result"
    }
   ],
   "execution_count": 13
  }
 ],
 "metadata": {
  "kernelspec": {
   "display_name": "Python 3",
   "language": "python",
   "name": "python3"
  },
  "language_info": {
   "codemirror_mode": {
    "name": "ipython",
    "version": 2
   },
   "file_extension": ".py",
   "mimetype": "text/x-python",
   "name": "python",
   "nbconvert_exporter": "python",
   "pygments_lexer": "ipython2",
   "version": "2.7.6"
  }
 },
 "nbformat": 4,
 "nbformat_minor": 5
}
