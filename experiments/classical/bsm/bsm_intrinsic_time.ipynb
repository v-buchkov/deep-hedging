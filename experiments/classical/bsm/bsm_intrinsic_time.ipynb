{
 "cells": [
  {
   "metadata": {
    "ExecuteTime": {
     "end_time": "2024-07-11T14:19:40.400555Z",
     "start_time": "2024-07-11T14:19:40.390451Z"
    }
   },
   "cell_type": "code",
   "source": [
    "%load_ext autoreload\n",
    "%autoreload 2"
   ],
   "id": "e546b46bae2170df",
   "outputs": [],
   "execution_count": 1
  },
  {
   "cell_type": "code",
   "id": "initial_id",
   "metadata": {
    "collapsed": true,
    "ExecuteTime": {
     "end_time": "2024-07-11T14:19:41.761177Z",
     "start_time": "2024-07-11T14:19:40.401883Z"
    }
   },
   "source": [
    "import datetime as dt\n",
    "\n",
    "import numpy as np\n",
    "\n",
    "from deep_hedging import (\n",
    "    Underlyings,\n",
    "    Ticker,\n",
    "    ConstantRateCurve,\n",
    "    EuropeanCall,\n",
    ")\n",
    "\n",
    "RANDOM_SEED = 12"
   ],
   "outputs": [],
   "execution_count": 2
  },
  {
   "metadata": {
    "ExecuteTime": {
     "end_time": "2024-07-11T14:19:41.774871Z",
     "start_time": "2024-07-11T14:19:41.761928Z"
    }
   },
   "cell_type": "code",
   "source": [
    "N_PATHS = 100_000\n",
    "N_STOCKS = 1\n",
    "TILL_MATURITY = 3.0\n",
    "N_DAYS = 365 * TILL_MATURITY\n",
    "RF_RATE = 0.03\n",
    "VOL = 0.2"
   ],
   "id": "c8fa6851e24330e",
   "outputs": [],
   "execution_count": 3
  },
  {
   "metadata": {
    "ExecuteTime": {
     "end_time": "2024-07-11T14:19:41.789913Z",
     "start_time": "2024-07-11T14:19:41.775595Z"
    }
   },
   "cell_type": "code",
   "source": "N_DAYS",
   "id": "3da7cf713d42420b",
   "outputs": [
    {
     "data": {
      "text/plain": [
       "1095.0"
      ]
     },
     "execution_count": 4,
     "metadata": {},
     "output_type": "execute_result"
    }
   ],
   "execution_count": 4
  },
  {
   "metadata": {
    "ExecuteTime": {
     "end_time": "2024-07-11T14:19:41.805846Z",
     "start_time": "2024-07-11T14:19:41.791704Z"
    }
   },
   "cell_type": "code",
   "source": [
    "np.random.seed(RANDOM_SEED)\n",
    "\n",
    "start = dt.datetime(2019, 1, 1)\n",
    "end = start + dt.timedelta(days=N_DAYS)\n",
    "\n",
    "underlyings = Underlyings(\n",
    "    tickers=[Ticker(f\"Stock {i + 1}\", f\"{i + 1}\") for i in range(N_STOCKS)],\n",
    "    start=start,\n",
    "    end=end,\n",
    "    dividends=np.array([0.0] * N_STOCKS),\n",
    "    means=np.array([RF_RATE] * N_STOCKS),\n",
    "    var_covar=np.array([VOL**2] * N_STOCKS),\n",
    ")\n",
    "underlyings.data"
   ],
   "id": "b9a8df03adcd4db7",
   "outputs": [],
   "execution_count": 5
  },
  {
   "metadata": {
    "ExecuteTime": {
     "end_time": "2024-07-11T14:19:41.822207Z",
     "start_time": "2024-07-11T14:19:41.806634Z"
    }
   },
   "cell_type": "code",
   "source": "curve = ConstantRateCurve(rate=RF_RATE)",
   "id": "3edcf795959a8653",
   "outputs": [],
   "execution_count": 6
  },
  {
   "metadata": {
    "ExecuteTime": {
     "end_time": "2024-07-11T14:19:41.841027Z",
     "start_time": "2024-07-11T14:19:41.822980Z"
    }
   },
   "cell_type": "code",
   "source": [
    "european_call = EuropeanCall(\n",
    "    underlyings=underlyings,\n",
    "    yield_curve=curve,\n",
    "    strike_level=1.0,\n",
    "    start_date=start,\n",
    "    end_date=end,\n",
    ")\n",
    "atm_price = european_call.price()[0][0]\n",
    "atm_price"
   ],
   "id": "2bf204be1dfb1a84",
   "outputs": [
    {
     "data": {
      "text/plain": [
       "0.18292688107562222"
      ]
     },
     "execution_count": 7,
     "metadata": {},
     "output_type": "execute_result"
    }
   ],
   "execution_count": 7
  },
  {
   "metadata": {
    "ExecuteTime": {
     "end_time": "2024-07-11T14:19:41.855921Z",
     "start_time": "2024-07-11T14:19:41.841802Z"
    }
   },
   "cell_type": "code",
   "source": [
    "ITM_SPOT = 1.5\n",
    "itm_price = european_call.price(spot=np.array([ITM_SPOT]))[0][0]\n",
    "itm_price"
   ],
   "id": "2c32b49d40bdc232",
   "outputs": [
    {
     "data": {
      "text/plain": [
       "0.6036104240567091"
      ]
     },
     "execution_count": 8,
     "metadata": {},
     "output_type": "execute_result"
    }
   ],
   "execution_count": 8
  },
  {
   "metadata": {
    "ExecuteTime": {
     "end_time": "2024-07-11T14:19:41.870178Z",
     "start_time": "2024-07-11T14:19:41.856982Z"
    }
   },
   "cell_type": "code",
   "source": [
    "intrinsic_value = ITM_SPOT - 1.0\n",
    "time_value = itm_price - intrinsic_value\n",
    "time_value, intrinsic_value"
   ],
   "id": "15ed16861fac8b3a",
   "outputs": [
    {
     "data": {
      "text/plain": [
       "(0.10361042405670906, 0.5)"
      ]
     },
     "execution_count": 9,
     "metadata": {},
     "output_type": "execute_result"
    }
   ],
   "execution_count": 9
  },
  {
   "metadata": {
    "ExecuteTime": {
     "end_time": "2024-07-11T14:19:41.884343Z",
     "start_time": "2024-07-11T14:19:41.870919Z"
    }
   },
   "cell_type": "code",
   "source": "time_value, atm_price",
   "id": "9101457feea0668d",
   "outputs": [
    {
     "data": {
      "text/plain": [
       "(0.10361042405670906, 0.18292688107562222)"
      ]
     },
     "execution_count": 10,
     "metadata": {},
     "output_type": "execute_result"
    }
   ],
   "execution_count": 10
  }
 ],
 "metadata": {
  "kernelspec": {
   "display_name": "Python 3",
   "language": "python",
   "name": "python3"
  },
  "language_info": {
   "codemirror_mode": {
    "name": "ipython",
    "version": 2
   },
   "file_extension": ".py",
   "mimetype": "text/x-python",
   "name": "python",
   "nbconvert_exporter": "python",
   "pygments_lexer": "ipython2",
   "version": "2.7.6"
  }
 },
 "nbformat": 4,
 "nbformat_minor": 5
}
