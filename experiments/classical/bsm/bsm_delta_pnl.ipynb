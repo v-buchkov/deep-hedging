{
 "cells": [
  {
   "metadata": {
    "ExecuteTime": {
     "end_time": "2024-07-25T13:59:39.717964Z",
     "start_time": "2024-07-25T13:59:39.707429Z"
    }
   },
   "cell_type": "code",
   "source": [
    "%load_ext autoreload\n",
    "%autoreload 2"
   ],
   "id": "e546b46bae2170df",
   "outputs": [],
   "execution_count": 1
  },
  {
   "cell_type": "code",
   "id": "initial_id",
   "metadata": {
    "collapsed": true,
    "ExecuteTime": {
     "end_time": "2024-07-25T13:59:41.313585Z",
     "start_time": "2024-07-25T13:59:39.718961Z"
    }
   },
   "source": [
    "from typing import Callable\n",
    "import datetime as dt\n",
    "\n",
    "import numpy as np\n",
    "import matplotlib.pyplot as plt\n",
    "\n",
    "from deep_hedging import (\n",
    "    Underlyings,\n",
    "    Ticker,\n",
    "    ConstantRateCurve,\n",
    "    EuropeanCall,\n",
    ")\n",
    "from deep_hedging.non_linear.base_option import BaseOption\n",
    "from deep_hedging.monte_carlo import GBMSimulator\n",
    "\n",
    "RANDOM_SEED = 12"
   ],
   "outputs": [],
   "execution_count": 2
  },
  {
   "metadata": {
    "ExecuteTime": {
     "end_time": "2024-07-25T13:59:41.326783Z",
     "start_time": "2024-07-25T13:59:41.314403Z"
    }
   },
   "cell_type": "code",
   "source": [
    "N_PATHS = 10_000\n",
    "N_STOCKS = 1\n",
    "TILL_MATURITY = 3.0\n",
    "N_DAYS = 365 * TILL_MATURITY\n",
    "RF_RATE = 0.03\n",
    "VOL = 0.2"
   ],
   "id": "c8fa6851e24330e",
   "outputs": [],
   "execution_count": 3
  },
  {
   "metadata": {
    "ExecuteTime": {
     "end_time": "2024-07-25T13:59:41.341298Z",
     "start_time": "2024-07-25T13:59:41.327492Z"
    }
   },
   "cell_type": "code",
   "source": "N_DAYS",
   "id": "3da7cf713d42420b",
   "outputs": [
    {
     "data": {
      "text/plain": [
       "1095.0"
      ]
     },
     "execution_count": 4,
     "metadata": {},
     "output_type": "execute_result"
    }
   ],
   "execution_count": 4
  },
  {
   "metadata": {
    "ExecuteTime": {
     "end_time": "2024-07-25T13:59:41.356700Z",
     "start_time": "2024-07-25T13:59:41.342924Z"
    }
   },
   "cell_type": "code",
   "source": [
    "np.random.seed(RANDOM_SEED)\n",
    "\n",
    "start = dt.datetime(2019, 1, 1)\n",
    "end = start + dt.timedelta(days=N_DAYS)\n",
    "\n",
    "underlyings = Underlyings(\n",
    "    tickers=[Ticker(f\"Stock {i + 1}\", f\"{i + 1}\") for i in range(N_STOCKS)],\n",
    "    start=start,\n",
    "    end=end,\n",
    "    dividends=np.array([0.0] * N_STOCKS),\n",
    "    means=np.array([RF_RATE] * N_STOCKS),\n",
    "    var_covar=np.array([VOL**2] * N_STOCKS),\n",
    ")\n",
    "underlyings.data"
   ],
   "id": "b9a8df03adcd4db7",
   "outputs": [],
   "execution_count": 5
  },
  {
   "metadata": {
    "ExecuteTime": {
     "end_time": "2024-07-25T13:59:41.370985Z",
     "start_time": "2024-07-25T13:59:41.357650Z"
    }
   },
   "cell_type": "code",
   "source": "np.sqrt(np.diag(underlyings.get_var_covar()))",
   "id": "b571cc548b81b9a8",
   "outputs": [
    {
     "data": {
      "text/plain": [
       "array([[0.2]])"
      ]
     },
     "execution_count": 6,
     "metadata": {},
     "output_type": "execute_result"
    }
   ],
   "execution_count": 6
  },
  {
   "metadata": {
    "ExecuteTime": {
     "end_time": "2024-07-25T13:59:41.385361Z",
     "start_time": "2024-07-25T13:59:41.371792Z"
    }
   },
   "cell_type": "code",
   "source": "curve = ConstantRateCurve(constant_rate=RF_RATE)",
   "id": "3edcf795959a8653",
   "outputs": [],
   "execution_count": 7
  },
  {
   "metadata": {
    "ExecuteTime": {
     "end_time": "2024-07-25T13:59:41.398913Z",
     "start_time": "2024-07-25T13:59:41.386205Z"
    }
   },
   "cell_type": "code",
   "source": [
    "european_call = EuropeanCall(\n",
    "    underlyings=underlyings,\n",
    "    yield_curve=curve,\n",
    "    strike_level=1.0,\n",
    "    start_date=start,\n",
    "    end_date=end,\n",
    ")"
   ],
   "id": "2bf204be1dfb1a84",
   "outputs": [],
   "execution_count": 8
  },
  {
   "metadata": {
    "ExecuteTime": {
     "end_time": "2024-07-25T13:59:41.412266Z",
     "start_time": "2024-07-25T13:59:41.400229Z"
    }
   },
   "cell_type": "code",
   "source": "pricer = GBMSimulator(payoff_function=european_call.payoff, random_seed=RANDOM_SEED)",
   "id": "8a341c4b3033fdb8",
   "outputs": [],
   "execution_count": 9
  },
  {
   "metadata": {
    "ExecuteTime": {
     "end_time": "2024-07-25T13:59:41.681010Z",
     "start_time": "2024-07-25T13:59:41.413263Z"
    }
   },
   "cell_type": "code",
   "source": [
    "paths = pricer.get_paths(\n",
    "    spot=[1.0],\n",
    "    time_till_maturity=TILL_MATURITY,\n",
    "    risk_free_rate_fn=curve.get_instant_fwd_rate,\n",
    "    dividends_fn=lambda t: 0.0,\n",
    "    var_covar_fn=lambda t: np.array([VOL**2] * len(t)),\n",
    "    n_paths=N_PATHS,\n",
    ").squeeze(2)\n",
    "paths.shape"
   ],
   "id": "ddd6349244ed6020",
   "outputs": [
    {
     "data": {
      "text/plain": [
       "(10000, 757)"
      ]
     },
     "execution_count": 10,
     "metadata": {},
     "output_type": "execute_result"
    }
   ],
   "execution_count": 10
  },
  {
   "metadata": {
    "ExecuteTime": {
     "end_time": "2024-07-25T13:59:41.694915Z",
     "start_time": "2024-07-25T13:59:41.681766Z"
    }
   },
   "cell_type": "code",
   "source": [
    "def get_greek(\n",
    "    spot: np.array, till_maturity: np.array, greek_fn: Callable[[np.array], np.array]\n",
    ") -> np.array:\n",
    "    greek = []\n",
    "    for day in range(spot.shape[1]):\n",
    "        greek.append(\n",
    "            list(\n",
    "                greek_fn(spot=spot[:, day], till_maturity=till_maturity[day]).flatten()\n",
    "            )\n",
    "        )\n",
    "    return np.array(greek).T"
   ],
   "id": "3583d78f1c93d773",
   "outputs": [],
   "execution_count": 11
  },
  {
   "metadata": {
    "ExecuteTime": {
     "end_time": "2024-07-25T13:59:41.709236Z",
     "start_time": "2024-07-25T13:59:41.695747Z"
    }
   },
   "cell_type": "code",
   "source": [
    "def get_pnl(spot: np.array, weights: np.array, dt: float) -> np.array:\n",
    "    weights_all = np.concatenate(\n",
    "        [\n",
    "            np.zeros((spot.shape[0], 1)),\n",
    "            weights,\n",
    "            np.zeros((spot.shape[0], 1)),\n",
    "        ],\n",
    "        axis=1,\n",
    "    )\n",
    "    weights_diff = np.diff(weights_all, n=1, axis=1)\n",
    "    # print(weights_diff.shape, spot.shape)\n",
    "\n",
    "    # rates_diff = spot[:, :, 2] - spot[:, :, 3]\n",
    "    rates_diff = RF_RATE\n",
    "\n",
    "    bought = np.where(weights_diff > 0, weights_diff, 0)\n",
    "    sold = np.where(weights_diff < 0, -weights_diff, 0)\n",
    "\n",
    "    # cash_outflow = (-spot[:, 1:, 1] * bought).sum(axis=1)\n",
    "    # cash_inflow = (-spot[:, 1:, 0] * sold).sum(axis=1)\n",
    "\n",
    "    cash_outflow = -spot * bought\n",
    "    cash_inflow = spot * sold\n",
    "\n",
    "    cash_position = cash_outflow.cumsum(axis=1) + cash_inflow.cumsum(axis=1)\n",
    "\n",
    "    interest = (rates_diff * dt * cash_position[:, :-1]).sum(axis=1)\n",
    "    # interest = 0\n",
    "\n",
    "    return cash_outflow.sum(axis=1) + cash_inflow.sum(axis=1) + interest"
   ],
   "id": "2e7d02485d7b27c2",
   "outputs": [],
   "execution_count": 12
  },
  {
   "metadata": {
    "ExecuteTime": {
     "end_time": "2024-07-25T13:59:41.722906Z",
     "start_time": "2024-07-25T13:59:41.709951Z"
    }
   },
   "cell_type": "code",
   "source": [
    "def simulate_pnl(spot: np.array, option: BaseOption) -> np.array:\n",
    "    till_maturity = np.linspace(option.time_till_maturity, 1e-6, spot.shape[1])\n",
    "    delta_paths = get_greek(spot, till_maturity, option.delta)\n",
    "    # plt.plot(delta_paths[0])\n",
    "    # plt.show()\n",
    "    # print(delta_paths.min(), delta_paths.max())\n",
    "    # print(delta_paths.mean(axis=1).mean(), (delta_paths.mean(axis=1) * 0.03 * 3.).mean())\n",
    "    return (\n",
    "        get_pnl(spot, delta_paths[:, :-1], 1 / 365),\n",
    "        european_call.payoff(spot),\n",
    "    )"
   ],
   "id": "974b09f025d116ff",
   "outputs": [],
   "execution_count": 13
  },
  {
   "metadata": {
    "ExecuteTime": {
     "end_time": "2024-07-25T13:59:42.558462Z",
     "start_time": "2024-07-25T13:59:41.725869Z"
    }
   },
   "cell_type": "code",
   "source": [
    "pnl_hedge, pnl_opt = simulate_pnl(paths, european_call)\n",
    "pnl_hedge.mean(), pnl_opt.mean()"
   ],
   "id": "d08e201e9650bc44",
   "outputs": [
    {
     "data": {
      "text/plain": [
       "(0.00016883375785257525, 0.19329709535494358)"
      ]
     },
     "execution_count": 14,
     "metadata": {},
     "output_type": "execute_result"
    }
   ],
   "execution_count": 14
  },
  {
   "metadata": {
    "ExecuteTime": {
     "end_time": "2024-07-25T13:59:42.572653Z",
     "start_time": "2024-07-25T13:59:42.559216Z"
    }
   },
   "cell_type": "code",
   "source": "pnl_opt.std(), pnl_hedge.std(), (pnl_hedge - pnl_opt).std()",
   "id": "f06b84ca7706b307",
   "outputs": [
    {
     "data": {
      "text/plain": [
       "(0.295840534441357, 0.29623850724938466, 0.004507093584090484)"
      ]
     },
     "execution_count": 15,
     "metadata": {},
     "output_type": "execute_result"
    }
   ],
   "execution_count": 15
  },
  {
   "metadata": {
    "ExecuteTime": {
     "end_time": "2024-07-25T13:59:42.586879Z",
     "start_time": "2024-07-25T13:59:42.573380Z"
    }
   },
   "cell_type": "code",
   "source": "np.corrcoef(pnl_hedge, pnl_opt)",
   "id": "728d7a47dd43e931",
   "outputs": [
    {
     "data": {
      "text/plain": [
       "array([[1.        , 0.99988501],\n",
       "       [0.99988501, 1.        ]])"
      ]
     },
     "execution_count": 16,
     "metadata": {},
     "output_type": "execute_result"
    }
   ],
   "execution_count": 16
  },
  {
   "metadata": {
    "ExecuteTime": {
     "end_time": "2024-07-25T13:59:42.601475Z",
     "start_time": "2024-07-25T13:59:42.587602Z"
    }
   },
   "cell_type": "code",
   "source": [
    "(\n",
    "    pnl_opt - european_call.price() * np.exp(RF_RATE * european_call.time_till_maturity)\n",
    ").mean()"
   ],
   "id": "a787b228340e80ad",
   "outputs": [
    {
     "data": {
      "text/plain": [
       "-0.0025549302853090177"
      ]
     },
     "execution_count": 17,
     "metadata": {},
     "output_type": "execute_result"
    }
   ],
   "execution_count": 17
  },
  {
   "metadata": {
    "ExecuteTime": {
     "end_time": "2024-07-25T13:59:42.615452Z",
     "start_time": "2024-07-25T13:59:42.602115Z"
    }
   },
   "cell_type": "code",
   "source": [
    "(\n",
    "    pnl_opt - european_call.price() * np.exp(RF_RATE * european_call.time_till_maturity)\n",
    ").std()"
   ],
   "id": "4cbbfcc02bfb596c",
   "outputs": [
    {
     "data": {
      "text/plain": [
       "0.295840534441357"
      ]
     },
     "execution_count": 18,
     "metadata": {},
     "output_type": "execute_result"
    }
   ],
   "execution_count": 18
  },
  {
   "metadata": {
    "ExecuteTime": {
     "end_time": "2024-07-25T13:59:42.629908Z",
     "start_time": "2024-07-25T13:59:42.616165Z"
    }
   },
   "cell_type": "code",
   "source": [
    "(\n",
    "    pnl_opt\n",
    "    - pnl_hedge\n",
    "    - european_call.price() * np.exp(RF_RATE * european_call.time_till_maturity)\n",
    ").std()"
   ],
   "id": "60e91232ff3cd9ba",
   "outputs": [
    {
     "data": {
      "text/plain": [
       "0.004507093584090484"
      ]
     },
     "execution_count": 19,
     "metadata": {},
     "output_type": "execute_result"
    }
   ],
   "execution_count": 19
  },
  {
   "metadata": {
    "ExecuteTime": {
     "end_time": "2024-07-25T13:59:42.643169Z",
     "start_time": "2024-07-25T13:59:42.630681Z"
    }
   },
   "cell_type": "code",
   "source": "paths.shape",
   "id": "25d42734ef8ddd2b",
   "outputs": [
    {
     "data": {
      "text/plain": [
       "(10000, 757)"
      ]
     },
     "execution_count": 20,
     "metadata": {},
     "output_type": "execute_result"
    }
   ],
   "execution_count": 20
  },
  {
   "metadata": {
    "ExecuteTime": {
     "end_time": "2024-07-25T13:59:42.656410Z",
     "start_time": "2024-07-25T13:59:42.643949Z"
    }
   },
   "cell_type": "code",
   "source": [
    "example_spot = np.array([100, 100, 150]).reshape(1, -1, 1)\n",
    "example_weights = np.array([0.5, 1.0, 2.0]).reshape(1, -1)"
   ],
   "id": "dc78e2c21629674e",
   "outputs": [],
   "execution_count": 21
  },
  {
   "metadata": {
    "ExecuteTime": {
     "end_time": "2024-07-25T13:59:42.670253Z",
     "start_time": "2024-07-25T13:59:42.657191Z"
    }
   },
   "cell_type": "code",
   "source": [
    "example_pnl = get_pnl(example_spot, example_weights[:, :-1], 1.0)\n",
    "example_pnl"
   ],
   "id": "2825322a1c631ba7",
   "outputs": [
    {
     "data": {
      "text/plain": [
       "array([[-179.5, -179.5,  359. ]])"
      ]
     },
     "execution_count": 22,
     "metadata": {},
     "output_type": "execute_result"
    }
   ],
   "execution_count": 22
  },
  {
   "metadata": {
    "ExecuteTime": {
     "end_time": "2024-07-25T13:59:42.683729Z",
     "start_time": "2024-07-25T13:59:42.670974Z"
    }
   },
   "cell_type": "code",
   "source": "example_spot.shape, example_weights.shape",
   "id": "11941096e2009675",
   "outputs": [
    {
     "data": {
      "text/plain": [
       "((1, 3, 1), (1, 3))"
      ]
     },
     "execution_count": 23,
     "metadata": {},
     "output_type": "execute_result"
    }
   ],
   "execution_count": 23
  },
  {
   "metadata": {
    "ExecuteTime": {
     "end_time": "2024-07-25T13:59:43.483275Z",
     "start_time": "2024-07-25T13:59:42.684520Z"
    }
   },
   "cell_type": "code",
   "source": [
    "pnl_hedge, pnl_opt = simulate_pnl(paths, european_call)\n",
    "(pnl_opt - pnl_hedge).mean()"
   ],
   "id": "ed25add1c2241bba",
   "outputs": [
    {
     "data": {
      "text/plain": [
       "0.193128261597091"
      ]
     },
     "execution_count": 24,
     "metadata": {},
     "output_type": "execute_result"
    }
   ],
   "execution_count": 24
  },
  {
   "metadata": {
    "ExecuteTime": {
     "end_time": "2024-07-25T13:59:43.498077Z",
     "start_time": "2024-07-25T13:59:43.484119Z"
    }
   },
   "cell_type": "code",
   "source": "european_call.price()",
   "id": "1c1ea33db73b058b",
   "outputs": [
    {
     "data": {
      "text/plain": [
       "array([[0.17899527]])"
      ]
     },
     "execution_count": 25,
     "metadata": {},
     "output_type": "execute_result"
    }
   ],
   "execution_count": 25
  },
  {
   "metadata": {
    "ExecuteTime": {
     "end_time": "2024-07-25T13:59:44.124643Z",
     "start_time": "2024-07-25T13:59:43.498797Z"
    }
   },
   "cell_type": "code",
   "source": [
    "gammas = get_greek(\n",
    "    paths,\n",
    "    np.linspace(european_call.time_till_maturity, 1e-6, paths.shape[1]),\n",
    "    european_call.gamma,\n",
    ")\n",
    "gammas.shape"
   ],
   "id": "e76c674de0fbf095",
   "outputs": [
    {
     "data": {
      "text/plain": [
       "(10000, 757)"
      ]
     },
     "execution_count": 26,
     "metadata": {},
     "output_type": "execute_result"
    }
   ],
   "execution_count": 26
  },
  {
   "metadata": {
    "ExecuteTime": {
     "end_time": "2024-07-25T13:59:44.175709Z",
     "start_time": "2024-07-25T13:59:44.125310Z"
    }
   },
   "cell_type": "code",
   "source": [
    "paths_diff = np.diff(paths, n=1, axis=1)\n",
    "gamma_pnl = (gammas[:, :-1] / 2 * paths_diff**2).sum(axis=1)\n",
    "gamma_pnl.mean()"
   ],
   "id": "eab78c39c519fa02",
   "outputs": [
    {
     "data": {
      "text/plain": [
       "0.07522006963933286"
      ]
     },
     "execution_count": 27,
     "metadata": {},
     "output_type": "execute_result"
    }
   ],
   "execution_count": 27
  },
  {
   "metadata": {
    "ExecuteTime": {
     "end_time": "2024-07-25T13:59:44.189356Z",
     "start_time": "2024-07-25T13:59:44.176445Z"
    }
   },
   "cell_type": "code",
   "source": "pnl_hedge.mean()",
   "id": "f2f2b226f7dbb3fa",
   "outputs": [
    {
     "data": {
      "text/plain": [
       "0.00016883375785257525"
      ]
     },
     "execution_count": 28,
     "metadata": {},
     "output_type": "execute_result"
    }
   ],
   "execution_count": 28
  },
  {
   "metadata": {
    "ExecuteTime": {
     "end_time": "2024-07-25T13:59:44.202907Z",
     "start_time": "2024-07-25T13:59:44.190033Z"
    }
   },
   "cell_type": "code",
   "source": "(pnl_hedge + gamma_pnl).mean()",
   "id": "38fd7e3f448a0e13",
   "outputs": [
    {
     "data": {
      "text/plain": [
       "0.07538890339718544"
      ]
     },
     "execution_count": 29,
     "metadata": {},
     "output_type": "execute_result"
    }
   ],
   "execution_count": 29
  },
  {
   "metadata": {
    "ExecuteTime": {
     "end_time": "2024-07-25T13:59:44.216292Z",
     "start_time": "2024-07-25T13:59:44.203555Z"
    }
   },
   "cell_type": "code",
   "source": "pnl_opt.mean()",
   "id": "4977c523ccb7c876",
   "outputs": [
    {
     "data": {
      "text/plain": [
       "0.19329709535494358"
      ]
     },
     "execution_count": 30,
     "metadata": {},
     "output_type": "execute_result"
    }
   ],
   "execution_count": 30
  },
  {
   "metadata": {
    "ExecuteTime": {
     "end_time": "2024-07-25T13:59:44.230362Z",
     "start_time": "2024-07-25T13:59:44.216977Z"
    }
   },
   "cell_type": "code",
   "source": "(pnl_opt - pnl_hedge - gamma_pnl).mean()",
   "id": "5d4a7f816b3f2da3",
   "outputs": [
    {
     "data": {
      "text/plain": [
       "0.11790819195775815"
      ]
     },
     "execution_count": 31,
     "metadata": {},
     "output_type": "execute_result"
    }
   ],
   "execution_count": 31
  },
  {
   "metadata": {
    "ExecuteTime": {
     "end_time": "2024-07-25T13:59:44.354078Z",
     "start_time": "2024-07-25T13:59:44.231119Z"
    }
   },
   "cell_type": "code",
   "source": [
    "plt.plot(np.sort(paths[:, -1]), pnl_opt[np.argsort(paths[:, -1])])\n",
    "plt.plot(np.sort(paths[:, -1]), pnl_hedge[np.argsort(paths[:, -1])])\n",
    "plt.show()"
   ],
   "id": "1b1ee23234412b30",
   "outputs": [
    {
     "data": {
      "text/plain": [
       "<Figure size 640x480 with 1 Axes>"
      ],
      "image/png": "[encoded data removed]"
     },
     "metadata": {},
     "output_type": "display_data"
    }
   ],
   "execution_count": 32
  },
  {
   "metadata": {
    "ExecuteTime": {
     "end_time": "2024-07-25T13:59:44.381525Z",
     "start_time": "2024-07-25T13:59:44.355879Z"
    }
   },
   "cell_type": "code",
   "source": [
    "value_opt = european_call.price(spot=paths[:, -1])\n",
    "value_opt.shape"
   ],
   "id": "a00c31e505f14001",
   "outputs": [
    {
     "data": {
      "text/plain": [
       "(10000, 1)"
      ]
     },
     "execution_count": 33,
     "metadata": {},
     "output_type": "execute_result"
    }
   ],
   "execution_count": 33
  },
  {
   "metadata": {
    "ExecuteTime": {
     "end_time": "2024-07-25T13:59:44.547826Z",
     "start_time": "2024-07-25T13:59:44.384306Z"
    }
   },
   "cell_type": "code",
   "source": [
    "plt.plot(np.sort(paths[:, -1]), value_opt[np.argsort(paths[:, -1])])\n",
    "plt.plot(np.sort(paths[:, -1]), pnl_opt[np.argsort(paths[:, -1])])\n",
    "# plt.plot(np.sort(paths[:, -1]), pnl_hedge[np.argsort(paths[:, -1])])\n",
    "plt.show()"
   ],
   "id": "55fcd19b531b02c6",
   "outputs": [
    {
     "data": {
      "text/plain": [
       "<Figure size 640x480 with 1 Axes>"
      ],
      "image/png": "[encoded data removed]"
     },
     "metadata": {},
     "output_type": "display_data"
    }
   ],
   "execution_count": 34
  },
  {
   "metadata": {
    "ExecuteTime": {
     "end_time": "2024-07-25T13:59:44.632306Z",
     "start_time": "2024-07-25T13:59:44.550269Z"
    }
   },
   "cell_type": "code",
   "source": [
    "plt.plot(np.sort(paths[:, -1]), value_opt[np.argsort(paths[:, -1])])\n",
    "# plt.plot(np.sort(paths[:, -1]), pnl_opt[np.argsort(paths[:, -1])])\n",
    "plt.plot(np.sort(paths[:, -1]), pnl_hedge[np.argsort(paths[:, -1])])\n",
    "plt.show()"
   ],
   "id": "d34cb3ac52aa8297",
   "outputs": [
    {
     "data": {
      "text/plain": [
       "<Figure size 640x480 with 1 Axes>"
      ],
      "image/png": "[encoded data removed]"
     },
     "metadata": {},
     "output_type": "display_data"
    }
   ],
   "execution_count": 35
  },
  {
   "metadata": {
    "ExecuteTime": {
     "end_time": "2024-07-25T13:59:44.718731Z",
     "start_time": "2024-07-25T13:59:44.633998Z"
    }
   },
   "cell_type": "code",
   "source": [
    "plt.plot(np.sort(paths[:, -1]), value_opt[np.argsort(paths[:, -1])])\n",
    "# plt.plot(np.sort(paths[:, -1]), pnl_opt[np.argsort(paths[:, -1])])\n",
    "plt.plot(\n",
    "    np.sort(paths[:, -1]),\n",
    "    pnl_hedge[np.argsort(paths[:, -1])] + gamma_pnl[np.argsort(paths[:, -1])],\n",
    ")\n",
    "plt.show()"
   ],
   "id": "286363aa73b150ff",
   "outputs": [
    {
     "data": {
      "text/plain": [
       "<Figure size 640x480 with 1 Axes>"
      ],
      "image/png": "[encoded data removed]"
     },
     "metadata": {},
     "output_type": "display_data"
    }
   ],
   "execution_count": 36
  },
  {
   "metadata": {
    "ExecuteTime": {
     "end_time": "2024-07-25T13:59:44.743387Z",
     "start_time": "2024-07-25T13:59:44.720334Z"
    }
   },
   "cell_type": "code",
   "source": "np.sort(paths[:, -1])",
   "id": "df993c2997dab7c7",
   "outputs": [
    {
     "data": {
      "text/plain": [
       "array([0.27800143, 0.30263767, 0.30802662, ..., 3.17739453, 3.18157664,\n",
       "       3.44471147])"
      ]
     },
     "execution_count": 37,
     "metadata": {},
     "output_type": "execute_result"
    }
   ],
   "execution_count": 37
  },
  {
   "metadata": {
    "ExecuteTime": {
     "end_time": "2024-07-25T13:59:44.762764Z",
     "start_time": "2024-07-25T13:59:44.744998Z"
    }
   },
   "cell_type": "code",
   "source": "pnl_opt[np.argsort(paths[:, -1])].shape",
   "id": "baccf1651b5abf82",
   "outputs": [
    {
     "data": {
      "text/plain": [
       "(10000,)"
      ]
     },
     "execution_count": 38,
     "metadata": {},
     "output_type": "execute_result"
    }
   ],
   "execution_count": 38
  },
  {
   "metadata": {
    "ExecuteTime": {
     "end_time": "2024-07-25T13:59:44.785315Z",
     "start_time": "2024-07-25T13:59:44.764389Z"
    }
   },
   "cell_type": "code",
   "source": "pnl_opt",
   "id": "1e824e19a836b31f",
   "outputs": [
    {
     "data": {
      "text/plain": [
       "array([0., 0., 0., ..., 0., 0., 0.])"
      ]
     },
     "execution_count": 39,
     "metadata": {},
     "output_type": "execute_result"
    }
   ],
   "execution_count": 39
  },
  {
   "metadata": {
    "ExecuteTime": {
     "end_time": "2024-07-25T13:59:44.860419Z",
     "start_time": "2024-07-25T13:59:44.786960Z"
    }
   },
   "cell_type": "code",
   "source": [
    "plt.plot(np.sort(paths[:, -1]), pnl_opt[np.argsort(paths[:, -1])])\n",
    "plt.plot(\n",
    "    np.sort(paths[:, -1]),\n",
    "    pnl_hedge[np.argsort(paths[:, -1])] + european_call.price().T.squeeze(1),\n",
    ")\n",
    "plt.show()"
   ],
   "id": "a6122ee5a653579e",
   "outputs": [
    {
     "data": {
      "text/plain": [
       "<Figure size 640x480 with 1 Axes>"
      ],
      "image/png": "[encoded data removed]"
     },
     "metadata": {},
     "output_type": "display_data"
    }
   ],
   "execution_count": 40
  },
  {
   "metadata": {
    "ExecuteTime": {
     "end_time": "2024-07-25T14:01:35.140147Z",
     "start_time": "2024-07-25T13:59:44.869944Z"
    }
   },
   "cell_type": "code",
   "source": [
    "hedge_paths, opt_paths = [], []\n",
    "vols = np.linspace(0.10, 1.0, 100)\n",
    "for vol in vols:\n",
    "    paths = pricer.get_paths(\n",
    "        spot=[1.0],\n",
    "        time_till_maturity=TILL_MATURITY,\n",
    "        risk_free_rate_fn=curve.rate,\n",
    "        dividends_fn=lambda t: 0.0,\n",
    "        var_covar_fn=lambda t: np.array([vol**2] * len(t)),\n",
    "        n_paths=N_PATHS,\n",
    "    ).squeeze(2)\n",
    "    pnl_hedge, pnl_opt = simulate_pnl(paths, european_call)\n",
    "    hedge_paths.append(pnl_hedge.mean())\n",
    "    opt_paths.append(pnl_opt.mean())\n",
    "plt.plot(vols, -np.array(hedge_paths))\n",
    "plt.show()"
   ],
   "id": "7c12098e55056870",
   "outputs": [
    {
     "data": {
      "text/plain": [
       "<Figure size 640x480 with 1 Axes>"
      ],
      "image/png": "[encoded data removed]"
     },
     "metadata": {},
     "output_type": "display_data"
    }
   ],
   "execution_count": 41
  },
  {
   "metadata": {},
   "cell_type": "markdown",
   "source": "### !!! Справедливая цена дериватива определяется стоимостью остаточного риска, который нельзя захеджировать. Хеджирующая стратегия получается путём $\\mathbb{V^Q}[PnL_{derivative} - PnL_{strategy}(\\theta)] \\rightarrow \\underset{\\theta}{\\min}$. Таким образом, справедливая цена получается как матожидание (константа) величины $\\mathbb{E^Q}[PnL_{derivative} - PnL_{strategy}(\\^{\\theta})]$, где PnL стратегии получен в следствие минимизации стандартного отклонения.",
   "id": "5904406013143f2e"
  },
  {
   "metadata": {},
   "cell_type": "markdown",
   "source": "### Наличие транзакционных издержек делает зависимым справедливую стоимость дериватива (как остаточную стоимость от хеджирования) от траектории хеджирования.",
   "id": "208d8a2bac02919f"
  }
 ],
 "metadata": {
  "kernelspec": {
   "display_name": "Python 3",
   "language": "python",
   "name": "python3"
  },
  "language_info": {
   "codemirror_mode": {
    "name": "ipython",
    "version": 2
   },
   "file_extension": ".py",
   "mimetype": "text/x-python",
   "name": "python",
   "nbconvert_exporter": "python",
   "pygments_lexer": "ipython2",
   "version": "2.7.6"
  }
 },
 "nbformat": 4,
 "nbformat_minor": 5
}
