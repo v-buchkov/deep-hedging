{
 "cells": [
  {
   "metadata": {
    "ExecuteTime": {
     "end_time": "2024-07-02T12:39:42.837353Z",
     "start_time": "2024-07-02T12:39:42.817979Z"
    }
   },
   "cell_type": "code",
   "source": [
    "%load_ext autoreload\n",
    "%autoreload 2"
   ],
   "id": "e546b46bae2170df",
   "outputs": [],
   "execution_count": 1
  },
  {
   "cell_type": "code",
   "id": "initial_id",
   "metadata": {
    "collapsed": true,
    "ExecuteTime": {
     "end_time": "2024-07-02T12:39:45.034399Z",
     "start_time": "2024-07-02T12:39:42.842616Z"
    }
   },
   "source": [
    "import datetime as dt\n",
    "\n",
    "import numpy as np\n",
    "import pandas as pd\n",
    "\n",
    "from deep_hedging import (\n",
    "    Underlyings,\n",
    "    Ticker,\n",
    "    ConstantRateCurve,\n",
    "    EuropeanCall,\n",
    "    EuropeanPut,\n",
    ")\n",
    "from deep_hedging.monte_carlo import GBMPricer\n",
    "\n",
    "RANDOM_SEED = 12"
   ],
   "outputs": [],
   "execution_count": 2
  },
  {
   "metadata": {
    "ExecuteTime": {
     "end_time": "2024-07-02T12:39:45.049533Z",
     "start_time": "2024-07-02T12:39:45.035373Z"
    }
   },
   "cell_type": "code",
   "source": [
    "N_PATHS = 20_000\n",
    "N_STOCKS = 1\n",
    "TILL_MATURITY = 3.0\n",
    "N_DAYS = 365 * TILL_MATURITY\n",
    "RF_RATE = 0.03\n",
    "VOL = 0.2"
   ],
   "id": "c8fa6851e24330e",
   "outputs": [],
   "execution_count": 3
  },
  {
   "metadata": {
    "ExecuteTime": {
     "end_time": "2024-07-02T12:39:45.069012Z",
     "start_time": "2024-07-02T12:39:45.050225Z"
    }
   },
   "cell_type": "code",
   "source": "N_DAYS",
   "id": "3da7cf713d42420b",
   "outputs": [
    {
     "data": {
      "text/plain": [
       "1095.0"
      ]
     },
     "execution_count": 4,
     "metadata": {},
     "output_type": "execute_result"
    }
   ],
   "execution_count": 4
  },
  {
   "metadata": {
    "ExecuteTime": {
     "end_time": "2024-07-02T12:39:45.102832Z",
     "start_time": "2024-07-02T12:39:45.070786Z"
    }
   },
   "cell_type": "code",
   "source": [
    "np.random.seed(RANDOM_SEED)\n",
    "\n",
    "start = dt.datetime(2019, 1, 1)\n",
    "end = start + dt.timedelta(days=N_DAYS)\n",
    "\n",
    "data = pd.DataFrame(\n",
    "    np.concatenate(\n",
    "        [\n",
    "            np.expand_dims(np.array([1.0]), 1),\n",
    "            np.exp(\n",
    "                RF_RATE / 252\n",
    "                + VOL / np.sqrt(252) * np.random.randn((end - start).days, N_STOCKS)\n",
    "            ),\n",
    "        ],\n",
    "        axis=0,\n",
    "    ),\n",
    "    columns=[\"price\"],\n",
    ")\n",
    "data[\"price\"] = data[\"price\"].cumprod()\n",
    "data[\"index\"] = pd.date_range(start=start, end=end, freq=\"1D\")\n",
    "data.set_index(\"index\", inplace=True)\n",
    "\n",
    "underlyings = Underlyings(\n",
    "    tickers=[Ticker(f\"Stock {i + 1}\", f\"{i + 1}\") for i in range(N_STOCKS)],\n",
    "    start=start,\n",
    "    end=end,\n",
    "    data=data,\n",
    "    dividends=np.array([0.0] * N_STOCKS),\n",
    ")\n",
    "underlyings.data"
   ],
   "id": "b9a8df03adcd4db7",
   "outputs": [
    {
     "data": {
      "text/plain": [
       "               price\n",
       "index               \n",
       "2019-01-01  1.000000\n",
       "2019-01-02  1.006097\n",
       "2019-01-03  0.997615\n",
       "2019-01-04  1.000786\n",
       "2019-01-05  0.979686\n",
       "...              ...\n",
       "2021-12-27  1.068472\n",
       "2021-12-28  1.080112\n",
       "2021-12-29  1.074025\n",
       "2021-12-30  1.091707\n",
       "2021-12-31  1.064814\n",
       "\n",
       "[1096 rows x 1 columns]"
      ],
      "text/html": [
       "<div>\n",
       "<style scoped>\n",
       "    .dataframe tbody tr th:only-of-type {\n",
       "        vertical-align: middle;\n",
       "    }\n",
       "\n",
       "    .dataframe tbody tr th {\n",
       "        vertical-align: top;\n",
       "    }\n",
       "\n",
       "    .dataframe thead th {\n",
       "        text-align: right;\n",
       "    }\n",
       "</style>\n",
       "<table border=\"1\" class=\"dataframe\">\n",
       "  <thead>\n",
       "    <tr style=\"text-align: right;\">\n",
       "      <th></th>\n",
       "      <th>price</th>\n",
       "    </tr>\n",
       "    <tr>\n",
       "      <th>index</th>\n",
       "      <th></th>\n",
       "    </tr>\n",
       "  </thead>\n",
       "  <tbody>\n",
       "    <tr>\n",
       "      <th>2019-01-01</th>\n",
       "      <td>1.000000</td>\n",
       "    </tr>\n",
       "    <tr>\n",
       "      <th>2019-01-02</th>\n",
       "      <td>1.006097</td>\n",
       "    </tr>\n",
       "    <tr>\n",
       "      <th>2019-01-03</th>\n",
       "      <td>0.997615</td>\n",
       "    </tr>\n",
       "    <tr>\n",
       "      <th>2019-01-04</th>\n",
       "      <td>1.000786</td>\n",
       "    </tr>\n",
       "    <tr>\n",
       "      <th>2019-01-05</th>\n",
       "      <td>0.979686</td>\n",
       "    </tr>\n",
       "    <tr>\n",
       "      <th>...</th>\n",
       "      <td>...</td>\n",
       "    </tr>\n",
       "    <tr>\n",
       "      <th>2021-12-27</th>\n",
       "      <td>1.068472</td>\n",
       "    </tr>\n",
       "    <tr>\n",
       "      <th>2021-12-28</th>\n",
       "      <td>1.080112</td>\n",
       "    </tr>\n",
       "    <tr>\n",
       "      <th>2021-12-29</th>\n",
       "      <td>1.074025</td>\n",
       "    </tr>\n",
       "    <tr>\n",
       "      <th>2021-12-30</th>\n",
       "      <td>1.091707</td>\n",
       "    </tr>\n",
       "    <tr>\n",
       "      <th>2021-12-31</th>\n",
       "      <td>1.064814</td>\n",
       "    </tr>\n",
       "  </tbody>\n",
       "</table>\n",
       "<p>1096 rows × 1 columns</p>\n",
       "</div>"
      ]
     },
     "execution_count": 5,
     "metadata": {},
     "output_type": "execute_result"
    }
   ],
   "execution_count": 5
  },
  {
   "metadata": {
    "ExecuteTime": {
     "end_time": "2024-07-02T12:39:45.118450Z",
     "start_time": "2024-07-02T12:39:45.104209Z"
    }
   },
   "cell_type": "code",
   "source": "np.sqrt(np.diag(underlyings.get_var_covar()))",
   "id": "b571cc548b81b9a8",
   "outputs": [
    {
     "data": {
      "text/plain": [
       "array([0.2051043])"
      ]
     },
     "execution_count": 6,
     "metadata": {},
     "output_type": "execute_result"
    }
   ],
   "execution_count": 6
  },
  {
   "metadata": {
    "ExecuteTime": {
     "end_time": "2024-07-02T12:39:45.136300Z",
     "start_time": "2024-07-02T12:39:45.119416Z"
    }
   },
   "cell_type": "code",
   "source": "curve = ConstantRateCurve(rate=RF_RATE)",
   "id": "3edcf795959a8653",
   "outputs": [],
   "execution_count": 7
  },
  {
   "metadata": {
    "ExecuteTime": {
     "end_time": "2024-07-02T13:01:23.180945Z",
     "start_time": "2024-07-02T13:01:22.999730Z"
    }
   },
   "cell_type": "code",
   "source": [
    "european_call = EuropeanCall(\n",
    "    underlyings=underlyings,\n",
    "    yield_curve=curve,\n",
    "    strike_level=1.0,\n",
    "    start_date=start,\n",
    "    end_date=end,\n",
    ")"
   ],
   "id": "2bf204be1dfb1a84",
   "outputs": [],
   "execution_count": 19
  },
  {
   "metadata": {
    "ExecuteTime": {
     "end_time": "2024-07-02T12:39:45.165941Z",
     "start_time": "2024-07-02T12:39:45.152031Z"
    }
   },
   "cell_type": "code",
   "source": [
    "pricer = GBMPricer(payoff_function=european_call.payoff, random_seed=RANDOM_SEED)"
   ],
   "id": "8a341c4b3033fdb8",
   "outputs": [],
   "execution_count": 9
  },
  {
   "metadata": {
    "ExecuteTime": {
     "end_time": "2024-07-02T12:39:49.503769Z",
     "start_time": "2024-07-02T12:39:45.166994Z"
    }
   },
   "cell_type": "code",
   "source": [
    "paths = pricer.get_paths(\n",
    "    current_spot=[1.0],\n",
    "    time_till_maturity=TILL_MATURITY,\n",
    "    risk_free_rate_fn=curve.get_rate,\n",
    "    dividends_fn=lambda t: 0.0,\n",
    "    var_covar_fn=lambda t: np.array([VOL**2]),\n",
    "    n_paths=N_PATHS,\n",
    ")\n",
    "paths.shape"
   ],
   "id": "ddd6349244ed6020",
   "outputs": [
    {
     "data": {
      "text/plain": [
       "(100000, 757, 1)"
      ]
     },
     "execution_count": 10,
     "metadata": {},
     "output_type": "execute_result"
    }
   ],
   "execution_count": 10
  },
  {
   "metadata": {
    "ExecuteTime": {
     "end_time": "2024-07-02T12:39:49.542049Z",
     "start_time": "2024-07-02T12:39:49.506891Z"
    }
   },
   "cell_type": "code",
   "source": [
    "from typing import Callable\n",
    "\n",
    "\n",
    "def get_greek(spot: np.array, greek_fn: Callable[[np.array], np.array]) -> np.array:\n",
    "    greek = []\n",
    "    for day in range(spot.shape[1]):\n",
    "        greek.append(list(greek_fn(spot=spot[:, day]).flatten()))\n",
    "    return np.array(greek).T"
   ],
   "id": "daf88acf614bfe6d",
   "outputs": [],
   "execution_count": 11
  },
  {
   "metadata": {
    "ExecuteTime": {
     "end_time": "2024-07-02T12:40:01.427761Z",
     "start_time": "2024-07-02T12:39:49.544713Z"
    }
   },
   "cell_type": "code",
   "source": [
    "deltas = get_greek(paths, european_call.delta)\n",
    "deltas.shape"
   ],
   "id": "4e78e23190bd6cfa",
   "outputs": [
    {
     "data": {
      "text/plain": [
       "(100000, 757)"
      ]
     },
     "execution_count": 12,
     "metadata": {},
     "output_type": "execute_result"
    }
   ],
   "execution_count": 12
  },
  {
   "metadata": {
    "ExecuteTime": {
     "end_time": "2024-07-02T12:40:01.592267Z",
     "start_time": "2024-07-02T12:40:01.433484Z"
    }
   },
   "cell_type": "code",
   "source": "deltas.min(), deltas.max()",
   "id": "80437c83ccb71619",
   "outputs": [
    {
     "data": {
      "text/plain": [
       "(7.176208220730748e-05, 0.9999999788347615)"
      ]
     },
     "execution_count": 13,
     "metadata": {},
     "output_type": "execute_result"
    }
   ],
   "execution_count": 13
  },
  {
   "metadata": {
    "ExecuteTime": {
     "end_time": "2024-07-02T12:40:01.607368Z",
     "start_time": "2024-07-02T12:40:01.594833Z"
    }
   },
   "cell_type": "code",
   "source": [
    "def get_delta_hedge_pnl(\n",
    "    spot: np.array, greek_fn: Callable[[np.array], np.array]\n",
    ") -> np.array:\n",
    "    delta_paths = get_greek(spot, european_call.delta)"
   ],
   "id": "1cc4c7ca09247d7d",
   "outputs": [],
   "execution_count": 14
  },
  {
   "metadata": {
    "ExecuteTime": {
     "end_time": "2024-07-02T14:25:08.557968Z",
     "start_time": "2024-07-02T14:25:08.364341Z"
    }
   },
   "cell_type": "code",
   "source": "european_call.price()",
   "id": "48aa911b89c53538",
   "outputs": [
    {
     "name": "stdout",
     "output_type": "stream",
     "text": [
      "[0.4330127]\n",
      "[0.08660254]\n"
     ]
    },
    {
     "data": {
      "text/plain": [
       "array([0.17899527])"
      ]
     },
     "execution_count": 22,
     "metadata": {},
     "output_type": "execute_result"
    }
   ],
   "execution_count": 22
  },
  {
   "metadata": {
    "ExecuteTime": {
     "end_time": "2024-07-02T12:40:01.771223Z",
     "start_time": "2024-07-02T12:40:01.623997Z"
    }
   },
   "cell_type": "code",
   "source": [
    "final_points = np.log(paths[:, -1, :].squeeze(1))\n",
    "final_points.mean() / 3, final_points.std() / np.sqrt(3)"
   ],
   "id": "c2397dc1efc25194",
   "outputs": [
    {
     "data": {
      "text/plain": [
       "(0.010110012826833657, 0.19966178768086412)"
      ]
     },
     "execution_count": 16,
     "metadata": {},
     "output_type": "execute_result"
    }
   ],
   "execution_count": 16
  },
  {
   "metadata": {
    "ExecuteTime": {
     "end_time": "2024-07-02T12:40:01.789429Z",
     "start_time": "2024-07-02T12:40:01.772405Z"
    }
   },
   "cell_type": "code",
   "source": "underlyings.get_dividends()",
   "id": "2bf941da41e83f3a",
   "outputs": [
    {
     "data": {
      "text/plain": [
       "array([0.])"
      ]
     },
     "execution_count": 17,
     "metadata": {},
     "output_type": "execute_result"
    }
   ],
   "execution_count": 17
  },
  {
   "metadata": {
    "ExecuteTime": {
     "end_time": "2024-07-02T12:40:01.792856Z",
     "start_time": "2024-07-02T12:40:01.790765Z"
    }
   },
   "cell_type": "code",
   "source": "",
   "id": "12e0069f753119b5",
   "outputs": [],
   "execution_count": 17
  }
 ],
 "metadata": {
  "kernelspec": {
   "display_name": "Python 3",
   "language": "python",
   "name": "python3"
  },
  "language_info": {
   "codemirror_mode": {
    "name": "ipython",
    "version": 2
   },
   "file_extension": ".py",
   "mimetype": "text/x-python",
   "name": "python",
   "nbconvert_exporter": "python",
   "pygments_lexer": "ipython2",
   "version": "2.7.6"
  }
 },
 "nbformat": 4,
 "nbformat_minor": 5
}
