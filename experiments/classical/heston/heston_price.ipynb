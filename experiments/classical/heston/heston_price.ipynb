{
 "cells": [
  {
   "metadata": {
    "ExecuteTime": {
     "end_time": "2024-08-09T10:48:04.942516Z",
     "start_time": "2024-08-09T10:48:04.930210Z"
    }
   },
   "cell_type": "code",
   "source": [
    "%load_ext autoreload\n",
    "%autoreload 2"
   ],
   "id": "e546b46bae2170df",
   "outputs": [],
   "execution_count": 1
  },
  {
   "cell_type": "code",
   "id": "initial_id",
   "metadata": {
    "collapsed": true,
    "ExecuteTime": {
     "end_time": "2024-08-09T10:48:06.453751Z",
     "start_time": "2024-08-09T10:48:04.943562Z"
    }
   },
   "source": [
    "import datetime as dt\n",
    "\n",
    "import numpy as np\n",
    "import pandas as pd\n",
    "\n",
    "from deep_hedging import (\n",
    "    Underlyings,\n",
    "    Ticker,\n",
    "    ConstantRateCurve,\n",
    "    EuropeanCall,\n",
    ")\n",
    "from deep_hedging.hedger import HedgeSimulator\n",
    "from deep_hedging.monte_carlo import CorrelatedHestonSimulator\n",
    "from deep_hedging.monte_carlo.bid_ask import WhiteNoiseBidAskSimulator\n",
    "from deep_hedging.monte_carlo.volatility import VasicekVolatilitySimulator\n",
    "from deep_hedging.monte_carlo.rates import VasicekSimulator\n",
    "\n",
    "RANDOM_SEED = 12"
   ],
   "outputs": [],
   "execution_count": 2
  },
  {
   "metadata": {
    "ExecuteTime": {
     "end_time": "2024-08-09T10:48:06.467427Z",
     "start_time": "2024-08-09T10:48:06.454529Z"
    }
   },
   "cell_type": "code",
   "source": [
    "N_PATHS = 10_000\n",
    "\n",
    "N_STOCKS = 1\n",
    "TILL_MATURITY = 3.0\n",
    "TRADING_DAYS = 252\n",
    "N_DAYS = TRADING_DAYS * TILL_MATURITY\n",
    "\n",
    "VOL = 0.2\n",
    "\n",
    "RF_RATE = 0.03\n",
    "RATES_VOL = 0.0\n",
    "# RATES_VOL = 0.01\n",
    "\n",
    "# BID_ASK = 0.05 / 100\n",
    "BID_ASK = 0.0"
   ],
   "id": "c8fa6851e24330e",
   "outputs": [],
   "execution_count": 3
  },
  {
   "metadata": {
    "ExecuteTime": {
     "end_time": "2024-08-09T10:48:06.491300Z",
     "start_time": "2024-08-09T10:48:06.468754Z"
    }
   },
   "cell_type": "code",
   "source": [
    "np.random.seed(RANDOM_SEED)\n",
    "\n",
    "start = dt.datetime(2019, 1, 1)\n",
    "end = start + dt.timedelta(days=N_DAYS)\n",
    "\n",
    "random_returns = np.concatenate(\n",
    "    [\n",
    "        np.expand_dims(np.array([1.0]), 1),\n",
    "        np.exp(\n",
    "            (RF_RATE - VOL**2 / 2) / TRADING_DAYS\n",
    "            + VOL / np.sqrt(TRADING_DAYS) * np.random.randn((end - start).days, N_STOCKS)\n",
    "        ),\n",
    "    ],\n",
    "    axis=0,\n",
    ")\n",
    "data = pd.DataFrame(\n",
    "    random_returns,\n",
    "    columns=[\"close\"],\n",
    ")\n",
    "data[\"close\"] = data[\"close\"].cumprod()\n",
    "data[\"index\"] = pd.date_range(start=start, end=end, freq=\"1D\")\n",
    "data.set_index(\"index\", inplace=True)\n",
    "\n",
    "underlyings = Underlyings(\n",
    "    tickers=[Ticker(f\"Stock {i + 1}\", f\"{i + 1}\") for i in range(N_STOCKS)],\n",
    "    start=start,\n",
    "    end=end,\n",
    "    data=data,\n",
    "    dividends=np.array([0.0] * N_STOCKS),\n",
    ")\n",
    "underlyings.data"
   ],
   "id": "b9a8df03adcd4db7",
   "outputs": [
    {
     "data": {
      "text/plain": [
       "               close\n",
       "index               \n",
       "2019-01-01  1.000000\n",
       "2019-01-02  1.006017\n",
       "2019-01-03  0.997457\n",
       "2019-01-04  1.000548\n",
       "2019-01-05  0.979375\n",
       "...              ...\n",
       "2021-01-22  0.714950\n",
       "2021-01-23  0.723401\n",
       "2021-01-24  0.718739\n",
       "2021-01-25  0.711849\n",
       "2021-01-26  0.707663\n",
       "\n",
       "[757 rows x 1 columns]"
      ],
      "text/html": [
       "<div>\n",
       "<style scoped>\n",
       "    .dataframe tbody tr th:only-of-type {\n",
       "        vertical-align: middle;\n",
       "    }\n",
       "\n",
       "    .dataframe tbody tr th {\n",
       "        vertical-align: top;\n",
       "    }\n",
       "\n",
       "    .dataframe thead th {\n",
       "        text-align: right;\n",
       "    }\n",
       "</style>\n",
       "<table border=\"1\" class=\"dataframe\">\n",
       "  <thead>\n",
       "    <tr style=\"text-align: right;\">\n",
       "      <th></th>\n",
       "      <th>close</th>\n",
       "    </tr>\n",
       "    <tr>\n",
       "      <th>index</th>\n",
       "      <th></th>\n",
       "    </tr>\n",
       "  </thead>\n",
       "  <tbody>\n",
       "    <tr>\n",
       "      <th>2019-01-01</th>\n",
       "      <td>1.000000</td>\n",
       "    </tr>\n",
       "    <tr>\n",
       "      <th>2019-01-02</th>\n",
       "      <td>1.006017</td>\n",
       "    </tr>\n",
       "    <tr>\n",
       "      <th>2019-01-03</th>\n",
       "      <td>0.997457</td>\n",
       "    </tr>\n",
       "    <tr>\n",
       "      <th>2019-01-04</th>\n",
       "      <td>1.000548</td>\n",
       "    </tr>\n",
       "    <tr>\n",
       "      <th>2019-01-05</th>\n",
       "      <td>0.979375</td>\n",
       "    </tr>\n",
       "    <tr>\n",
       "      <th>...</th>\n",
       "      <td>...</td>\n",
       "    </tr>\n",
       "    <tr>\n",
       "      <th>2021-01-22</th>\n",
       "      <td>0.714950</td>\n",
       "    </tr>\n",
       "    <tr>\n",
       "      <th>2021-01-23</th>\n",
       "      <td>0.723401</td>\n",
       "    </tr>\n",
       "    <tr>\n",
       "      <th>2021-01-24</th>\n",
       "      <td>0.718739</td>\n",
       "    </tr>\n",
       "    <tr>\n",
       "      <th>2021-01-25</th>\n",
       "      <td>0.711849</td>\n",
       "    </tr>\n",
       "    <tr>\n",
       "      <th>2021-01-26</th>\n",
       "      <td>0.707663</td>\n",
       "    </tr>\n",
       "  </tbody>\n",
       "</table>\n",
       "<p>757 rows × 1 columns</p>\n",
       "</div>"
      ]
     },
     "execution_count": 4,
     "metadata": {},
     "output_type": "execute_result"
    }
   ],
   "execution_count": 4
  },
  {
   "metadata": {
    "ExecuteTime": {
     "end_time": "2024-08-09T10:48:06.509641Z",
     "start_time": "2024-08-09T10:48:06.491895Z"
    }
   },
   "cell_type": "code",
   "source": [
    "np.random.seed(RANDOM_SEED + RANDOM_SEED)\n",
    "\n",
    "start = dt.datetime(2019, 1, 1)\n",
    "end = start + dt.timedelta(days=N_DAYS)\n",
    "\n",
    "random_returns = np.concatenate(\n",
    "    [\n",
    "        np.expand_dims(np.array([RF_RATE]), 1),\n",
    "        RATES_VOL / np.sqrt(TRADING_DAYS) * np.random.randn((end - start).days, N_STOCKS),\n",
    "    ],\n",
    "    axis=0,\n",
    ")\n",
    "rates = pd.DataFrame(\n",
    "    random_returns,\n",
    "    columns=[\"close\"],\n",
    ")\n",
    "rates[\"close\"] = rates[\"close\"].cumsum()\n",
    "rates[\"index\"] = pd.date_range(start=start, end=end, freq=\"1D\")\n",
    "rates.set_index(\"index\", inplace=True)\n",
    "rates"
   ],
   "id": "2980ba73d0b175a7",
   "outputs": [
    {
     "data": {
      "text/plain": [
       "               close\n",
       "index               \n",
       "2019-01-01  0.030000\n",
       "2019-01-02  0.030837\n",
       "2019-01-03  0.030352\n",
       "2019-01-04  0.030153\n",
       "2019-01-05  0.029529\n",
       "...              ...\n",
       "2021-01-22  0.032307\n",
       "2021-01-23  0.032221\n",
       "2021-01-24  0.033141\n",
       "2021-01-25  0.033412\n",
       "2021-01-26  0.032817\n",
       "\n",
       "[757 rows x 1 columns]"
      ],
      "text/html": [
       "<div>\n",
       "<style scoped>\n",
       "    .dataframe tbody tr th:only-of-type {\n",
       "        vertical-align: middle;\n",
       "    }\n",
       "\n",
       "    .dataframe tbody tr th {\n",
       "        vertical-align: top;\n",
       "    }\n",
       "\n",
       "    .dataframe thead th {\n",
       "        text-align: right;\n",
       "    }\n",
       "</style>\n",
       "<table border=\"1\" class=\"dataframe\">\n",
       "  <thead>\n",
       "    <tr style=\"text-align: right;\">\n",
       "      <th></th>\n",
       "      <th>close</th>\n",
       "    </tr>\n",
       "    <tr>\n",
       "      <th>index</th>\n",
       "      <th></th>\n",
       "    </tr>\n",
       "  </thead>\n",
       "  <tbody>\n",
       "    <tr>\n",
       "      <th>2019-01-01</th>\n",
       "      <td>0.030000</td>\n",
       "    </tr>\n",
       "    <tr>\n",
       "      <th>2019-01-02</th>\n",
       "      <td>0.030837</td>\n",
       "    </tr>\n",
       "    <tr>\n",
       "      <th>2019-01-03</th>\n",
       "      <td>0.030352</td>\n",
       "    </tr>\n",
       "    <tr>\n",
       "      <th>2019-01-04</th>\n",
       "      <td>0.030153</td>\n",
       "    </tr>\n",
       "    <tr>\n",
       "      <th>2019-01-05</th>\n",
       "      <td>0.029529</td>\n",
       "    </tr>\n",
       "    <tr>\n",
       "      <th>...</th>\n",
       "      <td>...</td>\n",
       "    </tr>\n",
       "    <tr>\n",
       "      <th>2021-01-22</th>\n",
       "      <td>0.032307</td>\n",
       "    </tr>\n",
       "    <tr>\n",
       "      <th>2021-01-23</th>\n",
       "      <td>0.032221</td>\n",
       "    </tr>\n",
       "    <tr>\n",
       "      <th>2021-01-24</th>\n",
       "      <td>0.033141</td>\n",
       "    </tr>\n",
       "    <tr>\n",
       "      <th>2021-01-25</th>\n",
       "      <td>0.033412</td>\n",
       "    </tr>\n",
       "    <tr>\n",
       "      <th>2021-01-26</th>\n",
       "      <td>0.032817</td>\n",
       "    </tr>\n",
       "  </tbody>\n",
       "</table>\n",
       "<p>757 rows × 1 columns</p>\n",
       "</div>"
      ]
     },
     "execution_count": 5,
     "metadata": {},
     "output_type": "execute_result"
    }
   ],
   "execution_count": 5
  },
  {
   "metadata": {
    "ExecuteTime": {
     "end_time": "2024-08-09T10:48:06.525910Z",
     "start_time": "2024-08-09T10:48:06.510415Z"
    }
   },
   "cell_type": "code",
   "source": "curve = ConstantRateCurve(constant_rate=RF_RATE)",
   "id": "3edcf795959a8653",
   "outputs": [],
   "execution_count": 6
  },
  {
   "metadata": {
    "ExecuteTime": {
     "end_time": "2024-08-09T10:48:06.541070Z",
     "start_time": "2024-08-09T10:48:06.527084Z"
    }
   },
   "cell_type": "code",
   "source": [
    "european_call = EuropeanCall(\n",
    "    underlyings=underlyings,\n",
    "    yield_curve=curve,\n",
    "    strike_level=1.0,\n",
    "    start_date=start,\n",
    "    end_date=end,\n",
    ")"
   ],
   "id": "2bf204be1dfb1a84",
   "outputs": [],
   "execution_count": 7
  },
  {
   "metadata": {
    "ExecuteTime": {
     "end_time": "2024-08-09T10:48:06.562200Z",
     "start_time": "2024-08-09T10:48:06.541965Z"
    }
   },
   "cell_type": "code",
   "source": [
    "volatility_simulator=VasicekVolatilitySimulator(\n",
    "    random_seed=RANDOM_SEED,\n",
    ")\n",
    "volatility_simulator.fit(underlyings.data)\n",
    "\n",
    "rates_simulator=VasicekSimulator(\n",
    "    random_seed=RANDOM_SEED,\n",
    ")\n",
    "rates_simulator.fit(rates)\n",
    "\n",
    "bid_ask_simulator=WhiteNoiseBidAskSimulator(\n",
    "    random_seed=RANDOM_SEED,\n",
    ")"
   ],
   "id": "d15140a68215df6a",
   "outputs": [],
   "execution_count": 8
  },
  {
   "metadata": {
    "ExecuteTime": {
     "end_time": "2024-08-09T10:55:14.956678Z",
     "start_time": "2024-08-09T10:55:14.924147Z"
    }
   },
   "cell_type": "code",
   "source": [
    "rates_simulator.simulate(\n",
    "    r0=RF_RATE,\n",
    "    terms=np.arange(1, 100),\n",
    "    n_paths=100\n",
    ")"
   ],
   "id": "52c1701ef13bccff",
   "outputs": [
    {
     "data": {
      "text/plain": [
       "array([[0.03014986, 0.02993396, 0.03001077, ..., 0.0259932 , 0.02553493,\n",
       "        0.02536495],\n",
       "       [0.03006271, 0.02963001, 0.02925155, ..., 0.02409529, 0.02390401,\n",
       "        0.02402042],\n",
       "       [0.02969614, 0.02919067, 0.02935148, ..., 0.02553612, 0.02553022,\n",
       "        0.02533328],\n",
       "       ...,\n",
       "       [0.02974062, 0.0295788 , 0.0297425 , ..., 0.02883962, 0.02829632,\n",
       "        0.02857539],\n",
       "       [0.03029104, 0.03044431, 0.03055268, ..., 0.0292521 , 0.02898863,\n",
       "        0.02929512],\n",
       "       [0.03018085, 0.0298678 , 0.02981926, ..., 0.02415457, 0.02398025,\n",
       "        0.02349161]])"
      ]
     },
     "execution_count": 24,
     "metadata": {},
     "output_type": "execute_result"
    }
   ],
   "execution_count": 24
  },
  {
   "metadata": {
    "ExecuteTime": {
     "end_time": "2024-08-09T10:48:06.577161Z",
     "start_time": "2024-08-09T10:48:06.563067Z"
    }
   },
   "cell_type": "code",
   "source": [
    "corr_matrix = np.identity(2 * N_STOCKS + 2)\n",
    "corr_matrix"
   ],
   "id": "1cc00b5e2a7a316b",
   "outputs": [
    {
     "data": {
      "text/plain": [
       "array([[1., 0., 0., 0.],\n",
       "       [0., 1., 0., 0.],\n",
       "       [0., 0., 1., 0.],\n",
       "       [0., 0., 0., 1.]])"
      ]
     },
     "execution_count": 9,
     "metadata": {},
     "output_type": "execute_result"
    }
   ],
   "execution_count": 9
  },
  {
   "metadata": {
    "ExecuteTime": {
     "end_time": "2024-08-09T10:52:01.463525Z",
     "start_time": "2024-08-09T10:52:01.439337Z"
    }
   },
   "cell_type": "code",
   "source": "volatility_simulator.sigma",
   "id": "3a544c66b7560800",
   "outputs": [
    {
     "data": {
      "text/plain": [
       "0.00559340484254123"
      ]
     },
     "execution_count": 19,
     "metadata": {},
     "output_type": "execute_result"
    }
   ],
   "execution_count": 19
  },
  {
   "metadata": {
    "ExecuteTime": {
     "end_time": "2024-08-09T10:48:06.593563Z",
     "start_time": "2024-08-09T10:48:06.579400Z"
    }
   },
   "cell_type": "code",
   "source": [
    "heston_simulator = CorrelatedHestonSimulator(\n",
    "    volatility_simulator=volatility_simulator,\n",
    "    rates_simulator=rates_simulator,\n",
    "    bid_ask_simulator=bid_ask_simulator,\n",
    "    payoff_function=european_call.payoff,\n",
    "    random_seed=RANDOM_SEED,\n",
    ")"
   ],
   "id": "460120d57cba9d32",
   "outputs": [],
   "execution_count": 10
  },
  {
   "metadata": {
    "ExecuteTime": {
     "end_time": "2024-08-09T10:58:44.036407Z",
     "start_time": "2024-08-09T10:58:28.459872Z"
    }
   },
   "cell_type": "code",
   "source": [
    "%%time\n",
    "bids, asks, rates = heston_simulator.get_paths(\n",
    "    spot=[1.0],\n",
    "    bid_ask_spread=[BID_ASK],\n",
    "    rf_rate=RF_RATE,\n",
    "    vol_start=[VOL],\n",
    "    bid_ask_spread_var_covar_fn=lambda t: np.array([0] * len(t)),\n",
    "    time_till_maturity=TILL_MATURITY,\n",
    "    risk_free_rate_fn=curve.get_instant_fwd_rate,\n",
    "    dividends_fn=lambda t: 0.0,\n",
    "    corr_fn=lambda t: np.array([corr_matrix] * len(t)),\n",
    "    n_paths=N_PATHS,\n",
    ")\n",
    "bids.shape, asks.shape, rates.shape"
   ],
   "id": "83384116e70913a2",
   "outputs": [
    {
     "name": "stdout",
     "output_type": "stream",
     "text": [
      "CPU times: user 15.3 s, sys: 235 ms, total: 15.5 s\n",
      "Wall time: 15.5 s\n"
     ]
    },
    {
     "data": {
      "text/plain": [
       "((10000, 757, 1), (10000, 757, 1), (10000, 756))"
      ]
     },
     "execution_count": 27,
     "metadata": {},
     "output_type": "execute_result"
    }
   ],
   "execution_count": 27
  },
  {
   "metadata": {
    "ExecuteTime": {
     "end_time": "2024-08-09T10:58:51.915528Z",
     "start_time": "2024-08-09T10:58:51.896348Z"
    }
   },
   "cell_type": "code",
   "source": "hedger = HedgeSimulator(european_call, look_ahead=True)",
   "id": "e0750a0792865d23",
   "outputs": [],
   "execution_count": 29
  },
  {
   "metadata": {},
   "cell_type": "markdown",
   "source": "### Only spot.",
   "id": "fa2a0af3cae74618"
  },
  {
   "metadata": {
    "ExecuteTime": {
     "end_time": "2024-08-09T10:58:53.658626Z",
     "start_time": "2024-08-09T10:58:52.747073Z"
    }
   },
   "cell_type": "code",
   "source": [
    "simulated_price = hedger.price(\n",
    "    bids=bids.squeeze(2),\n",
    "    asks=asks.squeeze(2),\n",
    "    rates_lend=curve(european_call.days_till_maturity) / TRADING_DAYS,\n",
    "    rates_borrow=curve(european_call.days_till_maturity) / TRADING_DAYS,\n",
    ")\n",
    "simulated_price, european_call.price().item()"
   ],
   "id": "d08e201e9650bc44",
   "outputs": [
    {
     "data": {
      "text/plain": [
       "(0.4461915030237631, 0.14427105390300576)"
      ]
     },
     "execution_count": 30,
     "metadata": {},
     "output_type": "execute_result"
    }
   ],
   "execution_count": 30
  },
  {
   "metadata": {},
   "cell_type": "markdown",
   "source": "### Spot and rates.",
   "id": "2dd45f38cd8bb63b"
  },
  {
   "metadata": {
    "ExecuteTime": {
     "end_time": "2024-08-09T10:58:54.761879Z",
     "start_time": "2024-08-09T10:58:53.814618Z"
    }
   },
   "cell_type": "code",
   "source": [
    "simulated_price = hedger.price(\n",
    "    bids=bids.squeeze(2),\n",
    "    asks=asks.squeeze(2),\n",
    "    rates_lend=rates,\n",
    "    rates_borrow=rates,\n",
    ")\n",
    "simulated_price, european_call.price().item()"
   ],
   "id": "8846b04600bc504d",
   "outputs": [
    {
     "data": {
      "text/plain": [
       "(13.956583967023558, 0.14427105390300576)"
      ]
     },
     "execution_count": 31,
     "metadata": {},
     "output_type": "execute_result"
    }
   ],
   "execution_count": 31
  },
  {
   "metadata": {},
   "cell_type": "markdown",
   "source": [
    "### To model:\n",
    "* interest rate by HWM\n",
    "* bid-offer spread, correlated with vol of \n",
    "* (Adv.) interest rate, correlated to Sber\n",
    "* HestonSimulator\n",
    "* Fit Heston into market via volatility simile using pytorch optimization\n",
    "* hedging frequency\n",
    "* LSTMHedger\n",
    "* bid-offer spread estimate = short option premium from implied vol of option under consideration."
   ],
   "id": "7c551e23135a9033"
  }
 ],
 "metadata": {
  "kernelspec": {
   "display_name": "Python 3",
   "language": "python",
   "name": "python3"
  },
  "language_info": {
   "codemirror_mode": {
    "name": "ipython",
    "version": 2
   },
   "file_extension": ".py",
   "mimetype": "text/x-python",
   "name": "python",
   "nbconvert_exporter": "python",
   "pygments_lexer": "ipython2",
   "version": "2.7.6"
  }
 },
 "nbformat": 4,
 "nbformat_minor": 5
}
