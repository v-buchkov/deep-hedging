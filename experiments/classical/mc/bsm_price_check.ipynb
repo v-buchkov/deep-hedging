{
 "cells": [
  {
   "metadata": {
    "ExecuteTime": {
     "end_time": "2024-07-03T09:32:01.238729Z",
     "start_time": "2024-07-03T09:32:01.224926Z"
    }
   },
   "cell_type": "code",
   "source": [
    "%load_ext autoreload\n",
    "%autoreload 2"
   ],
   "id": "e546b46bae2170df",
   "outputs": [],
   "execution_count": 1
  },
  {
   "cell_type": "code",
   "id": "initial_id",
   "metadata": {
    "collapsed": true,
    "ExecuteTime": {
     "end_time": "2024-07-03T09:32:02.817392Z",
     "start_time": "2024-07-03T09:32:01.239985Z"
    }
   },
   "source": [
    "import datetime as dt\n",
    "\n",
    "import numpy as np\n",
    "\n",
    "from deep_hedging import (\n",
    "    Underlyings,\n",
    "    Ticker,\n",
    "    ConstantRateCurve,\n",
    "    EuropeanCall,\n",
    "    EuropeanPut,\n",
    ")\n",
    "from deep_hedging.monte_carlo import GBMPricer\n",
    "\n",
    "RANDOM_SEED = 12"
   ],
   "outputs": [],
   "execution_count": 2
  },
  {
   "metadata": {
    "ExecuteTime": {
     "end_time": "2024-07-03T09:32:02.831725Z",
     "start_time": "2024-07-03T09:32:02.818068Z"
    }
   },
   "cell_type": "code",
   "source": [
    "N_PATHS = 100_000\n",
    "N_STOCKS = 1\n",
    "TILL_MATURITY = 3.0\n",
    "N_DAYS = 365 * TILL_MATURITY\n",
    "RF_RATE = 0.03\n",
    "VOL = 0.2"
   ],
   "id": "c8fa6851e24330e",
   "outputs": [],
   "execution_count": 3
  },
  {
   "metadata": {
    "ExecuteTime": {
     "end_time": "2024-07-03T09:32:02.846572Z",
     "start_time": "2024-07-03T09:32:02.832380Z"
    }
   },
   "cell_type": "code",
   "source": "N_DAYS",
   "id": "3da7cf713d42420b",
   "outputs": [
    {
     "data": {
      "text/plain": [
       "1095.0"
      ]
     },
     "execution_count": 4,
     "metadata": {},
     "output_type": "execute_result"
    }
   ],
   "execution_count": 4
  },
  {
   "metadata": {
    "ExecuteTime": {
     "end_time": "2024-07-03T09:32:02.861976Z",
     "start_time": "2024-07-03T09:32:02.848108Z"
    }
   },
   "cell_type": "code",
   "source": [
    "np.random.seed(RANDOM_SEED)\n",
    "\n",
    "start = dt.datetime(2019, 1, 1)\n",
    "end = start + dt.timedelta(days=N_DAYS)\n",
    "\n",
    "underlyings = Underlyings(\n",
    "    tickers=[Ticker(f\"Stock {i + 1}\", f\"{i + 1}\") for i in range(N_STOCKS)],\n",
    "    start=start,\n",
    "    end=end,\n",
    "    dividends=np.array([0.0] * N_STOCKS),\n",
    "    means=np.array([RF_RATE] * N_STOCKS),\n",
    "    var_covar=np.array([VOL**2] * N_STOCKS),\n",
    ")\n",
    "underlyings.data"
   ],
   "id": "b9a8df03adcd4db7",
   "outputs": [],
   "execution_count": 5
  },
  {
   "metadata": {
    "ExecuteTime": {
     "end_time": "2024-07-03T09:32:02.875487Z",
     "start_time": "2024-07-03T09:32:02.862703Z"
    }
   },
   "cell_type": "code",
   "source": "np.sqrt(np.diag(underlyings.get_var_covar()))",
   "id": "b571cc548b81b9a8",
   "outputs": [
    {
     "data": {
      "text/plain": [
       "array([[0.2]])"
      ]
     },
     "execution_count": 6,
     "metadata": {},
     "output_type": "execute_result"
    }
   ],
   "execution_count": 6
  },
  {
   "metadata": {
    "ExecuteTime": {
     "end_time": "2024-07-03T09:32:02.890884Z",
     "start_time": "2024-07-03T09:32:02.876123Z"
    }
   },
   "cell_type": "code",
   "source": "curve = ConstantRateCurve(rate=RF_RATE)",
   "id": "3edcf795959a8653",
   "outputs": [],
   "execution_count": 7
  },
  {
   "metadata": {
    "ExecuteTime": {
     "end_time": "2024-07-03T09:32:02.904505Z",
     "start_time": "2024-07-03T09:32:02.891652Z"
    }
   },
   "cell_type": "code",
   "source": [
    "european_call = EuropeanCall(\n",
    "    underlyings=underlyings,\n",
    "    yield_curve=curve,\n",
    "    strike_level=1.0,\n",
    "    start_date=start,\n",
    "    end_date=end,\n",
    ")"
   ],
   "id": "2bf204be1dfb1a84",
   "outputs": [],
   "execution_count": 8
  },
  {
   "metadata": {
    "ExecuteTime": {
     "end_time": "2024-07-03T09:32:02.918255Z",
     "start_time": "2024-07-03T09:32:02.905491Z"
    }
   },
   "cell_type": "code",
   "source": [
    "pricer = GBMPricer(payoff_function=european_call.payoff, random_seed=RANDOM_SEED)"
   ],
   "id": "8a341c4b3033fdb8",
   "outputs": [],
   "execution_count": 9
  },
  {
   "metadata": {
    "ExecuteTime": {
     "end_time": "2024-07-03T09:32:06.508527Z",
     "start_time": "2024-07-03T09:32:02.918888Z"
    }
   },
   "cell_type": "code",
   "source": [
    "paths = pricer.get_paths(\n",
    "    current_spot=[1.0],\n",
    "    time_till_maturity=TILL_MATURITY,\n",
    "    risk_free_rate_fn=curve.get_rate,\n",
    "    dividends_fn=lambda t: 0.0,\n",
    "    var_covar_fn=lambda t: np.array([VOL**2]),\n",
    "    n_paths=N_PATHS,\n",
    ")\n",
    "paths.shape"
   ],
   "id": "ddd6349244ed6020",
   "outputs": [
    {
     "data": {
      "text/plain": [
       "(100000, 757, 1)"
      ]
     },
     "execution_count": 10,
     "metadata": {},
     "output_type": "execute_result"
    }
   ],
   "execution_count": 10
  },
  {
   "metadata": {
    "ExecuteTime": {
     "end_time": "2024-07-03T09:32:09.820138Z",
     "start_time": "2024-07-03T09:32:06.510048Z"
    }
   },
   "cell_type": "code",
   "source": [
    "pricer.price(\n",
    "    current_spot=[1.0],\n",
    "    time_till_maturity=TILL_MATURITY,\n",
    "    risk_free_rate_fn=curve.get_rate,\n",
    "    dividends_fn=lambda t: 0.0,\n",
    "    var_covar_fn=lambda t: np.array([VOL**2]),\n",
    "    n_paths=N_PATHS,\n",
    ")"
   ],
   "id": "5e863039694672b8",
   "outputs": [
    {
     "data": {
      "text/plain": [
       "0.17888212769640016"
      ]
     },
     "execution_count": 11,
     "metadata": {},
     "output_type": "execute_result"
    }
   ],
   "execution_count": 11
  },
  {
   "metadata": {
    "ExecuteTime": {
     "end_time": "2024-07-03T09:32:09.846175Z",
     "start_time": "2024-07-03T09:32:09.821447Z"
    }
   },
   "cell_type": "code",
   "source": "european_call.price()",
   "id": "48aa911b89c53538",
   "outputs": [
    {
     "data": {
      "text/plain": [
       "array([[0.17899527]])"
      ]
     },
     "execution_count": 12,
     "metadata": {},
     "output_type": "execute_result"
    }
   ],
   "execution_count": 12
  },
  {
   "metadata": {
    "ExecuteTime": {
     "end_time": "2024-07-03T09:32:09.963681Z",
     "start_time": "2024-07-03T09:32:09.846959Z"
    }
   },
   "cell_type": "code",
   "source": [
    "final_points = np.log(paths[:, -1, :].squeeze(1))\n",
    "final_points.mean() / 3, final_points.std() / np.sqrt(3)"
   ],
   "id": "c2397dc1efc25194",
   "outputs": [
    {
     "data": {
      "text/plain": [
       "(0.010110012826833657, 0.19966178768086412)"
      ]
     },
     "execution_count": 13,
     "metadata": {},
     "output_type": "execute_result"
    }
   ],
   "execution_count": 13
  }
 ],
 "metadata": {
  "kernelspec": {
   "display_name": "Python 3",
   "language": "python",
   "name": "python3"
  },
  "language_info": {
   "codemirror_mode": {
    "name": "ipython",
    "version": 2
   },
   "file_extension": ".py",
   "mimetype": "text/x-python",
   "name": "python",
   "nbconvert_exporter": "python",
   "pygments_lexer": "ipython2",
   "version": "2.7.6"
  }
 },
 "nbformat": 4,
 "nbformat_minor": 5
}
