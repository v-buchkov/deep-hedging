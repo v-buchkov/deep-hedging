{
 "cells": [
  {
   "metadata": {
    "ExecuteTime": {
     "end_time": "2024-07-24T15:26:58.947658Z",
     "start_time": "2024-07-24T15:26:58.934036Z"
    }
   },
   "cell_type": "code",
   "source": [
    "%load_ext autoreload\n",
    "%autoreload 2"
   ],
   "id": "e546b46bae2170df",
   "outputs": [],
   "execution_count": 1
  },
  {
   "cell_type": "code",
   "id": "initial_id",
   "metadata": {
    "collapsed": true,
    "ExecuteTime": {
     "end_time": "2024-07-24T15:27:00.835360Z",
     "start_time": "2024-07-24T15:26:58.950859Z"
    }
   },
   "source": [
    "import datetime as dt\n",
    "\n",
    "import numpy as np\n",
    "\n",
    "from deep_hedging import (\n",
    "    Underlyings,\n",
    "    Ticker,\n",
    "    ConstantRateCurve,\n",
    "    EuropeanPut,\n",
    ")\n",
    "from deep_hedging.monte_carlo import GBMSimulator\n",
    "\n",
    "RANDOM_SEED = 12"
   ],
   "outputs": [],
   "execution_count": 2
  },
  {
   "metadata": {
    "ExecuteTime": {
     "end_time": "2024-07-24T15:27:00.850764Z",
     "start_time": "2024-07-24T15:27:00.836228Z"
    }
   },
   "cell_type": "code",
   "source": [
    "N_PATHS = 100_000\n",
    "N_STOCKS = 1\n",
    "TILL_MATURITY = 3.0\n",
    "N_DAYS = 365 * TILL_MATURITY\n",
    "RF_RATE = 0.03\n",
    "VOL = 0.2"
   ],
   "id": "c8fa6851e24330e",
   "outputs": [],
   "execution_count": 3
  },
  {
   "metadata": {
    "ExecuteTime": {
     "end_time": "2024-07-24T15:27:00.867952Z",
     "start_time": "2024-07-24T15:27:00.851575Z"
    }
   },
   "cell_type": "code",
   "source": "N_DAYS",
   "id": "3da7cf713d42420b",
   "outputs": [
    {
     "data": {
      "text/plain": [
       "1095.0"
      ]
     },
     "execution_count": 4,
     "metadata": {},
     "output_type": "execute_result"
    }
   ],
   "execution_count": 4
  },
  {
   "metadata": {
    "ExecuteTime": {
     "end_time": "2024-07-24T15:27:00.884429Z",
     "start_time": "2024-07-24T15:27:00.870293Z"
    }
   },
   "cell_type": "code",
   "source": [
    "np.random.seed(RANDOM_SEED)\n",
    "\n",
    "start = dt.datetime(2019, 1, 1)\n",
    "end = start + dt.timedelta(days=N_DAYS)\n",
    "\n",
    "underlyings = Underlyings(\n",
    "    tickers=[Ticker(f\"Stock {i + 1}\", f\"{i + 1}\") for i in range(N_STOCKS)],\n",
    "    start=start,\n",
    "    end=end,\n",
    "    dividends=np.array([0.0] * N_STOCKS),\n",
    "    means=np.array([RF_RATE] * N_STOCKS),\n",
    "    var_covar=np.array([VOL**2] * N_STOCKS),\n",
    ")\n",
    "underlyings.data"
   ],
   "id": "b9a8df03adcd4db7",
   "outputs": [],
   "execution_count": 5
  },
  {
   "metadata": {
    "ExecuteTime": {
     "end_time": "2024-07-24T15:27:00.898373Z",
     "start_time": "2024-07-24T15:27:00.885032Z"
    }
   },
   "cell_type": "code",
   "source": "np.sqrt(np.diag(underlyings.get_var_covar()))",
   "id": "b571cc548b81b9a8",
   "outputs": [
    {
     "data": {
      "text/plain": [
       "array([[0.2]])"
      ]
     },
     "execution_count": 6,
     "metadata": {},
     "output_type": "execute_result"
    }
   ],
   "execution_count": 6
  },
  {
   "metadata": {
    "ExecuteTime": {
     "end_time": "2024-07-24T15:27:00.913798Z",
     "start_time": "2024-07-24T15:27:00.899148Z"
    }
   },
   "cell_type": "code",
   "source": "curve = ConstantRateCurve(constant_rate=RF_RATE)",
   "id": "3edcf795959a8653",
   "outputs": [],
   "execution_count": 7
  },
  {
   "metadata": {
    "ExecuteTime": {
     "end_time": "2024-07-24T15:27:00.927709Z",
     "start_time": "2024-07-24T15:27:00.915053Z"
    }
   },
   "cell_type": "code",
   "source": [
    "european_put = EuropeanPut(\n",
    "    underlyings=underlyings,\n",
    "    yield_curve=curve,\n",
    "    strike_level=1.0,\n",
    "    start_date=start,\n",
    "    end_date=end,\n",
    ")"
   ],
   "id": "2bf204be1dfb1a84",
   "outputs": [],
   "execution_count": 8
  },
  {
   "metadata": {
    "ExecuteTime": {
     "end_time": "2024-07-24T15:27:00.941030Z",
     "start_time": "2024-07-24T15:27:00.928433Z"
    }
   },
   "cell_type": "code",
   "source": "pricer = GBMSimulator(payoff_function=european_put.payoff, random_seed=RANDOM_SEED)",
   "id": "8a341c4b3033fdb8",
   "outputs": [],
   "execution_count": 9
  },
  {
   "metadata": {
    "ExecuteTime": {
     "end_time": "2024-07-24T15:27:06.395306Z",
     "start_time": "2024-07-24T15:27:00.941744Z"
    }
   },
   "cell_type": "code",
   "source": [
    "european_put.yield_curve.to_present_value(\n",
    "    pricer.future_value(\n",
    "        spot=[1.0],\n",
    "        time_till_maturity=TILL_MATURITY,\n",
    "        risk_free_rate_fn=curve.rate,\n",
    "        dividends_fn=lambda t: 0.0,\n",
    "        var_covar_fn=lambda t: np.array([VOL**2] * len(t)),\n",
    "        n_paths=N_PATHS,\n",
    "    ),\n",
    "    european_put.days_till_maturity,\n",
    ")"
   ],
   "id": "5e863039694672b8",
   "outputs": [
    {
     "data": {
      "text/plain": [
       "0.09270957436609363"
      ]
     },
     "execution_count": 10,
     "metadata": {},
     "output_type": "execute_result"
    }
   ],
   "execution_count": 10
  },
  {
   "metadata": {
    "ExecuteTime": {
     "end_time": "2024-07-24T15:27:06.446035Z",
     "start_time": "2024-07-24T15:27:06.399251Z"
    }
   },
   "cell_type": "code",
   "source": "european_put.price()",
   "id": "48aa911b89c53538",
   "outputs": [
    {
     "data": {
      "text/plain": [
       "array([[0.09292646]])"
      ]
     },
     "execution_count": 11,
     "metadata": {},
     "output_type": "execute_result"
    }
   ],
   "execution_count": 11
  }
 ],
 "metadata": {
  "kernelspec": {
   "display_name": "Python 3",
   "language": "python",
   "name": "python3"
  },
  "language_info": {
   "codemirror_mode": {
    "name": "ipython",
    "version": 2
   },
   "file_extension": ".py",
   "mimetype": "text/x-python",
   "name": "python",
   "nbconvert_exporter": "python",
   "pygments_lexer": "ipython2",
   "version": "2.7.6"
  }
 },
 "nbformat": 4,
 "nbformat_minor": 5
}
