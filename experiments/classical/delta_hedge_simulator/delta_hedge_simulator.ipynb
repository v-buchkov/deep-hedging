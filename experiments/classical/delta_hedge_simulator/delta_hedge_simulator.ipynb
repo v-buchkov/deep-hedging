{
 "cells": [
  {
   "metadata": {
    "ExecuteTime": {
     "end_time": "2024-10-15T21:26:29.569632Z",
     "start_time": "2024-10-15T21:26:29.417Z"
    }
   },
   "cell_type": "code",
   "source": [
    "%load_ext autoreload\n",
    "%autoreload 2"
   ],
   "id": "e546b46bae2170df",
   "outputs": [
    {
     "name": "stdout",
     "output_type": "stream",
     "text": [
      "The autoreload extension is already loaded. To reload it, use:\n",
      "  %reload_ext autoreload\n"
     ]
    }
   ],
   "execution_count": 65
  },
  {
   "cell_type": "code",
   "id": "initial_id",
   "metadata": {
    "collapsed": true,
    "ExecuteTime": {
     "end_time": "2024-10-15T21:26:29.590822Z",
     "start_time": "2024-10-15T21:26:29.576228Z"
    }
   },
   "source": [
    "import datetime as dt\n",
    "\n",
    "import numpy as np\n",
    "import matplotlib.pyplot as plt\n",
    "\n",
    "from deep_hedging import (\n",
    "    Underlyings,\n",
    "    Ticker,\n",
    "    ConstantRateCurve,\n",
    "    EuropeanCall,\n",
    ")\n",
    "from deep_hedging.hedger import Hedger\n",
    "from deep_hedging.monte_carlo import GBMSimulator\n",
    "\n",
    "RANDOM_SEED = 12"
   ],
   "outputs": [],
   "execution_count": 66
  },
  {
   "metadata": {
    "ExecuteTime": {
     "end_time": "2024-10-15T21:26:29.617107Z",
     "start_time": "2024-10-15T21:26:29.604302Z"
    }
   },
   "cell_type": "code",
   "source": [
    "N_PATHS = 100_000\n",
    "N_STOCKS = 1\n",
    "TILL_MATURITY = 3.0\n",
    "N_DAYS = 365 * TILL_MATURITY\n",
    "RF_RATE = 0.03\n",
    "STRIKE_LEVEL = 1.0\n",
    "VOL = 0.2"
   ],
   "id": "c8fa6851e24330e",
   "outputs": [],
   "execution_count": 67
  },
  {
   "metadata": {
    "ExecuteTime": {
     "end_time": "2024-10-15T21:26:29.642451Z",
     "start_time": "2024-10-15T21:26:29.629190Z"
    }
   },
   "cell_type": "code",
   "source": [
    "np.random.seed(RANDOM_SEED)\n",
    "\n",
    "start = dt.datetime(2019, 1, 1)\n",
    "end = start + dt.timedelta(days=N_DAYS)\n",
    "\n",
    "underlyings = Underlyings(\n",
    "    tickers=[Ticker(f\"Stock {i + 1}\", f\"{i + 1}\") for i in range(N_STOCKS)],\n",
    "    start=start,\n",
    "    end=end,\n",
    "    dividends=np.array([0.0] * N_STOCKS),\n",
    "    means=np.array([RF_RATE] * N_STOCKS),\n",
    "    var_covar=np.array([VOL**2] * N_STOCKS),\n",
    ")\n",
    "underlyings.data"
   ],
   "id": "b9a8df03adcd4db7",
   "outputs": [],
   "execution_count": 68
  },
  {
   "metadata": {
    "ExecuteTime": {
     "end_time": "2024-10-15T21:26:29.667631Z",
     "start_time": "2024-10-15T21:26:29.653909Z"
    }
   },
   "cell_type": "code",
   "source": "curve = ConstantRateCurve(constant_rate=RF_RATE)",
   "id": "3edcf795959a8653",
   "outputs": [],
   "execution_count": 69
  },
  {
   "metadata": {
    "ExecuteTime": {
     "end_time": "2024-10-15T21:26:29.692446Z",
     "start_time": "2024-10-15T21:26:29.679746Z"
    }
   },
   "cell_type": "code",
   "source": [
    "european_call = EuropeanCall(\n",
    "    underlyings=underlyings,\n",
    "    yield_curve=curve,\n",
    "    strike_level=STRIKE_LEVEL,\n",
    "    start_date=start,\n",
    "    end_date=end,\n",
    ")"
   ],
   "id": "2bf204be1dfb1a84",
   "outputs": [],
   "execution_count": 70
  },
  {
   "metadata": {
    "ExecuteTime": {
     "end_time": "2024-10-15T21:26:29.717248Z",
     "start_time": "2024-10-15T21:26:29.704154Z"
    }
   },
   "cell_type": "code",
   "source": "pricer = GBMSimulator(payoff_function=european_call.payoff, random_seed=RANDOM_SEED)",
   "id": "460120d57cba9d32",
   "outputs": [],
   "execution_count": 71
  },
  {
   "metadata": {
    "ExecuteTime": {
     "end_time": "2024-10-15T21:26:34.960825Z",
     "start_time": "2024-10-15T21:26:29.731338Z"
    }
   },
   "cell_type": "code",
   "source": [
    "paths = pricer.get_paths(\n",
    "    spot=[1.0],\n",
    "    time_till_maturity=TILL_MATURITY,\n",
    "    risk_free_rate_fn=curve.get_instant_fwd_rate,\n",
    "    dividends_fn=lambda t: 0.0,\n",
    "    var_covar_fn=lambda t: np.array([VOL**2] * len(t)),\n",
    "    n_paths=N_PATHS,\n",
    ").squeeze(2)\n",
    "paths.shape"
   ],
   "id": "83384116e70913a2",
   "outputs": [
    {
     "data": {
      "text/plain": [
       "(100000, 1096)"
      ]
     },
     "execution_count": 72,
     "metadata": {},
     "output_type": "execute_result"
    }
   ],
   "execution_count": 72
  },
  {
   "metadata": {
    "ExecuteTime": {
     "end_time": "2024-10-15T21:26:35.067377Z",
     "start_time": "2024-10-15T21:26:35.049172Z"
    }
   },
   "cell_type": "code",
   "source": "hedger = Hedger(european_call, look_ahead=True)",
   "id": "e0750a0792865d23",
   "outputs": [],
   "execution_count": 73
  },
  {
   "metadata": {
    "ExecuteTime": {
     "end_time": "2024-10-15T21:27:15.871633Z",
     "start_time": "2024-10-15T21:26:35.099969Z"
    }
   },
   "cell_type": "code",
   "source": [
    "pnl_hedge, pnl_opt = hedger.simulate(\n",
    "    bids=paths,\n",
    "    asks=paths,\n",
    "    rates_lend=curve(european_call.days_till_maturity) / 365,\n",
    "    rates_borrow=curve(european_call.days_till_maturity) / 365,\n",
    ")\n",
    "pnl_hedge.mean(), pnl_opt.mean()"
   ],
   "id": "d08e201e9650bc44",
   "outputs": [
    {
     "data": {
      "text/plain": [
       "(0.0006588837571068032, 0.1965868403689276)"
      ]
     },
     "execution_count": 74,
     "metadata": {},
     "output_type": "execute_result"
    }
   ],
   "execution_count": 74
  },
  {
   "metadata": {
    "ExecuteTime": {
     "end_time": "2024-10-15T21:27:16.350931Z",
     "start_time": "2024-10-15T21:27:16.325328Z"
    }
   },
   "cell_type": "code",
   "source": "pnl_hedge",
   "id": "555dc86e6583a2fb",
   "outputs": [
    {
     "data": {
      "text/plain": [
       "array([-0.20223407, -0.19259001, -0.19520991, ..., -0.19502457,\n",
       "       -0.19691325, -0.19238222])"
      ]
     },
     "execution_count": 75,
     "metadata": {},
     "output_type": "execute_result"
    }
   ],
   "execution_count": 75
  },
  {
   "metadata": {
    "ExecuteTime": {
     "end_time": "2024-10-15T21:27:16.477858Z",
     "start_time": "2024-10-15T21:27:16.462250Z"
    }
   },
   "cell_type": "code",
   "source": "RF_RATE * european_call.time_till_maturity",
   "id": "fbb3dd80a53155cd",
   "outputs": [
    {
     "data": {
      "text/plain": [
       "0.09"
      ]
     },
     "execution_count": 76,
     "metadata": {},
     "output_type": "execute_result"
    }
   ],
   "execution_count": 76
  },
  {
   "metadata": {
    "ExecuteTime": {
     "end_time": "2024-10-15T21:27:16.616271Z",
     "start_time": "2024-10-15T21:27:16.599424Z"
    }
   },
   "cell_type": "code",
   "source": "(pnl_opt - pnl_hedge).mean() * np.exp(-RF_RATE * european_call.time_till_maturity)",
   "id": "68d951bdc7393a9f",
   "outputs": [
    {
     "data": {
      "text/plain": [
       "0.17906466961401105"
      ]
     },
     "execution_count": 77,
     "metadata": {},
     "output_type": "execute_result"
    }
   ],
   "execution_count": 77
  },
  {
   "metadata": {
    "ExecuteTime": {
     "end_time": "2024-10-15T21:27:16.665379Z",
     "start_time": "2024-10-15T21:27:16.651124Z"
    }
   },
   "cell_type": "code",
   "source": [
    "# pnl_hedge_fix, _, _ = hedger.simulate(\n",
    "#     bids=paths,\n",
    "#     asks=paths,\n",
    "#     rates_lend=curve(european_call.days_till_maturity) / 365,\n",
    "#     rates_borrow=curve(european_call.days_till_maturity) / 365,\n",
    "#     weights=np.ones(paths.shape) * european_call.delta()\n",
    "# )"
   ],
   "id": "9eaa69925981483f",
   "outputs": [],
   "execution_count": 78
  },
  {
   "metadata": {
    "ExecuteTime": {
     "end_time": "2024-10-15T21:27:16.854304Z",
     "start_time": "2024-10-15T21:27:16.679628Z"
    }
   },
   "cell_type": "code",
   "source": "(np.ones(paths.shape) * european_call.delta()).shape",
   "id": "9a898c25405bf4bc",
   "outputs": [
    {
     "data": {
      "text/plain": [
       "(100000, 1096)"
      ]
     },
     "execution_count": 79,
     "metadata": {},
     "output_type": "execute_result"
    }
   ],
   "execution_count": 79
  },
  {
   "metadata": {
    "ExecuteTime": {
     "end_time": "2024-10-15T21:27:16.886781Z",
     "start_time": "2024-10-15T21:27:16.873140Z"
    }
   },
   "cell_type": "code",
   "source": "paths.shape",
   "id": "39ce6913f8b68ac0",
   "outputs": [
    {
     "data": {
      "text/plain": [
       "(100000, 1096)"
      ]
     },
     "execution_count": 80,
     "metadata": {},
     "output_type": "execute_result"
    }
   ],
   "execution_count": 80
  },
  {
   "metadata": {
    "ExecuteTime": {
     "end_time": "2024-10-15T21:27:16.928072Z",
     "start_time": "2024-10-15T21:27:16.911236Z"
    }
   },
   "cell_type": "code",
   "source": "pnl_opt.std(), pnl_hedge.std(), (pnl_hedge - pnl_opt).std()",
   "id": "f06b84ca7706b307",
   "outputs": [
    {
     "data": {
      "text/plain": [
       "(0.30425939257400153, 0.3038218443478632, 0.003726766927992435)"
      ]
     },
     "execution_count": 81,
     "metadata": {},
     "output_type": "execute_result"
    }
   ],
   "execution_count": 81
  },
  {
   "metadata": {
    "ExecuteTime": {
     "end_time": "2024-10-15T21:27:16.974694Z",
     "start_time": "2024-10-15T21:27:16.959305Z"
    }
   },
   "cell_type": "code",
   "source": "european_call.price()",
   "id": "ccef69abe35fc3f",
   "outputs": [
    {
     "data": {
      "text/plain": [
       "array([[0.17899527]])"
      ]
     },
     "execution_count": 82,
     "metadata": {},
     "output_type": "execute_result"
    }
   ],
   "execution_count": 82
  },
  {
   "metadata": {
    "ExecuteTime": {
     "end_time": "2024-10-15T21:27:16.999769Z",
     "start_time": "2024-10-15T21:27:16.985185Z"
    }
   },
   "cell_type": "code",
   "source": "pnl_opt.mean() * np.exp(-RF_RATE * european_call.time_till_maturity)",
   "id": "208132f91dbbda39",
   "outputs": [
    {
     "data": {
      "text/plain": [
       "0.17966684402709973"
      ]
     },
     "execution_count": 83,
     "metadata": {},
     "output_type": "execute_result"
    }
   ],
   "execution_count": 83
  },
  {
   "metadata": {
    "ExecuteTime": {
     "end_time": "2024-10-15T21:27:17.064805Z",
     "start_time": "2024-10-15T21:27:17.049088Z"
    }
   },
   "cell_type": "code",
   "source": "np.corrcoef(pnl_hedge, pnl_opt)",
   "id": "728d7a47dd43e931",
   "outputs": [
    {
     "data": {
      "text/plain": [
       "array([[1.        , 0.99992591],\n",
       "       [0.99992591, 1.        ]])"
      ]
     },
     "execution_count": 84,
     "metadata": {},
     "output_type": "execute_result"
    }
   ],
   "execution_count": 84
  },
  {
   "metadata": {
    "ExecuteTime": {
     "end_time": "2024-10-15T21:27:17.155197Z",
     "start_time": "2024-10-15T21:27:17.138431Z"
    }
   },
   "cell_type": "code",
   "source": [
    "(\n",
    "    pnl_opt - european_call.price() * np.exp(RF_RATE * european_call.time_till_maturity)\n",
    ").mean()"
   ],
   "id": "a787b228340e80ad",
   "outputs": [
    {
     "data": {
      "text/plain": [
       "0.0007348147286749193"
      ]
     },
     "execution_count": 85,
     "metadata": {},
     "output_type": "execute_result"
    }
   ],
   "execution_count": 85
  },
  {
   "metadata": {
    "ExecuteTime": {
     "end_time": "2024-10-15T21:27:17.327099Z",
     "start_time": "2024-10-15T21:27:17.311082Z"
    }
   },
   "cell_type": "code",
   "source": [
    "(\n",
    "    pnl_opt - european_call.price() * np.exp(RF_RATE * european_call.time_till_maturity)\n",
    ").std()"
   ],
   "id": "4cbbfcc02bfb596c",
   "outputs": [
    {
     "data": {
      "text/plain": [
       "0.30425939257400153"
      ]
     },
     "execution_count": 86,
     "metadata": {},
     "output_type": "execute_result"
    }
   ],
   "execution_count": 86
  },
  {
   "metadata": {
    "ExecuteTime": {
     "end_time": "2024-10-15T21:27:17.412569Z",
     "start_time": "2024-10-15T21:27:17.395718Z"
    }
   },
   "cell_type": "code",
   "source": [
    "(\n",
    "    pnl_opt\n",
    "    - pnl_hedge\n",
    "    - european_call.price() * np.exp(RF_RATE * european_call.time_till_maturity)\n",
    ").std()"
   ],
   "id": "60e91232ff3cd9ba",
   "outputs": [
    {
     "data": {
      "text/plain": [
       "0.0037267669279924353"
      ]
     },
     "execution_count": 87,
     "metadata": {},
     "output_type": "execute_result"
    }
   ],
   "execution_count": 87
  },
  {
   "metadata": {
    "ExecuteTime": {
     "end_time": "2024-10-15T21:27:19.531790Z",
     "start_time": "2024-10-15T21:27:17.436468Z"
    }
   },
   "cell_type": "code",
   "source": [
    "plt.plot(np.sort(paths[:, -1]), pnl_opt[np.argsort(paths[:, -1])])\n",
    "plt.plot(np.sort(paths[:, -1]), pnl_hedge[np.argsort(paths[:, -1])])\n",
    "plt.show()"
   ],
   "id": "1b1ee23234412b30",
   "outputs": [
    {
     "data": {
      "text/plain": [
       "<Figure size 640x480 with 1 Axes>"
      ],
      "image/png": "[encoded data removed]"
     },
     "metadata": {},
     "output_type": "display_data"
    }
   ],
   "execution_count": 88
  },
  {
   "metadata": {
    "ExecuteTime": {
     "end_time": "2024-10-15T21:27:19.557852Z",
     "start_time": "2024-10-15T21:27:19.540006Z"
    }
   },
   "cell_type": "code",
   "source": "(pnl_hedge - RF_RATE * european_call.time_till_maturity).mean()",
   "id": "28e0545c9f7b82ac",
   "outputs": [
    {
     "data": {
      "text/plain": [
       "-0.08934111624289319"
      ]
     },
     "execution_count": 89,
     "metadata": {},
     "output_type": "execute_result"
    }
   ],
   "execution_count": 89
  },
  {
   "metadata": {
    "ExecuteTime": {
     "end_time": "2024-10-15T21:27:19.676981Z",
     "start_time": "2024-10-15T21:27:19.563038Z"
    }
   },
   "cell_type": "code",
   "source": [
    "value_opt = european_call.price(spot=paths[:, -1])\n",
    "\n",
    "plt.plot(np.sort(paths[:, -1]), value_opt[np.argsort(paths[:, -1])])\n",
    "plt.plot(np.sort(paths[:, -1]), pnl_opt[np.argsort(paths[:, -1])])\n",
    "plt.xlim([0, 3])\n",
    "plt.show()"
   ],
   "id": "55fcd19b531b02c6",
   "outputs": [
    {
     "data": {
      "text/plain": [
       "<Figure size 640x480 with 1 Axes>"
      ],
      "image/png": "[encoded data removed]"
     },
     "metadata": {},
     "output_type": "display_data"
    }
   ],
   "execution_count": 90
  },
  {
   "metadata": {
    "ExecuteTime": {
     "end_time": "2024-10-15T21:27:19.787444Z",
     "start_time": "2024-10-15T21:27:19.683433Z"
    }
   },
   "cell_type": "code",
   "source": [
    "plt.plot(np.sort(paths[:, -1]), value_opt[np.argsort(paths[:, -1])])\n",
    "plt.plot(np.sort(paths[:, -1]), pnl_hedge[np.argsort(paths[:, -1])])\n",
    "plt.show()"
   ],
   "id": "d34cb3ac52aa8297",
   "outputs": [
    {
     "data": {
      "text/plain": [
       "<Figure size 640x480 with 1 Axes>"
      ],
      "image/png": "[encoded data removed]"
     },
     "metadata": {},
     "output_type": "display_data"
    }
   ],
   "execution_count": 91
  },
  {
   "metadata": {
    "ExecuteTime": {
     "end_time": "2024-10-15T21:27:19.897502Z",
     "start_time": "2024-10-15T21:27:19.792728Z"
    }
   },
   "cell_type": "code",
   "source": [
    "plt.plot(np.sort(paths[:, -1]), pnl_opt[np.argsort(paths[:, -1])])\n",
    "plt.plot(\n",
    "    np.sort(paths[:, -1]),\n",
    "    pnl_hedge[np.argsort(paths[:, -1])] + european_call.price().T.squeeze(1) * np.exp(RF_RATE * european_call.time_till_maturity),\n",
    ")\n",
    "plt.show()"
   ],
   "id": "a6122ee5a653579e",
   "outputs": [
    {
     "data": {
      "text/plain": [
       "<Figure size 640x480 with 1 Axes>"
      ],
      "image/png": "[encoded data removed]"
     },
     "metadata": {},
     "output_type": "display_data"
    }
   ],
   "execution_count": 92
  },
  {
   "metadata": {
    "ExecuteTime": {
     "end_time": "2024-10-15T21:27:19.918394Z",
     "start_time": "2024-10-15T21:27:19.902833Z"
    }
   },
   "cell_type": "code",
   "source": [
    "portfolio = pnl_hedge + european_call.price().T.squeeze(1) * np.exp(RF_RATE * european_call.time_till_maturity) - pnl_opt\n",
    "portfolio.mean(), portfolio.std()"
   ],
   "id": "93f6b7a51c165c93",
   "outputs": [
    {
     "data": {
      "text/plain": [
       "(-7.5930971568107e-05, 0.0037267669279924353)"
      ]
     },
     "execution_count": 93,
     "metadata": {},
     "output_type": "execute_result"
    }
   ],
   "execution_count": 93
  },
  {
   "metadata": {
    "ExecuteTime": {
     "end_time": "2024-10-15T21:27:19.940708Z",
     "start_time": "2024-10-15T21:27:19.924669Z"
    }
   },
   "cell_type": "code",
   "source": "european_call.delta()",
   "id": "890b878f9f1ba159",
   "outputs": [
    {
     "data": {
      "text/plain": [
       "array([[0.66749723]])"
      ]
     },
     "execution_count": 94,
     "metadata": {},
     "output_type": "execute_result"
    }
   ],
   "execution_count": 94
  },
  {
   "metadata": {
    "ExecuteTime": {
     "end_time": "2024-10-15T21:27:20.164492Z",
     "start_time": "2024-10-15T21:27:20.150330Z"
    }
   },
   "cell_type": "code",
   "source": "0.6 * RF_RATE * european_call.time_till_maturity",
   "id": "f8fd17fa44364b91",
   "outputs": [
    {
     "data": {
      "text/plain": [
       "0.05399999999999999"
      ]
     },
     "execution_count": 95,
     "metadata": {},
     "output_type": "execute_result"
    }
   ],
   "execution_count": 95
  },
  {
   "metadata": {
    "ExecuteTime": {
     "end_time": "2024-10-15T21:27:20.191284Z",
     "start_time": "2024-10-15T21:27:20.189029Z"
    }
   },
   "cell_type": "code",
   "source": "",
   "id": "e6e7e87db8a071c5",
   "outputs": [],
   "execution_count": null
  }
 ],
 "metadata": {
  "kernelspec": {
   "display_name": "Python 3",
   "language": "python",
   "name": "python3"
  },
  "language_info": {
   "codemirror_mode": {
    "name": "ipython",
    "version": 2
   },
   "file_extension": ".py",
   "mimetype": "text/x-python",
   "name": "python",
   "nbconvert_exporter": "python",
   "pygments_lexer": "ipython2",
   "version": "2.7.6"
  }
 },
 "nbformat": 4,
 "nbformat_minor": 5
}
