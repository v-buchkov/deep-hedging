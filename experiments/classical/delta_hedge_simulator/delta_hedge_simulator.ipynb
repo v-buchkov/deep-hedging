{
 "cells": [
  {
   "metadata": {
    "ExecuteTime": {
     "end_time": "2024-10-15T20:38:18.427251Z",
     "start_time": "2024-10-15T20:38:18.366245Z"
    }
   },
   "cell_type": "code",
   "source": [
    "%load_ext autoreload\n",
    "%autoreload 2"
   ],
   "id": "e546b46bae2170df",
   "outputs": [
    {
     "name": "stdout",
     "output_type": "stream",
     "text": [
      "The autoreload extension is already loaded. To reload it, use:\n",
      "  %reload_ext autoreload\n"
     ]
    }
   ],
   "execution_count": 38
  },
  {
   "cell_type": "code",
   "id": "initial_id",
   "metadata": {
    "collapsed": true,
    "ExecuteTime": {
     "end_time": "2024-10-15T20:38:18.450198Z",
     "start_time": "2024-10-15T20:38:18.434880Z"
    }
   },
   "source": [
    "import datetime as dt\n",
    "\n",
    "import numpy as np\n",
    "import matplotlib.pyplot as plt\n",
    "\n",
    "from deep_hedging import (\n",
    "    Underlyings,\n",
    "    Ticker,\n",
    "    ConstantRateCurve,\n",
    "    EuropeanCall,\n",
    ")\n",
    "from deep_hedging.hedger import Hedger\n",
    "from deep_hedging.monte_carlo import GBMSimulator\n",
    "\n",
    "RANDOM_SEED = 12"
   ],
   "outputs": [],
   "execution_count": 39
  },
  {
   "metadata": {
    "ExecuteTime": {
     "end_time": "2024-10-15T20:38:18.477012Z",
     "start_time": "2024-10-15T20:38:18.464367Z"
    }
   },
   "cell_type": "code",
   "source": [
    "N_PATHS = 100_000\n",
    "N_STOCKS = 1\n",
    "TILL_MATURITY = 3.0\n",
    "N_DAYS = 365 * TILL_MATURITY\n",
    "RF_RATE = 0.03\n",
    "STRIKE_LEVEL = 1.0\n",
    "VOL = 0.2"
   ],
   "id": "c8fa6851e24330e",
   "outputs": [],
   "execution_count": 40
  },
  {
   "metadata": {
    "ExecuteTime": {
     "end_time": "2024-10-15T20:38:18.502751Z",
     "start_time": "2024-10-15T20:38:18.488717Z"
    }
   },
   "cell_type": "code",
   "source": [
    "np.random.seed(RANDOM_SEED)\n",
    "\n",
    "start = dt.datetime(2019, 1, 1)\n",
    "end = start + dt.timedelta(days=N_DAYS)\n",
    "\n",
    "underlyings = Underlyings(\n",
    "    tickers=[Ticker(f\"Stock {i + 1}\", f\"{i + 1}\") for i in range(N_STOCKS)],\n",
    "    start=start,\n",
    "    end=end,\n",
    "    dividends=np.array([0.0] * N_STOCKS),\n",
    "    means=np.array([RF_RATE] * N_STOCKS),\n",
    "    var_covar=np.array([VOL**2] * N_STOCKS),\n",
    ")\n",
    "underlyings.data"
   ],
   "id": "b9a8df03adcd4db7",
   "outputs": [],
   "execution_count": 41
  },
  {
   "metadata": {
    "ExecuteTime": {
     "end_time": "2024-10-15T20:38:18.534097Z",
     "start_time": "2024-10-15T20:38:18.514276Z"
    }
   },
   "cell_type": "code",
   "source": "curve = ConstantRateCurve(constant_rate=RF_RATE)",
   "id": "3edcf795959a8653",
   "outputs": [],
   "execution_count": 42
  },
  {
   "metadata": {
    "ExecuteTime": {
     "end_time": "2024-10-15T20:38:18.565431Z",
     "start_time": "2024-10-15T20:38:18.545866Z"
    }
   },
   "cell_type": "code",
   "source": [
    "european_call = EuropeanCall(\n",
    "    underlyings=underlyings,\n",
    "    yield_curve=curve,\n",
    "    strike_level=STRIKE_LEVEL,\n",
    "    start_date=start,\n",
    "    end_date=end,\n",
    ")"
   ],
   "id": "2bf204be1dfb1a84",
   "outputs": [],
   "execution_count": 43
  },
  {
   "metadata": {
    "ExecuteTime": {
     "end_time": "2024-10-15T20:38:18.589211Z",
     "start_time": "2024-10-15T20:38:18.577160Z"
    }
   },
   "cell_type": "code",
   "source": "pricer = GBMSimulator(payoff_function=european_call.payoff, random_seed=RANDOM_SEED)",
   "id": "460120d57cba9d32",
   "outputs": [],
   "execution_count": 44
  },
  {
   "metadata": {
    "ExecuteTime": {
     "end_time": "2024-10-15T20:38:22.394289Z",
     "start_time": "2024-10-15T20:38:18.603334Z"
    }
   },
   "cell_type": "code",
   "source": [
    "paths = pricer.get_paths(\n",
    "    spot=[1.0],\n",
    "    time_till_maturity=TILL_MATURITY,\n",
    "    risk_free_rate_fn=curve.get_instant_fwd_rate,\n",
    "    dividends_fn=lambda t: 0.0,\n",
    "    var_covar_fn=lambda t: np.array([VOL**2] * len(t)),\n",
    "    n_paths=N_PATHS,\n",
    ").squeeze(2)\n",
    "paths.shape"
   ],
   "id": "83384116e70913a2",
   "outputs": [
    {
     "data": {
      "text/plain": [
       "(100000, 757)"
      ]
     },
     "execution_count": 45,
     "metadata": {},
     "output_type": "execute_result"
    }
   ],
   "execution_count": 45
  },
  {
   "metadata": {
    "ExecuteTime": {
     "end_time": "2024-10-15T20:38:22.490739Z",
     "start_time": "2024-10-15T20:38:22.474379Z"
    }
   },
   "cell_type": "code",
   "source": "hedger = Hedger(european_call, look_ahead=True)",
   "id": "e0750a0792865d23",
   "outputs": [],
   "execution_count": 46
  },
  {
   "metadata": {
    "ExecuteTime": {
     "end_time": "2024-10-15T20:38:44.120184Z",
     "start_time": "2024-10-15T20:38:22.507805Z"
    }
   },
   "cell_type": "code",
   "source": [
    "pnl_hedge, pnl_opt = hedger.simulate(\n",
    "    bids=paths,\n",
    "    asks=paths,\n",
    "    rates_lend=curve(european_call.days_till_maturity) / 365,\n",
    "    rates_borrow=curve(european_call.days_till_maturity) / 365,\n",
    ")\n",
    "pnl_hedge.mean(), pnl_opt.mean()"
   ],
   "id": "d08e201e9650bc44",
   "outputs": [
    {
     "data": {
      "text/plain": [
       "(0.021178108966897022, 0.19572822393987255)"
      ]
     },
     "execution_count": 47,
     "metadata": {},
     "output_type": "execute_result"
    }
   ],
   "execution_count": 47
  },
  {
   "metadata": {
    "ExecuteTime": {
     "end_time": "2024-10-15T20:38:44.195785Z",
     "start_time": "2024-10-15T20:38:44.179239Z"
    }
   },
   "cell_type": "code",
   "source": "pnl_hedge",
   "id": "555dc86e6583a2fb",
   "outputs": [
    {
     "data": {
      "text/plain": [
       "array([-0.18860363, -0.16983011, -0.18267193, ..., -0.17677962,\n",
       "       -0.15104832,  0.1483478 ])"
      ]
     },
     "execution_count": 48,
     "metadata": {},
     "output_type": "execute_result"
    }
   ],
   "execution_count": 48
  },
  {
   "metadata": {
    "ExecuteTime": {
     "end_time": "2024-10-15T20:38:44.216011Z",
     "start_time": "2024-10-15T20:38:44.200345Z"
    }
   },
   "cell_type": "code",
   "source": "RF_RATE * european_call.time_till_maturity",
   "id": "fbb3dd80a53155cd",
   "outputs": [
    {
     "data": {
      "text/plain": [
       "0.09"
      ]
     },
     "execution_count": 49,
     "metadata": {},
     "output_type": "execute_result"
    }
   ],
   "execution_count": 49
  },
  {
   "metadata": {
    "ExecuteTime": {
     "end_time": "2024-10-15T20:39:27.067417Z",
     "start_time": "2024-10-15T20:39:27.050450Z"
    }
   },
   "cell_type": "code",
   "source": "(pnl_opt - pnl_hedge).mean() * np.exp(-RF_RATE * european_call.time_till_maturity)",
   "id": "68d951bdc7393a9f",
   "outputs": [
    {
     "data": {
      "text/plain": [
       "0.1595267934664807"
      ]
     },
     "execution_count": 69,
     "metadata": {},
     "output_type": "execute_result"
    }
   ],
   "execution_count": 69
  },
  {
   "metadata": {
    "ExecuteTime": {
     "end_time": "2024-10-15T20:38:44.272792Z",
     "start_time": "2024-10-15T20:38:44.259733Z"
    }
   },
   "cell_type": "code",
   "source": [
    "# pnl_hedge_fix, _, _ = hedger.simulate(\n",
    "#     bids=paths,\n",
    "#     asks=paths,\n",
    "#     rates_lend=curve(european_call.days_till_maturity) / 365,\n",
    "#     rates_borrow=curve(european_call.days_till_maturity) / 365,\n",
    "#     weights=np.ones(paths.shape) * european_call.delta()\n",
    "# )"
   ],
   "id": "9eaa69925981483f",
   "outputs": [],
   "execution_count": 51
  },
  {
   "metadata": {
    "ExecuteTime": {
     "end_time": "2024-10-15T20:38:44.417978Z",
     "start_time": "2024-10-15T20:38:44.287916Z"
    }
   },
   "cell_type": "code",
   "source": "(np.ones(paths.shape) * european_call.delta()).shape",
   "id": "9a898c25405bf4bc",
   "outputs": [
    {
     "data": {
      "text/plain": [
       "(100000, 757)"
      ]
     },
     "execution_count": 52,
     "metadata": {},
     "output_type": "execute_result"
    }
   ],
   "execution_count": 52
  },
  {
   "metadata": {
    "ExecuteTime": {
     "end_time": "2024-10-15T20:38:44.448509Z",
     "start_time": "2024-10-15T20:38:44.434322Z"
    }
   },
   "cell_type": "code",
   "source": "paths.shape",
   "id": "39ce6913f8b68ac0",
   "outputs": [
    {
     "data": {
      "text/plain": [
       "(100000, 757)"
      ]
     },
     "execution_count": 53,
     "metadata": {},
     "output_type": "execute_result"
    }
   ],
   "execution_count": 53
  },
  {
   "metadata": {
    "ExecuteTime": {
     "end_time": "2024-10-15T20:38:44.478181Z",
     "start_time": "2024-10-15T20:38:44.461188Z"
    }
   },
   "cell_type": "code",
   "source": "pnl_opt.std(), pnl_hedge.std(), (pnl_hedge - pnl_opt).std()",
   "id": "f06b84ca7706b307",
   "outputs": [
    {
     "data": {
      "text/plain": [
       "(0.30107502584781826, 0.30562672009191216, 0.00814353512928601)"
      ]
     },
     "execution_count": 54,
     "metadata": {},
     "output_type": "execute_result"
    }
   ],
   "execution_count": 54
  },
  {
   "metadata": {
    "ExecuteTime": {
     "end_time": "2024-10-15T20:38:44.535615Z",
     "start_time": "2024-10-15T20:38:44.520889Z"
    }
   },
   "cell_type": "code",
   "source": "european_call.price()",
   "id": "ccef69abe35fc3f",
   "outputs": [
    {
     "data": {
      "text/plain": [
       "array([[0.17899527]])"
      ]
     },
     "execution_count": 56,
     "metadata": {},
     "output_type": "execute_result"
    }
   ],
   "execution_count": 56
  },
  {
   "metadata": {
    "ExecuteTime": {
     "end_time": "2024-10-15T20:38:44.571006Z",
     "start_time": "2024-10-15T20:38:44.552895Z"
    }
   },
   "cell_type": "code",
   "source": "np.corrcoef(pnl_hedge, pnl_opt)",
   "id": "728d7a47dd43e931",
   "outputs": [
    {
     "data": {
      "text/plain": [
       "array([[1.        , 0.99975222],\n",
       "       [0.99975222, 1.        ]])"
      ]
     },
     "execution_count": 57,
     "metadata": {},
     "output_type": "execute_result"
    }
   ],
   "execution_count": 57
  },
  {
   "metadata": {
    "ExecuteTime": {
     "end_time": "2024-10-15T20:38:44.622192Z",
     "start_time": "2024-10-15T20:38:44.606910Z"
    }
   },
   "cell_type": "code",
   "source": [
    "(\n",
    "    pnl_opt - european_call.price() * np.exp(RF_RATE * european_call.time_till_maturity)\n",
    ").mean()"
   ],
   "id": "a787b228340e80ad",
   "outputs": [
    {
     "data": {
      "text/plain": [
       "-0.0001238017003800206"
      ]
     },
     "execution_count": 58,
     "metadata": {},
     "output_type": "execute_result"
    }
   ],
   "execution_count": 58
  },
  {
   "metadata": {
    "ExecuteTime": {
     "end_time": "2024-10-15T20:38:44.812339Z",
     "start_time": "2024-10-15T20:38:44.797208Z"
    }
   },
   "cell_type": "code",
   "source": [
    "(\n",
    "    pnl_opt - european_call.price() * np.exp(RF_RATE * european_call.time_till_maturity)\n",
    ").std()"
   ],
   "id": "4cbbfcc02bfb596c",
   "outputs": [
    {
     "data": {
      "text/plain": [
       "0.30107502584781826"
      ]
     },
     "execution_count": 59,
     "metadata": {},
     "output_type": "execute_result"
    }
   ],
   "execution_count": 59
  },
  {
   "metadata": {
    "ExecuteTime": {
     "end_time": "2024-10-15T20:38:44.968070Z",
     "start_time": "2024-10-15T20:38:44.951200Z"
    }
   },
   "cell_type": "code",
   "source": [
    "(\n",
    "    pnl_opt\n",
    "    - pnl_hedge\n",
    "    - european_call.price() * np.exp(RF_RATE * european_call.time_till_maturity)\n",
    ").std()"
   ],
   "id": "60e91232ff3cd9ba",
   "outputs": [
    {
     "data": {
      "text/plain": [
       "0.00814353512928601"
      ]
     },
     "execution_count": 60,
     "metadata": {},
     "output_type": "execute_result"
    }
   ],
   "execution_count": 60
  },
  {
   "metadata": {
    "ExecuteTime": {
     "end_time": "2024-10-15T20:38:45.895940Z",
     "start_time": "2024-10-15T20:38:44.994683Z"
    }
   },
   "cell_type": "code",
   "source": [
    "plt.plot(np.sort(paths[:, -1]), pnl_opt[np.argsort(paths[:, -1])])\n",
    "plt.plot(np.sort(paths[:, -1]), pnl_hedge[np.argsort(paths[:, -1])])\n",
    "plt.show()"
   ],
   "id": "1b1ee23234412b30",
   "outputs": [
    {
     "data": {
      "text/plain": [
       "<Figure size 640x480 with 1 Axes>"
      ],
      "image/png": "[encoded data removed]"
     },
     "metadata": {},
     "output_type": "display_data"
    }
   ],
   "execution_count": 61
  },
  {
   "metadata": {
    "ExecuteTime": {
     "end_time": "2024-10-15T20:38:45.936707Z",
     "start_time": "2024-10-15T20:38:45.909628Z"
    }
   },
   "cell_type": "code",
   "source": "(pnl_hedge - RF_RATE * european_call.time_till_maturity).mean()",
   "id": "28e0545c9f7b82ac",
   "outputs": [
    {
     "data": {
      "text/plain": [
       "-0.06882189103310299"
      ]
     },
     "execution_count": 62,
     "metadata": {},
     "output_type": "execute_result"
    }
   ],
   "execution_count": 62
  },
  {
   "metadata": {
    "ExecuteTime": {
     "end_time": "2024-10-15T20:38:46.092075Z",
     "start_time": "2024-10-15T20:38:45.963456Z"
    }
   },
   "cell_type": "code",
   "source": [
    "value_opt = european_call.price(spot=paths[:, -1])\n",
    "\n",
    "plt.plot(np.sort(paths[:, -1]), value_opt[np.argsort(paths[:, -1])])\n",
    "plt.plot(np.sort(paths[:, -1]), pnl_opt[np.argsort(paths[:, -1])])\n",
    "plt.xlim([0, 3])\n",
    "plt.show()"
   ],
   "id": "55fcd19b531b02c6",
   "outputs": [
    {
     "data": {
      "text/plain": [
       "<Figure size 640x480 with 1 Axes>"
      ],
      "image/png": "[encoded data removed]"
     },
     "metadata": {},
     "output_type": "display_data"
    }
   ],
   "execution_count": 63
  },
  {
   "metadata": {
    "ExecuteTime": {
     "end_time": "2024-10-15T20:38:46.211280Z",
     "start_time": "2024-10-15T20:38:46.107497Z"
    }
   },
   "cell_type": "code",
   "source": [
    "plt.plot(np.sort(paths[:, -1]), value_opt[np.argsort(paths[:, -1])])\n",
    "plt.plot(np.sort(paths[:, -1]), pnl_hedge[np.argsort(paths[:, -1])])\n",
    "plt.show()"
   ],
   "id": "d34cb3ac52aa8297",
   "outputs": [
    {
     "data": {
      "text/plain": [
       "<Figure size 640x480 with 1 Axes>"
      ],
      "image/png": "[encoded data removed]"
     },
     "metadata": {},
     "output_type": "display_data"
    }
   ],
   "execution_count": 64
  },
  {
   "metadata": {
    "ExecuteTime": {
     "end_time": "2024-10-15T20:38:46.328774Z",
     "start_time": "2024-10-15T20:38:46.226892Z"
    }
   },
   "cell_type": "code",
   "source": [
    "plt.plot(np.sort(paths[:, -1]), pnl_opt[np.argsort(paths[:, -1])])\n",
    "plt.plot(\n",
    "    np.sort(paths[:, -1]),\n",
    "    pnl_hedge[np.argsort(paths[:, -1])] + european_call.price().T.squeeze(1) * np.exp(RF_RATE * european_call.time_till_maturity),\n",
    ")\n",
    "plt.show()"
   ],
   "id": "a6122ee5a653579e",
   "outputs": [
    {
     "data": {
      "text/plain": [
       "<Figure size 640x480 with 1 Axes>"
      ],
      "image/png": "[encoded data removed]"
     },
     "metadata": {},
     "output_type": "display_data"
    }
   ],
   "execution_count": 65
  },
  {
   "metadata": {
    "ExecuteTime": {
     "end_time": "2024-10-15T20:38:46.355712Z",
     "start_time": "2024-10-15T20:38:46.342067Z"
    }
   },
   "cell_type": "code",
   "source": [
    "portfolio = pnl_hedge + european_call.price().T.squeeze(1) * np.exp(RF_RATE * european_call.time_till_maturity) - pnl_opt\n",
    "portfolio.mean(), portfolio.std()"
   ],
   "id": "93f6b7a51c165c93",
   "outputs": [
    {
     "data": {
      "text/plain": [
       "(0.021301910667277053, 0.00814353512928601)"
      ]
     },
     "execution_count": 66,
     "metadata": {},
     "output_type": "execute_result"
    }
   ],
   "execution_count": 66
  },
  {
   "metadata": {
    "ExecuteTime": {
     "end_time": "2024-10-15T20:38:46.382393Z",
     "start_time": "2024-10-15T20:38:46.368706Z"
    }
   },
   "cell_type": "code",
   "source": "european_call.delta()",
   "id": "890b878f9f1ba159",
   "outputs": [
    {
     "data": {
      "text/plain": [
       "array([[0.66749723]])"
      ]
     },
     "execution_count": 67,
     "metadata": {},
     "output_type": "execute_result"
    }
   ],
   "execution_count": 67
  },
  {
   "metadata": {
    "ExecuteTime": {
     "end_time": "2024-10-15T20:38:46.431377Z",
     "start_time": "2024-10-15T20:38:46.416603Z"
    }
   },
   "cell_type": "code",
   "source": "0.6 * RF_RATE * european_call.time_till_maturity",
   "id": "f8fd17fa44364b91",
   "outputs": [
    {
     "data": {
      "text/plain": [
       "0.05399999999999999"
      ]
     },
     "execution_count": 68,
     "metadata": {},
     "output_type": "execute_result"
    }
   ],
   "execution_count": 68
  },
  {
   "metadata": {
    "ExecuteTime": {
     "end_time": "2024-10-15T20:38:46.467633Z",
     "start_time": "2024-10-15T20:38:46.463408Z"
    }
   },
   "cell_type": "code",
   "source": "",
   "id": "e6e7e87db8a071c5",
   "outputs": [],
   "execution_count": null
  }
 ],
 "metadata": {
  "kernelspec": {
   "display_name": "Python 3",
   "language": "python",
   "name": "python3"
  },
  "language_info": {
   "codemirror_mode": {
    "name": "ipython",
    "version": 2
   },
   "file_extension": ".py",
   "mimetype": "text/x-python",
   "name": "python",
   "nbconvert_exporter": "python",
   "pygments_lexer": "ipython2",
   "version": "2.7.6"
  }
 },
 "nbformat": 4,
 "nbformat_minor": 5
}
