{
 "cells": [
  {
   "metadata": {
    "ExecuteTime": {
     "end_time": "2024-10-29T22:13:15.502712Z",
     "start_time": "2024-10-29T22:13:15.492204Z"
    }
   },
   "cell_type": "code",
   "source": [
    "%load_ext autoreload\n",
    "%autoreload 2"
   ],
   "id": "e546b46bae2170df",
   "outputs": [],
   "execution_count": 1
  },
  {
   "cell_type": "code",
   "id": "initial_id",
   "metadata": {
    "collapsed": true,
    "ExecuteTime": {
     "end_time": "2024-10-29T22:13:17.948506Z",
     "start_time": "2024-10-29T22:13:15.506743Z"
    }
   },
   "source": [
    "import datetime as dt\n",
    "\n",
    "import numpy as np\n",
    "import matplotlib.pyplot as plt\n",
    "\n",
    "from deep_hedging import (\n",
    "    Underlyings,\n",
    "    Ticker,\n",
    "    ConstantRateCurve,\n",
    "    EuropeanCall,\n",
    ")\n",
    "from deep_hedging.hedger import Hedger\n",
    "from deep_hedging.monte_carlo import GBMSimulator\n",
    "\n",
    "RANDOM_SEED = 12"
   ],
   "outputs": [],
   "execution_count": 2
  },
  {
   "metadata": {
    "ExecuteTime": {
     "end_time": "2024-10-29T22:13:18.768726Z",
     "start_time": "2024-10-29T22:13:18.055946Z"
    }
   },
   "cell_type": "code",
   "source": [
    "N_PATHS = 100_000\n",
    "N_STOCKS = 1\n",
    "TILL_MATURITY = 3.0\n",
    "N_DAYS = 365 * TILL_MATURITY\n",
    "RF_RATE = 0.03\n",
    "STRIKE_LEVEL = 1.0\n",
    "VOL = 0.2"
   ],
   "id": "c8fa6851e24330e",
   "outputs": [],
   "execution_count": 3
  },
  {
   "metadata": {
    "ExecuteTime": {
     "end_time": "2024-10-29T22:13:18.944178Z",
     "start_time": "2024-10-29T22:13:18.927992Z"
    }
   },
   "cell_type": "code",
   "source": [
    "np.random.seed(RANDOM_SEED)\n",
    "\n",
    "start = dt.datetime(2019, 1, 1)\n",
    "end = start + dt.timedelta(days=N_DAYS)\n",
    "\n",
    "underlyings = Underlyings(\n",
    "    tickers=[Ticker(f\"Stock {i + 1}\", f\"{i + 1}\") for i in range(N_STOCKS)],\n",
    "    start=start,\n",
    "    end=end,\n",
    "    dividends=np.array([0.0] * N_STOCKS),\n",
    "    means=np.array([RF_RATE] * N_STOCKS),\n",
    "    var_covar=np.array([VOL**2] * N_STOCKS),\n",
    ")\n",
    "underlyings.data"
   ],
   "id": "b9a8df03adcd4db7",
   "outputs": [],
   "execution_count": 4
  },
  {
   "metadata": {
    "ExecuteTime": {
     "end_time": "2024-10-29T22:13:18.974931Z",
     "start_time": "2024-10-29T22:13:18.957204Z"
    }
   },
   "cell_type": "code",
   "source": "curve = ConstantRateCurve(constant_rate=RF_RATE)",
   "id": "3edcf795959a8653",
   "outputs": [],
   "execution_count": 5
  },
  {
   "metadata": {
    "ExecuteTime": {
     "end_time": "2024-10-29T22:13:19.006814Z",
     "start_time": "2024-10-29T22:13:18.989539Z"
    }
   },
   "cell_type": "code",
   "source": [
    "european_call = EuropeanCall(\n",
    "    underlyings=underlyings,\n",
    "    yield_curve=curve,\n",
    "    strike_level=STRIKE_LEVEL,\n",
    "    start_date=start,\n",
    "    end_date=end,\n",
    ")"
   ],
   "id": "2bf204be1dfb1a84",
   "outputs": [],
   "execution_count": 6
  },
  {
   "metadata": {
    "ExecuteTime": {
     "end_time": "2024-10-29T22:13:19.031240Z",
     "start_time": "2024-10-29T22:13:19.019350Z"
    }
   },
   "cell_type": "code",
   "source": "pricer = GBMSimulator(payoff_function=european_call.payoff, random_seed=RANDOM_SEED)",
   "id": "460120d57cba9d32",
   "outputs": [],
   "execution_count": 7
  },
  {
   "metadata": {
    "ExecuteTime": {
     "end_time": "2024-10-29T22:13:24.029361Z",
     "start_time": "2024-10-29T22:13:19.044950Z"
    }
   },
   "cell_type": "code",
   "source": [
    "paths = pricer.get_paths(\n",
    "    spot=[1.0],\n",
    "    time_till_maturity=TILL_MATURITY,\n",
    "    risk_free_rate_fn=curve.get_instant_fwd_rate,\n",
    "    dividends_fn=lambda t: 0.0,\n",
    "    var_covar_fn=lambda t: np.array([VOL**2] * len(t)),\n",
    "    n_paths=N_PATHS,\n",
    ").squeeze(2)\n",
    "paths.shape"
   ],
   "id": "83384116e70913a2",
   "outputs": [
    {
     "data": {
      "text/plain": [
       "(100000, 1095)"
      ]
     },
     "execution_count": 8,
     "metadata": {},
     "output_type": "execute_result"
    }
   ],
   "execution_count": 8
  },
  {
   "metadata": {
    "ExecuteTime": {
     "end_time": "2024-10-29T22:13:24.133090Z",
     "start_time": "2024-10-29T22:13:24.117098Z"
    }
   },
   "cell_type": "code",
   "source": "hedger = Hedger(european_call, look_ahead=True)",
   "id": "e0750a0792865d23",
   "outputs": [],
   "execution_count": 9
  },
  {
   "metadata": {
    "ExecuteTime": {
     "end_time": "2024-10-29T22:14:44.857936Z",
     "start_time": "2024-10-29T22:13:24.152514Z"
    }
   },
   "cell_type": "code",
   "source": [
    "pnl_hedge, pnl_opt = hedger.simulate(\n",
    "    bids=paths,\n",
    "    asks=paths,\n",
    "    rates_lend=curve(european_call.days_till_maturity) / 365,\n",
    "    rates_borrow=curve(european_call.days_till_maturity) / 365,\n",
    ")\n",
    "pnl_hedge.mean(), pnl_opt.mean()"
   ],
   "id": "d08e201e9650bc44",
   "outputs": [
    {
     "data": {
      "text/plain": [
       "(0.0003530956628952578, 0.19621281847488928)"
      ]
     },
     "execution_count": 10,
     "metadata": {},
     "output_type": "execute_result"
    }
   ],
   "execution_count": 10
  },
  {
   "metadata": {
    "ExecuteTime": {
     "end_time": "2024-10-29T22:14:45.213765Z",
     "start_time": "2024-10-29T22:14:45.187065Z"
    }
   },
   "cell_type": "code",
   "source": "pnl_hedge",
   "id": "555dc86e6583a2fb",
   "outputs": [
    {
     "data": {
      "text/plain": [
       "array([-0.19735192, -0.19288501, -0.19532841, ..., -0.06257501,\n",
       "        0.61130308, -0.1926803 ])"
      ]
     },
     "execution_count": 11,
     "metadata": {},
     "output_type": "execute_result"
    }
   ],
   "execution_count": 11
  },
  {
   "metadata": {
    "ExecuteTime": {
     "end_time": "2024-10-29T22:14:45.490233Z",
     "start_time": "2024-10-29T22:14:45.470823Z"
    }
   },
   "cell_type": "code",
   "source": "RF_RATE * european_call.time_till_maturity",
   "id": "fbb3dd80a53155cd",
   "outputs": [
    {
     "data": {
      "text/plain": [
       "0.09"
      ]
     },
     "execution_count": 12,
     "metadata": {},
     "output_type": "execute_result"
    }
   ],
   "execution_count": 12
  },
  {
   "metadata": {
    "ExecuteTime": {
     "end_time": "2024-10-29T22:14:45.574928Z",
     "start_time": "2024-10-29T22:14:45.560232Z"
    }
   },
   "cell_type": "code",
   "source": "(pnl_opt - pnl_hedge).mean() * np.exp(-RF_RATE * european_call.time_till_maturity)",
   "id": "68d951bdc7393a9f",
   "outputs": [
    {
     "data": {
      "text/plain": [
       "0.17900230861645994"
      ]
     },
     "execution_count": 13,
     "metadata": {},
     "output_type": "execute_result"
    }
   ],
   "execution_count": 13
  },
  {
   "metadata": {
    "ExecuteTime": {
     "end_time": "2024-10-29T22:14:45.638128Z",
     "start_time": "2024-10-29T22:14:45.624487Z"
    }
   },
   "cell_type": "code",
   "source": [
    "# pnl_hedge_fix, _, _ = hedger.simulate(\n",
    "#     bids=paths,\n",
    "#     asks=paths,\n",
    "#     rates_lend=curve(european_call.days_till_maturity) / 365,\n",
    "#     rates_borrow=curve(european_call.days_till_maturity) / 365,\n",
    "#     weights=np.ones(paths.shape) * european_call.delta()\n",
    "# )"
   ],
   "id": "9eaa69925981483f",
   "outputs": [],
   "execution_count": 14
  },
  {
   "metadata": {
    "ExecuteTime": {
     "end_time": "2024-10-29T22:14:45.841948Z",
     "start_time": "2024-10-29T22:14:45.653918Z"
    }
   },
   "cell_type": "code",
   "source": "(np.ones(paths.shape) * european_call.delta()).shape",
   "id": "9a898c25405bf4bc",
   "outputs": [
    {
     "data": {
      "text/plain": [
       "(100000, 1095)"
      ]
     },
     "execution_count": 15,
     "metadata": {},
     "output_type": "execute_result"
    }
   ],
   "execution_count": 15
  },
  {
   "metadata": {
    "ExecuteTime": {
     "end_time": "2024-10-29T22:14:45.881658Z",
     "start_time": "2024-10-29T22:14:45.868369Z"
    }
   },
   "cell_type": "code",
   "source": "paths.shape",
   "id": "39ce6913f8b68ac0",
   "outputs": [
    {
     "data": {
      "text/plain": [
       "(100000, 1095)"
      ]
     },
     "execution_count": 16,
     "metadata": {},
     "output_type": "execute_result"
    }
   ],
   "execution_count": 16
  },
  {
   "metadata": {
    "ExecuteTime": {
     "end_time": "2024-10-29T22:14:45.919576Z",
     "start_time": "2024-10-29T22:14:45.905967Z"
    }
   },
   "cell_type": "code",
   "source": "pnl_opt.std(), pnl_hedge.std(), (pnl_hedge - pnl_opt).std()",
   "id": "f06b84ca7706b307",
   "outputs": [
    {
     "data": {
      "text/plain": [
       "(0.30269287340909307, 0.3022660661106842, 0.0037361828226865758)"
      ]
     },
     "execution_count": 17,
     "metadata": {},
     "output_type": "execute_result"
    }
   ],
   "execution_count": 17
  },
  {
   "metadata": {
    "ExecuteTime": {
     "end_time": "2024-10-29T22:14:45.952444Z",
     "start_time": "2024-10-29T22:14:45.938575Z"
    }
   },
   "cell_type": "code",
   "source": "european_call.price()",
   "id": "ccef69abe35fc3f",
   "outputs": [
    {
     "data": {
      "text/plain": [
       "array([[0.17899527]])"
      ]
     },
     "execution_count": 18,
     "metadata": {},
     "output_type": "execute_result"
    }
   ],
   "execution_count": 18
  },
  {
   "metadata": {
    "ExecuteTime": {
     "end_time": "2024-10-29T22:14:45.972707Z",
     "start_time": "2024-10-29T22:14:45.959241Z"
    }
   },
   "cell_type": "code",
   "source": "pnl_opt.mean() * np.exp(-RF_RATE * european_call.time_till_maturity)",
   "id": "208132f91dbbda39",
   "outputs": [
    {
     "data": {
      "text/plain": [
       "0.1793250137541639"
      ]
     },
     "execution_count": 19,
     "metadata": {},
     "output_type": "execute_result"
    }
   ],
   "execution_count": 19
  },
  {
   "metadata": {
    "ExecuteTime": {
     "end_time": "2024-10-29T22:14:46.031283Z",
     "start_time": "2024-10-29T22:14:46.013682Z"
    }
   },
   "cell_type": "code",
   "source": "np.corrcoef(pnl_hedge, pnl_opt)",
   "id": "728d7a47dd43e931",
   "outputs": [
    {
     "data": {
      "text/plain": [
       "array([[1.        , 0.99992471],\n",
       "       [0.99992471, 1.        ]])"
      ]
     },
     "execution_count": 20,
     "metadata": {},
     "output_type": "execute_result"
    }
   ],
   "execution_count": 20
  },
  {
   "metadata": {
    "ExecuteTime": {
     "end_time": "2024-10-29T22:14:46.136094Z",
     "start_time": "2024-10-29T22:14:46.121416Z"
    }
   },
   "cell_type": "code",
   "source": [
    "(\n",
    "    pnl_opt - european_call.price() * np.exp(RF_RATE * european_call.time_till_maturity)\n",
    ").mean()"
   ],
   "id": "a787b228340e80ad",
   "outputs": [
    {
     "data": {
      "text/plain": [
       "0.0003607928346367135"
      ]
     },
     "execution_count": 21,
     "metadata": {},
     "output_type": "execute_result"
    }
   ],
   "execution_count": 21
  },
  {
   "metadata": {
    "ExecuteTime": {
     "end_time": "2024-10-29T22:14:46.212578Z",
     "start_time": "2024-10-29T22:14:46.198115Z"
    }
   },
   "cell_type": "code",
   "source": [
    "(\n",
    "    pnl_opt - european_call.price() * np.exp(RF_RATE * european_call.time_till_maturity)\n",
    ").std()"
   ],
   "id": "4cbbfcc02bfb596c",
   "outputs": [
    {
     "data": {
      "text/plain": [
       "0.30269287340909307"
      ]
     },
     "execution_count": 22,
     "metadata": {},
     "output_type": "execute_result"
    }
   ],
   "execution_count": 22
  },
  {
   "metadata": {
    "ExecuteTime": {
     "end_time": "2024-10-29T22:14:46.248500Z",
     "start_time": "2024-10-29T22:14:46.233498Z"
    }
   },
   "cell_type": "code",
   "source": [
    "(\n",
    "    pnl_opt\n",
    "    - pnl_hedge\n",
    "    - european_call.price() * np.exp(RF_RATE * european_call.time_till_maturity)\n",
    ").std()"
   ],
   "id": "60e91232ff3cd9ba",
   "outputs": [
    {
     "data": {
      "text/plain": [
       "0.0037361828226865758"
      ]
     },
     "execution_count": 23,
     "metadata": {},
     "output_type": "execute_result"
    }
   ],
   "execution_count": 23
  },
  {
   "metadata": {
    "ExecuteTime": {
     "end_time": "2024-10-29T22:14:49.088498Z",
     "start_time": "2024-10-29T22:14:46.273167Z"
    }
   },
   "cell_type": "code",
   "source": [
    "plt.plot(np.sort(paths[:, -1]), pnl_opt[np.argsort(paths[:, -1])])\n",
    "plt.plot(np.sort(paths[:, -1]), pnl_hedge[np.argsort(paths[:, -1])])\n",
    "plt.show()"
   ],
   "id": "1b1ee23234412b30",
   "outputs": [
    {
     "data": {
      "text/plain": [
       "<Figure size 640x480 with 1 Axes>"
      ],
      "image/png": "[encoded data removed]"
     },
     "metadata": {},
     "output_type": "display_data"
    }
   ],
   "execution_count": 24
  },
  {
   "metadata": {
    "ExecuteTime": {
     "end_time": "2024-10-29T22:14:49.146816Z",
     "start_time": "2024-10-29T22:14:49.113235Z"
    }
   },
   "cell_type": "code",
   "source": "(pnl_hedge - RF_RATE * european_call.time_till_maturity).mean()",
   "id": "28e0545c9f7b82ac",
   "outputs": [
    {
     "data": {
      "text/plain": [
       "-0.08964690433710473"
      ]
     },
     "execution_count": 25,
     "metadata": {},
     "output_type": "execute_result"
    }
   ],
   "execution_count": 25
  },
  {
   "metadata": {
    "ExecuteTime": {
     "end_time": "2024-10-29T22:14:49.293200Z",
     "start_time": "2024-10-29T22:14:49.172529Z"
    }
   },
   "cell_type": "code",
   "source": [
    "value_opt = european_call.price(spot=paths[:, -1])\n",
    "\n",
    "plt.plot(np.sort(paths[:, -1]), value_opt[np.argsort(paths[:, -1])])\n",
    "plt.plot(np.sort(paths[:, -1]), pnl_opt[np.argsort(paths[:, -1])])\n",
    "plt.xlim([0, 3])\n",
    "plt.show()"
   ],
   "id": "55fcd19b531b02c6",
   "outputs": [
    {
     "data": {
      "text/plain": [
       "<Figure size 640x480 with 1 Axes>"
      ],
      "image/png": "[encoded data removed]"
     },
     "metadata": {},
     "output_type": "display_data"
    }
   ],
   "execution_count": 26
  },
  {
   "metadata": {
    "ExecuteTime": {
     "end_time": "2024-10-29T22:14:49.410809Z",
     "start_time": "2024-10-29T22:14:49.308161Z"
    }
   },
   "cell_type": "code",
   "source": [
    "plt.plot(np.sort(paths[:, -1]), value_opt[np.argsort(paths[:, -1])])\n",
    "plt.plot(np.sort(paths[:, -1]), pnl_hedge[np.argsort(paths[:, -1])])\n",
    "plt.show()"
   ],
   "id": "d34cb3ac52aa8297",
   "outputs": [
    {
     "data": {
      "text/plain": [
       "<Figure size 640x480 with 1 Axes>"
      ],
      "image/png": "[encoded data removed]"
     },
     "metadata": {},
     "output_type": "display_data"
    }
   ],
   "execution_count": 27
  },
  {
   "metadata": {
    "ExecuteTime": {
     "end_time": "2024-10-29T22:14:49.527492Z",
     "start_time": "2024-10-29T22:14:49.424892Z"
    }
   },
   "cell_type": "code",
   "source": [
    "plt.plot(np.sort(paths[:, -1]), pnl_opt[np.argsort(paths[:, -1])])\n",
    "plt.plot(\n",
    "    np.sort(paths[:, -1]),\n",
    "    pnl_hedge[np.argsort(paths[:, -1])]\n",
    "    + european_call.price().T.squeeze(1)\n",
    "    * np.exp(RF_RATE * european_call.time_till_maturity),\n",
    ")\n",
    "plt.show()"
   ],
   "id": "a6122ee5a653579e",
   "outputs": [
    {
     "data": {
      "text/plain": [
       "<Figure size 640x480 with 1 Axes>"
      ],
      "image/png": "[encoded data removed]"
     },
     "metadata": {},
     "output_type": "display_data"
    }
   ],
   "execution_count": 28
  },
  {
   "metadata": {
    "ExecuteTime": {
     "end_time": "2024-10-29T22:14:49.559480Z",
     "start_time": "2024-10-29T22:14:49.544859Z"
    }
   },
   "cell_type": "code",
   "source": [
    "portfolio = (\n",
    "    pnl_hedge\n",
    "    + european_call.price().T.squeeze(1)\n",
    "    * np.exp(RF_RATE * european_call.time_till_maturity)\n",
    "    - pnl_opt\n",
    ")\n",
    "portfolio.mean(), portfolio.std()"
   ],
   "id": "93f6b7a51c165c93",
   "outputs": [
    {
     "data": {
      "text/plain": [
       "(-7.69717174144678e-06, 0.0037361828226865758)"
      ]
     },
     "execution_count": 29,
     "metadata": {},
     "output_type": "execute_result"
    }
   ],
   "execution_count": 29
  },
  {
   "metadata": {
    "ExecuteTime": {
     "end_time": "2024-10-29T22:14:49.589077Z",
     "start_time": "2024-10-29T22:14:49.575539Z"
    }
   },
   "cell_type": "code",
   "source": "european_call.delta()",
   "id": "890b878f9f1ba159",
   "outputs": [
    {
     "data": {
      "text/plain": [
       "array([[0.66749723]])"
      ]
     },
     "execution_count": 30,
     "metadata": {},
     "output_type": "execute_result"
    }
   ],
   "execution_count": 30
  },
  {
   "metadata": {
    "ExecuteTime": {
     "end_time": "2024-10-29T22:14:49.640067Z",
     "start_time": "2024-10-29T22:14:49.622955Z"
    }
   },
   "cell_type": "code",
   "source": "0.6 * RF_RATE * european_call.time_till_maturity",
   "id": "f8fd17fa44364b91",
   "outputs": [
    {
     "data": {
      "text/plain": [
       "0.05399999999999999"
      ]
     },
     "execution_count": 31,
     "metadata": {},
     "output_type": "execute_result"
    }
   ],
   "execution_count": 31
  },
  {
   "metadata": {
    "ExecuteTime": {
     "end_time": "2024-10-29T22:14:49.670690Z",
     "start_time": "2024-10-29T22:14:49.667589Z"
    }
   },
   "cell_type": "code",
   "source": "",
   "id": "e6e7e87db8a071c5",
   "outputs": [],
   "execution_count": null
  }
 ],
 "metadata": {
  "kernelspec": {
   "display_name": "Python 3",
   "language": "python",
   "name": "python3"
  },
  "language_info": {
   "codemirror_mode": {
    "name": "ipython",
    "version": 2
   },
   "file_extension": ".py",
   "mimetype": "text/x-python",
   "name": "python",
   "nbconvert_exporter": "python",
   "pygments_lexer": "ipython2",
   "version": "2.7.6"
  }
 },
 "nbformat": 4,
 "nbformat_minor": 5
}
