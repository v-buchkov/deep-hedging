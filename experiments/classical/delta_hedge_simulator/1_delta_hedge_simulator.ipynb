{
 "cells": [
  {
   "metadata": {
    "ExecuteTime": {
     "end_time": "2024-07-25T14:07:11.240643Z",
     "start_time": "2024-07-25T14:07:11.229663Z"
    }
   },
   "cell_type": "code",
   "source": [
    "%load_ext autoreload\n",
    "%autoreload 2"
   ],
   "id": "e546b46bae2170df",
   "outputs": [],
   "execution_count": 1
  },
  {
   "cell_type": "code",
   "id": "initial_id",
   "metadata": {
    "collapsed": true,
    "ExecuteTime": {
     "end_time": "2024-07-25T14:07:12.744525Z",
     "start_time": "2024-07-25T14:07:11.241427Z"
    }
   },
   "source": [
    "import datetime as dt\n",
    "\n",
    "import numpy as np\n",
    "import matplotlib.pyplot as plt\n",
    "\n",
    "from deep_hedging import (\n",
    "    Underlyings,\n",
    "    Ticker,\n",
    "    ConstantRateCurve,\n",
    "    EuropeanCall,\n",
    ")\n",
    "from deep_hedging.hedger import HedgeSimulator\n",
    "from deep_hedging.monte_carlo import GBMPricer\n",
    "\n",
    "RANDOM_SEED = 12"
   ],
   "outputs": [],
   "execution_count": 2
  },
  {
   "metadata": {
    "ExecuteTime": {
     "end_time": "2024-07-25T14:07:12.758727Z",
     "start_time": "2024-07-25T14:07:12.746153Z"
    }
   },
   "cell_type": "code",
   "source": [
    "N_PATHS = 100_000\n",
    "N_STOCKS = 1\n",
    "TILL_MATURITY = 3.0\n",
    "N_DAYS = 365 * TILL_MATURITY\n",
    "RF_RATE = 0.03\n",
    "VOL = 0.2"
   ],
   "id": "c8fa6851e24330e",
   "outputs": [],
   "execution_count": 3
  },
  {
   "metadata": {
    "ExecuteTime": {
     "end_time": "2024-07-25T14:07:12.774128Z",
     "start_time": "2024-07-25T14:07:12.759417Z"
    }
   },
   "cell_type": "code",
   "source": [
    "np.random.seed(RANDOM_SEED)\n",
    "\n",
    "start = dt.datetime(2019, 1, 1)\n",
    "end = start + dt.timedelta(days=N_DAYS)\n",
    "\n",
    "underlyings = Underlyings(\n",
    "    tickers=[Ticker(f\"Stock {i + 1}\", f\"{i + 1}\") for i in range(N_STOCKS)],\n",
    "    start=start,\n",
    "    end=end,\n",
    "    dividends=np.array([0.0] * N_STOCKS),\n",
    "    means=np.array([RF_RATE] * N_STOCKS),\n",
    "    var_covar=np.array([VOL**2] * N_STOCKS),\n",
    ")\n",
    "underlyings.data"
   ],
   "id": "b9a8df03adcd4db7",
   "outputs": [],
   "execution_count": 4
  },
  {
   "metadata": {
    "ExecuteTime": {
     "end_time": "2024-07-25T14:07:12.789646Z",
     "start_time": "2024-07-25T14:07:12.774766Z"
    }
   },
   "cell_type": "code",
   "source": "curve = ConstantRateCurve(constant_rate=RF_RATE)",
   "id": "3edcf795959a8653",
   "outputs": [],
   "execution_count": 5
  },
  {
   "metadata": {
    "ExecuteTime": {
     "end_time": "2024-07-25T14:07:12.802729Z",
     "start_time": "2024-07-25T14:07:12.790345Z"
    }
   },
   "cell_type": "code",
   "source": [
    "european_call = EuropeanCall(\n",
    "    underlyings=underlyings,\n",
    "    yield_curve=curve,\n",
    "    strike_level=1.0,\n",
    "    start_date=start,\n",
    "    end_date=end,\n",
    ")"
   ],
   "id": "2bf204be1dfb1a84",
   "outputs": [],
   "execution_count": 6
  },
  {
   "metadata": {
    "ExecuteTime": {
     "end_time": "2024-07-25T14:07:12.816422Z",
     "start_time": "2024-07-25T14:07:12.803426Z"
    }
   },
   "cell_type": "code",
   "source": "pricer = GBMPricer(payoff_function=european_call.payoff, random_seed=RANDOM_SEED)",
   "id": "460120d57cba9d32",
   "outputs": [],
   "execution_count": 7
  },
  {
   "metadata": {
    "ExecuteTime": {
     "end_time": "2024-07-25T14:07:16.114803Z",
     "start_time": "2024-07-25T14:07:12.817017Z"
    }
   },
   "cell_type": "code",
   "source": [
    "paths = pricer.get_paths(\n",
    "    spot=[1.0],\n",
    "    time_till_maturity=TILL_MATURITY,\n",
    "    risk_free_rate_fn=curve.get_instant_fwd_rate,\n",
    "    dividends_fn=lambda t: 0.0,\n",
    "    var_covar_fn=lambda t: np.array([VOL**2] * len(t)),\n",
    "    n_paths=N_PATHS,\n",
    ").squeeze(2)\n",
    "paths.shape"
   ],
   "id": "83384116e70913a2",
   "outputs": [
    {
     "data": {
      "text/plain": [
       "(100000, 757)"
      ]
     },
     "execution_count": 8,
     "metadata": {},
     "output_type": "execute_result"
    }
   ],
   "execution_count": 8
  },
  {
   "metadata": {
    "ExecuteTime": {
     "end_time": "2024-07-25T14:07:16.140260Z",
     "start_time": "2024-07-25T14:07:16.119937Z"
    }
   },
   "cell_type": "code",
   "source": "hedger = HedgeSimulator(european_call, look_ahead=True)",
   "id": "e0750a0792865d23",
   "outputs": [],
   "execution_count": 9
  },
  {
   "metadata": {
    "ExecuteTime": {
     "end_time": "2024-07-25T14:07:32.380655Z",
     "start_time": "2024-07-25T14:07:16.140976Z"
    }
   },
   "cell_type": "code",
   "source": [
    "pnl_hedge, pnl_opt = hedger.simulate(\n",
    "    bids=paths,\n",
    "    asks=paths,\n",
    "    rates_lend=curve(european_call.days_till_maturity) / 365,\n",
    "    rates_borrow=curve(european_call.days_till_maturity) / 365,\n",
    ")\n",
    "pnl_hedge.mean(), pnl_opt.mean()"
   ],
   "id": "d08e201e9650bc44",
   "outputs": [
    {
     "data": {
      "text/plain": [
       "(0.021178108966897022, 0.19572822393987255)"
      ]
     },
     "execution_count": 10,
     "metadata": {},
     "output_type": "execute_result"
    }
   ],
   "execution_count": 10
  },
  {
   "metadata": {
    "ExecuteTime": {
     "end_time": "2024-07-25T14:07:32.473209Z",
     "start_time": "2024-07-25T14:07:32.387178Z"
    }
   },
   "cell_type": "code",
   "source": "pnl_opt.std(), pnl_hedge.std(), (pnl_hedge - pnl_opt).std()",
   "id": "f06b84ca7706b307",
   "outputs": [
    {
     "data": {
      "text/plain": [
       "(0.30107502584781826, 0.30562672009191216, 0.00814353512928601)"
      ]
     },
     "execution_count": 11,
     "metadata": {},
     "output_type": "execute_result"
    }
   ],
   "execution_count": 11
  },
  {
   "metadata": {
    "ExecuteTime": {
     "end_time": "2024-07-25T14:07:32.495641Z",
     "start_time": "2024-07-25T14:07:32.473958Z"
    }
   },
   "cell_type": "code",
   "source": "np.corrcoef(pnl_hedge, pnl_opt)",
   "id": "728d7a47dd43e931",
   "outputs": [
    {
     "data": {
      "text/plain": [
       "array([[1.        , 0.99975222],\n",
       "       [0.99975222, 1.        ]])"
      ]
     },
     "execution_count": 12,
     "metadata": {},
     "output_type": "execute_result"
    }
   ],
   "execution_count": 12
  },
  {
   "metadata": {
    "ExecuteTime": {
     "end_time": "2024-07-25T14:07:32.512062Z",
     "start_time": "2024-07-25T14:07:32.496414Z"
    }
   },
   "cell_type": "code",
   "source": [
    "(\n",
    "    pnl_opt - european_call.price() * np.exp(RF_RATE * european_call.time_till_maturity)\n",
    ").mean()"
   ],
   "id": "a787b228340e80ad",
   "outputs": [
    {
     "data": {
      "text/plain": [
       "-0.0001238017003800206"
      ]
     },
     "execution_count": 13,
     "metadata": {},
     "output_type": "execute_result"
    }
   ],
   "execution_count": 13
  },
  {
   "metadata": {
    "ExecuteTime": {
     "end_time": "2024-07-25T14:07:32.527461Z",
     "start_time": "2024-07-25T14:07:32.512746Z"
    }
   },
   "cell_type": "code",
   "source": [
    "(\n",
    "    pnl_opt - european_call.price() * np.exp(RF_RATE * european_call.time_till_maturity)\n",
    ").std()"
   ],
   "id": "4cbbfcc02bfb596c",
   "outputs": [
    {
     "data": {
      "text/plain": [
       "0.30107502584781826"
      ]
     },
     "execution_count": 14,
     "metadata": {},
     "output_type": "execute_result"
    }
   ],
   "execution_count": 14
  },
  {
   "metadata": {
    "ExecuteTime": {
     "end_time": "2024-07-25T14:07:32.541572Z",
     "start_time": "2024-07-25T14:07:32.528224Z"
    }
   },
   "cell_type": "code",
   "source": [
    "(\n",
    "    pnl_opt\n",
    "    - pnl_hedge\n",
    "    - european_call.price() * np.exp(RF_RATE * european_call.time_till_maturity)\n",
    ").std()"
   ],
   "id": "60e91232ff3cd9ba",
   "outputs": [
    {
     "data": {
      "text/plain": [
       "0.00814353512928601"
      ]
     },
     "execution_count": 15,
     "metadata": {},
     "output_type": "execute_result"
    }
   ],
   "execution_count": 15
  },
  {
   "metadata": {
    "ExecuteTime": {
     "end_time": "2024-07-25T14:07:32.554492Z",
     "start_time": "2024-07-25T14:07:32.542251Z"
    }
   },
   "cell_type": "code",
   "source": "paths.shape",
   "id": "25d42734ef8ddd2b",
   "outputs": [
    {
     "data": {
      "text/plain": [
       "(100000, 757)"
      ]
     },
     "execution_count": 16,
     "metadata": {},
     "output_type": "execute_result"
    }
   ],
   "execution_count": 16
  },
  {
   "metadata": {
    "ExecuteTime": {
     "end_time": "2024-07-25T14:07:32.567981Z",
     "start_time": "2024-07-25T14:07:32.555115Z"
    }
   },
   "cell_type": "code",
   "source": [
    "example_spot = np.array([100, 100, 150]).reshape(1, -1, 1)\n",
    "example_weights = np.array([0.5, 1.0, 2.0]).reshape(1, -1)"
   ],
   "id": "dc78e2c21629674e",
   "outputs": [],
   "execution_count": 17
  },
  {
   "metadata": {
    "ExecuteTime": {
     "end_time": "2024-07-25T14:07:32.899542Z",
     "start_time": "2024-07-25T14:07:32.568636Z"
    }
   },
   "cell_type": "code",
   "source": [
    "plt.plot(np.sort(paths[:, -1]), pnl_opt[np.argsort(paths[:, -1])])\n",
    "plt.plot(np.sort(paths[:, -1]), pnl_hedge[np.argsort(paths[:, -1])])\n",
    "plt.show()"
   ],
   "id": "1b1ee23234412b30",
   "outputs": [
    {
     "data": {
      "text/plain": [
       "<Figure size 640x480 with 1 Axes>"
      ],
      "image/png": "[encoded data removed]"
     },
     "metadata": {},
     "output_type": "display_data"
    }
   ],
   "execution_count": 18
  },
  {
   "metadata": {
    "ExecuteTime": {
     "end_time": "2024-07-25T14:07:32.946761Z",
     "start_time": "2024-07-25T14:07:32.901195Z"
    }
   },
   "cell_type": "code",
   "source": [
    "value_opt = european_call.price(spot=paths[:, -1])\n",
    "value_opt.shape"
   ],
   "id": "a00c31e505f14001",
   "outputs": [
    {
     "data": {
      "text/plain": [
       "(100000, 1)"
      ]
     },
     "execution_count": 19,
     "metadata": {},
     "output_type": "execute_result"
    }
   ],
   "execution_count": 19
  },
  {
   "metadata": {
    "ExecuteTime": {
     "end_time": "2024-07-25T14:07:33.103701Z",
     "start_time": "2024-07-25T14:07:32.957883Z"
    }
   },
   "cell_type": "code",
   "source": [
    "plt.plot(np.sort(paths[:, -1]), value_opt[np.argsort(paths[:, -1])])\n",
    "plt.plot(np.sort(paths[:, -1]), pnl_opt[np.argsort(paths[:, -1])])\n",
    "# plt.plot(np.sort(paths[:, -1]), pnl_hedge[np.argsort(paths[:, -1])])\n",
    "plt.show()"
   ],
   "id": "55fcd19b531b02c6",
   "outputs": [
    {
     "data": {
      "text/plain": [
       "<Figure size 640x480 with 1 Axes>"
      ],
      "image/png": "[encoded data removed]"
     },
     "metadata": {},
     "output_type": "display_data"
    }
   ],
   "execution_count": 20
  },
  {
   "metadata": {
    "ExecuteTime": {
     "end_time": "2024-07-25T14:07:33.224748Z",
     "start_time": "2024-07-25T14:07:33.105548Z"
    }
   },
   "cell_type": "code",
   "source": [
    "plt.plot(np.sort(paths[:, -1]), value_opt[np.argsort(paths[:, -1])])\n",
    "# plt.plot(np.sort(paths[:, -1]), pnl_opt[np.argsort(paths[:, -1])])\n",
    "plt.plot(np.sort(paths[:, -1]), pnl_hedge[np.argsort(paths[:, -1])])\n",
    "plt.show()"
   ],
   "id": "d34cb3ac52aa8297",
   "outputs": [
    {
     "data": {
      "text/plain": [
       "<Figure size 640x480 with 1 Axes>"
      ],
      "image/png": "[encoded data removed]"
     },
     "metadata": {},
     "output_type": "display_data"
    }
   ],
   "execution_count": 21
  },
  {
   "metadata": {
    "ExecuteTime": {
     "end_time": "2024-07-25T14:07:33.251541Z",
     "start_time": "2024-07-25T14:07:33.225451Z"
    }
   },
   "cell_type": "code",
   "source": "np.sort(paths[:, -1])",
   "id": "df993c2997dab7c7",
   "outputs": [
    {
     "data": {
      "text/plain": [
       "array([0.24188876, 0.25198596, 0.26571973, ..., 4.26203288, 4.71964847,\n",
       "       6.01329925])"
      ]
     },
     "execution_count": 22,
     "metadata": {},
     "output_type": "execute_result"
    }
   ],
   "execution_count": 22
  },
  {
   "metadata": {
    "ExecuteTime": {
     "end_time": "2024-07-25T14:07:33.280548Z",
     "start_time": "2024-07-25T14:07:33.253615Z"
    }
   },
   "cell_type": "code",
   "source": "pnl_opt[np.argsort(paths[:, -1])].shape",
   "id": "baccf1651b5abf82",
   "outputs": [
    {
     "data": {
      "text/plain": [
       "(100000,)"
      ]
     },
     "execution_count": 23,
     "metadata": {},
     "output_type": "execute_result"
    }
   ],
   "execution_count": 23
  },
  {
   "metadata": {
    "ExecuteTime": {
     "end_time": "2024-07-25T14:07:33.299109Z",
     "start_time": "2024-07-25T14:07:33.282017Z"
    }
   },
   "cell_type": "code",
   "source": "pnl_opt",
   "id": "1e824e19a836b31f",
   "outputs": [
    {
     "data": {
      "text/plain": [
       "array([0.        , 0.        , 0.        , ..., 0.        , 0.01635643,\n",
       "       0.31403456])"
      ]
     },
     "execution_count": 24,
     "metadata": {},
     "output_type": "execute_result"
    }
   ],
   "execution_count": 24
  },
  {
   "metadata": {
    "ExecuteTime": {
     "end_time": "2024-07-25T14:07:33.427508Z",
     "start_time": "2024-07-25T14:07:33.300361Z"
    }
   },
   "cell_type": "code",
   "source": [
    "plt.plot(np.sort(paths[:, -1]), pnl_opt[np.argsort(paths[:, -1])])\n",
    "plt.plot(\n",
    "    np.sort(paths[:, -1]),\n",
    "    pnl_hedge[np.argsort(paths[:, -1])] + european_call.price().T.squeeze(1),\n",
    ")\n",
    "plt.show()"
   ],
   "id": "a6122ee5a653579e",
   "outputs": [
    {
     "data": {
      "text/plain": [
       "<Figure size 640x480 with 1 Axes>"
      ],
      "image/png": "[encoded data removed]"
     },
     "metadata": {},
     "output_type": "display_data"
    }
   ],
   "execution_count": 25
  }
 ],
 "metadata": {
  "kernelspec": {
   "display_name": "Python 3",
   "language": "python",
   "name": "python3"
  },
  "language_info": {
   "codemirror_mode": {
    "name": "ipython",
    "version": 2
   },
   "file_extension": ".py",
   "mimetype": "text/x-python",
   "name": "python",
   "nbconvert_exporter": "python",
   "pygments_lexer": "ipython2",
   "version": "2.7.6"
  }
 },
 "nbformat": 4,
 "nbformat_minor": 5
}
