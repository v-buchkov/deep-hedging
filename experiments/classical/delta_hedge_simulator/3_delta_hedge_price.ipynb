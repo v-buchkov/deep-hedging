{
 "cells": [
  {
   "metadata": {
    "ExecuteTime": {
     "end_time": "2024-07-25T14:31:45.877797Z",
     "start_time": "2024-07-25T14:31:45.866662Z"
    }
   },
   "cell_type": "code",
   "source": [
    "%load_ext autoreload\n",
    "%autoreload 2"
   ],
   "id": "e546b46bae2170df",
   "outputs": [],
   "execution_count": 1
  },
  {
   "cell_type": "code",
   "id": "initial_id",
   "metadata": {
    "collapsed": true,
    "ExecuteTime": {
     "end_time": "2024-07-25T14:31:47.443269Z",
     "start_time": "2024-07-25T14:31:45.878798Z"
    }
   },
   "source": [
    "import datetime as dt\n",
    "\n",
    "import numpy as np\n",
    "\n",
    "from deep_hedging import (\n",
    "    Underlyings,\n",
    "    Ticker,\n",
    "    ConstantRateCurve,\n",
    "    EuropeanCall,\n",
    ")\n",
    "from deep_hedging.hedger import HedgeSimulator\n",
    "from deep_hedging.monte_carlo import GBMSimulator\n",
    "\n",
    "RANDOM_SEED = 12"
   ],
   "outputs": [],
   "execution_count": 2
  },
  {
   "metadata": {
    "ExecuteTime": {
     "end_time": "2024-07-25T14:31:47.456565Z",
     "start_time": "2024-07-25T14:31:47.444117Z"
    }
   },
   "cell_type": "code",
   "source": [
    "N_PATHS = 100_000\n",
    "N_STOCKS = 1\n",
    "TILL_MATURITY = 3.0\n",
    "N_DAYS = 365 * TILL_MATURITY\n",
    "RF_RATE = 0.03\n",
    "VOL = 0.2"
   ],
   "id": "c8fa6851e24330e",
   "outputs": [],
   "execution_count": 3
  },
  {
   "metadata": {
    "ExecuteTime": {
     "end_time": "2024-07-25T14:31:47.470480Z",
     "start_time": "2024-07-25T14:31:47.457349Z"
    }
   },
   "cell_type": "code",
   "source": [
    "np.random.seed(RANDOM_SEED)\n",
    "\n",
    "start = dt.datetime(2019, 1, 1)\n",
    "end = start + dt.timedelta(days=N_DAYS)\n",
    "\n",
    "underlyings = Underlyings(\n",
    "    tickers=[Ticker(f\"Stock {i + 1}\", f\"{i + 1}\") for i in range(N_STOCKS)],\n",
    "    start=start,\n",
    "    end=end,\n",
    "    dividends=np.array([0.0] * N_STOCKS),\n",
    "    means=np.array([RF_RATE] * N_STOCKS),\n",
    "    var_covar=np.array([VOL**2] * N_STOCKS),\n",
    ")\n",
    "underlyings.data"
   ],
   "id": "b9a8df03adcd4db7",
   "outputs": [],
   "execution_count": 4
  },
  {
   "metadata": {
    "ExecuteTime": {
     "end_time": "2024-07-25T14:31:47.486164Z",
     "start_time": "2024-07-25T14:31:47.472237Z"
    }
   },
   "cell_type": "code",
   "source": "curve = ConstantRateCurve(constant_rate=RF_RATE)",
   "id": "3edcf795959a8653",
   "outputs": [],
   "execution_count": 5
  },
  {
   "metadata": {
    "ExecuteTime": {
     "end_time": "2024-07-25T14:31:47.498807Z",
     "start_time": "2024-07-25T14:31:47.486845Z"
    }
   },
   "cell_type": "code",
   "source": [
    "european_call = EuropeanCall(\n",
    "    underlyings=underlyings,\n",
    "    yield_curve=curve,\n",
    "    strike_level=1.0,\n",
    "    start_date=start,\n",
    "    end_date=end,\n",
    ")"
   ],
   "id": "2bf204be1dfb1a84",
   "outputs": [],
   "execution_count": 6
  },
  {
   "metadata": {
    "ExecuteTime": {
     "end_time": "2024-07-25T14:31:47.512324Z",
     "start_time": "2024-07-25T14:31:47.499713Z"
    }
   },
   "cell_type": "code",
   "source": "pricer = GBMSimulator(payoff_function=european_call.payoff, random_seed=RANDOM_SEED)",
   "id": "460120d57cba9d32",
   "outputs": [],
   "execution_count": 7
  },
  {
   "metadata": {
    "ExecuteTime": {
     "end_time": "2024-07-25T14:31:49.997579Z",
     "start_time": "2024-07-25T14:31:47.513039Z"
    }
   },
   "cell_type": "code",
   "source": [
    "paths = pricer.get_paths(\n",
    "    spot=[1.0],\n",
    "    time_till_maturity=TILL_MATURITY,\n",
    "    risk_free_rate_fn=curve.get_instant_fwd_rate,\n",
    "    dividends_fn=lambda t: 0.0,\n",
    "    var_covar_fn=lambda t: np.array([VOL**2] * len(t)),\n",
    "    n_paths=N_PATHS,\n",
    ").squeeze(2)\n",
    "paths.shape"
   ],
   "id": "83384116e70913a2",
   "outputs": [
    {
     "data": {
      "text/plain": [
       "(100000, 757)"
      ]
     },
     "execution_count": 8,
     "metadata": {},
     "output_type": "execute_result"
    }
   ],
   "execution_count": 8
  },
  {
   "metadata": {
    "ExecuteTime": {
     "end_time": "2024-07-25T14:31:50.009997Z",
     "start_time": "2024-07-25T14:31:49.998289Z"
    }
   },
   "cell_type": "code",
   "source": "hedger = HedgeSimulator(european_call, look_ahead=True)",
   "id": "e0750a0792865d23",
   "outputs": [],
   "execution_count": 9
  },
  {
   "metadata": {
    "ExecuteTime": {
     "end_time": "2024-07-25T14:32:04.812729Z",
     "start_time": "2024-07-25T14:31:50.010664Z"
    }
   },
   "cell_type": "code",
   "source": [
    "simulated_price = hedger.price(\n",
    "    bids=paths,\n",
    "    asks=paths,\n",
    "    rates_lend=curve(european_call.days_till_maturity) / 365,\n",
    "    rates_borrow=curve(european_call.days_till_maturity) / 365,\n",
    ")\n",
    "simulated_price, european_call.price().item()"
   ],
   "id": "d08e201e9650bc44",
   "outputs": [
    {
     "data": {
      "text/plain": [
       "(0.17455011497297554, 0.17899527393116704)"
      ]
     },
     "execution_count": 10,
     "metadata": {},
     "output_type": "execute_result"
    }
   ],
   "execution_count": 10
  },
  {
   "metadata": {},
   "cell_type": "markdown",
   "source": [
    "### To model:\n",
    "* interest rate by HWM\n",
    "* bid-offer spread, correlated with vol of \n",
    "* (Adv.) interest rate, correlated to Sber\n",
    "* HestonSimulator\n",
    "* hedging frequency\n",
    "* LSTMHedger"
   ],
   "id": "7c551e23135a9033"
  }
 ],
 "metadata": {
  "kernelspec": {
   "display_name": "Python 3",
   "language": "python",
   "name": "python3"
  },
  "language_info": {
   "codemirror_mode": {
    "name": "ipython",
    "version": 2
   },
   "file_extension": ".py",
   "mimetype": "text/x-python",
   "name": "python",
   "nbconvert_exporter": "python",
   "pygments_lexer": "ipython2",
   "version": "2.7.6"
  }
 },
 "nbformat": 4,
 "nbformat_minor": 5
}
