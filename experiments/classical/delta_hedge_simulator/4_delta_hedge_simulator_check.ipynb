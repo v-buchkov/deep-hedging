{
 "cells": [
  {
   "metadata": {
    "ExecuteTime": {
     "end_time": "2024-10-15T21:16:27.374382Z",
     "start_time": "2024-10-15T21:16:27.363633Z"
    }
   },
   "cell_type": "code",
   "source": [
    "%load_ext autoreload\n",
    "%autoreload 2"
   ],
   "id": "e546b46bae2170df",
   "outputs": [],
   "execution_count": 1
  },
  {
   "cell_type": "code",
   "id": "initial_id",
   "metadata": {
    "collapsed": true,
    "ExecuteTime": {
     "end_time": "2024-10-15T21:16:29.599280Z",
     "start_time": "2024-10-15T21:16:27.384092Z"
    }
   },
   "source": [
    "import datetime as dt\n",
    "\n",
    "import numpy as np\n",
    "import matplotlib.pyplot as plt\n",
    "\n",
    "from deep_hedging import (\n",
    "    Underlyings,\n",
    "    Ticker,\n",
    "    ConstantRateCurve,\n",
    "    EuropeanCall,\n",
    ")\n",
    "from deep_hedging.hedger import Hedger\n",
    "from deep_hedging.monte_carlo import GBMSimulator\n",
    "\n",
    "RANDOM_SEED = 12"
   ],
   "outputs": [],
   "execution_count": 2
  },
  {
   "metadata": {
    "ExecuteTime": {
     "end_time": "2024-10-15T21:16:30.398967Z",
     "start_time": "2024-10-15T21:16:29.677896Z"
    }
   },
   "cell_type": "code",
   "source": [
    "N_PATHS = 10_000\n",
    "N_STOCKS = 1\n",
    "N_DAYS = 3\n",
    "RF_RATE = 0.2\n",
    "STRIKE_LEVEL = 1.0\n",
    "VOL = 0.2"
   ],
   "id": "c8fa6851e24330e",
   "outputs": [],
   "execution_count": 3
  },
  {
   "metadata": {
    "ExecuteTime": {
     "end_time": "2024-10-15T21:16:30.526612Z",
     "start_time": "2024-10-15T21:16:30.510258Z"
    }
   },
   "cell_type": "code",
   "source": [
    "np.random.seed(RANDOM_SEED)\n",
    "\n",
    "start = dt.datetime(2019, 1, 1)\n",
    "end = start + dt.timedelta(days=N_DAYS)\n",
    "\n",
    "underlyings = Underlyings(\n",
    "    tickers=[Ticker(f\"Stock {i + 1}\", f\"{i + 1}\") for i in range(N_STOCKS)],\n",
    "    start=start,\n",
    "    end=end,\n",
    "    dividends=np.array([0.0] * N_STOCKS),\n",
    "    means=np.array([RF_RATE] * N_STOCKS),\n",
    "    var_covar=np.array([VOL**2] * N_STOCKS),\n",
    ")\n",
    "underlyings.data"
   ],
   "id": "b9a8df03adcd4db7",
   "outputs": [],
   "execution_count": 4
  },
  {
   "metadata": {
    "ExecuteTime": {
     "end_time": "2024-10-15T21:16:30.558730Z",
     "start_time": "2024-10-15T21:16:30.541771Z"
    }
   },
   "cell_type": "code",
   "source": "curve = ConstantRateCurve(constant_rate=RF_RATE)",
   "id": "3edcf795959a8653",
   "outputs": [],
   "execution_count": 5
  },
  {
   "metadata": {
    "ExecuteTime": {
     "end_time": "2024-10-15T21:16:30.589188Z",
     "start_time": "2024-10-15T21:16:30.575249Z"
    }
   },
   "cell_type": "code",
   "source": [
    "european_call = EuropeanCall(\n",
    "    underlyings=underlyings,\n",
    "    yield_curve=curve,\n",
    "    strike_level=STRIKE_LEVEL,\n",
    "    start_date=start,\n",
    "    end_date=end,\n",
    ")"
   ],
   "id": "2bf204be1dfb1a84",
   "outputs": [],
   "execution_count": 6
  },
  {
   "metadata": {
    "ExecuteTime": {
     "end_time": "2024-10-15T21:16:30.617569Z",
     "start_time": "2024-10-15T21:16:30.603138Z"
    }
   },
   "cell_type": "code",
   "source": "pricer = GBMSimulator(payoff_function=european_call.payoff, random_seed=RANDOM_SEED)",
   "id": "460120d57cba9d32",
   "outputs": [],
   "execution_count": 7
  },
  {
   "metadata": {
    "ExecuteTime": {
     "end_time": "2024-10-15T21:16:30.651595Z",
     "start_time": "2024-10-15T21:16:30.632299Z"
    }
   },
   "cell_type": "code",
   "source": [
    "paths = pricer.get_paths(\n",
    "    spot=[1.0],\n",
    "    time_till_maturity=N_DAYS / 365,\n",
    "    risk_free_rate_fn=curve.get_instant_fwd_rate,\n",
    "    dividends_fn=lambda t: 0.0,\n",
    "    var_covar_fn=lambda t: np.array([VOL**2] * len(t)),\n",
    "    n_paths=N_PATHS,\n",
    ").squeeze(2)\n",
    "paths.shape"
   ],
   "id": "83384116e70913a2",
   "outputs": [
    {
     "data": {
      "text/plain": [
       "(10000, 4)"
      ]
     },
     "execution_count": 8,
     "metadata": {},
     "output_type": "execute_result"
    }
   ],
   "execution_count": 8
  },
  {
   "metadata": {
    "ExecuteTime": {
     "end_time": "2024-10-15T21:16:30.688645Z",
     "start_time": "2024-10-15T21:16:30.674223Z"
    }
   },
   "cell_type": "code",
   "source": "hedger = Hedger(european_call, look_ahead=True)",
   "id": "e0750a0792865d23",
   "outputs": [],
   "execution_count": 9
  },
  {
   "metadata": {
    "ExecuteTime": {
     "end_time": "2024-10-15T21:20:38.869797Z",
     "start_time": "2024-10-15T21:20:38.657814Z"
    }
   },
   "cell_type": "code",
   "source": [
    "pnl_hedge, pnl_opt = hedger.simulate(\n",
    "    bids=paths,\n",
    "    asks=paths,\n",
    "    rates_lend=curve(european_call.days_till_maturity) / 365,\n",
    "    rates_borrow=curve(european_call.days_till_maturity) / 365,\n",
    ")\n",
    "pnl_hedge.mean(), pnl_opt.mean()"
   ],
   "id": "d08e201e9650bc44",
   "outputs": [
    {
     "name": "stdout",
     "output_type": "stream",
     "text": [
      "[[1.00054795 1.00109619 1.00164474]\n",
      " [1.00054795 1.00109619 1.00164474]\n",
      " [1.00054795 1.00109619 1.00164474]\n",
      " ...\n",
      " [1.00054795 1.00109619 1.00164474]\n",
      " [1.00054795 1.00109619 1.00164474]\n",
      " [1.00054795 1.00109619 1.00164474]]\n"
     ]
    },
    {
     "data": {
      "text/plain": [
       "(-0.000514505796458699, 0.010043150478230223)"
      ]
     },
     "execution_count": 18,
     "metadata": {},
     "output_type": "execute_result"
    }
   ],
   "execution_count": 18
  },
  {
   "metadata": {
    "ExecuteTime": {
     "end_time": "2024-10-15T21:16:30.806365Z",
     "start_time": "2024-10-15T21:06:00.262660Z"
    }
   },
   "cell_type": "code",
   "source": "-0.53971893 / 365 * RF_RATE",
   "id": "92c90432fad27a04",
   "outputs": [
    {
     "data": {
      "text/plain": [
       "-0.00029573640000000003"
      ]
     },
     "execution_count": 235,
     "metadata": {},
     "output_type": "execute_result"
    }
   ],
   "execution_count": 235
  },
  {
   "metadata": {
    "ExecuteTime": {
     "end_time": "2024-10-15T21:23:18.260435Z",
     "start_time": "2024-10-15T21:23:17.717590Z"
    }
   },
   "cell_type": "code",
   "source": "np.exp(0.03 / 365 * 100)",
   "id": "4063f109244dae20",
   "outputs": [
    {
     "data": {
      "text/plain": [
       "1.0082530482577738"
      ]
     },
     "execution_count": 20,
     "metadata": {},
     "output_type": "execute_result"
    }
   ],
   "execution_count": 20
  },
  {
   "metadata": {
    "ExecuteTime": {
     "end_time": "2024-10-15T21:16:30.806705Z",
     "start_time": "2024-10-15T21:06:00.350179Z"
    }
   },
   "cell_type": "code",
   "source": "-0.80632745 / 365 * RF_RATE",
   "id": "93ceda1e54012c27",
   "outputs": [
    {
     "data": {
      "text/plain": [
       "-0.00044182326027397256"
      ]
     },
     "execution_count": 236,
     "metadata": {},
     "output_type": "execute_result"
    }
   ],
   "execution_count": 236
  },
  {
   "metadata": {
    "ExecuteTime": {
     "end_time": "2024-10-15T21:16:30.806842Z",
     "start_time": "2024-10-15T21:06:00.409352Z"
    }
   },
   "cell_type": "code",
   "source": "paths[0]",
   "id": "ca82d04abcbf60d3",
   "outputs": [
    {
     "data": {
      "text/plain": [
       "array([1.        , 1.00546339, 0.99880483, 1.00183926, 0.98463475,\n",
       "       0.99292391, 0.9775711 , 0.97810647, 0.97735789, 0.96960934,\n",
       "       0.99971527, 0.99396488, 0.99938976, 1.01142877, 0.99912876,\n",
       "       1.01377796, 1.01298168, 1.02428873, 1.01503095, 1.00463889,\n",
       "       1.01795435, 1.02382559, 1.02582222, 1.03324103, 1.03947764,\n",
       "       1.02749082, 1.0044378 , 0.98738496, 0.96954103, 0.94773655,\n",
       "       0.9417956 , 0.93705954, 0.93713738, 0.93971408, 0.93640038,\n",
       "       0.93437439, 0.93555352, 0.92628878, 0.919842  , 0.92063783,\n",
       "       0.91457436, 0.90956084, 0.9090015 , 0.92226621, 0.92580707,\n",
       "       0.92299445, 0.91780606, 0.91715463, 0.93941169, 0.90939285,\n",
       "       0.9149567 , 0.91764075, 0.9264762 , 0.91585145, 0.93682508,\n",
       "       0.94716722, 0.9471248 , 0.94918006, 0.94255019, 0.94351496,\n",
       "       0.94256464, 0.95239764, 0.95644464, 0.95608091, 0.96336912,\n",
       "       0.96947569, 0.97222015, 0.95724498, 0.96809918, 0.95681621,\n",
       "       0.94721828, 0.94664167, 0.95220284, 0.96682586, 0.95035244,\n",
       "       0.96558919, 0.98276977, 0.97851428, 0.97693472, 0.97158002,\n",
       "       0.96593605, 0.95294844, 0.93669227, 0.93520016, 0.93819203,\n",
       "       0.9568112 , 0.94729826, 0.92722523, 0.92910855, 0.92503739,\n",
       "       0.9289543 , 0.92554745, 0.91387   , 0.90774714, 0.91586368,\n",
       "       0.9189344 , 0.91010141, 0.9189062 , 0.90553566, 0.90090571,\n",
       "       0.9032214 , 0.89083203, 0.88018966, 0.88077141, 0.88046788,\n",
       "       0.87859144, 0.87383686, 0.86422795, 0.85759817, 0.88580101,\n",
       "       0.8804452 , 0.89488606, 0.8898364 , 0.90310541, 0.91528844,\n",
       "       0.92007602, 0.91436613, 0.90171095, 0.91132938, 0.89959777,\n",
       "       0.88810493, 0.90283163, 0.91721663, 0.91803172, 0.91611943,\n",
       "       0.91021584, 0.91402318, 0.90984961, 0.89598433, 0.8892856 ,\n",
       "       0.8920505 , 0.87775075, 0.86921938, 0.87076778, 0.88675182,\n",
       "       0.88884329, 0.88958052, 0.90822762, 0.89862244, 0.89219274,\n",
       "       0.90054852, 0.91121341, 0.91604494, 0.8916904 , 0.89906434,\n",
       "       0.90582012, 0.90670816, 0.91350775, 0.92753867, 0.92849417,\n",
       "       0.91988917, 0.90278244, 0.903832  , 0.89754046, 0.8927138 ,\n",
       "       0.88262178, 0.88559868, 0.89289292, 0.89740757, 0.88737801,\n",
       "       0.89612372, 0.89952502, 0.87681658, 0.88274292, 0.86454326,\n",
       "       0.85471766, 0.8646668 , 0.87102967, 0.86559644, 0.85804623,\n",
       "       0.86158442, 0.84593656, 0.85000354, 0.84782763, 0.85479497,\n",
       "       0.85409363, 0.84482709, 0.84703688, 0.8443553 , 0.83228817,\n",
       "       0.82261105, 0.81438396, 0.81521327, 0.82218197, 0.82234239,\n",
       "       0.81242291, 0.80958194, 0.81480573, 0.82446035, 0.81678199,\n",
       "       0.8196168 , 0.8166756 , 0.79884781, 0.78847596, 0.78420019,\n",
       "       0.78034406, 0.77749852, 0.77297878, 0.77634266, 0.76896216,\n",
       "       0.75659204, 0.76100087, 0.75646073, 0.76312993, 0.75686233,\n",
       "       0.76769491, 0.75817171, 0.7490491 , 0.75490412, 0.76948397,\n",
       "       0.76346874, 0.7765109 , 0.78937739, 0.79632947, 0.79491193,\n",
       "       0.77731544, 0.76503553, 0.75894891, 0.76331527, 0.76214578,\n",
       "       0.75723517, 0.75827237, 0.745581  , 0.74892543, 0.74182376,\n",
       "       0.75212895, 0.75368788, 0.74804047, 0.74421158, 0.73211692,\n",
       "       0.73374558, 0.72637606, 0.72585685, 0.73494009, 0.7379112 ,\n",
       "       0.74196235, 0.76313685, 0.76906139, 0.77845037, 0.77673536,\n",
       "       0.76744394, 0.76963121, 0.76068358, 0.73739106, 0.74235995,\n",
       "       0.74530945, 0.73734445, 0.74774083, 0.74744025, 0.74408505,\n",
       "       0.73697492, 0.74630629, 0.74320339, 0.73961133, 0.73630386,\n",
       "       0.73058542, 0.71809643, 0.71289468, 0.70664541, 0.71215583,\n",
       "       0.70273949, 0.7081317 , 0.7046107 , 0.69894076, 0.69798842,\n",
       "       0.69857098, 0.69965786, 0.70423963, 0.70614194, 0.69506617,\n",
       "       0.69037719, 0.70257372, 0.70203279, 0.6853102 , 0.68685106,\n",
       "       0.69953728, 0.70850532, 0.70926631, 0.7112381 , 0.71641794,\n",
       "       0.71558448, 0.71228127, 0.72492182, 0.72223792, 0.7302755 ,\n",
       "       0.71866156, 0.71310333, 0.70486471, 0.70825225, 0.70391736,\n",
       "       0.6994797 , 0.69307638, 0.69445941, 0.70193892, 0.69788723,\n",
       "       0.70268656, 0.70289664, 0.69867981, 0.7015676 , 0.71181769,\n",
       "       0.69299809, 0.69840841, 0.71179935, 0.71085914, 0.71692081,\n",
       "       0.72465306, 0.72895277, 0.73121893, 0.74164551, 0.75074153,\n",
       "       0.75257848, 0.75819765, 0.7514154 , 0.7505359 , 0.75194458,\n",
       "       0.75197048, 0.74710858, 0.75745099, 0.76061369, 0.76689263,\n",
       "       0.75689232, 0.75322053, 0.74814297, 0.74707493, 0.76073332,\n",
       "       0.78157745, 0.78361137, 0.78709643, 0.78589193, 0.7818746 ,\n",
       "       0.78959101, 0.78663023, 0.77851208, 0.78412825, 0.78323034,\n",
       "       0.78634223, 0.78938109, 0.79792872, 0.80366617, 0.81196243,\n",
       "       0.81166016, 0.81140209, 0.81530066, 0.81805895, 0.8229784 ,\n",
       "       0.82683106, 0.84646721, 0.84547341, 0.85046418, 0.85238567,\n",
       "       0.86513862, 0.85898295, 0.84863697, 0.86006043, 0.86754081,\n",
       "       0.86993308, 0.86371582, 0.87590659, 0.88052841, 0.8757066 ,\n",
       "       0.87187813, 0.86654758, 0.87990954, 0.87880291, 0.86992767,\n",
       "       0.86508842, 0.87574184, 0.88187936, 0.87584686, 0.86568776,\n",
       "       0.86087507, 0.86382884, 0.86055515, 0.85585716, 0.85646741,\n",
       "       0.85173439, 0.84235928, 0.83041888, 0.82268843, 0.81689084,\n",
       "       0.81945058, 0.82052993, 0.8137667 , 0.82355961, 0.81355257,\n",
       "       0.82218083, 0.81258538, 0.81014648, 0.81760266, 0.82545246,\n",
       "       0.81849293, 0.8195135 , 0.8103043 , 0.80895435, 0.8129361 ,\n",
       "       0.80864569, 0.82169499, 0.82638279, 0.83272477, 0.82821637,\n",
       "       0.82748214, 0.83050429, 0.83850205, 0.84516267, 0.84199958,\n",
       "       0.83504255, 0.82515362, 0.84427304, 0.85479799, 0.86835233,\n",
       "       0.86744235, 0.88650007, 0.89172899, 0.89439623, 0.8899242 ,\n",
       "       0.87729335, 0.88402827, 0.88515747, 0.88556099, 0.87356689,\n",
       "       0.85585826, 0.84638339, 0.8547041 , 0.87235254, 0.86683922,\n",
       "       0.86427981, 0.85060131, 0.84204879, 0.8452914 , 0.83888649,\n",
       "       0.84019834, 0.85153688, 0.8502848 , 0.84043011, 0.85562795,\n",
       "       0.86151065, 0.86379007, 0.86708117, 0.86553636, 0.87225922,\n",
       "       0.86007093, 0.86030715, 0.85012372, 0.84991433, 0.85607257,\n",
       "       0.85495598, 0.87126187, 0.87141345, 0.86555855, 0.86892228,\n",
       "       0.8715578 , 0.87509045, 0.87603424, 0.8756351 , 0.88479797,\n",
       "       0.87033015, 0.87769478, 0.87290935, 0.87241535, 0.86482159,\n",
       "       0.87684109, 0.85856472, 0.84801211, 0.84469801, 0.85121074,\n",
       "       0.83994125, 0.8449753 , 0.85508069, 0.84749031, 0.82548505,\n",
       "       0.8324376 , 0.83136668, 0.8309727 , 0.8407979 , 0.84792244,\n",
       "       0.84330855, 0.84506252, 0.8376986 , 0.84204586, 0.84182611,\n",
       "       0.84674694, 0.84148278, 0.8438436 , 0.84720582, 0.85268405,\n",
       "       0.85384693, 0.83630506, 0.84117656, 0.83119515, 0.8405502 ,\n",
       "       0.8407971 , 0.84118934, 0.83589423, 0.85181578, 0.84532248,\n",
       "       0.85814188, 0.87346062, 0.90336601, 0.91701065, 0.91672081,\n",
       "       0.9084547 , 0.90212482, 0.88886187, 0.90248493, 0.9065179 ,\n",
       "       0.8969174 , 0.9049061 , 0.90673252, 0.91754233, 0.9219991 ,\n",
       "       0.91250199, 0.9150843 , 0.92491407, 0.92701783, 0.92907979,\n",
       "       0.9180944 , 0.91297954, 0.91455968, 0.92331489, 0.9187219 ,\n",
       "       0.91615545, 0.93797563, 0.92954142, 0.92824081, 0.91984596,\n",
       "       0.92073554, 0.92955842, 0.93855083, 0.943476  , 0.95695959,\n",
       "       0.95776227, 0.96526176, 0.95602945, 0.96719919, 0.96174277,\n",
       "       0.97565861, 0.96583695, 0.96981326, 0.97364263, 0.97745775,\n",
       "       0.97669077, 0.99364826, 0.99861276, 0.98739579, 0.98280064,\n",
       "       0.99643501, 0.98784121, 1.00776721, 1.00462793, 0.98621664,\n",
       "       0.99622247, 0.9874793 , 0.95030073, 0.9510877 , 0.93878965,\n",
       "       0.94112028, 0.94845018, 0.95692386, 0.95509532, 0.93964364,\n",
       "       0.9529158 , 0.95428431, 0.95519094, 0.94018499, 0.93362871,\n",
       "       0.93537533, 0.93363594, 0.93552022, 0.92608565, 0.90987335,\n",
       "       0.91328685, 0.91209856, 0.92287424, 0.93635324, 0.93513691,\n",
       "       0.93190765, 0.94502704, 0.95452311, 0.94606355, 0.96520961,\n",
       "       0.96840415, 0.96724826, 0.95437078, 0.95118096, 0.95730992,\n",
       "       0.96152165, 0.9764623 , 0.98706955, 0.97752386, 0.97584783,\n",
       "       0.97269029, 0.96571733, 0.95879392, 0.94980879, 0.94074591,\n",
       "       0.94020498, 0.94397554, 0.95653113, 0.94839771, 0.94337918,\n",
       "       0.91316088, 0.91176522, 0.91388743, 0.90893006, 0.90960074,\n",
       "       0.90209717, 0.8950773 , 0.8820015 , 0.87208407, 0.8554171 ,\n",
       "       0.86622758, 0.8740144 , 0.87486084, 0.87387846, 0.88806321,\n",
       "       0.89335107, 0.88717408, 0.8881544 , 0.89171862, 0.89481962,\n",
       "       0.89819938, 0.8829965 , 0.876183  , 0.85838611, 0.86163132,\n",
       "       0.85837632, 0.84735915, 0.86756145, 0.87981148, 0.87573715,\n",
       "       0.88387086, 0.87866822, 0.88804643, 0.89610378, 0.89199255,\n",
       "       0.8981552 , 0.91601356, 0.92654763, 0.91605346, 0.9210865 ,\n",
       "       0.92979082, 0.93327789, 0.94566806, 0.94031586, 0.91897564,\n",
       "       0.93542559, 0.92602429, 0.926441  , 0.91302183, 0.9225729 ,\n",
       "       0.91390189, 0.91671825, 0.91830682, 0.93423127, 0.95488053,\n",
       "       0.96438931, 0.97665206, 0.98099316, 0.98498632, 0.97770774,\n",
       "       0.98489125, 0.96557159, 0.97573424, 0.97810238, 0.9790666 ,\n",
       "       0.99217734, 0.9740369 , 0.96530295, 0.97200089, 0.96956948,\n",
       "       0.97657805, 0.97506495, 0.96411001, 0.96939575, 0.9723207 ,\n",
       "       0.97873054, 0.98497369, 1.00705655, 0.99778167, 0.99240015,\n",
       "       1.00843964, 1.00030342, 1.00229007, 1.01497462, 1.02007897,\n",
       "       1.02619152, 1.02639747, 1.00788625, 1.01647028, 1.02654599,\n",
       "       1.03208995, 1.02836064, 1.03158186, 1.0403333 , 1.03716356,\n",
       "       1.03255264, 1.0216684 , 1.02739493, 1.01491822, 1.01054926,\n",
       "       1.0257498 , 1.00469129, 0.99711657, 1.00748793, 1.00532038,\n",
       "       1.01860884, 1.00666061, 0.9976093 , 1.01028718, 1.00033421,\n",
       "       1.00137342, 0.99919596, 1.0143483 , 1.00323854, 1.00481317,\n",
       "       1.01479793, 1.02939594, 1.03194124, 1.04175968, 1.03582742,\n",
       "       1.05840351, 1.06522106, 1.07577312, 1.09817847, 1.10326721,\n",
       "       1.10560289, 1.11621666, 1.13423309, 1.11946477, 1.10137984,\n",
       "       1.11049619, 1.10995572, 1.11199368, 1.13766754, 1.1369937 ,\n",
       "       1.13748618, 1.15408728, 1.14559771, 1.14894211, 1.14790571,\n",
       "       1.15132406, 1.15546902, 1.14223491, 1.13773982, 1.13142584,\n",
       "       1.11632047, 1.12191764, 1.11482756, 1.10171095, 1.08363797,\n",
       "       1.07836163, 1.06533087, 1.06987075, 1.08087353, 1.0755743 ,\n",
       "       1.06748634, 1.06275333, 1.07068724])"
      ]
     },
     "execution_count": 237,
     "metadata": {},
     "output_type": "execute_result"
    }
   ],
   "execution_count": 237
  },
  {
   "metadata": {
    "ExecuteTime": {
     "end_time": "2024-10-15T21:16:30.807386Z",
     "start_time": "2024-10-15T21:06:00.463257Z"
    }
   },
   "cell_type": "code",
   "source": "pnl_hedge",
   "id": "555dc86e6583a2fb",
   "outputs": [
    {
     "data": {
      "text/plain": [
       "array([-0.38101717, -0.15868814, -0.29871238, ..., -0.25902852,\n",
       "        0.32268337,  0.28595688])"
      ]
     },
     "execution_count": 238,
     "metadata": {},
     "output_type": "execute_result"
    }
   ],
   "execution_count": 238
  },
  {
   "metadata": {
    "ExecuteTime": {
     "end_time": "2024-10-15T21:16:30.807583Z",
     "start_time": "2024-10-15T21:06:00.490871Z"
    }
   },
   "cell_type": "code",
   "source": "RF_RATE * european_call.time_till_maturity",
   "id": "fbb3dd80a53155cd",
   "outputs": [
    {
     "data": {
      "text/plain": [
       "0.41479452054794524"
      ]
     },
     "execution_count": 239,
     "metadata": {},
     "output_type": "execute_result"
    }
   ],
   "execution_count": 239
  },
  {
   "metadata": {
    "ExecuteTime": {
     "end_time": "2024-10-15T21:20:46.822127Z",
     "start_time": "2024-10-15T21:20:46.797416Z"
    }
   },
   "cell_type": "code",
   "source": "(pnl_opt - pnl_hedge).mean() * np.exp(-RF_RATE * european_call.time_till_maturity)",
   "id": "68d951bdc7393a9f",
   "outputs": [
    {
     "data": {
      "text/plain": [
       "0.01054031547989138"
      ]
     },
     "execution_count": 19,
     "metadata": {},
     "output_type": "execute_result"
    }
   ],
   "execution_count": 19
  },
  {
   "metadata": {
    "ExecuteTime": {
     "end_time": "2024-10-15T21:16:30.807837Z",
     "start_time": "2024-10-15T21:06:00.543062Z"
    }
   },
   "cell_type": "code",
   "source": [
    "# pnl_hedge_fix, _, _ = hedger.simulate(\n",
    "#     bids=paths,\n",
    "#     asks=paths,\n",
    "#     rates_lend=curve(european_call.days_till_maturity) / 365,\n",
    "#     rates_borrow=curve(european_call.days_till_maturity) / 365,\n",
    "#     weights=np.ones(paths.shape) * european_call.delta()\n",
    "# )"
   ],
   "id": "9eaa69925981483f",
   "outputs": [],
   "execution_count": 241
  },
  {
   "metadata": {
    "ExecuteTime": {
     "end_time": "2024-10-15T21:16:30.807934Z",
     "start_time": "2024-10-15T21:06:00.567789Z"
    }
   },
   "cell_type": "code",
   "source": "(np.ones(paths.shape) * european_call.delta()).shape",
   "id": "9a898c25405bf4bc",
   "outputs": [
    {
     "data": {
      "text/plain": [
       "(10000, 758)"
      ]
     },
     "execution_count": 242,
     "metadata": {},
     "output_type": "execute_result"
    }
   ],
   "execution_count": 242
  },
  {
   "metadata": {
    "ExecuteTime": {
     "end_time": "2024-10-15T21:16:30.808041Z",
     "start_time": "2024-10-15T21:06:00.607143Z"
    }
   },
   "cell_type": "code",
   "source": "paths.shape",
   "id": "39ce6913f8b68ac0",
   "outputs": [
    {
     "data": {
      "text/plain": [
       "(10000, 758)"
      ]
     },
     "execution_count": 243,
     "metadata": {},
     "output_type": "execute_result"
    }
   ],
   "execution_count": 243
  },
  {
   "metadata": {
    "ExecuteTime": {
     "end_time": "2024-10-15T21:16:30.808207Z",
     "start_time": "2024-10-15T21:06:00.643330Z"
    }
   },
   "cell_type": "code",
   "source": "pnl_opt.std(), pnl_hedge.std(), (pnl_hedge - pnl_opt).std()",
   "id": "f06b84ca7706b307",
   "outputs": [
    {
     "data": {
      "text/plain": [
       "(0.42424151565612284, 0.4275846765750382, 0.0065066839046815355)"
      ]
     },
     "execution_count": 244,
     "metadata": {},
     "output_type": "execute_result"
    }
   ],
   "execution_count": 244
  },
  {
   "metadata": {
    "ExecuteTime": {
     "end_time": "2024-10-15T21:16:30.808323Z",
     "start_time": "2024-10-15T21:06:00.670405Z"
    }
   },
   "cell_type": "code",
   "source": "european_call.price()",
   "id": "ccef69abe35fc3f",
   "outputs": [
    {
     "data": {
      "text/plain": [
       "array([[0.34731842]])"
      ]
     },
     "execution_count": 245,
     "metadata": {},
     "output_type": "execute_result"
    }
   ],
   "execution_count": 245
  },
  {
   "metadata": {
    "ExecuteTime": {
     "end_time": "2024-10-15T21:16:30.810928Z",
     "start_time": "2024-10-15T21:06:00.716504Z"
    }
   },
   "cell_type": "code",
   "source": "np.corrcoef(pnl_hedge, pnl_opt)",
   "id": "728d7a47dd43e931",
   "outputs": [
    {
     "data": {
      "text/plain": [
       "array([[1.        , 0.99991411],\n",
       "       [0.99991411, 1.        ]])"
      ]
     },
     "execution_count": 246,
     "metadata": {},
     "output_type": "execute_result"
    }
   ],
   "execution_count": 246
  },
  {
   "metadata": {
    "ExecuteTime": {
     "end_time": "2024-10-15T21:16:30.811304Z",
     "start_time": "2024-10-15T21:06:00.775105Z"
    }
   },
   "cell_type": "code",
   "source": [
    "(\n",
    "    pnl_opt - european_call.price() * np.exp(RF_RATE * european_call.time_till_maturity)\n",
    ").mean()"
   ],
   "id": "a787b228340e80ad",
   "outputs": [
    {
     "data": {
      "text/plain": [
       "-0.0034736460571188517"
      ]
     },
     "execution_count": 247,
     "metadata": {},
     "output_type": "execute_result"
    }
   ],
   "execution_count": 247
  },
  {
   "metadata": {
    "ExecuteTime": {
     "end_time": "2024-10-15T21:16:30.811481Z",
     "start_time": "2024-10-15T21:06:00.818267Z"
    }
   },
   "cell_type": "code",
   "source": [
    "(\n",
    "    pnl_opt - european_call.price() * np.exp(RF_RATE * european_call.time_till_maturity)\n",
    ").std()"
   ],
   "id": "4cbbfcc02bfb596c",
   "outputs": [
    {
     "data": {
      "text/plain": [
       "0.4242415156561228"
      ]
     },
     "execution_count": 248,
     "metadata": {},
     "output_type": "execute_result"
    }
   ],
   "execution_count": 248
  },
  {
   "metadata": {
    "ExecuteTime": {
     "end_time": "2024-10-15T21:16:30.811611Z",
     "start_time": "2024-10-15T21:06:00.842034Z"
    }
   },
   "cell_type": "code",
   "source": [
    "(\n",
    "    pnl_opt\n",
    "    - pnl_hedge\n",
    "    - european_call.price() * np.exp(RF_RATE * european_call.time_till_maturity)\n",
    ").std()"
   ],
   "id": "60e91232ff3cd9ba",
   "outputs": [
    {
     "data": {
      "text/plain": [
       "0.006506683904681536"
      ]
     },
     "execution_count": 249,
     "metadata": {},
     "output_type": "execute_result"
    }
   ],
   "execution_count": 249
  },
  {
   "metadata": {
    "ExecuteTime": {
     "end_time": "2024-10-15T21:16:30.811728Z",
     "start_time": "2024-10-15T21:06:00.872362Z"
    }
   },
   "cell_type": "code",
   "source": [
    "plt.plot(np.sort(paths[:, -1]), pnl_opt[np.argsort(paths[:, -1])])\n",
    "plt.plot(np.sort(paths[:, -1]), pnl_hedge[np.argsort(paths[:, -1])])\n",
    "plt.show()"
   ],
   "id": "1b1ee23234412b30",
   "outputs": [
    {
     "data": {
      "text/plain": [
       "<Figure size 640x480 with 1 Axes>"
      ],
      "image/png": "[encoded data removed]"
     },
     "metadata": {},
     "output_type": "display_data"
    }
   ],
   "execution_count": 250
  },
  {
   "metadata": {
    "ExecuteTime": {
     "end_time": "2024-10-15T21:16:30.811838Z",
     "start_time": "2024-10-15T21:06:00.949724Z"
    }
   },
   "cell_type": "code",
   "source": "(pnl_hedge - RF_RATE * european_call.time_till_maturity).mean()",
   "id": "28e0545c9f7b82ac",
   "outputs": [
    {
     "data": {
      "text/plain": [
       "-0.32473186245162017"
      ]
     },
     "execution_count": 251,
     "metadata": {},
     "output_type": "execute_result"
    }
   ],
   "execution_count": 251
  },
  {
   "metadata": {
    "ExecuteTime": {
     "end_time": "2024-10-15T21:16:30.811973Z",
     "start_time": "2024-10-15T21:06:00.978417Z"
    }
   },
   "cell_type": "code",
   "source": [
    "value_opt = european_call.price(spot=paths[:, -1])\n",
    "\n",
    "plt.plot(np.sort(paths[:, -1]), value_opt[np.argsort(paths[:, -1])])\n",
    "plt.plot(np.sort(paths[:, -1]), pnl_opt[np.argsort(paths[:, -1])])\n",
    "plt.xlim([0, 3])\n",
    "plt.show()"
   ],
   "id": "55fcd19b531b02c6",
   "outputs": [
    {
     "data": {
      "text/plain": [
       "<Figure size 640x480 with 1 Axes>"
      ],
      "image/png": "[encoded data removed]"
     },
     "metadata": {},
     "output_type": "display_data"
    }
   ],
   "execution_count": 252
  },
  {
   "metadata": {
    "ExecuteTime": {
     "end_time": "2024-10-15T21:16:30.812079Z",
     "start_time": "2024-10-15T21:06:01.069240Z"
    }
   },
   "cell_type": "code",
   "source": [
    "plt.plot(np.sort(paths[:, -1]), value_opt[np.argsort(paths[:, -1])])\n",
    "plt.plot(np.sort(paths[:, -1]), pnl_hedge[np.argsort(paths[:, -1])])\n",
    "plt.show()"
   ],
   "id": "d34cb3ac52aa8297",
   "outputs": [
    {
     "data": {
      "text/plain": [
       "<Figure size 640x480 with 1 Axes>"
      ],
      "image/png": "[encoded data removed]"
     },
     "metadata": {},
     "output_type": "display_data"
    }
   ],
   "execution_count": 253
  },
  {
   "metadata": {
    "ExecuteTime": {
     "end_time": "2024-10-15T21:16:30.812184Z",
     "start_time": "2024-10-15T21:06:01.152618Z"
    }
   },
   "cell_type": "code",
   "source": [
    "plt.plot(np.sort(paths[:, -1]), pnl_opt[np.argsort(paths[:, -1])])\n",
    "plt.plot(\n",
    "    np.sort(paths[:, -1]),\n",
    "    pnl_hedge[np.argsort(paths[:, -1])]\n",
    "    + european_call.price().T.squeeze(1)\n",
    "    * np.exp(RF_RATE * european_call.time_till_maturity),\n",
    ")\n",
    "plt.show()"
   ],
   "id": "a6122ee5a653579e",
   "outputs": [
    {
     "data": {
      "text/plain": [
       "<Figure size 640x480 with 1 Axes>"
      ],
      "image/png": "[encoded data removed]"
     },
     "metadata": {},
     "output_type": "display_data"
    }
   ],
   "execution_count": 254
  },
  {
   "metadata": {
    "ExecuteTime": {
     "end_time": "2024-10-15T21:16:30.812308Z",
     "start_time": "2024-10-15T21:06:01.237291Z"
    }
   },
   "cell_type": "code",
   "source": [
    "portfolio = (\n",
    "    pnl_hedge\n",
    "    + european_call.price().T.squeeze(1)\n",
    "    * np.exp(RF_RATE * european_call.time_till_maturity)\n",
    "    - pnl_opt\n",
    ")\n",
    "portfolio.mean(), portfolio.std()"
   ],
   "id": "93f6b7a51c165c93",
   "outputs": [
    {
     "data": {
      "text/plain": [
       "(0.09353630415344391, 0.006506683904681536)"
      ]
     },
     "execution_count": 255,
     "metadata": {},
     "output_type": "execute_result"
    }
   ],
   "execution_count": 255
  },
  {
   "metadata": {
    "ExecuteTime": {
     "end_time": "2024-10-15T21:16:30.812432Z",
     "start_time": "2024-10-15T21:06:01.266621Z"
    }
   },
   "cell_type": "code",
   "source": "european_call.delta()",
   "id": "890b878f9f1ba159",
   "outputs": [
    {
     "data": {
      "text/plain": [
       "array([[0.94341933]])"
      ]
     },
     "execution_count": 256,
     "metadata": {},
     "output_type": "execute_result"
    }
   ],
   "execution_count": 256
  },
  {
   "metadata": {
    "ExecuteTime": {
     "end_time": "2024-10-15T21:16:30.812622Z",
     "start_time": "2024-10-15T21:06:01.318009Z"
    }
   },
   "cell_type": "code",
   "source": "0.6 * RF_RATE * european_call.time_till_maturity",
   "id": "f8fd17fa44364b91",
   "outputs": [
    {
     "data": {
      "text/plain": [
       "0.24887671232876712"
      ]
     },
     "execution_count": 257,
     "metadata": {},
     "output_type": "execute_result"
    }
   ],
   "execution_count": 257
  },
  {
   "metadata": {
    "ExecuteTime": {
     "end_time": "2024-10-15T21:16:30.812776Z",
     "start_time": "2024-10-15T21:06:01.359056Z"
    }
   },
   "cell_type": "code",
   "source": "",
   "id": "e6e7e87db8a071c5",
   "outputs": [],
   "execution_count": null
  }
 ],
 "metadata": {
  "kernelspec": {
   "display_name": "Python 3",
   "language": "python",
   "name": "python3"
  },
  "language_info": {
   "codemirror_mode": {
    "name": "ipython",
    "version": 2
   },
   "file_extension": ".py",
   "mimetype": "text/x-python",
   "name": "python",
   "nbconvert_exporter": "python",
   "pygments_lexer": "ipython2",
   "version": "2.7.6"
  }
 },
 "nbformat": 4,
 "nbformat_minor": 5
}
