{
 "cells": [
  {
   "metadata": {
    "ExecuteTime": {
     "end_time": "2024-07-11T15:17:48.461546Z",
     "start_time": "2024-07-11T15:17:48.450290Z"
    }
   },
   "cell_type": "code",
   "source": [
    "%load_ext autoreload\n",
    "%autoreload 2"
   ],
   "id": "e421301afe52a50e",
   "outputs": [],
   "execution_count": 1
  },
  {
   "metadata": {
    "ExecuteTime": {
     "end_time": "2024-07-11T15:17:50.477454Z",
     "start_time": "2024-07-11T15:17:48.462682Z"
    }
   },
   "cell_type": "code",
   "source": [
    "from pathlib import Path\n",
    "import datetime as dt\n",
    "\n",
    "import pandas as pd\n",
    "\n",
    "from deep_hedging import Ticker, Underlyings, NelsonSiegelCurve\n",
    "from deep_hedging.non_linear.exotic.basket import WorstOfDigitalCall\n",
    "from deep_hedging.non_linear.exotic.quanto import QuantoOption\n",
    "\n",
    "RANDOM_SEED = 12\n",
    "PATH = Path(\"../../data/\")"
   ],
   "id": "initial_id",
   "outputs": [],
   "execution_count": 2
  },
  {
   "metadata": {
    "ExecuteTime": {
     "end_time": "2024-07-11T15:17:50.491045Z",
     "start_time": "2024-07-11T15:17:50.478190Z"
    }
   },
   "cell_type": "code",
   "source": [
    "N_YEARS_LOOKBACK = 5\n",
    "N_PATHS = 100_000\n",
    "\n",
    "FIXING = dt.datetime(2021, 4, 19)\n",
    "FINAL_FIXING = dt.datetime(2024, 4, 17)"
   ],
   "id": "9e4cd491f931fbc0",
   "outputs": [],
   "execution_count": 3
  },
  {
   "metadata": {
    "ExecuteTime": {
     "end_time": "2024-07-11T15:17:51.612044Z",
     "start_time": "2024-07-11T15:17:50.491859Z"
    }
   },
   "cell_type": "code",
   "source": [
    "underlyings = Underlyings(\n",
    "    tickers=[\n",
    "        Ticker(\"Sanofi\", \"SAN.PA\"),\n",
    "        Ticker(\"GlaxoSmithKline PLC\", \"GSK.L\"),\n",
    "        Ticker(\"Bayer AG\", \"BAYN.DE\"),\n",
    "    ],\n",
    "    start=N_YEARS_LOOKBACK,\n",
    "    end=FIXING,\n",
    ")"
   ],
   "id": "44941e33b24bd4c0",
   "outputs": [
    {
     "name": "stderr",
     "output_type": "stream",
     "text": [
      "[*********************100%%**********************]  3 of 3 completed\n"
     ]
    }
   ],
   "execution_count": 4
  },
  {
   "metadata": {
    "ExecuteTime": {
     "end_time": "2024-07-11T15:17:52.111442Z",
     "start_time": "2024-07-11T15:17:51.613537Z"
    }
   },
   "cell_type": "code",
   "source": [
    "fx = Underlyings(\n",
    "    tickers=[\n",
    "        Ticker(\"EURRUB\", \"EURRUB=X\"),\n",
    "        Ticker(\"GBPRUB\", \"GBPRUB=X\"),\n",
    "        Ticker(\"EURRUB\", \"EURRUB=X\"),\n",
    "    ],\n",
    "    start=N_YEARS_LOOKBACK,\n",
    "    end=FIXING,\n",
    ")\n",
    "\n",
    "# Issue with yahoo finance data - strange GBPRUB quote\n",
    "fx.data = fx.data[fx[\"GBPRUB=X\"] > 1.2]\n",
    "fx.data"
   ],
   "id": "12fc61d647c566ee",
   "outputs": [
    {
     "name": "stderr",
     "output_type": "stream",
     "text": [
      "[*********************100%%**********************]  2 of 2 completed\n"
     ]
    },
    {
     "data": {
      "text/plain": [
       "Ticker       EURRUB=X    GBPRUB=X  EURRUB=X_2\n",
       "Date                                         \n",
       "2004-02-13  36.470001   53.591999   36.470001\n",
       "2004-04-01  34.990002   52.884998   34.990002\n",
       "2004-07-27  35.070000   52.995998   35.070000\n",
       "2005-01-17  36.619999   52.074001   36.619999\n",
       "2005-02-22  36.689999   53.369999   36.689999\n",
       "...               ...         ...         ...\n",
       "2021-04-12  92.128601  106.120071   92.128601\n",
       "2021-04-13  92.092499  106.289673   92.092499\n",
       "2021-04-14  90.795601  104.455833   90.795601\n",
       "2021-04-15  91.128502  104.730888   91.128502\n",
       "2021-04-16  91.099602  104.870773   91.099602\n",
       "\n",
       "[3956 rows x 3 columns]"
      ],
      "text/html": [
       "<div>\n",
       "<style scoped>\n",
       "    .dataframe tbody tr th:only-of-type {\n",
       "        vertical-align: middle;\n",
       "    }\n",
       "\n",
       "    .dataframe tbody tr th {\n",
       "        vertical-align: top;\n",
       "    }\n",
       "\n",
       "    .dataframe thead th {\n",
       "        text-align: right;\n",
       "    }\n",
       "</style>\n",
       "<table border=\"1\" class=\"dataframe\">\n",
       "  <thead>\n",
       "    <tr style=\"text-align: right;\">\n",
       "      <th>Ticker</th>\n",
       "      <th>EURRUB=X</th>\n",
       "      <th>GBPRUB=X</th>\n",
       "      <th>EURRUB=X_2</th>\n",
       "    </tr>\n",
       "    <tr>\n",
       "      <th>Date</th>\n",
       "      <th></th>\n",
       "      <th></th>\n",
       "      <th></th>\n",
       "    </tr>\n",
       "  </thead>\n",
       "  <tbody>\n",
       "    <tr>\n",
       "      <th>2004-02-13</th>\n",
       "      <td>36.470001</td>\n",
       "      <td>53.591999</td>\n",
       "      <td>36.470001</td>\n",
       "    </tr>\n",
       "    <tr>\n",
       "      <th>2004-04-01</th>\n",
       "      <td>34.990002</td>\n",
       "      <td>52.884998</td>\n",
       "      <td>34.990002</td>\n",
       "    </tr>\n",
       "    <tr>\n",
       "      <th>2004-07-27</th>\n",
       "      <td>35.070000</td>\n",
       "      <td>52.995998</td>\n",
       "      <td>35.070000</td>\n",
       "    </tr>\n",
       "    <tr>\n",
       "      <th>2005-01-17</th>\n",
       "      <td>36.619999</td>\n",
       "      <td>52.074001</td>\n",
       "      <td>36.619999</td>\n",
       "    </tr>\n",
       "    <tr>\n",
       "      <th>2005-02-22</th>\n",
       "      <td>36.689999</td>\n",
       "      <td>53.369999</td>\n",
       "      <td>36.689999</td>\n",
       "    </tr>\n",
       "    <tr>\n",
       "      <th>...</th>\n",
       "      <td>...</td>\n",
       "      <td>...</td>\n",
       "      <td>...</td>\n",
       "    </tr>\n",
       "    <tr>\n",
       "      <th>2021-04-12</th>\n",
       "      <td>92.128601</td>\n",
       "      <td>106.120071</td>\n",
       "      <td>92.128601</td>\n",
       "    </tr>\n",
       "    <tr>\n",
       "      <th>2021-04-13</th>\n",
       "      <td>92.092499</td>\n",
       "      <td>106.289673</td>\n",
       "      <td>92.092499</td>\n",
       "    </tr>\n",
       "    <tr>\n",
       "      <th>2021-04-14</th>\n",
       "      <td>90.795601</td>\n",
       "      <td>104.455833</td>\n",
       "      <td>90.795601</td>\n",
       "    </tr>\n",
       "    <tr>\n",
       "      <th>2021-04-15</th>\n",
       "      <td>91.128502</td>\n",
       "      <td>104.730888</td>\n",
       "      <td>91.128502</td>\n",
       "    </tr>\n",
       "    <tr>\n",
       "      <th>2021-04-16</th>\n",
       "      <td>91.099602</td>\n",
       "      <td>104.870773</td>\n",
       "      <td>91.099602</td>\n",
       "    </tr>\n",
       "  </tbody>\n",
       "</table>\n",
       "<p>3956 rows × 3 columns</p>\n",
       "</div>"
      ]
     },
     "execution_count": 5,
     "metadata": {},
     "output_type": "execute_result"
    }
   ],
   "execution_count": 5
  },
  {
   "metadata": {
    "ExecuteTime": {
     "end_time": "2024-07-11T15:17:52.138802Z",
     "start_time": "2024-07-11T15:17:52.112202Z"
    }
   },
   "cell_type": "code",
   "source": [
    "nss_params = pd.read_csv(PATH / \"rub_nss.csv\", sep=\";\")\n",
    "rub_params = nss_params[\n",
    "    nss_params[\"tradedate\"] == f\"{FIXING.strftime('%d.%m.%Y')}\"\n",
    "].loc[:, [\"B1\", \"B2\", \"B3\", \"T1\"]]\n",
    "rub_params = rub_params.replace(\",\", \".\", regex=True).astype(float)\n",
    "rub_params"
   ],
   "id": "22022c2785fd3da2",
   "outputs": [
    {
     "data": {
      "text/plain": [
       "              B1          B2          B3        T1\n",
       "1833  744.953996 -273.365215 -271.811557  0.905105"
      ],
      "text/html": [
       "<div>\n",
       "<style scoped>\n",
       "    .dataframe tbody tr th:only-of-type {\n",
       "        vertical-align: middle;\n",
       "    }\n",
       "\n",
       "    .dataframe tbody tr th {\n",
       "        vertical-align: top;\n",
       "    }\n",
       "\n",
       "    .dataframe thead th {\n",
       "        text-align: right;\n",
       "    }\n",
       "</style>\n",
       "<table border=\"1\" class=\"dataframe\">\n",
       "  <thead>\n",
       "    <tr style=\"text-align: right;\">\n",
       "      <th></th>\n",
       "      <th>B1</th>\n",
       "      <th>B2</th>\n",
       "      <th>B3</th>\n",
       "      <th>T1</th>\n",
       "    </tr>\n",
       "  </thead>\n",
       "  <tbody>\n",
       "    <tr>\n",
       "      <th>1833</th>\n",
       "      <td>744.953996</td>\n",
       "      <td>-273.365215</td>\n",
       "      <td>-271.811557</td>\n",
       "      <td>0.905105</td>\n",
       "    </tr>\n",
       "  </tbody>\n",
       "</table>\n",
       "</div>"
      ]
     },
     "execution_count": 6,
     "metadata": {},
     "output_type": "execute_result"
    }
   ],
   "execution_count": 6
  },
  {
   "metadata": {
    "ExecuteTime": {
     "end_time": "2024-07-11T15:17:52.155103Z",
     "start_time": "2024-07-11T15:17:52.139521Z"
    }
   },
   "cell_type": "code",
   "source": [
    "curve = NelsonSiegelCurve(\n",
    "    b0=rub_params.B1.values[0] / 100,\n",
    "    b1=rub_params.B2.values[0] / 100,\n",
    "    b2=rub_params.B3.values[0] / 100,\n",
    "    tau=rub_params.T1.values[0] / 100,\n",
    ")\n",
    "curve.get_rate(1.0)"
   ],
   "id": "dd9f59860f14109c",
   "outputs": [
    {
     "data": {
      "text/plain": [
       "0.07400815995797354"
      ]
     },
     "execution_count": 7,
     "metadata": {},
     "output_type": "execute_result"
    }
   ],
   "execution_count": 7
  },
  {
   "metadata": {
    "ExecuteTime": {
     "end_time": "2024-07-11T15:17:54.508725Z",
     "start_time": "2024-07-11T15:17:52.155920Z"
    }
   },
   "cell_type": "code",
   "source": [
    "worst_of_digital = WorstOfDigitalCall(\n",
    "    underlyings=underlyings,\n",
    "    yield_curve=curve,\n",
    "    strike_level=1.0,\n",
    "    frequency=0.5,\n",
    "    start_date=FIXING,\n",
    "    end_date=FINAL_FIXING,\n",
    "    digital_coupon=0.05,\n",
    "    random_seed=RANDOM_SEED,\n",
    ")\n",
    "price = worst_of_digital.price(spot=[1.0] * len(underlyings))\n",
    "print(f\"{100 * price:,.4f}\")"
   ],
   "id": "f97fee087747168b",
   "outputs": [
    {
     "name": "stdout",
     "output_type": "stream",
     "text": [
      "4.3762\n"
     ]
    }
   ],
   "execution_count": 8
  },
  {
   "metadata": {
    "ExecuteTime": {
     "end_time": "2024-07-11T15:17:56.493552Z",
     "start_time": "2024-07-11T15:17:54.509489Z"
    }
   },
   "cell_type": "code",
   "source": [
    "quanto = QuantoOption(\n",
    "    option=worst_of_digital,\n",
    "    modifying_underlyings=fx,\n",
    "    yield_curve=curve,\n",
    "    random_seed=RANDOM_SEED,\n",
    ")\n",
    "price = quanto.price(spot=[1.0] * (2 * len(underlyings)))\n",
    "print(f\"{100 * price:,.4f} RUB\")"
   ],
   "id": "297c9242f87609ae",
   "outputs": [
    {
     "name": "stdout",
     "output_type": "stream",
     "text": [
      "8.3050 RUB\n"
     ]
    }
   ],
   "execution_count": 9
  }
 ],
 "metadata": {
  "kernelspec": {
   "display_name": "Python 3",
   "language": "python",
   "name": "python3"
  },
  "language_info": {
   "codemirror_mode": {
    "name": "ipython",
    "version": 2
   },
   "file_extension": ".py",
   "mimetype": "text/x-python",
   "name": "python",
   "nbconvert_exporter": "python",
   "pygments_lexer": "ipython2",
   "version": "2.7.6"
  }
 },
 "nbformat": 4,
 "nbformat_minor": 5
}
