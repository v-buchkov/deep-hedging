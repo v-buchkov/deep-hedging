{
 "cells": [
  {
   "metadata": {
    "ExecuteTime": {
     "end_time": "2024-07-22T16:36:32.904094Z",
     "start_time": "2024-07-22T16:36:32.158818Z"
    }
   },
   "cell_type": "code",
   "source": [
    "import numpy as np\n",
    "import pandas as pd\n",
    "import scipy.stats as scs"
   ],
   "id": "7e2ca460192c12a8",
   "outputs": [],
   "execution_count": 1
  },
  {
   "metadata": {
    "ExecuteTime": {
     "end_time": "2024-07-22T16:36:32.945556Z",
     "start_time": "2024-07-22T16:36:32.905211Z"
    }
   },
   "cell_type": "code",
   "source": [
    "class GarmanKohlhagenModel:\n",
    "    def __init__(\n",
    "        self,\n",
    "        spot: float,\n",
    "        strike: float,\n",
    "        time: float,\n",
    "        r_domestic: float,\n",
    "        r_foreign: float,\n",
    "        vol: float,\n",
    "    ):\n",
    "        self.spot = spot\n",
    "        self.strike = strike\n",
    "        self.time = time\n",
    "        self.r_domestic = r_domestic\n",
    "        self.r_foreign = r_foreign\n",
    "        self.vol = vol\n",
    "\n",
    "    @property\n",
    "    def _d1(self) -> float:\n",
    "        return (\n",
    "            np.log(self.spot / self.strike)\n",
    "            + (self.r_domestic - self.r_foreign + 0.5 * self.vol**2) * self.time\n",
    "        ) / (self.vol * np.sqrt(self.time))\n",
    "\n",
    "    @property\n",
    "    def _d2(self) -> float:\n",
    "        return self._d1 - self.vol * np.sqrt(self.time)\n",
    "\n",
    "    def call_price(self):\n",
    "        return self.spot * np.exp(-self.r_foreign * self.time) * scs.norm.cdf(\n",
    "            self._d1\n",
    "        ) - self.strike * np.exp(-self.r_domestic * self.time) * scs.norm.cdf(self._d2)\n",
    "\n",
    "    def put_price(self):\n",
    "        return np.exp(-self.r_domestic * self.time) * self.strike * scs.norm.cdf(\n",
    "            -self._d2\n",
    "        ) - self.spot * np.exp(-self.r_foreign * self.time) * scs.norm.cdf(-self._d1)"
   ],
   "id": "initial_id",
   "outputs": [],
   "execution_count": 2
  },
  {
   "metadata": {
    "ExecuteTime": {
     "end_time": "2024-07-22T16:36:32.949429Z",
     "start_time": "2024-07-22T16:36:32.946798Z"
    }
   },
   "cell_type": "code",
   "source": [
    "# USDRUB pricing\n",
    "NOTIONAL_USD = 1_000_000\n",
    "CURRENT_SPOT = 90.0\n",
    "STRIKE = 100.0\n",
    "RATE_DOMESTIC = 15.0 / 100\n",
    "RATE_FOREIGN = 5.0 / 100\n",
    "VOL = 0.2\n",
    "TIME = 1.0"
   ],
   "id": "7ce4aa50afd98a2a",
   "outputs": [],
   "execution_count": 3
  },
  {
   "metadata": {
    "ExecuteTime": {
     "end_time": "2024-07-22T16:36:32.954886Z",
     "start_time": "2024-07-22T16:36:32.951719Z"
    }
   },
   "cell_type": "code",
   "source": [
    "usd_call = GarmanKohlhagenModel(\n",
    "    spot=CURRENT_SPOT,\n",
    "    strike=STRIKE,\n",
    "    time=TIME,\n",
    "    r_domestic=RATE_DOMESTIC,\n",
    "    r_foreign=RATE_FOREIGN,\n",
    "    vol=VOL,\n",
    ")\n",
    "# Premium in RUB\n",
    "print(f\"RUB premium: {usd_call.call_price() * NOTIONAL_USD: ,.2f}\")"
   ],
   "id": "41c09f567ed7eda7",
   "outputs": [
    {
     "name": "stdout",
     "output_type": "stream",
     "text": [
      "RUB premium:  6,610,073.67\n"
     ]
    }
   ],
   "execution_count": 4
  },
  {
   "metadata": {},
   "cell_type": "markdown",
   "source": [
    "Want premium in USD? There are two ways:\n",
    "1. Convert directly by spot.\n",
    "2. Price Put RUB Call USD."
   ],
   "id": "6fb4dc54af367180"
  },
  {
   "metadata": {},
   "cell_type": "markdown",
   "source": "1",
   "id": "5e65ec4ddd420b4c"
  },
  {
   "metadata": {
    "ExecuteTime": {
     "end_time": "2024-07-22T16:36:32.960290Z",
     "start_time": "2024-07-22T16:36:32.957408Z"
    }
   },
   "cell_type": "code",
   "source": [
    "# Convert directly by spot\n",
    "print(f\"USD premium: {usd_call.call_price() * NOTIONAL_USD / CURRENT_SPOT: ,.2f}\")"
   ],
   "id": "e9a436c9bd0b3de",
   "outputs": [
    {
     "name": "stdout",
     "output_type": "stream",
     "text": [
      "USD premium:  73,445.26\n"
     ]
    }
   ],
   "execution_count": 5
  },
  {
   "metadata": {},
   "cell_type": "markdown",
   "source": "2",
   "id": "80367bb89fc02cf3"
  },
  {
   "metadata": {
    "ExecuteTime": {
     "end_time": "2024-07-22T16:36:32.965627Z",
     "start_time": "2024-07-22T16:36:32.961621Z"
    }
   },
   "cell_type": "code",
   "source": [
    "notional_rub = NOTIONAL_USD * STRIKE\n",
    "rub_put = GarmanKohlhagenModel(\n",
    "    spot=1 / CURRENT_SPOT,\n",
    "    strike=1 / STRIKE,\n",
    "    time=TIME,\n",
    "    r_domestic=RATE_FOREIGN,\n",
    "    r_foreign=RATE_DOMESTIC,\n",
    "    vol=VOL,\n",
    ")\n",
    "print(f\"USD premium: {rub_put.put_price() * notional_rub: ,.2f}\")"
   ],
   "id": "a664de9d7cea181e",
   "outputs": [
    {
     "name": "stdout",
     "output_type": "stream",
     "text": [
      "USD premium:  73,445.26\n"
     ]
    }
   ],
   "execution_count": 6
  },
  {
   "metadata": {
    "ExecuteTime": {
     "end_time": "2024-07-22T16:36:32.993855Z",
     "start_time": "2024-07-22T16:36:32.967268Z"
    }
   },
   "cell_type": "code",
   "source": [
    "data = pd.read_pickle(\"../../../data/data.pkl\")\n",
    "data.head()"
   ],
   "id": "3c34d66d9824e057",
   "outputs": [
    {
     "data": {
      "text/plain": [
       "                                 bid        ask  rub_rate  usd_rate\n",
       "timestamp                                                          \n",
       "2017-01-03 07:00:00+00:00  60.973760  61.016500  8.126481   0.00672\n",
       "2017-01-03 07:01:00+00:00  61.010855  61.068045  8.126481   0.00672\n",
       "2017-01-03 07:02:00+00:00  61.037220  61.069850  8.126481   0.00672\n",
       "2017-01-03 07:03:00+00:00  61.011955  61.048690  8.126481   0.00672\n",
       "2017-01-03 07:04:00+00:00  61.021250  61.052835  8.126481   0.00672"
      ],
      "text/html": [
       "<div>\n",
       "<style scoped>\n",
       "    .dataframe tbody tr th:only-of-type {\n",
       "        vertical-align: middle;\n",
       "    }\n",
       "\n",
       "    .dataframe tbody tr th {\n",
       "        vertical-align: top;\n",
       "    }\n",
       "\n",
       "    .dataframe thead th {\n",
       "        text-align: right;\n",
       "    }\n",
       "</style>\n",
       "<table border=\"1\" class=\"dataframe\">\n",
       "  <thead>\n",
       "    <tr style=\"text-align: right;\">\n",
       "      <th></th>\n",
       "      <th>bid</th>\n",
       "      <th>ask</th>\n",
       "      <th>rub_rate</th>\n",
       "      <th>usd_rate</th>\n",
       "    </tr>\n",
       "    <tr>\n",
       "      <th>timestamp</th>\n",
       "      <th></th>\n",
       "      <th></th>\n",
       "      <th></th>\n",
       "      <th></th>\n",
       "    </tr>\n",
       "  </thead>\n",
       "  <tbody>\n",
       "    <tr>\n",
       "      <th>2017-01-03 07:00:00+00:00</th>\n",
       "      <td>60.973760</td>\n",
       "      <td>61.016500</td>\n",
       "      <td>8.126481</td>\n",
       "      <td>0.00672</td>\n",
       "    </tr>\n",
       "    <tr>\n",
       "      <th>2017-01-03 07:01:00+00:00</th>\n",
       "      <td>61.010855</td>\n",
       "      <td>61.068045</td>\n",
       "      <td>8.126481</td>\n",
       "      <td>0.00672</td>\n",
       "    </tr>\n",
       "    <tr>\n",
       "      <th>2017-01-03 07:02:00+00:00</th>\n",
       "      <td>61.037220</td>\n",
       "      <td>61.069850</td>\n",
       "      <td>8.126481</td>\n",
       "      <td>0.00672</td>\n",
       "    </tr>\n",
       "    <tr>\n",
       "      <th>2017-01-03 07:03:00+00:00</th>\n",
       "      <td>61.011955</td>\n",
       "      <td>61.048690</td>\n",
       "      <td>8.126481</td>\n",
       "      <td>0.00672</td>\n",
       "    </tr>\n",
       "    <tr>\n",
       "      <th>2017-01-03 07:04:00+00:00</th>\n",
       "      <td>61.021250</td>\n",
       "      <td>61.052835</td>\n",
       "      <td>8.126481</td>\n",
       "      <td>0.00672</td>\n",
       "    </tr>\n",
       "  </tbody>\n",
       "</table>\n",
       "</div>"
      ]
     },
     "execution_count": 7,
     "metadata": {},
     "output_type": "execute_result"
    }
   ],
   "execution_count": 7
  },
  {
   "metadata": {
    "ExecuteTime": {
     "end_time": "2024-07-22T16:36:33.007640Z",
     "start_time": "2024-07-22T16:36:32.995271Z"
    }
   },
   "cell_type": "code",
   "source": [
    "usdrub = (data[\"bid\"] + data[\"ask\"]) / 2\n",
    "usdrub.dropna(inplace=True)\n",
    "usdrub"
   ],
   "id": "3586a56c39359b26",
   "outputs": [
    {
     "data": {
      "text/plain": [
       "timestamp\n",
       "2017-01-03 07:00:00+00:00    60.995130\n",
       "2017-01-03 07:01:00+00:00    61.039450\n",
       "2017-01-03 07:02:00+00:00    61.053535\n",
       "2017-01-03 07:03:00+00:00    61.030322\n",
       "2017-01-03 07:04:00+00:00    61.037042\n",
       "                               ...    \n",
       "2019-05-17 20:45:00+00:00    64.766768\n",
       "2019-05-17 20:46:00+00:00    64.760530\n",
       "2019-05-17 20:47:00+00:00    64.747895\n",
       "2019-05-17 20:48:00+00:00    64.755327\n",
       "2019-05-17 20:49:00+00:00    64.767623\n",
       "Length: 494195, dtype: float64"
      ]
     },
     "execution_count": 8,
     "metadata": {},
     "output_type": "execute_result"
    }
   ],
   "execution_count": 8
  },
  {
   "metadata": {
    "ExecuteTime": {
     "end_time": "2024-07-22T16:36:33.013660Z",
     "start_time": "2024-07-22T16:36:33.008453Z"
    }
   },
   "cell_type": "code",
   "source": [
    "rubusd = 1 / usdrub\n",
    "rubusd"
   ],
   "id": "2d84c68c106e4c1f",
   "outputs": [
    {
     "data": {
      "text/plain": [
       "timestamp\n",
       "2017-01-03 07:00:00+00:00    0.016395\n",
       "2017-01-03 07:01:00+00:00    0.016383\n",
       "2017-01-03 07:02:00+00:00    0.016379\n",
       "2017-01-03 07:03:00+00:00    0.016385\n",
       "2017-01-03 07:04:00+00:00    0.016383\n",
       "                               ...   \n",
       "2019-05-17 20:45:00+00:00    0.015440\n",
       "2019-05-17 20:46:00+00:00    0.015442\n",
       "2019-05-17 20:47:00+00:00    0.015445\n",
       "2019-05-17 20:48:00+00:00    0.015443\n",
       "2019-05-17 20:49:00+00:00    0.015440\n",
       "Length: 494195, dtype: float64"
      ]
     },
     "execution_count": 9,
     "metadata": {},
     "output_type": "execute_result"
    }
   ],
   "execution_count": 9
  },
  {
   "metadata": {
    "ExecuteTime": {
     "end_time": "2024-07-22T16:36:33.026306Z",
     "start_time": "2024-07-22T16:36:33.017332Z"
    }
   },
   "cell_type": "code",
   "source": "(usdrub / usdrub.shift(1) - 1).std()",
   "id": "7b30b0c0b5cc8035",
   "outputs": [
    {
     "data": {
      "text/plain": [
       "0.0002473561745126067"
      ]
     },
     "execution_count": 10,
     "metadata": {},
     "output_type": "execute_result"
    }
   ],
   "execution_count": 10
  },
  {
   "metadata": {
    "ExecuteTime": {
     "end_time": "2024-07-22T16:36:33.038467Z",
     "start_time": "2024-07-22T16:36:33.027131Z"
    }
   },
   "cell_type": "code",
   "source": "(rubusd / rubusd.shift(1) - 1).std()",
   "id": "fd644c0c5ed23193",
   "outputs": [
    {
     "data": {
      "text/plain": [
       "0.00024733139550525804"
      ]
     },
     "execution_count": 11,
     "metadata": {},
     "output_type": "execute_result"
    }
   ],
   "execution_count": 11
  },
  {
   "metadata": {
    "ExecuteTime": {
     "end_time": "2024-07-22T16:36:33.424648Z",
     "start_time": "2024-07-22T16:36:33.040215Z"
    }
   },
   "cell_type": "code",
   "source": "(252 * 60 * 24 * (usdrub / usdrub.shift(1) - 1)).hist(bins=50)",
   "id": "bd469ad183c928ac",
   "outputs": [
    {
     "data": {
      "text/plain": [
       "<Axes: >"
      ]
     },
     "execution_count": 12,
     "metadata": {},
     "output_type": "execute_result"
    },
    {
     "data": {
      "text/plain": [
       "<Figure size 640x480 with 1 Axes>"
      ],
      "image/png": "[encoded data removed]"
     },
     "metadata": {},
     "output_type": "display_data"
    }
   ],
   "execution_count": 12
  },
  {
   "metadata": {
    "ExecuteTime": {
     "end_time": "2024-07-22T16:36:33.447416Z",
     "start_time": "2024-07-22T16:36:33.428166Z"
    }
   },
   "cell_type": "code",
   "source": [
    "(usdrub / usdrub.shift(1) - 1).mean() * 252 * 60 * 24, (\n",
    "    usdrub / usdrub.shift(1) - 1\n",
    ").std() * np.sqrt(252 * 60 * 24)"
   ],
   "id": "d77ec21c195d0274",
   "outputs": [
    {
     "data": {
      "text/plain": [
       "(0.0551664443890885, 0.14900617694238114)"
      ]
     },
     "execution_count": 13,
     "metadata": {},
     "output_type": "execute_result"
    }
   ],
   "execution_count": 13
  },
  {
   "metadata": {
    "ExecuteTime": {
     "end_time": "2024-07-22T16:36:33.464037Z",
     "start_time": "2024-07-22T16:36:33.450169Z"
    }
   },
   "cell_type": "code",
   "source": [
    "(rubusd / rubusd.shift(1) - 1).mean() * 252 * 60 * 24, (\n",
    "    rubusd / rubusd.shift(1) - 1\n",
    ").std() * np.sqrt(252 * 60 * 24)"
   ],
   "id": "61f6fe7daa7237d2",
   "outputs": [
    {
     "data": {
      "text/plain": [
       "(-0.03296601233961295, 0.14899125018682016)"
      ]
     },
     "execution_count": 14,
     "metadata": {},
     "output_type": "execute_result"
    }
   ],
   "execution_count": 14
  },
  {
   "metadata": {
    "ExecuteTime": {
     "end_time": "2024-07-22T16:36:33.566882Z",
     "start_time": "2024-07-22T16:36:33.467210Z"
    }
   },
   "cell_type": "code",
   "source": [
    "(usdrub - usdrub.shift(1)).std() * np.sqrt(252 * 60 * 24), (\n",
    "    rubusd - rubusd.shift(1)\n",
    ").std() * np.sqrt(252 * 60 * 24)"
   ],
   "id": "5ab54dd24899c431",
   "outputs": [
    {
     "data": {
      "text/plain": [
       "(9.221129037513705, 0.002426101510274652)"
      ]
     },
     "execution_count": 15,
     "metadata": {},
     "output_type": "execute_result"
    }
   ],
   "execution_count": 15
  },
  {
   "metadata": {
    "ExecuteTime": {
     "end_time": "2024-07-22T16:36:33.574285Z",
     "start_time": "2024-07-22T16:36:33.569810Z"
    }
   },
   "cell_type": "code",
   "source": "usdrub.std()",
   "id": "f9e618f20b063441",
   "outputs": [
    {
     "data": {
      "text/plain": [
       "3.897308008787486"
      ]
     },
     "execution_count": 16,
     "metadata": {},
     "output_type": "execute_result"
    }
   ],
   "execution_count": 16
  },
  {
   "metadata": {
    "ExecuteTime": {
     "end_time": "2024-07-22T16:36:33.582293Z",
     "start_time": "2024-07-22T16:36:33.575229Z"
    }
   },
   "cell_type": "code",
   "source": [
    "x = pd.Series(\n",
    "    np.exp(\n",
    "        0.05 / 252 + np.random.normal(loc=0.0, scale=0.3, size=100_000) / 252\n",
    "    ).cumprod()\n",
    ")\n",
    "(np.log(x / x.shift(1))).std()"
   ],
   "id": "d6fd51661431727c",
   "outputs": [
    {
     "data": {
      "text/plain": [
       "0.0011915137354730693"
      ]
     },
     "execution_count": 17,
     "metadata": {},
     "output_type": "execute_result"
    }
   ],
   "execution_count": 17
  },
  {
   "metadata": {
    "ExecuteTime": {
     "end_time": "2024-07-22T16:36:33.587497Z",
     "start_time": "2024-07-22T16:36:33.583013Z"
    }
   },
   "cell_type": "code",
   "source": [
    "y = 1 / x\n",
    "(np.log(y / y.shift(1))).std()"
   ],
   "id": "41403da193334558",
   "outputs": [
    {
     "data": {
      "text/plain": [
       "0.0011915137354730695"
      ]
     },
     "execution_count": 18,
     "metadata": {},
     "output_type": "execute_result"
    }
   ],
   "execution_count": 18
  },
  {
   "metadata": {
    "ExecuteTime": {
     "end_time": "2024-07-22T16:36:33.589471Z",
     "start_time": "2024-07-22T16:36:33.588222Z"
    }
   },
   "cell_type": "code",
   "source": "",
   "id": "ed4de0b663f3e9f1",
   "outputs": [],
   "execution_count": 18
  }
 ],
 "metadata": {
  "kernelspec": {
   "display_name": "Python 3",
   "language": "python",
   "name": "python3"
  },
  "language_info": {
   "codemirror_mode": {
    "name": "ipython",
    "version": 2
   },
   "file_extension": ".py",
   "mimetype": "text/x-python",
   "name": "python",
   "nbconvert_exporter": "python",
   "pygments_lexer": "ipython2",
   "version": "2.7.6"
  }
 },
 "nbformat": 4,
 "nbformat_minor": 5
}
