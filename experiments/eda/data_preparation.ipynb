{
 "cells": [
  {
   "cell_type": "markdown",
   "metadata": {
    "id": "41VE08_pyFuR"
   },
   "source": [
    "# **Deep Hedging**\n",
    "# Buchkov Viacheslav"
   ]
  },
  {
   "cell_type": "code",
   "execution_count": null,
   "metadata": {
    "id": "LKcSNj4tlRVK"
   },
   "source": [
    "import abc\n",
    "import math\n",
    "import os\n",
    "import random\n",
    "import sys\n",
    "from functools import lru_cache\n",
    "from pathlib import Path\n",
    "\n",
    "import matplotlib.pyplot as plt\n",
    "import numpy as np\n",
    "import pandas as pd\n",
    "\n",
    "import torch\n",
    "from torch import nn\n",
    "from torch.nn import functional as F\n",
    "from torch.utils.data import DataLoader\n",
    "from tqdm import tqdm\n",
    "\n",
    "# You may add any imports you need\n",
    "from torch.cuda.amp import GradScaler\n",
    "\n",
    "RANDOM_SEED = 12"
   ],
   "outputs": []
  },
  {
   "cell_type": "code",
   "execution_count": null,
   "metadata": {
    "id": "47YPLjDL-Mtv"
   },
   "source": [
    "def seed_everything(seed):\n",
    "    random.seed(seed)\n",
    "    np.random.seed(seed)\n",
    "    torch.manual_seed(seed)\n",
    "    torch.cuda.manual_seed(seed)\n",
    "    torch.backends.cudnn.deterministic = True\n",
    "\n",
    "\n",
    "seed_everything(RANDOM_SEED)"
   ],
   "outputs": []
  },
  {
   "cell_type": "code",
   "source": [
    "N_DAYS = 5"
   ],
   "metadata": {
    "id": "QmkSjI1Regtf"
   },
   "execution_count": null,
   "outputs": []
  },
  {
   "cell_type": "markdown",
   "source": [
    "## Getting spot data."
   ],
   "metadata": {
    "id": "UD_rhG11eQW2"
   }
  },
  {
   "cell_type": "code",
   "execution_count": null,
   "metadata": {
    "colab": {
     "base_uri": "https://localhost:8080/"
    },
    "id": "UJn_GcdnygSi",
    "outputId": "5e458559-01c1-4bea-9d54-7007a67c1c55"
   },
   "source": [
    "from google.colab import drive\n",
    "\n",
    "drive.mount(\"/content/gdrive\", force_remount=True)\n",
    "\n",
    "ROOT_PATH = Path(\"dataset\")\n",
    "PATH = Path(\"/content/gdrive/MyDrive/\")"
   ],
   "outputs": []
  },
  {
   "cell_type": "code",
   "execution_count": null,
   "metadata": {
    "id": "KECLtiuV0gmw"
   },
   "source": [
    "!unzip -q '/content/gdrive/MyDrive/quotes_USDRUB_resample.zip' -d './'"
   ],
   "outputs": []
  },
  {
   "cell_type": "code",
   "source": [
    "!unzip -q '/content/gdrive/MyDrive/quotes_EURRUB_resample.zip' -d './'"
   ],
   "metadata": {
    "id": "oaJMKOe6w2We"
   },
   "execution_count": null,
   "outputs": []
  },
  {
   "cell_type": "code",
   "source": [
    "usdrub = pd.read_csv(\"quotes_USDRUB_resample_1min.csv\")\n",
    "usdrub[\"timestamp\"] = pd.to_datetime(usdrub[\"timestamp\"])\n",
    "usdrub = usdrub.set_index(\"timestamp\")\n",
    "usdrub.head()"
   ],
   "metadata": {
    "colab": {
     "base_uri": "https://localhost:8080/",
     "height": 235
    },
    "id": "hvwR_NuXW-RU",
    "outputId": "4d43e4ea-fb71-4469-dd59-ce3e57c4b9bd"
   },
   "execution_count": null,
   "outputs": []
  },
  {
   "cell_type": "code",
   "source": [
    "eurrub = pd.read_csv(\"quotes_EURRUB_resample_1min.csv\")\n",
    "eurrub[\"timestamp\"] = pd.to_datetime(eurrub[\"timestamp\"])\n",
    "eurrub = eurrub.set_index(\"timestamp\")\n",
    "eurrub.head()"
   ],
   "metadata": {
    "colab": {
     "base_uri": "https://localhost:8080/",
     "height": 235
    },
    "id": "biRMkoXGw6kG",
    "outputId": "91a877a6-daac-4523-ecf5-00541ba41905"
   },
   "execution_count": null,
   "outputs": []
  },
  {
   "cell_type": "code",
   "source": [
    "tol = pd.Timedelta(\"1 min\")\n",
    "spot = pd.merge_asof(\n",
    "    left=usdrub,\n",
    "    right=eurrub,\n",
    "    right_index=True,\n",
    "    left_index=True,\n",
    "    direction=\"nearest\",\n",
    "    tolerance=tol,\n",
    ")"
   ],
   "metadata": {
    "id": "caitf88axTwv"
   },
   "execution_count": null,
   "outputs": []
  },
  {
   "cell_type": "code",
   "source": [
    "spot.head()"
   ],
   "metadata": {
    "colab": {
     "base_uri": "https://localhost:8080/",
     "height": 235
    },
    "id": "RTPYkOSCxGjr",
    "outputId": "bddb4cc4-05de-49d2-eba4-88de3fdadf5e"
   },
   "execution_count": null,
   "outputs": []
  },
  {
   "cell_type": "code",
   "source": [
    "spot.index.min(), spot.index.max()"
   ],
   "metadata": {
    "colab": {
     "base_uri": "https://localhost:8080/"
    },
    "id": "uErNbKdgXQ1l",
    "outputId": "2a2e1c2c-c8c4-418a-9c16-7cef1744132f"
   },
   "execution_count": null,
   "outputs": []
  },
  {
   "cell_type": "markdown",
   "source": [
    "## Getting rates data."
   ],
   "metadata": {
    "id": "6qcnUfe3eYB4"
   }
  },
  {
   "cell_type": "code",
   "source": [
    "rub_rates = pd.read_csv(\"/content/gdrive/MyDrive/dynamic.csv\", sep=\";\")\n",
    "\n",
    "rub_rates[\"timestamp\"] = pd.to_datetime(\n",
    "    rub_rates[\"tradedate\"] + \" \" + rub_rates[\"tradetime\"], format=\"%d.%m.%Y %H:%M:%S\"\n",
    ")\n",
    "rub_rates = rub_rates.set_index(\"timestamp\")\n",
    "rub_rates.drop([\"tradedate\", \"tradetime\"], axis=1, inplace=True)\n",
    "\n",
    "rub_rates = rub_rates.apply(lambda row: row.str.replace(\",\", \".\"))\n",
    "rub_rates = rub_rates.astype(float)\n",
    "rub_rates.head()"
   ],
   "metadata": {
    "colab": {
     "base_uri": "https://localhost:8080/",
     "height": 235
    },
    "id": "oiIva97CXvIw",
    "outputId": "23aef145-ade5-46ca-ddb7-6ea9eb0aa313"
   },
   "execution_count": null,
   "outputs": []
  },
  {
   "cell_type": "code",
   "source": [
    "usd_rates = pd.read_csv(\"/content/gdrive/MyDrive/feds200628.csv\")\n",
    "usd_rates[\"timestamp\"] = pd.to_datetime(usd_rates[\"Date\"])\n",
    "usd_rates.drop([\"Date\"], axis=1, inplace=True)\n",
    "usd_rates = usd_rates.set_index(\"timestamp\")\n",
    "usd_rates.head()"
   ],
   "metadata": {
    "colab": {
     "base_uri": "https://localhost:8080/",
     "height": 284
    },
    "id": "p_tcJ0h4bUQN",
    "outputId": "c0094bf6-54ed-40d3-976c-aa971dd5134b"
   },
   "execution_count": null,
   "outputs": []
  },
  {
   "cell_type": "code",
   "source": [
    "class YieldCurve:\n",
    "    TARGET_COLUMN = \"ytm\"\n",
    "    DISCOUNT_FACTOR_COLUMN = \"discount_factor\"\n",
    "    FWD_RATE_COLUMN = \"fwd_rate\"\n",
    "\n",
    "    def __init__(self, initial_terms: np.array, *args, **kwargs) -> None:\n",
    "        self._rates_df = None\n",
    "        self._discount_factors = None\n",
    "        self._instant_fwd_rate = None\n",
    "\n",
    "        self._initialize(initial_terms)\n",
    "\n",
    "    def _initialize(self, terms: np.array) -> None:\n",
    "        self.create_curve(terms=terms)\n",
    "\n",
    "    @abc.abstractmethod\n",
    "    def get_rates(self, terms: list[float]) -> np.array:\n",
    "        pass\n",
    "\n",
    "    def create_curve(self, terms: list[float]) -> None:\n",
    "        self._rates_df = pd.DataFrame(\n",
    "            self.get_rates(terms), index=terms, columns=[self.TARGET_COLUMN]\n",
    "        )\n",
    "        # self._create_discount_factors()\n",
    "        # self._create_instant_fwd_rates()\n",
    "\n",
    "    def _create_discount_factors(self) -> pd.DataFrame:\n",
    "        if self._rates_df is None:\n",
    "            raise ValueError(\"Rate data is not fitted yet!\")\n",
    "        discount_factors = np.exp(\n",
    "            -self._rates_df[self.TARGET_COLUMN] * self._rates_df.index\n",
    "        )\n",
    "        self._discount_factors = pd.DataFrame(\n",
    "            discount_factors,\n",
    "            index=self._rates_df.index,\n",
    "            columns=[self.DISCOUNT_FACTOR_COLUMN],\n",
    "        )\n",
    "        return self._discount_factors\n",
    "\n",
    "    def _create_instant_fwd_rates(self) -> pd.DataFrame:\n",
    "        if self._discount_factors is None:\n",
    "            raise ValueError(\"Discount factor data is not fitted yet!\")\n",
    "\n",
    "        t_old = self._rates_df.index[0]\n",
    "        instant_fwd_rates = []\n",
    "        for t in self._rates_df.index[1:]:\n",
    "            dt = t - t_old\n",
    "            instant_fwd_rates.append(\n",
    "                -1\n",
    "                / dt\n",
    "                * (\n",
    "                    np.log(\n",
    "                        self._discount_factors.loc[t, self.DISCOUNT_FACTOR_COLUMN]\n",
    "                        / self._discount_factors.loc[t_old, self.DISCOUNT_FACTOR_COLUMN]\n",
    "                    )\n",
    "                )\n",
    "            )\n",
    "            t_old = t\n",
    "        self._instant_fwd_rate = pd.DataFrame(\n",
    "            instant_fwd_rates,\n",
    "            index=self._rates_df.index[1:],\n",
    "            columns=[self.FWD_RATE_COLUMN],\n",
    "        )\n",
    "        return self._instant_fwd_rate\n",
    "\n",
    "    @property\n",
    "    def curve_df(self) -> pd.DataFrame:\n",
    "        if self._rates_df is None:\n",
    "            raise ValueError(\"Rate data is not fitted yet! Call .create_curve() first.\")\n",
    "        return self._rates_df\n",
    "\n",
    "    @property\n",
    "    def discount_factors_df(self) -> pd.DataFrame:\n",
    "        return self._discount_factors\n",
    "\n",
    "    @property\n",
    "    def instant_fwd_rates_df(self) -> pd.DataFrame:\n",
    "        return self._instant_fwd_rate\n",
    "\n",
    "    @staticmethod\n",
    "    def _find_point(curve: pd.DataFrame, term: float) -> float:\n",
    "        index = np.absolute(curve.index - term).argmin()\n",
    "        return curve.iloc[index].values[0]\n",
    "\n",
    "    @lru_cache(maxsize=None)\n",
    "    def get_rate(self, term: float) -> float:\n",
    "        return self._find_point(self._rates_df, term)\n",
    "\n",
    "    @lru_cache(maxsize=None)\n",
    "    def get_discount_factor(self, term: float) -> float:\n",
    "        return self._find_point(self._discount_factors, term)\n",
    "\n",
    "    @lru_cache(maxsize=None)\n",
    "    def get_instant_fwd_rate(self, term: float) -> float:\n",
    "        return self._find_point(self._instant_fwd_rate, term)"
   ],
   "metadata": {
    "id": "MA74st3JdxW9"
   },
   "execution_count": null,
   "outputs": []
  },
  {
   "cell_type": "code",
   "source": [
    "class NelsonSiegelCurve(YieldCurve):\n",
    "    def __init__(\n",
    "        self,\n",
    "        b0: float,\n",
    "        b1: float,\n",
    "        b2: float,\n",
    "        tau: float,\n",
    "        initial_terms: np.array = np.linspace(1 / 365, 25.0, 100),\n",
    "    ) -> None:\n",
    "        self.b0 = b0\n",
    "        self.b1 = b1\n",
    "        self.b2 = b2\n",
    "        self.tau = tau\n",
    "\n",
    "        super().__init__(initial_terms)\n",
    "\n",
    "    def get_rates(self, terms: list[float]) -> np.array:\n",
    "        terms = np.array(terms)\n",
    "        rates = (\n",
    "            self.b0\n",
    "            + (self.b1 + self.b2) * self.tau / terms * (1 - np.exp(-terms / self.tau))\n",
    "            - self.b2 * np.exp(-terms / self.tau)\n",
    "        )\n",
    "        return rates / 100"
   ],
   "metadata": {
    "id": "Tt_Bunfhd724"
   },
   "execution_count": null,
   "outputs": []
  },
  {
   "metadata": {
    "id": "wf4dTzNkv8II"
   },
   "cell_type": "markdown",
   "source": [
    "## Merging data."
   ]
  },
  {
   "metadata": {
    "colab": {
     "base_uri": "https://localhost:8080/",
     "height": 369
    },
    "id": "NB2i9ULWv8IJ",
    "outputId": "a13fcf55-898c-4c50-b75f-dd308273ef21"
   },
   "cell_type": "code",
   "execution_count": null,
   "source": [
    "tol = pd.Timedelta(\"24 hours\")\n",
    "df = pd.merge_asof(\n",
    "    left=spot,\n",
    "    right=rub_rates,\n",
    "    right_index=True,\n",
    "    left_index=True,\n",
    "    direction=\"nearest\",\n",
    "    tolerance=tol,\n",
    ")\n",
    "df = pd.merge_asof(\n",
    "    left=df,\n",
    "    right=usd_rates,\n",
    "    right_index=True,\n",
    "    left_index=True,\n",
    "    direction=\"nearest\",\n",
    "    tolerance=tol,\n",
    ")\n",
    "df.head()"
   ],
   "outputs": []
  },
  {
   "metadata": {
    "colab": {
     "base_uri": "https://localhost:8080/",
     "height": 49,
     "referenced_widgets": [
      "d7e69cc80dbb42ffb4eeb69cd20bec82",
      "60a030bfbc2c4dc1a3bb5f6e35e317cc",
      "78302bccb4bd4fc8a44eb5f124cdb823",
      "dc66840db08a4ec88e779b5605c0b810",
      "080930a9efff43db8910e9ab10ba2365",
      "39068d7d97044a999bdd8e2f3909427b",
      "325655658a6c410aba25c1210857b378",
      "1fce307521394bdd89c6e006d6beec07",
      "3a43e757ee574623bf0da8212030b74d",
      "f9e93b2817eb4ba098e1b74f8268d419",
      "0a7451a5ac3043579a2c724b645ec59b"
     ]
    },
    "id": "cFm95Glbv8IJ",
    "outputId": "61b97051-9d35-4466-d2e7-e65b793fb454"
   },
   "cell_type": "code",
   "execution_count": null,
   "source": [
    "from tqdm.auto import tqdm\n",
    "\n",
    "tqdm.pandas()\n",
    "\n",
    "df[\"usd_curve\"] = df.progress_apply(\n",
    "    lambda row: NelsonSiegelCurve(\n",
    "        b0=row[\"BETA0\"], b1=row[\"BETA1\"], b2=row[\"BETA2\"], tau=row[\"TAU1\"]\n",
    "    ),\n",
    "    axis=1,\n",
    ")"
   ],
   "outputs": []
  },
  {
   "metadata": {
    "colab": {
     "base_uri": "https://localhost:8080/",
     "height": 219,
     "referenced_widgets": [
      "d0575fcb0ab14294a7e401082c970d8a",
      "9557e5e2ed2e4c358fe847a955a9762d",
      "2f4a9607631045c298e7770c33f58e69",
      "2dd89808f33c4aa0afb9bef343cc2d51",
      "816d59f1f1f94ad7801eda0621ed5a51",
      "25beb9dfa894420085b9aec78364df08",
      "440f5d6f96f24c3f8a0b37606227ad80",
      "d999fb98cbb74b0c96ec56b9baaa9bda",
      "c01b9cccae3348afa9bf805b099841a7",
      "949af51c68ad46fb856c58d7bb9d0d4d",
      "acf35c020ce3461caa65a29b6541dc67"
     ]
    },
    "id": "2-vcPgLfv8IJ",
    "outputId": "8817f682-34c8-474c-d42a-e374d1060a43"
   },
   "cell_type": "code",
   "execution_count": null,
   "source": [
    "tqdm.pandas()\n",
    "\n",
    "df[\"rub_curve\"] = df.progress_apply(\n",
    "    lambda row: NelsonSiegelCurve(\n",
    "        b0=row[\"B1\"], b1=row[\"B2\"], b2=row[\"B3\"], tau=row[\"T1\"]\n",
    "    ),\n",
    "    axis=1,\n",
    ")"
   ],
   "outputs": []
  },
  {
   "metadata": {
    "colab": {
     "base_uri": "https://localhost:8080/",
     "height": 49,
     "referenced_widgets": [
      "dc6a53ed258a456ea1bab05c306e32e9",
      "ec99d991bee84b72bac3a8eedb79aea4",
      "5831fce248394224901770661b5581dd",
      "eab43525643247a5af1f1dde9bef6fb4",
      "c6789e5625db4507ba05584919d74298",
      "6e560034b133403aab5570b6dd3db6e4",
      "89b3841ca83f4461b0f7d21a20c5f8ec",
      "847ec029766242dc8e553a26fefdc7c3",
      "ce349264c7974dfabf993a7ccbcb51df",
      "ab60e6b7090140ac918705b23cd56a16",
      "bb1422f55bc546aaa19af74228e8ebaa"
     ]
    },
    "id": "ahK6WDkQv8IJ",
    "outputId": "681571ea-a7e3-4335-ed79-cb179ba50ba2"
   },
   "cell_type": "code",
   "execution_count": null,
   "source": [
    "tqdm.pandas()\n",
    "df[\"rub_rate\"] = df[\"rub_curve\"].progress_apply(\n",
    "    lambda curve: curve.get_rate(N_DAYS / 365) / 100\n",
    ")"
   ],
   "outputs": []
  },
  {
   "metadata": {
    "colab": {
     "base_uri": "https://localhost:8080/",
     "height": 219,
     "referenced_widgets": [
      "3b11501e541241c1a64184bb4db68e59",
      "36012ea1bccd4077aad26efe04accf9e",
      "8d530dbe8cbb4c3b9d6ad77da71cf9c0",
      "18e7c32011ab40998b539c0912505f8c",
      "65ef1dfc8f094056a044ca9e47b2059b",
      "426ad31e0a0541bdaaefe44e7dd7fe34",
      "0f624cf1c73a4ff286f1b25c5ec563af",
      "9a2e7a206a3446f9b910292bb19e0266",
      "2703984a82e941d5a45e53b38eaa6b4a",
      "117061797ad94f73ac0cfa9af5f6761b",
      "2ead94117e8a4b889e177c76837ffdf3"
     ]
    },
    "id": "nlGECGLnv8IJ",
    "outputId": "777845f3-1027-4aeb-fc77-893523f5f714"
   },
   "cell_type": "code",
   "execution_count": null,
   "source": [
    "df[\"usd_rate\"] = df[\"usd_curve\"].progress_apply(\n",
    "    lambda curve: curve.get_rate(N_DAYS / 365)\n",
    ")"
   ],
   "outputs": []
  },
  {
   "metadata": {
    "id": "Fnd1q7j-v8IK"
   },
   "cell_type": "markdown",
   "source": [
    "## Saving final dataset."
   ]
  },
  {
   "metadata": {
    "colab": {
     "base_uri": "https://localhost:8080/",
     "height": 235
    },
    "id": "kqWJ9SoMv8IK",
    "outputId": "7da099d3-910d-4fbf-809c-07e2aaecf4d0"
   },
   "cell_type": "code",
   "execution_count": null,
   "source": [
    "data = df[[\"Bid_x\", \"Ask_x\", \"Bid_y\", \"Ask_y\", \"rub_rate\", \"usd_rate\"]]\n",
    "data.head()"
   ],
   "outputs": []
  },
  {
   "metadata": {
    "id": "W3T1VDg7v8IK"
   },
   "cell_type": "code",
   "execution_count": null,
   "source": [
    "data.to_pickle(PATH / \"two_assets.pkl\")"
   ],
   "outputs": []
  },
  {
   "cell_type": "code",
   "source": [
    "data = df[[\"Bid_x\", \"Ask_x\", \"rub_rate\", \"usd_rate\"]]\n",
    "data.rename(columns={\"Bid_x\": \"bid\", \"Ask_x\": \"ask\"}, inplace=True)\n",
    "data.head()"
   ],
   "metadata": {
    "colab": {
     "base_uri": "https://localhost:8080/",
     "height": 320
    },
    "id": "3xbKeQtv2j3y",
    "outputId": "a9811ca1-7ce2-42ba-8425-c949c9785441"
   },
   "execution_count": null,
   "outputs": []
  },
  {
   "cell_type": "code",
   "source": [
    "data.to_pickle(PATH / \"2024.pkl\")"
   ],
   "metadata": {
    "id": "-OPNudOj2rQD"
   },
   "execution_count": null,
   "outputs": []
  }
 ],
 "metadata": {
  "colab": {
   "machine_shape": "hm",
   "provenance": []
  },
  "kernelspec": {
   "display_name": "Python 3",
   "name": "python3"
  },
  "language_info": {
   "codemirror_mode": {
    "name": "ipython",
    "version": 3
   },
   "file_extension": ".py",
   "mimetype": "text/x-python",
   "name": "python",
   "nbconvert_exporter": "python",
   "pygments_lexer": "ipython3",
   "version": "3.8.5"
  },
  "max_cell_id": 35,
  "widgets": {
   "application/vnd.jupyter.widget-state+json": {
    "d7e69cc80dbb42ffb4eeb69cd20bec82": {
     "model_module": "@jupyter-widgets/controls",
     "model_name": "HBoxModel",
     "model_module_version": "1.5.0",
     "state": {
      "_dom_classes": [],
      "_model_module": "@jupyter-widgets/controls",
      "_model_module_version": "1.5.0",
      "_model_name": "HBoxModel",
      "_view_count": null,
      "_view_module": "@jupyter-widgets/controls",
      "_view_module_version": "1.5.0",
      "_view_name": "HBoxView",
      "box_style": "",
      "children": [
       "IPY_MODEL_60a030bfbc2c4dc1a3bb5f6e35e317cc",
       "IPY_MODEL_78302bccb4bd4fc8a44eb5f124cdb823",
       "IPY_MODEL_dc66840db08a4ec88e779b5605c0b810"
      ],
      "layout": "IPY_MODEL_080930a9efff43db8910e9ab10ba2365"
     }
    },
    "60a030bfbc2c4dc1a3bb5f6e35e317cc": {
     "model_module": "@jupyter-widgets/controls",
     "model_name": "HTMLModel",
     "model_module_version": "1.5.0",
     "state": {
      "_dom_classes": [],
      "_model_module": "@jupyter-widgets/controls",
      "_model_module_version": "1.5.0",
      "_model_name": "HTMLModel",
      "_view_count": null,
      "_view_module": "@jupyter-widgets/controls",
      "_view_module_version": "1.5.0",
      "_view_name": "HTMLView",
      "description": "",
      "description_tooltip": null,
      "layout": "IPY_MODEL_39068d7d97044a999bdd8e2f3909427b",
      "placeholder": "​",
      "style": "IPY_MODEL_325655658a6c410aba25c1210857b378",
      "value": "100%"
     }
    },
    "78302bccb4bd4fc8a44eb5f124cdb823": {
     "model_module": "@jupyter-widgets/controls",
     "model_name": "FloatProgressModel",
     "model_module_version": "1.5.0",
     "state": {
      "_dom_classes": [],
      "_model_module": "@jupyter-widgets/controls",
      "_model_module_version": "1.5.0",
      "_model_name": "FloatProgressModel",
      "_view_count": null,
      "_view_module": "@jupyter-widgets/controls",
      "_view_module_version": "1.5.0",
      "_view_name": "ProgressView",
      "bar_style": "success",
      "description": "",
      "description_tooltip": null,
      "layout": "IPY_MODEL_1fce307521394bdd89c6e006d6beec07",
      "max": 1488719,
      "min": 0,
      "orientation": "horizontal",
      "style": "IPY_MODEL_3a43e757ee574623bf0da8212030b74d",
      "value": 1488719
     }
    },
    "dc66840db08a4ec88e779b5605c0b810": {
     "model_module": "@jupyter-widgets/controls",
     "model_name": "HTMLModel",
     "model_module_version": "1.5.0",
     "state": {
      "_dom_classes": [],
      "_model_module": "@jupyter-widgets/controls",
      "_model_module_version": "1.5.0",
      "_model_name": "HTMLModel",
      "_view_count": null,
      "_view_module": "@jupyter-widgets/controls",
      "_view_module_version": "1.5.0",
      "_view_name": "HTMLView",
      "description": "",
      "description_tooltip": null,
      "layout": "IPY_MODEL_f9e93b2817eb4ba098e1b74f8268d419",
      "placeholder": "​",
      "style": "IPY_MODEL_0a7451a5ac3043579a2c724b645ec59b",
      "value": " 1488719/1488719 [04:56&lt;00:00, 1168.44it/s]"
     }
    },
    "080930a9efff43db8910e9ab10ba2365": {
     "model_module": "@jupyter-widgets/base",
     "model_name": "LayoutModel",
     "model_module_version": "1.2.0",
     "state": {
      "_model_module": "@jupyter-widgets/base",
      "_model_module_version": "1.2.0",
      "_model_name": "LayoutModel",
      "_view_count": null,
      "_view_module": "@jupyter-widgets/base",
      "_view_module_version": "1.2.0",
      "_view_name": "LayoutView",
      "align_content": null,
      "align_items": null,
      "align_self": null,
      "border": null,
      "bottom": null,
      "display": null,
      "flex": null,
      "flex_flow": null,
      "grid_area": null,
      "grid_auto_columns": null,
      "grid_auto_flow": null,
      "grid_auto_rows": null,
      "grid_column": null,
      "grid_gap": null,
      "grid_row": null,
      "grid_template_areas": null,
      "grid_template_columns": null,
      "grid_template_rows": null,
      "height": null,
      "justify_content": null,
      "justify_items": null,
      "left": null,
      "margin": null,
      "max_height": null,
      "max_width": null,
      "min_height": null,
      "min_width": null,
      "object_fit": null,
      "object_position": null,
      "order": null,
      "overflow": null,
      "overflow_x": null,
      "overflow_y": null,
      "padding": null,
      "right": null,
      "top": null,
      "visibility": null,
      "width": null
     }
    },
    "39068d7d97044a999bdd8e2f3909427b": {
     "model_module": "@jupyter-widgets/base",
     "model_name": "LayoutModel",
     "model_module_version": "1.2.0",
     "state": {
      "_model_module": "@jupyter-widgets/base",
      "_model_module_version": "1.2.0",
      "_model_name": "LayoutModel",
      "_view_count": null,
      "_view_module": "@jupyter-widgets/base",
      "_view_module_version": "1.2.0",
      "_view_name": "LayoutView",
      "align_content": null,
      "align_items": null,
      "align_self": null,
      "border": null,
      "bottom": null,
      "display": null,
      "flex": null,
      "flex_flow": null,
      "grid_area": null,
      "grid_auto_columns": null,
      "grid_auto_flow": null,
      "grid_auto_rows": null,
      "grid_column": null,
      "grid_gap": null,
      "grid_row": null,
      "grid_template_areas": null,
      "grid_template_columns": null,
      "grid_template_rows": null,
      "height": null,
      "justify_content": null,
      "justify_items": null,
      "left": null,
      "margin": null,
      "max_height": null,
      "max_width": null,
      "min_height": null,
      "min_width": null,
      "object_fit": null,
      "object_position": null,
      "order": null,
      "overflow": null,
      "overflow_x": null,
      "overflow_y": null,
      "padding": null,
      "right": null,
      "top": null,
      "visibility": null,
      "width": null
     }
    },
    "325655658a6c410aba25c1210857b378": {
     "model_module": "@jupyter-widgets/controls",
     "model_name": "DescriptionStyleModel",
     "model_module_version": "1.5.0",
     "state": {
      "_model_module": "@jupyter-widgets/controls",
      "_model_module_version": "1.5.0",
      "_model_name": "DescriptionStyleModel",
      "_view_count": null,
      "_view_module": "@jupyter-widgets/base",
      "_view_module_version": "1.2.0",
      "_view_name": "StyleView",
      "description_width": ""
     }
    },
    "1fce307521394bdd89c6e006d6beec07": {
     "model_module": "@jupyter-widgets/base",
     "model_name": "LayoutModel",
     "model_module_version": "1.2.0",
     "state": {
      "_model_module": "@jupyter-widgets/base",
      "_model_module_version": "1.2.0",
      "_model_name": "LayoutModel",
      "_view_count": null,
      "_view_module": "@jupyter-widgets/base",
      "_view_module_version": "1.2.0",
      "_view_name": "LayoutView",
      "align_content": null,
      "align_items": null,
      "align_self": null,
      "border": null,
      "bottom": null,
      "display": null,
      "flex": null,
      "flex_flow": null,
      "grid_area": null,
      "grid_auto_columns": null,
      "grid_auto_flow": null,
      "grid_auto_rows": null,
      "grid_column": null,
      "grid_gap": null,
      "grid_row": null,
      "grid_template_areas": null,
      "grid_template_columns": null,
      "grid_template_rows": null,
      "height": null,
      "justify_content": null,
      "justify_items": null,
      "left": null,
      "margin": null,
      "max_height": null,
      "max_width": null,
      "min_height": null,
      "min_width": null,
      "object_fit": null,
      "object_position": null,
      "order": null,
      "overflow": null,
      "overflow_x": null,
      "overflow_y": null,
      "padding": null,
      "right": null,
      "top": null,
      "visibility": null,
      "width": null
     }
    },
    "3a43e757ee574623bf0da8212030b74d": {
     "model_module": "@jupyter-widgets/controls",
     "model_name": "ProgressStyleModel",
     "model_module_version": "1.5.0",
     "state": {
      "_model_module": "@jupyter-widgets/controls",
      "_model_module_version": "1.5.0",
      "_model_name": "ProgressStyleModel",
      "_view_count": null,
      "_view_module": "@jupyter-widgets/base",
      "_view_module_version": "1.2.0",
      "_view_name": "StyleView",
      "bar_color": null,
      "description_width": ""
     }
    },
    "f9e93b2817eb4ba098e1b74f8268d419": {
     "model_module": "@jupyter-widgets/base",
     "model_name": "LayoutModel",
     "model_module_version": "1.2.0",
     "state": {
      "_model_module": "@jupyter-widgets/base",
      "_model_module_version": "1.2.0",
      "_model_name": "LayoutModel",
      "_view_count": null,
      "_view_module": "@jupyter-widgets/base",
      "_view_module_version": "1.2.0",
      "_view_name": "LayoutView",
      "align_content": null,
      "align_items": null,
      "align_self": null,
      "border": null,
      "bottom": null,
      "display": null,
      "flex": null,
      "flex_flow": null,
      "grid_area": null,
      "grid_auto_columns": null,
      "grid_auto_flow": null,
      "grid_auto_rows": null,
      "grid_column": null,
      "grid_gap": null,
      "grid_row": null,
      "grid_template_areas": null,
      "grid_template_columns": null,
      "grid_template_rows": null,
      "height": null,
      "justify_content": null,
      "justify_items": null,
      "left": null,
      "margin": null,
      "max_height": null,
      "max_width": null,
      "min_height": null,
      "min_width": null,
      "object_fit": null,
      "object_position": null,
      "order": null,
      "overflow": null,
      "overflow_x": null,
      "overflow_y": null,
      "padding": null,
      "right": null,
      "top": null,
      "visibility": null,
      "width": null
     }
    },
    "0a7451a5ac3043579a2c724b645ec59b": {
     "model_module": "@jupyter-widgets/controls",
     "model_name": "DescriptionStyleModel",
     "model_module_version": "1.5.0",
     "state": {
      "_model_module": "@jupyter-widgets/controls",
      "_model_module_version": "1.5.0",
      "_model_name": "DescriptionStyleModel",
      "_view_count": null,
      "_view_module": "@jupyter-widgets/base",
      "_view_module_version": "1.2.0",
      "_view_name": "StyleView",
      "description_width": ""
     }
    },
    "d0575fcb0ab14294a7e401082c970d8a": {
     "model_module": "@jupyter-widgets/controls",
     "model_name": "HBoxModel",
     "model_module_version": "1.5.0",
     "state": {
      "_dom_classes": [],
      "_model_module": "@jupyter-widgets/controls",
      "_model_module_version": "1.5.0",
      "_model_name": "HBoxModel",
      "_view_count": null,
      "_view_module": "@jupyter-widgets/controls",
      "_view_module_version": "1.5.0",
      "_view_name": "HBoxView",
      "box_style": "",
      "children": [
       "IPY_MODEL_9557e5e2ed2e4c358fe847a955a9762d",
       "IPY_MODEL_2f4a9607631045c298e7770c33f58e69",
       "IPY_MODEL_2dd89808f33c4aa0afb9bef343cc2d51"
      ],
      "layout": "IPY_MODEL_816d59f1f1f94ad7801eda0621ed5a51"
     }
    },
    "9557e5e2ed2e4c358fe847a955a9762d": {
     "model_module": "@jupyter-widgets/controls",
     "model_name": "HTMLModel",
     "model_module_version": "1.5.0",
     "state": {
      "_dom_classes": [],
      "_model_module": "@jupyter-widgets/controls",
      "_model_module_version": "1.5.0",
      "_model_name": "HTMLModel",
      "_view_count": null,
      "_view_module": "@jupyter-widgets/controls",
      "_view_module_version": "1.5.0",
      "_view_name": "HTMLView",
      "description": "",
      "description_tooltip": null,
      "layout": "IPY_MODEL_25beb9dfa894420085b9aec78364df08",
      "placeholder": "​",
      "style": "IPY_MODEL_440f5d6f96f24c3f8a0b37606227ad80",
      "value": " 91%"
     }
    },
    "2f4a9607631045c298e7770c33f58e69": {
     "model_module": "@jupyter-widgets/controls",
     "model_name": "FloatProgressModel",
     "model_module_version": "1.5.0",
     "state": {
      "_dom_classes": [],
      "_model_module": "@jupyter-widgets/controls",
      "_model_module_version": "1.5.0",
      "_model_name": "FloatProgressModel",
      "_view_count": null,
      "_view_module": "@jupyter-widgets/controls",
      "_view_module_version": "1.5.0",
      "_view_name": "ProgressView",
      "bar_style": "",
      "description": "",
      "description_tooltip": null,
      "layout": "IPY_MODEL_d999fb98cbb74b0c96ec56b9baaa9bda",
      "max": 1488719,
      "min": 0,
      "orientation": "horizontal",
      "style": "IPY_MODEL_c01b9cccae3348afa9bf805b099841a7",
      "value": 1355962
     }
    },
    "2dd89808f33c4aa0afb9bef343cc2d51": {
     "model_module": "@jupyter-widgets/controls",
     "model_name": "HTMLModel",
     "model_module_version": "1.5.0",
     "state": {
      "_dom_classes": [],
      "_model_module": "@jupyter-widgets/controls",
      "_model_module_version": "1.5.0",
      "_model_name": "HTMLModel",
      "_view_count": null,
      "_view_module": "@jupyter-widgets/controls",
      "_view_module_version": "1.5.0",
      "_view_name": "HTMLView",
      "description": "",
      "description_tooltip": null,
      "layout": "IPY_MODEL_949af51c68ad46fb856c58d7bb9d0d4d",
      "placeholder": "​",
      "style": "IPY_MODEL_acf35c020ce3461caa65a29b6541dc67",
      "value": " 1355198/1488719 [04:35&lt;06:33, 339.32it/s]"
     }
    },
    "816d59f1f1f94ad7801eda0621ed5a51": {
     "model_module": "@jupyter-widgets/base",
     "model_name": "LayoutModel",
     "model_module_version": "1.2.0",
     "state": {
      "_model_module": "@jupyter-widgets/base",
      "_model_module_version": "1.2.0",
      "_model_name": "LayoutModel",
      "_view_count": null,
      "_view_module": "@jupyter-widgets/base",
      "_view_module_version": "1.2.0",
      "_view_name": "LayoutView",
      "align_content": null,
      "align_items": null,
      "align_self": null,
      "border": null,
      "bottom": null,
      "display": null,
      "flex": null,
      "flex_flow": null,
      "grid_area": null,
      "grid_auto_columns": null,
      "grid_auto_flow": null,
      "grid_auto_rows": null,
      "grid_column": null,
      "grid_gap": null,
      "grid_row": null,
      "grid_template_areas": null,
      "grid_template_columns": null,
      "grid_template_rows": null,
      "height": null,
      "justify_content": null,
      "justify_items": null,
      "left": null,
      "margin": null,
      "max_height": null,
      "max_width": null,
      "min_height": null,
      "min_width": null,
      "object_fit": null,
      "object_position": null,
      "order": null,
      "overflow": null,
      "overflow_x": null,
      "overflow_y": null,
      "padding": null,
      "right": null,
      "top": null,
      "visibility": null,
      "width": null
     }
    },
    "25beb9dfa894420085b9aec78364df08": {
     "model_module": "@jupyter-widgets/base",
     "model_name": "LayoutModel",
     "model_module_version": "1.2.0",
     "state": {
      "_model_module": "@jupyter-widgets/base",
      "_model_module_version": "1.2.0",
      "_model_name": "LayoutModel",
      "_view_count": null,
      "_view_module": "@jupyter-widgets/base",
      "_view_module_version": "1.2.0",
      "_view_name": "LayoutView",
      "align_content": null,
      "align_items": null,
      "align_self": null,
      "border": null,
      "bottom": null,
      "display": null,
      "flex": null,
      "flex_flow": null,
      "grid_area": null,
      "grid_auto_columns": null,
      "grid_auto_flow": null,
      "grid_auto_rows": null,
      "grid_column": null,
      "grid_gap": null,
      "grid_row": null,
      "grid_template_areas": null,
      "grid_template_columns": null,
      "grid_template_rows": null,
      "height": null,
      "justify_content": null,
      "justify_items": null,
      "left": null,
      "margin": null,
      "max_height": null,
      "max_width": null,
      "min_height": null,
      "min_width": null,
      "object_fit": null,
      "object_position": null,
      "order": null,
      "overflow": null,
      "overflow_x": null,
      "overflow_y": null,
      "padding": null,
      "right": null,
      "top": null,
      "visibility": null,
      "width": null
     }
    },
    "440f5d6f96f24c3f8a0b37606227ad80": {
     "model_module": "@jupyter-widgets/controls",
     "model_name": "DescriptionStyleModel",
     "model_module_version": "1.5.0",
     "state": {
      "_model_module": "@jupyter-widgets/controls",
      "_model_module_version": "1.5.0",
      "_model_name": "DescriptionStyleModel",
      "_view_count": null,
      "_view_module": "@jupyter-widgets/base",
      "_view_module_version": "1.2.0",
      "_view_name": "StyleView",
      "description_width": ""
     }
    },
    "d999fb98cbb74b0c96ec56b9baaa9bda": {
     "model_module": "@jupyter-widgets/base",
     "model_name": "LayoutModel",
     "model_module_version": "1.2.0",
     "state": {
      "_model_module": "@jupyter-widgets/base",
      "_model_module_version": "1.2.0",
      "_model_name": "LayoutModel",
      "_view_count": null,
      "_view_module": "@jupyter-widgets/base",
      "_view_module_version": "1.2.0",
      "_view_name": "LayoutView",
      "align_content": null,
      "align_items": null,
      "align_self": null,
      "border": null,
      "bottom": null,
      "display": null,
      "flex": null,
      "flex_flow": null,
      "grid_area": null,
      "grid_auto_columns": null,
      "grid_auto_flow": null,
      "grid_auto_rows": null,
      "grid_column": null,
      "grid_gap": null,
      "grid_row": null,
      "grid_template_areas": null,
      "grid_template_columns": null,
      "grid_template_rows": null,
      "height": null,
      "justify_content": null,
      "justify_items": null,
      "left": null,
      "margin": null,
      "max_height": null,
      "max_width": null,
      "min_height": null,
      "min_width": null,
      "object_fit": null,
      "object_position": null,
      "order": null,
      "overflow": null,
      "overflow_x": null,
      "overflow_y": null,
      "padding": null,
      "right": null,
      "top": null,
      "visibility": null,
      "width": null
     }
    },
    "c01b9cccae3348afa9bf805b099841a7": {
     "model_module": "@jupyter-widgets/controls",
     "model_name": "ProgressStyleModel",
     "model_module_version": "1.5.0",
     "state": {
      "_model_module": "@jupyter-widgets/controls",
      "_model_module_version": "1.5.0",
      "_model_name": "ProgressStyleModel",
      "_view_count": null,
      "_view_module": "@jupyter-widgets/base",
      "_view_module_version": "1.2.0",
      "_view_name": "StyleView",
      "bar_color": null,
      "description_width": ""
     }
    },
    "949af51c68ad46fb856c58d7bb9d0d4d": {
     "model_module": "@jupyter-widgets/base",
     "model_name": "LayoutModel",
     "model_module_version": "1.2.0",
     "state": {
      "_model_module": "@jupyter-widgets/base",
      "_model_module_version": "1.2.0",
      "_model_name": "LayoutModel",
      "_view_count": null,
      "_view_module": "@jupyter-widgets/base",
      "_view_module_version": "1.2.0",
      "_view_name": "LayoutView",
      "align_content": null,
      "align_items": null,
      "align_self": null,
      "border": null,
      "bottom": null,
      "display": null,
      "flex": null,
      "flex_flow": null,
      "grid_area": null,
      "grid_auto_columns": null,
      "grid_auto_flow": null,
      "grid_auto_rows": null,
      "grid_column": null,
      "grid_gap": null,
      "grid_row": null,
      "grid_template_areas": null,
      "grid_template_columns": null,
      "grid_template_rows": null,
      "height": null,
      "justify_content": null,
      "justify_items": null,
      "left": null,
      "margin": null,
      "max_height": null,
      "max_width": null,
      "min_height": null,
      "min_width": null,
      "object_fit": null,
      "object_position": null,
      "order": null,
      "overflow": null,
      "overflow_x": null,
      "overflow_y": null,
      "padding": null,
      "right": null,
      "top": null,
      "visibility": null,
      "width": null
     }
    },
    "acf35c020ce3461caa65a29b6541dc67": {
     "model_module": "@jupyter-widgets/controls",
     "model_name": "DescriptionStyleModel",
     "model_module_version": "1.5.0",
     "state": {
      "_model_module": "@jupyter-widgets/controls",
      "_model_module_version": "1.5.0",
      "_model_name": "DescriptionStyleModel",
      "_view_count": null,
      "_view_module": "@jupyter-widgets/base",
      "_view_module_version": "1.2.0",
      "_view_name": "StyleView",
      "description_width": ""
     }
    },
    "dc6a53ed258a456ea1bab05c306e32e9": {
     "model_module": "@jupyter-widgets/controls",
     "model_name": "HBoxModel",
     "model_module_version": "1.5.0",
     "state": {
      "_dom_classes": [],
      "_model_module": "@jupyter-widgets/controls",
      "_model_module_version": "1.5.0",
      "_model_name": "HBoxModel",
      "_view_count": null,
      "_view_module": "@jupyter-widgets/controls",
      "_view_module_version": "1.5.0",
      "_view_name": "HBoxView",
      "box_style": "",
      "children": [
       "IPY_MODEL_ec99d991bee84b72bac3a8eedb79aea4",
       "IPY_MODEL_5831fce248394224901770661b5581dd",
       "IPY_MODEL_eab43525643247a5af1f1dde9bef6fb4"
      ],
      "layout": "IPY_MODEL_c6789e5625db4507ba05584919d74298"
     }
    },
    "ec99d991bee84b72bac3a8eedb79aea4": {
     "model_module": "@jupyter-widgets/controls",
     "model_name": "HTMLModel",
     "model_module_version": "1.5.0",
     "state": {
      "_dom_classes": [],
      "_model_module": "@jupyter-widgets/controls",
      "_model_module_version": "1.5.0",
      "_model_name": "HTMLModel",
      "_view_count": null,
      "_view_module": "@jupyter-widgets/controls",
      "_view_module_version": "1.5.0",
      "_view_name": "HTMLView",
      "description": "",
      "description_tooltip": null,
      "layout": "IPY_MODEL_6e560034b133403aab5570b6dd3db6e4",
      "placeholder": "​",
      "style": "IPY_MODEL_89b3841ca83f4461b0f7d21a20c5f8ec",
      "value": "100%"
     }
    },
    "5831fce248394224901770661b5581dd": {
     "model_module": "@jupyter-widgets/controls",
     "model_name": "FloatProgressModel",
     "model_module_version": "1.5.0",
     "state": {
      "_dom_classes": [],
      "_model_module": "@jupyter-widgets/controls",
      "_model_module_version": "1.5.0",
      "_model_name": "FloatProgressModel",
      "_view_count": null,
      "_view_module": "@jupyter-widgets/controls",
      "_view_module_version": "1.5.0",
      "_view_name": "ProgressView",
      "bar_style": "success",
      "description": "",
      "description_tooltip": null,
      "layout": "IPY_MODEL_847ec029766242dc8e553a26fefdc7c3",
      "max": 1488719,
      "min": 0,
      "orientation": "horizontal",
      "style": "IPY_MODEL_ce349264c7974dfabf993a7ccbcb51df",
      "value": 1488719
     }
    },
    "eab43525643247a5af1f1dde9bef6fb4": {
     "model_module": "@jupyter-widgets/controls",
     "model_name": "HTMLModel",
     "model_module_version": "1.5.0",
     "state": {
      "_dom_classes": [],
      "_model_module": "@jupyter-widgets/controls",
      "_model_module_version": "1.5.0",
      "_model_name": "HTMLModel",
      "_view_count": null,
      "_view_module": "@jupyter-widgets/controls",
      "_view_module_version": "1.5.0",
      "_view_name": "HTMLView",
      "description": "",
      "description_tooltip": null,
      "layout": "IPY_MODEL_ab60e6b7090140ac918705b23cd56a16",
      "placeholder": "​",
      "style": "IPY_MODEL_bb1422f55bc546aaa19af74228e8ebaa",
      "value": " 1488719/1488719 [04:38&lt;00:00, 5419.47it/s]"
     }
    },
    "c6789e5625db4507ba05584919d74298": {
     "model_module": "@jupyter-widgets/base",
     "model_name": "LayoutModel",
     "model_module_version": "1.2.0",
     "state": {
      "_model_module": "@jupyter-widgets/base",
      "_model_module_version": "1.2.0",
      "_model_name": "LayoutModel",
      "_view_count": null,
      "_view_module": "@jupyter-widgets/base",
      "_view_module_version": "1.2.0",
      "_view_name": "LayoutView",
      "align_content": null,
      "align_items": null,
      "align_self": null,
      "border": null,
      "bottom": null,
      "display": null,
      "flex": null,
      "flex_flow": null,
      "grid_area": null,
      "grid_auto_columns": null,
      "grid_auto_flow": null,
      "grid_auto_rows": null,
      "grid_column": null,
      "grid_gap": null,
      "grid_row": null,
      "grid_template_areas": null,
      "grid_template_columns": null,
      "grid_template_rows": null,
      "height": null,
      "justify_content": null,
      "justify_items": null,
      "left": null,
      "margin": null,
      "max_height": null,
      "max_width": null,
      "min_height": null,
      "min_width": null,
      "object_fit": null,
      "object_position": null,
      "order": null,
      "overflow": null,
      "overflow_x": null,
      "overflow_y": null,
      "padding": null,
      "right": null,
      "top": null,
      "visibility": null,
      "width": null
     }
    },
    "6e560034b133403aab5570b6dd3db6e4": {
     "model_module": "@jupyter-widgets/base",
     "model_name": "LayoutModel",
     "model_module_version": "1.2.0",
     "state": {
      "_model_module": "@jupyter-widgets/base",
      "_model_module_version": "1.2.0",
      "_model_name": "LayoutModel",
      "_view_count": null,
      "_view_module": "@jupyter-widgets/base",
      "_view_module_version": "1.2.0",
      "_view_name": "LayoutView",
      "align_content": null,
      "align_items": null,
      "align_self": null,
      "border": null,
      "bottom": null,
      "display": null,
      "flex": null,
      "flex_flow": null,
      "grid_area": null,
      "grid_auto_columns": null,
      "grid_auto_flow": null,
      "grid_auto_rows": null,
      "grid_column": null,
      "grid_gap": null,
      "grid_row": null,
      "grid_template_areas": null,
      "grid_template_columns": null,
      "grid_template_rows": null,
      "height": null,
      "justify_content": null,
      "justify_items": null,
      "left": null,
      "margin": null,
      "max_height": null,
      "max_width": null,
      "min_height": null,
      "min_width": null,
      "object_fit": null,
      "object_position": null,
      "order": null,
      "overflow": null,
      "overflow_x": null,
      "overflow_y": null,
      "padding": null,
      "right": null,
      "top": null,
      "visibility": null,
      "width": null
     }
    },
    "89b3841ca83f4461b0f7d21a20c5f8ec": {
     "model_module": "@jupyter-widgets/controls",
     "model_name": "DescriptionStyleModel",
     "model_module_version": "1.5.0",
     "state": {
      "_model_module": "@jupyter-widgets/controls",
      "_model_module_version": "1.5.0",
      "_model_name": "DescriptionStyleModel",
      "_view_count": null,
      "_view_module": "@jupyter-widgets/base",
      "_view_module_version": "1.2.0",
      "_view_name": "StyleView",
      "description_width": ""
     }
    },
    "847ec029766242dc8e553a26fefdc7c3": {
     "model_module": "@jupyter-widgets/base",
     "model_name": "LayoutModel",
     "model_module_version": "1.2.0",
     "state": {
      "_model_module": "@jupyter-widgets/base",
      "_model_module_version": "1.2.0",
      "_model_name": "LayoutModel",
      "_view_count": null,
      "_view_module": "@jupyter-widgets/base",
      "_view_module_version": "1.2.0",
      "_view_name": "LayoutView",
      "align_content": null,
      "align_items": null,
      "align_self": null,
      "border": null,
      "bottom": null,
      "display": null,
      "flex": null,
      "flex_flow": null,
      "grid_area": null,
      "grid_auto_columns": null,
      "grid_auto_flow": null,
      "grid_auto_rows": null,
      "grid_column": null,
      "grid_gap": null,
      "grid_row": null,
      "grid_template_areas": null,
      "grid_template_columns": null,
      "grid_template_rows": null,
      "height": null,
      "justify_content": null,
      "justify_items": null,
      "left": null,
      "margin": null,
      "max_height": null,
      "max_width": null,
      "min_height": null,
      "min_width": null,
      "object_fit": null,
      "object_position": null,
      "order": null,
      "overflow": null,
      "overflow_x": null,
      "overflow_y": null,
      "padding": null,
      "right": null,
      "top": null,
      "visibility": null,
      "width": null
     }
    },
    "ce349264c7974dfabf993a7ccbcb51df": {
     "model_module": "@jupyter-widgets/controls",
     "model_name": "ProgressStyleModel",
     "model_module_version": "1.5.0",
     "state": {
      "_model_module": "@jupyter-widgets/controls",
      "_model_module_version": "1.5.0",
      "_model_name": "ProgressStyleModel",
      "_view_count": null,
      "_view_module": "@jupyter-widgets/base",
      "_view_module_version": "1.2.0",
      "_view_name": "StyleView",
      "bar_color": null,
      "description_width": ""
     }
    },
    "ab60e6b7090140ac918705b23cd56a16": {
     "model_module": "@jupyter-widgets/base",
     "model_name": "LayoutModel",
     "model_module_version": "1.2.0",
     "state": {
      "_model_module": "@jupyter-widgets/base",
      "_model_module_version": "1.2.0",
      "_model_name": "LayoutModel",
      "_view_count": null,
      "_view_module": "@jupyter-widgets/base",
      "_view_module_version": "1.2.0",
      "_view_name": "LayoutView",
      "align_content": null,
      "align_items": null,
      "align_self": null,
      "border": null,
      "bottom": null,
      "display": null,
      "flex": null,
      "flex_flow": null,
      "grid_area": null,
      "grid_auto_columns": null,
      "grid_auto_flow": null,
      "grid_auto_rows": null,
      "grid_column": null,
      "grid_gap": null,
      "grid_row": null,
      "grid_template_areas": null,
      "grid_template_columns": null,
      "grid_template_rows": null,
      "height": null,
      "justify_content": null,
      "justify_items": null,
      "left": null,
      "margin": null,
      "max_height": null,
      "max_width": null,
      "min_height": null,
      "min_width": null,
      "object_fit": null,
      "object_position": null,
      "order": null,
      "overflow": null,
      "overflow_x": null,
      "overflow_y": null,
      "padding": null,
      "right": null,
      "top": null,
      "visibility": null,
      "width": null
     }
    },
    "bb1422f55bc546aaa19af74228e8ebaa": {
     "model_module": "@jupyter-widgets/controls",
     "model_name": "DescriptionStyleModel",
     "model_module_version": "1.5.0",
     "state": {
      "_model_module": "@jupyter-widgets/controls",
      "_model_module_version": "1.5.0",
      "_model_name": "DescriptionStyleModel",
      "_view_count": null,
      "_view_module": "@jupyter-widgets/base",
      "_view_module_version": "1.2.0",
      "_view_name": "StyleView",
      "description_width": ""
     }
    },
    "3b11501e541241c1a64184bb4db68e59": {
     "model_module": "@jupyter-widgets/controls",
     "model_name": "HBoxModel",
     "model_module_version": "1.5.0",
     "state": {
      "_dom_classes": [],
      "_model_module": "@jupyter-widgets/controls",
      "_model_module_version": "1.5.0",
      "_model_name": "HBoxModel",
      "_view_count": null,
      "_view_module": "@jupyter-widgets/controls",
      "_view_module_version": "1.5.0",
      "_view_name": "HBoxView",
      "box_style": "",
      "children": [
       "IPY_MODEL_36012ea1bccd4077aad26efe04accf9e",
       "IPY_MODEL_8d530dbe8cbb4c3b9d6ad77da71cf9c0",
       "IPY_MODEL_18e7c32011ab40998b539c0912505f8c"
      ],
      "layout": "IPY_MODEL_65ef1dfc8f094056a044ca9e47b2059b"
     }
    },
    "36012ea1bccd4077aad26efe04accf9e": {
     "model_module": "@jupyter-widgets/controls",
     "model_name": "HTMLModel",
     "model_module_version": "1.5.0",
     "state": {
      "_dom_classes": [],
      "_model_module": "@jupyter-widgets/controls",
      "_model_module_version": "1.5.0",
      "_model_name": "HTMLModel",
      "_view_count": null,
      "_view_module": "@jupyter-widgets/controls",
      "_view_module_version": "1.5.0",
      "_view_name": "HTMLView",
      "description": "",
      "description_tooltip": null,
      "layout": "IPY_MODEL_426ad31e0a0541bdaaefe44e7dd7fe34",
      "placeholder": "​",
      "style": "IPY_MODEL_0f624cf1c73a4ff286f1b25c5ec563af",
      "value": "100%"
     }
    },
    "8d530dbe8cbb4c3b9d6ad77da71cf9c0": {
     "model_module": "@jupyter-widgets/controls",
     "model_name": "FloatProgressModel",
     "model_module_version": "1.5.0",
     "state": {
      "_dom_classes": [],
      "_model_module": "@jupyter-widgets/controls",
      "_model_module_version": "1.5.0",
      "_model_name": "FloatProgressModel",
      "_view_count": null,
      "_view_module": "@jupyter-widgets/controls",
      "_view_module_version": "1.5.0",
      "_view_name": "ProgressView",
      "bar_style": "success",
      "description": "",
      "description_tooltip": null,
      "layout": "IPY_MODEL_9a2e7a206a3446f9b910292bb19e0266",
      "max": 1488719,
      "min": 0,
      "orientation": "horizontal",
      "style": "IPY_MODEL_2703984a82e941d5a45e53b38eaa6b4a",
      "value": 1488719
     }
    },
    "18e7c32011ab40998b539c0912505f8c": {
     "model_module": "@jupyter-widgets/controls",
     "model_name": "HTMLModel",
     "model_module_version": "1.5.0",
     "state": {
      "_dom_classes": [],
      "_model_module": "@jupyter-widgets/controls",
      "_model_module_version": "1.5.0",
      "_model_name": "HTMLModel",
      "_view_count": null,
      "_view_module": "@jupyter-widgets/controls",
      "_view_module_version": "1.5.0",
      "_view_name": "HTMLView",
      "description": "",
      "description_tooltip": null,
      "layout": "IPY_MODEL_117061797ad94f73ac0cfa9af5f6761b",
      "placeholder": "​",
      "style": "IPY_MODEL_2ead94117e8a4b889e177c76837ffdf3",
      "value": " 1488719/1488719 [04:36&lt;00:00, 5829.98it/s]"
     }
    },
    "65ef1dfc8f094056a044ca9e47b2059b": {
     "model_module": "@jupyter-widgets/base",
     "model_name": "LayoutModel",
     "model_module_version": "1.2.0",
     "state": {
      "_model_module": "@jupyter-widgets/base",
      "_model_module_version": "1.2.0",
      "_model_name": "LayoutModel",
      "_view_count": null,
      "_view_module": "@jupyter-widgets/base",
      "_view_module_version": "1.2.0",
      "_view_name": "LayoutView",
      "align_content": null,
      "align_items": null,
      "align_self": null,
      "border": null,
      "bottom": null,
      "display": null,
      "flex": null,
      "flex_flow": null,
      "grid_area": null,
      "grid_auto_columns": null,
      "grid_auto_flow": null,
      "grid_auto_rows": null,
      "grid_column": null,
      "grid_gap": null,
      "grid_row": null,
      "grid_template_areas": null,
      "grid_template_columns": null,
      "grid_template_rows": null,
      "height": null,
      "justify_content": null,
      "justify_items": null,
      "left": null,
      "margin": null,
      "max_height": null,
      "max_width": null,
      "min_height": null,
      "min_width": null,
      "object_fit": null,
      "object_position": null,
      "order": null,
      "overflow": null,
      "overflow_x": null,
      "overflow_y": null,
      "padding": null,
      "right": null,
      "top": null,
      "visibility": null,
      "width": null
     }
    },
    "426ad31e0a0541bdaaefe44e7dd7fe34": {
     "model_module": "@jupyter-widgets/base",
     "model_name": "LayoutModel",
     "model_module_version": "1.2.0",
     "state": {
      "_model_module": "@jupyter-widgets/base",
      "_model_module_version": "1.2.0",
      "_model_name": "LayoutModel",
      "_view_count": null,
      "_view_module": "@jupyter-widgets/base",
      "_view_module_version": "1.2.0",
      "_view_name": "LayoutView",
      "align_content": null,
      "align_items": null,
      "align_self": null,
      "border": null,
      "bottom": null,
      "display": null,
      "flex": null,
      "flex_flow": null,
      "grid_area": null,
      "grid_auto_columns": null,
      "grid_auto_flow": null,
      "grid_auto_rows": null,
      "grid_column": null,
      "grid_gap": null,
      "grid_row": null,
      "grid_template_areas": null,
      "grid_template_columns": null,
      "grid_template_rows": null,
      "height": null,
      "justify_content": null,
      "justify_items": null,
      "left": null,
      "margin": null,
      "max_height": null,
      "max_width": null,
      "min_height": null,
      "min_width": null,
      "object_fit": null,
      "object_position": null,
      "order": null,
      "overflow": null,
      "overflow_x": null,
      "overflow_y": null,
      "padding": null,
      "right": null,
      "top": null,
      "visibility": null,
      "width": null
     }
    },
    "0f624cf1c73a4ff286f1b25c5ec563af": {
     "model_module": "@jupyter-widgets/controls",
     "model_name": "DescriptionStyleModel",
     "model_module_version": "1.5.0",
     "state": {
      "_model_module": "@jupyter-widgets/controls",
      "_model_module_version": "1.5.0",
      "_model_name": "DescriptionStyleModel",
      "_view_count": null,
      "_view_module": "@jupyter-widgets/base",
      "_view_module_version": "1.2.0",
      "_view_name": "StyleView",
      "description_width": ""
     }
    },
    "9a2e7a206a3446f9b910292bb19e0266": {
     "model_module": "@jupyter-widgets/base",
     "model_name": "LayoutModel",
     "model_module_version": "1.2.0",
     "state": {
      "_model_module": "@jupyter-widgets/base",
      "_model_module_version": "1.2.0",
      "_model_name": "LayoutModel",
      "_view_count": null,
      "_view_module": "@jupyter-widgets/base",
      "_view_module_version": "1.2.0",
      "_view_name": "LayoutView",
      "align_content": null,
      "align_items": null,
      "align_self": null,
      "border": null,
      "bottom": null,
      "display": null,
      "flex": null,
      "flex_flow": null,
      "grid_area": null,
      "grid_auto_columns": null,
      "grid_auto_flow": null,
      "grid_auto_rows": null,
      "grid_column": null,
      "grid_gap": null,
      "grid_row": null,
      "grid_template_areas": null,
      "grid_template_columns": null,
      "grid_template_rows": null,
      "height": null,
      "justify_content": null,
      "justify_items": null,
      "left": null,
      "margin": null,
      "max_height": null,
      "max_width": null,
      "min_height": null,
      "min_width": null,
      "object_fit": null,
      "object_position": null,
      "order": null,
      "overflow": null,
      "overflow_x": null,
      "overflow_y": null,
      "padding": null,
      "right": null,
      "top": null,
      "visibility": null,
      "width": null
     }
    },
    "2703984a82e941d5a45e53b38eaa6b4a": {
     "model_module": "@jupyter-widgets/controls",
     "model_name": "ProgressStyleModel",
     "model_module_version": "1.5.0",
     "state": {
      "_model_module": "@jupyter-widgets/controls",
      "_model_module_version": "1.5.0",
      "_model_name": "ProgressStyleModel",
      "_view_count": null,
      "_view_module": "@jupyter-widgets/base",
      "_view_module_version": "1.2.0",
      "_view_name": "StyleView",
      "bar_color": null,
      "description_width": ""
     }
    },
    "117061797ad94f73ac0cfa9af5f6761b": {
     "model_module": "@jupyter-widgets/base",
     "model_name": "LayoutModel",
     "model_module_version": "1.2.0",
     "state": {
      "_model_module": "@jupyter-widgets/base",
      "_model_module_version": "1.2.0",
      "_model_name": "LayoutModel",
      "_view_count": null,
      "_view_module": "@jupyter-widgets/base",
      "_view_module_version": "1.2.0",
      "_view_name": "LayoutView",
      "align_content": null,
      "align_items": null,
      "align_self": null,
      "border": null,
      "bottom": null,
      "display": null,
      "flex": null,
      "flex_flow": null,
      "grid_area": null,
      "grid_auto_columns": null,
      "grid_auto_flow": null,
      "grid_auto_rows": null,
      "grid_column": null,
      "grid_gap": null,
      "grid_row": null,
      "grid_template_areas": null,
      "grid_template_columns": null,
      "grid_template_rows": null,
      "height": null,
      "justify_content": null,
      "justify_items": null,
      "left": null,
      "margin": null,
      "max_height": null,
      "max_width": null,
      "min_height": null,
      "min_width": null,
      "object_fit": null,
      "object_position": null,
      "order": null,
      "overflow": null,
      "overflow_x": null,
      "overflow_y": null,
      "padding": null,
      "right": null,
      "top": null,
      "visibility": null,
      "width": null
     }
    },
    "2ead94117e8a4b889e177c76837ffdf3": {
     "model_module": "@jupyter-widgets/controls",
     "model_name": "DescriptionStyleModel",
     "model_module_version": "1.5.0",
     "state": {
      "_model_module": "@jupyter-widgets/controls",
      "_model_module_version": "1.5.0",
      "_model_name": "DescriptionStyleModel",
      "_view_count": null,
      "_view_module": "@jupyter-widgets/base",
      "_view_module_version": "1.2.0",
      "_view_name": "StyleView",
      "description_width": ""
     }
    }
   }
  }
 },
 "nbformat": 4,
 "nbformat_minor": 0
}
