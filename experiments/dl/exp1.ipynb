{
 "cells": [
  {
   "cell_type": "markdown",
   "metadata": {
    "id": "41VE08_pyFuR"
   },
   "source": [
    "# **Deep Hedging**\n",
    "# Buchkov Viacheslav"
   ]
  },
  {
   "cell_type": "code",
   "metadata": {
    "id": "LKcSNj4tlRVK",
    "ExecuteTime": {
     "end_time": "2024-05-20T23:00:39.278786Z",
     "start_time": "2024-05-20T23:00:37.876918Z"
    }
   },
   "source": [
    "import abc\n",
    "import math\n",
    "import os\n",
    "import random\n",
    "import sys\n",
    "from functools import lru_cache\n",
    "from pathlib import Path\n",
    "\n",
    "import matplotlib.pyplot as plt\n",
    "import numpy as np\n",
    "import pandas as pd\n",
    "\n",
    "import torch\n",
    "from torch import nn\n",
    "from torch.nn import functional as F\n",
    "from torch.utils.data import DataLoader\n",
    "from tqdm import tqdm\n",
    "\n",
    "# You may add any imports you need\n",
    "from torch.cuda.amp import GradScaler\n",
    "\n",
    "RANDOM_SEED = 12"
   ],
   "execution_count": 1,
   "outputs": []
  },
  {
   "cell_type": "code",
   "metadata": {
    "id": "47YPLjDL-Mtv",
    "ExecuteTime": {
     "end_time": "2024-05-20T23:00:39.284894Z",
     "start_time": "2024-05-20T23:00:39.280084Z"
    }
   },
   "source": [
    "def seed_everything(seed):\n",
    "    random.seed(seed)\n",
    "    np.random.seed(seed)\n",
    "    torch.manual_seed(seed)\n",
    "    torch.cuda.manual_seed(seed)\n",
    "    torch.backends.cudnn.deterministic = True\n",
    "\n",
    "\n",
    "seed_everything(RANDOM_SEED)"
   ],
   "execution_count": 2,
   "outputs": []
  },
  {
   "cell_type": "code",
   "source": [
    "N_DAYS = 5\n",
    "PATH = Path(\"data\")"
   ],
   "metadata": {
    "id": "QmkSjI1Regtf",
    "ExecuteTime": {
     "end_time": "2024-05-20T23:00:39.287228Z",
     "start_time": "2024-05-20T23:00:39.285678Z"
    }
   },
   "execution_count": 3,
   "outputs": []
  },
  {
   "metadata": {
    "ExecuteTime": {
     "end_time": "2024-05-20T23:00:39.367238Z",
     "start_time": "2024-05-20T23:00:39.287853Z"
    }
   },
   "cell_type": "code",
   "source": [
    "data = pd.read_pickle(PATH / \"data.pkl\")\n",
    "data[\"rub_rate\"] = data[\"rub_rate\"] / 100\n",
    "data.dropna(inplace=True)\n",
    "data"
   ],
   "execution_count": 4,
   "outputs": []
  },
  {
   "metadata": {
    "ExecuteTime": {
     "end_time": "2024-05-20T23:00:39.374399Z",
     "start_time": "2024-05-20T23:00:39.368955Z"
    }
   },
   "cell_type": "code",
   "source": [
    "from src.base.instrument import Instrument\n",
    "from src.forward.forward import Forward\n",
    "\n",
    "\n",
    "def create_instrument(period_df: pd.DataFrame) -> Instrument:\n",
    "    start = period_df.loc[period_df.index.min()]\n",
    "    return Forward(\n",
    "        rates_difference=start[\"rub_rate\"] - start[\"usd_rate\"],\n",
    "        spot_price=start[\"ask\"],\n",
    "        term=N_DAYS / 365,\n",
    "    )"
   ],
   "execution_count": 5,
   "outputs": []
  },
  {
   "metadata": {
    "ExecuteTime": {
     "end_time": "2024-05-20T23:00:39.384014Z",
     "start_time": "2024-05-20T23:00:39.375215Z"
    }
   },
   "cell_type": "code",
   "source": [
    "import datetime as dt\n",
    "\n",
    "start_date = data.index.min()\n",
    "end_date = start_date + dt.timedelta(days=N_DAYS)\n",
    "data[(data.index >= data.index.min()) & (data.index <= end_date)]"
   ],
   "execution_count": 6,
   "outputs": []
  },
  {
   "metadata": {
    "ExecuteTime": {
     "end_time": "2024-05-20T23:00:39.389256Z",
     "start_time": "2024-05-20T23:00:39.385053Z"
    }
   },
   "cell_type": "code",
   "source": [
    "fwd = create_instrument(\n",
    "    data[(data.index >= data.index.min()) & (data.index <= end_date)]\n",
    ")\n",
    "fwd"
   ],
   "execution_count": 7,
   "outputs": []
  },
  {
   "metadata": {
    "ExecuteTime": {
     "end_time": "2024-05-20T23:00:39.410012Z",
     "start_time": "2024-05-20T23:00:39.389916Z"
    }
   },
   "cell_type": "code",
   "source": [
    "start_date = data.index.min()\n",
    "end_date = start_date + dt.timedelta(days=N_DAYS)\n",
    "i = 1\n",
    "\n",
    "feature_data = []\n",
    "target_data = []\n",
    "while end_date < data.index.max():\n",
    "    features = data[(data.index >= start_date) & (data.index <= end_date)]\n",
    "    target = create_instrument(features).payoff(spot=features.ask.iloc[-1])\n",
    "    print(create_instrument(features), features.ask.iloc[-1])\n",
    "\n",
    "    feature_data.append(features.to_numpy())\n",
    "    target_data.append(target)\n",
    "\n",
    "    start_date = data.index[i]\n",
    "    end_date = start_date + dt.timedelta(days=N_DAYS)\n",
    "    i += 1\n",
    "\n",
    "    if i > 10:\n",
    "        break\n",
    "\n",
    "target_data"
   ],
   "execution_count": 8,
   "outputs": []
  },
  {
   "metadata": {},
   "cell_type": "markdown",
   "source": "## Dataset."
  },
  {
   "cell_type": "code",
   "source": [
    "from typing import Union, Type\n",
    "from torch.utils.data import Dataset\n",
    "\n",
    "from src.base.instrument import Instrument\n",
    "\n",
    "\n",
    "class SpotDataset(Dataset):\n",
    "    BID_COLUMN = \"bid\"\n",
    "    ASK_COLUMN = \"ask\"\n",
    "    RATE_DOMESTIC_COLUMN = \"rub_rate\"\n",
    "    RATE_FOREIGN_COLUMN = \"usd_rate\"\n",
    "\n",
    "    def __init__(\n",
    "        self,\n",
    "        instrument_cls: Type[Instrument],\n",
    "        n_days: int = N_DAYS,\n",
    "        path: Path = PATH,\n",
    "        data: Union[pd.DataFrame, None] = None,\n",
    "    ):\n",
    "        self.instrument_cls = instrument_cls\n",
    "        self.n_days = n_days\n",
    "\n",
    "        self.data = self._create_df(path) if data is None else data\n",
    "        # self.data = self.data.dropna()\n",
    "        self.data = self.data.fillna(method=\"ffill\")\n",
    "        # self.X, self.y = self._create_dataset()\n",
    "\n",
    "    @staticmethod\n",
    "    def _create_df(path: Path) -> pd.DataFrame:\n",
    "        if \"data.pkl\" in os.listdir(path):\n",
    "            return pd.read_pickle(PATH / \"data.pkl\")\n",
    "        else:\n",
    "            pass\n",
    "\n",
    "    # def _create_dataset(self) -> tuple[list[np.array], list[float]]:\n",
    "    #     start_date = self.data.index.min()\n",
    "    #     end_date = start_date + dt.timedelta(days=self.n_days)\n",
    "    #     i = 1\n",
    "    #\n",
    "    #     feature_data = []\n",
    "    #     target_data = []\n",
    "    #     print(\"Creating dataset...\")\n",
    "    #     while end_date < self.data.index.max():\n",
    "    #         features = self.data[(self.data.index >= start_date) & (self.data.index <= end_date)]\n",
    "    #         target = self._create_instrument(features).payoff(spot=features.ask.iloc[-1])\n",
    "    #\n",
    "    #         feature_data.append(features.to_numpy())\n",
    "    #         target_data.append(target)\n",
    "    #\n",
    "    #         start_date = self.data.index[i]\n",
    "    #         end_date = start_date + dt.timedelta(days=self.n_days)\n",
    "    #         i += 1\n",
    "    #\n",
    "    #     return feature_data, target_data\n",
    "\n",
    "    def _create_instrument(self, period_df: pd.DataFrame) -> Instrument:\n",
    "        start = period_df.loc[period_df.index.min()]\n",
    "        return self.instrument_cls(\n",
    "            rates_difference=start[\"rub_rate\"] - start[\"usd_rate\"],\n",
    "            spot_price=start[\"ask\"],\n",
    "            term=N_DAYS / 365,\n",
    "        )\n",
    "\n",
    "    def __len__(self):\n",
    "        return len(\n",
    "            self.data[\n",
    "                self.data.index < self.data.index.max() - dt.timedelta(days=self.n_days)\n",
    "            ]\n",
    "        )\n",
    "\n",
    "    def __getitem__(self, idx: int):\n",
    "        start_date = self.data.index[idx]\n",
    "        end_date = start_date + dt.timedelta(days=self.n_days)\n",
    "\n",
    "        features = self.data[\n",
    "            (self.data.index >= start_date) & (self.data.index <= end_date)\n",
    "        ]\n",
    "        target = self._create_instrument(features).payoff(spot=features.ask.iloc[-1])\n",
    "\n",
    "        return features.astype(float).to_numpy(), np.array([target])"
   ],
   "metadata": {
    "id": "HVpgB39EzM9H",
    "ExecuteTime": {
     "end_time": "2024-05-21T08:08:44.838236Z",
     "start_time": "2024-05-21T08:08:44.827048Z"
    }
   },
   "execution_count": 70,
   "outputs": []
  },
  {
   "metadata": {
    "ExecuteTime": {
     "end_time": "2024-05-21T08:08:45.229787Z",
     "start_time": "2024-05-21T08:08:45.173979Z"
    }
   },
   "cell_type": "code",
   "source": "spot_dataset = SpotDataset(instrument_cls=Forward)",
   "execution_count": 71,
   "outputs": []
  },
  {
   "metadata": {
    "ExecuteTime": {
     "end_time": "2024-05-21T08:08:46.209689Z",
     "start_time": "2024-05-21T08:08:46.199202Z"
    }
   },
   "cell_type": "code",
   "source": "spot_dataset[0]",
   "execution_count": 72,
   "outputs": []
  },
  {
   "metadata": {
    "ExecuteTime": {
     "end_time": "2024-05-21T08:08:51.911455Z",
     "start_time": "2024-05-21T08:08:51.906980Z"
    }
   },
   "cell_type": "code",
   "source": "loader = DataLoader(spot_dataset, batch_size=32, shuffle=False, drop_last=True)",
   "execution_count": 73,
   "outputs": []
  },
  {
   "metadata": {
    "ExecuteTime": {
     "end_time": "2024-05-21T08:08:55.930595Z",
     "start_time": "2024-05-21T08:08:55.773408Z"
    }
   },
   "cell_type": "code",
   "source": [
    "for feature, target in loader:\n",
    "    print(feature)\n",
    "    # print(target)\n",
    "    break"
   ],
   "execution_count": 74,
   "outputs": []
  },
  {
   "metadata": {
    "ExecuteTime": {
     "end_time": "2024-05-21T08:09:10.865639Z",
     "start_time": "2024-05-21T08:09:10.855487Z"
    }
   },
   "cell_type": "code",
   "source": "feature.dtype, target.dtype",
   "execution_count": 76,
   "outputs": []
  },
  {
   "metadata": {
    "ExecuteTime": {
     "end_time": "2024-05-20T23:11:51.069942Z",
     "start_time": "2024-05-20T23:11:51.065765Z"
    }
   },
   "cell_type": "code",
   "source": "feature.shape",
   "execution_count": 52,
   "outputs": []
  },
  {
   "metadata": {
    "ExecuteTime": {
     "end_time": "2024-05-20T23:12:53.207716Z",
     "start_time": "2024-05-20T23:12:53.203938Z"
    }
   },
   "cell_type": "code",
   "source": [
    "SEQUENCE_LENGTH = feature.shape[1]\n",
    "SEQUENCE_LENGTH"
   ],
   "execution_count": 54,
   "outputs": []
  },
  {
   "metadata": {
    "ExecuteTime": {
     "end_time": "2024-05-20T23:11:52.132634Z",
     "start_time": "2024-05-20T23:11:52.129013Z"
    }
   },
   "cell_type": "code",
   "source": "target.shape",
   "execution_count": 53,
   "outputs": []
  },
  {
   "metadata": {
    "jupyter": {
     "is_executing": true
    }
   },
   "cell_type": "code",
   "source": [
    "# import pickle\n",
    "#\n",
    "# with open('spot_dataset.pickle', 'wb') as handle:\n",
    "#     pickle.dump(spot_dataset, handle, protocol=pickle.HIGHEST_PROTOCOL)"
   ],
   "execution_count": null,
   "outputs": []
  },
  {
   "metadata": {
    "ExecuteTime": {
     "end_time": "2024-05-20T23:06:33.074939Z",
     "start_time": "2024-05-20T23:06:33.065395Z"
    }
   },
   "cell_type": "code",
   "source": [
    "from tqdm import tqdm\n",
    "from torch.utils.data import DataLoader\n",
    "\n",
    "\n",
    "def train_epoch(\n",
    "    model: nn.Module,\n",
    "    optimizer: torch.optim.Optimizer,\n",
    "    criterion: nn.Module,\n",
    "    loader: DataLoader,\n",
    "    tqdm_desc: str = \"Model\",\n",
    "):\n",
    "    device = next(model.parameters()).device\n",
    "\n",
    "    if tqdm_desc is None:\n",
    "        iterator = loader\n",
    "    else:\n",
    "        iterator = tqdm(loader, desc=tqdm_desc)\n",
    "\n",
    "    train_loss = 0.0\n",
    "\n",
    "    model.train()\n",
    "    hidden = None\n",
    "    for features, labels in iterator:\n",
    "        optimizer.zero_grad()\n",
    "\n",
    "        features = features.to(device)\n",
    "        pred, hidden = model(features, hidden=hidden, return_hidden=True)\n",
    "        hidden = [h_t.detach() for h_t in hidden]\n",
    "\n",
    "        loss = criterion(pred, labels.to(device))\n",
    "        loss.backward()\n",
    "        optimizer.step()\n",
    "\n",
    "        train_loss += loss.item()\n",
    "\n",
    "    train_loss /= len(loader.dataset)\n",
    "\n",
    "    return train_loss\n",
    "\n",
    "\n",
    "@torch.no_grad()\n",
    "def validation_epoch(\n",
    "    model: nn.Module,\n",
    "    criterion: nn.Module,\n",
    "    loader: DataLoader,\n",
    "    tqdm_desc: [str, None] = None,\n",
    "):\n",
    "    device = next(model.parameters()).device\n",
    "\n",
    "    if tqdm_desc is None:\n",
    "        iterator = loader\n",
    "    else:\n",
    "        iterator = tqdm(loader, desc=tqdm_desc)\n",
    "\n",
    "    val_loss = 0.0\n",
    "    preds = []\n",
    "    model.train()\n",
    "    hidden = None\n",
    "    for features, labels in iterator:\n",
    "        features = features.to(device)\n",
    "        pred, hidden = model(features, hidden=hidden, return_hidden=True)\n",
    "\n",
    "        loss = criterion(pred, labels.to(device))\n",
    "\n",
    "        val_loss += loss.item()\n",
    "\n",
    "        preds.append(pred.detach().cpu().numpy())\n",
    "\n",
    "    val_loss /= len(loader.dataset)\n",
    "\n",
    "    return preds"
   ],
   "execution_count": 17,
   "outputs": []
  },
  {
   "metadata": {
    "ExecuteTime": {
     "end_time": "2024-05-20T23:06:50.481560Z",
     "start_time": "2024-05-20T23:06:50.476307Z"
    }
   },
   "cell_type": "code",
   "source": [
    "from typing import Tuple, List, Optional, Any\n",
    "\n",
    "\n",
    "def train(\n",
    "    model: nn.Module,\n",
    "    optimizer: torch.optim.Optimizer,\n",
    "    scheduler: Optional[Any],\n",
    "    train_loader: DataLoader,\n",
    "    val_loader: DataLoader,\n",
    "    num_epochs: int,\n",
    "    print_logs: bool = True,\n",
    ") -> Tuple[List[float], List[float]]:\n",
    "    train_losses, val_losses = [], []\n",
    "    criterion = nn.MSELoss()\n",
    "\n",
    "    for epoch in range(1, num_epochs + 1):\n",
    "        if print_logs:\n",
    "            desc_train = f\"Training {epoch}/{num_epochs}\"\n",
    "            desc_val = f\"Validation {epoch}/{num_epochs}\"\n",
    "        else:\n",
    "            desc_train, desc_val = None, None\n",
    "\n",
    "        train_loss = train_epoch(\n",
    "            model, optimizer, criterion, train_loader, tqdm_desc=desc_train\n",
    "        )\n",
    "        val_loss = validation_epoch(model, criterion, val_loader, tqdm_desc=desc_val)\n",
    "\n",
    "        if scheduler is not None:\n",
    "            scheduler.step()\n",
    "\n",
    "        train_losses += [train_loss]\n",
    "        val_losses += [val_loss]\n",
    "\n",
    "    return train_losses, val_losses"
   ],
   "execution_count": 18,
   "outputs": []
  },
  {
   "metadata": {
    "ExecuteTime": {
     "end_time": "2024-05-21T08:09:15.954513Z",
     "start_time": "2024-05-21T08:09:15.908677Z"
    }
   },
   "cell_type": "code",
   "source": [
    "loader = DataLoader(spot_dataset, batch_size=1, shuffle=False, drop_last=True)\n",
    "for feature, target in loader:\n",
    "    break"
   ],
   "execution_count": 77,
   "outputs": []
  },
  {
   "metadata": {
    "ExecuteTime": {
     "end_time": "2024-05-21T08:09:16.384693Z",
     "start_time": "2024-05-21T08:09:16.382372Z"
    }
   },
   "cell_type": "code",
   "source": "feature.shape",
   "execution_count": 78,
   "outputs": []
  },
  {
   "metadata": {
    "ExecuteTime": {
     "end_time": "2024-05-21T08:21:08.406015Z",
     "start_time": "2024-05-21T08:21:08.397087Z"
    }
   },
   "cell_type": "code",
   "source": [
    "# class Hedger(nn.Module):\n",
    "#     def __init__(self, input_size: int = 4, hidden_size: int = 64):\n",
    "#         super().__init__()\n",
    "#         self.input_size = input_size\n",
    "#         self.hidden_size = hidden_size\n",
    "#         self.lstm = nn.LSTMCell(input_size, self.hidden_size)\n",
    "#\n",
    "#         self.hedging_weights = nn.Sequential(\n",
    "#             nn.Linear(self.hidden_size, self.hidden_size),\n",
    "#             nn.ReLU(),\n",
    "#             nn.Linear(self.hidden_size, self.hidden_size),\n",
    "#             nn.ReLU(),\n",
    "#             nn.Linear(self.hidden_size, 1)\n",
    "#         )\n",
    "#\n",
    "#     def linear(self, spot: torch.Tensor, hidden: [(torch.Tensor), None] = None,\n",
    "#                 predict_length: int = 1, return_hidden: bool = False) -> [torch.Tensor,\n",
    "#                                                                           (torch.Tensor, torch.Tensor, torch.Tensor)]:\n",
    "#         model_device = spot.device\n",
    "#         outputs = []\n",
    "#         if hidden is None:\n",
    "#             h_t = torch.zeros(spot.size(0), self.hidden_size, dtype=torch.float32).to(model_device)\n",
    "#             c_t = torch.zeros(spot.size(0), self.hidden_size, dtype=torch.float32).to(model_device)\n",
    "#         elif len(hidden) != 2:\n",
    "#             raise ValueError(f\"Expected two hidden state variables, got {len(hidden)}\")\n",
    "#         else:\n",
    "#             h_t, c_t = hidden\n",
    "#\n",
    "#         i = 0\n",
    "#         for input_t in spot.chunk(spot.size(1), dim=1):\n",
    "#             input_t = input_t.squeeze(0)\n",
    "#             h_t, c_t = self.lstm(input_t, (h_t, c_t))\n",
    "#\n",
    "#             if i > 0:\n",
    "#                 output = self.hedging_weights(h_t)\n",
    "#                 outputs.append(output)\n",
    "#\n",
    "#             i += 1\n",
    "#\n",
    "#         outputs = torch.stack(outputs, 1).squeeze(2)\n",
    "#         if return_hidden:\n",
    "#             return outputs, (h_t, c_t)\n",
    "#         else:\n",
    "#             return outputs"
   ],
   "execution_count": 102,
   "outputs": []
  },
  {
   "metadata": {
    "ExecuteTime": {
     "end_time": "2024-05-21T08:21:09.322727Z",
     "start_time": "2024-05-21T08:21:08.682798Z"
    }
   },
   "cell_type": "code",
   "source": [
    "# hedger = Hedger()\n",
    "# hedger(feature.to(torch.float32)).shape"
   ],
   "execution_count": 103,
   "outputs": []
  },
  {
   "metadata": {
    "ExecuteTime": {
     "end_time": "2024-05-21T08:46:41.727331Z",
     "start_time": "2024-05-21T08:46:41.713584Z"
    }
   },
   "cell_type": "code",
   "source": [
    "class Hedger(nn.Module):\n",
    "    def __init__(self, input_size: int = 4, num_layers: int = 1, hidden_size: int = 64):\n",
    "        super().__init__()\n",
    "        self.input_size = input_size\n",
    "        self.num_layers = num_layers\n",
    "        self.hidden_size = hidden_size\n",
    "\n",
    "        self.lstm = nn.LSTM(\n",
    "            input_size, self.hidden_size, num_layers=num_layers, batch_first=True\n",
    "        )\n",
    "\n",
    "        self.hedging_weights = nn.Sequential(\n",
    "            nn.Linear(self.hidden_size, self.hidden_size),\n",
    "            nn.ReLU(),\n",
    "            nn.Linear(self.hidden_size, self.hidden_size),\n",
    "            nn.ReLU(),\n",
    "            nn.Linear(self.hidden_size, 1),\n",
    "        )\n",
    "\n",
    "    def forward(\n",
    "        self,\n",
    "        spot: torch.Tensor,\n",
    "        hidden: [(torch.Tensor), None] = None,\n",
    "        return_hidden: bool = False,\n",
    "    ) -> [torch.Tensor, (torch.Tensor, torch.Tensor, torch.Tensor)]:\n",
    "        model_device = spot.device\n",
    "        if hidden is None:\n",
    "            h_t = torch.zeros(\n",
    "                spot.size(0), self.num_layers, self.hidden_size, dtype=torch.float32\n",
    "            ).to(model_device)\n",
    "            c_t = torch.zeros(\n",
    "                spot.size(0), self.num_layers, self.hidden_size, dtype=torch.float32\n",
    "            ).to(model_device)\n",
    "        elif len(hidden) != 2:\n",
    "            raise ValueError(f\"Expected two hidden state variables, got {len(hidden)}\")\n",
    "        else:\n",
    "            h_t, c_t = hidden\n",
    "\n",
    "        h_t, c_t = self.lstm(spot, (h_t, c_t))\n",
    "        outputs = self.hedging_weights(h_t)[:, 1:-1, :].squeeze(2)\n",
    "\n",
    "        if return_hidden:\n",
    "            return outputs, (h_t, c_t)\n",
    "        else:\n",
    "            return outputs\n",
    "\n",
    "    def get_pnl(self, spot: torch.Tensor) -> torch.float32:\n",
    "        hedging_weights = nn.Softmax(self.forward(spot, return_hidden=False))\n",
    "        pnl = hedging_weights @ spot[1:].T"
   ],
   "execution_count": 119,
   "outputs": []
  },
  {
   "metadata": {
    "ExecuteTime": {
     "end_time": "2024-05-21T08:46:53.425315Z",
     "start_time": "2024-05-21T08:46:53.251092Z"
    }
   },
   "cell_type": "code",
   "source": [
    "hedger = Hedger()\n",
    "weights = hedger(feature.to(torch.float32))\n",
    "weights.shape"
   ],
   "execution_count": 120,
   "outputs": []
  },
  {
   "metadata": {
    "ExecuteTime": {
     "end_time": "2024-05-21T08:46:55.228630Z",
     "start_time": "2024-05-21T08:46:55.225351Z"
    }
   },
   "cell_type": "code",
   "source": "feature.shape",
   "execution_count": 121,
   "outputs": []
  },
  {
   "metadata": {
    "ExecuteTime": {
     "end_time": "2024-05-21T08:47:10.014078Z",
     "start_time": "2024-05-21T08:47:10.009388Z"
    }
   },
   "cell_type": "code",
   "source": [
    "weights_all = torch.concat(\n",
    "    [\n",
    "        torch.zeros(feature.shape[0], 1, requires_grad=False),\n",
    "        weights,\n",
    "        torch.zeros(feature.shape[0], 1, requires_grad=False),\n",
    "    ],\n",
    "    dim=1,\n",
    ")\n",
    "weights_all.shape"
   ],
   "execution_count": 122,
   "outputs": []
  },
  {
   "metadata": {
    "ExecuteTime": {
     "end_time": "2024-05-21T08:47:14.622117Z",
     "start_time": "2024-05-21T08:47:14.605011Z"
    }
   },
   "cell_type": "code",
   "source": [
    "weights_diff = weights_all.diff(n=1, dim=1)\n",
    "weights_diff.shape"
   ],
   "execution_count": 123,
   "outputs": []
  },
  {
   "metadata": {
    "ExecuteTime": {
     "end_time": "2024-05-21T08:52:24.069733Z",
     "start_time": "2024-05-21T08:52:24.055457Z"
    }
   },
   "cell_type": "code",
   "source": [
    "example = torch.Tensor([[0, 1, 1, 0]]).to(torch.float64)\n",
    "example.shape"
   ],
   "execution_count": 131,
   "outputs": []
  },
  {
   "metadata": {
    "ExecuteTime": {
     "end_time": "2024-05-21T08:52:25.282558Z",
     "start_time": "2024-05-21T08:52:25.278079Z"
    }
   },
   "cell_type": "code",
   "source": [
    "spot_example = feature[:, :4, :2]\n",
    "spot_example"
   ],
   "execution_count": 132,
   "outputs": []
  },
  {
   "metadata": {
    "ExecuteTime": {
     "end_time": "2024-05-21T08:52:26.526738Z",
     "start_time": "2024-05-21T08:52:26.523213Z"
    }
   },
   "cell_type": "code",
   "source": [
    "pnl_example = -61.0680 + 61.0120\n",
    "pnl_example"
   ],
   "execution_count": 133,
   "outputs": []
  },
  {
   "metadata": {
    "ExecuteTime": {
     "end_time": "2024-05-21T08:53:35.043458Z",
     "start_time": "2024-05-21T08:53:35.031020Z"
    }
   },
   "cell_type": "code",
   "source": [
    "diff_example = example.diff(n=1, dim=1)\n",
    "diff_example"
   ],
   "execution_count": 135,
   "outputs": []
  },
  {
   "metadata": {
    "ExecuteTime": {
     "end_time": "2024-05-21T08:54:24.445025Z",
     "start_time": "2024-05-21T08:54:24.440443Z"
    }
   },
   "cell_type": "code",
   "source": "spot_example.shape, diff_example.shape",
   "execution_count": 140,
   "outputs": []
  },
  {
   "metadata": {
    "ExecuteTime": {
     "end_time": "2024-05-21T08:57:53.717917Z",
     "start_time": "2024-05-21T08:57:53.713015Z"
    }
   },
   "cell_type": "code",
   "source": "diff_example > 0",
   "execution_count": 145,
   "outputs": []
  },
  {
   "metadata": {
    "ExecuteTime": {
     "end_time": "2024-05-21T08:59:10.803363Z",
     "start_time": "2024-05-21T08:59:10.794836Z"
    }
   },
   "cell_type": "code",
   "source": [
    "bought = torch.where(diff_example > 0, diff_example, 0)\n",
    "sold = torch.where(diff_example < 0, diff_example, 0)\n",
    "bought, sold"
   ],
   "execution_count": 147,
   "outputs": []
  },
  {
   "metadata": {
    "ExecuteTime": {
     "end_time": "2024-05-21T08:59:39.615458Z",
     "start_time": "2024-05-21T08:59:39.600778Z"
    }
   },
   "cell_type": "code",
   "source": "spot_example.shape, bought.shape",
   "execution_count": 149,
   "outputs": []
  },
  {
   "metadata": {
    "ExecuteTime": {
     "end_time": "2024-05-21T09:00:06.142921Z",
     "start_time": "2024-05-21T09:00:06.139784Z"
    }
   },
   "cell_type": "code",
   "source": "spot_example[:, :, 1]",
   "execution_count": 151,
   "outputs": []
  },
  {
   "metadata": {
    "ExecuteTime": {
     "end_time": "2024-05-21T09:01:48.505016Z",
     "start_time": "2024-05-21T09:01:48.494766Z"
    }
   },
   "cell_type": "code",
   "source": [
    "cash_outflow = -spot_example[:, 1:, 1] @ bought.T\n",
    "cash_inflow = -spot_example[:, 1:, 0] @ sold.T\n",
    "cash_outflow, cash_inflow"
   ],
   "execution_count": 158,
   "outputs": []
  },
  {
   "metadata": {
    "ExecuteTime": {
     "end_time": "2024-05-21T09:03:28.812079Z",
     "start_time": "2024-05-21T09:03:28.806312Z"
    }
   },
   "cell_type": "code",
   "source": "-61.0680 + 61.0120",
   "execution_count": 162,
   "outputs": []
  },
  {
   "metadata": {
    "ExecuteTime": {
     "end_time": "2024-05-21T09:02:13.111235Z",
     "start_time": "2024-05-21T09:02:13.102786Z"
    }
   },
   "cell_type": "code",
   "source": "(cash_outflow + cash_inflow).item()",
   "execution_count": 160,
   "outputs": []
  },
  {
   "metadata": {
    "ExecuteTime": {
     "end_time": "2024-05-21T09:02:22.167728Z",
     "start_time": "2024-05-21T09:02:22.162075Z"
    }
   },
   "cell_type": "code",
   "source": "pnl_example, (cash_outflow + cash_inflow).item()",
   "execution_count": 161,
   "outputs": []
  },
  {
   "metadata": {
    "ExecuteTime": {
     "end_time": "2024-05-21T09:08:37.060763Z",
     "start_time": "2024-05-21T09:08:37.053162Z"
    }
   },
   "cell_type": "code",
   "source": [
    "class Hedger(nn.Module):\n",
    "    def __init__(self, input_size: int = 4, num_layers: int = 1, hidden_size: int = 64):\n",
    "        super().__init__()\n",
    "        self.input_size = input_size\n",
    "        self.num_layers = num_layers\n",
    "        self.hidden_size = hidden_size\n",
    "\n",
    "        self.lstm = nn.LSTM(\n",
    "            input_size, self.hidden_size, num_layers=num_layers, batch_first=True\n",
    "        )\n",
    "\n",
    "        self.hedging_weights = nn.Sequential(\n",
    "            nn.Linear(self.hidden_size, self.hidden_size),\n",
    "            nn.ReLU(),\n",
    "            nn.Linear(self.hidden_size, self.hidden_size),\n",
    "            nn.ReLU(),\n",
    "            nn.Linear(self.hidden_size, 1),\n",
    "        )\n",
    "\n",
    "    def forward(\n",
    "        self,\n",
    "        spot: torch.Tensor,\n",
    "        hidden: [(torch.Tensor), None] = None,\n",
    "        return_hidden: bool = False,\n",
    "    ) -> [torch.Tensor, (torch.Tensor, torch.Tensor, torch.Tensor)]:\n",
    "        model_device = spot.device\n",
    "        if hidden is None:\n",
    "            h_t = torch.zeros(\n",
    "                spot.size(0), self.num_layers, self.hidden_size, dtype=torch.float32\n",
    "            ).to(model_device)\n",
    "            c_t = torch.zeros(\n",
    "                spot.size(0), self.num_layers, self.hidden_size, dtype=torch.float32\n",
    "            ).to(model_device)\n",
    "        elif len(hidden) != 2:\n",
    "            raise ValueError(f\"Expected two hidden state variables, got {len(hidden)}\")\n",
    "        else:\n",
    "            h_t, c_t = hidden\n",
    "\n",
    "        h_t, c_t = self.lstm(spot, (h_t, c_t))\n",
    "        outputs = self.hedging_weights(h_t)[:, 1:-1, :].squeeze(2)\n",
    "\n",
    "        if return_hidden:\n",
    "            return outputs, (h_t, c_t)\n",
    "        else:\n",
    "            return outputs\n",
    "\n",
    "    def get_pnl(self, spot: torch.Tensor) -> torch.float32:\n",
    "        # hedging_weights = nn.Softmax()(self.linear(spot, return_hidden=False), dim=XXX)\n",
    "        hedging_weights = self.forward(spot, return_hidden=False)\n",
    "\n",
    "        weights_all = torch.concat(\n",
    "            [\n",
    "                torch.zeros(spot.shape[0], 1, requires_grad=False),\n",
    "                hedging_weights,\n",
    "                torch.zeros(spot.shape[0], 1, requires_grad=False),\n",
    "            ],\n",
    "            dim=1,\n",
    "        )\n",
    "        weights_diff = weights_all.diff(n=1, dim=1)\n",
    "\n",
    "        bought = torch.where(weights_diff > 0, weights_diff, 0)\n",
    "        sold = torch.where(weights_diff < 0, weights_diff, 0)\n",
    "\n",
    "        cash_outflow = -spot[:, 1:, 1] @ bought.T\n",
    "        cash_inflow = -spot[:, 1:, 0] @ sold.T\n",
    "\n",
    "        return (cash_outflow + cash_inflow).item()"
   ],
   "execution_count": 169,
   "outputs": []
  },
  {
   "metadata": {
    "ExecuteTime": {
     "end_time": "2024-05-21T09:08:37.497098Z",
     "start_time": "2024-05-21T09:08:37.326437Z"
    }
   },
   "cell_type": "code",
   "source": [
    "hedger = Hedger()\n",
    "hedger.get_pnl(feature.to(torch.float32))"
   ],
   "execution_count": 170,
   "outputs": []
  },
  {
   "metadata": {
    "ExecuteTime": {
     "end_time": "2024-05-20T21:52:00.320721Z",
     "start_time": "2024-05-20T21:52:00.318545Z"
    }
   },
   "cell_type": "code",
   "source": [
    "# from operator import is_\n",
    "# from typing import List, Tuple, Union\n",
    "# from dataclasses import dataclass\n",
    "\n",
    "## @dataclass\n",
    "# class ExperimentConfig:\n",
    "#     TRAIN_ROOT: str = ROOT_PATH / ROOT_PATH / 'train'\n",
    "#     VAL_ROOT: str = ROOT_PATH / ROOT_PATH / 'val'\n",
    "#     CKPT_ROOT: str = GDRIVE_ROOT_PATH\n",
    "\n",
    "#     NORMALIZE: bool = False\n",
    "\n",
    "#     N_EPOCHS: int = 20\n",
    "#     # LR: float = 1e-2\n",
    "#     LR: float = 0.5\n",
    "#     BATCH_SIZE: int = 32\n",
    "\n",
    "#     N_CLASSES = len(os.listdir(ROOT_PATH / ROOT_PATH / 'train'))\n",
    "\n",
    "#     NUM_WORKERS: int = 2\n",
    "\n",
    "#     if torch.backends.mps.is_available():\n",
    "#         DEVICE = torch.device('mps')\n",
    "#     elif torch.cuda.is_available():\n",
    "#         DEVICE = torch.device('cuda')\n",
    "#     else:\n",
    "#         DEVICE = torch.device('cpu')\n",
    "\n",
    "#     IS_PRETRAINED: bool = False\n",
    "\n",
    "\n",
    "# @dataclass\n",
    "# class AugmentationHyperparams:\n",
    "#     RESIZE_HEIGHT: Union[int, None] = None\n",
    "#     RESIZE_WIDTH: Union[int, None] = None\n",
    "#     RANDOM_CROP_SIZE: int = 32\n",
    "#     RANDOM_CROP_PADDING: int = 4\n",
    "#     FLIP_PROB: float = 0.5\n",
    "#     ROTATION_DEG: float = 15\n",
    "#     JITTER_PARAM: float = 0.25\n",
    "#     BRIGHTNESS: float = 0.2\n",
    "#     CONTRAST: float = 0.15\n",
    "#     SATURATION: float = 0.15\n",
    "#     HUE: float = 0.15"
   ],
   "execution_count": 6,
   "outputs": []
  },
  {
   "cell_type": "markdown",
   "metadata": {
    "id": "LCwKB-3nKm1-"
   },
   "source": [
    "## Задание 1\n",
    "\n",
    "5 баллов\n",
    "Добейтесь accuracy на валидации не менее 0.44. В этом задании запрещено пользоваться предобученными моделями и ресайзом картинок.\n",
    "\n",
    "Советы:\n",
    "1. Аугментации.\n",
    "2. Оптимайзеры.\n",
    "4. Регуляризация"
   ]
  },
  {
   "cell_type": "code",
   "metadata": {
    "colab": {
     "base_uri": "https://localhost:8080/"
    },
    "id": "M_xi2lnZiZln",
    "outputId": "100c28b3-46f1-45da-8a2d-6869cb16738e",
    "ExecuteTime": {
     "end_time": "2024-05-20T21:52:00.397212Z",
     "start_time": "2024-05-20T21:52:00.321845Z"
    }
   },
   "source": [
    "train_dataloader, test_dataloader = get_dataloaders(\n",
    "    config=ExperimentConfig(), augmentation_hyperparams=AugmentationHyperparams()\n",
    ")"
   ],
   "execution_count": 7,
   "outputs": []
  },
  {
   "cell_type": "markdown",
   "metadata": {
    "id": "pWR2l6ymZfRJ"
   },
   "source": [
    "### Модель"
   ]
  },
  {
   "cell_type": "code",
   "metadata": {
    "id": "mDYorQXLZhTQ"
   },
   "source": [
    "class YourNet(torch.nn.Module):\n",
    "    def __init__(self, n_classes, kernel_size=3, stride=1, padding=1, dilation=1):\n",
    "        super().__init__()\n",
    "        self.accuracy_list = []\n",
    "\n",
    "        self.pretrained = False\n",
    "\n",
    "        # YOUR CODE HERE\n",
    "        self.net = nn.Sequential(\n",
    "            nn.Conv2d(\n",
    "                in_channels=3,\n",
    "                out_channels=16,\n",
    "                kernel_size=kernel_size,\n",
    "                stride=stride,\n",
    "                padding=padding,\n",
    "                dilation=dilation,\n",
    "            ),\n",
    "            nn.MaxPool2d(kernel_size=2),\n",
    "            nn.Conv2d(\n",
    "                in_channels=16,\n",
    "                out_channels=32,\n",
    "                kernel_size=kernel_size,\n",
    "                stride=stride,\n",
    "                padding=padding,\n",
    "                dilation=dilation,\n",
    "            ),\n",
    "            nn.MaxPool2d(kernel_size=2),\n",
    "            nn.Conv2d(\n",
    "                in_channels=32,\n",
    "                out_channels=64,\n",
    "                kernel_size=kernel_size,\n",
    "                stride=stride,\n",
    "                padding=padding,\n",
    "                dilation=dilation,\n",
    "            ),\n",
    "            nn.MaxPool2d(kernel_size=2),\n",
    "            nn.Conv2d(\n",
    "                in_channels=64,\n",
    "                out_channels=128,\n",
    "                kernel_size=kernel_size,\n",
    "                stride=stride,\n",
    "                padding=padding,\n",
    "                dilation=dilation,\n",
    "            ),\n",
    "            nn.ReLU(),\n",
    "        )\n",
    "\n",
    "        self.classifier = nn.Linear(in_features=128, out_features=n_classes)\n",
    "\n",
    "    def _forward(self, x):\n",
    "        # runs the Neural Network\n",
    "        # YOUR CODE HERE\n",
    "        feature_map = self.net(x)\n",
    "        feature_vector = feature_map.mean(dim=(2, 3))\n",
    "        logits = self.classifier(feature_vector)\n",
    "\n",
    "        return logits\n",
    "\n",
    "    def forward(self, images, target=None):\n",
    "        # images ~ (batch size, num channels, height, width)\n",
    "        # target ~ (batch size)\n",
    "        # output ~ (batch size, num classes)\n",
    "        output = self._forward(images)\n",
    "\n",
    "        # get binary mask and save it to self.accuracy_list\n",
    "        if target is not None:\n",
    "            pred = torch.argmax(output, dim=-1)\n",
    "            self.accuracy_list.extend((target == pred).tolist())\n",
    "\n",
    "        return output\n",
    "\n",
    "    def get_accuracy(self, reset=False):\n",
    "        # return accuracy by all values in the dataset\n",
    "        if reset:\n",
    "            self.accuracy_list = []\n",
    "            return None\n",
    "        else:\n",
    "            return torch.mean(torch.Tensor(self.accuracy_list))"
   ],
   "execution_count": null,
   "outputs": []
  },
  {
   "cell_type": "markdown",
   "metadata": {
    "id": "ykBQxS-a4qfI"
   },
   "source": [
    "### Тренировочный цикл"
   ]
  },
  {
   "cell_type": "code",
   "metadata": {
    "id": "St95RrzQNh9D"
   },
   "source": [
    "from IPython.display import clear_output\n",
    "\n",
    "\n",
    "def plot_losses(\n",
    "    train_losses: List[float],\n",
    "    val_losses: List[float],\n",
    "    train_accs: List[float],\n",
    "    val_accs: List[float],\n",
    "):\n",
    "    \"\"\"\n",
    "    Plot loss and perplexity of train and validation samples\n",
    "    :param train_losses: list of train losses at each epoch\n",
    "    :param val_losses: list of validation losses at each epoch\n",
    "    \"\"\"\n",
    "    clear_output()\n",
    "    fig, axs = plt.subplots(1, 2, figsize=(13, 4))\n",
    "    axs[0].plot(range(1, len(train_losses) + 1), train_losses, label=\"train\")\n",
    "    axs[0].plot(range(1, len(val_losses) + 1), val_losses, label=\"val\")\n",
    "    axs[0].set_ylabel(\"loss\")\n",
    "    axs[0].set_title(\"Loss Dynamics\")\n",
    "\n",
    "    axs[1].plot(range(1, len(train_accs) + 1), train_accs, label=\"train\")\n",
    "    axs[1].plot(range(1, len(val_accs) + 1), val_accs, label=\"val\")\n",
    "    axs[1].set_ylabel(\"accuracy\")\n",
    "    axs[1].set_title(\"Accuracy Dynamics\")\n",
    "\n",
    "    for ax in axs:\n",
    "        ax.set_xlabel(\"epoch\")\n",
    "        ax.legend()\n",
    "\n",
    "    plt.show()"
   ],
   "execution_count": null,
   "outputs": []
  },
  {
   "cell_type": "code",
   "metadata": {
    "id": "_8g55Knw4qfJ"
   },
   "source": [
    "def train_one_epoch(\n",
    "    model, train_dataloader, criterion, optimizer, tqdm_desc: str = \"Training\"\n",
    "):\n",
    "    # YOUR CODE\n",
    "    # Train your model here\n",
    "    device = next(model.parameters()).device\n",
    "\n",
    "    if tqdm_desc is None:\n",
    "        iterator = train_dataloader\n",
    "    else:\n",
    "        iterator = tqdm(train_dataloader, desc=tqdm_desc)\n",
    "\n",
    "    running_loss, running_acc = 0.0, 0.0\n",
    "    model.train()\n",
    "    model.get_accuracy(reset=True)\n",
    "    scaler = GradScaler()\n",
    "    for features, labels in iterator:\n",
    "        optimizer.zero_grad()\n",
    "\n",
    "        features = features.to(device)\n",
    "        labels = labels.to(device)\n",
    "\n",
    "        with torch.autocast(device_type=\"cuda\", dtype=torch.float16):\n",
    "            logits = model(features, labels)\n",
    "            loss = criterion(logits, labels)\n",
    "\n",
    "        scaler.scale(loss).backward()\n",
    "        scaler.step(optimizer)\n",
    "\n",
    "        scaler.update()\n",
    "\n",
    "        running_loss += loss.item() * features.shape[0]\n",
    "\n",
    "    return running_loss / len(train_dataloader.dataset), model.get_accuracy().item()\n",
    "\n",
    "\n",
    "def predict(model, test_dataloder, criterion, tqdm_desc: str = \"Training\"):\n",
    "    # YOUR CODE\n",
    "    # Validate your model here\n",
    "    device = next(model.parameters()).device\n",
    "\n",
    "    if tqdm_desc is None:\n",
    "        iterator = test_dataloader\n",
    "    else:\n",
    "        iterator = tqdm(test_dataloader, desc=tqdm_desc)\n",
    "\n",
    "    running_loss, running_acc = 0.0, 0.0\n",
    "    model.eval()\n",
    "    model.get_accuracy(reset=True)\n",
    "    for features, labels in iterator:\n",
    "        features = features.to(device)\n",
    "        labels = labels.to(device)\n",
    "        logits = model(features, labels)\n",
    "\n",
    "        loss = criterion(logits, labels)\n",
    "\n",
    "        running_loss += loss.item() * features.shape[0]\n",
    "\n",
    "    return running_loss / len(test_dataloader.dataset), model.get_accuracy().item()\n",
    "\n",
    "\n",
    "def train(\n",
    "    model,\n",
    "    train_dataloader,\n",
    "    test_dataloader,\n",
    "    criterion,\n",
    "    optimizer,\n",
    "    device=\"cuda:0\",\n",
    "    n_epochs=10,\n",
    "    scheduler=None,\n",
    "    ckpt_path: Path = ExperimentConfig.CKPT_ROOT,\n",
    "):\n",
    "    model.to(device)\n",
    "    train_losses, val_losses = [], []\n",
    "    train_accs, val_accs = [], []\n",
    "    for epoch in range(1, n_epochs + 1):\n",
    "        # YOUR CODE\n",
    "        # Train, evaluate, print accuracy, make a step of scheduler or whatever you want...\n",
    "        train_loss, train_acc = train_one_epoch(\n",
    "            model=model,\n",
    "            train_dataloader=train_dataloader,\n",
    "            criterion=criterion,\n",
    "            optimizer=optimizer,\n",
    "            tqdm_desc=f\"Training {epoch}/{n_epochs}\",\n",
    "        )\n",
    "        val_loss, val_acc = predict(\n",
    "            model=model,\n",
    "            test_dataloder=test_dataloader,\n",
    "            criterion=criterion,\n",
    "            tqdm_desc=f\"Validating {epoch}/{n_epochs}\",\n",
    "        )\n",
    "\n",
    "        if scheduler is not None:\n",
    "            scheduler.step()\n",
    "\n",
    "        train_losses += [train_loss]\n",
    "        val_losses += [val_loss]\n",
    "        train_accs += [train_acc]\n",
    "        val_accs += [val_acc]\n",
    "        plot_losses(train_losses, val_losses, train_accs, val_accs)\n",
    "\n",
    "        if model.pretrained:\n",
    "            ckpt_name = f\"{model.__class__.__name__}_pretrained_exp.pt\"\n",
    "        else:\n",
    "            ckpt_name = f\"{model.__class__.__name__}_exp.pt\"\n",
    "        torch.save(model.state_dict(), ckpt_path / ckpt_name)"
   ],
   "execution_count": null,
   "outputs": []
  },
  {
   "cell_type": "code",
   "metadata": {
    "colab": {
     "base_uri": "https://localhost:8080/",
     "height": 794
    },
    "id": "soPKRKS54qfJ",
    "outputId": "d1e58b63-b742-4ad5-b479-29b32fa6745d"
   },
   "source": [
    "%%time\n",
    "model = YourNet(n_classes=ExperimentConfig.N_CLASSES)\n",
    "optimizer = torch.optim.Adam(model.parameters(), lr=ExperimentConfig.LR)\n",
    "criterion = torch.nn.CrossEntropyLoss()\n",
    "scheduler = torch.optim.lr_scheduler.CosineAnnealingLR(\n",
    "    optimizer, T_max=ExperimentConfig.N_EPOCHS\n",
    ")\n",
    "\n",
    "train(\n",
    "    model=model,\n",
    "    train_dataloader=train_dataloader,\n",
    "    test_dataloader=test_dataloader,\n",
    "    criterion=criterion,\n",
    "    optimizer=optimizer,\n",
    "    device=ExperimentConfig.DEVICE,\n",
    "    n_epochs=ExperimentConfig.N_EPOCHS,\n",
    "    scheduler=scheduler,\n",
    ")"
   ],
   "execution_count": null,
   "outputs": []
  },
  {
   "cell_type": "code",
   "metadata": {
    "id": "zPF6QTDV4fEP"
   },
   "source": [
    "class YourResNet18(torch.nn.Module):\n",
    "    def __init__(self, n_classes, is_pretrained: bool = ExperimentConfig.IS_PRETRAINED):\n",
    "        super().__init__()\n",
    "        self.accuracy_list = []\n",
    "\n",
    "        self.pretrained = is_pretrained\n",
    "\n",
    "        # YOUR CODE HERE\n",
    "        self.model = torchvision.models.resnet18(\n",
    "            pretrained=is_pretrained, num_classes=n_classes\n",
    "        )\n",
    "\n",
    "    def _forward(self, x):\n",
    "        # runs the Neural Network\n",
    "        # YOUR CODE HERE\n",
    "        logits = self.model(x)\n",
    "\n",
    "        return logits\n",
    "\n",
    "    def forward(self, images, target=None):\n",
    "        # images ~ (batch size, num channels, height, width)\n",
    "        # target ~ (batch size)\n",
    "        # output ~ (batch size, num classes)\n",
    "        output = self._forward(images)\n",
    "\n",
    "        # get binary mask and save it to self.accuracy_list\n",
    "        if target is not None:\n",
    "            pred = torch.argmax(output, dim=-1)\n",
    "            self.accuracy_list.extend((target == pred).tolist())\n",
    "\n",
    "        return output\n",
    "\n",
    "    def get_accuracy(self, reset=False):\n",
    "        # return accuracy by all values in the dataset\n",
    "        if reset:\n",
    "            self.accuracy_list = []\n",
    "            return None\n",
    "        else:\n",
    "            return torch.mean(torch.Tensor(self.accuracy_list))"
   ],
   "execution_count": null,
   "outputs": []
  },
  {
   "cell_type": "code",
   "metadata": {
    "colab": {
     "base_uri": "https://localhost:8080/",
     "height": 794
    },
    "id": "oPDK4qBE4zsW",
    "outputId": "a73a8c86-d58a-4139-caef-d73bf173ce83"
   },
   "source": [
    "%%time\n",
    "\n",
    "\n",
    "@dataclass\n",
    "class AugmentationHyperparams:\n",
    "    RESIZE_HEIGHT: Union[int, None] = None\n",
    "    RESIZE_WIDTH: Union[int, None] = None\n",
    "    RANDOM_CROP_SIZE: Union[int, None] = None\n",
    "    RANDOM_CROP_PADDING: Union[int, None] = None\n",
    "    FLIP_PROB: Union[float, None] = 0.25\n",
    "    ROTATION_DEG: Union[float, None] = None\n",
    "    JITTER_PARAM: Union[float, None] = None\n",
    "    BRIGHTNESS: Union[float, None] = None\n",
    "    CONTRAST: Union[float, None] = None\n",
    "    SATURATION: Union[float, None] = None\n",
    "    HUE: Union[float, None] = None\n",
    "\n",
    "\n",
    "train_dataloader, test_dataloader = get_dataloaders(\n",
    "    config=ExperimentConfig(), augmentation_hyperparams=AugmentationHyperparams()\n",
    ")\n",
    "\n",
    "model = YourResNet18(n_classes=ExperimentConfig.N_CLASSES)\n",
    "# optimizer = torch.optim.Adam(model.parameters(), lr=ExperimentConfig.LR)\n",
    "optimizer = torch.optim.SGD(\n",
    "    model.parameters(), lr=ExperimentConfig.LR, momentum=0.9, weight_decay=0.01\n",
    ")\n",
    "criterion = torch.nn.CrossEntropyLoss()\n",
    "scheduler = torch.optim.lr_scheduler.CosineAnnealingLR(\n",
    "    optimizer, T_max=ExperimentConfig.N_EPOCHS\n",
    ")\n",
    "\n",
    "train(\n",
    "    model=model,\n",
    "    train_dataloader=train_dataloader,\n",
    "    test_dataloader=test_dataloader,\n",
    "    criterion=criterion,\n",
    "    optimizer=optimizer,\n",
    "    device=ExperimentConfig.DEVICE,\n",
    "    n_epochs=ExperimentConfig.N_EPOCHS,\n",
    "    scheduler=scheduler,\n",
    ")"
   ],
   "execution_count": null,
   "outputs": []
  },
  {
   "cell_type": "code",
   "metadata": {
    "colab": {
     "background_save": true,
     "base_uri": "https://localhost:8080/",
     "height": 427
    },
    "id": "8sQfBOaEWf15",
    "outputId": "6ad81bd8-7287-44ce-e3a6-e0e34bf41e6e"
   },
   "source": [
    "%%time\n",
    "\n",
    "\n",
    "@dataclass\n",
    "class AugmentationHyperparams:\n",
    "    RESIZE_HEIGHT: Union[int, None] = None\n",
    "    RESIZE_WIDTH: Union[int, None] = None\n",
    "    RANDOM_CROP_SIZE: Union[int, None] = None\n",
    "    RANDOM_CROP_PADDING: Union[int, None] = None\n",
    "    FLIP_PROB: Union[float, None] = 0.25\n",
    "    ROTATION_DEG: Union[float, None] = None\n",
    "    JITTER_PARAM: Union[float, None] = None\n",
    "    BRIGHTNESS: Union[float, None] = None\n",
    "    CONTRAST: Union[float, None] = None\n",
    "    SATURATION: Union[float, None] = None\n",
    "    HUE: Union[float, None] = None\n",
    "\n",
    "\n",
    "# #@dataclass\n",
    "# class AugmentationHyperparams:\n",
    "#     RESIZE_HEIGHT: Union[int, None] = None\n",
    "#     RESIZE_WIDTH: Union[int, None] = None\n",
    "#     RANDOM_CROP_SIZE: int = 32\n",
    "#     RANDOM_CROP_PADDING: int = 4\n",
    "#     FLIP_PROB: float = 0.5\n",
    "#     ROTATION_DEG: float = 15\n",
    "#     JITTER_PARAM: float = 0.25\n",
    "#     BRIGHTNESS: float = 0.2\n",
    "#     CONTRAST: float = 0.15\n",
    "#     SATURATION: float = 0.15\n",
    "#     HUE: float = 0.15\n",
    "\n",
    "train_dataloader, test_dataloader = get_dataloaders(\n",
    "    config=ExperimentConfig(), augmentation_hyperparams=AugmentationHyperparams()\n",
    ")\n",
    "\n",
    "model = YourNet(n_classes=ExperimentConfig.N_CLASSES)\n",
    "optimizer = torch.optim.SGD(model.parameters(), lr=ExperimentConfig.LR)\n",
    "# optimizer = torch.optim.Adam(model.parameters(), lr=ExperimentConfig.LR)\n",
    "criterion = torch.nn.CrossEntropyLoss()\n",
    "scheduler = torch.optim.lr_scheduler.CosineAnnealingLR(\n",
    "    optimizer, T_max=ExperimentConfig.N_EPOCHS\n",
    ")\n",
    "\n",
    "train(\n",
    "    model=model,\n",
    "    train_dataloader=train_dataloader,\n",
    "    test_dataloader=test_dataloader,\n",
    "    criterion=criterion,\n",
    "    optimizer=optimizer,\n",
    "    device=ExperimentConfig.DEVICE,\n",
    "    n_epochs=ExperimentConfig.N_EPOCHS,\n",
    "    scheduler=scheduler,\n",
    ")"
   ],
   "execution_count": null,
   "outputs": []
  },
  {
   "cell_type": "code",
   "metadata": {
    "id": "erami24qKpYK"
   },
   "source": [
    "class YourMobileNet(torch.nn.Module):\n",
    "    def __init__(self, n_classes, is_pretrained: bool = ExperimentConfig.IS_PRETRAINED):\n",
    "        super().__init__()\n",
    "        self.accuracy_list = []\n",
    "\n",
    "        self.pretrained = is_pretrained\n",
    "\n",
    "        # YOUR CODE HERE\n",
    "        self.model = torchvision.models.mobilenet_v3_large(\n",
    "            pretrained=is_pretrained, num_classes=n_classes\n",
    "        )\n",
    "\n",
    "    def _forward(self, x):\n",
    "        # runs the Neural Network\n",
    "        # YOUR CODE HERE\n",
    "        logits = self.model(x)\n",
    "\n",
    "        return logits\n",
    "\n",
    "    def forward(self, images, target=None):\n",
    "        # images ~ (batch size, num channels, height, width)\n",
    "        # target ~ (batch size)\n",
    "        # output ~ (batch size, num classes)\n",
    "        output = self._forward(images)\n",
    "\n",
    "        # get binary mask and save it to self.accuracy_list\n",
    "        if target is not None:\n",
    "            pred = torch.argmax(output, dim=-1)\n",
    "            self.accuracy_list.extend((target == pred).tolist())\n",
    "\n",
    "        return output\n",
    "\n",
    "    def get_accuracy(self, reset=False):\n",
    "        # return accuracy by all values in the dataset\n",
    "        if reset:\n",
    "            self.accuracy_list = []\n",
    "            return None\n",
    "        else:\n",
    "            return torch.mean(torch.Tensor(self.accuracy_list))"
   ],
   "execution_count": null,
   "outputs": []
  },
  {
   "cell_type": "code",
   "metadata": {
    "colab": {
     "base_uri": "https://localhost:8080/",
     "height": 444
    },
    "id": "mPqtOKcfLGod",
    "outputId": "7b0b5328-5195-4e75-9049-f73ce05fd625"
   },
   "source": [
    "%%time\n",
    "model = YourMobileNet(n_classes=ExperimentConfig.N_CLASSES)\n",
    "optimizer = torch.optim.Adam(model.parameters(), lr=ExperimentConfig.LR)\n",
    "criterion = torch.nn.CrossEntropyLoss()\n",
    "scheduler = torch.optim.lr_scheduler.CosineAnnealingLR(\n",
    "    optimizer, T_max=ExperimentConfig.N_EPOCHS\n",
    ")\n",
    "\n",
    "train(\n",
    "    model=model,\n",
    "    train_dataloader=train_dataloader,\n",
    "    test_dataloader=test_dataloader,\n",
    "    criterion=criterion,\n",
    "    optimizer=optimizer,\n",
    "    device=ExperimentConfig.DEVICE,\n",
    "    n_epochs=ExperimentConfig.N_EPOCHS,\n",
    "    scheduler=scheduler,\n",
    ")"
   ],
   "execution_count": null,
   "outputs": []
  },
  {
   "cell_type": "code",
   "metadata": {
    "id": "lnjt94HAeJ0Y"
   },
   "source": [
    "from enum import Enum\n",
    "\n",
    "\n",
    "class PretrainMode(Enum):\n",
    "    NOT_PRETRAINED = \"NOT_PRETRAINED\"\n",
    "    LINEAR_PROBING = \"LINEAR_PROBING\"\n",
    "    FINE_TUNING = \"FINE_TUNING\""
   ],
   "execution_count": null,
   "outputs": []
  },
  {
   "cell_type": "code",
   "metadata": {
    "id": "9uHVD6Iv6Tip"
   },
   "source": [
    "class YourModel(torch.nn.Module):\n",
    "    def __init__(\n",
    "        self,\n",
    "        n_classes: int,\n",
    "        arhcitecture: nn.Module,\n",
    "        pretrain_mode: PretrainMode = PretrainMode.LINEAR_PROBING,\n",
    "    ):\n",
    "        super().__init__()\n",
    "        self.accuracy_list = []\n",
    "\n",
    "        # YOUR CODE HERE\n",
    "        if pretrain_mode.NOT_PRETRAINED:\n",
    "            self.pretrained = False\n",
    "        else:\n",
    "            self.pretrained = True\n",
    "\n",
    "        if not pretrain_mode.NOT_PRETRAINED:\n",
    "            self.model = torchvision.models.resnet50(pretrained=True)\n",
    "\n",
    "            # Freezing weights\n",
    "            if pretrain_mode.LINEAR_PROBING:\n",
    "                for param in self.model.parameters():\n",
    "                    param.requires_grad = False\n",
    "\n",
    "            in_features = self.model.fc.in_features\n",
    "            self.model.fc = nn.Linear(in_features=in_features, out_features=n_classes)\n",
    "        else:\n",
    "            self.model = torchvision.models.resnet50(\n",
    "                pretrained=False, num_classes=n_classes\n",
    "            )\n",
    "\n",
    "    def _forward(self, x):\n",
    "        # runs the Neural Network\n",
    "        # YOUR CODE HERE\n",
    "        logits = self.model(x)\n",
    "\n",
    "        return logits\n",
    "\n",
    "    def forward(self, images, target=None):\n",
    "        # images ~ (batch size, num channels, height, width)\n",
    "        # target ~ (batch size)\n",
    "        # output ~ (batch size, num classes)\n",
    "        output = self._forward(images)\n",
    "\n",
    "        # get binary mask and save it to self.accuracy_list\n",
    "        if target is not None:\n",
    "            pred = torch.argmax(output, dim=-1)\n",
    "            self.accuracy_list.extend((target == pred).tolist())\n",
    "\n",
    "        return output\n",
    "\n",
    "    def get_accuracy(self, reset=False):\n",
    "        # return accuracy by all values in the dataset\n",
    "        if reset:\n",
    "            self.accuracy_list = []\n",
    "            return None\n",
    "        else:\n",
    "            return torch.mean(torch.Tensor(self.accuracy_list))"
   ],
   "execution_count": null,
   "outputs": []
  },
  {
   "cell_type": "code",
   "metadata": {
    "id": "ScLK6jhqqIj9"
   },
   "source": [
    "class Experiment:\n",
    "    def __init__(\n",
    "        self,\n",
    "        experiment_config: ExperimentConfig,\n",
    "        augmentation_hyperparams: AugmentationHyperparams,\n",
    "    ):\n",
    "        self.experiment_config = experiment_config\n",
    "        self.augmentation_hyperparams = augmentation_hyperparams\n",
    "\n",
    "    def run(self, model: nn.Module) -> nn.Module:\n",
    "        train_dataloader, test_dataloader = get_dataloaders(\n",
    "            config=self.experiment_config,\n",
    "            augmentation_hyperparams=self.augmentation_hyperparams,\n",
    "        )\n",
    "\n",
    "        if (\n",
    "            self.experiment_config.MOMENTUM is not None\n",
    "            and self.experiment_config.WEIGHT_DECAY is not None\n",
    "        ):\n",
    "            optimizer = torch.optim.SGD(\n",
    "                model.parameters(),\n",
    "                lr=self.experiment_config.LR,\n",
    "                momentum=self.experiment_config.MOMENTUM,\n",
    "                weight_decay=self.experiment_config.WEIGHT_DECAY,\n",
    "            )\n",
    "        else:\n",
    "            optimizer = torch.optim.Adam(\n",
    "                model.parameters(), lr=self.experiment_config.LR\n",
    "            )\n",
    "\n",
    "        if self.experiment_config.LABEL_SMOOTHING is not None:\n",
    "            criterion = torch.nn.CrossEntropyLoss(\n",
    "                label_smoothing=self.experiment_config.LABEL_SMOOTHING\n",
    "            )\n",
    "        else:\n",
    "            criterion = torch.nn.CrossEntropyLoss()\n",
    "\n",
    "        eta_min = (\n",
    "            self.experiment_config.ETA_MIN\n",
    "            if self.experiment_config.ETA_MIN is not None\n",
    "            else 0.0\n",
    "        )\n",
    "        scheduler = torch.optim.lr_scheduler.CosineAnnealingLR(\n",
    "            optimizer, T_max=self.experiment_config.N_EPOCHS, eta_min=eta_min\n",
    "        )\n",
    "\n",
    "        train(\n",
    "            model=model,\n",
    "            train_dataloader=train_dataloader,\n",
    "            test_dataloader=test_dataloader,\n",
    "            criterion=criterion,\n",
    "            optimizer=optimizer,\n",
    "            device=ExperimentConfig.DEVICE,\n",
    "            n_epochs=ExperimentConfig.N_EPOCHS,\n",
    "            scheduler=scheduler,\n",
    "        )\n",
    "\n",
    "        return model"
   ],
   "execution_count": null,
   "outputs": []
  },
  {
   "cell_type": "code",
   "metadata": {
    "colab": {
     "base_uri": "https://localhost:8080/",
     "height": 122
    },
    "id": "WAWcjLY36ZEE",
    "outputId": "3d1ebab2-8d9f-4687-9409-333f479929ca"
   },
   "source": [
    "%%time\n",
    "\n",
    "\n",
    "@dataclass\n",
    "class ExperimentConfig:\n",
    "    TRAIN_ROOT: str = ROOT_PATH / ROOT_PATH / \"train\"\n",
    "    VAL_ROOT: str = ROOT_PATH / ROOT_PATH / \"val\"\n",
    "    CKPT_ROOT: str = GDRIVE_ROOT_PATH\n",
    "\n",
    "    # MEAN: Union[Tuple[float], None] = (0.485, 0.456, 0.406)\n",
    "    # STD: Union[Tuple[float], None] = (0.229, 0.224, 0.225)\n",
    "\n",
    "    MEAN: Union[Tuple[float], None] = None\n",
    "    STD: Union[Tuple[float], None] = None\n",
    "\n",
    "    N_EPOCHS: int = 100\n",
    "    # LR: float = 1e-2\n",
    "    LR: float = 0.5\n",
    "    BATCH_SIZE: int = 32\n",
    "\n",
    "    N_CLASSES = len(os.listdir(ROOT_PATH / ROOT_PATH / \"train\"))\n",
    "\n",
    "    NUM_WORKERS: int = 2\n",
    "\n",
    "    MOMENTUM: Union[float, None] = 0.9\n",
    "    WEIGHT_DECAY: Union[float, None] = 2e-05\n",
    "    ETA_MIN: Union[float, None] = 0.00001\n",
    "    LABEL_SMOOTHING: Union[float, None] = 0.1\n",
    "\n",
    "    if torch.backends.mps.is_available():\n",
    "        DEVICE = torch.device(\"mps\")\n",
    "    elif torch.cuda.is_available():\n",
    "        DEVICE = torch.device(\"cuda\")\n",
    "    else:\n",
    "        DEVICE = torch.device(\"cpu\")\n",
    "\n",
    "    IS_PRETRAINED: bool = False\n",
    "\n",
    "\n",
    "@dataclass\n",
    "class AugmentationHyperparams:\n",
    "    RESIZE_HEIGHT: Union[int, None] = None\n",
    "    RESIZE_WIDTH: Union[int, None] = None\n",
    "    RANDOM_CROP_SIZE: int = None\n",
    "    RANDOM_CROP_PADDING: int = None\n",
    "    FLIP_PROB: float = None\n",
    "    ROTATION_DEG: float = None\n",
    "    JITTER_PARAM: float = None\n",
    "    BRIGHTNESS: float = None\n",
    "    CONTRAST: float = None\n",
    "    SATURATION: float = None\n",
    "    HUE: float = None\n",
    "\n",
    "\n",
    "model = YourModel(n_classes=ExperimentConfig.N_CLASSES)\n",
    "experiment = Experiment(\n",
    "    experiment_config=ExperimentConfig(),\n",
    "    augmentation_hyperparams=AugmentationHyperparams(),\n",
    ")\n",
    "final_model = experiment.run(model)"
   ],
   "execution_count": null,
   "outputs": []
  },
  {
   "cell_type": "markdown",
   "metadata": {
    "id": "3eoTAB1fSOuk"
   },
   "source": [
    "### Валидация результатов задания"
   ]
  },
  {
   "cell_type": "code",
   "metadata": {
    "id": "4M_BAiMNl1rL"
   },
   "source": [
    "def evaluate_task(model, test_dataloader, device=\"cuda:0\"):\n",
    "    model = model.to(device)\n",
    "    model.eval()\n",
    "    accuracy = 0.0\n",
    "    model.get_accuracy(reset=True)\n",
    "    for images, labels in tqdm(test_dataloader):\n",
    "        images, labels = images.to(device), labels.to(device)\n",
    "        with torch.no_grad():\n",
    "            model(images, labels)\n",
    "    accuracy = model.get_accuracy()\n",
    "    return accuracy"
   ],
   "execution_count": null,
   "outputs": []
  },
  {
   "cell_type": "code",
   "metadata": {
    "colab": {
     "base_uri": "https://localhost:8080/"
    },
    "id": "TsP57VG8KEfP",
    "outputId": "586eb679-7def-4b6e-f5fc-34161cab1acd"
   },
   "source": [
    "model = YourResNet50(n_classes=ExperimentConfig.N_CLASSES)\n",
    "model.load_state_dict(\n",
    "    torch.load(ExperimentConfig.CKPT_ROOT / f\"{model.__class__.__name__}.pt\")\n",
    ")\n",
    "\n",
    "accuracy = evaluate_task(model, test_dataloader)\n",
    "print(\n",
    "    f\"Оценка за это задание составит {np.clip(10 * accuracy / 0.44, 0, 10):.2f} баллов\"\n",
    ")"
   ],
   "execution_count": null,
   "outputs": []
  },
  {
   "cell_type": "markdown",
   "metadata": {
    "id": "HYo6Rd-bBpJe"
   },
   "source": [
    "# Отчёт об экспериментах\n",
    "\n",
    "* Описание проведенных вами экспериментов\n",
    "* Ссылка на трекер (wandb или любой другой)\n",
    "* Ваши мысли и наблюдения"
   ]
  },
  {
   "cell_type": "markdown",
   "metadata": {
    "id": "cZqSdlQQKukS"
   },
   "source": [
    "## Задание 2\n",
    "\n",
    "5 баллов\n",
    "Добейтесь accuracy на валидации не менее 0.84. В этом задании делать ресайз и использовать претрейн можно.\n",
    "\n",
    "Советы:\n",
    "1. Аугментации\n",
    "2. Предобученные модели (https://pytorch.org/vision/stable/models.html)\n",
    "3. Попробуйте сначала посмотреть качество исходной модели без дообучения, отталкиваться от него как baseline."
   ]
  },
  {
   "cell_type": "markdown",
   "metadata": {
    "id": "zDzXM5rNxNQp"
   },
   "source": [
    "### Импортируйте предобученную модель в наш интерфейс"
   ]
  },
  {
   "cell_type": "code",
   "metadata": {
    "colab": {
     "base_uri": "https://localhost:8080/",
     "height": 794
    },
    "id": "w5uIQi0_aI9b",
    "outputId": "5e5a8e51-e732-4454-f421-da72eb2d58c0"
   },
   "source": [
    "%%time\n",
    "\n",
    "\n",
    "@dataclass\n",
    "class ExperimentConfig:\n",
    "    TRAIN_ROOT: str = ROOT_PATH / ROOT_PATH / \"train\"\n",
    "    VAL_ROOT: str = ROOT_PATH / ROOT_PATH / \"val\"\n",
    "    CKPT_ROOT: str = GDRIVE_ROOT_PATH\n",
    "\n",
    "    NORMALIZE: bool = True\n",
    "\n",
    "    N_EPOCHS: int = 20\n",
    "    # LR: float = 1e-2\n",
    "    LR: float = 0.5\n",
    "    BATCH_SIZE: int = 32\n",
    "\n",
    "    N_CLASSES = len(os.listdir(ROOT_PATH / ROOT_PATH / \"train\"))\n",
    "\n",
    "    NUM_WORKERS: int = 2\n",
    "\n",
    "    MOMENTUM: Union[float, None] = 0.9\n",
    "    WEIGHT_DECAY: Union[float, None] = 2e-05\n",
    "    ETA_MIN: Union[float, None] = 0.00001\n",
    "    LABEL_SMOOTHING: Union[float, None] = 0.1\n",
    "\n",
    "    if torch.backends.mps.is_available():\n",
    "        DEVICE = torch.device(\"mps\")\n",
    "    elif torch.cuda.is_available():\n",
    "        DEVICE = torch.device(\"cuda\")\n",
    "    else:\n",
    "        DEVICE = torch.device(\"cpu\")\n",
    "\n",
    "    IS_PRETRAINED: bool = True\n",
    "\n",
    "\n",
    "AugmentationHyperparams.RESIZE_HEIGHT = 224\n",
    "AugmentationHyperparams.RESIZE_WIDTH = 224\n",
    "\n",
    "\n",
    "@dataclass\n",
    "class AugmentationHyperparams:\n",
    "    RESIZE_HEIGHT: Union[int, None] = 224\n",
    "    RESIZE_WIDTH: Union[int, None] = 224\n",
    "    RANDOM_CROP_SIZE: int = None\n",
    "    RANDOM_CROP_PADDING: int = None\n",
    "    FLIP_PROB: float = None\n",
    "    ROTATION_DEG: float = None\n",
    "    JITTER_PARAM: float = None\n",
    "    BRIGHTNESS: float = None\n",
    "    CONTRAST: float = None\n",
    "    SATURATION: float = None\n",
    "    HUE: float = None\n",
    "\n",
    "\n",
    "model = YourModel(\n",
    "    n_classes=ExperimentConfig.N_CLASSES, pretrain_mode=PretrainMode.LINEAR_PROBING\n",
    ")\n",
    "experiment = Experiment(\n",
    "    experiment_config=ExperimentConfig(),\n",
    "    augmentation_hyperparams=AugmentationHyperparams,\n",
    ")\n",
    "final_model = experiment.run(model)"
   ],
   "execution_count": null,
   "outputs": []
  },
  {
   "cell_type": "code",
   "source": [
    "model = YourModel(\n",
    "    arhcitecture=torchvision.models.resnet18,\n",
    "    n_classes=ExperimentConfig.N_CLASSES,\n",
    "    pretrain_mode=PretrainMode.LINEAR_PROBING,\n",
    ")\n",
    "evaluate_task(model, test_dataloader)"
   ],
   "metadata": {
    "colab": {
     "base_uri": "https://localhost:8080/"
    },
    "id": "QjfWMsmQXkfg",
    "outputId": "e0adebe7-b685-4e25-a87c-e9515e4127f3"
   },
   "execution_count": null,
   "outputs": []
  },
  {
   "cell_type": "markdown",
   "metadata": {
    "id": "u5D2bwOKSHVp"
   },
   "source": [
    "### Валидация результатов задания"
   ]
  },
  {
   "cell_type": "code",
   "metadata": {
    "id": "PEdwJE5uOrIM",
    "colab": {
     "base_uri": "https://localhost:8080/",
     "height": 207
    },
    "outputId": "3df85247-a13f-4fb1-ca35-231806bb5e30"
   },
   "source": [
    "model = YourResNet50(n_classes=ExperimentConfig.N_CLASSES)\n",
    "model.load_state_dict(\n",
    "    torch.load(ExperimentConfig.CKPT_ROOT / f\"{model.__class__.__name__}.pt\")\n",
    ")\n",
    "\n",
    "accuracy = evaluate_task(model, test_dataloader)\n",
    "print(\n",
    "    f\"Оценка за это задание составит {np.clip(10 * (accuracy - 0.5) / 0.34, 0, 10):.2f} баллов\"\n",
    ")"
   ],
   "execution_count": null,
   "outputs": []
  },
  {
   "cell_type": "markdown",
   "metadata": {
    "id": "pT8vfPSolRVb"
   },
   "source": [
    "# Отчёт об экспериментах\n",
    "\n",
    "* Описание проведенных вами экспериментов\n",
    "* Ссылка на трекер (wandb или любой другой)\n",
    "* Ваши мысли и наблюдения"
   ]
  },
  {
   "cell_type": "code",
   "metadata": {
    "id": "YkGZ3kuULB55"
   },
   "source": [],
   "execution_count": null,
   "outputs": []
  }
 ],
 "metadata": {
  "colab": {
   "machine_shape": "hm",
   "provenance": []
  },
  "kernelspec": {
   "display_name": "Python 3 (ipykernel)",
   "name": "python3",
   "language": "python"
  },
  "language_info": {
   "codemirror_mode": {
    "name": "ipython",
    "version": 3
   },
   "file_extension": ".py",
   "mimetype": "text/x-python",
   "name": "python",
   "nbconvert_exporter": "python",
   "pygments_lexer": "ipython3",
   "version": "3.8.5"
  },
  "max_cell_id": 35,
  "widgets": {
   "application/vnd.jupyter.widget-state+json": {
    "f2ba4020c7964609b85e47201bc3580e": {
     "model_module": "@jupyter-widgets/controls",
     "model_name": "HBoxModel",
     "model_module_version": "1.5.0",
     "state": {
      "_dom_classes": [],
      "_model_module": "@jupyter-widgets/controls",
      "_model_module_version": "1.5.0",
      "_model_name": "HBoxModel",
      "_view_count": null,
      "_view_module": "@jupyter-widgets/controls",
      "_view_module_version": "1.5.0",
      "_view_name": "HBoxView",
      "box_style": "",
      "children": [
       "IPY_MODEL_eda095e85d4c451a933e0c6f3db059e5",
       "IPY_MODEL_2a13b36cbdfb49a5b8c128e78759846e",
       "IPY_MODEL_8b25d1d2844d46a587bd2a98257c1753"
      ],
      "layout": "IPY_MODEL_2ed516a6b6654bf681770359559740c8"
     }
    },
    "eda095e85d4c451a933e0c6f3db059e5": {
     "model_module": "@jupyter-widgets/controls",
     "model_name": "HTMLModel",
     "model_module_version": "1.5.0",
     "state": {
      "_dom_classes": [],
      "_model_module": "@jupyter-widgets/controls",
      "_model_module_version": "1.5.0",
      "_model_name": "HTMLModel",
      "_view_count": null,
      "_view_module": "@jupyter-widgets/controls",
      "_view_module_version": "1.5.0",
      "_view_name": "HTMLView",
      "description": "",
      "description_tooltip": null,
      "layout": "IPY_MODEL_01b0bdc57a0941ceaaba02dfeb2817eb",
      "placeholder": "​",
      "style": "IPY_MODEL_b9af0d410c774087b8ef8f34e3c92c15",
      "value": " 96%"
     }
    },
    "2a13b36cbdfb49a5b8c128e78759846e": {
     "model_module": "@jupyter-widgets/controls",
     "model_name": "FloatProgressModel",
     "model_module_version": "1.5.0",
     "state": {
      "_dom_classes": [],
      "_model_module": "@jupyter-widgets/controls",
      "_model_module_version": "1.5.0",
      "_model_name": "FloatProgressModel",
      "_view_count": null,
      "_view_module": "@jupyter-widgets/controls",
      "_view_module_version": "1.5.0",
      "_view_name": "ProgressView",
      "bar_style": "",
      "description": "",
      "description_tooltip": null,
      "layout": "IPY_MODEL_4b2d09935d6448bebe4fe789156f3773",
      "max": 1244990,
      "min": 0,
      "orientation": "horizontal",
      "style": "IPY_MODEL_911a36a26cca46c09507cfacb08fa3d9",
      "value": 1197262
     }
    },
    "8b25d1d2844d46a587bd2a98257c1753": {
     "model_module": "@jupyter-widgets/controls",
     "model_name": "HTMLModel",
     "model_module_version": "1.5.0",
     "state": {
      "_dom_classes": [],
      "_model_module": "@jupyter-widgets/controls",
      "_model_module_version": "1.5.0",
      "_model_name": "HTMLModel",
      "_view_count": null,
      "_view_module": "@jupyter-widgets/controls",
      "_view_module_version": "1.5.0",
      "_view_name": "HTMLView",
      "description": "",
      "description_tooltip": null,
      "layout": "IPY_MODEL_63ec759e55a34e99b76ba1ea6787985a",
      "placeholder": "​",
      "style": "IPY_MODEL_ea4a68bb1f294178a5518bcfd1a2dd74",
      "value": " 1197262/1244990 [03:32&lt;00:06, 7739.80it/s]"
     }
    },
    "2ed516a6b6654bf681770359559740c8": {
     "model_module": "@jupyter-widgets/base",
     "model_name": "LayoutModel",
     "model_module_version": "1.2.0",
     "state": {
      "_model_module": "@jupyter-widgets/base",
      "_model_module_version": "1.2.0",
      "_model_name": "LayoutModel",
      "_view_count": null,
      "_view_module": "@jupyter-widgets/base",
      "_view_module_version": "1.2.0",
      "_view_name": "LayoutView",
      "align_content": null,
      "align_items": null,
      "align_self": null,
      "border": null,
      "bottom": null,
      "display": null,
      "flex": null,
      "flex_flow": null,
      "grid_area": null,
      "grid_auto_columns": null,
      "grid_auto_flow": null,
      "grid_auto_rows": null,
      "grid_column": null,
      "grid_gap": null,
      "grid_row": null,
      "grid_template_areas": null,
      "grid_template_columns": null,
      "grid_template_rows": null,
      "height": null,
      "justify_content": null,
      "justify_items": null,
      "left": null,
      "margin": null,
      "max_height": null,
      "max_width": null,
      "min_height": null,
      "min_width": null,
      "object_fit": null,
      "object_position": null,
      "order": null,
      "overflow": null,
      "overflow_x": null,
      "overflow_y": null,
      "padding": null,
      "right": null,
      "top": null,
      "visibility": null,
      "width": null
     }
    },
    "01b0bdc57a0941ceaaba02dfeb2817eb": {
     "model_module": "@jupyter-widgets/base",
     "model_name": "LayoutModel",
     "model_module_version": "1.2.0",
     "state": {
      "_model_module": "@jupyter-widgets/base",
      "_model_module_version": "1.2.0",
      "_model_name": "LayoutModel",
      "_view_count": null,
      "_view_module": "@jupyter-widgets/base",
      "_view_module_version": "1.2.0",
      "_view_name": "LayoutView",
      "align_content": null,
      "align_items": null,
      "align_self": null,
      "border": null,
      "bottom": null,
      "display": null,
      "flex": null,
      "flex_flow": null,
      "grid_area": null,
      "grid_auto_columns": null,
      "grid_auto_flow": null,
      "grid_auto_rows": null,
      "grid_column": null,
      "grid_gap": null,
      "grid_row": null,
      "grid_template_areas": null,
      "grid_template_columns": null,
      "grid_template_rows": null,
      "height": null,
      "justify_content": null,
      "justify_items": null,
      "left": null,
      "margin": null,
      "max_height": null,
      "max_width": null,
      "min_height": null,
      "min_width": null,
      "object_fit": null,
      "object_position": null,
      "order": null,
      "overflow": null,
      "overflow_x": null,
      "overflow_y": null,
      "padding": null,
      "right": null,
      "top": null,
      "visibility": null,
      "width": null
     }
    },
    "b9af0d410c774087b8ef8f34e3c92c15": {
     "model_module": "@jupyter-widgets/controls",
     "model_name": "DescriptionStyleModel",
     "model_module_version": "1.5.0",
     "state": {
      "_model_module": "@jupyter-widgets/controls",
      "_model_module_version": "1.5.0",
      "_model_name": "DescriptionStyleModel",
      "_view_count": null,
      "_view_module": "@jupyter-widgets/base",
      "_view_module_version": "1.2.0",
      "_view_name": "StyleView",
      "description_width": ""
     }
    },
    "4b2d09935d6448bebe4fe789156f3773": {
     "model_module": "@jupyter-widgets/base",
     "model_name": "LayoutModel",
     "model_module_version": "1.2.0",
     "state": {
      "_model_module": "@jupyter-widgets/base",
      "_model_module_version": "1.2.0",
      "_model_name": "LayoutModel",
      "_view_count": null,
      "_view_module": "@jupyter-widgets/base",
      "_view_module_version": "1.2.0",
      "_view_name": "LayoutView",
      "align_content": null,
      "align_items": null,
      "align_self": null,
      "border": null,
      "bottom": null,
      "display": null,
      "flex": null,
      "flex_flow": null,
      "grid_area": null,
      "grid_auto_columns": null,
      "grid_auto_flow": null,
      "grid_auto_rows": null,
      "grid_column": null,
      "grid_gap": null,
      "grid_row": null,
      "grid_template_areas": null,
      "grid_template_columns": null,
      "grid_template_rows": null,
      "height": null,
      "justify_content": null,
      "justify_items": null,
      "left": null,
      "margin": null,
      "max_height": null,
      "max_width": null,
      "min_height": null,
      "min_width": null,
      "object_fit": null,
      "object_position": null,
      "order": null,
      "overflow": null,
      "overflow_x": null,
      "overflow_y": null,
      "padding": null,
      "right": null,
      "top": null,
      "visibility": null,
      "width": null
     }
    },
    "911a36a26cca46c09507cfacb08fa3d9": {
     "model_module": "@jupyter-widgets/controls",
     "model_name": "ProgressStyleModel",
     "model_module_version": "1.5.0",
     "state": {
      "_model_module": "@jupyter-widgets/controls",
      "_model_module_version": "1.5.0",
      "_model_name": "ProgressStyleModel",
      "_view_count": null,
      "_view_module": "@jupyter-widgets/base",
      "_view_module_version": "1.2.0",
      "_view_name": "StyleView",
      "bar_color": null,
      "description_width": ""
     }
    },
    "63ec759e55a34e99b76ba1ea6787985a": {
     "model_module": "@jupyter-widgets/base",
     "model_name": "LayoutModel",
     "model_module_version": "1.2.0",
     "state": {
      "_model_module": "@jupyter-widgets/base",
      "_model_module_version": "1.2.0",
      "_model_name": "LayoutModel",
      "_view_count": null,
      "_view_module": "@jupyter-widgets/base",
      "_view_module_version": "1.2.0",
      "_view_name": "LayoutView",
      "align_content": null,
      "align_items": null,
      "align_self": null,
      "border": null,
      "bottom": null,
      "display": null,
      "flex": null,
      "flex_flow": null,
      "grid_area": null,
      "grid_auto_columns": null,
      "grid_auto_flow": null,
      "grid_auto_rows": null,
      "grid_column": null,
      "grid_gap": null,
      "grid_row": null,
      "grid_template_areas": null,
      "grid_template_columns": null,
      "grid_template_rows": null,
      "height": null,
      "justify_content": null,
      "justify_items": null,
      "left": null,
      "margin": null,
      "max_height": null,
      "max_width": null,
      "min_height": null,
      "min_width": null,
      "object_fit": null,
      "object_position": null,
      "order": null,
      "overflow": null,
      "overflow_x": null,
      "overflow_y": null,
      "padding": null,
      "right": null,
      "top": null,
      "visibility": null,
      "width": null
     }
    },
    "ea4a68bb1f294178a5518bcfd1a2dd74": {
     "model_module": "@jupyter-widgets/controls",
     "model_name": "DescriptionStyleModel",
     "model_module_version": "1.5.0",
     "state": {
      "_model_module": "@jupyter-widgets/controls",
      "_model_module_version": "1.5.0",
      "_model_name": "DescriptionStyleModel",
      "_view_count": null,
      "_view_module": "@jupyter-widgets/base",
      "_view_module_version": "1.2.0",
      "_view_name": "StyleView",
      "description_width": ""
     }
    },
    "c11f81685d524294b14bcda4b503ba8b": {
     "model_module": "@jupyter-widgets/controls",
     "model_name": "HBoxModel",
     "model_module_version": "1.5.0",
     "state": {
      "_dom_classes": [],
      "_model_module": "@jupyter-widgets/controls",
      "_model_module_version": "1.5.0",
      "_model_name": "HBoxModel",
      "_view_count": null,
      "_view_module": "@jupyter-widgets/controls",
      "_view_module_version": "1.5.0",
      "_view_name": "HBoxView",
      "box_style": "",
      "children": [
       "IPY_MODEL_5e0f1113cc86497abaf054d7621b2818",
       "IPY_MODEL_7240bec1aa2e4296b62b09579348c3e2",
       "IPY_MODEL_6e7de4a448314f72bbb0b5a2e3e3fea1"
      ],
      "layout": "IPY_MODEL_8021f5c8f15d41e79697caec190ac222"
     }
    },
    "5e0f1113cc86497abaf054d7621b2818": {
     "model_module": "@jupyter-widgets/controls",
     "model_name": "HTMLModel",
     "model_module_version": "1.5.0",
     "state": {
      "_dom_classes": [],
      "_model_module": "@jupyter-widgets/controls",
      "_model_module_version": "1.5.0",
      "_model_name": "HTMLModel",
      "_view_count": null,
      "_view_module": "@jupyter-widgets/controls",
      "_view_module_version": "1.5.0",
      "_view_name": "HTMLView",
      "description": "",
      "description_tooltip": null,
      "layout": "IPY_MODEL_6c09110c9cd242fda381226a542fbc43",
      "placeholder": "​",
      "style": "IPY_MODEL_ccc3c9843b4843a6a5e1614f1c40dfbb",
      "value": " 94%"
     }
    },
    "7240bec1aa2e4296b62b09579348c3e2": {
     "model_module": "@jupyter-widgets/controls",
     "model_name": "FloatProgressModel",
     "model_module_version": "1.5.0",
     "state": {
      "_dom_classes": [],
      "_model_module": "@jupyter-widgets/controls",
      "_model_module_version": "1.5.0",
      "_model_name": "FloatProgressModel",
      "_view_count": null,
      "_view_module": "@jupyter-widgets/controls",
      "_view_module_version": "1.5.0",
      "_view_name": "ProgressView",
      "bar_style": "",
      "description": "",
      "description_tooltip": null,
      "layout": "IPY_MODEL_56537476020f4e9e853860cc8a016213",
      "max": 1244990,
      "min": 0,
      "orientation": "horizontal",
      "style": "IPY_MODEL_594d2662e70b4d5898ac6f5233b1ad1c",
      "value": 1174534
     }
    },
    "6e7de4a448314f72bbb0b5a2e3e3fea1": {
     "model_module": "@jupyter-widgets/controls",
     "model_name": "HTMLModel",
     "model_module_version": "1.5.0",
     "state": {
      "_dom_classes": [],
      "_model_module": "@jupyter-widgets/controls",
      "_model_module_version": "1.5.0",
      "_model_name": "HTMLModel",
      "_view_count": null,
      "_view_module": "@jupyter-widgets/controls",
      "_view_module_version": "1.5.0",
      "_view_name": "HTMLView",
      "description": "",
      "description_tooltip": null,
      "layout": "IPY_MODEL_9db642b73501478f9f9d082f62b13d8c",
      "placeholder": "​",
      "style": "IPY_MODEL_cb900751f6fe411abd138cccc81279ab",
      "value": " 1174534/1244990 [03:24&lt;00:09, 7060.27it/s]"
     }
    },
    "8021f5c8f15d41e79697caec190ac222": {
     "model_module": "@jupyter-widgets/base",
     "model_name": "LayoutModel",
     "model_module_version": "1.2.0",
     "state": {
      "_model_module": "@jupyter-widgets/base",
      "_model_module_version": "1.2.0",
      "_model_name": "LayoutModel",
      "_view_count": null,
      "_view_module": "@jupyter-widgets/base",
      "_view_module_version": "1.2.0",
      "_view_name": "LayoutView",
      "align_content": null,
      "align_items": null,
      "align_self": null,
      "border": null,
      "bottom": null,
      "display": null,
      "flex": null,
      "flex_flow": null,
      "grid_area": null,
      "grid_auto_columns": null,
      "grid_auto_flow": null,
      "grid_auto_rows": null,
      "grid_column": null,
      "grid_gap": null,
      "grid_row": null,
      "grid_template_areas": null,
      "grid_template_columns": null,
      "grid_template_rows": null,
      "height": null,
      "justify_content": null,
      "justify_items": null,
      "left": null,
      "margin": null,
      "max_height": null,
      "max_width": null,
      "min_height": null,
      "min_width": null,
      "object_fit": null,
      "object_position": null,
      "order": null,
      "overflow": null,
      "overflow_x": null,
      "overflow_y": null,
      "padding": null,
      "right": null,
      "top": null,
      "visibility": null,
      "width": null
     }
    },
    "6c09110c9cd242fda381226a542fbc43": {
     "model_module": "@jupyter-widgets/base",
     "model_name": "LayoutModel",
     "model_module_version": "1.2.0",
     "state": {
      "_model_module": "@jupyter-widgets/base",
      "_model_module_version": "1.2.0",
      "_model_name": "LayoutModel",
      "_view_count": null,
      "_view_module": "@jupyter-widgets/base",
      "_view_module_version": "1.2.0",
      "_view_name": "LayoutView",
      "align_content": null,
      "align_items": null,
      "align_self": null,
      "border": null,
      "bottom": null,
      "display": null,
      "flex": null,
      "flex_flow": null,
      "grid_area": null,
      "grid_auto_columns": null,
      "grid_auto_flow": null,
      "grid_auto_rows": null,
      "grid_column": null,
      "grid_gap": null,
      "grid_row": null,
      "grid_template_areas": null,
      "grid_template_columns": null,
      "grid_template_rows": null,
      "height": null,
      "justify_content": null,
      "justify_items": null,
      "left": null,
      "margin": null,
      "max_height": null,
      "max_width": null,
      "min_height": null,
      "min_width": null,
      "object_fit": null,
      "object_position": null,
      "order": null,
      "overflow": null,
      "overflow_x": null,
      "overflow_y": null,
      "padding": null,
      "right": null,
      "top": null,
      "visibility": null,
      "width": null
     }
    },
    "ccc3c9843b4843a6a5e1614f1c40dfbb": {
     "model_module": "@jupyter-widgets/controls",
     "model_name": "DescriptionStyleModel",
     "model_module_version": "1.5.0",
     "state": {
      "_model_module": "@jupyter-widgets/controls",
      "_model_module_version": "1.5.0",
      "_model_name": "DescriptionStyleModel",
      "_view_count": null,
      "_view_module": "@jupyter-widgets/base",
      "_view_module_version": "1.2.0",
      "_view_name": "StyleView",
      "description_width": ""
     }
    },
    "56537476020f4e9e853860cc8a016213": {
     "model_module": "@jupyter-widgets/base",
     "model_name": "LayoutModel",
     "model_module_version": "1.2.0",
     "state": {
      "_model_module": "@jupyter-widgets/base",
      "_model_module_version": "1.2.0",
      "_model_name": "LayoutModel",
      "_view_count": null,
      "_view_module": "@jupyter-widgets/base",
      "_view_module_version": "1.2.0",
      "_view_name": "LayoutView",
      "align_content": null,
      "align_items": null,
      "align_self": null,
      "border": null,
      "bottom": null,
      "display": null,
      "flex": null,
      "flex_flow": null,
      "grid_area": null,
      "grid_auto_columns": null,
      "grid_auto_flow": null,
      "grid_auto_rows": null,
      "grid_column": null,
      "grid_gap": null,
      "grid_row": null,
      "grid_template_areas": null,
      "grid_template_columns": null,
      "grid_template_rows": null,
      "height": null,
      "justify_content": null,
      "justify_items": null,
      "left": null,
      "margin": null,
      "max_height": null,
      "max_width": null,
      "min_height": null,
      "min_width": null,
      "object_fit": null,
      "object_position": null,
      "order": null,
      "overflow": null,
      "overflow_x": null,
      "overflow_y": null,
      "padding": null,
      "right": null,
      "top": null,
      "visibility": null,
      "width": null
     }
    },
    "594d2662e70b4d5898ac6f5233b1ad1c": {
     "model_module": "@jupyter-widgets/controls",
     "model_name": "ProgressStyleModel",
     "model_module_version": "1.5.0",
     "state": {
      "_model_module": "@jupyter-widgets/controls",
      "_model_module_version": "1.5.0",
      "_model_name": "ProgressStyleModel",
      "_view_count": null,
      "_view_module": "@jupyter-widgets/base",
      "_view_module_version": "1.2.0",
      "_view_name": "StyleView",
      "bar_color": null,
      "description_width": ""
     }
    },
    "9db642b73501478f9f9d082f62b13d8c": {
     "model_module": "@jupyter-widgets/base",
     "model_name": "LayoutModel",
     "model_module_version": "1.2.0",
     "state": {
      "_model_module": "@jupyter-widgets/base",
      "_model_module_version": "1.2.0",
      "_model_name": "LayoutModel",
      "_view_count": null,
      "_view_module": "@jupyter-widgets/base",
      "_view_module_version": "1.2.0",
      "_view_name": "LayoutView",
      "align_content": null,
      "align_items": null,
      "align_self": null,
      "border": null,
      "bottom": null,
      "display": null,
      "flex": null,
      "flex_flow": null,
      "grid_area": null,
      "grid_auto_columns": null,
      "grid_auto_flow": null,
      "grid_auto_rows": null,
      "grid_column": null,
      "grid_gap": null,
      "grid_row": null,
      "grid_template_areas": null,
      "grid_template_columns": null,
      "grid_template_rows": null,
      "height": null,
      "justify_content": null,
      "justify_items": null,
      "left": null,
      "margin": null,
      "max_height": null,
      "max_width": null,
      "min_height": null,
      "min_width": null,
      "object_fit": null,
      "object_position": null,
      "order": null,
      "overflow": null,
      "overflow_x": null,
      "overflow_y": null,
      "padding": null,
      "right": null,
      "top": null,
      "visibility": null,
      "width": null
     }
    },
    "cb900751f6fe411abd138cccc81279ab": {
     "model_module": "@jupyter-widgets/controls",
     "model_name": "DescriptionStyleModel",
     "model_module_version": "1.5.0",
     "state": {
      "_model_module": "@jupyter-widgets/controls",
      "_model_module_version": "1.5.0",
      "_model_name": "DescriptionStyleModel",
      "_view_count": null,
      "_view_module": "@jupyter-widgets/base",
      "_view_module_version": "1.2.0",
      "_view_name": "StyleView",
      "description_width": ""
     }
    },
    "2311fab045fc4e41b45e19c8357c138e": {
     "model_module": "@jupyter-widgets/controls",
     "model_name": "HBoxModel",
     "model_module_version": "1.5.0",
     "state": {
      "_dom_classes": [],
      "_model_module": "@jupyter-widgets/controls",
      "_model_module_version": "1.5.0",
      "_model_name": "HBoxModel",
      "_view_count": null,
      "_view_module": "@jupyter-widgets/controls",
      "_view_module_version": "1.5.0",
      "_view_name": "HBoxView",
      "box_style": "",
      "children": [
       "IPY_MODEL_d971baddea5e4985b3f5f3d73a5c2f5a",
       "IPY_MODEL_cb638e8ecdc5405dbcab107d18558297",
       "IPY_MODEL_c601f72ea7f74dfb9f1bffd0004c20ac"
      ],
      "layout": "IPY_MODEL_aac912f63286444c806d7f43310343a6"
     }
    },
    "d971baddea5e4985b3f5f3d73a5c2f5a": {
     "model_module": "@jupyter-widgets/controls",
     "model_name": "HTMLModel",
     "model_module_version": "1.5.0",
     "state": {
      "_dom_classes": [],
      "_model_module": "@jupyter-widgets/controls",
      "_model_module_version": "1.5.0",
      "_model_name": "HTMLModel",
      "_view_count": null,
      "_view_module": "@jupyter-widgets/controls",
      "_view_module_version": "1.5.0",
      "_view_name": "HTMLView",
      "description": "",
      "description_tooltip": null,
      "layout": "IPY_MODEL_f9e7e8428740406a9c79225e8102ec74",
      "placeholder": "​",
      "style": "IPY_MODEL_6996c760e17a4ab8beb7d015238b5281",
      "value": "100%"
     }
    },
    "cb638e8ecdc5405dbcab107d18558297": {
     "model_module": "@jupyter-widgets/controls",
     "model_name": "FloatProgressModel",
     "model_module_version": "1.5.0",
     "state": {
      "_dom_classes": [],
      "_model_module": "@jupyter-widgets/controls",
      "_model_module_version": "1.5.0",
      "_model_name": "FloatProgressModel",
      "_view_count": null,
      "_view_module": "@jupyter-widgets/controls",
      "_view_module_version": "1.5.0",
      "_view_name": "ProgressView",
      "bar_style": "success",
      "description": "",
      "description_tooltip": null,
      "layout": "IPY_MODEL_0f520b5377744489a55f6c2167285467",
      "max": 1244990,
      "min": 0,
      "orientation": "horizontal",
      "style": "IPY_MODEL_b9a62f1c81f0472f9aa98fa53ad7e94a",
      "value": 1244990
     }
    },
    "c601f72ea7f74dfb9f1bffd0004c20ac": {
     "model_module": "@jupyter-widgets/controls",
     "model_name": "HTMLModel",
     "model_module_version": "1.5.0",
     "state": {
      "_dom_classes": [],
      "_model_module": "@jupyter-widgets/controls",
      "_model_module_version": "1.5.0",
      "_model_name": "HTMLModel",
      "_view_count": null,
      "_view_module": "@jupyter-widgets/controls",
      "_view_module_version": "1.5.0",
      "_view_name": "HTMLView",
      "description": "",
      "description_tooltip": null,
      "layout": "IPY_MODEL_a47059023f6a438690c5263e31bface6",
      "placeholder": "​",
      "style": "IPY_MODEL_7c805fa833bb4f7f99999fa449cf0f3c",
      "value": " 1244990/1244990 [03:52&lt;00:00, 4905.52it/s]"
     }
    },
    "aac912f63286444c806d7f43310343a6": {
     "model_module": "@jupyter-widgets/base",
     "model_name": "LayoutModel",
     "model_module_version": "1.2.0",
     "state": {
      "_model_module": "@jupyter-widgets/base",
      "_model_module_version": "1.2.0",
      "_model_name": "LayoutModel",
      "_view_count": null,
      "_view_module": "@jupyter-widgets/base",
      "_view_module_version": "1.2.0",
      "_view_name": "LayoutView",
      "align_content": null,
      "align_items": null,
      "align_self": null,
      "border": null,
      "bottom": null,
      "display": null,
      "flex": null,
      "flex_flow": null,
      "grid_area": null,
      "grid_auto_columns": null,
      "grid_auto_flow": null,
      "grid_auto_rows": null,
      "grid_column": null,
      "grid_gap": null,
      "grid_row": null,
      "grid_template_areas": null,
      "grid_template_columns": null,
      "grid_template_rows": null,
      "height": null,
      "justify_content": null,
      "justify_items": null,
      "left": null,
      "margin": null,
      "max_height": null,
      "max_width": null,
      "min_height": null,
      "min_width": null,
      "object_fit": null,
      "object_position": null,
      "order": null,
      "overflow": null,
      "overflow_x": null,
      "overflow_y": null,
      "padding": null,
      "right": null,
      "top": null,
      "visibility": null,
      "width": null
     }
    },
    "f9e7e8428740406a9c79225e8102ec74": {
     "model_module": "@jupyter-widgets/base",
     "model_name": "LayoutModel",
     "model_module_version": "1.2.0",
     "state": {
      "_model_module": "@jupyter-widgets/base",
      "_model_module_version": "1.2.0",
      "_model_name": "LayoutModel",
      "_view_count": null,
      "_view_module": "@jupyter-widgets/base",
      "_view_module_version": "1.2.0",
      "_view_name": "LayoutView",
      "align_content": null,
      "align_items": null,
      "align_self": null,
      "border": null,
      "bottom": null,
      "display": null,
      "flex": null,
      "flex_flow": null,
      "grid_area": null,
      "grid_auto_columns": null,
      "grid_auto_flow": null,
      "grid_auto_rows": null,
      "grid_column": null,
      "grid_gap": null,
      "grid_row": null,
      "grid_template_areas": null,
      "grid_template_columns": null,
      "grid_template_rows": null,
      "height": null,
      "justify_content": null,
      "justify_items": null,
      "left": null,
      "margin": null,
      "max_height": null,
      "max_width": null,
      "min_height": null,
      "min_width": null,
      "object_fit": null,
      "object_position": null,
      "order": null,
      "overflow": null,
      "overflow_x": null,
      "overflow_y": null,
      "padding": null,
      "right": null,
      "top": null,
      "visibility": null,
      "width": null
     }
    },
    "6996c760e17a4ab8beb7d015238b5281": {
     "model_module": "@jupyter-widgets/controls",
     "model_name": "DescriptionStyleModel",
     "model_module_version": "1.5.0",
     "state": {
      "_model_module": "@jupyter-widgets/controls",
      "_model_module_version": "1.5.0",
      "_model_name": "DescriptionStyleModel",
      "_view_count": null,
      "_view_module": "@jupyter-widgets/base",
      "_view_module_version": "1.2.0",
      "_view_name": "StyleView",
      "description_width": ""
     }
    },
    "0f520b5377744489a55f6c2167285467": {
     "model_module": "@jupyter-widgets/base",
     "model_name": "LayoutModel",
     "model_module_version": "1.2.0",
     "state": {
      "_model_module": "@jupyter-widgets/base",
      "_model_module_version": "1.2.0",
      "_model_name": "LayoutModel",
      "_view_count": null,
      "_view_module": "@jupyter-widgets/base",
      "_view_module_version": "1.2.0",
      "_view_name": "LayoutView",
      "align_content": null,
      "align_items": null,
      "align_self": null,
      "border": null,
      "bottom": null,
      "display": null,
      "flex": null,
      "flex_flow": null,
      "grid_area": null,
      "grid_auto_columns": null,
      "grid_auto_flow": null,
      "grid_auto_rows": null,
      "grid_column": null,
      "grid_gap": null,
      "grid_row": null,
      "grid_template_areas": null,
      "grid_template_columns": null,
      "grid_template_rows": null,
      "height": null,
      "justify_content": null,
      "justify_items": null,
      "left": null,
      "margin": null,
      "max_height": null,
      "max_width": null,
      "min_height": null,
      "min_width": null,
      "object_fit": null,
      "object_position": null,
      "order": null,
      "overflow": null,
      "overflow_x": null,
      "overflow_y": null,
      "padding": null,
      "right": null,
      "top": null,
      "visibility": null,
      "width": null
     }
    },
    "b9a62f1c81f0472f9aa98fa53ad7e94a": {
     "model_module": "@jupyter-widgets/controls",
     "model_name": "ProgressStyleModel",
     "model_module_version": "1.5.0",
     "state": {
      "_model_module": "@jupyter-widgets/controls",
      "_model_module_version": "1.5.0",
      "_model_name": "ProgressStyleModel",
      "_view_count": null,
      "_view_module": "@jupyter-widgets/base",
      "_view_module_version": "1.2.0",
      "_view_name": "StyleView",
      "bar_color": null,
      "description_width": ""
     }
    },
    "a47059023f6a438690c5263e31bface6": {
     "model_module": "@jupyter-widgets/base",
     "model_name": "LayoutModel",
     "model_module_version": "1.2.0",
     "state": {
      "_model_module": "@jupyter-widgets/base",
      "_model_module_version": "1.2.0",
      "_model_name": "LayoutModel",
      "_view_count": null,
      "_view_module": "@jupyter-widgets/base",
      "_view_module_version": "1.2.0",
      "_view_name": "LayoutView",
      "align_content": null,
      "align_items": null,
      "align_self": null,
      "border": null,
      "bottom": null,
      "display": null,
      "flex": null,
      "flex_flow": null,
      "grid_area": null,
      "grid_auto_columns": null,
      "grid_auto_flow": null,
      "grid_auto_rows": null,
      "grid_column": null,
      "grid_gap": null,
      "grid_row": null,
      "grid_template_areas": null,
      "grid_template_columns": null,
      "grid_template_rows": null,
      "height": null,
      "justify_content": null,
      "justify_items": null,
      "left": null,
      "margin": null,
      "max_height": null,
      "max_width": null,
      "min_height": null,
      "min_width": null,
      "object_fit": null,
      "object_position": null,
      "order": null,
      "overflow": null,
      "overflow_x": null,
      "overflow_y": null,
      "padding": null,
      "right": null,
      "top": null,
      "visibility": null,
      "width": null
     }
    },
    "7c805fa833bb4f7f99999fa449cf0f3c": {
     "model_module": "@jupyter-widgets/controls",
     "model_name": "DescriptionStyleModel",
     "model_module_version": "1.5.0",
     "state": {
      "_model_module": "@jupyter-widgets/controls",
      "_model_module_version": "1.5.0",
      "_model_name": "DescriptionStyleModel",
      "_view_count": null,
      "_view_module": "@jupyter-widgets/base",
      "_view_module_version": "1.2.0",
      "_view_name": "StyleView",
      "description_width": ""
     }
    },
    "94f11e2851ff4a488ae4cb6a697c192d": {
     "model_module": "@jupyter-widgets/controls",
     "model_name": "HBoxModel",
     "model_module_version": "1.5.0",
     "state": {
      "_dom_classes": [],
      "_model_module": "@jupyter-widgets/controls",
      "_model_module_version": "1.5.0",
      "_model_name": "HBoxModel",
      "_view_count": null,
      "_view_module": "@jupyter-widgets/controls",
      "_view_module_version": "1.5.0",
      "_view_name": "HBoxView",
      "box_style": "",
      "children": [
       "IPY_MODEL_4bdec54ceb2b4b6d86e66a89ac46cbc1",
       "IPY_MODEL_7abb84d84ae1442aafce8c13ee783840",
       "IPY_MODEL_1062844be6aa4288b5947b38ef99dcf7"
      ],
      "layout": "IPY_MODEL_65594b23fab24e54bcc0cbbbc55f7338"
     }
    },
    "4bdec54ceb2b4b6d86e66a89ac46cbc1": {
     "model_module": "@jupyter-widgets/controls",
     "model_name": "HTMLModel",
     "model_module_version": "1.5.0",
     "state": {
      "_dom_classes": [],
      "_model_module": "@jupyter-widgets/controls",
      "_model_module_version": "1.5.0",
      "_model_name": "HTMLModel",
      "_view_count": null,
      "_view_module": "@jupyter-widgets/controls",
      "_view_module_version": "1.5.0",
      "_view_name": "HTMLView",
      "description": "",
      "description_tooltip": null,
      "layout": "IPY_MODEL_16ceb73d94984893af2148fa4d220a2e",
      "placeholder": "​",
      "style": "IPY_MODEL_8ea7ccbd751649ba854eccfd2390fd45",
      "value": "100%"
     }
    },
    "7abb84d84ae1442aafce8c13ee783840": {
     "model_module": "@jupyter-widgets/controls",
     "model_name": "FloatProgressModel",
     "model_module_version": "1.5.0",
     "state": {
      "_dom_classes": [],
      "_model_module": "@jupyter-widgets/controls",
      "_model_module_version": "1.5.0",
      "_model_name": "FloatProgressModel",
      "_view_count": null,
      "_view_module": "@jupyter-widgets/controls",
      "_view_module_version": "1.5.0",
      "_view_name": "ProgressView",
      "bar_style": "success",
      "description": "",
      "description_tooltip": null,
      "layout": "IPY_MODEL_3455de8800ed4bfb98233143dad63e8c",
      "max": 1244990,
      "min": 0,
      "orientation": "horizontal",
      "style": "IPY_MODEL_61913655f3cf4e91b96787bded394fdf",
      "value": 1244990
     }
    },
    "1062844be6aa4288b5947b38ef99dcf7": {
     "model_module": "@jupyter-widgets/controls",
     "model_name": "HTMLModel",
     "model_module_version": "1.5.0",
     "state": {
      "_dom_classes": [],
      "_model_module": "@jupyter-widgets/controls",
      "_model_module_version": "1.5.0",
      "_model_name": "HTMLModel",
      "_view_count": null,
      "_view_module": "@jupyter-widgets/controls",
      "_view_module_version": "1.5.0",
      "_view_name": "HTMLView",
      "description": "",
      "description_tooltip": null,
      "layout": "IPY_MODEL_0e65e627887f4cac8705701f87f06986",
      "placeholder": "​",
      "style": "IPY_MODEL_b5921718362e4ad18259b14ca9420cf5",
      "value": " 1244990/1244990 [03:48&lt;00:00, 5200.44it/s]"
     }
    },
    "65594b23fab24e54bcc0cbbbc55f7338": {
     "model_module": "@jupyter-widgets/base",
     "model_name": "LayoutModel",
     "model_module_version": "1.2.0",
     "state": {
      "_model_module": "@jupyter-widgets/base",
      "_model_module_version": "1.2.0",
      "_model_name": "LayoutModel",
      "_view_count": null,
      "_view_module": "@jupyter-widgets/base",
      "_view_module_version": "1.2.0",
      "_view_name": "LayoutView",
      "align_content": null,
      "align_items": null,
      "align_self": null,
      "border": null,
      "bottom": null,
      "display": null,
      "flex": null,
      "flex_flow": null,
      "grid_area": null,
      "grid_auto_columns": null,
      "grid_auto_flow": null,
      "grid_auto_rows": null,
      "grid_column": null,
      "grid_gap": null,
      "grid_row": null,
      "grid_template_areas": null,
      "grid_template_columns": null,
      "grid_template_rows": null,
      "height": null,
      "justify_content": null,
      "justify_items": null,
      "left": null,
      "margin": null,
      "max_height": null,
      "max_width": null,
      "min_height": null,
      "min_width": null,
      "object_fit": null,
      "object_position": null,
      "order": null,
      "overflow": null,
      "overflow_x": null,
      "overflow_y": null,
      "padding": null,
      "right": null,
      "top": null,
      "visibility": null,
      "width": null
     }
    },
    "16ceb73d94984893af2148fa4d220a2e": {
     "model_module": "@jupyter-widgets/base",
     "model_name": "LayoutModel",
     "model_module_version": "1.2.0",
     "state": {
      "_model_module": "@jupyter-widgets/base",
      "_model_module_version": "1.2.0",
      "_model_name": "LayoutModel",
      "_view_count": null,
      "_view_module": "@jupyter-widgets/base",
      "_view_module_version": "1.2.0",
      "_view_name": "LayoutView",
      "align_content": null,
      "align_items": null,
      "align_self": null,
      "border": null,
      "bottom": null,
      "display": null,
      "flex": null,
      "flex_flow": null,
      "grid_area": null,
      "grid_auto_columns": null,
      "grid_auto_flow": null,
      "grid_auto_rows": null,
      "grid_column": null,
      "grid_gap": null,
      "grid_row": null,
      "grid_template_areas": null,
      "grid_template_columns": null,
      "grid_template_rows": null,
      "height": null,
      "justify_content": null,
      "justify_items": null,
      "left": null,
      "margin": null,
      "max_height": null,
      "max_width": null,
      "min_height": null,
      "min_width": null,
      "object_fit": null,
      "object_position": null,
      "order": null,
      "overflow": null,
      "overflow_x": null,
      "overflow_y": null,
      "padding": null,
      "right": null,
      "top": null,
      "visibility": null,
      "width": null
     }
    },
    "8ea7ccbd751649ba854eccfd2390fd45": {
     "model_module": "@jupyter-widgets/controls",
     "model_name": "DescriptionStyleModel",
     "model_module_version": "1.5.0",
     "state": {
      "_model_module": "@jupyter-widgets/controls",
      "_model_module_version": "1.5.0",
      "_model_name": "DescriptionStyleModel",
      "_view_count": null,
      "_view_module": "@jupyter-widgets/base",
      "_view_module_version": "1.2.0",
      "_view_name": "StyleView",
      "description_width": ""
     }
    },
    "3455de8800ed4bfb98233143dad63e8c": {
     "model_module": "@jupyter-widgets/base",
     "model_name": "LayoutModel",
     "model_module_version": "1.2.0",
     "state": {
      "_model_module": "@jupyter-widgets/base",
      "_model_module_version": "1.2.0",
      "_model_name": "LayoutModel",
      "_view_count": null,
      "_view_module": "@jupyter-widgets/base",
      "_view_module_version": "1.2.0",
      "_view_name": "LayoutView",
      "align_content": null,
      "align_items": null,
      "align_self": null,
      "border": null,
      "bottom": null,
      "display": null,
      "flex": null,
      "flex_flow": null,
      "grid_area": null,
      "grid_auto_columns": null,
      "grid_auto_flow": null,
      "grid_auto_rows": null,
      "grid_column": null,
      "grid_gap": null,
      "grid_row": null,
      "grid_template_areas": null,
      "grid_template_columns": null,
      "grid_template_rows": null,
      "height": null,
      "justify_content": null,
      "justify_items": null,
      "left": null,
      "margin": null,
      "max_height": null,
      "max_width": null,
      "min_height": null,
      "min_width": null,
      "object_fit": null,
      "object_position": null,
      "order": null,
      "overflow": null,
      "overflow_x": null,
      "overflow_y": null,
      "padding": null,
      "right": null,
      "top": null,
      "visibility": null,
      "width": null
     }
    },
    "61913655f3cf4e91b96787bded394fdf": {
     "model_module": "@jupyter-widgets/controls",
     "model_name": "ProgressStyleModel",
     "model_module_version": "1.5.0",
     "state": {
      "_model_module": "@jupyter-widgets/controls",
      "_model_module_version": "1.5.0",
      "_model_name": "ProgressStyleModel",
      "_view_count": null,
      "_view_module": "@jupyter-widgets/base",
      "_view_module_version": "1.2.0",
      "_view_name": "StyleView",
      "bar_color": null,
      "description_width": ""
     }
    },
    "0e65e627887f4cac8705701f87f06986": {
     "model_module": "@jupyter-widgets/base",
     "model_name": "LayoutModel",
     "model_module_version": "1.2.0",
     "state": {
      "_model_module": "@jupyter-widgets/base",
      "_model_module_version": "1.2.0",
      "_model_name": "LayoutModel",
      "_view_count": null,
      "_view_module": "@jupyter-widgets/base",
      "_view_module_version": "1.2.0",
      "_view_name": "LayoutView",
      "align_content": null,
      "align_items": null,
      "align_self": null,
      "border": null,
      "bottom": null,
      "display": null,
      "flex": null,
      "flex_flow": null,
      "grid_area": null,
      "grid_auto_columns": null,
      "grid_auto_flow": null,
      "grid_auto_rows": null,
      "grid_column": null,
      "grid_gap": null,
      "grid_row": null,
      "grid_template_areas": null,
      "grid_template_columns": null,
      "grid_template_rows": null,
      "height": null,
      "justify_content": null,
      "justify_items": null,
      "left": null,
      "margin": null,
      "max_height": null,
      "max_width": null,
      "min_height": null,
      "min_width": null,
      "object_fit": null,
      "object_position": null,
      "order": null,
      "overflow": null,
      "overflow_x": null,
      "overflow_y": null,
      "padding": null,
      "right": null,
      "top": null,
      "visibility": null,
      "width": null
     }
    },
    "b5921718362e4ad18259b14ca9420cf5": {
     "model_module": "@jupyter-widgets/controls",
     "model_name": "DescriptionStyleModel",
     "model_module_version": "1.5.0",
     "state": {
      "_model_module": "@jupyter-widgets/controls",
      "_model_module_version": "1.5.0",
      "_model_name": "DescriptionStyleModel",
      "_view_count": null,
      "_view_module": "@jupyter-widgets/base",
      "_view_module_version": "1.2.0",
      "_view_name": "StyleView",
      "description_width": ""
     }
    }
   }
  }
 },
 "nbformat": 4,
 "nbformat_minor": 0
}
