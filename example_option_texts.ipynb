{
 "cells": [
  {
   "cell_type": "markdown",
   "metadata": {
    "id": "41VE08_pyFuR"
   },
   "source": [
    "# **Deep Hedging**\n",
    "# Buchkov Viacheslav"
   ]
  },
  {
   "cell_type": "code",
   "metadata": {
    "id": "LKcSNj4tlRVK",
    "ExecuteTime": {
     "end_time": "2024-06-11T08:04:13.718293Z",
     "start_time": "2024-06-11T08:04:13.712776Z"
    }
   },
   "source": [
    "from pathlib import Path\n",
    "\n",
    "from deep_hedging import ExperimentConfig, EuropeanCall, seed_everything\n",
    "from deep_hedging.dl import SpotDatasetTexts, TrainerTexts, Assessor\n",
    "from deep_hedging.dl.models import LSTMHedgerTexts\n",
    "from deep_hedging.dl.baselines import BaselineEuropeanCall\n",
    "\n",
    "RANDOM_SEED = 12"
   ],
   "execution_count": 6,
   "outputs": []
  },
  {
   "metadata": {
    "ExecuteTime": {
     "end_time": "2024-06-11T08:03:35.415529Z",
     "start_time": "2024-06-11T08:03:35.410647Z"
    }
   },
   "cell_type": "code",
   "source": [
    "config = ExperimentConfig(\n",
    "    RANDOM_SEED=RANDOM_SEED,\n",
    "    DATA_ROOT=Path(\"data\"),\n",
    "    DATA_FILENAME=\"data_with_texts\",\n",
    "    OUTPUT_ROOT=Path(\".\"),\n",
    ")\n",
    "seed_everything(RANDOM_SEED)\n",
    "\n",
    "config.DEVICE"
   ],
   "execution_count": 2,
   "outputs": []
  },
  {
   "metadata": {
    "ExecuteTime": {
     "end_time": "2024-06-11T08:03:35.420523Z",
     "start_time": "2024-06-11T08:03:35.416347Z"
    }
   },
   "cell_type": "code",
   "source": "config",
   "execution_count": 3,
   "outputs": []
  },
  {
   "cell_type": "markdown",
   "metadata": {
    "id": "cty5h8mOOnas"
   },
   "source": [
    "## Dataset."
   ]
  },
  {
   "cell_type": "code",
   "metadata": {
    "id": "uARQpAIhOnat",
    "colab": {
     "base_uri": "https://localhost:8080/"
    },
    "outputId": "08101b5d-978c-4670-d1da-09d096af91b6",
    "jupyter": {
     "is_executing": true
    }
   },
   "source": [
    "spot_dataset = SpotDatasetTexts(\n",
    "    n_days=config.N_DAYS, instrument_cls=EuropeanCall, config=config\n",
    ")\n",
    "spot_dataset.df.head()"
   ],
   "execution_count": null,
   "outputs": []
  },
  {
   "metadata": {},
   "cell_type": "code",
   "source": [
    "trainer = TrainerTexts(\n",
    "    model_cls=LSTMHedgerTexts, instrument_cls=EuropeanCall, config=config\n",
    ")\n",
    "trainer.run(1)"
   ],
   "execution_count": null,
   "outputs": []
  },
  {
   "metadata": {},
   "cell_type": "code",
   "source": [
    "assessor = Assessor(\n",
    "    model=trainer.hedger,\n",
    "    baseline=BaselineEuropeanCall(dt=trainer.dt).to(config.DEVICE),\n",
    "    test_loader=trainer.test_loader,\n",
    ")\n",
    "assessor.run()"
   ],
   "execution_count": null,
   "outputs": []
  },
  {
   "metadata": {},
   "cell_type": "code",
   "source": "trainer.save(config.OUTPUT_ROOT)",
   "execution_count": null,
   "outputs": []
  }
 ],
 "metadata": {
  "accelerator": "GPU",
  "colab": {
   "gpuType": "T4",
   "machine_shape": "hm",
   "provenance": []
  },
  "kernelspec": {
   "display_name": "Python 3 (ipykernel)",
   "name": "python3",
   "language": "python"
  },
  "language_info": {
   "codemirror_mode": {
    "name": "ipython",
    "version": 3
   },
   "file_extension": ".py",
   "mimetype": "text/x-python",
   "name": "python",
   "nbconvert_exporter": "python",
   "pygments_lexer": "ipython3",
   "version": "3.8.5"
  },
  "max_cell_id": 35
 },
 "nbformat": 4,
 "nbformat_minor": 0
}
