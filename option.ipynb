{
 "cells": [
  {
   "cell_type": "markdown",
   "metadata": {
    "id": "41VE08_pyFuR"
   },
   "source": [
    "# **Deep Hedging**\n",
    "# Buchkov Viacheslav"
   ]
  },
  {
   "cell_type": "code",
   "metadata": {
    "id": "LKcSNj4tlRVK",
    "ExecuteTime": {
     "end_time": "2024-06-11T07:25:08.846621Z",
     "start_time": "2024-06-11T07:25:07.675589Z"
    }
   },
   "source": [
    "from pathlib import Path\n",
    "\n",
    "from deep_hedging import ExperimentConfig, EuropeanCall, seed_everything\n",
    "from deep_hedging.dl import SpotDataset, Trainer, Assessor\n",
    "from deep_hedging.dl.models import LSTMHedger\n",
    "from deep_hedging.dl.baselines import BaselineEuropeanCall\n",
    "\n",
    "RANDOM_SEED = 12"
   ],
   "outputs": [],
   "execution_count": 1
  },
  {
   "metadata": {
    "ExecuteTime": {
     "end_time": "2024-06-11T07:25:08.852807Z",
     "start_time": "2024-06-11T07:25:08.847527Z"
    }
   },
   "cell_type": "code",
   "source": [
    "config = ExperimentConfig(\n",
    "    RANDOM_SEED=RANDOM_SEED, DATA_ROOT=Path(\"data\"), OUTPUT_ROOT=Path(\".\")\n",
    ")\n",
    "seed_everything(RANDOM_SEED)\n",
    "\n",
    "config.DEVICE"
   ],
   "outputs": [
    {
     "data": {
      "text/plain": [
       "device(type='mps')"
      ]
     },
     "execution_count": 2,
     "metadata": {},
     "output_type": "execute_result"
    }
   ],
   "execution_count": 2
  },
  {
   "metadata": {
    "ExecuteTime": {
     "end_time": "2024-06-11T07:25:08.856855Z",
     "start_time": "2024-06-11T07:25:08.853560Z"
    }
   },
   "cell_type": "code",
   "source": "config",
   "outputs": [
    {
     "data": {
      "text/plain": [
       "ExperimentConfig(N_DAYS=5, REBAL_FREQ='30 min', VAR_QUANTILE=0.05, TEST_SIZE=0.1, RANDOM_SEED=12, DATA_ROOT=PosixPath('data'), OUTPUT_ROOT=PosixPath('.'), DATA_FILENAME='data_full', LAYER_NORM=False, USE_TIME_DIFF=True, USE_SPOT_START=True, N_EPOCHS=20, N_STEPS_RL_TRAIN=1000000, LR=0.01, BATCH_SIZE=32, NUM_LAYERS=3, HIDDEN_DIM=32, OPTIMIZER=<class 'torch.optim.adam.Adam'>, NUM_WORKERS=2)"
      ]
     },
     "execution_count": 3,
     "metadata": {},
     "output_type": "execute_result"
    }
   ],
   "execution_count": 3
  },
  {
   "cell_type": "markdown",
   "metadata": {
    "id": "cty5h8mOOnas"
   },
   "source": [
    "## Dataset."
   ]
  },
  {
   "cell_type": "code",
   "metadata": {
    "id": "uARQpAIhOnat",
    "colab": {
     "base_uri": "https://localhost:8080/"
    },
    "outputId": "08101b5d-978c-4670-d1da-09d096af91b6",
    "ExecuteTime": {
     "end_time": "2024-06-11T07:25:08.927250Z",
     "start_time": "2024-06-11T07:25:08.858548Z"
    }
   },
   "source": [
    "spot_dataset = SpotDataset(n_days=config.N_DAYS, instrument_cls=EuropeanCall)\n",
    "spot_dataset.df.head()"
   ],
   "outputs": [
    {
     "data": {
      "text/plain": [
       "                                 bid        ask  rub_rate  usd_rate  time_diff\n",
       "timestamp                                                                     \n",
       "2017-01-03 07:00:00+00:00  60.973760  61.016500  0.081265   0.00672   0.000000\n",
       "2017-01-03 07:01:00+00:00  61.010855  61.068045  0.081265   0.00672   0.000002\n",
       "2017-01-03 07:02:00+00:00  61.037220  61.069850  0.081265   0.00672   0.000004\n",
       "2017-01-03 07:03:00+00:00  61.011955  61.048690  0.081265   0.00672   0.000006\n",
       "2017-01-03 07:04:00+00:00  61.021250  61.052835  0.081265   0.00672   0.000008"
      ],
      "text/html": [
       "<div>\n",
       "<style scoped>\n",
       "    .dataframe tbody tr th:only-of-type {\n",
       "        vertical-align: middle;\n",
       "    }\n",
       "\n",
       "    .dataframe tbody tr th {\n",
       "        vertical-align: top;\n",
       "    }\n",
       "\n",
       "    .dataframe thead th {\n",
       "        text-align: right;\n",
       "    }\n",
       "</style>\n",
       "<table border=\"1\" class=\"dataframe\">\n",
       "  <thead>\n",
       "    <tr style=\"text-align: right;\">\n",
       "      <th></th>\n",
       "      <th>bid</th>\n",
       "      <th>ask</th>\n",
       "      <th>rub_rate</th>\n",
       "      <th>usd_rate</th>\n",
       "      <th>time_diff</th>\n",
       "    </tr>\n",
       "    <tr>\n",
       "      <th>timestamp</th>\n",
       "      <th></th>\n",
       "      <th></th>\n",
       "      <th></th>\n",
       "      <th></th>\n",
       "      <th></th>\n",
       "    </tr>\n",
       "  </thead>\n",
       "  <tbody>\n",
       "    <tr>\n",
       "      <th>2017-01-03 07:00:00+00:00</th>\n",
       "      <td>60.973760</td>\n",
       "      <td>61.016500</td>\n",
       "      <td>0.081265</td>\n",
       "      <td>0.00672</td>\n",
       "      <td>0.000000</td>\n",
       "    </tr>\n",
       "    <tr>\n",
       "      <th>2017-01-03 07:01:00+00:00</th>\n",
       "      <td>61.010855</td>\n",
       "      <td>61.068045</td>\n",
       "      <td>0.081265</td>\n",
       "      <td>0.00672</td>\n",
       "      <td>0.000002</td>\n",
       "    </tr>\n",
       "    <tr>\n",
       "      <th>2017-01-03 07:02:00+00:00</th>\n",
       "      <td>61.037220</td>\n",
       "      <td>61.069850</td>\n",
       "      <td>0.081265</td>\n",
       "      <td>0.00672</td>\n",
       "      <td>0.000004</td>\n",
       "    </tr>\n",
       "    <tr>\n",
       "      <th>2017-01-03 07:03:00+00:00</th>\n",
       "      <td>61.011955</td>\n",
       "      <td>61.048690</td>\n",
       "      <td>0.081265</td>\n",
       "      <td>0.00672</td>\n",
       "      <td>0.000006</td>\n",
       "    </tr>\n",
       "    <tr>\n",
       "      <th>2017-01-03 07:04:00+00:00</th>\n",
       "      <td>61.021250</td>\n",
       "      <td>61.052835</td>\n",
       "      <td>0.081265</td>\n",
       "      <td>0.00672</td>\n",
       "      <td>0.000008</td>\n",
       "    </tr>\n",
       "  </tbody>\n",
       "</table>\n",
       "</div>"
      ]
     },
     "execution_count": 4,
     "metadata": {},
     "output_type": "execute_result"
    }
   ],
   "execution_count": 4
  },
  {
   "metadata": {},
   "cell_type": "markdown",
   "source": "## Run."
  },
  {
   "metadata": {
    "ExecuteTime": {
     "end_time": "2024-06-11T07:26:12.957522Z",
     "start_time": "2024-06-11T07:25:48.090681Z"
    }
   },
   "cell_type": "code",
   "source": [
    "N_EPOCHS = 30\n",
    "config.REBAL_FREQ = \"30 min\"\n",
    "\n",
    "trainer = Trainer(model_cls=LSTMHedger, instrument_cls=EuropeanCall, config=config)\n",
    "trainer.run(N_EPOCHS)"
   ],
   "outputs": [
    {
     "name": "stderr",
     "output_type": "stream",
     "text": [
      "Training 1/30:   0%|          | 0/3603 [00:24<?, ?it/s]\n"
     ]
    },
    {
     "ename": "KeyboardInterrupt",
     "evalue": "",
     "output_type": "error",
     "traceback": [
      "\u001B[0;31m---------------------------------------------------------------------------\u001B[0m",
      "\u001B[0;31mKeyboardInterrupt\u001B[0m                         Traceback (most recent call last)",
      "Cell \u001B[0;32mIn[6], line 5\u001B[0m\n\u001B[1;32m      2\u001B[0m config\u001B[38;5;241m.\u001B[39mREBAL_FREQ \u001B[38;5;241m=\u001B[39m \u001B[38;5;124m\"\u001B[39m\u001B[38;5;124m30 min\u001B[39m\u001B[38;5;124m\"\u001B[39m\n\u001B[1;32m      4\u001B[0m trainer \u001B[38;5;241m=\u001B[39m Trainer(model_cls\u001B[38;5;241m=\u001B[39mLSTMHedger, instrument_cls\u001B[38;5;241m=\u001B[39mEuropeanCall, config\u001B[38;5;241m=\u001B[39mconfig)\n\u001B[0;32m----> 5\u001B[0m \u001B[43mtrainer\u001B[49m\u001B[38;5;241;43m.\u001B[39;49m\u001B[43mrun\u001B[49m\u001B[43m(\u001B[49m\u001B[43mN_EPOCHS\u001B[49m\u001B[43m)\u001B[49m\n",
      "File \u001B[0;32m~/deep-hedging/deep_hedging/dl/trainer.py:138\u001B[0m, in \u001B[0;36mTrainer.run\u001B[0;34m(self, n_epochs)\u001B[0m\n\u001B[1;32m    132\u001B[0m     n_epochs \u001B[38;5;241m=\u001B[39m \u001B[38;5;28mself\u001B[39m\u001B[38;5;241m.\u001B[39mconfig\u001B[38;5;241m.\u001B[39mN_EPOCHS\n\u001B[1;32m    134\u001B[0m scheduler \u001B[38;5;241m=\u001B[39m torch\u001B[38;5;241m.\u001B[39moptim\u001B[38;5;241m.\u001B[39mlr_scheduler\u001B[38;5;241m.\u001B[39mCosineAnnealingLR(\n\u001B[1;32m    135\u001B[0m     optimizer, T_max\u001B[38;5;241m=\u001B[39mn_epochs\n\u001B[1;32m    136\u001B[0m )\n\u001B[0;32m--> 138\u001B[0m _, _, \u001B[38;5;28mself\u001B[39m\u001B[38;5;241m.\u001B[39mweights, \u001B[38;5;28mself\u001B[39m\u001B[38;5;241m.\u001B[39mtrain_diffs, \u001B[38;5;28mself\u001B[39m\u001B[38;5;241m.\u001B[39mval_diffs \u001B[38;5;241m=\u001B[39m \u001B[38;5;28;43mself\u001B[39;49m\u001B[38;5;241;43m.\u001B[39;49m\u001B[43m_train\u001B[49m\u001B[43m(\u001B[49m\n\u001B[1;32m    139\u001B[0m \u001B[43m    \u001B[49m\u001B[43mmodel\u001B[49m\u001B[38;5;241;43m=\u001B[39;49m\u001B[38;5;28;43mself\u001B[39;49m\u001B[38;5;241;43m.\u001B[39;49m\u001B[43mhedger\u001B[49m\u001B[43m,\u001B[49m\n\u001B[1;32m    140\u001B[0m \u001B[43m    \u001B[49m\u001B[43moptimizer\u001B[49m\u001B[38;5;241;43m=\u001B[39;49m\u001B[43moptimizer\u001B[49m\u001B[43m,\u001B[49m\n\u001B[1;32m    141\u001B[0m \u001B[43m    \u001B[49m\u001B[43mscheduler\u001B[49m\u001B[38;5;241;43m=\u001B[39;49m\u001B[43mscheduler\u001B[49m\u001B[43m,\u001B[49m\n\u001B[1;32m    142\u001B[0m \u001B[43m    \u001B[49m\u001B[43mtrain_loader\u001B[49m\u001B[38;5;241;43m=\u001B[39;49m\u001B[38;5;28;43mself\u001B[39;49m\u001B[38;5;241;43m.\u001B[39;49m\u001B[43mtrain_loader\u001B[49m\u001B[43m,\u001B[49m\n\u001B[1;32m    143\u001B[0m \u001B[43m    \u001B[49m\u001B[43mval_loader\u001B[49m\u001B[38;5;241;43m=\u001B[39;49m\u001B[38;5;28;43mself\u001B[39;49m\u001B[38;5;241;43m.\u001B[39;49m\u001B[43mtest_loader\u001B[49m\u001B[43m,\u001B[49m\n\u001B[1;32m    144\u001B[0m \u001B[43m    \u001B[49m\u001B[43mnum_epochs\u001B[49m\u001B[38;5;241;43m=\u001B[39;49m\u001B[43mn_epochs\u001B[49m\u001B[43m,\u001B[49m\n\u001B[1;32m    145\u001B[0m \u001B[43m    \u001B[49m\u001B[43mprint_logs\u001B[49m\u001B[38;5;241;43m=\u001B[39;49m\u001B[38;5;28;43;01mTrue\u001B[39;49;00m\u001B[43m,\u001B[49m\n\u001B[1;32m    146\u001B[0m \u001B[43m\u001B[49m\u001B[43m)\u001B[49m\n",
      "File \u001B[0;32m~/deep-hedging/deep_hedging/dl/trainer.py:108\u001B[0m, in \u001B[0;36mTrainer._train\u001B[0;34m(self, model, optimizer, scheduler, train_loader, val_loader, num_epochs, print_logs)\u001B[0m\n\u001B[1;32m    105\u001B[0m \u001B[38;5;28;01melse\u001B[39;00m:\n\u001B[1;32m    106\u001B[0m     desc_train, desc_val \u001B[38;5;241m=\u001B[39m \u001B[38;5;28;01mNone\u001B[39;00m, \u001B[38;5;28;01mNone\u001B[39;00m\n\u001B[0;32m--> 108\u001B[0m train_loss, weights, train_diff, train_path \u001B[38;5;241m=\u001B[39m \u001B[43mtrain_epoch\u001B[49m\u001B[43m(\u001B[49m\n\u001B[1;32m    109\u001B[0m \u001B[43m    \u001B[49m\u001B[43mmodel\u001B[49m\u001B[43m,\u001B[49m\u001B[43m \u001B[49m\u001B[43moptimizer\u001B[49m\u001B[43m,\u001B[49m\u001B[43m \u001B[49m\u001B[43mcriterion\u001B[49m\u001B[43m,\u001B[49m\u001B[43m \u001B[49m\u001B[43mtrain_loader\u001B[49m\u001B[43m,\u001B[49m\u001B[43m \u001B[49m\u001B[43mtqdm_desc\u001B[49m\u001B[38;5;241;43m=\u001B[39;49m\u001B[43mdesc_train\u001B[49m\n\u001B[1;32m    110\u001B[0m \u001B[43m\u001B[49m\u001B[43m)\u001B[49m\n\u001B[1;32m    111\u001B[0m val_loss, weights, val_diff, val_path \u001B[38;5;241m=\u001B[39m validation_epoch(\n\u001B[1;32m    112\u001B[0m     model, criterion, val_loader, tqdm_desc\u001B[38;5;241m=\u001B[39mdesc_val\n\u001B[1;32m    113\u001B[0m )\n\u001B[1;32m    115\u001B[0m \u001B[38;5;28;01mif\u001B[39;00m scheduler \u001B[38;5;129;01mis\u001B[39;00m \u001B[38;5;129;01mnot\u001B[39;00m \u001B[38;5;28;01mNone\u001B[39;00m:\n",
      "File \u001B[0;32m~/deep-hedging/deep_hedging/dl/train.py:78\u001B[0m, in \u001B[0;36mtrain_epoch\u001B[0;34m(model, optimizer, criterion, loader, tqdm_desc)\u001B[0m\n\u001B[1;32m     76\u001B[0m     scaler\u001B[38;5;241m.\u001B[39mupdate()\n\u001B[1;32m     77\u001B[0m \u001B[38;5;28;01melse\u001B[39;00m:\n\u001B[0;32m---> 78\u001B[0m     weights, model_pnl \u001B[38;5;241m=\u001B[39m \u001B[43mmodel\u001B[49m\u001B[38;5;241;43m.\u001B[39;49m\u001B[43mget_pnl\u001B[49m\u001B[43m(\u001B[49m\u001B[43mfeatures\u001B[49m\u001B[43m)\u001B[49m\n\u001B[1;32m     79\u001B[0m     loss \u001B[38;5;241m=\u001B[39m criterion(target_pnl, model_pnl)\n\u001B[1;32m     81\u001B[0m     loss\u001B[38;5;241m.\u001B[39mbackward()\n",
      "File \u001B[0;32m~/deep-hedging/deep_hedging/dl/models/abstract_hedger.py:48\u001B[0m, in \u001B[0;36mAbstractHedger.get_pnl\u001B[0;34m(self, spot)\u001B[0m\n\u001B[1;32m     46\u001B[0m \u001B[38;5;28;01mdef\u001B[39;00m \u001B[38;5;21mget_pnl\u001B[39m(\u001B[38;5;28mself\u001B[39m, spot: torch\u001B[38;5;241m.\u001B[39mTensor) \u001B[38;5;241m-\u001B[39m\u001B[38;5;241m>\u001B[39m [torch\u001B[38;5;241m.\u001B[39mTensor, torch\u001B[38;5;241m.\u001B[39mfloat32]:\n\u001B[1;32m     47\u001B[0m     \u001B[38;5;66;03m# hedging_weights = nn.Softmax()(self.linear(spot, return_hidden=False), dim=XXX)\u001B[39;00m\n\u001B[0;32m---> 48\u001B[0m     hedging_weights \u001B[38;5;241m=\u001B[39m \u001B[38;5;28;43mself\u001B[39;49m\u001B[38;5;241;43m.\u001B[39;49m\u001B[43mforward\u001B[49m\u001B[43m(\u001B[49m\u001B[43mspot\u001B[49m\u001B[43m,\u001B[49m\u001B[43m \u001B[49m\u001B[43mreturn_hidden\u001B[49m\u001B[38;5;241;43m=\u001B[39;49m\u001B[38;5;28;43;01mFalse\u001B[39;49;00m\u001B[43m)\u001B[49m\n\u001B[1;32m     49\u001B[0m     \u001B[38;5;28;01mreturn\u001B[39;00m hedging_weights, get_pnl(spot\u001B[38;5;241m=\u001B[39mspot, weights\u001B[38;5;241m=\u001B[39mhedging_weights, dt\u001B[38;5;241m=\u001B[39m\u001B[38;5;28mself\u001B[39m\u001B[38;5;241m.\u001B[39mdt)\n",
      "File \u001B[0;32m~/deep-hedging/deep_hedging/dl/models/lstm_hedger.py:60\u001B[0m, in \u001B[0;36mLSTMHedger.forward\u001B[0;34m(self, spot, text, hidden, return_hidden)\u001B[0m\n\u001B[1;32m     57\u001B[0m bid_ask_spread \u001B[38;5;241m=\u001B[39m (bid_ask_spread[:, :] \u001B[38;5;241m-\u001B[39m bid_ask_spread[:, \u001B[38;5;241m0\u001B[39m]\u001B[38;5;241m.\u001B[39munsqueeze(\u001B[38;5;241m1\u001B[39m))\u001B[38;5;241m.\u001B[39munsqueeze(\u001B[38;5;241m2\u001B[39m)\n\u001B[1;32m     59\u001B[0m rates \u001B[38;5;241m=\u001B[39m spot[:, :, \u001B[38;5;241m2\u001B[39m:\u001B[38;5;241m4\u001B[39m] \u001B[38;5;241m-\u001B[39m spot[:, \u001B[38;5;241m0\u001B[39m, \u001B[38;5;241m2\u001B[39m:\u001B[38;5;241m4\u001B[39m]\u001B[38;5;241m.\u001B[39munsqueeze(\u001B[38;5;241m1\u001B[39m)\n\u001B[0;32m---> 60\u001B[0m spot \u001B[38;5;241m=\u001B[39m \u001B[43mtorch\u001B[49m\u001B[38;5;241m.\u001B[39mcat([mid, bid_ask_spread, rates, spot[:, :, \u001B[38;5;241m4\u001B[39m:]], dim\u001B[38;5;241m=\u001B[39m\u001B[38;5;241m2\u001B[39m)\n\u001B[1;32m     62\u001B[0m h_t, c_t \u001B[38;5;241m=\u001B[39m \u001B[38;5;28mself\u001B[39m\u001B[38;5;241m.\u001B[39mlstm(spot, (h_t, c_t))\n\u001B[1;32m     63\u001B[0m outputs \u001B[38;5;241m=\u001B[39m \u001B[38;5;28mself\u001B[39m\u001B[38;5;241m.\u001B[39mhedging_weights(h_t)[:, :\u001B[38;5;241m-\u001B[39m\u001B[38;5;241m2\u001B[39m, :]\u001B[38;5;241m.\u001B[39msqueeze(\u001B[38;5;241m2\u001B[39m)\n",
      "File \u001B[0;32m~/deep-hedging/deep_hedging/dl/models/lstm_hedger.py:60\u001B[0m, in \u001B[0;36mLSTMHedger.forward\u001B[0;34m(self, spot, text, hidden, return_hidden)\u001B[0m\n\u001B[1;32m     57\u001B[0m bid_ask_spread \u001B[38;5;241m=\u001B[39m (bid_ask_spread[:, :] \u001B[38;5;241m-\u001B[39m bid_ask_spread[:, \u001B[38;5;241m0\u001B[39m]\u001B[38;5;241m.\u001B[39munsqueeze(\u001B[38;5;241m1\u001B[39m))\u001B[38;5;241m.\u001B[39munsqueeze(\u001B[38;5;241m2\u001B[39m)\n\u001B[1;32m     59\u001B[0m rates \u001B[38;5;241m=\u001B[39m spot[:, :, \u001B[38;5;241m2\u001B[39m:\u001B[38;5;241m4\u001B[39m] \u001B[38;5;241m-\u001B[39m spot[:, \u001B[38;5;241m0\u001B[39m, \u001B[38;5;241m2\u001B[39m:\u001B[38;5;241m4\u001B[39m]\u001B[38;5;241m.\u001B[39munsqueeze(\u001B[38;5;241m1\u001B[39m)\n\u001B[0;32m---> 60\u001B[0m spot \u001B[38;5;241m=\u001B[39m \u001B[43mtorch\u001B[49m\u001B[38;5;241m.\u001B[39mcat([mid, bid_ask_spread, rates, spot[:, :, \u001B[38;5;241m4\u001B[39m:]], dim\u001B[38;5;241m=\u001B[39m\u001B[38;5;241m2\u001B[39m)\n\u001B[1;32m     62\u001B[0m h_t, c_t \u001B[38;5;241m=\u001B[39m \u001B[38;5;28mself\u001B[39m\u001B[38;5;241m.\u001B[39mlstm(spot, (h_t, c_t))\n\u001B[1;32m     63\u001B[0m outputs \u001B[38;5;241m=\u001B[39m \u001B[38;5;28mself\u001B[39m\u001B[38;5;241m.\u001B[39mhedging_weights(h_t)[:, :\u001B[38;5;241m-\u001B[39m\u001B[38;5;241m2\u001B[39m, :]\u001B[38;5;241m.\u001B[39msqueeze(\u001B[38;5;241m2\u001B[39m)\n",
      "File \u001B[0;32m_pydevd_bundle/pydevd_cython_darwin_310_64.pyx:1187\u001B[0m, in \u001B[0;36m_pydevd_bundle.pydevd_cython_darwin_310_64.SafeCallWrapper.__call__\u001B[0;34m()\u001B[0m\n",
      "File \u001B[0;32m_pydevd_bundle/pydevd_cython_darwin_310_64.pyx:627\u001B[0m, in \u001B[0;36m_pydevd_bundle.pydevd_cython_darwin_310_64.PyDBFrame.trace_dispatch\u001B[0;34m()\u001B[0m\n",
      "File \u001B[0;32m_pydevd_bundle/pydevd_cython_darwin_310_64.pyx:937\u001B[0m, in \u001B[0;36m_pydevd_bundle.pydevd_cython_darwin_310_64.PyDBFrame.trace_dispatch\u001B[0;34m()\u001B[0m\n",
      "File \u001B[0;32m_pydevd_bundle/pydevd_cython_darwin_310_64.pyx:928\u001B[0m, in \u001B[0;36m_pydevd_bundle.pydevd_cython_darwin_310_64.PyDBFrame.trace_dispatch\u001B[0;34m()\u001B[0m\n",
      "File \u001B[0;32m_pydevd_bundle/pydevd_cython_darwin_310_64.pyx:585\u001B[0m, in \u001B[0;36m_pydevd_bundle.pydevd_cython_darwin_310_64.PyDBFrame.do_wait_suspend\u001B[0;34m()\u001B[0m\n",
      "File \u001B[0;32m~/Applications/DataSpell.app/Contents/plugins/python-ce/helpers/pydev/pydevd.py:1185\u001B[0m, in \u001B[0;36mPyDB.do_wait_suspend\u001B[0;34m(self, thread, frame, event, arg, send_suspend_message, is_unhandled_exception)\u001B[0m\n\u001B[1;32m   1182\u001B[0m         from_this_thread\u001B[38;5;241m.\u001B[39mappend(frame_id)\n\u001B[1;32m   1184\u001B[0m \u001B[38;5;28;01mwith\u001B[39;00m \u001B[38;5;28mself\u001B[39m\u001B[38;5;241m.\u001B[39m_threads_suspended_single_notification\u001B[38;5;241m.\u001B[39mnotify_thread_suspended(thread_id, stop_reason):\n\u001B[0;32m-> 1185\u001B[0m     \u001B[38;5;28;43mself\u001B[39;49m\u001B[38;5;241;43m.\u001B[39;49m\u001B[43m_do_wait_suspend\u001B[49m\u001B[43m(\u001B[49m\u001B[43mthread\u001B[49m\u001B[43m,\u001B[49m\u001B[43m \u001B[49m\u001B[43mframe\u001B[49m\u001B[43m,\u001B[49m\u001B[43m \u001B[49m\u001B[43mevent\u001B[49m\u001B[43m,\u001B[49m\u001B[43m \u001B[49m\u001B[43marg\u001B[49m\u001B[43m,\u001B[49m\u001B[43m \u001B[49m\u001B[43msuspend_type\u001B[49m\u001B[43m,\u001B[49m\u001B[43m \u001B[49m\u001B[43mfrom_this_thread\u001B[49m\u001B[43m)\u001B[49m\n",
      "File \u001B[0;32m~/Applications/DataSpell.app/Contents/plugins/python-ce/helpers/pydev/pydevd.py:1200\u001B[0m, in \u001B[0;36mPyDB._do_wait_suspend\u001B[0;34m(self, thread, frame, event, arg, suspend_type, from_this_thread)\u001B[0m\n\u001B[1;32m   1197\u001B[0m             \u001B[38;5;28mself\u001B[39m\u001B[38;5;241m.\u001B[39m_call_mpl_hook()\n\u001B[1;32m   1199\u001B[0m         \u001B[38;5;28mself\u001B[39m\u001B[38;5;241m.\u001B[39mprocess_internal_commands()\n\u001B[0;32m-> 1200\u001B[0m         \u001B[43mtime\u001B[49m\u001B[38;5;241;43m.\u001B[39;49m\u001B[43msleep\u001B[49m\u001B[43m(\u001B[49m\u001B[38;5;241;43m0.01\u001B[39;49m\u001B[43m)\u001B[49m\n\u001B[1;32m   1202\u001B[0m \u001B[38;5;28mself\u001B[39m\u001B[38;5;241m.\u001B[39mcancel_async_evaluation(get_current_thread_id(thread), \u001B[38;5;28mstr\u001B[39m(\u001B[38;5;28mid\u001B[39m(frame)))\n\u001B[1;32m   1204\u001B[0m \u001B[38;5;66;03m# process any stepping instructions\u001B[39;00m\n",
      "\u001B[0;31mKeyboardInterrupt\u001B[0m: "
     ]
    }
   ],
   "execution_count": 6
  },
  {
   "metadata": {},
   "cell_type": "markdown",
   "source": "## Baseline check."
  },
  {
   "metadata": {
    "ExecuteTime": {
     "end_time": "2024-06-11T07:25:10.650044Z",
     "start_time": "2024-06-11T07:25:10.649978Z"
    }
   },
   "cell_type": "code",
   "source": [
    "assessor = Assessor(\n",
    "    model=trainer.hedger,\n",
    "    baseline=BaselineEuropeanCall(dt=trainer.dt).to(config.DEVICE),\n",
    "    test_loader=trainer.test_loader,\n",
    ")\n",
    "assessor.run()"
   ],
   "outputs": [],
   "execution_count": null
  },
  {
   "metadata": {},
   "cell_type": "code",
   "source": "trainer.save(config.OUTPUT_ROOT)",
   "outputs": [],
   "execution_count": null
  }
 ],
 "metadata": {
  "accelerator": "GPU",
  "colab": {
   "gpuType": "T4",
   "machine_shape": "hm",
   "provenance": []
  },
  "kernelspec": {
   "display_name": "Python 3 (ipykernel)",
   "name": "python3",
   "language": "python"
  },
  "language_info": {
   "codemirror_mode": {
    "name": "ipython",
    "version": 3
   },
   "file_extension": ".py",
   "mimetype": "text/x-python",
   "name": "python",
   "nbconvert_exporter": "python",
   "pygments_lexer": "ipython3",
   "version": "3.8.5"
  },
  "max_cell_id": 35
 },
 "nbformat": 4,
 "nbformat_minor": 0
}
