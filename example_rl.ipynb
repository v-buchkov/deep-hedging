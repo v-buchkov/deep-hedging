{
 "cells": [
  {
   "cell_type": "markdown",
   "metadata": {
    "id": "41VE08_pyFuR"
   },
   "source": [
    "# **Deep Hedging**\n",
    "# Buchkov Viacheslav"
   ]
  },
  {
   "metadata": {
    "ExecuteTime": {
     "end_time": "2024-06-04T21:18:24.022865Z",
     "start_time": "2024-06-04T21:18:21.899963Z"
    }
   },
   "cell_type": "code",
   "source": [
    "!pip install stable_baselines3\n",
    "!pip install sb3-contrib"
   ],
   "execution_count": 1,
   "outputs": []
  },
  {
   "cell_type": "code",
   "metadata": {
    "id": "LKcSNj4tlRVK",
    "ExecuteTime": {
     "end_time": "2024-06-04T21:18:25.210666Z",
     "start_time": "2024-06-04T21:18:24.024952Z"
    }
   },
   "source": [
    "import warnings\n",
    "from pathlib import Path\n",
    "\n",
    "from deep_hedging import ExperimentConfig, EuropeanCall, seed_everything\n",
    "from deep_hedging.rl import DerivativeEnvStep, RLTrainer\n",
    "\n",
    "from sb3_contrib import RecurrentPPO\n",
    "from stable_baselines3 import SAC, PPO\n",
    "\n",
    "RANDOM_SEED = 12"
   ],
   "execution_count": 2,
   "outputs": []
  },
  {
   "metadata": {
    "ExecuteTime": {
     "end_time": "2024-06-04T21:18:25.216994Z",
     "start_time": "2024-06-04T21:18:25.211316Z"
    }
   },
   "cell_type": "code",
   "source": [
    "config = ExperimentConfig(\n",
    "    RANDOM_SEED=RANDOM_SEED, DATA_ROOT=Path(\"data\"), OUTPUT_ROOT=Path(\".\")\n",
    ")\n",
    "seed_everything(RANDOM_SEED)\n",
    "\n",
    "config.DEVICE"
   ],
   "execution_count": 3,
   "outputs": []
  },
  {
   "metadata": {
    "ExecuteTime": {
     "end_time": "2024-06-04T21:18:25.220048Z",
     "start_time": "2024-06-04T21:18:25.217717Z"
    }
   },
   "cell_type": "code",
   "source": "config",
   "execution_count": 4,
   "outputs": []
  },
  {
   "cell_type": "markdown",
   "metadata": {
    "id": "cty5h8mOOnas"
   },
   "source": "## Environment."
  },
  {
   "cell_type": "code",
   "metadata": {
    "id": "uARQpAIhOnat",
    "colab": {
     "base_uri": "https://localhost:8080/"
    },
    "outputId": "08101b5d-978c-4670-d1da-09d096af91b6",
    "ExecuteTime": {
     "end_time": "2024-06-04T21:18:25.312528Z",
     "start_time": "2024-06-04T21:18:25.221443Z"
    }
   },
   "source": [
    "env = DerivativeEnvStep(n_days=config.N_DAYS, instrument_cls=EuropeanCall)\n",
    "env.reset()"
   ],
   "execution_count": 5,
   "outputs": []
  },
  {
   "metadata": {},
   "cell_type": "markdown",
   "source": "## Training."
  },
  {
   "metadata": {
    "ExecuteTime": {
     "end_time": "2024-06-04T21:19:00.112363Z",
     "start_time": "2024-06-04T21:18:25.313496Z"
    }
   },
   "cell_type": "code",
   "source": [
    "warnings.filterwarnings(\"ignore\", category=UserWarning)\n",
    "\n",
    "trainer = RLTrainer(\n",
    "    model=RecurrentPPO(\"MlpLstmPolicy\", env, verbose=1),\n",
    "    instrument_cls=EuropeanCall,\n",
    "    environment_cls=DerivativeEnvStep,\n",
    "    config=config,\n",
    ")\n",
    "trainer.learn(10_000)"
   ],
   "execution_count": 6,
   "outputs": []
  },
  {
   "metadata": {
    "ExecuteTime": {
     "end_time": "2024-06-04T21:19:00.659648Z",
     "start_time": "2024-06-04T21:19:00.113545Z"
    }
   },
   "cell_type": "code",
   "source": "trainer.assess(3_000)",
   "execution_count": 7,
   "outputs": []
  }
 ],
 "metadata": {
  "accelerator": "GPU",
  "colab": {
   "gpuType": "T4",
   "machine_shape": "hm",
   "provenance": []
  },
  "kernelspec": {
   "display_name": "Python 3 (ipykernel)",
   "name": "python3",
   "language": "python"
  },
  "language_info": {
   "codemirror_mode": {
    "name": "ipython",
    "version": 3
   },
   "file_extension": ".py",
   "mimetype": "text/x-python",
   "name": "python",
   "nbconvert_exporter": "python",
   "pygments_lexer": "ipython3",
   "version": "3.8.5"
  },
  "max_cell_id": 35
 },
 "nbformat": 4,
 "nbformat_minor": 0
}
