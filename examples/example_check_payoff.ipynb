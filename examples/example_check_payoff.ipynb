{
 "cells": [
  {
   "cell_type": "code",
   "id": "initial_id",
   "metadata": {
    "collapsed": true,
    "ExecuteTime": {
     "end_time": "2024-07-24T19:05:41.591150Z",
     "start_time": "2024-07-24T19:05:41.459487Z"
    }
   },
   "source": "#!pip install deep-hedging",
   "outputs": [],
   "execution_count": 10
  },
  {
   "metadata": {
    "ExecuteTime": {
     "end_time": "2024-07-24T19:05:41.647918Z",
     "start_time": "2024-07-24T19:05:41.610993Z"
    }
   },
   "cell_type": "code",
   "source": [
    "import datetime as dt\n",
    "\n",
    "import numpy as np\n",
    "\n",
    "from deep_hedging import (\n",
    "    Underlyings,\n",
    "    Ticker,\n",
    "    ConstantRateCurve,\n",
    "    EuropeanCall,\n",
    ")\n",
    "from deep_hedging.monte_carlo import GBMPricer\n",
    "\n",
    "RANDOM_SEED = 12"
   ],
   "id": "a276af4c9c5b5e23",
   "outputs": [],
   "execution_count": 11
  },
  {
   "metadata": {
    "ExecuteTime": {
     "end_time": "2024-07-24T19:05:41.657356Z",
     "start_time": "2024-07-24T19:05:41.650425Z"
    }
   },
   "cell_type": "code",
   "source": [
    "TILL_MATURITY = 3.0\n",
    "N_DAYS = 252 * TILL_MATURITY\n",
    "\n",
    "LOWER_STRIKE = 100 / 100\n",
    "UPPER_STRIKE = 112 / 100\n",
    "PARTICIPATION = 2\n",
    "\n",
    "RF_RATE = 0.03\n",
    "VOL = 0.2"
   ],
   "id": "e0db375929d35dac",
   "outputs": [],
   "execution_count": 12
  },
  {
   "metadata": {
    "ExecuteTime": {
     "end_time": "2024-07-24T19:05:41.671189Z",
     "start_time": "2024-07-24T19:05:41.659214Z"
    }
   },
   "cell_type": "code",
   "source": [
    "DESIRED_PAYOFF = lambda spot: PARTICIPATION * np.maximum(\n",
    "    0, np.minimum(spot[:, -1] - 1, UPPER_STRIKE - LOWER_STRIKE)\n",
    ")"
   ],
   "id": "c38cfc517138617d",
   "outputs": [],
   "execution_count": 13
  },
  {
   "metadata": {
    "ExecuteTime": {
     "end_time": "2024-07-24T19:05:41.684636Z",
     "start_time": "2024-07-24T19:05:41.675928Z"
    }
   },
   "cell_type": "code",
   "source": [
    "start = dt.datetime(2019, 1, 1)\n",
    "end = start + dt.timedelta(days=N_DAYS)\n",
    "\n",
    "underlyings = Underlyings(\n",
    "    tickers=[Ticker(f\"Some Stock\", f\"STNK\")],\n",
    "    start=start,\n",
    "    end=end,\n",
    "    dividends=np.array([0.0]),\n",
    "    means=np.array([RF_RATE]),\n",
    "    var_covar=np.array([VOL**2]),\n",
    ")\n",
    "underlyings.data"
   ],
   "id": "b5bcdd6ac0d8a39d",
   "outputs": [],
   "execution_count": 14
  },
  {
   "metadata": {
    "ExecuteTime": {
     "end_time": "2024-07-24T19:05:41.746282Z",
     "start_time": "2024-07-24T19:05:41.685772Z"
    }
   },
   "cell_type": "code",
   "source": "curve = ConstantRateCurve(constant_rate=RF_RATE)",
   "id": "44077907cd7f2289",
   "outputs": [],
   "execution_count": 15
  },
  {
   "metadata": {
    "ExecuteTime": {
     "end_time": "2024-07-24T19:05:41.787351Z",
     "start_time": "2024-07-24T19:05:41.747367Z"
    }
   },
   "cell_type": "code",
   "source": [
    "call_lower = EuropeanCall(\n",
    "    underlyings=underlyings,\n",
    "    yield_curve=curve,\n",
    "    strike_level=LOWER_STRIKE,\n",
    "    start_date=start,\n",
    "    end_date=end,\n",
    ")\n",
    "call_upper = EuropeanCall(\n",
    "    underlyings=underlyings,\n",
    "    yield_curve=curve,\n",
    "    strike_level=UPPER_STRIKE,\n",
    "    start_date=start,\n",
    "    end_date=end,\n",
    ")\n",
    "\n",
    "call_spread = (call_lower - call_upper) * PARTICIPATION\n",
    "call_spread"
   ],
   "id": "2c37d846a9cebf83",
   "outputs": [
    {
     "data": {
      "text/plain": [
       "StructuredNote of:\n",
       "1. LONG 2.0 units of EuropeanCall:\n",
       "* Underlyings:\n",
       "-> Ticker(name='Some Stock', code='STNK', currency=None)\n",
       "* Strike = 100.0\n",
       "* Start Date = 2019-01-01 00:00:00\n",
       "* End Date = 2021-01-26 00:00:00\n",
       ".\n",
       "\n",
       "2. SHORT 2.0 units of EuropeanCall:\n",
       "* Underlyings:\n",
       "-> Ticker(name='Some Stock', code='STNK', currency=None)\n",
       "* Strike = 112.00000000000001\n",
       "* Start Date = 2019-01-01 00:00:00\n",
       "* End Date = 2021-01-26 00:00:00\n",
       ".\n"
      ]
     },
     "execution_count": 16,
     "metadata": {},
     "output_type": "execute_result"
    }
   ],
   "execution_count": 16
  },
  {
   "metadata": {
    "ExecuteTime": {
     "end_time": "2024-07-24T19:05:45.836288Z",
     "start_time": "2024-07-24T19:05:41.788607Z"
    }
   },
   "cell_type": "code",
   "source": [
    "pricer = GBMPricer(payoff_function=call_spread.payoff, random_seed=RANDOM_SEED)\n",
    "paths = pricer.get_paths(\n",
    "    spot=[1.0],\n",
    "    time_till_maturity=TILL_MATURITY,\n",
    "    risk_free_rate_fn=curve.get_instant_fwd_rate,\n",
    "    dividends_fn=lambda t: 0.0,\n",
    "    var_covar_fn=lambda t: np.array([VOL**2] * len(t)),\n",
    ").squeeze(2)\n",
    "paths.shape"
   ],
   "id": "b73be4da44495c1d",
   "outputs": [
    {
     "data": {
      "text/plain": [
       "(100000, 757)"
      ]
     },
     "execution_count": 17,
     "metadata": {},
     "output_type": "execute_result"
    }
   ],
   "execution_count": 17
  },
  {
   "metadata": {
    "ExecuteTime": {
     "end_time": "2024-07-24T19:05:45.985551Z",
     "start_time": "2024-07-24T19:05:45.837444Z"
    }
   },
   "cell_type": "code",
   "source": "assert np.allclose(call_spread.payoff(paths)[:, -1], DESIRED_PAYOFF(paths), atol=1e-6)",
   "id": "6dfc3c9ce209b798",
   "outputs": [],
   "execution_count": 18
  }
 ],
 "metadata": {
  "kernelspec": {
   "display_name": "Python 3",
   "language": "python",
   "name": "python3"
  },
  "language_info": {
   "codemirror_mode": {
    "name": "ipython",
    "version": 2
   },
   "file_extension": ".py",
   "mimetype": "text/x-python",
   "name": "python",
   "nbconvert_exporter": "python",
   "pygments_lexer": "ipython2",
   "version": "2.7.6"
  }
 },
 "nbformat": 4,
 "nbformat_minor": 5
}
