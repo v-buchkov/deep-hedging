{
 "cells": [
  {
   "cell_type": "code",
   "id": "initial_id",
   "metadata": {
    "collapsed": true,
    "ExecuteTime": {
     "end_time": "2024-07-24T13:27:37.351960Z",
     "start_time": "2024-07-24T13:27:37.347766Z"
    },
    "colab": {
     "base_uri": "https://localhost:8080/"
    },
    "id": "initial_id",
    "outputId": "45d3e514-6d20-428f-9090-cf9e40e49502"
   },
   "source": [
    "!pip install deep-hedging"
   ],
   "outputs": [
    {
     "output_type": "stream",
     "name": "stdout",
     "text": [
      "Collecting deep-hedging\n",
      "  Downloading deep_hedging-1.6.tar.gz (33 kB)\n",
      "  Preparing metadata (setup.py) ... \u001B[?25l\u001B[?25hdone\n",
      "Requirement already satisfied: numpy in /usr/local/lib/python3.10/dist-packages (from deep-hedging) (1.25.2)\n",
      "Collecting numpy-financial (from deep-hedging)\n",
      "  Downloading numpy_financial-1.0.0-py3-none-any.whl.metadata (2.2 kB)\n",
      "Requirement already satisfied: pandas in /usr/local/lib/python3.10/dist-packages (from deep-hedging) (2.0.3)\n",
      "Requirement already satisfied: torch in /usr/local/lib/python3.10/dist-packages (from deep-hedging) (2.3.1+cu121)\n",
      "Requirement already satisfied: matplotlib in /usr/local/lib/python3.10/dist-packages (from deep-hedging) (3.7.1)\n",
      "Requirement already satisfied: tqdm in /usr/local/lib/python3.10/dist-packages (from deep-hedging) (4.66.4)\n",
      "Requirement already satisfied: IPython in /usr/local/lib/python3.10/dist-packages (from deep-hedging) (7.34.0)\n",
      "Requirement already satisfied: yfinance in /usr/local/lib/python3.10/dist-packages (from deep-hedging) (0.2.41)\n",
      "Requirement already satisfied: gym in /usr/local/lib/python3.10/dist-packages (from deep-hedging) (0.25.2)\n",
      "Requirement already satisfied: scipy in /usr/local/lib/python3.10/dist-packages (from deep-hedging) (1.11.4)\n",
      "Requirement already satisfied: cloudpickle>=1.2.0 in /usr/local/lib/python3.10/dist-packages (from gym->deep-hedging) (2.2.1)\n",
      "Requirement already satisfied: gym-notices>=0.0.4 in /usr/local/lib/python3.10/dist-packages (from gym->deep-hedging) (0.0.8)\n",
      "Requirement already satisfied: setuptools>=18.5 in /usr/local/lib/python3.10/dist-packages (from IPython->deep-hedging) (71.0.4)\n",
      "Collecting jedi>=0.16 (from IPython->deep-hedging)\n",
      "  Downloading jedi-0.19.1-py2.py3-none-any.whl.metadata (22 kB)\n",
      "Requirement already satisfied: decorator in /usr/local/lib/python3.10/dist-packages (from IPython->deep-hedging) (4.4.2)\n",
      "Requirement already satisfied: pickleshare in /usr/local/lib/python3.10/dist-packages (from IPython->deep-hedging) (0.7.5)\n",
      "Requirement already satisfied: traitlets>=4.2 in /usr/local/lib/python3.10/dist-packages (from IPython->deep-hedging) (5.7.1)\n",
      "Requirement already satisfied: prompt-toolkit!=3.0.0,!=3.0.1,<3.1.0,>=2.0.0 in /usr/local/lib/python3.10/dist-packages (from IPython->deep-hedging) (3.0.47)\n",
      "Requirement already satisfied: pygments in /usr/local/lib/python3.10/dist-packages (from IPython->deep-hedging) (2.16.1)\n",
      "Requirement already satisfied: backcall in /usr/local/lib/python3.10/dist-packages (from IPython->deep-hedging) (0.2.0)\n",
      "Requirement already satisfied: matplotlib-inline in /usr/local/lib/python3.10/dist-packages (from IPython->deep-hedging) (0.1.7)\n",
      "Requirement already satisfied: pexpect>4.3 in /usr/local/lib/python3.10/dist-packages (from IPython->deep-hedging) (4.9.0)\n",
      "Requirement already satisfied: contourpy>=1.0.1 in /usr/local/lib/python3.10/dist-packages (from matplotlib->deep-hedging) (1.2.1)\n",
      "Requirement already satisfied: cycler>=0.10 in /usr/local/lib/python3.10/dist-packages (from matplotlib->deep-hedging) (0.12.1)\n",
      "Requirement already satisfied: fonttools>=4.22.0 in /usr/local/lib/python3.10/dist-packages (from matplotlib->deep-hedging) (4.53.1)\n",
      "Requirement already satisfied: kiwisolver>=1.0.1 in /usr/local/lib/python3.10/dist-packages (from matplotlib->deep-hedging) (1.4.5)\n",
      "Requirement already satisfied: packaging>=20.0 in /usr/local/lib/python3.10/dist-packages (from matplotlib->deep-hedging) (24.1)\n",
      "Requirement already satisfied: pillow>=6.2.0 in /usr/local/lib/python3.10/dist-packages (from matplotlib->deep-hedging) (9.4.0)\n",
      "Requirement already satisfied: pyparsing>=2.3.1 in /usr/local/lib/python3.10/dist-packages (from matplotlib->deep-hedging) (3.1.2)\n",
      "Requirement already satisfied: python-dateutil>=2.7 in /usr/local/lib/python3.10/dist-packages (from matplotlib->deep-hedging) (2.8.2)\n",
      "Requirement already satisfied: pytz>=2020.1 in /usr/local/lib/python3.10/dist-packages (from pandas->deep-hedging) (2023.4)\n",
      "Requirement already satisfied: tzdata>=2022.1 in /usr/local/lib/python3.10/dist-packages (from pandas->deep-hedging) (2024.1)\n",
      "Requirement already satisfied: filelock in /usr/local/lib/python3.10/dist-packages (from torch->deep-hedging) (3.15.4)\n",
      "Requirement already satisfied: typing-extensions>=4.8.0 in /usr/local/lib/python3.10/dist-packages (from torch->deep-hedging) (4.12.2)\n",
      "Requirement already satisfied: sympy in /usr/local/lib/python3.10/dist-packages (from torch->deep-hedging) (1.13.1)\n",
      "Requirement already satisfied: networkx in /usr/local/lib/python3.10/dist-packages (from torch->deep-hedging) (3.3)\n",
      "Requirement already satisfied: jinja2 in /usr/local/lib/python3.10/dist-packages (from torch->deep-hedging) (3.1.4)\n",
      "Requirement already satisfied: fsspec in /usr/local/lib/python3.10/dist-packages (from torch->deep-hedging) (2023.6.0)\n",
      "Collecting nvidia-cuda-nvrtc-cu12==12.1.105 (from torch->deep-hedging)\n",
      "  Using cached nvidia_cuda_nvrtc_cu12-12.1.105-py3-none-manylinux1_x86_64.whl.metadata (1.5 kB)\n",
      "Collecting nvidia-cuda-runtime-cu12==12.1.105 (from torch->deep-hedging)\n",
      "  Using cached nvidia_cuda_runtime_cu12-12.1.105-py3-none-manylinux1_x86_64.whl.metadata (1.5 kB)\n",
      "Collecting nvidia-cuda-cupti-cu12==12.1.105 (from torch->deep-hedging)\n",
      "  Using cached nvidia_cuda_cupti_cu12-12.1.105-py3-none-manylinux1_x86_64.whl.metadata (1.6 kB)\n",
      "Collecting nvidia-cudnn-cu12==8.9.2.26 (from torch->deep-hedging)\n",
      "  Using cached nvidia_cudnn_cu12-8.9.2.26-py3-none-manylinux1_x86_64.whl.metadata (1.6 kB)\n",
      "Collecting nvidia-cublas-cu12==12.1.3.1 (from torch->deep-hedging)\n",
      "  Using cached nvidia_cublas_cu12-12.1.3.1-py3-none-manylinux1_x86_64.whl.metadata (1.5 kB)\n",
      "Collecting nvidia-cufft-cu12==11.0.2.54 (from torch->deep-hedging)\n",
      "  Using cached nvidia_cufft_cu12-11.0.2.54-py3-none-manylinux1_x86_64.whl.metadata (1.5 kB)\n",
      "Collecting nvidia-curand-cu12==10.3.2.106 (from torch->deep-hedging)\n",
      "  Using cached nvidia_curand_cu12-10.3.2.106-py3-none-manylinux1_x86_64.whl.metadata (1.5 kB)\n",
      "Collecting nvidia-cusolver-cu12==11.4.5.107 (from torch->deep-hedging)\n",
      "  Using cached nvidia_cusolver_cu12-11.4.5.107-py3-none-manylinux1_x86_64.whl.metadata (1.6 kB)\n",
      "Collecting nvidia-cusparse-cu12==12.1.0.106 (from torch->deep-hedging)\n",
      "  Using cached nvidia_cusparse_cu12-12.1.0.106-py3-none-manylinux1_x86_64.whl.metadata (1.6 kB)\n",
      "Collecting nvidia-nccl-cu12==2.20.5 (from torch->deep-hedging)\n",
      "  Using cached nvidia_nccl_cu12-2.20.5-py3-none-manylinux2014_x86_64.whl.metadata (1.8 kB)\n",
      "Collecting nvidia-nvtx-cu12==12.1.105 (from torch->deep-hedging)\n",
      "  Using cached nvidia_nvtx_cu12-12.1.105-py3-none-manylinux1_x86_64.whl.metadata (1.7 kB)\n",
      "Requirement already satisfied: triton==2.3.1 in /usr/local/lib/python3.10/dist-packages (from torch->deep-hedging) (2.3.1)\n",
      "Collecting nvidia-nvjitlink-cu12 (from nvidia-cusolver-cu12==11.4.5.107->torch->deep-hedging)\n",
      "  Downloading nvidia_nvjitlink_cu12-12.5.82-py3-none-manylinux2014_x86_64.whl.metadata (1.5 kB)\n",
      "Requirement already satisfied: requests>=2.31 in /usr/local/lib/python3.10/dist-packages (from yfinance->deep-hedging) (2.31.0)\n",
      "Requirement already satisfied: multitasking>=0.0.7 in /usr/local/lib/python3.10/dist-packages (from yfinance->deep-hedging) (0.0.11)\n",
      "Requirement already satisfied: lxml>=4.9.1 in /usr/local/lib/python3.10/dist-packages (from yfinance->deep-hedging) (4.9.4)\n",
      "Requirement already satisfied: platformdirs>=2.0.0 in /usr/local/lib/python3.10/dist-packages (from yfinance->deep-hedging) (4.2.2)\n",
      "Requirement already satisfied: frozendict>=2.3.4 in /usr/local/lib/python3.10/dist-packages (from yfinance->deep-hedging) (2.4.4)\n",
      "Requirement already satisfied: peewee>=3.16.2 in /usr/local/lib/python3.10/dist-packages (from yfinance->deep-hedging) (3.17.6)\n",
      "Requirement already satisfied: beautifulsoup4>=4.11.1 in /usr/local/lib/python3.10/dist-packages (from yfinance->deep-hedging) (4.12.3)\n",
      "Requirement already satisfied: html5lib>=1.1 in /usr/local/lib/python3.10/dist-packages (from yfinance->deep-hedging) (1.1)\n",
      "Requirement already satisfied: soupsieve>1.2 in /usr/local/lib/python3.10/dist-packages (from beautifulsoup4>=4.11.1->yfinance->deep-hedging) (2.5)\n",
      "Requirement already satisfied: six>=1.9 in /usr/local/lib/python3.10/dist-packages (from html5lib>=1.1->yfinance->deep-hedging) (1.16.0)\n",
      "Requirement already satisfied: webencodings in /usr/local/lib/python3.10/dist-packages (from html5lib>=1.1->yfinance->deep-hedging) (0.5.1)\n",
      "Requirement already satisfied: parso<0.9.0,>=0.8.3 in /usr/local/lib/python3.10/dist-packages (from jedi>=0.16->IPython->deep-hedging) (0.8.4)\n",
      "Requirement already satisfied: ptyprocess>=0.5 in /usr/local/lib/python3.10/dist-packages (from pexpect>4.3->IPython->deep-hedging) (0.7.0)\n",
      "Requirement already satisfied: wcwidth in /usr/local/lib/python3.10/dist-packages (from prompt-toolkit!=3.0.0,!=3.0.1,<3.1.0,>=2.0.0->IPython->deep-hedging) (0.2.13)\n",
      "Requirement already satisfied: charset-normalizer<4,>=2 in /usr/local/lib/python3.10/dist-packages (from requests>=2.31->yfinance->deep-hedging) (3.3.2)\n",
      "Requirement already satisfied: idna<4,>=2.5 in /usr/local/lib/python3.10/dist-packages (from requests>=2.31->yfinance->deep-hedging) (3.7)\n",
      "Requirement already satisfied: urllib3<3,>=1.21.1 in /usr/local/lib/python3.10/dist-packages (from requests>=2.31->yfinance->deep-hedging) (2.0.7)\n",
      "Requirement already satisfied: certifi>=2017.4.17 in /usr/local/lib/python3.10/dist-packages (from requests>=2.31->yfinance->deep-hedging) (2024.7.4)\n",
      "Requirement already satisfied: MarkupSafe>=2.0 in /usr/local/lib/python3.10/dist-packages (from jinja2->torch->deep-hedging) (2.1.5)\n",
      "Requirement already satisfied: mpmath<1.4,>=1.1.0 in /usr/local/lib/python3.10/dist-packages (from sympy->torch->deep-hedging) (1.3.0)\n",
      "Downloading numpy_financial-1.0.0-py3-none-any.whl (14 kB)\n",
      "Using cached nvidia_cublas_cu12-12.1.3.1-py3-none-manylinux1_x86_64.whl (410.6 MB)\n",
      "Using cached nvidia_cuda_cupti_cu12-12.1.105-py3-none-manylinux1_x86_64.whl (14.1 MB)\n",
      "Using cached nvidia_cuda_nvrtc_cu12-12.1.105-py3-none-manylinux1_x86_64.whl (23.7 MB)\n",
      "Using cached nvidia_cuda_runtime_cu12-12.1.105-py3-none-manylinux1_x86_64.whl (823 kB)\n",
      "Using cached nvidia_cudnn_cu12-8.9.2.26-py3-none-manylinux1_x86_64.whl (731.7 MB)\n",
      "Using cached nvidia_cufft_cu12-11.0.2.54-py3-none-manylinux1_x86_64.whl (121.6 MB)\n",
      "Using cached nvidia_curand_cu12-10.3.2.106-py3-none-manylinux1_x86_64.whl (56.5 MB)\n",
      "Using cached nvidia_cusolver_cu12-11.4.5.107-py3-none-manylinux1_x86_64.whl (124.2 MB)\n",
      "Using cached nvidia_cusparse_cu12-12.1.0.106-py3-none-manylinux1_x86_64.whl (196.0 MB)\n",
      "Using cached nvidia_nccl_cu12-2.20.5-py3-none-manylinux2014_x86_64.whl (176.2 MB)\n",
      "Using cached nvidia_nvtx_cu12-12.1.105-py3-none-manylinux1_x86_64.whl (99 kB)\n",
      "Downloading jedi-0.19.1-py2.py3-none-any.whl (1.6 MB)\n",
      "\u001B[2K   \u001B[90m━━━━━━━━━━━━━━━━━━━━━━━━━━━━━━━━━━━━━━━━\u001B[0m \u001B[32m1.6/1.6 MB\u001B[0m \u001B[31m2.6 MB/s\u001B[0m eta \u001B[36m0:00:00\u001B[0m\n",
      "\u001B[?25hDownloading nvidia_nvjitlink_cu12-12.5.82-py3-none-manylinux2014_x86_64.whl (21.3 MB)\n",
      "\u001B[2K   \u001B[90m━━━━━━━━━━━━━━━━━━━━━━━━━━━━━━━━━━━━━━━━\u001B[0m \u001B[32m21.3/21.3 MB\u001B[0m \u001B[31m47.9 MB/s\u001B[0m eta \u001B[36m0:00:00\u001B[0m\n",
      "\u001B[?25hBuilding wheels for collected packages: deep-hedging\n",
      "  Building wheel for deep-hedging (setup.py) ... \u001B[?25l\u001B[?25hdone\n",
      "  Created wheel for deep-hedging: filename=deep_hedging-1.6-py3-none-any.whl size=59965 sha256=ba418213b5bf491705a351eef0342063736f9641d04109a125c5fa474db8c248\n",
      "  Stored in directory: /root/.cache/pip/wheels/b7/ee/ef/416ae37cb98727bbe62f00d118e814e684d44c568de7fc63de\n",
      "Successfully built deep-hedging\n",
      "Installing collected packages: nvidia-nvtx-cu12, nvidia-nvjitlink-cu12, nvidia-nccl-cu12, nvidia-curand-cu12, nvidia-cufft-cu12, nvidia-cuda-runtime-cu12, nvidia-cuda-nvrtc-cu12, nvidia-cuda-cupti-cu12, nvidia-cublas-cu12, numpy-financial, jedi, nvidia-cusparse-cu12, nvidia-cudnn-cu12, nvidia-cusolver-cu12, deep-hedging\n",
      "Successfully installed deep-hedging-1.6 jedi-0.19.1 numpy-financial-1.0.0 nvidia-cublas-cu12-12.1.3.1 nvidia-cuda-cupti-cu12-12.1.105 nvidia-cuda-nvrtc-cu12-12.1.105 nvidia-cuda-runtime-cu12-12.1.105 nvidia-cudnn-cu12-8.9.2.26 nvidia-cufft-cu12-11.0.2.54 nvidia-curand-cu12-10.3.2.106 nvidia-cusolver-cu12-11.4.5.107 nvidia-cusparse-cu12-12.1.0.106 nvidia-nccl-cu12-2.20.5 nvidia-nvjitlink-cu12-12.5.82 nvidia-nvtx-cu12-12.1.105\n"
     ]
    }
   ],
   "execution_count": 1
  },
  {
   "metadata": {
    "ExecuteTime": {
     "end_time": "2024-07-24T13:27:38.993745Z",
     "start_time": "2024-07-24T13:27:37.354351Z"
    },
    "id": "a276af4c9c5b5e23"
   },
   "cell_type": "code",
   "source": [
    "import datetime as dt\n",
    "\n",
    "import numpy as np\n",
    "\n",
    "from deep_hedging import (\n",
    "    Underlyings,\n",
    "    Ticker,\n",
    "    ConstantRateCurve,\n",
    "    EuropeanCall,\n",
    ")\n",
    "from deep_hedging.monte_carlo import GBMPricer\n",
    "\n",
    "RANDOM_SEED = 12"
   ],
   "id": "a276af4c9c5b5e23",
   "outputs": [],
   "execution_count": 2
  },
  {
   "metadata": {
    "ExecuteTime": {
     "end_time": "2024-07-24T13:27:38.996308Z",
     "start_time": "2024-07-24T13:27:38.994451Z"
    },
    "id": "e0db375929d35dac"
   },
   "cell_type": "code",
   "source": [
    "TILL_MATURITY = 3.0\n",
    "N_DAYS = 252 * TILL_MATURITY\n",
    "\n",
    "LOWER_STRIKE = 100 / 100\n",
    "UPPER_STRIKE = 112 / 100\n",
    "PARTICIPATION = 2\n",
    "\n",
    "RF_RATE = 0.03\n",
    "VOL = 0.2"
   ],
   "id": "e0db375929d35dac",
   "outputs": [],
   "execution_count": 3
  },
  {
   "metadata": {
    "ExecuteTime": {
     "end_time": "2024-07-24T13:27:38.998970Z",
     "start_time": "2024-07-24T13:27:38.997166Z"
    },
    "id": "c38cfc517138617d"
   },
   "cell_type": "code",
   "source": [
    "DESIRED_PAYOFF = lambda spot: PARTICIPATION * np.maximum(\n",
    "    0, np.minimum(spot[:, -1] - 1, UPPER_STRIKE - LOWER_STRIKE)\n",
    ")"
   ],
   "id": "c38cfc517138617d",
   "outputs": [],
   "execution_count": 4
  },
  {
   "metadata": {
    "ExecuteTime": {
     "end_time": "2024-07-24T13:27:39.003842Z",
     "start_time": "2024-07-24T13:27:39.000581Z"
    },
    "id": "b5bcdd6ac0d8a39d"
   },
   "cell_type": "code",
   "source": [
    "start = dt.datetime(2019, 1, 1)\n",
    "end = start + dt.timedelta(days=N_DAYS)\n",
    "\n",
    "underlyings = Underlyings(\n",
    "    tickers=[Ticker(f\"Some Stock\", f\"STNK\")],\n",
    "    start=start,\n",
    "    end=end,\n",
    "    dividends=np.array([0.0]),\n",
    "    means=np.array([RF_RATE]),\n",
    "    var_covar=np.array([VOL**2]),\n",
    ")\n",
    "underlyings.data"
   ],
   "id": "b5bcdd6ac0d8a39d",
   "outputs": [],
   "execution_count": 5
  },
  {
   "metadata": {
    "ExecuteTime": {
     "end_time": "2024-07-24T13:27:39.008176Z",
     "start_time": "2024-07-24T13:27:39.004626Z"
    },
    "id": "44077907cd7f2289"
   },
   "cell_type": "code",
   "source": [
    "curve = ConstantRateCurve(constant_rate=RF_RATE)"
   ],
   "id": "44077907cd7f2289",
   "outputs": [],
   "execution_count": 6
  },
  {
   "metadata": {
    "ExecuteTime": {
     "end_time": "2024-07-24T13:27:39.013006Z",
     "start_time": "2024-07-24T13:27:39.009034Z"
    },
    "colab": {
     "base_uri": "https://localhost:8080/"
    },
    "id": "2c37d846a9cebf83",
    "outputId": "979a4207-ea54-4500-f00a-84a5229355fc"
   },
   "cell_type": "code",
   "source": [
    "call_lower = EuropeanCall(\n",
    "    underlyings=underlyings,\n",
    "    yield_curve=curve,\n",
    "    strike_level=LOWER_STRIKE,\n",
    "    start_date=start,\n",
    "    end_date=end,\n",
    ")\n",
    "call_upper = EuropeanCall(\n",
    "    underlyings=underlyings,\n",
    "    yield_curve=curve,\n",
    "    strike_level=UPPER_STRIKE,\n",
    "    start_date=start,\n",
    "    end_date=end,\n",
    ")\n",
    "\n",
    "call_spread = (call_lower - call_upper) * PARTICIPATION\n",
    "call_spread"
   ],
   "id": "2c37d846a9cebf83",
   "outputs": [
    {
     "output_type": "execute_result",
     "data": {
      "text/plain": [
       "StructuredNote of:\n",
       "1. LONG 2.0 units of EuropeanCall:\n",
       "* Underlyings:\n",
       "-> Ticker(name='Some Stock', code='STNK', currency=None)\n",
       "* Strike = 100.0\n",
       "* Start Date = 2019-01-01 00:00:00\n",
       "* End Date = 2021-01-26 00:00:00\n",
       ".\n",
       "\n",
       "2. SHORT 2.0 units of EuropeanCall:\n",
       "* Underlyings:\n",
       "-> Ticker(name='Some Stock', code='STNK', currency=None)\n",
       "* Strike = 112.00000000000001\n",
       "* Start Date = 2019-01-01 00:00:00\n",
       "* End Date = 2021-01-26 00:00:00\n",
       ".\n"
      ]
     },
     "metadata": {},
     "execution_count": 7
    }
   ],
   "execution_count": 7
  },
  {
   "metadata": {
    "ExecuteTime": {
     "end_time": "2024-07-24T13:27:42.310259Z",
     "start_time": "2024-07-24T13:27:39.013779Z"
    },
    "colab": {
     "base_uri": "https://localhost:8080/"
    },
    "id": "b73be4da44495c1d",
    "outputId": "5e4b5667-aa9d-4778-f14f-15776450c15a"
   },
   "cell_type": "code",
   "source": [
    "pricer = GBMPricer(payoff_function=call_spread.payoff, random_seed=RANDOM_SEED)\n",
    "paths = pricer.get_paths(\n",
    "    spot=[1.0],\n",
    "    time_till_maturity=TILL_MATURITY,\n",
    "    risk_free_rate_fn=curve.get_instant_fwd_rate,\n",
    "    dividends_fn=lambda t: 0.0,\n",
    "    var_covar_fn=lambda t: np.array([VOL**2] * len(t)),\n",
    ").squeeze(2)\n",
    "paths.shape"
   ],
   "id": "b73be4da44495c1d",
   "outputs": [
    {
     "output_type": "execute_result",
     "data": {
      "text/plain": [
       "(100000, 757)"
      ]
     },
     "metadata": {},
     "execution_count": 8
    }
   ],
   "execution_count": 8
  },
  {
   "metadata": {
    "ExecuteTime": {
     "end_time": "2024-07-24T13:27:42.389869Z",
     "start_time": "2024-07-24T13:27:42.311828Z"
    },
    "id": "6dfc3c9ce209b798"
   },
   "cell_type": "code",
   "source": [
    "assert np.allclose(call_spread.payoff(paths)[:, -1], DESIRED_PAYOFF(paths), atol=1e-6)"
   ],
   "id": "6dfc3c9ce209b798",
   "outputs": [],
   "execution_count": 9
  }
 ],
 "metadata": {
  "kernelspec": {
   "display_name": "Python 3",
   "language": "python",
   "name": "python3"
  },
  "language_info": {
   "codemirror_mode": {
    "name": "ipython",
    "version": 2
   },
   "file_extension": ".py",
   "mimetype": "text/x-python",
   "name": "python",
   "nbconvert_exporter": "python",
   "pygments_lexer": "ipython2",
   "version": "2.7.6"
  },
  "colab": {
   "provenance": []
  }
 },
 "nbformat": 4,
 "nbformat_minor": 5
}
