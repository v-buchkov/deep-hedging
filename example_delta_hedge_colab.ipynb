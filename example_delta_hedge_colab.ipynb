{
  "cells": [
    {
      "cell_type": "markdown",
      "source": [
        "# **Hedger Simulation and Pricing Example**\n",
        "\n",
        "*Driven by* `deep-hedging` *library*."
      ],
      "metadata": {
        "id": "uPS7VL1QHBKQ"
      },
      "id": "uPS7VL1QHBKQ"
    },
    {
      "metadata": {
        "ExecuteTime": {
          "end_time": "2024-10-13T19:15:36.477175Z",
          "start_time": "2024-10-13T19:15:26.129724Z"
        },
        "colab": {
          "base_uri": "https://localhost:8080/"
        },
        "id": "e546b46bae2170df",
        "outputId": "8557d65c-bb94-41e1-a62b-fe58a38cd6d3"
      },
      "cell_type": "code",
      "source": [
        "!pip install deep_hedging"
      ],
      "id": "e546b46bae2170df",
      "outputs": [
        {
          "output_type": "stream",
          "name": "stdout",
          "text": [
            "Collecting deep_hedging\n",
            "  Downloading deep_hedging-2.0.tar.gz (44 kB)\n",
            "\u001b[?25l     \u001b[90m━━━━━━━━━━━━━━━━━━━━━━━━━━━━━━━━━━━━━━━━\u001b[0m \u001b[32m0.0/44.6 kB\u001b[0m \u001b[31m?\u001b[0m eta \u001b[36m-:--:--\u001b[0m\r\u001b[2K     \u001b[90m━━━━━━━━━━━━━━━━━━━━━━━━━━━━━━━━━━━━━━━━\u001b[0m \u001b[32m44.6/44.6 kB\u001b[0m \u001b[31m2.7 MB/s\u001b[0m eta \u001b[36m0:00:00\u001b[0m\n",
            "\u001b[?25h  Preparing metadata (setup.py) ... \u001b[?25l\u001b[?25hdone\n",
            "Requirement already satisfied: numpy in /usr/local/lib/python3.10/dist-packages (from deep_hedging) (1.26.4)\n",
            "Collecting numpy-financial (from deep_hedging)\n",
            "  Downloading numpy_financial-1.0.0-py3-none-any.whl.metadata (2.2 kB)\n",
            "Requirement already satisfied: pandas in /usr/local/lib/python3.10/dist-packages (from deep_hedging) (2.2.2)\n",
            "Requirement already satisfied: scikit-learn in /usr/local/lib/python3.10/dist-packages (from deep_hedging) (1.5.2)\n",
            "Requirement already satisfied: torch in /usr/local/lib/python3.10/dist-packages (from deep_hedging) (2.4.1+cu121)\n",
            "Requirement already satisfied: matplotlib in /usr/local/lib/python3.10/dist-packages (from deep_hedging) (3.7.1)\n",
            "Requirement already satisfied: tqdm in /usr/local/lib/python3.10/dist-packages (from deep_hedging) (4.66.5)\n",
            "Requirement already satisfied: IPython in /usr/local/lib/python3.10/dist-packages (from deep_hedging) (7.34.0)\n",
            "Requirement already satisfied: yfinance in /usr/local/lib/python3.10/dist-packages (from deep_hedging) (0.2.44)\n",
            "Requirement already satisfied: gym in /usr/local/lib/python3.10/dist-packages (from deep_hedging) (0.25.2)\n",
            "Requirement already satisfied: scipy in /usr/local/lib/python3.10/dist-packages (from deep_hedging) (1.13.1)\n",
            "Requirement already satisfied: cloudpickle>=1.2.0 in /usr/local/lib/python3.10/dist-packages (from gym->deep_hedging) (2.2.1)\n",
            "Requirement already satisfied: gym-notices>=0.0.4 in /usr/local/lib/python3.10/dist-packages (from gym->deep_hedging) (0.0.8)\n",
            "Requirement already satisfied: setuptools>=18.5 in /usr/local/lib/python3.10/dist-packages (from IPython->deep_hedging) (71.0.4)\n",
            "Collecting jedi>=0.16 (from IPython->deep_hedging)\n",
            "  Downloading jedi-0.19.1-py2.py3-none-any.whl.metadata (22 kB)\n",
            "Requirement already satisfied: decorator in /usr/local/lib/python3.10/dist-packages (from IPython->deep_hedging) (4.4.2)\n",
            "Requirement already satisfied: pickleshare in /usr/local/lib/python3.10/dist-packages (from IPython->deep_hedging) (0.7.5)\n",
            "Requirement already satisfied: traitlets>=4.2 in /usr/local/lib/python3.10/dist-packages (from IPython->deep_hedging) (5.7.1)\n",
            "Requirement already satisfied: prompt-toolkit!=3.0.0,!=3.0.1,<3.1.0,>=2.0.0 in /usr/local/lib/python3.10/dist-packages (from IPython->deep_hedging) (3.0.48)\n",
            "Requirement already satisfied: pygments in /usr/local/lib/python3.10/dist-packages (from IPython->deep_hedging) (2.18.0)\n",
            "Requirement already satisfied: backcall in /usr/local/lib/python3.10/dist-packages (from IPython->deep_hedging) (0.2.0)\n",
            "Requirement already satisfied: matplotlib-inline in /usr/local/lib/python3.10/dist-packages (from IPython->deep_hedging) (0.1.7)\n",
            "Requirement already satisfied: pexpect>4.3 in /usr/local/lib/python3.10/dist-packages (from IPython->deep_hedging) (4.9.0)\n",
            "Requirement already satisfied: contourpy>=1.0.1 in /usr/local/lib/python3.10/dist-packages (from matplotlib->deep_hedging) (1.3.0)\n",
            "Requirement already satisfied: cycler>=0.10 in /usr/local/lib/python3.10/dist-packages (from matplotlib->deep_hedging) (0.12.1)\n",
            "Requirement already satisfied: fonttools>=4.22.0 in /usr/local/lib/python3.10/dist-packages (from matplotlib->deep_hedging) (4.54.1)\n",
            "Requirement already satisfied: kiwisolver>=1.0.1 in /usr/local/lib/python3.10/dist-packages (from matplotlib->deep_hedging) (1.4.7)\n",
            "Requirement already satisfied: packaging>=20.0 in /usr/local/lib/python3.10/dist-packages (from matplotlib->deep_hedging) (24.1)\n",
            "Requirement already satisfied: pillow>=6.2.0 in /usr/local/lib/python3.10/dist-packages (from matplotlib->deep_hedging) (10.4.0)\n",
            "Requirement already satisfied: pyparsing>=2.3.1 in /usr/local/lib/python3.10/dist-packages (from matplotlib->deep_hedging) (3.1.4)\n",
            "Requirement already satisfied: python-dateutil>=2.7 in /usr/local/lib/python3.10/dist-packages (from matplotlib->deep_hedging) (2.8.2)\n",
            "Requirement already satisfied: pytz>=2020.1 in /usr/local/lib/python3.10/dist-packages (from pandas->deep_hedging) (2024.2)\n",
            "Requirement already satisfied: tzdata>=2022.7 in /usr/local/lib/python3.10/dist-packages (from pandas->deep_hedging) (2024.2)\n",
            "Requirement already satisfied: joblib>=1.2.0 in /usr/local/lib/python3.10/dist-packages (from scikit-learn->deep_hedging) (1.4.2)\n",
            "Requirement already satisfied: threadpoolctl>=3.1.0 in /usr/local/lib/python3.10/dist-packages (from scikit-learn->deep_hedging) (3.5.0)\n",
            "Requirement already satisfied: filelock in /usr/local/lib/python3.10/dist-packages (from torch->deep_hedging) (3.16.1)\n",
            "Requirement already satisfied: typing-extensions>=4.8.0 in /usr/local/lib/python3.10/dist-packages (from torch->deep_hedging) (4.12.2)\n",
            "Requirement already satisfied: sympy in /usr/local/lib/python3.10/dist-packages (from torch->deep_hedging) (1.13.3)\n",
            "Requirement already satisfied: networkx in /usr/local/lib/python3.10/dist-packages (from torch->deep_hedging) (3.4)\n",
            "Requirement already satisfied: jinja2 in /usr/local/lib/python3.10/dist-packages (from torch->deep_hedging) (3.1.4)\n",
            "Requirement already satisfied: fsspec in /usr/local/lib/python3.10/dist-packages (from torch->deep_hedging) (2024.6.1)\n",
            "Requirement already satisfied: requests>=2.31 in /usr/local/lib/python3.10/dist-packages (from yfinance->deep_hedging) (2.32.3)\n",
            "Requirement already satisfied: multitasking>=0.0.7 in /usr/local/lib/python3.10/dist-packages (from yfinance->deep_hedging) (0.0.11)\n",
            "Requirement already satisfied: lxml>=4.9.1 in /usr/local/lib/python3.10/dist-packages (from yfinance->deep_hedging) (4.9.4)\n",
            "Requirement already satisfied: platformdirs>=2.0.0 in /usr/local/lib/python3.10/dist-packages (from yfinance->deep_hedging) (4.3.6)\n",
            "Requirement already satisfied: frozendict>=2.3.4 in /usr/local/lib/python3.10/dist-packages (from yfinance->deep_hedging) (2.4.5)\n",
            "Requirement already satisfied: peewee>=3.16.2 in /usr/local/lib/python3.10/dist-packages (from yfinance->deep_hedging) (3.17.6)\n",
            "Requirement already satisfied: beautifulsoup4>=4.11.1 in /usr/local/lib/python3.10/dist-packages (from yfinance->deep_hedging) (4.12.3)\n",
            "Requirement already satisfied: html5lib>=1.1 in /usr/local/lib/python3.10/dist-packages (from yfinance->deep_hedging) (1.1)\n",
            "Requirement already satisfied: soupsieve>1.2 in /usr/local/lib/python3.10/dist-packages (from beautifulsoup4>=4.11.1->yfinance->deep_hedging) (2.6)\n",
            "Requirement already satisfied: six>=1.9 in /usr/local/lib/python3.10/dist-packages (from html5lib>=1.1->yfinance->deep_hedging) (1.16.0)\n",
            "Requirement already satisfied: webencodings in /usr/local/lib/python3.10/dist-packages (from html5lib>=1.1->yfinance->deep_hedging) (0.5.1)\n",
            "Requirement already satisfied: parso<0.9.0,>=0.8.3 in /usr/local/lib/python3.10/dist-packages (from jedi>=0.16->IPython->deep_hedging) (0.8.4)\n",
            "Requirement already satisfied: ptyprocess>=0.5 in /usr/local/lib/python3.10/dist-packages (from pexpect>4.3->IPython->deep_hedging) (0.7.0)\n",
            "Requirement already satisfied: wcwidth in /usr/local/lib/python3.10/dist-packages (from prompt-toolkit!=3.0.0,!=3.0.1,<3.1.0,>=2.0.0->IPython->deep_hedging) (0.2.13)\n",
            "Requirement already satisfied: charset-normalizer<4,>=2 in /usr/local/lib/python3.10/dist-packages (from requests>=2.31->yfinance->deep_hedging) (3.4.0)\n",
            "Requirement already satisfied: idna<4,>=2.5 in /usr/local/lib/python3.10/dist-packages (from requests>=2.31->yfinance->deep_hedging) (3.10)\n",
            "Requirement already satisfied: urllib3<3,>=1.21.1 in /usr/local/lib/python3.10/dist-packages (from requests>=2.31->yfinance->deep_hedging) (2.2.3)\n",
            "Requirement already satisfied: certifi>=2017.4.17 in /usr/local/lib/python3.10/dist-packages (from requests>=2.31->yfinance->deep_hedging) (2024.8.30)\n",
            "Requirement already satisfied: MarkupSafe>=2.0 in /usr/local/lib/python3.10/dist-packages (from jinja2->torch->deep_hedging) (3.0.1)\n",
            "Requirement already satisfied: mpmath<1.4,>=1.1.0 in /usr/local/lib/python3.10/dist-packages (from sympy->torch->deep_hedging) (1.3.0)\n",
            "Downloading numpy_financial-1.0.0-py3-none-any.whl (14 kB)\n",
            "Downloading jedi-0.19.1-py2.py3-none-any.whl (1.6 MB)\n",
            "\u001b[2K   \u001b[90m━━━━━━━━━━━━━━━━━━━━━━━━━━━━━━━━━━━━━━━━\u001b[0m \u001b[32m1.6/1.6 MB\u001b[0m \u001b[31m41.3 MB/s\u001b[0m eta \u001b[36m0:00:00\u001b[0m\n",
            "\u001b[?25hBuilding wheels for collected packages: deep_hedging\n",
            "  Building wheel for deep_hedging (setup.py) ... \u001b[?25l\u001b[?25hdone\n",
            "  Created wheel for deep_hedging: filename=deep_hedging-2.0-py3-none-any.whl size=77036 sha256=00c4e893549e5dad0ece876cb2e3bfe586108f5a18a564aa9eeaf751471e415b\n",
            "  Stored in directory: /root/.cache/pip/wheels/d9/c2/a5/e4cc04aa133886b79d5e58b2ba1e147addc8940d31e932b5a0\n",
            "Successfully built deep_hedging\n",
            "Installing collected packages: numpy-financial, jedi, deep_hedging\n",
            "Successfully installed deep_hedging-2.0 jedi-0.19.1 numpy-financial-1.0.0\n"
          ]
        }
      ],
      "execution_count": 1
    },
    {
      "cell_type": "markdown",
      "source": [
        "Import useful tools."
      ],
      "metadata": {
        "id": "CpTEZR5gHVTi"
      },
      "id": "CpTEZR5gHVTi"
    },
    {
      "cell_type": "code",
      "id": "initial_id",
      "metadata": {
        "collapsed": true,
        "ExecuteTime": {
          "end_time": "2024-10-13T19:15:41.520300Z",
          "start_time": "2024-10-13T19:15:41.494375Z"
        },
        "id": "initial_id"
      },
      "source": [
        "import datetime as dt\n",
        "from dataclasses import dataclass\n",
        "\n",
        "import numpy as np\n",
        "import matplotlib.pyplot as plt\n",
        "\n",
        "from deep_hedging import (\n",
        "    Underlyings,\n",
        "    Ticker,\n",
        "    ConstantRateCurve,\n",
        "    EuropeanCall,\n",
        ")\n",
        "from deep_hedging import Hedger\n",
        "from deep_hedging.monte_carlo import GBMSimulator\n",
        "\n",
        "RANDOM_SEED = 12"
      ],
      "outputs": [],
      "execution_count": 2
    },
    {
      "cell_type": "markdown",
      "source": [
        "Specify the parameters of the option to simulate."
      ],
      "metadata": {
        "id": "7EoKjx19HecO"
      },
      "id": "7EoKjx19HecO"
    },
    {
      "metadata": {
        "ExecuteTime": {
          "end_time": "2024-10-13T19:15:41.543491Z",
          "start_time": "2024-10-13T19:15:41.528930Z"
        },
        "id": "c8fa6851e24330e"
      },
      "cell_type": "code",
      "source": [
        "@dataclass\n",
        "class InstrumentParams:\n",
        "    N_PATHS: int = 200_000\n",
        "    N_STOCKS: int = 1\n",
        "    TILL_MATURITY: float = 3.0\n",
        "    N_DAYS: int = int(round(365 * TILL_MATURITY))\n",
        "    RF_RATE: float = 0.03\n",
        "    STRIKE_LEVEL: float = 1.0 # expressed as decimal of spot\n",
        "    VOL: float = 0.2"
      ],
      "id": "c8fa6851e24330e",
      "outputs": [],
      "execution_count": 3
    },
    {
      "cell_type": "markdown",
      "source": [
        "## Simulate Stock Paths by Monte Carlo"
      ],
      "metadata": {
        "id": "ACnB5svXG3Yl"
      },
      "id": "ACnB5svXG3Yl"
    },
    {
      "cell_type": "markdown",
      "source": [
        "Create (an) Asset with the specified above parameters.\n",
        "\n",
        "*   Here the assumption of the **stock mean return being equal to risk-free rate** (due to the market completness, i.e., being able to hedge out any risk by its fair price) is used;\n",
        "*   Another way to look at it is mathematically with the help of Girsanov's Theorem that allows to substitute the measure space."
      ],
      "metadata": {
        "id": "_Nqwb_W1HoUh"
      },
      "id": "_Nqwb_W1HoUh"
    },
    {
      "metadata": {
        "ExecuteTime": {
          "end_time": "2024-10-13T19:15:41.582125Z",
          "start_time": "2024-10-13T19:15:41.566875Z"
        },
        "id": "b9a8df03adcd4db7"
      },
      "cell_type": "code",
      "source": [
        "np.random.seed(RANDOM_SEED)\n",
        "\n",
        "start = dt.datetime(2019, 1, 1)\n",
        "end = start + dt.timedelta(days=InstrumentParams.N_DAYS)\n",
        "\n",
        "underlyings = Underlyings(\n",
        "    tickers=[Ticker(f\"Stock {i + 1}\", f\"{i + 1}\") for i in range(InstrumentParams.N_STOCKS)],\n",
        "    start=start,\n",
        "    end=end,\n",
        "    dividends=np.array([0.0] * InstrumentParams.N_STOCKS),\n",
        "    means=np.array([InstrumentParams.RF_RATE] * InstrumentParams.N_STOCKS),\n",
        "    var_covar=np.array([InstrumentParams.VOL**2] * InstrumentParams.N_STOCKS),\n",
        ")"
      ],
      "id": "b9a8df03adcd4db7",
      "outputs": [],
      "execution_count": 4
    },
    {
      "cell_type": "markdown",
      "source": [
        "Create the yield curve of interest rates. Assume that it is flat everywhere at the level of RF_RATE%."
      ],
      "metadata": {
        "id": "j2VzdnuzIe5y"
      },
      "id": "j2VzdnuzIe5y"
    },
    {
      "metadata": {
        "ExecuteTime": {
          "end_time": "2024-10-13T19:15:41.617981Z",
          "start_time": "2024-10-13T19:15:41.588999Z"
        },
        "id": "3edcf795959a8653"
      },
      "cell_type": "code",
      "source": [
        "curve = ConstantRateCurve(constant_rate=InstrumentParams.RF_RATE)"
      ],
      "id": "3edcf795959a8653",
      "outputs": [],
      "execution_count": 5
    },
    {
      "cell_type": "markdown",
      "source": [
        "Create the European Call with the parameters above."
      ],
      "metadata": {
        "id": "XjQ9CBZgI0t2"
      },
      "id": "XjQ9CBZgI0t2"
    },
    {
      "metadata": {
        "ExecuteTime": {
          "end_time": "2024-10-13T19:15:41.650653Z",
          "start_time": "2024-10-13T19:15:41.632686Z"
        },
        "id": "2bf204be1dfb1a84"
      },
      "cell_type": "code",
      "source": [
        "european_call = EuropeanCall(\n",
        "    underlyings=underlyings,\n",
        "    yield_curve=curve,\n",
        "    strike_level=InstrumentParams.STRIKE_LEVEL,\n",
        "    start_date=start,\n",
        "    end_date=end,\n",
        ")"
      ],
      "id": "2bf204be1dfb1a84",
      "outputs": [],
      "execution_count": 6
    },
    {
      "cell_type": "markdown",
      "source": [
        "Introduce the discount factor for future operations here."
      ],
      "metadata": {
        "id": "_7pc1nSlKG10"
      },
      "id": "_7pc1nSlKG10"
    },
    {
      "cell_type": "code",
      "source": [
        "discount_factor = np.exp(-InstrumentParams.RF_RATE * european_call.time_till_maturity)"
      ],
      "metadata": {
        "id": "d-UNgPWXKFe1"
      },
      "id": "d-UNgPWXKFe1",
      "execution_count": 7,
      "outputs": []
    },
    {
      "metadata": {
        "ExecuteTime": {
          "end_time": "2024-10-13T19:15:41.691686Z",
          "start_time": "2024-10-13T19:15:41.677927Z"
        },
        "id": "460120d57cba9d32",
        "colab": {
          "base_uri": "https://localhost:8080/"
        },
        "outputId": "91d4f0b6-ff44-4c06-ee8a-33e78ee62bf5"
      },
      "cell_type": "code",
      "source": [
        "simulator = GBMSimulator(payoff_function=european_call.payoff, random_seed=RANDOM_SEED)\n",
        "paths = simulator.get_paths(\n",
        "    spot=[1.0],\n",
        "    time_till_maturity=InstrumentParams.TILL_MATURITY,\n",
        "    risk_free_rate_fn=curve.get_instant_fwd_rate,\n",
        "    dividends_fn=lambda t: 0.0,\n",
        "    var_covar_fn=lambda t: np.array([InstrumentParams.VOL**2] * len(t)),\n",
        "    n_paths=InstrumentParams.N_PATHS,\n",
        ").squeeze(2)\n",
        "paths.shape"
      ],
      "id": "460120d57cba9d32",
      "outputs": [
        {
          "output_type": "execute_result",
          "data": {
            "text/plain": [
              "(200000, 1096)"
            ]
          },
          "metadata": {},
          "execution_count": 8
        }
      ],
      "execution_count": 8
    },
    {
      "cell_type": "markdown",
      "source": [
        "## Simulate Delta-Hedging"
      ],
      "metadata": {
        "id": "zw0TDW63KWMZ"
      },
      "id": "zw0TDW63KWMZ"
    },
    {
      "cell_type": "markdown",
      "source": [
        "In this section the simulation process of delta-hedging procedure is introduced. As we can simulate the path-dependant rules to hedge, we can produce the resulting **metrics of the hedging portfolio, accounting for spot movements and interest rate costs on self-financing portfolio**.\n",
        "\n",
        "Few words on the `Hedger` parameters:\n",
        "\n",
        "*   uses the instrument to produce the hedging process for this particular instrument inside;\n",
        "*   specifies hedging mode, according to the ones, implemented in the library;\n",
        "*   uses parameter of `look_ahead`. By default it is set to `False`, meaning that if we observe spot $S_t$ at the time $t$ and use it to calculate the hedging weight $\\mathcal{w}(S_t)$ (e.g., delta of an option as $\\mathcal{\\Delta}(S_t)$), then the trade to adjust hedge position in accordance with this weight is conducted only at $S_{t + 1}$. However, as BSM model uses assumption of instantenious trading and hedging (frictionless market), it is allowed to set it to `True`, then calculating the hedge and trading it will be done at the same time with same $S_t$.\n",
        "\n"
      ],
      "metadata": {
        "id": "QC9WVGFXKZmr"
      },
      "id": "QC9WVGFXKZmr"
    },
    {
      "metadata": {
        "ExecuteTime": {
          "end_time": "2024-10-13T19:15:49.409817Z",
          "start_time": "2024-10-13T19:15:49.394800Z"
        },
        "id": "e0750a0792865d23"
      },
      "cell_type": "code",
      "source": [
        "hedger = Hedger(\n",
        "    european_call,\n",
        "    look_ahead=True\n",
        ")"
      ],
      "id": "e0750a0792865d23",
      "outputs": [],
      "execution_count": 9
    },
    {
      "cell_type": "markdown",
      "source": [
        "Let's calculate portfolio metrics."
      ],
      "metadata": {
        "id": "svd90hS2OcnO"
      },
      "id": "svd90hS2OcnO"
    },
    {
      "metadata": {
        "ExecuteTime": {
          "end_time": "2024-10-13T19:21:27.290365Z",
          "start_time": "2024-10-13T19:19:20.651074Z"
        },
        "colab": {
          "base_uri": "https://localhost:8080/"
        },
        "id": "d08e201e9650bc44",
        "outputId": "af63b006-94d3-4978-a39b-540054be7c51"
      },
      "cell_type": "code",
      "source": [
        "simulation_params = {\n",
        "    \"bids\": paths,\n",
        "    \"asks\": paths,\n",
        "    \"rates_lend\": curve(european_call.days_till_maturity) / 365,\n",
        "    \"rates_borrow\": curve(european_call.days_till_maturity) / 365,\n",
        "}\n",
        "pnl_hedge, payoff_opt = hedger.simulate(**simulation_params)\n",
        "\n",
        "print(f\"Mean hedging portfolio PnL = {pnl_hedge.mean() * 100:.7f}%\")\n",
        "print(f\"Mean option's payoff = {payoff_opt.mean() * 100:.7f}%\")"
      ],
      "id": "d08e201e9650bc44",
      "outputs": [
        {
          "output_type": "stream",
          "name": "stdout",
          "text": [
            "Mean hedging portfolio PnL = -0.0541843%\n",
            "Mean option's payoff = 19.5379595%\n"
          ]
        }
      ],
      "execution_count": 10
    },
    {
      "metadata": {
        "ExecuteTime": {
          "end_time": "2024-10-13T19:16:27.992838Z",
          "start_time": "2024-10-13T18:53:35.956791Z"
        },
        "colab": {
          "base_uri": "https://localhost:8080/"
        },
        "id": "f06b84ca7706b307",
        "outputId": "e133aed3-41f6-48d2-e97b-f22df577386e"
      },
      "cell_type": "code",
      "source": [
        "print(f\"Vol of option's payoff = {payoff_opt.std() * 100:.7f}%\")\n",
        "print(f\"Vol of hedging portfolio PnL = {pnl_hedge.std() * 100:.7f}%\")\n",
        "print(f\"Vol of [option + hedging operations] portfolio PnL = {(pnl_hedge - payoff_opt).std() * 100:.7f}%\")"
      ],
      "id": "f06b84ca7706b307",
      "outputs": [
        {
          "output_type": "stream",
          "name": "stdout",
          "text": [
            "Vol of option's payoff = 30.1549431%\n",
            "Vol of hedging portfolio PnL = 30.1098828%\n",
            "Vol of [option + hedging operations] portfolio PnL = 0.3733529%\n"
          ]
        }
      ],
      "execution_count": 11
    },
    {
      "cell_type": "markdown",
      "source": [
        "Why the volatility of the composition is such? **Let's look at the correlation matrix**."
      ],
      "metadata": {
        "id": "uMieUhxPO5-S"
      },
      "id": "uMieUhxPO5-S"
    },
    {
      "metadata": {
        "ExecuteTime": {
          "end_time": "2024-10-13T19:16:27.993673Z",
          "start_time": "2024-10-13T18:53:36.783213Z"
        },
        "colab": {
          "base_uri": "https://localhost:8080/"
        },
        "id": "728d7a47dd43e931",
        "outputId": "8ac74a50-a844-4341-d105-ca2501477b14"
      },
      "cell_type": "code",
      "source": [
        "np.corrcoef(pnl_hedge, payoff_opt)"
      ],
      "id": "728d7a47dd43e931",
      "outputs": [
        {
          "output_type": "execute_result",
          "data": {
            "text/plain": [
              "array([[1.        , 0.99992436],\n",
              "       [0.99992436, 1.        ]])"
            ]
          },
          "metadata": {},
          "execution_count": 12
        }
      ],
      "execution_count": 12
    },
    {
      "cell_type": "markdown",
      "source": [
        "Let's calculate the price by the Hedging Simulation procedure."
      ],
      "metadata": {
        "id": "p-HTRKDJOfEx"
      },
      "id": "p-HTRKDJOfEx"
    },
    {
      "metadata": {
        "ExecuteTime": {
          "end_time": "2024-10-13T19:26:06.344055Z",
          "start_time": "2024-10-13T19:26:06.287806Z"
        },
        "colab": {
          "base_uri": "https://localhost:8080/"
        },
        "id": "68d951bdc7393a9f",
        "outputId": "1b722e4d-4507-4762-a847-883a78e52ba6"
      },
      "cell_type": "code",
      "source": [
        "# Calculate mean difference\n",
        "future_value = (payoff_opt - pnl_hedge).mean()\n",
        "present_value = future_value * discount_factor\n",
        "print(f\"Hedge Simulation-based price = {present_value * 100:.7f}%\")"
      ],
      "id": "68d951bdc7393a9f",
      "outputs": [
        {
          "output_type": "stream",
          "name": "stdout",
          "text": [
            "Hedge Simulation-based price = 17.9058712%\n"
          ]
        }
      ],
      "execution_count": 13
    },
    {
      "metadata": {
        "ExecuteTime": {
          "end_time": "2024-10-13T19:16:27.993222Z",
          "start_time": "2024-10-13T18:53:36.708686Z"
        },
        "colab": {
          "base_uri": "https://localhost:8080/"
        },
        "id": "ccef69abe35fc3f",
        "outputId": "6d60d671-9683-47e9-a764-2f05cb780cf1"
      },
      "cell_type": "code",
      "source": [
        "print(f\"Hedge Simulation-based price = {hedger.price(**simulation_params) * 100:.7f}%\")\n",
        "print(f\"Black-Scholes-Merton price = {european_call.price().item() * 100:.7f}%\")"
      ],
      "id": "ccef69abe35fc3f",
      "outputs": [
        {
          "output_type": "stream",
          "name": "stdout",
          "text": [
            "Hedge Simulation-based price = 17.9058712%\n",
            "Black-Scholes-Merton price = 17.8995274%\n"
          ]
        }
      ],
      "execution_count": 14
    },
    {
      "cell_type": "markdown",
      "source": [
        "Remember that theoretically the price of a derivative is the present value of the risk-neutral expected value of its payoff. Therefore, the price of the option is given as simply:"
      ],
      "metadata": {
        "id": "7n3LKvPWPEyU"
      },
      "id": "7n3LKvPWPEyU"
    },
    {
      "metadata": {
        "ExecuteTime": {
          "end_time": "2024-10-13T19:16:27.994118Z",
          "start_time": "2024-10-13T18:53:36.939345Z"
        },
        "colab": {
          "base_uri": "https://localhost:8080/"
        },
        "id": "a787b228340e80ad",
        "outputId": "6b710699-c3cd-471d-a5d8-c796503f4b3a"
      },
      "cell_type": "code",
      "source": [
        "monte_carlo_price = payoff_opt.mean() * discount_factor\n",
        "print(f\"Monte Carlo price = {monte_carlo_price * 100:.7f}%\")"
      ],
      "id": "a787b228340e80ad",
      "outputs": [
        {
          "output_type": "stream",
          "name": "stdout",
          "text": [
            "Monte Carlo price = 17.8563505%\n"
          ]
        }
      ],
      "execution_count": 15
    },
    {
      "cell_type": "markdown",
      "source": [
        "However, such an approach does not yield consistent results in practice - **the Hedging Strategy might have frictions** (bid-offer spread, non-equal borrowing and lending rates, broker commissions etc.). Therefore, **the Hedge Simulation based pricing can account for that, while usual Monte Carlo for the payoff cannot**."
      ],
      "metadata": {
        "id": "hdDoSVvRQD3Q"
      },
      "id": "hdDoSVvRQD3Q"
    },
    {
      "cell_type": "markdown",
      "source": [
        "## Check the logic via charts"
      ],
      "metadata": {
        "id": "byoSDyaIPj_6"
      },
      "id": "byoSDyaIPj_6"
    },
    {
      "metadata": {
        "ExecuteTime": {
          "end_time": "2024-10-13T19:16:27.994415Z",
          "start_time": "2024-10-13T18:53:37.303581Z"
        },
        "colab": {
          "base_uri": "https://localhost:8080/",
          "height": 430
        },
        "id": "1b1ee23234412b30",
        "outputId": "aee5dfff-a9f2-44fd-95c1-624ed4bb5298"
      },
      "cell_type": "code",
      "source": [
        "plt.plot(np.sort(paths[:, -1]), pnl_hedge[np.argsort(paths[:, -1])], \"c\")\n",
        "plt.plot(np.sort(paths[:, -1]), payoff_opt[np.argsort(paths[:, -1])], \"m\")\n",
        "plt.legend([\"Hedging Strategy PnL\", \"Option Payoff\"])\n",
        "plt.show()"
      ],
      "id": "1b1ee23234412b30",
      "outputs": [
        {
          "output_type": "display_data",
          "data": {
            "text/plain": [
              "<Figure size 640x480 with 1 Axes>"
            ],
            "image/png": "[encoded data removed]"
          },
          "metadata": {}
        }
      ],
      "execution_count": 16
    },
    {
      "metadata": {
        "ExecuteTime": {
          "end_time": "2024-10-13T19:16:27.995223Z",
          "start_time": "2024-10-13T18:53:40.912910Z"
        },
        "colab": {
          "base_uri": "https://localhost:8080/",
          "height": 430
        },
        "id": "55fcd19b531b02c6",
        "outputId": "65955d24-aacb-49a7-af80-13a5f4d52a4a"
      },
      "cell_type": "code",
      "source": [
        "value_opt = european_call.price(spot=paths[:, -1])\n",
        "\n",
        "plt.plot(np.sort(paths[:, -1]), value_opt[np.argsort(paths[:, -1])], \"b\")\n",
        "plt.plot(np.sort(paths[:, -1]), payoff_opt[np.argsort(paths[:, -1])], \"m\")\n",
        "plt.legend([\"Option Price\", \"Option Payoff\"])\n",
        "plt.show()"
      ],
      "id": "55fcd19b531b02c6",
      "outputs": [
        {
          "output_type": "display_data",
          "data": {
            "text/plain": [
              "<Figure size 640x480 with 1 Axes>"
            ],
            "image/png": "[encoded data removed]"
          },
          "metadata": {}
        }
      ],
      "execution_count": 17
    },
    {
      "metadata": {
        "ExecuteTime": {
          "end_time": "2024-10-13T19:16:27.995368Z",
          "start_time": "2024-10-13T18:53:41.390335Z"
        },
        "colab": {
          "base_uri": "https://localhost:8080/",
          "height": 430
        },
        "id": "a6122ee5a653579e",
        "outputId": "319a6fc1-8e63-46e3-905d-1fbaeed93351"
      },
      "cell_type": "code",
      "source": [
        "plt.plot(\n",
        "    np.sort(paths[:, -1]),\n",
        "    pnl_hedge[np.argsort(paths[:, -1])] + european_call.price().T.squeeze(1) / discount_factor,\n",
        "    \"c\"\n",
        ")\n",
        "plt.plot(np.sort(paths[:, -1]), payoff_opt[np.argsort(paths[:, -1])], \"m\")\n",
        "plt.legend([\"Hedging Strategy PnL + Option Price at Inception\", \"Option Payoff\"])\n",
        "plt.show()"
      ],
      "id": "a6122ee5a653579e",
      "outputs": [
        {
          "output_type": "display_data",
          "data": {
            "text/plain": [
              "<Figure size 640x480 with 1 Axes>"
            ],
            "image/png": "[encoded data removed]"
          },
          "metadata": {}
        }
      ],
      "execution_count": 18
    },
    {
      "cell_type": "markdown",
      "source": [
        "Then what do we get as our trading book portfolio? The returns are below."
      ],
      "metadata": {
        "id": "3HKH-RkyRH_f"
      },
      "id": "3HKH-RkyRH_f"
    },
    {
      "metadata": {
        "ExecuteTime": {
          "end_time": "2024-10-13T19:16:27.995432Z",
          "start_time": "2024-10-13T18:53:41.589296Z"
        },
        "colab": {
          "base_uri": "https://localhost:8080/"
        },
        "id": "93f6b7a51c165c93",
        "outputId": "54e40324-5f12-4f03-b91b-a99967e20dd1"
      },
      "cell_type": "code",
      "source": [
        "portfolio = pnl_hedge + european_call.price().T.squeeze(1) / discount_factor - payoff_opt\n",
        "\n",
        "print(f\"Mean trading portfolio PnL = {portfolio.mean() * 100:.7f}%\")\n",
        "print(f\"Vol of trading portfolio PnL = {portfolio.std() * 100:.7f}%\")"
      ],
      "id": "93f6b7a51c165c93",
      "outputs": [
        {
          "output_type": "stream",
          "name": "stdout",
          "text": [
            "Mean trading portfolio PnL = -0.0069412%\n",
            "Vol of trading portfolio PnL = 0.3733529%\n"
          ]
        }
      ],
      "execution_count": 19
    }
  ],
  "metadata": {
    "kernelspec": {
      "display_name": "Python 3",
      "name": "python3"
    },
    "language_info": {
      "codemirror_mode": {
        "name": "ipython",
        "version": 2
      },
      "file_extension": ".py",
      "mimetype": "text/x-python",
      "name": "python",
      "nbconvert_exporter": "python",
      "pygments_lexer": "ipython2",
      "version": "2.7.6"
    },
    "colab": {
      "provenance": [],
      "machine_shape": "hm"
    }
  },
  "nbformat": 4,
  "nbformat_minor": 5
}