{
  "cells": [
    {
      "metadata": {
        "ExecuteTime": {
          "end_time": "2024-10-13T19:15:36.477175Z",
          "start_time": "2024-10-13T19:15:26.129724Z"
        },
        "colab": {
          "base_uri": "https://localhost:8080/"
        },
        "id": "e546b46bae2170df",
        "outputId": "f1cb6dee-8b0b-446d-ef90-fc9e20878890"
      },
      "cell_type": "code",
      "source": [
        "!pip install deep_hedging"
      ],
      "id": "e546b46bae2170df",
      "outputs": [
        {
          "output_type": "stream",
          "name": "stdout",
          "text": [
            "Collecting deep_hedging\n",
            "  Downloading deep_hedging-1.11.tar.gz (44 kB)\n",
            "\u001b[?25l     \u001b[90m━━━━━━━━━━━━━━━━━━━━━━━━━━━━━━━━━━━━━━━━\u001b[0m \u001b[32m0.0/44.5 kB\u001b[0m \u001b[31m?\u001b[0m eta \u001b[36m-:--:--\u001b[0m\r\u001b[2K     \u001b[90m━━━━━━━━━━━━━━━━━━━━━━━━━━━━━━━━━━━━━━━━\u001b[0m \u001b[32m44.5/44.5 kB\u001b[0m \u001b[31m1.5 MB/s\u001b[0m eta \u001b[36m0:00:00\u001b[0m\n",
            "\u001b[?25h  Preparing metadata (setup.py) ... \u001b[?25l\u001b[?25hdone\n",
            "Requirement already satisfied: numpy in /usr/local/lib/python3.10/dist-packages (from deep_hedging) (1.26.4)\n",
            "Collecting numpy-financial (from deep_hedging)\n",
            "  Downloading numpy_financial-1.0.0-py3-none-any.whl.metadata (2.2 kB)\n",
            "Requirement already satisfied: pandas in /usr/local/lib/python3.10/dist-packages (from deep_hedging) (2.2.2)\n",
            "Requirement already satisfied: scikit-learn in /usr/local/lib/python3.10/dist-packages (from deep_hedging) (1.5.2)\n",
            "Requirement already satisfied: torch in /usr/local/lib/python3.10/dist-packages (from deep_hedging) (2.4.1+cu121)\n",
            "Requirement already satisfied: matplotlib in /usr/local/lib/python3.10/dist-packages (from deep_hedging) (3.7.1)\n",
            "Requirement already satisfied: tqdm in /usr/local/lib/python3.10/dist-packages (from deep_hedging) (4.66.5)\n",
            "Requirement already satisfied: IPython in /usr/local/lib/python3.10/dist-packages (from deep_hedging) (7.34.0)\n",
            "Requirement already satisfied: yfinance in /usr/local/lib/python3.10/dist-packages (from deep_hedging) (0.2.44)\n",
            "Requirement already satisfied: gym in /usr/local/lib/python3.10/dist-packages (from deep_hedging) (0.25.2)\n",
            "Requirement already satisfied: scipy in /usr/local/lib/python3.10/dist-packages (from deep_hedging) (1.13.1)\n",
            "Requirement already satisfied: cloudpickle>=1.2.0 in /usr/local/lib/python3.10/dist-packages (from gym->deep_hedging) (2.2.1)\n",
            "Requirement already satisfied: gym-notices>=0.0.4 in /usr/local/lib/python3.10/dist-packages (from gym->deep_hedging) (0.0.8)\n",
            "Requirement already satisfied: setuptools>=18.5 in /usr/local/lib/python3.10/dist-packages (from IPython->deep_hedging) (71.0.4)\n",
            "Collecting jedi>=0.16 (from IPython->deep_hedging)\n",
            "  Downloading jedi-0.19.1-py2.py3-none-any.whl.metadata (22 kB)\n",
            "Requirement already satisfied: decorator in /usr/local/lib/python3.10/dist-packages (from IPython->deep_hedging) (4.4.2)\n",
            "Requirement already satisfied: pickleshare in /usr/local/lib/python3.10/dist-packages (from IPython->deep_hedging) (0.7.5)\n",
            "Requirement already satisfied: traitlets>=4.2 in /usr/local/lib/python3.10/dist-packages (from IPython->deep_hedging) (5.7.1)\n",
            "Requirement already satisfied: prompt-toolkit!=3.0.0,!=3.0.1,<3.1.0,>=2.0.0 in /usr/local/lib/python3.10/dist-packages (from IPython->deep_hedging) (3.0.48)\n",
            "Requirement already satisfied: pygments in /usr/local/lib/python3.10/dist-packages (from IPython->deep_hedging) (2.18.0)\n",
            "Requirement already satisfied: backcall in /usr/local/lib/python3.10/dist-packages (from IPython->deep_hedging) (0.2.0)\n",
            "Requirement already satisfied: matplotlib-inline in /usr/local/lib/python3.10/dist-packages (from IPython->deep_hedging) (0.1.7)\n",
            "Requirement already satisfied: pexpect>4.3 in /usr/local/lib/python3.10/dist-packages (from IPython->deep_hedging) (4.9.0)\n",
            "Requirement already satisfied: contourpy>=1.0.1 in /usr/local/lib/python3.10/dist-packages (from matplotlib->deep_hedging) (1.3.0)\n",
            "Requirement already satisfied: cycler>=0.10 in /usr/local/lib/python3.10/dist-packages (from matplotlib->deep_hedging) (0.12.1)\n",
            "Requirement already satisfied: fonttools>=4.22.0 in /usr/local/lib/python3.10/dist-packages (from matplotlib->deep_hedging) (4.54.1)\n",
            "Requirement already satisfied: kiwisolver>=1.0.1 in /usr/local/lib/python3.10/dist-packages (from matplotlib->deep_hedging) (1.4.7)\n",
            "Requirement already satisfied: packaging>=20.0 in /usr/local/lib/python3.10/dist-packages (from matplotlib->deep_hedging) (24.1)\n",
            "Requirement already satisfied: pillow>=6.2.0 in /usr/local/lib/python3.10/dist-packages (from matplotlib->deep_hedging) (10.4.0)\n",
            "Requirement already satisfied: pyparsing>=2.3.1 in /usr/local/lib/python3.10/dist-packages (from matplotlib->deep_hedging) (3.1.4)\n",
            "Requirement already satisfied: python-dateutil>=2.7 in /usr/local/lib/python3.10/dist-packages (from matplotlib->deep_hedging) (2.8.2)\n",
            "Requirement already satisfied: pytz>=2020.1 in /usr/local/lib/python3.10/dist-packages (from pandas->deep_hedging) (2024.2)\n",
            "Requirement already satisfied: tzdata>=2022.7 in /usr/local/lib/python3.10/dist-packages (from pandas->deep_hedging) (2024.2)\n",
            "Requirement already satisfied: joblib>=1.2.0 in /usr/local/lib/python3.10/dist-packages (from scikit-learn->deep_hedging) (1.4.2)\n",
            "Requirement already satisfied: threadpoolctl>=3.1.0 in /usr/local/lib/python3.10/dist-packages (from scikit-learn->deep_hedging) (3.5.0)\n",
            "Requirement already satisfied: filelock in /usr/local/lib/python3.10/dist-packages (from torch->deep_hedging) (3.16.1)\n",
            "Requirement already satisfied: typing-extensions>=4.8.0 in /usr/local/lib/python3.10/dist-packages (from torch->deep_hedging) (4.12.2)\n",
            "Requirement already satisfied: sympy in /usr/local/lib/python3.10/dist-packages (from torch->deep_hedging) (1.13.3)\n",
            "Requirement already satisfied: networkx in /usr/local/lib/python3.10/dist-packages (from torch->deep_hedging) (3.4)\n",
            "Requirement already satisfied: jinja2 in /usr/local/lib/python3.10/dist-packages (from torch->deep_hedging) (3.1.4)\n",
            "Requirement already satisfied: fsspec in /usr/local/lib/python3.10/dist-packages (from torch->deep_hedging) (2024.6.1)\n",
            "Requirement already satisfied: requests>=2.31 in /usr/local/lib/python3.10/dist-packages (from yfinance->deep_hedging) (2.32.3)\n",
            "Requirement already satisfied: multitasking>=0.0.7 in /usr/local/lib/python3.10/dist-packages (from yfinance->deep_hedging) (0.0.11)\n",
            "Requirement already satisfied: lxml>=4.9.1 in /usr/local/lib/python3.10/dist-packages (from yfinance->deep_hedging) (4.9.4)\n",
            "Requirement already satisfied: platformdirs>=2.0.0 in /usr/local/lib/python3.10/dist-packages (from yfinance->deep_hedging) (4.3.6)\n",
            "Requirement already satisfied: frozendict>=2.3.4 in /usr/local/lib/python3.10/dist-packages (from yfinance->deep_hedging) (2.4.5)\n",
            "Requirement already satisfied: peewee>=3.16.2 in /usr/local/lib/python3.10/dist-packages (from yfinance->deep_hedging) (3.17.6)\n",
            "Requirement already satisfied: beautifulsoup4>=4.11.1 in /usr/local/lib/python3.10/dist-packages (from yfinance->deep_hedging) (4.12.3)\n",
            "Requirement already satisfied: html5lib>=1.1 in /usr/local/lib/python3.10/dist-packages (from yfinance->deep_hedging) (1.1)\n",
            "Requirement already satisfied: soupsieve>1.2 in /usr/local/lib/python3.10/dist-packages (from beautifulsoup4>=4.11.1->yfinance->deep_hedging) (2.6)\n",
            "Requirement already satisfied: six>=1.9 in /usr/local/lib/python3.10/dist-packages (from html5lib>=1.1->yfinance->deep_hedging) (1.16.0)\n",
            "Requirement already satisfied: webencodings in /usr/local/lib/python3.10/dist-packages (from html5lib>=1.1->yfinance->deep_hedging) (0.5.1)\n",
            "Requirement already satisfied: parso<0.9.0,>=0.8.3 in /usr/local/lib/python3.10/dist-packages (from jedi>=0.16->IPython->deep_hedging) (0.8.4)\n",
            "Requirement already satisfied: ptyprocess>=0.5 in /usr/local/lib/python3.10/dist-packages (from pexpect>4.3->IPython->deep_hedging) (0.7.0)\n",
            "Requirement already satisfied: wcwidth in /usr/local/lib/python3.10/dist-packages (from prompt-toolkit!=3.0.0,!=3.0.1,<3.1.0,>=2.0.0->IPython->deep_hedging) (0.2.13)\n",
            "Requirement already satisfied: charset-normalizer<4,>=2 in /usr/local/lib/python3.10/dist-packages (from requests>=2.31->yfinance->deep_hedging) (3.4.0)\n",
            "Requirement already satisfied: idna<4,>=2.5 in /usr/local/lib/python3.10/dist-packages (from requests>=2.31->yfinance->deep_hedging) (3.10)\n",
            "Requirement already satisfied: urllib3<3,>=1.21.1 in /usr/local/lib/python3.10/dist-packages (from requests>=2.31->yfinance->deep_hedging) (2.2.3)\n",
            "Requirement already satisfied: certifi>=2017.4.17 in /usr/local/lib/python3.10/dist-packages (from requests>=2.31->yfinance->deep_hedging) (2024.8.30)\n",
            "Requirement already satisfied: MarkupSafe>=2.0 in /usr/local/lib/python3.10/dist-packages (from jinja2->torch->deep_hedging) (3.0.1)\n",
            "Requirement already satisfied: mpmath<1.4,>=1.1.0 in /usr/local/lib/python3.10/dist-packages (from sympy->torch->deep_hedging) (1.3.0)\n",
            "Downloading numpy_financial-1.0.0-py3-none-any.whl (14 kB)\n",
            "Downloading jedi-0.19.1-py2.py3-none-any.whl (1.6 MB)\n",
            "\u001b[2K   \u001b[90m━━━━━━━━━━━━━━━━━━━━━━━━━━━━━━━━━━━━━━━━\u001b[0m \u001b[32m1.6/1.6 MB\u001b[0m \u001b[31m21.4 MB/s\u001b[0m eta \u001b[36m0:00:00\u001b[0m\n",
            "\u001b[?25hBuilding wheels for collected packages: deep_hedging\n",
            "  Building wheel for deep_hedging (setup.py) ... \u001b[?25l\u001b[?25hdone\n",
            "  Created wheel for deep_hedging: filename=deep_hedging-1.11-py3-none-any.whl size=76991 sha256=579a3de1a44cfc29992b57d91ec573d7d9e67df31c483cb356a3e73d998bd736\n",
            "  Stored in directory: /root/.cache/pip/wheels/2e/73/ec/eb9c7dd22320145f9ec4f9275967356730677b4fe6e03ebc13\n",
            "Successfully built deep_hedging\n",
            "Installing collected packages: numpy-financial, jedi, deep_hedging\n",
            "Successfully installed deep_hedging-1.11 jedi-0.19.1 numpy-financial-1.0.0\n"
          ]
        }
      ],
      "execution_count": 1
    },
    {
      "cell_type": "code",
      "id": "initial_id",
      "metadata": {
        "collapsed": true,
        "ExecuteTime": {
          "end_time": "2024-10-13T19:15:41.520300Z",
          "start_time": "2024-10-13T19:15:41.494375Z"
        },
        "id": "initial_id"
      },
      "source": [
        "import datetime as dt\n",
        "\n",
        "import numpy as np\n",
        "import matplotlib.pyplot as plt\n",
        "\n",
        "from deep_hedging import (\n",
        "    Underlyings,\n",
        "    Ticker,\n",
        "    ConstantRateCurve,\n",
        "    EuropeanCall,\n",
        ")\n",
        "from deep_hedging import Hedger\n",
        "from deep_hedging.monte_carlo import GBMSimulator\n",
        "\n",
        "RANDOM_SEED = 12"
      ],
      "outputs": [],
      "execution_count": 2
    },
    {
      "metadata": {
        "ExecuteTime": {
          "end_time": "2024-10-13T19:15:41.543491Z",
          "start_time": "2024-10-13T19:15:41.528930Z"
        },
        "id": "c8fa6851e24330e"
      },
      "cell_type": "code",
      "source": [
        "N_PATHS = 200_000\n",
        "N_STOCKS = 1\n",
        "TILL_MATURITY = 3.0\n",
        "N_DAYS = 365 * TILL_MATURITY\n",
        "RF_RATE = 0.03\n",
        "STRIKE_LEVEL = 1.0\n",
        "VOL = 0.2"
      ],
      "id": "c8fa6851e24330e",
      "outputs": [],
      "execution_count": 3
    },
    {
      "metadata": {
        "ExecuteTime": {
          "end_time": "2024-10-13T19:15:41.582125Z",
          "start_time": "2024-10-13T19:15:41.566875Z"
        },
        "id": "b9a8df03adcd4db7"
      },
      "cell_type": "code",
      "source": [
        "np.random.seed(RANDOM_SEED)\n",
        "\n",
        "start = dt.datetime(2019, 1, 1)\n",
        "end = start + dt.timedelta(days=N_DAYS)\n",
        "\n",
        "underlyings = Underlyings(\n",
        "    tickers=[Ticker(f\"Stock {i + 1}\", f\"{i + 1}\") for i in range(N_STOCKS)],\n",
        "    start=start,\n",
        "    end=end,\n",
        "    dividends=np.array([0.0] * N_STOCKS),\n",
        "    means=np.array([RF_RATE] * N_STOCKS),\n",
        "    var_covar=np.array([VOL**2] * N_STOCKS),\n",
        ")\n",
        "underlyings.data"
      ],
      "id": "b9a8df03adcd4db7",
      "outputs": [],
      "execution_count": 4
    },
    {
      "metadata": {
        "ExecuteTime": {
          "end_time": "2024-10-13T19:15:41.617981Z",
          "start_time": "2024-10-13T19:15:41.588999Z"
        },
        "id": "3edcf795959a8653"
      },
      "cell_type": "code",
      "source": [
        "curve = ConstantRateCurve(constant_rate=RF_RATE)"
      ],
      "id": "3edcf795959a8653",
      "outputs": [],
      "execution_count": 5
    },
    {
      "metadata": {
        "ExecuteTime": {
          "end_time": "2024-10-13T19:15:41.650653Z",
          "start_time": "2024-10-13T19:15:41.632686Z"
        },
        "id": "2bf204be1dfb1a84"
      },
      "cell_type": "code",
      "source": [
        "european_call = EuropeanCall(\n",
        "    underlyings=underlyings,\n",
        "    yield_curve=curve,\n",
        "    strike_level=STRIKE_LEVEL,\n",
        "    start_date=start,\n",
        "    end_date=end,\n",
        ")"
      ],
      "id": "2bf204be1dfb1a84",
      "outputs": [],
      "execution_count": 6
    },
    {
      "metadata": {
        "ExecuteTime": {
          "end_time": "2024-10-13T19:15:41.691686Z",
          "start_time": "2024-10-13T19:15:41.677927Z"
        },
        "id": "460120d57cba9d32"
      },
      "cell_type": "code",
      "source": [
        "pricer = GBMSimulator(payoff_function=european_call.payoff, random_seed=RANDOM_SEED)"
      ],
      "id": "460120d57cba9d32",
      "outputs": [],
      "execution_count": 7
    },
    {
      "metadata": {
        "ExecuteTime": {
          "end_time": "2024-10-13T19:15:49.240219Z",
          "start_time": "2024-10-13T19:15:41.703631Z"
        },
        "colab": {
          "base_uri": "https://localhost:8080/"
        },
        "id": "83384116e70913a2",
        "outputId": "0b7fdb99-54df-4a94-87ca-7826738756f1"
      },
      "cell_type": "code",
      "source": [
        "paths = pricer.get_paths(\n",
        "    spot=[1.0],\n",
        "    time_till_maturity=TILL_MATURITY,\n",
        "    risk_free_rate_fn=curve.get_instant_fwd_rate,\n",
        "    dividends_fn=lambda t: 0.0,\n",
        "    var_covar_fn=lambda t: np.array([VOL**2] * len(t)),\n",
        "    n_paths=N_PATHS,\n",
        ").squeeze(2)\n",
        "paths.shape"
      ],
      "id": "83384116e70913a2",
      "outputs": [
        {
          "output_type": "execute_result",
          "data": {
            "text/plain": [
              "(200000, 757)"
            ]
          },
          "metadata": {},
          "execution_count": 8
        }
      ],
      "execution_count": 8
    },
    {
      "metadata": {
        "ExecuteTime": {
          "end_time": "2024-10-13T19:15:49.409817Z",
          "start_time": "2024-10-13T19:15:49.394800Z"
        },
        "id": "e0750a0792865d23"
      },
      "cell_type": "code",
      "source": [
        "hedger = Hedger(european_call, look_ahead=True)"
      ],
      "id": "e0750a0792865d23",
      "outputs": [],
      "execution_count": 9
    },
    {
      "metadata": {
        "ExecuteTime": {
          "end_time": "2024-10-13T19:21:27.290365Z",
          "start_time": "2024-10-13T19:19:20.651074Z"
        },
        "colab": {
          "base_uri": "https://localhost:8080/"
        },
        "id": "d08e201e9650bc44",
        "outputId": "d5f16c09-4740-4d32-e72e-2e83d7b493e8"
      },
      "cell_type": "code",
      "source": [
        "pnl_hedge, interest, pnl_opt = hedger.simulate(\n",
        "    bids=paths,\n",
        "    asks=paths,\n",
        "    rates_lend=curve(european_call.days_till_maturity) / 365,\n",
        "    rates_borrow=curve(european_call.days_till_maturity) / 365,\n",
        ")\n",
        "pnl_hedge.mean(), pnl_opt.mean()"
      ],
      "id": "d08e201e9650bc44",
      "outputs": [
        {
          "output_type": "execute_result",
          "data": {
            "text/plain": [
              "(0.06239734272167672, 0.19546460231066645)"
            ]
          },
          "metadata": {},
          "execution_count": 10
        }
      ],
      "execution_count": 10
    },
    {
      "metadata": {
        "ExecuteTime": {
          "end_time": "2024-10-13T19:23:30.874722Z",
          "start_time": "2024-10-13T19:23:30.837485Z"
        },
        "colab": {
          "base_uri": "https://localhost:8080/"
        },
        "id": "fbb3dd80a53155cd",
        "outputId": "318f89e8-6310-4c86-df50-ae51823cb672"
      },
      "cell_type": "code",
      "source": [
        "RF_RATE * european_call.time_till_maturity"
      ],
      "id": "fbb3dd80a53155cd",
      "outputs": [
        {
          "output_type": "execute_result",
          "data": {
            "text/plain": [
              "0.09"
            ]
          },
          "metadata": {},
          "execution_count": 11
        }
      ],
      "execution_count": 11
    },
    {
      "metadata": {
        "ExecuteTime": {
          "end_time": "2024-10-13T19:26:06.344055Z",
          "start_time": "2024-10-13T19:26:06.287806Z"
        },
        "colab": {
          "base_uri": "https://localhost:8080/"
        },
        "id": "68d951bdc7393a9f",
        "outputId": "f5698626-d22c-4d98-aa25-cf106fa328af"
      },
      "cell_type": "code",
      "source": [
        "((pnl_opt - pnl_hedge).mean() + np.exp(RF_RATE * european_call.time_till_maturity) - 1) * np.exp(-RF_RATE * european_call.time_till_maturity)"
      ],
      "id": "68d951bdc7393a9f",
      "outputs": [
        {
          "output_type": "execute_result",
          "data": {
            "text/plain": [
              "0.2076831330057314"
            ]
          },
          "metadata": {},
          "execution_count": 12
        }
      ],
      "execution_count": 12
    },
    {
      "metadata": {
        "ExecuteTime": {
          "end_time": "2024-10-13T19:22:05.475731Z",
          "start_time": "2024-10-13T19:22:04.183402Z"
        },
        "colab": {
          "base_uri": "https://localhost:8080/"
        },
        "id": "9a898c25405bf4bc",
        "outputId": "8d6818a1-0e91-4037-e511-f8df599812ab"
      },
      "cell_type": "code",
      "source": [
        "(np.ones(paths.shape) * european_call.delta()).shape"
      ],
      "id": "9a898c25405bf4bc",
      "outputs": [
        {
          "output_type": "execute_result",
          "data": {
            "text/plain": [
              "(200000, 757)"
            ]
          },
          "metadata": {},
          "execution_count": 13
        }
      ],
      "execution_count": 13
    },
    {
      "metadata": {
        "ExecuteTime": {
          "end_time": "2024-10-13T19:16:27.991984Z",
          "start_time": "2024-10-13T19:13:21.515170Z"
        },
        "colab": {
          "base_uri": "https://localhost:8080/"
        },
        "id": "39ce6913f8b68ac0",
        "outputId": "1537ba78-0808-43f8-c999-3fb7e5ae4485"
      },
      "cell_type": "code",
      "source": [
        "paths.shape"
      ],
      "id": "39ce6913f8b68ac0",
      "outputs": [
        {
          "output_type": "execute_result",
          "data": {
            "text/plain": [
              "(200000, 757)"
            ]
          },
          "metadata": {},
          "execution_count": 14
        }
      ],
      "execution_count": 14
    },
    {
      "metadata": {
        "ExecuteTime": {
          "end_time": "2024-10-13T19:16:27.992838Z",
          "start_time": "2024-10-13T18:53:35.956791Z"
        },
        "colab": {
          "base_uri": "https://localhost:8080/"
        },
        "id": "f06b84ca7706b307",
        "outputId": "d241187d-d251-4ef9-b3d1-55613ac351de"
      },
      "cell_type": "code",
      "source": [
        "pnl_opt.std(), pnl_hedge.std(), (pnl_hedge - pnl_opt).std()"
      ],
      "id": "f06b84ca7706b307",
      "outputs": [
        {
          "output_type": "execute_result",
          "data": {
            "text/plain": [
              "(0.3012065987458439, 0.3152928014361705, 0.0210928278115045)"
            ]
          },
          "metadata": {},
          "execution_count": 15
        }
      ],
      "execution_count": 15
    },
    {
      "metadata": {
        "ExecuteTime": {
          "end_time": "2024-10-13T19:25:37.544955Z",
          "start_time": "2024-10-13T19:25:37.516556Z"
        },
        "colab": {
          "base_uri": "https://localhost:8080/"
        },
        "id": "f266589a8e5397c5",
        "outputId": "c6ce51a8-f4fc-49ea-c628-692328155803"
      },
      "cell_type": "code",
      "source": [
        "X = ((pnl_opt - pnl_hedge).mean() + RF_RATE * european_call.time_till_maturity) * np.exp(-RF_RATE * european_call.time_till_maturity)\n",
        "X"
      ],
      "id": "f266589a8e5397c5",
      "outputs": [
        {
          "output_type": "execute_result",
          "data": {
            "text/plain": [
              "0.20386812495137013"
            ]
          },
          "metadata": {},
          "execution_count": 16
        }
      ],
      "execution_count": 16
    },
    {
      "metadata": {
        "ExecuteTime": {
          "end_time": "2024-10-13T19:16:27.993222Z",
          "start_time": "2024-10-13T18:53:36.708686Z"
        },
        "colab": {
          "base_uri": "https://localhost:8080/"
        },
        "id": "ccef69abe35fc3f",
        "outputId": "b7fc67fd-f151-493a-c4c9-3fe4ff428b2e"
      },
      "cell_type": "code",
      "source": [
        "european_call.price()"
      ],
      "id": "ccef69abe35fc3f",
      "outputs": [
        {
          "output_type": "execute_result",
          "data": {
            "text/plain": [
              "array([[0.17899527]])"
            ]
          },
          "metadata": {},
          "execution_count": 17
        }
      ],
      "execution_count": 17
    },
    {
      "metadata": {
        "ExecuteTime": {
          "end_time": "2024-10-13T19:16:27.993673Z",
          "start_time": "2024-10-13T18:53:36.783213Z"
        },
        "colab": {
          "base_uri": "https://localhost:8080/"
        },
        "id": "728d7a47dd43e931",
        "outputId": "a38bafba-c12e-4eee-bfa8-f0bb1c657473"
      },
      "cell_type": "code",
      "source": [
        "np.corrcoef(pnl_hedge, pnl_opt)"
      ],
      "id": "728d7a47dd43e931",
      "outputs": [
        {
          "output_type": "execute_result",
          "data": {
            "text/plain": [
              "array([[1.        , 0.99870227],\n",
              "       [0.99870227, 1.        ]])"
            ]
          },
          "metadata": {},
          "execution_count": 18
        }
      ],
      "execution_count": 18
    },
    {
      "metadata": {
        "ExecuteTime": {
          "end_time": "2024-10-13T19:16:27.994118Z",
          "start_time": "2024-10-13T18:53:36.939345Z"
        },
        "colab": {
          "base_uri": "https://localhost:8080/"
        },
        "id": "a787b228340e80ad",
        "outputId": "cab65c8d-d32e-4b3e-a1e7-b2d139fce3d6"
      },
      "cell_type": "code",
      "source": [
        "(\n",
        "    pnl_opt - european_call.price() * np.exp(RF_RATE * european_call.time_till_maturity)\n",
        ").mean()"
      ],
      "id": "a787b228340e80ad",
      "outputs": [
        {
          "output_type": "execute_result",
          "data": {
            "text/plain": [
              "-0.0003874233295861332"
            ]
          },
          "metadata": {},
          "execution_count": 19
        }
      ],
      "execution_count": 19
    },
    {
      "metadata": {
        "ExecuteTime": {
          "end_time": "2024-10-13T19:16:27.994225Z",
          "start_time": "2024-10-13T18:53:37.162921Z"
        },
        "colab": {
          "base_uri": "https://localhost:8080/"
        },
        "id": "4cbbfcc02bfb596c",
        "outputId": "41f03b83-416d-4c23-aaaf-3dabee30d8ec"
      },
      "cell_type": "code",
      "source": [
        "(\n",
        "    pnl_opt - european_call.price() * np.exp(RF_RATE * european_call.time_till_maturity)\n",
        ").std()"
      ],
      "id": "4cbbfcc02bfb596c",
      "outputs": [
        {
          "output_type": "execute_result",
          "data": {
            "text/plain": [
              "0.3012065987458439"
            ]
          },
          "metadata": {},
          "execution_count": 20
        }
      ],
      "execution_count": 20
    },
    {
      "metadata": {
        "ExecuteTime": {
          "end_time": "2024-10-13T19:16:27.994331Z",
          "start_time": "2024-10-13T18:53:37.268475Z"
        },
        "colab": {
          "base_uri": "https://localhost:8080/"
        },
        "id": "60e91232ff3cd9ba",
        "outputId": "eea1bb61-9f90-40b2-80d7-d8448f6e9c79"
      },
      "cell_type": "code",
      "source": [
        "(\n",
        "    pnl_opt\n",
        "    - pnl_hedge\n",
        "    - european_call.price() * np.exp(RF_RATE * european_call.time_till_maturity)\n",
        ").std()"
      ],
      "id": "60e91232ff3cd9ba",
      "outputs": [
        {
          "output_type": "execute_result",
          "data": {
            "text/plain": [
              "0.021092827811504504"
            ]
          },
          "metadata": {},
          "execution_count": 21
        }
      ],
      "execution_count": 21
    },
    {
      "metadata": {
        "ExecuteTime": {
          "end_time": "2024-10-13T19:16:27.994415Z",
          "start_time": "2024-10-13T18:53:37.303581Z"
        },
        "colab": {
          "base_uri": "https://localhost:8080/",
          "height": 430
        },
        "id": "1b1ee23234412b30",
        "outputId": "f0e44075-cbaa-4b77-d505-310bc22d2c2e"
      },
      "cell_type": "code",
      "source": [
        "plt.plot(np.sort(paths[:, -1]), pnl_opt[np.argsort(paths[:, -1])])\n",
        "plt.plot(np.sort(paths[:, -1]), pnl_hedge[np.argsort(paths[:, -1])])\n",
        "plt.show()"
      ],
      "id": "1b1ee23234412b30",
      "outputs": [
        {
          "output_type": "display_data",
          "data": {
            "text/plain": [
              "<Figure size 640x480 with 1 Axes>"
            ],
            "image/png": "[encoded data removed]"
          },
          "metadata": {}
        }
      ],
      "execution_count": 22
    },
    {
      "metadata": {
        "ExecuteTime": {
          "end_time": "2024-10-13T19:16:27.994647Z",
          "start_time": "2024-10-13T18:54:40.487191Z"
        },
        "colab": {
          "base_uri": "https://localhost:8080/"
        },
        "id": "28e0545c9f7b82ac",
        "outputId": "6ab6907b-3b88-4474-d20c-e5f330145fc7"
      },
      "cell_type": "code",
      "source": [
        "(pnl_hedge - RF_RATE * european_call.time_till_maturity).mean()"
      ],
      "id": "28e0545c9f7b82ac",
      "outputs": [
        {
          "output_type": "execute_result",
          "data": {
            "text/plain": [
              "-0.027602657278323266"
            ]
          },
          "metadata": {},
          "execution_count": 23
        }
      ],
      "execution_count": 23
    },
    {
      "metadata": {
        "ExecuteTime": {
          "end_time": "2024-10-13T19:16:27.995223Z",
          "start_time": "2024-10-13T18:53:40.912910Z"
        },
        "colab": {
          "base_uri": "https://localhost:8080/",
          "height": 430
        },
        "id": "55fcd19b531b02c6",
        "outputId": "efcb8087-bd12-4dc4-a907-c1c4e3c9231d"
      },
      "cell_type": "code",
      "source": [
        "value_opt = european_call.price(spot=paths[:, -1])\n",
        "\n",
        "plt.plot(np.sort(paths[:, -1]), value_opt[np.argsort(paths[:, -1])])\n",
        "plt.plot(np.sort(paths[:, -1]), pnl_opt[np.argsort(paths[:, -1])])\n",
        "plt.xlim([0, 3])\n",
        "plt.show()"
      ],
      "id": "55fcd19b531b02c6",
      "outputs": [
        {
          "output_type": "display_data",
          "data": {
            "text/plain": [
              "<Figure size 640x480 with 1 Axes>"
            ],
            "image/png": "[encoded data removed]"
          },
          "metadata": {}
        }
      ],
      "execution_count": 24
    },
    {
      "metadata": {
        "ExecuteTime": {
          "end_time": "2024-10-13T19:16:27.995302Z",
          "start_time": "2024-10-13T18:53:41.142684Z"
        },
        "colab": {
          "base_uri": "https://localhost:8080/",
          "height": 430
        },
        "id": "d34cb3ac52aa8297",
        "outputId": "3a2f78b3-112d-42cc-f118-b6c1a550e14d"
      },
      "cell_type": "code",
      "source": [
        "plt.plot(np.sort(paths[:, -1]), value_opt[np.argsort(paths[:, -1])])\n",
        "plt.plot(np.sort(paths[:, -1]), pnl_hedge[np.argsort(paths[:, -1])])\n",
        "plt.show()"
      ],
      "id": "d34cb3ac52aa8297",
      "outputs": [
        {
          "output_type": "display_data",
          "data": {
            "text/plain": [
              "<Figure size 640x480 with 1 Axes>"
            ],
            "image/png": "[encoded data removed]"
          },
          "metadata": {}
        }
      ],
      "execution_count": 25
    },
    {
      "metadata": {
        "ExecuteTime": {
          "end_time": "2024-10-13T19:16:27.995368Z",
          "start_time": "2024-10-13T18:53:41.390335Z"
        },
        "colab": {
          "base_uri": "https://localhost:8080/",
          "height": 430
        },
        "id": "a6122ee5a653579e",
        "outputId": "cd531c5d-246d-4769-d709-35ffa343bb7f"
      },
      "cell_type": "code",
      "source": [
        "plt.plot(np.sort(paths[:, -1]), pnl_opt[np.argsort(paths[:, -1])])\n",
        "plt.plot(\n",
        "    np.sort(paths[:, -1]),\n",
        "    pnl_hedge[np.argsort(paths[:, -1])] + european_call.price().T.squeeze(1),\n",
        ")\n",
        "plt.show()"
      ],
      "id": "a6122ee5a653579e",
      "outputs": [
        {
          "output_type": "display_data",
          "data": {
            "text/plain": [
              "<Figure size 640x480 with 1 Axes>"
            ],
            "image/png": "[encoded data removed]"
          },
          "metadata": {}
        }
      ],
      "execution_count": 26
    },
    {
      "metadata": {
        "ExecuteTime": {
          "end_time": "2024-10-13T19:16:27.995432Z",
          "start_time": "2024-10-13T18:53:41.589296Z"
        },
        "colab": {
          "base_uri": "https://localhost:8080/"
        },
        "id": "93f6b7a51c165c93",
        "outputId": "a2dd3ac6-2c42-440f-940f-2c17647fd0c0"
      },
      "cell_type": "code",
      "source": [
        "portfolio = pnl_hedge + european_call.price().T.squeeze(1) * np.exp(RF_RATE * european_call.time_till_maturity) - pnl_opt\n",
        "portfolio.mean(), portfolio.std()"
      ],
      "id": "93f6b7a51c165c93",
      "outputs": [
        {
          "output_type": "execute_result",
          "data": {
            "text/plain": [
              "(0.06278476605126286, 0.021092827811504497)"
            ]
          },
          "metadata": {},
          "execution_count": 27
        }
      ],
      "execution_count": 27
    },
    {
      "metadata": {
        "ExecuteTime": {
          "end_time": "2024-10-13T19:16:27.995664Z",
          "start_time": "2024-10-13T19:00:59.022014Z"
        },
        "colab": {
          "base_uri": "https://localhost:8080/"
        },
        "id": "890b878f9f1ba159",
        "outputId": "a8329eb9-6cdf-4102-ae7c-246887836021"
      },
      "cell_type": "code",
      "source": [
        "european_call.delta()"
      ],
      "id": "890b878f9f1ba159",
      "outputs": [
        {
          "output_type": "execute_result",
          "data": {
            "text/plain": [
              "array([[0.66749723]])"
            ]
          },
          "metadata": {},
          "execution_count": 28
        }
      ],
      "execution_count": 28
    },
    {
      "metadata": {
        "ExecuteTime": {
          "end_time": "2024-10-13T19:16:27.995766Z",
          "start_time": "2024-10-13T19:01:09.529421Z"
        },
        "colab": {
          "base_uri": "https://localhost:8080/"
        },
        "id": "f8fd17fa44364b91",
        "outputId": "8d61a90f-1ac9-4f40-8ff9-801aa71d57e5"
      },
      "cell_type": "code",
      "source": [
        "0.6 * RF_RATE * european_call.time_till_maturity"
      ],
      "id": "f8fd17fa44364b91",
      "outputs": [
        {
          "output_type": "execute_result",
          "data": {
            "text/plain": [
              "0.05399999999999999"
            ]
          },
          "metadata": {},
          "execution_count": 29
        }
      ],
      "execution_count": 29
    },
    {
      "metadata": {
        "id": "e6e7e87db8a071c5"
      },
      "cell_type": "code",
      "outputs": [],
      "execution_count": 29,
      "source": [],
      "id": "e6e7e87db8a071c5"
    }
  ],
  "metadata": {
    "kernelspec": {
      "display_name": "Python 3",
      "name": "python3"
    },
    "language_info": {
      "codemirror_mode": {
        "name": "ipython",
        "version": 2
      },
      "file_extension": ".py",
      "mimetype": "text/x-python",
      "name": "python",
      "nbconvert_exporter": "python",
      "pygments_lexer": "ipython2",
      "version": "2.7.6"
    },
    "colab": {
      "provenance": [],
      "machine_shape": "hm"
    }
  },
  "nbformat": 4,
  "nbformat_minor": 5
}